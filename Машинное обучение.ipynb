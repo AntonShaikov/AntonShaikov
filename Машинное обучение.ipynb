{
 "cells": [
  {
   "cell_type": "markdown",
   "metadata": {},
   "source": [
    "# Рекомендация тарифов"
   ]
  },
  {
   "cell_type": "markdown",
   "metadata": {},
   "source": [
    "В вашем распоряжении данные о поведении клиентов, которые уже перешли на эти тарифы (из проекта курса «Статистический анализ данных»). Нужно построить модель для задачи классификации, которая выберет подходящий тариф. Предобработка данных не понадобится — вы её уже сделали.\n",
    "\n",
    "Постройте модель с максимально большим значением *accuracy*. Чтобы сдать проект успешно, нужно довести долю правильных ответов по крайней мере до 0.75. Проверьте *accuracy* на тестовой выборке самостоятельно."
   ]
  },
  {
   "cell_type": "markdown",
   "metadata": {},
   "source": [
    "1. Открываем файл с данными и изучаем его. /datasets/users_behavior.csv\n",
    "2. Разделяем исходные данные на обучающую, валидационную и тестовую выборки.\n",
    "3. Исследуем качество разных моделей, меняя гиперпараметры.\n",
    "4. Проверяем качество модели на тестовой выборке.\n",
    "5. Дополнительное задание: проверяем модели на вменяемость. "
   ]
  },
  {
   "cell_type": "markdown",
   "metadata": {},
   "source": [
    "## Откройте и изучите файл"
   ]
  },
  {
   "cell_type": "code",
   "execution_count": 1,
   "metadata": {},
   "outputs": [
    {
     "data": {
      "text/html": [
       "<div>\n",
       "<style scoped>\n",
       "    .dataframe tbody tr th:only-of-type {\n",
       "        vertical-align: middle;\n",
       "    }\n",
       "\n",
       "    .dataframe tbody tr th {\n",
       "        vertical-align: top;\n",
       "    }\n",
       "\n",
       "    .dataframe thead th {\n",
       "        text-align: right;\n",
       "    }\n",
       "</style>\n",
       "<table border=\"1\" class=\"dataframe\">\n",
       "  <thead>\n",
       "    <tr style=\"text-align: right;\">\n",
       "      <th></th>\n",
       "      <th>calls</th>\n",
       "      <th>minutes</th>\n",
       "      <th>messages</th>\n",
       "      <th>mb_used</th>\n",
       "      <th>is_ultra</th>\n",
       "    </tr>\n",
       "  </thead>\n",
       "  <tbody>\n",
       "    <tr>\n",
       "      <td>0</td>\n",
       "      <td>40.0</td>\n",
       "      <td>311.90</td>\n",
       "      <td>83.0</td>\n",
       "      <td>19915.42</td>\n",
       "      <td>0</td>\n",
       "    </tr>\n",
       "    <tr>\n",
       "      <td>1</td>\n",
       "      <td>85.0</td>\n",
       "      <td>516.75</td>\n",
       "      <td>56.0</td>\n",
       "      <td>22696.96</td>\n",
       "      <td>0</td>\n",
       "    </tr>\n",
       "    <tr>\n",
       "      <td>2</td>\n",
       "      <td>77.0</td>\n",
       "      <td>467.66</td>\n",
       "      <td>86.0</td>\n",
       "      <td>21060.45</td>\n",
       "      <td>0</td>\n",
       "    </tr>\n",
       "    <tr>\n",
       "      <td>3</td>\n",
       "      <td>106.0</td>\n",
       "      <td>745.53</td>\n",
       "      <td>81.0</td>\n",
       "      <td>8437.39</td>\n",
       "      <td>1</td>\n",
       "    </tr>\n",
       "    <tr>\n",
       "      <td>4</td>\n",
       "      <td>66.0</td>\n",
       "      <td>418.74</td>\n",
       "      <td>1.0</td>\n",
       "      <td>14502.75</td>\n",
       "      <td>0</td>\n",
       "    </tr>\n",
       "    <tr>\n",
       "      <td>...</td>\n",
       "      <td>...</td>\n",
       "      <td>...</td>\n",
       "      <td>...</td>\n",
       "      <td>...</td>\n",
       "      <td>...</td>\n",
       "    </tr>\n",
       "    <tr>\n",
       "      <td>3209</td>\n",
       "      <td>122.0</td>\n",
       "      <td>910.98</td>\n",
       "      <td>20.0</td>\n",
       "      <td>35124.90</td>\n",
       "      <td>1</td>\n",
       "    </tr>\n",
       "    <tr>\n",
       "      <td>3210</td>\n",
       "      <td>25.0</td>\n",
       "      <td>190.36</td>\n",
       "      <td>0.0</td>\n",
       "      <td>3275.61</td>\n",
       "      <td>0</td>\n",
       "    </tr>\n",
       "    <tr>\n",
       "      <td>3211</td>\n",
       "      <td>97.0</td>\n",
       "      <td>634.44</td>\n",
       "      <td>70.0</td>\n",
       "      <td>13974.06</td>\n",
       "      <td>0</td>\n",
       "    </tr>\n",
       "    <tr>\n",
       "      <td>3212</td>\n",
       "      <td>64.0</td>\n",
       "      <td>462.32</td>\n",
       "      <td>90.0</td>\n",
       "      <td>31239.78</td>\n",
       "      <td>0</td>\n",
       "    </tr>\n",
       "    <tr>\n",
       "      <td>3213</td>\n",
       "      <td>80.0</td>\n",
       "      <td>566.09</td>\n",
       "      <td>6.0</td>\n",
       "      <td>29480.52</td>\n",
       "      <td>1</td>\n",
       "    </tr>\n",
       "  </tbody>\n",
       "</table>\n",
       "<p>3214 rows × 5 columns</p>\n",
       "</div>"
      ],
      "text/plain": [
       "      calls  minutes  messages   mb_used  is_ultra\n",
       "0      40.0   311.90      83.0  19915.42         0\n",
       "1      85.0   516.75      56.0  22696.96         0\n",
       "2      77.0   467.66      86.0  21060.45         0\n",
       "3     106.0   745.53      81.0   8437.39         1\n",
       "4      66.0   418.74       1.0  14502.75         0\n",
       "...     ...      ...       ...       ...       ...\n",
       "3209  122.0   910.98      20.0  35124.90         1\n",
       "3210   25.0   190.36       0.0   3275.61         0\n",
       "3211   97.0   634.44      70.0  13974.06         0\n",
       "3212   64.0   462.32      90.0  31239.78         0\n",
       "3213   80.0   566.09       6.0  29480.52         1\n",
       "\n",
       "[3214 rows x 5 columns]"
      ]
     },
     "execution_count": 1,
     "metadata": {},
     "output_type": "execute_result"
    }
   ],
   "source": [
    "import pandas as pd\n",
    "from sklearn.model_selection import train_test_split\n",
    "from sklearn.tree import DecisionTreeClassifier\n",
    "from sklearn.ensemble import RandomForestClassifier\n",
    "from sklearn.linear_model import LogisticRegression\n",
    "from sklearn.metrics import accuracy_score\n",
    "df = pd.read_csv('/datasets/users_behavior.csv')\n",
    "df"
   ]
  },
  {
   "cell_type": "markdown",
   "metadata": {},
   "source": [
    "Открываем файл и просматриваем таблицу. В столбце 'is_ultra' будет как признак. Считаем что у нас бинарная классификация."
   ]
  },
  {
   "cell_type": "code",
   "execution_count": 2,
   "metadata": {},
   "outputs": [
    {
     "name": "stdout",
     "output_type": "stream",
     "text": [
      "(3214, 4)\n",
      "(3214,)\n"
     ]
    }
   ],
   "source": [
    "features = df.drop(['is_ultra'], axis=1 )\n",
    "target = df['is_ultra']\n",
    "\n",
    "print(features.shape)\n",
    "print(target.shape)"
   ]
  },
  {
   "cell_type": "markdown",
   "metadata": {},
   "source": [
    "Отделяем признак от остальных данных."
   ]
  },
  {
   "cell_type": "markdown",
   "metadata": {},
   "source": [
    "## Разбейте данные на выборки"
   ]
  },
  {
   "cell_type": "code",
   "execution_count": 3,
   "metadata": {},
   "outputs": [
    {
     "name": "stdout",
     "output_type": "stream",
     "text": [
      "(2571, 4)\n",
      "(643, 4)\n"
     ]
    }
   ],
   "source": [
    "features_df, features_valid, target_df, target_valid = train_test_split(features, target, test_size = 0.2, random_state=12345)\n",
    "\n",
    "print(features_df.shape)\n",
    "print(features_valid.shape)"
   ]
  },
  {
   "cell_type": "code",
   "execution_count": 4,
   "metadata": {},
   "outputs": [
    {
     "name": "stdout",
     "output_type": "stream",
     "text": [
      "(1928, 4)\n",
      "(643, 4)\n"
     ]
    }
   ],
   "source": [
    "features_train, features_test, target_train, target_test = train_test_split(features_df, target_df, test_size = 0.25, random_state=12345)\n",
    "\n",
    "print(features_train.shape)\n",
    "print(features_test.shape)"
   ]
  },
  {
   "cell_type": "markdown",
   "metadata": {},
   "source": [
    "Разбиваем данные на выборки."
   ]
  },
  {
   "cell_type": "markdown",
   "metadata": {},
   "source": [
    "## Исследуйте модели"
   ]
  },
  {
   "cell_type": "code",
   "execution_count": 5,
   "metadata": {},
   "outputs": [
    {
     "name": "stdout",
     "output_type": "stream",
     "text": [
      "max_depth = 1 : 0.7480559875583204\n",
      "max_depth = 2 : 0.7838258164852255\n",
      "max_depth = 3 : 0.7869362363919129\n",
      "max_depth = 4 : 0.7869362363919129\n",
      "max_depth = 5 : 0.7884914463452566\n"
     ]
    }
   ],
   "source": [
    "for depth in range(1, 6):\n",
    "    model = DecisionTreeClassifier(random_state = 12345, max_depth=depth)\n",
    "    model.fit(features_train, target_train)\n",
    "    predictions_valid  = model.predict(features_valid)\n",
    "    print(\"max_depth =\", depth, \": \", end='')\n",
    "    print(accuracy_score(target_valid, predictions_valid))"
   ]
  },
  {
   "cell_type": "markdown",
   "metadata": {},
   "source": [
    "Исследуем модель Дерева Решений."
   ]
  },
  {
   "cell_type": "code",
   "execution_count": 6,
   "metadata": {},
   "outputs": [
    {
     "name": "stdout",
     "output_type": "stream",
     "text": [
      "Accuracy наилучшей модели на валидационной выборке: 0.7869362363919129\n"
     ]
    }
   ],
   "source": [
    "best_model = None\n",
    "best_result = 0\n",
    "for est in range(1, 11):\n",
    "    model = RandomForestClassifier(random_state=12345, n_estimators=est) \n",
    "    model.fit(features_train, target_train)\n",
    "    result = model.score(features_valid, target_valid) \n",
    "    if result > best_result:\n",
    "        best_model = model \n",
    "        best_result = result\n",
    "\n",
    "print(\"Accuracy наилучшей модели на валидационной выборке:\", best_result)"
   ]
  },
  {
   "cell_type": "markdown",
   "metadata": {},
   "source": [
    "Модель Случайный Лес."
   ]
  },
  {
   "cell_type": "code",
   "execution_count": 7,
   "metadata": {},
   "outputs": [
    {
     "name": "stdout",
     "output_type": "stream",
     "text": [
      "Accuracy модели логистической регрессии на валидационной выборке: 0.702954898911353\n"
     ]
    },
    {
     "name": "stderr",
     "output_type": "stream",
     "text": [
      "/opt/conda/lib/python3.7/site-packages/sklearn/linear_model/logistic.py:432: FutureWarning: Default solver will be changed to 'lbfgs' in 0.22. Specify a solver to silence this warning.\n",
      "  FutureWarning)\n"
     ]
    }
   ],
   "source": [
    "model = LogisticRegression(random_state=12345)\n",
    "model.fit(features_train, target_train)\n",
    "result = model.score(features_valid, target_valid) \n",
    "\n",
    "print(\"Accuracy модели логистической регрессии на валидационной выборке:\", result)"
   ]
  },
  {
   "cell_type": "markdown",
   "metadata": {},
   "source": [
    "Логистическая Регрессия."
   ]
  },
  {
   "cell_type": "markdown",
   "metadata": {},
   "source": [
    "Логистическая регресиия оказалась саммая непродуктивная. Останавливаем свой выбор на модели Дерева Решений."
   ]
  },
  {
   "cell_type": "markdown",
   "metadata": {},
   "source": [
    "## Проверьте модель на тестовой выборке"
   ]
  },
  {
   "cell_type": "code",
   "execution_count": 9,
   "metadata": {
    "scrolled": true
   },
   "outputs": [
    {
     "name": "stdout",
     "output_type": "stream",
     "text": [
      "accuracy = 0.7651632970451011\n"
     ]
    }
   ],
   "source": [
    "model = DecisionTreeClassifier(random_state = 12345, max_depth=3)\n",
    "model.fit(features_train, target_train)\n",
    "predictions_test  = model.predict(features_test)\n",
    "\n",
    "print('accuracy =' ,accuracy_score(target_test, predictions_test))"
   ]
  },
  {
   "cell_type": "markdown",
   "metadata": {},
   "source": [
    "## (бонус) Проверьте модели на адекватность"
   ]
  },
  {
   "cell_type": "code",
   "execution_count": 10,
   "metadata": {},
   "outputs": [],
   "source": [
    "from sklearn.dummy import DummyClassifier"
   ]
  },
  {
   "cell_type": "code",
   "execution_count": 11,
   "metadata": {},
   "outputs": [],
   "source": [
    "frequent_clf = DummyClassifier(strategy='most_frequent').fit(features_train, target_train)"
   ]
  },
  {
   "cell_type": "code",
   "execution_count": 12,
   "metadata": {},
   "outputs": [],
   "source": [
    "freq_pred = frequent_clf.predict(features_test)"
   ]
  },
  {
   "cell_type": "code",
   "execution_count": 13,
   "metadata": {},
   "outputs": [],
   "source": [
    "uniform_clf = DummyClassifier(strategy='uniform').fit(features_train, target_train)"
   ]
  },
  {
   "cell_type": "code",
   "execution_count": 14,
   "metadata": {},
   "outputs": [],
   "source": [
    "uniform_pred = uniform_clf.predict(features_test)"
   ]
  },
  {
   "cell_type": "code",
   "execution_count": 15,
   "metadata": {},
   "outputs": [
    {
     "data": {
      "text/plain": [
       "0.6889580093312597"
      ]
     },
     "execution_count": 15,
     "metadata": {},
     "output_type": "execute_result"
    }
   ],
   "source": [
    "frequent_clf.score(features_test, target_test)"
   ]
  },
  {
   "cell_type": "code",
   "execution_count": 16,
   "metadata": {},
   "outputs": [
    {
     "data": {
      "text/plain": [
       "0.5038880248833593"
      ]
     },
     "execution_count": 16,
     "metadata": {},
     "output_type": "execute_result"
    }
   ],
   "source": [
    "uniform_clf.score(features_test, target_test)"
   ]
  },
  {
   "cell_type": "markdown",
   "metadata": {},
   "source": [
    "Наша мадель оказалась лучше!"
   ]
  },
  {
   "cell_type": "markdown",
   "metadata": {},
   "source": [
    "## Вывод"
   ]
  },
  {
   "cell_type": "markdown",
   "metadata": {},
   "source": [
    "Мы создали модель по данным оператора \"Мегалайн\". Сначала резделили датасет на 3 части:обучающую(25%), валидационную(25%) и тестовую выборку(50%). Дальше мы исслндовали 3 различные модели меняя гипперпараметры: модель Дерева Решений, Случайный Лес и модель Логистическая Регрессия. Из трех моделей, Логистическая регресиия оказалась саммая непродуктивная. Останавливаем свой выбор на модели Дерева Решений. После мы проверяем выбранную модель на тестовой выборке и получаем accuracy = 0.7651632970451011, при задданом минимальном значении в 0,75. \n",
    "\n",
    "В пункте №5 проверяем нашу модель на аддекватность с помощью DummyClassifier-это классификатор, который делает прогнозы с использованием простых правил.Этот классификатор полезен в качестве простой основы для сравнения с другими (реальными) классификаторами. Не используется его для решения реальных проблем. Как мы смогли пронаблюдать, наша модель намного лучше!"
   ]
  }
 ],
 "metadata": {
  "ExecuteTimeLog": [
   {
    "duration": 698,
    "start_time": "2021-12-01T19:09:24.170Z"
   },
   {
    "duration": 5,
    "start_time": "2021-12-01T19:16:17.819Z"
   },
   {
    "duration": 388,
    "start_time": "2021-12-01T19:29:50.625Z"
   },
   {
    "duration": 480,
    "start_time": "2021-12-01T19:29:55.103Z"
   },
   {
    "duration": 5,
    "start_time": "2021-12-01T19:29:56.271Z"
   },
   {
    "duration": 269,
    "start_time": "2021-12-01T19:29:58.382Z"
   },
   {
    "duration": 6,
    "start_time": "2021-12-01T19:30:13.830Z"
   },
   {
    "duration": 6,
    "start_time": "2021-12-01T19:31:21.263Z"
   },
   {
    "duration": 7,
    "start_time": "2021-12-01T19:37:44.778Z"
   },
   {
    "duration": 7,
    "start_time": "2021-12-01T19:44:18.284Z"
   },
   {
    "duration": 256,
    "start_time": "2021-12-01T19:44:42.731Z"
   },
   {
    "duration": 7,
    "start_time": "2021-12-01T19:45:00.651Z"
   },
   {
    "duration": 53,
    "start_time": "2021-12-01T19:48:05.754Z"
   },
   {
    "duration": 5,
    "start_time": "2021-12-01T19:48:08.120Z"
   },
   {
    "duration": 6,
    "start_time": "2021-12-01T19:48:08.954Z"
   },
   {
    "duration": 7,
    "start_time": "2021-12-01T19:48:09.512Z"
   },
   {
    "duration": 529,
    "start_time": "2021-12-01T19:50:21.847Z"
   },
   {
    "duration": 37,
    "start_time": "2021-12-01T19:50:39.183Z"
   },
   {
    "duration": 5,
    "start_time": "2021-12-01T19:50:41.007Z"
   },
   {
    "duration": 7,
    "start_time": "2021-12-01T19:50:41.478Z"
   },
   {
    "duration": 6,
    "start_time": "2021-12-01T19:50:41.702Z"
   },
   {
    "duration": 234,
    "start_time": "2021-12-01T19:50:42.630Z"
   },
   {
    "duration": 313,
    "start_time": "2021-12-01T19:52:22.525Z"
   },
   {
    "duration": 28,
    "start_time": "2021-12-01T19:52:26.838Z"
   },
   {
    "duration": 5,
    "start_time": "2021-12-01T19:52:27.164Z"
   },
   {
    "duration": 6,
    "start_time": "2021-12-01T19:52:27.716Z"
   },
   {
    "duration": 6,
    "start_time": "2021-12-01T19:52:28.213Z"
   },
   {
    "duration": 12,
    "start_time": "2021-12-01T19:52:29.693Z"
   },
   {
    "duration": 28,
    "start_time": "2021-12-01T19:53:25.492Z"
   },
   {
    "duration": 1451,
    "start_time": "2021-12-02T08:05:58.866Z"
   },
   {
    "duration": 7,
    "start_time": "2021-12-02T08:06:01.872Z"
   },
   {
    "duration": 10,
    "start_time": "2021-12-02T08:06:05.032Z"
   },
   {
    "duration": 10,
    "start_time": "2021-12-02T08:06:06.016Z"
   },
   {
    "duration": 41,
    "start_time": "2021-12-02T08:06:59.551Z"
   },
   {
    "duration": 34,
    "start_time": "2021-12-02T08:07:05.904Z"
   },
   {
    "duration": 6,
    "start_time": "2021-12-02T08:07:06.103Z"
   },
   {
    "duration": 9,
    "start_time": "2021-12-02T08:07:06.847Z"
   },
   {
    "duration": 8,
    "start_time": "2021-12-02T08:07:07.295Z"
   },
   {
    "duration": 40,
    "start_time": "2021-12-02T08:07:10.127Z"
   },
   {
    "duration": 10,
    "start_time": "2021-12-02T08:08:59.662Z"
   },
   {
    "duration": 11,
    "start_time": "2021-12-02T08:09:58.974Z"
   },
   {
    "duration": 12,
    "start_time": "2021-12-02T08:10:08.252Z"
   },
   {
    "duration": 10,
    "start_time": "2021-12-02T08:10:28.140Z"
   },
   {
    "duration": 47,
    "start_time": "2021-12-02T09:25:49.367Z"
   },
   {
    "duration": 13,
    "start_time": "2021-12-02T09:25:53.036Z"
   },
   {
    "duration": 524,
    "start_time": "2021-12-02T09:27:28.179Z"
   },
   {
    "duration": 18,
    "start_time": "2021-12-02T09:32:25.041Z"
   },
   {
    "duration": 35,
    "start_time": "2021-12-02T09:32:58.915Z"
   },
   {
    "duration": 7,
    "start_time": "2021-12-02T09:32:58.954Z"
   },
   {
    "duration": 15,
    "start_time": "2021-12-02T09:32:58.965Z"
   },
   {
    "duration": 23,
    "start_time": "2021-12-02T09:32:58.983Z"
   },
   {
    "duration": 40,
    "start_time": "2021-12-02T09:32:59.009Z"
   },
   {
    "duration": 408,
    "start_time": "2021-12-02T09:32:59.052Z"
   },
   {
    "duration": 98,
    "start_time": "2021-12-02T09:32:59.464Z"
   },
   {
    "duration": -2852,
    "start_time": "2021-12-02T09:33:02.416Z"
   },
   {
    "duration": -2854,
    "start_time": "2021-12-02T09:33:02.420Z"
   },
   {
    "duration": -2868,
    "start_time": "2021-12-02T09:33:02.435Z"
   },
   {
    "duration": -2869,
    "start_time": "2021-12-02T09:33:02.438Z"
   },
   {
    "duration": 18,
    "start_time": "2021-12-02T09:33:09.902Z"
   },
   {
    "duration": 41,
    "start_time": "2021-12-02T09:33:13.713Z"
   },
   {
    "duration": 7,
    "start_time": "2021-12-02T09:33:13.756Z"
   },
   {
    "duration": 15,
    "start_time": "2021-12-02T09:33:13.766Z"
   },
   {
    "duration": 9,
    "start_time": "2021-12-02T09:33:13.787Z"
   },
   {
    "duration": 61,
    "start_time": "2021-12-02T09:33:13.799Z"
   },
   {
    "duration": 547,
    "start_time": "2021-12-02T09:33:13.884Z"
   },
   {
    "duration": 18,
    "start_time": "2021-12-02T09:33:14.434Z"
   },
   {
    "duration": 99,
    "start_time": "2021-12-02T09:33:14.455Z"
   },
   {
    "duration": -2855,
    "start_time": "2021-12-02T09:33:17.412Z"
   },
   {
    "duration": -2857,
    "start_time": "2021-12-02T09:33:17.415Z"
   },
   {
    "duration": 1055,
    "start_time": "2021-12-05T21:12:48.493Z"
   },
   {
    "duration": 5,
    "start_time": "2021-12-05T21:12:49.754Z"
   },
   {
    "duration": 7,
    "start_time": "2021-12-05T21:12:51.799Z"
   },
   {
    "duration": 6,
    "start_time": "2021-12-05T21:12:52.302Z"
   },
   {
    "duration": 25,
    "start_time": "2021-12-05T21:12:53.860Z"
   },
   {
    "duration": 225,
    "start_time": "2021-12-05T21:13:02.623Z"
   },
   {
    "duration": 11,
    "start_time": "2021-12-05T21:13:05.308Z"
   },
   {
    "duration": 8,
    "start_time": "2021-12-05T21:13:51.568Z"
   },
   {
    "duration": 8,
    "start_time": "2021-12-05T21:15:37.733Z"
   },
   {
    "duration": 2,
    "start_time": "2021-12-05T21:30:59.052Z"
   },
   {
    "duration": 4,
    "start_time": "2021-12-05T21:30:59.984Z"
   },
   {
    "duration": 3,
    "start_time": "2021-12-05T21:31:01.602Z"
   },
   {
    "duration": 3,
    "start_time": "2021-12-05T21:31:02.566Z"
   },
   {
    "duration": 2,
    "start_time": "2021-12-05T21:31:03.207Z"
   },
   {
    "duration": 5,
    "start_time": "2021-12-05T21:31:03.775Z"
   },
   {
    "duration": 5,
    "start_time": "2021-12-05T21:32:09.653Z"
   }
  ],
  "kernelspec": {
   "display_name": "Python 3 (ipykernel)",
   "language": "python",
   "name": "python3"
  },
  "language_info": {
   "codemirror_mode": {
    "name": "ipython",
    "version": 3
   },
   "file_extension": ".py",
   "mimetype": "text/x-python",
   "name": "python",
   "nbconvert_exporter": "python",
   "pygments_lexer": "ipython3",
   "version": "3.9.7"
  },
  "toc": {
   "base_numbering": 1,
   "nav_menu": {},
   "number_sections": true,
   "sideBar": true,
   "skip_h1_title": true,
   "title_cell": "Table of Contents",
   "title_sidebar": "Contents",
   "toc_cell": false,
   "toc_position": {},
   "toc_section_display": true,
   "toc_window_display": false
  }
 },
 "nbformat": 4,
 "nbformat_minor": 2
}
