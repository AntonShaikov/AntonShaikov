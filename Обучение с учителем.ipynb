{
 "cells": [
  {
   "cell_type": "markdown",
   "metadata": {},
   "source": [
    "# Отток клиентов"
   ]
  },
  {
   "cell_type": "markdown",
   "metadata": {},
   "source": [
    "Из «Бета-Банка» стали уходить клиенты. Каждый месяц. Немного, но заметно. Банковские маркетологи посчитали: сохранять текущих клиентов дешевле, чем привлекать новых.\n",
    "\n",
    "Нужно спрогнозировать, уйдёт клиент из банка в ближайшее время или нет. Вам предоставлены исторические данные о поведении клиентов и расторжении договоров с банком. \n",
    "\n",
    "Постройте модель с предельно большим значением *F1*-меры. Чтобы сдать проект успешно, нужно довести метрику до 0.59. Проверьте *F1*-меру на тестовой выборке самостоятельно.\n",
    "\n",
    "Дополнительно измеряйте *AUC-ROC*, сравнивайте её значение с *F1*-мерой.\n",
    "\n",
    "Источник данных: [https://www.kaggle.com/barelydedicated/bank-customer-churn-modeling](https://www.kaggle.com/barelydedicated/bank-customer-churn-modeling)"
   ]
  },
  {
   "cell_type": "markdown",
   "metadata": {},
   "source": [
    "## Подготовка данных"
   ]
  },
  {
   "cell_type": "code",
   "execution_count": 394,
   "metadata": {},
   "outputs": [],
   "source": [
    "import pandas as pd\n",
    "from sklearn.model_selection import train_test_split\n",
    "from sklearn.linear_model import LinearRegression\n",
    "from sklearn.tree import DecisionTreeClassifier\n",
    "from sklearn.ensemble import RandomForestClassifier\n",
    "from sklearn.metrics import mean_absolute_error\n",
    "from sklearn.linear_model import LogisticRegression\n",
    "from sklearn.metrics import f1_score\n",
    "from sklearn.metrics import mean_squared_error\n",
    "from sklearn.tree import DecisionTreeRegressor\n",
    "import matplotlib.pyplot as plt\n",
    "from sklearn.metrics import roc_curve\n",
    "from sklearn.metrics import confusion_matrix\n",
    "import numpy as np\n",
    "from sklearn.metrics import precision_score, recall_score\n",
    "from sklearn.preprocessing import StandardScaler\n",
    "from sklearn.utils import shuffle"
   ]
  },
  {
   "cell_type": "code",
   "execution_count": 395,
   "metadata": {},
   "outputs": [
    {
     "data": {
      "text/html": [
       "<div>\n",
       "<style scoped>\n",
       "    .dataframe tbody tr th:only-of-type {\n",
       "        vertical-align: middle;\n",
       "    }\n",
       "\n",
       "    .dataframe tbody tr th {\n",
       "        vertical-align: top;\n",
       "    }\n",
       "\n",
       "    .dataframe thead th {\n",
       "        text-align: right;\n",
       "    }\n",
       "</style>\n",
       "<table border=\"1\" class=\"dataframe\">\n",
       "  <thead>\n",
       "    <tr style=\"text-align: right;\">\n",
       "      <th></th>\n",
       "      <th>RowNumber</th>\n",
       "      <th>CustomerId</th>\n",
       "      <th>Surname</th>\n",
       "      <th>CreditScore</th>\n",
       "      <th>Geography</th>\n",
       "      <th>Gender</th>\n",
       "      <th>Age</th>\n",
       "      <th>Tenure</th>\n",
       "      <th>Balance</th>\n",
       "      <th>NumOfProducts</th>\n",
       "      <th>HasCrCard</th>\n",
       "      <th>IsActiveMember</th>\n",
       "      <th>EstimatedSalary</th>\n",
       "      <th>Exited</th>\n",
       "    </tr>\n",
       "  </thead>\n",
       "  <tbody>\n",
       "    <tr>\n",
       "      <td>0</td>\n",
       "      <td>1</td>\n",
       "      <td>15634602</td>\n",
       "      <td>Hargrave</td>\n",
       "      <td>619</td>\n",
       "      <td>France</td>\n",
       "      <td>Female</td>\n",
       "      <td>42</td>\n",
       "      <td>2.0</td>\n",
       "      <td>0.00</td>\n",
       "      <td>1</td>\n",
       "      <td>1</td>\n",
       "      <td>1</td>\n",
       "      <td>101348.88</td>\n",
       "      <td>1</td>\n",
       "    </tr>\n",
       "    <tr>\n",
       "      <td>1</td>\n",
       "      <td>2</td>\n",
       "      <td>15647311</td>\n",
       "      <td>Hill</td>\n",
       "      <td>608</td>\n",
       "      <td>Spain</td>\n",
       "      <td>Female</td>\n",
       "      <td>41</td>\n",
       "      <td>1.0</td>\n",
       "      <td>83807.86</td>\n",
       "      <td>1</td>\n",
       "      <td>0</td>\n",
       "      <td>1</td>\n",
       "      <td>112542.58</td>\n",
       "      <td>0</td>\n",
       "    </tr>\n",
       "    <tr>\n",
       "      <td>2</td>\n",
       "      <td>3</td>\n",
       "      <td>15619304</td>\n",
       "      <td>Onio</td>\n",
       "      <td>502</td>\n",
       "      <td>France</td>\n",
       "      <td>Female</td>\n",
       "      <td>42</td>\n",
       "      <td>8.0</td>\n",
       "      <td>159660.80</td>\n",
       "      <td>3</td>\n",
       "      <td>1</td>\n",
       "      <td>0</td>\n",
       "      <td>113931.57</td>\n",
       "      <td>1</td>\n",
       "    </tr>\n",
       "    <tr>\n",
       "      <td>3</td>\n",
       "      <td>4</td>\n",
       "      <td>15701354</td>\n",
       "      <td>Boni</td>\n",
       "      <td>699</td>\n",
       "      <td>France</td>\n",
       "      <td>Female</td>\n",
       "      <td>39</td>\n",
       "      <td>1.0</td>\n",
       "      <td>0.00</td>\n",
       "      <td>2</td>\n",
       "      <td>0</td>\n",
       "      <td>0</td>\n",
       "      <td>93826.63</td>\n",
       "      <td>0</td>\n",
       "    </tr>\n",
       "    <tr>\n",
       "      <td>4</td>\n",
       "      <td>5</td>\n",
       "      <td>15737888</td>\n",
       "      <td>Mitchell</td>\n",
       "      <td>850</td>\n",
       "      <td>Spain</td>\n",
       "      <td>Female</td>\n",
       "      <td>43</td>\n",
       "      <td>2.0</td>\n",
       "      <td>125510.82</td>\n",
       "      <td>1</td>\n",
       "      <td>1</td>\n",
       "      <td>1</td>\n",
       "      <td>79084.10</td>\n",
       "      <td>0</td>\n",
       "    </tr>\n",
       "    <tr>\n",
       "      <td>...</td>\n",
       "      <td>...</td>\n",
       "      <td>...</td>\n",
       "      <td>...</td>\n",
       "      <td>...</td>\n",
       "      <td>...</td>\n",
       "      <td>...</td>\n",
       "      <td>...</td>\n",
       "      <td>...</td>\n",
       "      <td>...</td>\n",
       "      <td>...</td>\n",
       "      <td>...</td>\n",
       "      <td>...</td>\n",
       "      <td>...</td>\n",
       "      <td>...</td>\n",
       "    </tr>\n",
       "    <tr>\n",
       "      <td>9995</td>\n",
       "      <td>9996</td>\n",
       "      <td>15606229</td>\n",
       "      <td>Obijiaku</td>\n",
       "      <td>771</td>\n",
       "      <td>France</td>\n",
       "      <td>Male</td>\n",
       "      <td>39</td>\n",
       "      <td>5.0</td>\n",
       "      <td>0.00</td>\n",
       "      <td>2</td>\n",
       "      <td>1</td>\n",
       "      <td>0</td>\n",
       "      <td>96270.64</td>\n",
       "      <td>0</td>\n",
       "    </tr>\n",
       "    <tr>\n",
       "      <td>9996</td>\n",
       "      <td>9997</td>\n",
       "      <td>15569892</td>\n",
       "      <td>Johnstone</td>\n",
       "      <td>516</td>\n",
       "      <td>France</td>\n",
       "      <td>Male</td>\n",
       "      <td>35</td>\n",
       "      <td>10.0</td>\n",
       "      <td>57369.61</td>\n",
       "      <td>1</td>\n",
       "      <td>1</td>\n",
       "      <td>1</td>\n",
       "      <td>101699.77</td>\n",
       "      <td>0</td>\n",
       "    </tr>\n",
       "    <tr>\n",
       "      <td>9997</td>\n",
       "      <td>9998</td>\n",
       "      <td>15584532</td>\n",
       "      <td>Liu</td>\n",
       "      <td>709</td>\n",
       "      <td>France</td>\n",
       "      <td>Female</td>\n",
       "      <td>36</td>\n",
       "      <td>7.0</td>\n",
       "      <td>0.00</td>\n",
       "      <td>1</td>\n",
       "      <td>0</td>\n",
       "      <td>1</td>\n",
       "      <td>42085.58</td>\n",
       "      <td>1</td>\n",
       "    </tr>\n",
       "    <tr>\n",
       "      <td>9998</td>\n",
       "      <td>9999</td>\n",
       "      <td>15682355</td>\n",
       "      <td>Sabbatini</td>\n",
       "      <td>772</td>\n",
       "      <td>Germany</td>\n",
       "      <td>Male</td>\n",
       "      <td>42</td>\n",
       "      <td>3.0</td>\n",
       "      <td>75075.31</td>\n",
       "      <td>2</td>\n",
       "      <td>1</td>\n",
       "      <td>0</td>\n",
       "      <td>92888.52</td>\n",
       "      <td>1</td>\n",
       "    </tr>\n",
       "    <tr>\n",
       "      <td>9999</td>\n",
       "      <td>10000</td>\n",
       "      <td>15628319</td>\n",
       "      <td>Walker</td>\n",
       "      <td>792</td>\n",
       "      <td>France</td>\n",
       "      <td>Female</td>\n",
       "      <td>28</td>\n",
       "      <td>NaN</td>\n",
       "      <td>130142.79</td>\n",
       "      <td>1</td>\n",
       "      <td>1</td>\n",
       "      <td>0</td>\n",
       "      <td>38190.78</td>\n",
       "      <td>0</td>\n",
       "    </tr>\n",
       "  </tbody>\n",
       "</table>\n",
       "<p>10000 rows × 14 columns</p>\n",
       "</div>"
      ],
      "text/plain": [
       "      RowNumber  CustomerId    Surname  CreditScore Geography  Gender  Age  \\\n",
       "0             1    15634602   Hargrave          619    France  Female   42   \n",
       "1             2    15647311       Hill          608     Spain  Female   41   \n",
       "2             3    15619304       Onio          502    France  Female   42   \n",
       "3             4    15701354       Boni          699    France  Female   39   \n",
       "4             5    15737888   Mitchell          850     Spain  Female   43   \n",
       "...         ...         ...        ...          ...       ...     ...  ...   \n",
       "9995       9996    15606229   Obijiaku          771    France    Male   39   \n",
       "9996       9997    15569892  Johnstone          516    France    Male   35   \n",
       "9997       9998    15584532        Liu          709    France  Female   36   \n",
       "9998       9999    15682355  Sabbatini          772   Germany    Male   42   \n",
       "9999      10000    15628319     Walker          792    France  Female   28   \n",
       "\n",
       "      Tenure    Balance  NumOfProducts  HasCrCard  IsActiveMember  \\\n",
       "0        2.0       0.00              1          1               1   \n",
       "1        1.0   83807.86              1          0               1   \n",
       "2        8.0  159660.80              3          1               0   \n",
       "3        1.0       0.00              2          0               0   \n",
       "4        2.0  125510.82              1          1               1   \n",
       "...      ...        ...            ...        ...             ...   \n",
       "9995     5.0       0.00              2          1               0   \n",
       "9996    10.0   57369.61              1          1               1   \n",
       "9997     7.0       0.00              1          0               1   \n",
       "9998     3.0   75075.31              2          1               0   \n",
       "9999     NaN  130142.79              1          1               0   \n",
       "\n",
       "      EstimatedSalary  Exited  \n",
       "0           101348.88       1  \n",
       "1           112542.58       0  \n",
       "2           113931.57       1  \n",
       "3            93826.63       0  \n",
       "4            79084.10       0  \n",
       "...               ...     ...  \n",
       "9995         96270.64       0  \n",
       "9996        101699.77       0  \n",
       "9997         42085.58       1  \n",
       "9998         92888.52       1  \n",
       "9999         38190.78       0  \n",
       "\n",
       "[10000 rows x 14 columns]"
      ]
     },
     "execution_count": 395,
     "metadata": {},
     "output_type": "execute_result"
    }
   ],
   "source": [
    "data = pd.read_csv('/datasets/Churn.csv')\n",
    "data"
   ]
  },
  {
   "cell_type": "markdown",
   "metadata": {},
   "source": [
    "Просматриваем датасет. Целевой признак столбец 'Exited'. Удаляем ненужный столбцы 'Surname', 'RowNumber', 'CustomerId'."
   ]
  },
  {
   "cell_type": "code",
   "execution_count": 396,
   "metadata": {},
   "outputs": [
    {
     "data": {
      "text/html": [
       "<div>\n",
       "<style scoped>\n",
       "    .dataframe tbody tr th:only-of-type {\n",
       "        vertical-align: middle;\n",
       "    }\n",
       "\n",
       "    .dataframe tbody tr th {\n",
       "        vertical-align: top;\n",
       "    }\n",
       "\n",
       "    .dataframe thead th {\n",
       "        text-align: right;\n",
       "    }\n",
       "</style>\n",
       "<table border=\"1\" class=\"dataframe\">\n",
       "  <thead>\n",
       "    <tr style=\"text-align: right;\">\n",
       "      <th></th>\n",
       "      <th>CreditScore</th>\n",
       "      <th>Geography</th>\n",
       "      <th>Gender</th>\n",
       "      <th>Age</th>\n",
       "      <th>Tenure</th>\n",
       "      <th>Balance</th>\n",
       "      <th>NumOfProducts</th>\n",
       "      <th>HasCrCard</th>\n",
       "      <th>IsActiveMember</th>\n",
       "      <th>EstimatedSalary</th>\n",
       "      <th>Exited</th>\n",
       "    </tr>\n",
       "  </thead>\n",
       "  <tbody>\n",
       "    <tr>\n",
       "      <td>0</td>\n",
       "      <td>619</td>\n",
       "      <td>France</td>\n",
       "      <td>Female</td>\n",
       "      <td>42</td>\n",
       "      <td>2.0</td>\n",
       "      <td>0.00</td>\n",
       "      <td>1</td>\n",
       "      <td>1</td>\n",
       "      <td>1</td>\n",
       "      <td>101348.88</td>\n",
       "      <td>1</td>\n",
       "    </tr>\n",
       "    <tr>\n",
       "      <td>1</td>\n",
       "      <td>608</td>\n",
       "      <td>Spain</td>\n",
       "      <td>Female</td>\n",
       "      <td>41</td>\n",
       "      <td>1.0</td>\n",
       "      <td>83807.86</td>\n",
       "      <td>1</td>\n",
       "      <td>0</td>\n",
       "      <td>1</td>\n",
       "      <td>112542.58</td>\n",
       "      <td>0</td>\n",
       "    </tr>\n",
       "    <tr>\n",
       "      <td>2</td>\n",
       "      <td>502</td>\n",
       "      <td>France</td>\n",
       "      <td>Female</td>\n",
       "      <td>42</td>\n",
       "      <td>8.0</td>\n",
       "      <td>159660.80</td>\n",
       "      <td>3</td>\n",
       "      <td>1</td>\n",
       "      <td>0</td>\n",
       "      <td>113931.57</td>\n",
       "      <td>1</td>\n",
       "    </tr>\n",
       "    <tr>\n",
       "      <td>3</td>\n",
       "      <td>699</td>\n",
       "      <td>France</td>\n",
       "      <td>Female</td>\n",
       "      <td>39</td>\n",
       "      <td>1.0</td>\n",
       "      <td>0.00</td>\n",
       "      <td>2</td>\n",
       "      <td>0</td>\n",
       "      <td>0</td>\n",
       "      <td>93826.63</td>\n",
       "      <td>0</td>\n",
       "    </tr>\n",
       "    <tr>\n",
       "      <td>4</td>\n",
       "      <td>850</td>\n",
       "      <td>Spain</td>\n",
       "      <td>Female</td>\n",
       "      <td>43</td>\n",
       "      <td>2.0</td>\n",
       "      <td>125510.82</td>\n",
       "      <td>1</td>\n",
       "      <td>1</td>\n",
       "      <td>1</td>\n",
       "      <td>79084.10</td>\n",
       "      <td>0</td>\n",
       "    </tr>\n",
       "    <tr>\n",
       "      <td>...</td>\n",
       "      <td>...</td>\n",
       "      <td>...</td>\n",
       "      <td>...</td>\n",
       "      <td>...</td>\n",
       "      <td>...</td>\n",
       "      <td>...</td>\n",
       "      <td>...</td>\n",
       "      <td>...</td>\n",
       "      <td>...</td>\n",
       "      <td>...</td>\n",
       "      <td>...</td>\n",
       "    </tr>\n",
       "    <tr>\n",
       "      <td>9995</td>\n",
       "      <td>771</td>\n",
       "      <td>France</td>\n",
       "      <td>Male</td>\n",
       "      <td>39</td>\n",
       "      <td>5.0</td>\n",
       "      <td>0.00</td>\n",
       "      <td>2</td>\n",
       "      <td>1</td>\n",
       "      <td>0</td>\n",
       "      <td>96270.64</td>\n",
       "      <td>0</td>\n",
       "    </tr>\n",
       "    <tr>\n",
       "      <td>9996</td>\n",
       "      <td>516</td>\n",
       "      <td>France</td>\n",
       "      <td>Male</td>\n",
       "      <td>35</td>\n",
       "      <td>10.0</td>\n",
       "      <td>57369.61</td>\n",
       "      <td>1</td>\n",
       "      <td>1</td>\n",
       "      <td>1</td>\n",
       "      <td>101699.77</td>\n",
       "      <td>0</td>\n",
       "    </tr>\n",
       "    <tr>\n",
       "      <td>9997</td>\n",
       "      <td>709</td>\n",
       "      <td>France</td>\n",
       "      <td>Female</td>\n",
       "      <td>36</td>\n",
       "      <td>7.0</td>\n",
       "      <td>0.00</td>\n",
       "      <td>1</td>\n",
       "      <td>0</td>\n",
       "      <td>1</td>\n",
       "      <td>42085.58</td>\n",
       "      <td>1</td>\n",
       "    </tr>\n",
       "    <tr>\n",
       "      <td>9998</td>\n",
       "      <td>772</td>\n",
       "      <td>Germany</td>\n",
       "      <td>Male</td>\n",
       "      <td>42</td>\n",
       "      <td>3.0</td>\n",
       "      <td>75075.31</td>\n",
       "      <td>2</td>\n",
       "      <td>1</td>\n",
       "      <td>0</td>\n",
       "      <td>92888.52</td>\n",
       "      <td>1</td>\n",
       "    </tr>\n",
       "    <tr>\n",
       "      <td>9999</td>\n",
       "      <td>792</td>\n",
       "      <td>France</td>\n",
       "      <td>Female</td>\n",
       "      <td>28</td>\n",
       "      <td>NaN</td>\n",
       "      <td>130142.79</td>\n",
       "      <td>1</td>\n",
       "      <td>1</td>\n",
       "      <td>0</td>\n",
       "      <td>38190.78</td>\n",
       "      <td>0</td>\n",
       "    </tr>\n",
       "  </tbody>\n",
       "</table>\n",
       "<p>10000 rows × 11 columns</p>\n",
       "</div>"
      ],
      "text/plain": [
       "      CreditScore Geography  Gender  Age  Tenure    Balance  NumOfProducts  \\\n",
       "0             619    France  Female   42     2.0       0.00              1   \n",
       "1             608     Spain  Female   41     1.0   83807.86              1   \n",
       "2             502    France  Female   42     8.0  159660.80              3   \n",
       "3             699    France  Female   39     1.0       0.00              2   \n",
       "4             850     Spain  Female   43     2.0  125510.82              1   \n",
       "...           ...       ...     ...  ...     ...        ...            ...   \n",
       "9995          771    France    Male   39     5.0       0.00              2   \n",
       "9996          516    France    Male   35    10.0   57369.61              1   \n",
       "9997          709    France  Female   36     7.0       0.00              1   \n",
       "9998          772   Germany    Male   42     3.0   75075.31              2   \n",
       "9999          792    France  Female   28     NaN  130142.79              1   \n",
       "\n",
       "      HasCrCard  IsActiveMember  EstimatedSalary  Exited  \n",
       "0             1               1        101348.88       1  \n",
       "1             0               1        112542.58       0  \n",
       "2             1               0        113931.57       1  \n",
       "3             0               0         93826.63       0  \n",
       "4             1               1         79084.10       0  \n",
       "...         ...             ...              ...     ...  \n",
       "9995          1               0         96270.64       0  \n",
       "9996          1               1        101699.77       0  \n",
       "9997          0               1         42085.58       1  \n",
       "9998          1               0         92888.52       1  \n",
       "9999          1               0         38190.78       0  \n",
       "\n",
       "[10000 rows x 11 columns]"
      ]
     },
     "execution_count": 396,
     "metadata": {},
     "output_type": "execute_result"
    }
   ],
   "source": [
    "data = data.drop(['Surname'], axis=1)\n",
    "data = data.drop(['RowNumber'], axis=1)\n",
    "data = data.drop(['CustomerId'], axis=1)\n",
    "data"
   ]
  },
  {
   "cell_type": "code",
   "execution_count": 397,
   "metadata": {},
   "outputs": [
    {
     "data": {
      "text/plain": [
       "CreditScore          0\n",
       "Geography            0\n",
       "Gender               0\n",
       "Age                  0\n",
       "Tenure             909\n",
       "Balance              0\n",
       "NumOfProducts        0\n",
       "HasCrCard            0\n",
       "IsActiveMember       0\n",
       "EstimatedSalary      0\n",
       "Exited               0\n",
       "dtype: int64"
      ]
     },
     "execution_count": 397,
     "metadata": {},
     "output_type": "execute_result"
    }
   ],
   "source": [
    "data.isnull().sum()"
   ]
  },
  {
   "cell_type": "markdown",
   "metadata": {},
   "source": [
    "Находим пропуски в столбце 'Tenure'"
   ]
  },
  {
   "cell_type": "code",
   "execution_count": 398,
   "metadata": {},
   "outputs": [],
   "source": [
    "data['Tenure'] = data['Tenure'].fillna(-1)"
   ]
  },
  {
   "cell_type": "code",
   "execution_count": 399,
   "metadata": {},
   "outputs": [
    {
     "data": {
      "text/plain": [
       "CreditScore        0\n",
       "Geography          0\n",
       "Gender             0\n",
       "Age                0\n",
       "Tenure             0\n",
       "Balance            0\n",
       "NumOfProducts      0\n",
       "HasCrCard          0\n",
       "IsActiveMember     0\n",
       "EstimatedSalary    0\n",
       "Exited             0\n",
       "dtype: int64"
      ]
     },
     "execution_count": 399,
     "metadata": {},
     "output_type": "execute_result"
    }
   ],
   "source": [
    "data.isnull().sum()"
   ]
  },
  {
   "cell_type": "code",
   "execution_count": 400,
   "metadata": {},
   "outputs": [
    {
     "name": "stdout",
     "output_type": "stream",
     "text": [
      "<class 'pandas.core.frame.DataFrame'>\n",
      "RangeIndex: 10000 entries, 0 to 9999\n",
      "Data columns (total 11 columns):\n",
      "CreditScore        10000 non-null int64\n",
      "Geography          10000 non-null object\n",
      "Gender             10000 non-null object\n",
      "Age                10000 non-null int64\n",
      "Tenure             10000 non-null float64\n",
      "Balance            10000 non-null float64\n",
      "NumOfProducts      10000 non-null int64\n",
      "HasCrCard          10000 non-null int64\n",
      "IsActiveMember     10000 non-null int64\n",
      "EstimatedSalary    10000 non-null float64\n",
      "Exited             10000 non-null int64\n",
      "dtypes: float64(3), int64(6), object(2)\n",
      "memory usage: 859.5+ KB\n"
     ]
    }
   ],
   "source": [
    "data.info()"
   ]
  },
  {
   "cell_type": "markdown",
   "metadata": {},
   "source": [
    "Заменили отсутствующие значеия на -1."
   ]
  },
  {
   "cell_type": "code",
   "execution_count": 401,
   "metadata": {},
   "outputs": [
    {
     "data": {
      "text/html": [
       "<div>\n",
       "<style scoped>\n",
       "    .dataframe tbody tr th:only-of-type {\n",
       "        vertical-align: middle;\n",
       "    }\n",
       "\n",
       "    .dataframe tbody tr th {\n",
       "        vertical-align: top;\n",
       "    }\n",
       "\n",
       "    .dataframe thead th {\n",
       "        text-align: right;\n",
       "    }\n",
       "</style>\n",
       "<table border=\"1\" class=\"dataframe\">\n",
       "  <thead>\n",
       "    <tr style=\"text-align: right;\">\n",
       "      <th></th>\n",
       "      <th>CreditScore</th>\n",
       "      <th>Age</th>\n",
       "      <th>Tenure</th>\n",
       "      <th>Balance</th>\n",
       "      <th>NumOfProducts</th>\n",
       "      <th>HasCrCard</th>\n",
       "      <th>IsActiveMember</th>\n",
       "      <th>EstimatedSalary</th>\n",
       "      <th>Exited</th>\n",
       "      <th>Geography_Germany</th>\n",
       "      <th>Geography_Spain</th>\n",
       "      <th>Gender_Male</th>\n",
       "    </tr>\n",
       "  </thead>\n",
       "  <tbody>\n",
       "    <tr>\n",
       "      <td>0</td>\n",
       "      <td>619</td>\n",
       "      <td>42</td>\n",
       "      <td>2.0</td>\n",
       "      <td>0.00</td>\n",
       "      <td>1</td>\n",
       "      <td>1</td>\n",
       "      <td>1</td>\n",
       "      <td>101348.88</td>\n",
       "      <td>1</td>\n",
       "      <td>0</td>\n",
       "      <td>0</td>\n",
       "      <td>0</td>\n",
       "    </tr>\n",
       "    <tr>\n",
       "      <td>1</td>\n",
       "      <td>608</td>\n",
       "      <td>41</td>\n",
       "      <td>1.0</td>\n",
       "      <td>83807.86</td>\n",
       "      <td>1</td>\n",
       "      <td>0</td>\n",
       "      <td>1</td>\n",
       "      <td>112542.58</td>\n",
       "      <td>0</td>\n",
       "      <td>0</td>\n",
       "      <td>1</td>\n",
       "      <td>0</td>\n",
       "    </tr>\n",
       "    <tr>\n",
       "      <td>2</td>\n",
       "      <td>502</td>\n",
       "      <td>42</td>\n",
       "      <td>8.0</td>\n",
       "      <td>159660.80</td>\n",
       "      <td>3</td>\n",
       "      <td>1</td>\n",
       "      <td>0</td>\n",
       "      <td>113931.57</td>\n",
       "      <td>1</td>\n",
       "      <td>0</td>\n",
       "      <td>0</td>\n",
       "      <td>0</td>\n",
       "    </tr>\n",
       "    <tr>\n",
       "      <td>3</td>\n",
       "      <td>699</td>\n",
       "      <td>39</td>\n",
       "      <td>1.0</td>\n",
       "      <td>0.00</td>\n",
       "      <td>2</td>\n",
       "      <td>0</td>\n",
       "      <td>0</td>\n",
       "      <td>93826.63</td>\n",
       "      <td>0</td>\n",
       "      <td>0</td>\n",
       "      <td>0</td>\n",
       "      <td>0</td>\n",
       "    </tr>\n",
       "    <tr>\n",
       "      <td>4</td>\n",
       "      <td>850</td>\n",
       "      <td>43</td>\n",
       "      <td>2.0</td>\n",
       "      <td>125510.82</td>\n",
       "      <td>1</td>\n",
       "      <td>1</td>\n",
       "      <td>1</td>\n",
       "      <td>79084.10</td>\n",
       "      <td>0</td>\n",
       "      <td>0</td>\n",
       "      <td>1</td>\n",
       "      <td>0</td>\n",
       "    </tr>\n",
       "  </tbody>\n",
       "</table>\n",
       "</div>"
      ],
      "text/plain": [
       "   CreditScore  Age  Tenure    Balance  NumOfProducts  HasCrCard  \\\n",
       "0          619   42     2.0       0.00              1          1   \n",
       "1          608   41     1.0   83807.86              1          0   \n",
       "2          502   42     8.0  159660.80              3          1   \n",
       "3          699   39     1.0       0.00              2          0   \n",
       "4          850   43     2.0  125510.82              1          1   \n",
       "\n",
       "   IsActiveMember  EstimatedSalary  Exited  Geography_Germany  \\\n",
       "0               1        101348.88       1                  0   \n",
       "1               1        112542.58       0                  0   \n",
       "2               0        113931.57       1                  0   \n",
       "3               0         93826.63       0                  0   \n",
       "4               1         79084.10       0                  0   \n",
       "\n",
       "   Geography_Spain  Gender_Male  \n",
       "0                0            0  \n",
       "1                1            0  \n",
       "2                0            0  \n",
       "3                0            0  \n",
       "4                1            0  "
      ]
     },
     "execution_count": 401,
     "metadata": {},
     "output_type": "execute_result"
    }
   ],
   "source": [
    "data1 = pd.get_dummies(data, drop_first=True)\n",
    "data1.head()"
   ]
  },
  {
   "cell_type": "markdown",
   "metadata": {},
   "source": [
    "Меняем категориальные признаки."
   ]
  },
  {
   "cell_type": "code",
   "execution_count": 402,
   "metadata": {},
   "outputs": [],
   "source": [
    "target = data1['Exited']\n",
    "features = data1.drop(['Exited'] , axis=1)"
   ]
  },
  {
   "cell_type": "markdown",
   "metadata": {},
   "source": [
    "Разбиваем датасет на 2 части. Признаки - 'features' . Целевой признак - 'target'."
   ]
  },
  {
   "cell_type": "code",
   "execution_count": 403,
   "metadata": {},
   "outputs": [
    {
     "name": "stdout",
     "output_type": "stream",
     "text": [
      "(8000, 11)\n",
      "(2000, 11)\n"
     ]
    }
   ],
   "source": [
    "features_df, features_valid, target_df, target_valid = train_test_split(features, target, test_size = 0.2, random_state=12345)\n",
    "\n",
    "print(features_df.shape)\n",
    "print(features_valid.shape)"
   ]
  },
  {
   "cell_type": "code",
   "execution_count": 404,
   "metadata": {},
   "outputs": [
    {
     "name": "stdout",
     "output_type": "stream",
     "text": [
      "(6000, 11)\n",
      "(2000, 11)\n"
     ]
    }
   ],
   "source": [
    "features_train, features_test, target_train, target_test = train_test_split(features_df, target_df, test_size = 0.25, random_state=12345)\n",
    "\n",
    "print(features_train.shape)\n",
    "print(features_test.shape)"
   ]
  },
  {
   "cell_type": "markdown",
   "metadata": {},
   "source": [
    "Разделяем на тренировучную, валидационную и тестовую выборку."
   ]
  },
  {
   "cell_type": "markdown",
   "metadata": {},
   "source": [
    "## Исследование задачи"
   ]
  },
  {
   "cell_type": "markdown",
   "metadata": {},
   "source": [
    "### Логистическая регрессия"
   ]
  },
  {
   "cell_type": "code",
   "execution_count": 405,
   "metadata": {},
   "outputs": [
    {
     "name": "stdout",
     "output_type": "stream",
     "text": [
      "F1: 0.09896907216494845\n"
     ]
    }
   ],
   "source": [
    "model = LogisticRegression(random_state=12345, solver = 'liblinear')\n",
    "model.fit(features_train, target_train)\n",
    "predictions_valid = model.predict(features_valid)\n",
    "\n",
    "print('F1:', f1_score(target_valid, predictions_valid))"
   ]
  },
  {
   "cell_type": "markdown",
   "metadata": {},
   "source": [
    "Исследуем модель Логистической Регрессии. По метрике F1 - достаточно плохой показатель."
   ]
  },
  {
   "cell_type": "markdown",
   "metadata": {},
   "source": [
    "### Деревья решений"
   ]
  },
  {
   "cell_type": "code",
   "execution_count": 406,
   "metadata": {},
   "outputs": [
    {
     "name": "stdout",
     "output_type": "stream",
     "text": [
      "F1: 0.5105882352941177\n"
     ]
    }
   ],
   "source": [
    "model = DecisionTreeClassifier(random_state=12345)\n",
    "model.fit(features_train, target_train)\n",
    "predictions_valid = model.predict(features_valid)\n",
    "print('F1:', f1_score(target_valid, predictions_valid))"
   ]
  },
  {
   "cell_type": "markdown",
   "metadata": {},
   "source": [
    "Деревья решений уже лучше справляются с задачей. Но этого не достаточно. Попробуем подобрать параметры."
   ]
  },
  {
   "cell_type": "code",
   "execution_count": 407,
   "metadata": {},
   "outputs": [
    {
     "name": "stdout",
     "output_type": "stream",
     "text": [
      "max_depth = 1 : 0.7865\n",
      "max_depth = 2 : 0.8225\n",
      "max_depth = 3 : 0.834\n",
      "max_depth = 4 : 0.8375\n",
      "max_depth = 5 : 0.848\n",
      "max_depth = 6 : 0.848\n",
      "max_depth = 7 : 0.8485\n",
      "max_depth = 8 : 0.8385\n",
      "max_depth = 9 : 0.832\n"
     ]
    }
   ],
   "source": [
    "for depth in range(1, 10):\n",
    "    model = DecisionTreeClassifier(random_state = 12345, max_depth=depth)\n",
    "    model.fit(features_train, target_train)\n",
    "    predictions_valid  = model.predict(features_valid)\n",
    "    print(\"max_depth =\", depth, \": \", end='')\n",
    "    print(model.score(features_valid, target_valid))"
   ]
  },
  {
   "cell_type": "markdown",
   "metadata": {},
   "source": [
    "Выбираем глубину - 7, как самую лучшую."
   ]
  },
  {
   "cell_type": "code",
   "execution_count": 408,
   "metadata": {},
   "outputs": [
    {
     "name": "stdout",
     "output_type": "stream",
     "text": [
      "F1: 0.5640287769784172\n"
     ]
    }
   ],
   "source": [
    "model = DecisionTreeClassifier(random_state=12345, max_depth=7)\n",
    "model.fit(features_train, target_train)\n",
    "predictions_valid = model.predict(features_valid)\n",
    "print('F1:', f1_score(target_valid, predictions_valid))"
   ]
  },
  {
   "cell_type": "markdown",
   "metadata": {},
   "source": [
    "Модель улучшилась, но все равно не достаточно."
   ]
  },
  {
   "cell_type": "markdown",
   "metadata": {},
   "source": [
    "### Модель случайного леса"
   ]
  },
  {
   "cell_type": "code",
   "execution_count": 409,
   "metadata": {},
   "outputs": [
    {
     "name": "stdout",
     "output_type": "stream",
     "text": [
      "F1: 0.5158371040723982\n"
     ]
    },
    {
     "name": "stderr",
     "output_type": "stream",
     "text": [
      "/opt/conda/lib/python3.7/site-packages/sklearn/ensemble/forest.py:245: FutureWarning: The default value of n_estimators will change from 10 in version 0.20 to 100 in 0.22.\n",
      "  \"10 in version 0.20 to 100 in 0.22.\", FutureWarning)\n"
     ]
    }
   ],
   "source": [
    "model = RandomForestClassifier(random_state=12345)\n",
    "model.fit(features_train, target_train)\n",
    "predictions_valid = model.predict(features_valid)\n",
    "print('F1:', f1_score(target_valid, predictions_valid))"
   ]
  },
  {
   "cell_type": "markdown",
   "metadata": {},
   "source": [
    "Самый лучший показатель на первоначальном этапе."
   ]
  },
  {
   "cell_type": "code",
   "execution_count": 410,
   "metadata": {},
   "outputs": [
    {
     "name": "stdout",
     "output_type": "stream",
     "text": [
      "max_depth = 1 : 0.7865\n",
      "max_depth = 2 : 0.8035\n",
      "max_depth = 3 : 0.806\n",
      "max_depth = 4 : 0.8205\n",
      "max_depth = 5 : 0.8435\n",
      "max_depth = 6 : 0.8505\n",
      "max_depth = 7 : 0.8525\n",
      "max_depth = 8 : 0.8485\n",
      "max_depth = 9 : 0.85\n",
      "max_depth = 10 : 0.8555\n",
      "max_depth = 11 : 0.85\n",
      "max_depth = 12 : 0.85\n",
      "max_depth = 13 : 0.8475\n",
      "max_depth = 14 : 0.8455\n",
      "max_depth = 15 : 0.848\n"
     ]
    }
   ],
   "source": [
    "for depth in range(1, 16, 1):\n",
    "    model = RandomForestClassifier(n_estimators=20, max_depth=depth, random_state=12345)\n",
    "    model.fit(features_train, target_train)\n",
    "    predictions_valid  = model.predict(features_valid)\n",
    "    print(\"max_depth =\", depth, \": \", end='')\n",
    "    print(model.score(features_valid, target_valid))"
   ]
  },
  {
   "cell_type": "markdown",
   "metadata": {},
   "source": [
    "Подбираем наилучшую глубину. Выбираем - 10."
   ]
  },
  {
   "cell_type": "code",
   "execution_count": 411,
   "metadata": {},
   "outputs": [
    {
     "name": "stdout",
     "output_type": "stream",
     "text": [
      "F1: 0.556067588325653\n"
     ]
    }
   ],
   "source": [
    "model = RandomForestClassifier(n_estimators=20, max_depth=10, random_state=12345)\n",
    "model.fit(features_train, target_train)\n",
    "predictions_valid = model.predict(features_valid)\n",
    "print('F1:', f1_score(target_valid, predictions_valid))"
   ]
  },
  {
   "cell_type": "markdown",
   "metadata": {},
   "source": [
    "Уже лучше."
   ]
  },
  {
   "cell_type": "markdown",
   "metadata": {},
   "source": [
    "### Вывод"
   ]
  },
  {
   "cell_type": "markdown",
   "metadata": {},
   "source": [
    "Провели исследование трех моделей и настройки их параметров. Лучшими оказались Деревья Решений и Случайного леса. "
   ]
  },
  {
   "cell_type": "markdown",
   "metadata": {},
   "source": [
    "## Борьба с дисбалансом"
   ]
  },
  {
   "cell_type": "markdown",
   "metadata": {},
   "source": [
    "### Логистическая регрессия"
   ]
  },
  {
   "cell_type": "code",
   "execution_count": 412,
   "metadata": {},
   "outputs": [
    {
     "name": "stdout",
     "output_type": "stream",
     "text": [
      "F1: 0.49190938511326854\n",
      "[[1068  505]\n",
      " [ 123  304]]\n"
     ]
    }
   ],
   "source": [
    "model = LogisticRegression(random_state=12345, solver = 'liblinear', class_weight='balanced')\n",
    "model.fit(features_train, target_train)\n",
    "predictions_valid = model.predict(features_valid)\n",
    "\n",
    "print('F1:', f1_score(target_valid, predictions_valid))\n",
    "print(confusion_matrix(target_valid, predictions_valid))\n",
    "\n",
    "\n"
   ]
  },
  {
   "cell_type": "markdown",
   "metadata": {},
   "source": [
    "Пробуем первый способ баланса классов. Метрика F1 улучишилась."
   ]
  },
  {
   "cell_type": "code",
   "execution_count": 413,
   "metadata": {},
   "outputs": [
    {
     "name": "stdout",
     "output_type": "stream",
     "text": [
      "F1: 0.31024096385542166\n"
     ]
    }
   ],
   "source": [
    "def upsample(features, target, repeat):\n",
    "    features_zeros = features[target == 0]\n",
    "    features_ones = features[target == 1]\n",
    "    target_zeros = target[target == 0]\n",
    "    target_ones = target[target == 1]\n",
    "\n",
    "    features_upsampled = pd.concat([features_zeros] + [features_ones] * repeat)\n",
    "    target_upsampled = pd.concat([target_zeros] + [target_ones] * repeat)\n",
    "    \n",
    "    features_upsampled, target_upsampled = shuffle(\n",
    "        features_upsampled, target_upsampled, random_state=12345)\n",
    "    \n",
    "    return features_upsampled, target_upsampled\n",
    "\n",
    "features_upsampled, target_upsampled = upsample(features_train, target_train, 2)\n",
    "\n",
    "model = LogisticRegression(random_state=12345, solver='liblinear')\n",
    "model.fit(features_upsampled, target_upsampled)\n",
    "predicted_valid = model.predict(features_valid)\n",
    "print(\"F1:\", f1_score(target_valid, predicted_valid))"
   ]
  },
  {
   "cell_type": "markdown",
   "metadata": {},
   "source": [
    "Метод upsample. F1 - ухудшилось."
   ]
  },
  {
   "cell_type": "code",
   "execution_count": 414,
   "metadata": {},
   "outputs": [
    {
     "name": "stdout",
     "output_type": "stream",
     "text": [
      "F1: 0.3701440419030991\n"
     ]
    }
   ],
   "source": [
    "def downsample(features, target, fraction):\n",
    "    features_zeros = features[target == 0]\n",
    "    features_ones = features[target == 1]\n",
    "    target_zeros = target[target == 0]\n",
    "    target_ones = target[target == 1]\n",
    "\n",
    "    features_downsampled = pd.concat(\n",
    "        [features_zeros.sample(frac=fraction, random_state=12345)] + [features_ones])\n",
    "    target_downsampled = pd.concat(\n",
    "        [target_zeros.sample(frac=fraction, random_state=12345)] + [target_ones])\n",
    "    \n",
    "    features_downsampled, target_downsampled = shuffle(\n",
    "        features_downsampled, target_downsampled, random_state=12345)\n",
    "    \n",
    "    return features_downsampled, target_downsampled\n",
    "\n",
    "features_downsampled, target_downsampled = downsample(features_train, target_train, 0.1)\n",
    "\n",
    "model = LogisticRegression(random_state=12345, solver='liblinear')\n",
    "model.fit(features_downsampled, target_downsampled)\n",
    "predicted_valid = model.predict(features_valid)\n",
    "print(\"F1:\", f1_score(target_valid, predicted_valid))"
   ]
  },
  {
   "cell_type": "markdown",
   "metadata": {},
   "source": [
    "Лучше не стало."
   ]
  },
  {
   "cell_type": "code",
   "execution_count": 415,
   "metadata": {},
   "outputs": [],
   "source": [
    "#numeric = ['CreditScore', 'Age', 'Balance', 'EstimatedSalary']\n",
    "\n",
    "#scaler = StandardScaler()\n",
    "#scaler.fit(features_train[numeric])\n",
    "\n",
    "#features_train[numeric] = scaler.transform(features_train[numeric])\n",
    "#features_valid[numeric] = scaler.transform(features_valid[numeric])\n",
    "\n",
    "#pd.options.mode.chained_assignment = None\n",
    "\n",
    "#model = LogisticRegression(random_state=12345, solver = 'liblinear')\n",
    "#model.fit(features_train, target_train)\n",
    "#predictions_valid = model.predict(features_valid)\n",
    "#features_train.head()\n"
   ]
  },
  {
   "cell_type": "code",
   "execution_count": 416,
   "metadata": {},
   "outputs": [],
   "source": [
    "#print('F1:', f1_score(target_valid, predictions_valid))"
   ]
  },
  {
   "cell_type": "markdown",
   "metadata": {},
   "source": [
    "Второй метод менее действеный. Выбираем первый."
   ]
  },
  {
   "cell_type": "markdown",
   "metadata": {},
   "source": [
    "### Деревья решений"
   ]
  },
  {
   "cell_type": "code",
   "execution_count": 417,
   "metadata": {},
   "outputs": [
    {
     "name": "stdout",
     "output_type": "stream",
     "text": [
      "F1: 0.5867689357622243\n"
     ]
    }
   ],
   "source": [
    "model = DecisionTreeClassifier(random_state=12345, max_depth=7, class_weight='balanced')\n",
    "model.fit(features_train, target_train)\n",
    "predictions_valid = model.predict(features_valid)\n",
    "print('F1:', f1_score(target_valid, predictions_valid))\n",
    "  "
   ]
  },
  {
   "cell_type": "markdown",
   "metadata": {},
   "source": [
    "С параметром баланска классов качество модели улучшается."
   ]
  },
  {
   "cell_type": "code",
   "execution_count": 418,
   "metadata": {},
   "outputs": [
    {
     "name": "stdout",
     "output_type": "stream",
     "text": [
      "F1: 0.6170731707317073\n"
     ]
    }
   ],
   "source": [
    "def upsample(features, target, repeat):\n",
    "    features_zeros = features[target == 0]\n",
    "    features_ones = features[target == 1]\n",
    "    target_zeros = target[target == 0]\n",
    "    target_ones = target[target == 1]\n",
    "\n",
    "    features_upsampled = pd.concat([features_zeros] + [features_ones] * repeat)\n",
    "    target_upsampled = pd.concat([target_zeros] + [target_ones] * repeat)\n",
    "    \n",
    "    features_upsampled, target_upsampled = shuffle(\n",
    "        features_upsampled, target_upsampled, random_state=12345)\n",
    "    \n",
    "    return features_upsampled, target_upsampled\n",
    "\n",
    "features_upsampled, target_upsampled = upsample(features_train, target_train, 2)\n",
    "\n",
    "model = DecisionTreeClassifier(random_state=12345, max_depth=7)\n",
    "model.fit(features_upsampled, target_upsampled)\n",
    "predicted_valid = model.predict(features_valid)\n",
    "print(\"F1:\", f1_score(target_valid, predicted_valid))"
   ]
  },
  {
   "cell_type": "code",
   "execution_count": 419,
   "metadata": {},
   "outputs": [
    {
     "name": "stdout",
     "output_type": "stream",
     "text": [
      "F1: 0.502013422818792\n"
     ]
    }
   ],
   "source": [
    "def downsample(features, target, fraction):\n",
    "    features_zeros = features[target == 0]\n",
    "    features_ones = features[target == 1]\n",
    "    target_zeros = target[target == 0]\n",
    "    target_ones = target[target == 1]\n",
    "\n",
    "    features_downsampled = pd.concat(\n",
    "        [features_zeros.sample(frac=fraction, random_state=12345)] + [features_ones])\n",
    "    target_downsampled = pd.concat(\n",
    "        [target_zeros.sample(frac=fraction, random_state=12345)] + [target_ones])\n",
    "    \n",
    "    features_downsampled, target_downsampled = shuffle(\n",
    "        features_downsampled, target_downsampled, random_state=12345)\n",
    "    \n",
    "    return features_downsampled, target_downsampled\n",
    "\n",
    "features_downsampled, target_downsampled = downsample(features_train, target_train, 0.1)\n",
    "\n",
    "model = DecisionTreeClassifier(random_state=12345, max_depth=7)\n",
    "model.fit(features_downsampled, target_downsampled)\n",
    "predicted_valid = model.predict(features_valid)\n",
    "print(\"F1:\", f1_score(target_valid, predicted_valid))"
   ]
  },
  {
   "cell_type": "markdown",
   "metadata": {},
   "source": [
    "Методом upsample и downsample, не получилось добиться лучшего показателя."
   ]
  },
  {
   "cell_type": "markdown",
   "metadata": {},
   "source": [
    "### Модель случайного леса"
   ]
  },
  {
   "cell_type": "code",
   "execution_count": 420,
   "metadata": {},
   "outputs": [
    {
     "name": "stdout",
     "output_type": "stream",
     "text": [
      "F1: 0.6148409893992933\n"
     ]
    }
   ],
   "source": [
    "model = RandomForestClassifier(n_estimators=20, max_depth=10, random_state=12345, class_weight='balanced')\n",
    "model.fit(features_train, target_train) \n",
    "predictions_valid = model.predict(features_valid)\n",
    "print('F1:', f1_score(target_valid, predictions_valid))\n"
   ]
  },
  {
   "cell_type": "markdown",
   "metadata": {},
   "source": [
    "Выбираем мадель Случайного леса, с лучшим показателем."
   ]
  },
  {
   "cell_type": "code",
   "execution_count": 421,
   "metadata": {},
   "outputs": [
    {
     "name": "stdout",
     "output_type": "stream",
     "text": [
      "F1: 0.6325224071702944\n"
     ]
    }
   ],
   "source": [
    "def upsample(features, target, repeat):\n",
    "    features_zeros = features[target == 0]\n",
    "    features_ones = features[target == 1]\n",
    "    target_zeros = target[target == 0]\n",
    "    target_ones = target[target == 1]\n",
    "\n",
    "    features_upsampled = pd.concat([features_zeros] + [features_ones] * repeat)\n",
    "    target_upsampled = pd.concat([target_zeros] + [target_ones] * repeat)\n",
    "    \n",
    "    features_upsampled, target_upsampled = shuffle(\n",
    "        features_upsampled, target_upsampled, random_state=12345)\n",
    "    \n",
    "    return features_upsampled, target_upsampled\n",
    "\n",
    "features_upsampled, target_upsampled = upsample(features_train, target_train, 2)\n",
    "\n",
    "model = RandomForestClassifier(n_estimators=20, max_depth=10, random_state=12345)\n",
    "model.fit(features_upsampled, target_upsampled)\n",
    "predicted_valid = model.predict(features_valid)\n",
    "print(\"F1:\", f1_score(target_valid, predicted_valid))"
   ]
  },
  {
   "cell_type": "code",
   "execution_count": 422,
   "metadata": {},
   "outputs": [
    {
     "name": "stdout",
     "output_type": "stream",
     "text": [
      "F1: 0.4871634314339386\n"
     ]
    }
   ],
   "source": [
    "def downsample(features, target, fraction):\n",
    "    features_zeros = features[target == 0]\n",
    "    features_ones = features[target == 1]\n",
    "    target_zeros = target[target == 0]\n",
    "    target_ones = target[target == 1]\n",
    "\n",
    "    features_downsampled = pd.concat(\n",
    "        [features_zeros.sample(frac=fraction, random_state=12345)] + [features_ones])\n",
    "    target_downsampled = pd.concat(\n",
    "        [target_zeros.sample(frac=fraction, random_state=12345)] + [target_ones])\n",
    "    \n",
    "    features_downsampled, target_downsampled = shuffle(\n",
    "        features_downsampled, target_downsampled, random_state=12345)\n",
    "    \n",
    "    return features_downsampled, target_downsampled\n",
    "\n",
    "features_downsampled, target_downsampled = downsample(features_train, target_train, 0.1)\n",
    "\n",
    "model = RandomForestClassifier(n_estimators=20, max_depth=10, random_state=12345)\n",
    "model.fit(features_downsampled, target_downsampled)\n",
    "predicted_valid = model.predict(features_valid)\n",
    "print(\"F1:\", f1_score(target_valid, predicted_valid))"
   ]
  },
  {
   "cell_type": "markdown",
   "metadata": {},
   "source": [
    "## Тестирование модели"
   ]
  },
  {
   "cell_type": "code",
   "execution_count": 423,
   "metadata": {},
   "outputs": [
    {
     "name": "stdout",
     "output_type": "stream",
     "text": [
      "F1: 0.6028169014084506\n"
     ]
    }
   ],
   "source": [
    "def upsample(features, target, repeat):\n",
    "    features_zeros = features[target == 0]\n",
    "    features_ones = features[target == 1]\n",
    "    target_zeros = target[target == 0]\n",
    "    target_ones = target[target == 1]\n",
    "\n",
    "    features_upsampled = pd.concat([features_zeros] + [features_ones] * repeat)\n",
    "    target_upsampled = pd.concat([target_zeros] + [target_ones] * repeat)\n",
    "    \n",
    "    features_upsampled, target_upsampled = shuffle(\n",
    "        features_upsampled, target_upsampled, random_state=12345)\n",
    "    \n",
    "    return features_upsampled, target_upsampled\n",
    "\n",
    "features_upsampled, target_upsampled = upsample(features_train, target_train, 2)\n",
    "\n",
    "\n",
    "model = RandomForestClassifier(n_estimators=100, max_depth=10, random_state=12345)\n",
    "model.fit(features_upsampled, target_upsampled)\n",
    "predictions_test  = model.predict(features_test)\n",
    "\n",
    "print('F1:', f1_score(target_test, predictions_test))"
   ]
  },
  {
   "cell_type": "markdown",
   "metadata": {},
   "source": [
    "Лучшей оказалась - Модель Случайного леса."
   ]
  },
  {
   "cell_type": "markdown",
   "metadata": {},
   "source": [
    "## Вывод "
   ]
  },
  {
   "cell_type": "markdown",
   "metadata": {},
   "source": [
    "Мы разработали модель для определения намерений клиента уйти из банка. Мы просматрели данные, убрали данные которые нам не нужны. Убрали пропуски и поменяли котегориальные признаки на числовые т.к. модель воспринимает только их. \n",
    "Мы обучили три модели и смотрели на показатель метрики F1. Поборолись с дисбалансом классов и выбрали лучшую модель - Сдучайного Леса. Проверили эту модель на Тестовой выборке."
   ]
  }
 ],
 "metadata": {
  "ExecuteTimeLog": [
   {
    "duration": 1507,
    "start_time": "2021-12-16T09:33:24.338Z"
   },
   {
    "duration": 5,
    "start_time": "2021-12-16T09:36:34.126Z"
   },
   {
    "duration": 10,
    "start_time": "2021-12-16T09:42:28.864Z"
   },
   {
    "duration": 5,
    "start_time": "2021-12-16T09:49:41.492Z"
   },
   {
    "duration": 4,
    "start_time": "2021-12-16T09:50:08.974Z"
   },
   {
    "duration": 5,
    "start_time": "2021-12-16T09:51:43.875Z"
   },
   {
    "duration": 5,
    "start_time": "2021-12-16T09:51:47.356Z"
   },
   {
    "duration": 481,
    "start_time": "2021-12-16T09:59:23.064Z"
   },
   {
    "duration": 58,
    "start_time": "2021-12-16T10:00:00.529Z"
   },
   {
    "duration": 6,
    "start_time": "2021-12-16T10:00:04.431Z"
   },
   {
    "duration": 9,
    "start_time": "2021-12-16T10:00:05.628Z"
   },
   {
    "duration": 5,
    "start_time": "2021-12-16T10:00:10.604Z"
   },
   {
    "duration": 5,
    "start_time": "2021-12-16T10:00:10.931Z"
   },
   {
    "duration": 434,
    "start_time": "2021-12-16T10:00:12.919Z"
   },
   {
    "duration": 6,
    "start_time": "2021-12-16T10:02:03.602Z"
   },
   {
    "duration": 7,
    "start_time": "2021-12-16T10:03:39.844Z"
   },
   {
    "duration": 7,
    "start_time": "2021-12-16T10:03:47.705Z"
   },
   {
    "duration": 342,
    "start_time": "2021-12-17T08:52:13.358Z"
   },
   {
    "duration": 1749,
    "start_time": "2021-12-17T08:52:32.005Z"
   },
   {
    "duration": 755,
    "start_time": "2021-12-17T08:52:35.186Z"
   },
   {
    "duration": 5,
    "start_time": "2021-12-17T08:53:12.236Z"
   },
   {
    "duration": 353,
    "start_time": "2021-12-17T08:53:19.657Z"
   },
   {
    "duration": 309,
    "start_time": "2021-12-17T08:53:34.370Z"
   },
   {
    "duration": 348,
    "start_time": "2021-12-17T08:54:11.278Z"
   },
   {
    "duration": 321,
    "start_time": "2021-12-17T08:54:28.767Z"
   },
   {
    "duration": 48,
    "start_time": "2021-12-17T08:54:35.343Z"
   },
   {
    "duration": 19,
    "start_time": "2021-12-17T08:54:35.392Z"
   },
   {
    "duration": 13,
    "start_time": "2021-12-17T08:54:35.413Z"
   },
   {
    "duration": 19,
    "start_time": "2021-12-17T08:54:35.428Z"
   },
   {
    "duration": 11,
    "start_time": "2021-12-17T08:54:35.449Z"
   },
   {
    "duration": 18,
    "start_time": "2021-12-17T08:54:35.462Z"
   },
   {
    "duration": 322,
    "start_time": "2021-12-17T08:54:35.481Z"
   },
   {
    "duration": 31,
    "start_time": "2021-12-17T08:54:35.774Z"
   },
   {
    "duration": 45,
    "start_time": "2021-12-17T08:57:00.867Z"
   },
   {
    "duration": 19,
    "start_time": "2021-12-17T08:57:00.914Z"
   },
   {
    "duration": 14,
    "start_time": "2021-12-17T08:57:00.936Z"
   },
   {
    "duration": 5,
    "start_time": "2021-12-17T08:57:00.952Z"
   },
   {
    "duration": 9,
    "start_time": "2021-12-17T08:57:00.959Z"
   },
   {
    "duration": 7,
    "start_time": "2021-12-17T08:57:00.969Z"
   },
   {
    "duration": 28,
    "start_time": "2021-12-17T08:57:00.978Z"
   },
   {
    "duration": 438,
    "start_time": "2021-12-17T08:57:01.009Z"
   },
   {
    "duration": -16,
    "start_time": "2021-12-17T08:57:01.466Z"
   },
   {
    "duration": 4,
    "start_time": "2021-12-17T09:04:34.588Z"
   },
   {
    "duration": 7,
    "start_time": "2021-12-17T09:04:50.506Z"
   },
   {
    "duration": 8,
    "start_time": "2021-12-17T09:05:51.112Z"
   },
   {
    "duration": 5,
    "start_time": "2021-12-17T09:13:20.174Z"
   },
   {
    "duration": 7,
    "start_time": "2021-12-17T09:13:21.980Z"
   },
   {
    "duration": 3,
    "start_time": "2021-12-17T09:13:23.012Z"
   },
   {
    "duration": 3,
    "start_time": "2021-12-17T09:13:23.624Z"
   },
   {
    "duration": 295,
    "start_time": "2021-12-17T09:13:32.236Z"
   },
   {
    "duration": 394,
    "start_time": "2021-12-17T09:15:32.140Z"
   },
   {
    "duration": 6,
    "start_time": "2021-12-17T09:19:33.488Z"
   },
   {
    "duration": 8,
    "start_time": "2021-12-17T09:19:47.129Z"
   },
   {
    "duration": 24,
    "start_time": "2021-12-17T09:23:05.167Z"
   },
   {
    "duration": 55,
    "start_time": "2021-12-17T09:23:34.746Z"
   },
   {
    "duration": 21,
    "start_time": "2021-12-17T09:23:34.803Z"
   },
   {
    "duration": 7,
    "start_time": "2021-12-17T09:23:34.826Z"
   },
   {
    "duration": 4,
    "start_time": "2021-12-17T09:23:34.835Z"
   },
   {
    "duration": 8,
    "start_time": "2021-12-17T09:23:34.841Z"
   },
   {
    "duration": 8,
    "start_time": "2021-12-17T09:23:34.850Z"
   },
   {
    "duration": 5,
    "start_time": "2021-12-17T09:23:34.860Z"
   },
   {
    "duration": 40,
    "start_time": "2021-12-17T09:23:34.867Z"
   },
   {
    "duration": 6,
    "start_time": "2021-12-17T09:23:34.909Z"
   },
   {
    "duration": 5,
    "start_time": "2021-12-17T09:23:34.917Z"
   },
   {
    "duration": 24,
    "start_time": "2021-12-17T09:23:34.924Z"
   },
   {
    "duration": 400,
    "start_time": "2021-12-17T09:23:34.950Z"
   },
   {
    "duration": -9,
    "start_time": "2021-12-17T09:23:35.361Z"
   },
   {
    "duration": 9,
    "start_time": "2021-12-17T09:24:39.561Z"
   },
   {
    "duration": 48,
    "start_time": "2021-12-17T10:09:30.029Z"
   },
   {
    "duration": 19,
    "start_time": "2021-12-17T10:09:30.079Z"
   },
   {
    "duration": 19,
    "start_time": "2021-12-17T10:09:30.100Z"
   },
   {
    "duration": 15,
    "start_time": "2021-12-17T10:09:30.121Z"
   },
   {
    "duration": 22,
    "start_time": "2021-12-17T10:09:30.137Z"
   },
   {
    "duration": 18,
    "start_time": "2021-12-17T10:09:30.161Z"
   },
   {
    "duration": 16,
    "start_time": "2021-12-17T10:09:30.181Z"
   },
   {
    "duration": 28,
    "start_time": "2021-12-17T10:09:30.199Z"
   },
   {
    "duration": 31,
    "start_time": "2021-12-17T10:09:30.229Z"
   },
   {
    "duration": 17,
    "start_time": "2021-12-17T10:09:30.261Z"
   },
   {
    "duration": 49,
    "start_time": "2021-12-17T10:09:30.280Z"
   },
   {
    "duration": 316,
    "start_time": "2021-12-17T10:09:30.331Z"
   },
   {
    "duration": 22,
    "start_time": "2021-12-17T10:09:30.627Z"
   },
   {
    "duration": 48,
    "start_time": "2021-12-17T10:11:29.593Z"
   },
   {
    "duration": 18,
    "start_time": "2021-12-17T10:11:29.642Z"
   },
   {
    "duration": 6,
    "start_time": "2021-12-17T10:11:29.662Z"
   },
   {
    "duration": 3,
    "start_time": "2021-12-17T10:11:29.670Z"
   },
   {
    "duration": 39,
    "start_time": "2021-12-17T10:11:29.675Z"
   },
   {
    "duration": 8,
    "start_time": "2021-12-17T10:11:29.715Z"
   },
   {
    "duration": 22,
    "start_time": "2021-12-17T10:11:29.724Z"
   },
   {
    "duration": 5,
    "start_time": "2021-12-17T10:11:29.748Z"
   },
   {
    "duration": 6,
    "start_time": "2021-12-17T10:11:29.756Z"
   },
   {
    "duration": 3,
    "start_time": "2021-12-17T10:11:29.764Z"
   },
   {
    "duration": 42,
    "start_time": "2021-12-17T10:11:29.768Z"
   },
   {
    "duration": 25,
    "start_time": "2021-12-17T10:11:29.811Z"
   },
   {
    "duration": 4,
    "start_time": "2021-12-17T10:11:29.838Z"
   },
   {
    "duration": 99,
    "start_time": "2021-12-17T10:13:05.537Z"
   },
   {
    "duration": 346,
    "start_time": "2021-12-17T10:23:32.054Z"
   },
   {
    "duration": 46,
    "start_time": "2021-12-17T10:23:38.488Z"
   },
   {
    "duration": 19,
    "start_time": "2021-12-17T10:23:38.536Z"
   },
   {
    "duration": 6,
    "start_time": "2021-12-17T10:23:38.558Z"
   },
   {
    "duration": 6,
    "start_time": "2021-12-17T10:23:38.566Z"
   },
   {
    "duration": 7,
    "start_time": "2021-12-17T10:23:38.574Z"
   },
   {
    "duration": 7,
    "start_time": "2021-12-17T10:23:38.607Z"
   },
   {
    "duration": 22,
    "start_time": "2021-12-17T10:23:38.616Z"
   },
   {
    "duration": 4,
    "start_time": "2021-12-17T10:23:38.640Z"
   },
   {
    "duration": 6,
    "start_time": "2021-12-17T10:23:38.646Z"
   },
   {
    "duration": 3,
    "start_time": "2021-12-17T10:23:38.654Z"
   },
   {
    "duration": 5,
    "start_time": "2021-12-17T10:23:38.658Z"
   },
   {
    "duration": 156,
    "start_time": "2021-12-17T10:23:38.664Z"
   },
   {
    "duration": 27,
    "start_time": "2021-12-17T10:25:38.742Z"
   },
   {
    "duration": 46,
    "start_time": "2021-12-17T10:31:40.957Z"
   },
   {
    "duration": 20,
    "start_time": "2021-12-17T10:31:41.005Z"
   },
   {
    "duration": 7,
    "start_time": "2021-12-17T10:31:41.027Z"
   },
   {
    "duration": 7,
    "start_time": "2021-12-17T10:31:41.036Z"
   },
   {
    "duration": 8,
    "start_time": "2021-12-17T10:31:41.045Z"
   },
   {
    "duration": 11,
    "start_time": "2021-12-17T10:31:41.055Z"
   },
   {
    "duration": 53,
    "start_time": "2021-12-17T10:31:41.068Z"
   },
   {
    "duration": 6,
    "start_time": "2021-12-17T10:31:41.123Z"
   },
   {
    "duration": 11,
    "start_time": "2021-12-17T10:31:41.132Z"
   },
   {
    "duration": 4,
    "start_time": "2021-12-17T10:31:41.146Z"
   },
   {
    "duration": 10,
    "start_time": "2021-12-17T10:31:41.151Z"
   },
   {
    "duration": 61,
    "start_time": "2021-12-17T10:31:41.163Z"
   },
   {
    "duration": 325,
    "start_time": "2021-12-17T10:33:05.240Z"
   },
   {
    "duration": 49,
    "start_time": "2021-12-17T10:33:08.309Z"
   },
   {
    "duration": 24,
    "start_time": "2021-12-17T10:33:08.360Z"
   },
   {
    "duration": 20,
    "start_time": "2021-12-17T10:33:08.387Z"
   },
   {
    "duration": 5,
    "start_time": "2021-12-17T10:33:08.410Z"
   },
   {
    "duration": 8,
    "start_time": "2021-12-17T10:33:08.416Z"
   },
   {
    "duration": 20,
    "start_time": "2021-12-17T10:33:08.426Z"
   },
   {
    "duration": 46,
    "start_time": "2021-12-17T10:33:08.448Z"
   },
   {
    "duration": 10,
    "start_time": "2021-12-17T10:33:08.496Z"
   },
   {
    "duration": 8,
    "start_time": "2021-12-17T10:33:08.508Z"
   },
   {
    "duration": 22,
    "start_time": "2021-12-17T10:33:08.518Z"
   },
   {
    "duration": 13,
    "start_time": "2021-12-17T10:33:08.542Z"
   },
   {
    "duration": 59,
    "start_time": "2021-12-17T10:33:08.557Z"
   },
   {
    "duration": 368,
    "start_time": "2021-12-17T10:34:29.247Z"
   },
   {
    "duration": 46,
    "start_time": "2021-12-17T10:34:36.621Z"
   },
   {
    "duration": 22,
    "start_time": "2021-12-17T10:34:36.669Z"
   },
   {
    "duration": 7,
    "start_time": "2021-12-17T10:34:36.693Z"
   },
   {
    "duration": 4,
    "start_time": "2021-12-17T10:34:36.705Z"
   },
   {
    "duration": 7,
    "start_time": "2021-12-17T10:34:36.711Z"
   },
   {
    "duration": 8,
    "start_time": "2021-12-17T10:34:36.720Z"
   },
   {
    "duration": 22,
    "start_time": "2021-12-17T10:34:36.730Z"
   },
   {
    "duration": 5,
    "start_time": "2021-12-17T10:34:36.754Z"
   },
   {
    "duration": 6,
    "start_time": "2021-12-17T10:34:36.762Z"
   },
   {
    "duration": 38,
    "start_time": "2021-12-17T10:34:36.770Z"
   },
   {
    "duration": 6,
    "start_time": "2021-12-17T10:34:36.810Z"
   },
   {
    "duration": 88,
    "start_time": "2021-12-17T10:34:36.818Z"
   },
   {
    "duration": 1039,
    "start_time": "2021-12-19T08:05:50.148Z"
   },
   {
    "duration": 23,
    "start_time": "2021-12-19T08:05:51.188Z"
   },
   {
    "duration": 8,
    "start_time": "2021-12-19T08:05:51.213Z"
   },
   {
    "duration": 3,
    "start_time": "2021-12-19T08:05:51.224Z"
   },
   {
    "duration": 8,
    "start_time": "2021-12-19T08:05:51.229Z"
   },
   {
    "duration": 8,
    "start_time": "2021-12-19T08:05:51.238Z"
   },
   {
    "duration": 22,
    "start_time": "2021-12-19T08:05:51.247Z"
   },
   {
    "duration": 40,
    "start_time": "2021-12-19T08:05:51.270Z"
   },
   {
    "duration": 7,
    "start_time": "2021-12-19T08:05:51.312Z"
   },
   {
    "duration": 5,
    "start_time": "2021-12-19T08:05:51.321Z"
   },
   {
    "duration": 12,
    "start_time": "2021-12-19T08:05:51.328Z"
   },
   {
    "duration": 74,
    "start_time": "2021-12-19T08:05:51.342Z"
   },
   {
    "duration": 42,
    "start_time": "2021-12-19T08:07:54.935Z"
   },
   {
    "duration": 20,
    "start_time": "2021-12-19T08:07:54.979Z"
   },
   {
    "duration": 6,
    "start_time": "2021-12-19T08:07:55.000Z"
   },
   {
    "duration": 3,
    "start_time": "2021-12-19T08:07:55.007Z"
   },
   {
    "duration": 10,
    "start_time": "2021-12-19T08:07:55.012Z"
   },
   {
    "duration": 6,
    "start_time": "2021-12-19T08:07:55.024Z"
   },
   {
    "duration": 20,
    "start_time": "2021-12-19T08:07:55.032Z"
   },
   {
    "duration": 5,
    "start_time": "2021-12-19T08:07:55.055Z"
   },
   {
    "duration": 12,
    "start_time": "2021-12-19T08:07:55.061Z"
   },
   {
    "duration": 32,
    "start_time": "2021-12-19T08:07:55.074Z"
   },
   {
    "duration": 3,
    "start_time": "2021-12-19T08:07:55.109Z"
   },
   {
    "duration": 96,
    "start_time": "2021-12-19T08:07:55.114Z"
   },
   {
    "duration": 47,
    "start_time": "2021-12-19T08:17:36.598Z"
   },
   {
    "duration": 93,
    "start_time": "2021-12-19T08:20:22.609Z"
   },
   {
    "duration": 50,
    "start_time": "2021-12-19T08:26:30.991Z"
   },
   {
    "duration": 41,
    "start_time": "2021-12-19T08:31:20.430Z"
   },
   {
    "duration": 88,
    "start_time": "2021-12-19T08:31:47.031Z"
   },
   {
    "duration": 408,
    "start_time": "2021-12-19T08:38:16.248Z"
   },
   {
    "duration": -42,
    "start_time": "2021-12-19T08:38:16.701Z"
   },
   {
    "duration": -43,
    "start_time": "2021-12-19T08:38:16.703Z"
   },
   {
    "duration": -43,
    "start_time": "2021-12-19T08:38:16.704Z"
   },
   {
    "duration": -44,
    "start_time": "2021-12-19T08:38:16.706Z"
   },
   {
    "duration": -44,
    "start_time": "2021-12-19T08:38:16.707Z"
   },
   {
    "duration": -44,
    "start_time": "2021-12-19T08:38:16.708Z"
   },
   {
    "duration": -44,
    "start_time": "2021-12-19T08:38:16.709Z"
   },
   {
    "duration": -44,
    "start_time": "2021-12-19T08:38:16.710Z"
   },
   {
    "duration": -44,
    "start_time": "2021-12-19T08:38:16.711Z"
   },
   {
    "duration": -44,
    "start_time": "2021-12-19T08:38:16.712Z"
   },
   {
    "duration": -43,
    "start_time": "2021-12-19T08:38:16.713Z"
   },
   {
    "duration": -44,
    "start_time": "2021-12-19T08:38:16.715Z"
   },
   {
    "duration": -44,
    "start_time": "2021-12-19T08:38:16.716Z"
   },
   {
    "duration": -45,
    "start_time": "2021-12-19T08:38:16.718Z"
   },
   {
    "duration": -45,
    "start_time": "2021-12-19T08:38:16.719Z"
   },
   {
    "duration": -45,
    "start_time": "2021-12-19T08:38:16.721Z"
   },
   {
    "duration": -45,
    "start_time": "2021-12-19T08:38:16.722Z"
   },
   {
    "duration": 45,
    "start_time": "2021-12-19T08:38:58.184Z"
   },
   {
    "duration": 21,
    "start_time": "2021-12-19T08:38:58.231Z"
   },
   {
    "duration": 7,
    "start_time": "2021-12-19T08:38:58.254Z"
   },
   {
    "duration": 4,
    "start_time": "2021-12-19T08:38:58.263Z"
   },
   {
    "duration": 8,
    "start_time": "2021-12-19T08:38:58.268Z"
   },
   {
    "duration": 33,
    "start_time": "2021-12-19T08:38:58.277Z"
   },
   {
    "duration": 19,
    "start_time": "2021-12-19T08:38:58.312Z"
   },
   {
    "duration": 5,
    "start_time": "2021-12-19T08:38:58.334Z"
   },
   {
    "duration": 6,
    "start_time": "2021-12-19T08:38:58.340Z"
   },
   {
    "duration": 3,
    "start_time": "2021-12-19T08:38:58.348Z"
   },
   {
    "duration": 4,
    "start_time": "2021-12-19T08:38:58.352Z"
   },
   {
    "duration": 79,
    "start_time": "2021-12-19T08:38:58.358Z"
   },
   {
    "duration": 191,
    "start_time": "2021-12-19T08:38:58.440Z"
   },
   {
    "duration": 100,
    "start_time": "2021-12-19T08:38:58.632Z"
   },
   {
    "duration": 74,
    "start_time": "2021-12-19T08:38:58.733Z"
   },
   {
    "duration": 133,
    "start_time": "2021-12-19T08:38:58.809Z"
   },
   {
    "duration": 126,
    "start_time": "2021-12-19T08:38:58.944Z"
   },
   {
    "duration": 393,
    "start_time": "2021-12-19T08:38:59.071Z"
   },
   {
    "duration": 43,
    "start_time": "2021-12-19T08:39:45.124Z"
   },
   {
    "duration": 20,
    "start_time": "2021-12-19T08:39:45.169Z"
   },
   {
    "duration": 6,
    "start_time": "2021-12-19T08:39:45.191Z"
   },
   {
    "duration": 3,
    "start_time": "2021-12-19T08:39:45.199Z"
   },
   {
    "duration": 6,
    "start_time": "2021-12-19T08:39:45.206Z"
   },
   {
    "duration": 7,
    "start_time": "2021-12-19T08:39:45.213Z"
   },
   {
    "duration": 21,
    "start_time": "2021-12-19T08:39:45.222Z"
   },
   {
    "duration": 5,
    "start_time": "2021-12-19T08:39:45.244Z"
   },
   {
    "duration": 5,
    "start_time": "2021-12-19T08:39:45.252Z"
   },
   {
    "duration": 3,
    "start_time": "2021-12-19T08:39:45.259Z"
   },
   {
    "duration": 5,
    "start_time": "2021-12-19T08:39:45.263Z"
   },
   {
    "duration": 42,
    "start_time": "2021-12-19T08:39:45.307Z"
   },
   {
    "duration": 127,
    "start_time": "2021-12-19T08:39:45.408Z"
   },
   {
    "duration": 103,
    "start_time": "2021-12-19T08:39:45.537Z"
   },
   {
    "duration": 66,
    "start_time": "2021-12-19T08:39:45.642Z"
   },
   {
    "duration": 224,
    "start_time": "2021-12-19T08:39:45.710Z"
   },
   {
    "duration": 103,
    "start_time": "2021-12-19T08:39:45.936Z"
   },
   {
    "duration": 68,
    "start_time": "2021-12-19T08:39:46.041Z"
   },
   {
    "duration": 69,
    "start_time": "2021-12-19T08:40:12.392Z"
   },
   {
    "duration": 3942,
    "start_time": "2021-12-19T08:41:44.424Z"
   },
   {
    "duration": 763,
    "start_time": "2021-12-19T08:42:37.829Z"
   },
   {
    "duration": 951,
    "start_time": "2021-12-19T08:43:01.955Z"
   },
   {
    "duration": 914,
    "start_time": "2021-12-19T08:43:11.014Z"
   },
   {
    "duration": 903,
    "start_time": "2021-12-19T08:44:21.209Z"
   },
   {
    "duration": 950,
    "start_time": "2021-12-19T08:44:54.008Z"
   },
   {
    "duration": 1035,
    "start_time": "2021-12-19T08:45:35.096Z"
   },
   {
    "duration": 957,
    "start_time": "2021-12-19T08:46:02.254Z"
   },
   {
    "duration": 462,
    "start_time": "2021-12-19T08:51:00.350Z"
   },
   {
    "duration": 46,
    "start_time": "2021-12-19T08:51:36.469Z"
   },
   {
    "duration": 22,
    "start_time": "2021-12-19T08:51:36.517Z"
   },
   {
    "duration": 5,
    "start_time": "2021-12-19T08:51:36.541Z"
   },
   {
    "duration": 3,
    "start_time": "2021-12-19T08:51:36.548Z"
   },
   {
    "duration": 8,
    "start_time": "2021-12-19T08:51:36.552Z"
   },
   {
    "duration": 8,
    "start_time": "2021-12-19T08:51:36.561Z"
   },
   {
    "duration": 49,
    "start_time": "2021-12-19T08:51:36.572Z"
   },
   {
    "duration": 4,
    "start_time": "2021-12-19T08:51:36.623Z"
   },
   {
    "duration": 5,
    "start_time": "2021-12-19T08:51:36.630Z"
   },
   {
    "duration": 3,
    "start_time": "2021-12-19T08:51:36.637Z"
   },
   {
    "duration": 5,
    "start_time": "2021-12-19T08:51:36.642Z"
   },
   {
    "duration": 74,
    "start_time": "2021-12-19T08:51:36.649Z"
   },
   {
    "duration": 131,
    "start_time": "2021-12-19T08:51:36.808Z"
   },
   {
    "duration": 110,
    "start_time": "2021-12-19T08:51:36.940Z"
   },
   {
    "duration": 451,
    "start_time": "2021-12-19T08:51:37.051Z"
   },
   {
    "duration": 48,
    "start_time": "2021-12-19T08:51:37.456Z"
   },
   {
    "duration": 46,
    "start_time": "2021-12-19T08:51:37.459Z"
   },
   {
    "duration": 115,
    "start_time": "2021-12-19T08:52:22.998Z"
   },
   {
    "duration": 20,
    "start_time": "2021-12-19T08:52:23.115Z"
   },
   {
    "duration": 6,
    "start_time": "2021-12-19T08:52:23.137Z"
   },
   {
    "duration": 3,
    "start_time": "2021-12-19T08:52:23.145Z"
   },
   {
    "duration": 7,
    "start_time": "2021-12-19T08:52:23.150Z"
   },
   {
    "duration": 6,
    "start_time": "2021-12-19T08:52:23.159Z"
   },
   {
    "duration": 55,
    "start_time": "2021-12-19T08:52:23.167Z"
   },
   {
    "duration": 5,
    "start_time": "2021-12-19T08:52:23.224Z"
   },
   {
    "duration": 6,
    "start_time": "2021-12-19T08:52:23.231Z"
   },
   {
    "duration": 3,
    "start_time": "2021-12-19T08:52:23.239Z"
   },
   {
    "duration": 5,
    "start_time": "2021-12-19T08:52:23.243Z"
   },
   {
    "duration": 69,
    "start_time": "2021-12-19T08:52:23.250Z"
   },
   {
    "duration": 128,
    "start_time": "2021-12-19T08:52:23.408Z"
   },
   {
    "duration": 111,
    "start_time": "2021-12-19T08:52:23.538Z"
   },
   {
    "duration": 399,
    "start_time": "2021-12-19T08:52:23.651Z"
   },
   {
    "duration": 41,
    "start_time": "2021-12-19T08:52:24.051Z"
   },
   {
    "duration": 94,
    "start_time": "2021-12-19T08:52:24.093Z"
   },
   {
    "duration": 47,
    "start_time": "2021-12-19T09:04:57.462Z"
   },
   {
    "duration": 22,
    "start_time": "2021-12-19T09:04:57.511Z"
   },
   {
    "duration": 6,
    "start_time": "2021-12-19T09:04:57.535Z"
   },
   {
    "duration": 3,
    "start_time": "2021-12-19T09:04:57.543Z"
   },
   {
    "duration": 7,
    "start_time": "2021-12-19T09:04:57.548Z"
   },
   {
    "duration": 7,
    "start_time": "2021-12-19T09:04:57.556Z"
   },
   {
    "duration": 53,
    "start_time": "2021-12-19T09:04:57.565Z"
   },
   {
    "duration": 5,
    "start_time": "2021-12-19T09:04:57.620Z"
   },
   {
    "duration": 6,
    "start_time": "2021-12-19T09:04:57.627Z"
   },
   {
    "duration": 3,
    "start_time": "2021-12-19T09:04:57.635Z"
   },
   {
    "duration": 6,
    "start_time": "2021-12-19T09:04:57.639Z"
   },
   {
    "duration": 159,
    "start_time": "2021-12-19T09:04:57.647Z"
   },
   {
    "duration": 113,
    "start_time": "2021-12-19T09:04:57.808Z"
   },
   {
    "duration": 100,
    "start_time": "2021-12-19T09:04:57.923Z"
   },
   {
    "duration": 426,
    "start_time": "2021-12-19T09:04:58.025Z"
   },
   {
    "duration": 40,
    "start_time": "2021-12-19T09:04:58.452Z"
   },
   {
    "duration": 92,
    "start_time": "2021-12-19T09:04:58.507Z"
   },
   {
    "duration": 282,
    "start_time": "2021-12-19T09:04:58.608Z"
   },
   {
    "duration": 6,
    "start_time": "2021-12-19T09:05:25.062Z"
   },
   {
    "duration": 53,
    "start_time": "2021-12-19T09:05:51.236Z"
   },
   {
    "duration": 21,
    "start_time": "2021-12-19T09:05:51.291Z"
   },
   {
    "duration": 6,
    "start_time": "2021-12-19T09:05:51.314Z"
   },
   {
    "duration": 14,
    "start_time": "2021-12-19T09:05:51.322Z"
   },
   {
    "duration": 22,
    "start_time": "2021-12-19T09:05:51.338Z"
   },
   {
    "duration": 6,
    "start_time": "2021-12-19T09:05:51.362Z"
   },
   {
    "duration": 28,
    "start_time": "2021-12-19T09:05:51.370Z"
   },
   {
    "duration": 5,
    "start_time": "2021-12-19T09:05:51.401Z"
   },
   {
    "duration": 13,
    "start_time": "2021-12-19T09:05:51.408Z"
   },
   {
    "duration": 7,
    "start_time": "2021-12-19T09:05:51.423Z"
   },
   {
    "duration": 9,
    "start_time": "2021-12-19T09:05:51.431Z"
   },
   {
    "duration": 74,
    "start_time": "2021-12-19T09:05:51.441Z"
   },
   {
    "duration": 207,
    "start_time": "2021-12-19T09:05:51.517Z"
   },
   {
    "duration": 94,
    "start_time": "2021-12-19T09:05:51.725Z"
   },
   {
    "duration": 430,
    "start_time": "2021-12-19T09:05:51.820Z"
   },
   {
    "duration": 43,
    "start_time": "2021-12-19T09:05:52.252Z"
   },
   {
    "duration": 95,
    "start_time": "2021-12-19T09:05:52.297Z"
   },
   {
    "duration": 13,
    "start_time": "2021-12-19T09:05:52.394Z"
   },
   {
    "duration": 49,
    "start_time": "2021-12-19T09:06:38.434Z"
   },
   {
    "duration": 22,
    "start_time": "2021-12-19T09:06:38.485Z"
   },
   {
    "duration": 7,
    "start_time": "2021-12-19T09:06:38.509Z"
   },
   {
    "duration": 3,
    "start_time": "2021-12-19T09:06:38.518Z"
   },
   {
    "duration": 6,
    "start_time": "2021-12-19T09:06:38.523Z"
   },
   {
    "duration": 7,
    "start_time": "2021-12-19T09:06:38.531Z"
   },
   {
    "duration": 20,
    "start_time": "2021-12-19T09:06:38.539Z"
   },
   {
    "duration": 4,
    "start_time": "2021-12-19T09:06:38.560Z"
   },
   {
    "duration": 13,
    "start_time": "2021-12-19T09:06:38.566Z"
   },
   {
    "duration": 28,
    "start_time": "2021-12-19T09:06:38.581Z"
   },
   {
    "duration": 5,
    "start_time": "2021-12-19T09:06:38.610Z"
   },
   {
    "duration": 92,
    "start_time": "2021-12-19T09:06:38.617Z"
   },
   {
    "duration": 140,
    "start_time": "2021-12-19T09:06:38.711Z"
   },
   {
    "duration": 108,
    "start_time": "2021-12-19T09:06:38.853Z"
   },
   {
    "duration": 468,
    "start_time": "2021-12-19T09:06:38.963Z"
   },
   {
    "duration": 51,
    "start_time": "2021-12-19T09:06:39.433Z"
   },
   {
    "duration": 124,
    "start_time": "2021-12-19T09:06:39.486Z"
   },
   {
    "duration": 593,
    "start_time": "2021-12-19T09:13:46.709Z"
   },
   {
    "duration": 49,
    "start_time": "2021-12-19T09:14:16.783Z"
   },
   {
    "duration": 24,
    "start_time": "2021-12-19T09:14:16.834Z"
   },
   {
    "duration": 7,
    "start_time": "2021-12-19T09:14:16.861Z"
   },
   {
    "duration": 4,
    "start_time": "2021-12-19T09:14:16.871Z"
   },
   {
    "duration": 37,
    "start_time": "2021-12-19T09:14:16.876Z"
   },
   {
    "duration": 9,
    "start_time": "2021-12-19T09:14:16.916Z"
   },
   {
    "duration": 23,
    "start_time": "2021-12-19T09:14:16.927Z"
   },
   {
    "duration": 6,
    "start_time": "2021-12-19T09:14:16.952Z"
   },
   {
    "duration": 45,
    "start_time": "2021-12-19T09:14:16.962Z"
   },
   {
    "duration": 4,
    "start_time": "2021-12-19T09:14:17.009Z"
   },
   {
    "duration": 4,
    "start_time": "2021-12-19T09:14:17.015Z"
   },
   {
    "duration": 94,
    "start_time": "2021-12-19T09:14:17.021Z"
   },
   {
    "duration": 125,
    "start_time": "2021-12-19T09:14:17.117Z"
   },
   {
    "duration": 110,
    "start_time": "2021-12-19T09:14:17.244Z"
   },
   {
    "duration": 465,
    "start_time": "2021-12-19T09:14:17.356Z"
   },
   {
    "duration": -18,
    "start_time": "2021-12-19T09:14:17.841Z"
   },
   {
    "duration": -20,
    "start_time": "2021-12-19T09:14:17.844Z"
   },
   {
    "duration": 48,
    "start_time": "2021-12-19T09:15:02.292Z"
   },
   {
    "duration": 24,
    "start_time": "2021-12-19T09:15:02.342Z"
   },
   {
    "duration": 7,
    "start_time": "2021-12-19T09:15:02.368Z"
   },
   {
    "duration": 32,
    "start_time": "2021-12-19T09:15:02.377Z"
   },
   {
    "duration": 8,
    "start_time": "2021-12-19T09:15:02.411Z"
   },
   {
    "duration": 8,
    "start_time": "2021-12-19T09:15:02.421Z"
   },
   {
    "duration": 23,
    "start_time": "2021-12-19T09:15:02.431Z"
   },
   {
    "duration": 6,
    "start_time": "2021-12-19T09:15:02.456Z"
   },
   {
    "duration": 43,
    "start_time": "2021-12-19T09:15:02.465Z"
   },
   {
    "duration": 6,
    "start_time": "2021-12-19T09:15:02.510Z"
   },
   {
    "duration": 5,
    "start_time": "2021-12-19T09:15:02.518Z"
   },
   {
    "duration": 182,
    "start_time": "2021-12-19T09:15:02.524Z"
   },
   {
    "duration": 48,
    "start_time": "2021-12-19T09:15:02.708Z"
   },
   {
    "duration": 124,
    "start_time": "2021-12-19T09:15:02.758Z"
   },
   {
    "duration": 552,
    "start_time": "2021-12-19T09:15:02.884Z"
   },
   {
    "duration": 48,
    "start_time": "2021-12-19T09:15:03.438Z"
   },
   {
    "duration": 124,
    "start_time": "2021-12-19T09:15:03.488Z"
   },
   {
    "duration": 1531,
    "start_time": "2021-12-20T07:36:02.569Z"
   },
   {
    "duration": 65,
    "start_time": "2021-12-20T07:36:07.384Z"
   },
   {
    "duration": 48,
    "start_time": "2021-12-20T07:37:14.150Z"
   },
   {
    "duration": 395,
    "start_time": "2021-12-20T07:41:35.769Z"
   },
   {
    "duration": 6,
    "start_time": "2021-12-20T07:42:02.663Z"
   },
   {
    "duration": 66,
    "start_time": "2021-12-20T07:42:02.671Z"
   },
   {
    "duration": 34,
    "start_time": "2021-12-20T07:42:02.815Z"
   },
   {
    "duration": 12,
    "start_time": "2021-12-20T07:42:02.852Z"
   },
   {
    "duration": 5,
    "start_time": "2021-12-20T07:42:02.868Z"
   },
   {
    "duration": 18,
    "start_time": "2021-12-20T07:42:02.877Z"
   },
   {
    "duration": 13,
    "start_time": "2021-12-20T07:42:02.898Z"
   },
   {
    "duration": 65,
    "start_time": "2021-12-20T07:42:02.913Z"
   },
   {
    "duration": 8,
    "start_time": "2021-12-20T07:42:02.980Z"
   },
   {
    "duration": 19,
    "start_time": "2021-12-20T07:42:02.994Z"
   },
   {
    "duration": 23,
    "start_time": "2021-12-20T07:42:03.017Z"
   },
   {
    "duration": 21,
    "start_time": "2021-12-20T07:42:03.042Z"
   },
   {
    "duration": 17,
    "start_time": "2021-12-20T07:42:03.066Z"
   },
   {
    "duration": 178,
    "start_time": "2021-12-20T07:42:03.085Z"
   },
   {
    "duration": 139,
    "start_time": "2021-12-20T07:42:03.267Z"
   },
   {
    "duration": 137,
    "start_time": "2021-12-20T07:42:03.409Z"
   },
   {
    "duration": 653,
    "start_time": "2021-12-20T07:42:03.549Z"
   },
   {
    "duration": 72,
    "start_time": "2021-12-20T07:42:04.204Z"
   },
   {
    "duration": 130,
    "start_time": "2021-12-20T07:42:04.278Z"
   },
   {
    "duration": 6,
    "start_time": "2021-12-20T08:21:05.950Z"
   },
   {
    "duration": 94,
    "start_time": "2021-12-20T08:21:05.958Z"
   },
   {
    "duration": 33,
    "start_time": "2021-12-20T08:21:06.055Z"
   },
   {
    "duration": 35,
    "start_time": "2021-12-20T08:21:06.091Z"
   },
   {
    "duration": 35,
    "start_time": "2021-12-20T08:21:06.128Z"
   },
   {
    "duration": 36,
    "start_time": "2021-12-20T08:21:06.166Z"
   },
   {
    "duration": 17,
    "start_time": "2021-12-20T08:21:06.204Z"
   },
   {
    "duration": 30,
    "start_time": "2021-12-20T08:21:06.223Z"
   },
   {
    "duration": 6,
    "start_time": "2021-12-20T08:21:06.256Z"
   },
   {
    "duration": 8,
    "start_time": "2021-12-20T08:21:06.265Z"
   },
   {
    "duration": 8,
    "start_time": "2021-12-20T08:21:06.275Z"
   },
   {
    "duration": 86,
    "start_time": "2021-12-20T08:21:06.286Z"
   },
   {
    "duration": 153,
    "start_time": "2021-12-20T08:21:06.464Z"
   },
   {
    "duration": 171,
    "start_time": "2021-12-20T08:21:06.619Z"
   },
   {
    "duration": 586,
    "start_time": "2021-12-20T08:21:06.792Z"
   },
   {
    "duration": 183,
    "start_time": "2021-12-20T08:21:07.380Z"
   },
   {
    "duration": 115,
    "start_time": "2021-12-20T08:21:07.567Z"
   },
   {
    "duration": 125,
    "start_time": "2021-12-20T08:21:07.685Z"
   },
   {
    "duration": 102,
    "start_time": "2021-12-20T08:21:57.965Z"
   },
   {
    "duration": 141,
    "start_time": "2021-12-20T08:22:09.429Z"
   },
   {
    "duration": 5,
    "start_time": "2021-12-20T08:22:17.588Z"
   },
   {
    "duration": 80,
    "start_time": "2021-12-20T08:22:17.596Z"
   },
   {
    "duration": 34,
    "start_time": "2021-12-20T08:22:17.680Z"
   },
   {
    "duration": 35,
    "start_time": "2021-12-20T08:22:17.717Z"
   },
   {
    "duration": 30,
    "start_time": "2021-12-20T08:22:17.754Z"
   },
   {
    "duration": 14,
    "start_time": "2021-12-20T08:22:17.786Z"
   },
   {
    "duration": 20,
    "start_time": "2021-12-20T08:22:17.802Z"
   },
   {
    "duration": 39,
    "start_time": "2021-12-20T08:22:17.825Z"
   },
   {
    "duration": 7,
    "start_time": "2021-12-20T08:22:17.868Z"
   },
   {
    "duration": 22,
    "start_time": "2021-12-20T08:22:17.878Z"
   },
   {
    "duration": 34,
    "start_time": "2021-12-20T08:22:17.902Z"
   },
   {
    "duration": 223,
    "start_time": "2021-12-20T08:22:17.939Z"
   },
   {
    "duration": 99,
    "start_time": "2021-12-20T08:22:18.165Z"
   },
   {
    "duration": 120,
    "start_time": "2021-12-20T08:22:18.266Z"
   },
   {
    "duration": 705,
    "start_time": "2021-12-20T08:22:18.389Z"
   },
   {
    "duration": 68,
    "start_time": "2021-12-20T08:22:19.097Z"
   },
   {
    "duration": 229,
    "start_time": "2021-12-20T08:22:19.170Z"
   },
   {
    "duration": 133,
    "start_time": "2021-12-20T08:22:19.402Z"
   },
   {
    "duration": 95,
    "start_time": "2021-12-20T08:22:44.672Z"
   },
   {
    "duration": 956,
    "start_time": "2021-12-20T08:22:59.444Z"
   },
   {
    "duration": 86,
    "start_time": "2021-12-20T08:23:11.778Z"
   },
   {
    "duration": 79,
    "start_time": "2021-12-20T08:23:34.387Z"
   },
   {
    "duration": 121,
    "start_time": "2021-12-20T08:23:44.744Z"
   },
   {
    "duration": 56,
    "start_time": "2021-12-20T08:24:14.547Z"
   },
   {
    "duration": 6,
    "start_time": "2021-12-20T08:24:32.492Z"
   },
   {
    "duration": 251,
    "start_time": "2021-12-20T08:24:36.613Z"
   },
   {
    "duration": 159,
    "start_time": "2021-12-20T08:25:01.711Z"
   },
   {
    "duration": 42,
    "start_time": "2021-12-20T08:43:23.224Z"
   },
   {
    "duration": 138,
    "start_time": "2021-12-20T08:46:39.808Z"
   },
   {
    "duration": 65,
    "start_time": "2021-12-20T08:48:19.314Z"
   },
   {
    "duration": 63,
    "start_time": "2021-12-20T08:48:23.770Z"
   },
   {
    "duration": 137,
    "start_time": "2021-12-20T08:50:12.296Z"
   },
   {
    "duration": 8,
    "start_time": "2021-12-20T08:51:49.022Z"
   },
   {
    "duration": 68,
    "start_time": "2021-12-20T08:51:49.033Z"
   },
   {
    "duration": 36,
    "start_time": "2021-12-20T08:51:49.105Z"
   },
   {
    "duration": 27,
    "start_time": "2021-12-20T08:51:49.143Z"
   },
   {
    "duration": 5,
    "start_time": "2021-12-20T08:51:49.172Z"
   },
   {
    "duration": 9,
    "start_time": "2021-12-20T08:51:49.179Z"
   },
   {
    "duration": 11,
    "start_time": "2021-12-20T08:51:49.190Z"
   },
   {
    "duration": 85,
    "start_time": "2021-12-20T08:51:49.203Z"
   },
   {
    "duration": 8,
    "start_time": "2021-12-20T08:51:49.293Z"
   },
   {
    "duration": 12,
    "start_time": "2021-12-20T08:51:49.305Z"
   },
   {
    "duration": 10,
    "start_time": "2021-12-20T08:51:49.320Z"
   },
   {
    "duration": 99,
    "start_time": "2021-12-20T08:51:49.364Z"
   },
   {
    "duration": 133,
    "start_time": "2021-12-20T08:51:49.466Z"
   },
   {
    "duration": 131,
    "start_time": "2021-12-20T08:51:49.601Z"
   },
   {
    "duration": 129,
    "start_time": "2021-12-20T08:51:49.735Z"
   },
   {
    "duration": 9,
    "start_time": "2021-12-20T08:51:49.867Z"
   },
   {
    "duration": 10,
    "start_time": "2021-12-20T08:51:49.964Z"
   },
   {
    "duration": 58,
    "start_time": "2021-12-20T08:51:49.977Z"
   },
   {
    "duration": 133,
    "start_time": "2021-12-20T08:51:50.038Z"
   },
   {
    "duration": 499,
    "start_time": "2021-12-20T08:55:58.271Z"
   },
   {
    "duration": 6,
    "start_time": "2021-12-20T08:56:25.858Z"
   },
   {
    "duration": 65,
    "start_time": "2021-12-20T08:56:25.867Z"
   },
   {
    "duration": 51,
    "start_time": "2021-12-20T08:56:25.935Z"
   },
   {
    "duration": 8,
    "start_time": "2021-12-20T08:56:25.988Z"
   },
   {
    "duration": 6,
    "start_time": "2021-12-20T08:56:25.998Z"
   },
   {
    "duration": 9,
    "start_time": "2021-12-20T08:56:26.006Z"
   },
   {
    "duration": 47,
    "start_time": "2021-12-20T08:56:26.017Z"
   },
   {
    "duration": 31,
    "start_time": "2021-12-20T08:56:26.068Z"
   },
   {
    "duration": 7,
    "start_time": "2021-12-20T08:56:26.102Z"
   },
   {
    "duration": 9,
    "start_time": "2021-12-20T08:56:26.112Z"
   },
   {
    "duration": 43,
    "start_time": "2021-12-20T08:56:26.124Z"
   },
   {
    "duration": 101,
    "start_time": "2021-12-20T08:56:26.170Z"
   },
   {
    "duration": 48,
    "start_time": "2021-12-20T08:56:26.364Z"
   },
   {
    "duration": 137,
    "start_time": "2021-12-20T08:56:26.414Z"
   },
   {
    "duration": 112,
    "start_time": "2021-12-20T08:56:26.553Z"
   },
   {
    "duration": 295,
    "start_time": "2021-12-20T08:56:26.668Z"
   },
   {
    "duration": 5,
    "start_time": "2021-12-20T08:56:26.966Z"
   },
   {
    "duration": 5,
    "start_time": "2021-12-20T08:56:27.063Z"
   },
   {
    "duration": 51,
    "start_time": "2021-12-20T08:56:27.070Z"
   },
   {
    "duration": 184,
    "start_time": "2021-12-20T08:56:27.124Z"
   },
   {
    "duration": 99,
    "start_time": "2021-12-20T08:57:31.264Z"
   },
   {
    "duration": 2346,
    "start_time": "2021-12-20T09:00:38.724Z"
   },
   {
    "duration": 6,
    "start_time": "2021-12-20T09:00:51.051Z"
   },
   {
    "duration": 70,
    "start_time": "2021-12-20T09:00:51.059Z"
   },
   {
    "duration": 40,
    "start_time": "2021-12-20T09:00:51.132Z"
   },
   {
    "duration": 8,
    "start_time": "2021-12-20T09:00:51.175Z"
   },
   {
    "duration": 4,
    "start_time": "2021-12-20T09:00:51.186Z"
   },
   {
    "duration": 10,
    "start_time": "2021-12-20T09:00:51.192Z"
   },
   {
    "duration": 12,
    "start_time": "2021-12-20T09:00:51.204Z"
   },
   {
    "duration": 32,
    "start_time": "2021-12-20T09:00:51.262Z"
   },
   {
    "duration": 6,
    "start_time": "2021-12-20T09:00:51.298Z"
   },
   {
    "duration": 9,
    "start_time": "2021-12-20T09:00:51.307Z"
   },
   {
    "duration": 42,
    "start_time": "2021-12-20T09:00:51.320Z"
   },
   {
    "duration": 101,
    "start_time": "2021-12-20T09:00:51.365Z"
   },
   {
    "duration": 143,
    "start_time": "2021-12-20T09:00:51.471Z"
   },
   {
    "duration": 140,
    "start_time": "2021-12-20T09:00:51.617Z"
   },
   {
    "duration": 2470,
    "start_time": "2021-12-20T09:00:51.763Z"
   },
   {
    "duration": 134,
    "start_time": "2021-12-20T09:00:54.236Z"
   },
   {
    "duration": 88,
    "start_time": "2021-12-20T09:00:54.376Z"
   },
   {
    "duration": 97,
    "start_time": "2021-12-20T09:00:54.467Z"
   },
   {
    "duration": 51,
    "start_time": "2021-12-20T09:00:54.567Z"
   },
   {
    "duration": 137,
    "start_time": "2021-12-20T09:00:54.620Z"
   },
   {
    "duration": 180,
    "start_time": "2021-12-20T09:01:50.266Z"
   },
   {
    "duration": 823,
    "start_time": "2021-12-20T09:02:03.821Z"
   },
   {
    "duration": 177,
    "start_time": "2021-12-20T09:02:17.020Z"
   },
   {
    "duration": 189,
    "start_time": "2021-12-20T09:03:13.999Z"
   },
   {
    "duration": 47,
    "start_time": "2021-12-20T09:03:28.349Z"
   },
   {
    "duration": 176,
    "start_time": "2021-12-20T09:03:31.310Z"
   },
   {
    "duration": 96,
    "start_time": "2021-12-20T09:04:00.346Z"
   },
   {
    "duration": 197,
    "start_time": "2021-12-20T09:04:09.077Z"
   },
   {
    "duration": 7,
    "start_time": "2021-12-20T09:05:29.422Z"
   },
   {
    "duration": 71,
    "start_time": "2021-12-20T09:05:29.432Z"
   },
   {
    "duration": 33,
    "start_time": "2021-12-20T09:05:29.506Z"
   },
   {
    "duration": 26,
    "start_time": "2021-12-20T09:05:29.542Z"
   },
   {
    "duration": 4,
    "start_time": "2021-12-20T09:05:29.571Z"
   },
   {
    "duration": 10,
    "start_time": "2021-12-20T09:05:29.577Z"
   },
   {
    "duration": 10,
    "start_time": "2021-12-20T09:05:29.591Z"
   },
   {
    "duration": 73,
    "start_time": "2021-12-20T09:05:29.605Z"
   },
   {
    "duration": 7,
    "start_time": "2021-12-20T09:05:29.680Z"
   },
   {
    "duration": 11,
    "start_time": "2021-12-20T09:05:29.689Z"
   },
   {
    "duration": 8,
    "start_time": "2021-12-20T09:05:29.703Z"
   },
   {
    "duration": 150,
    "start_time": "2021-12-20T09:05:29.714Z"
   },
   {
    "duration": 140,
    "start_time": "2021-12-20T09:05:29.867Z"
   },
   {
    "duration": 307,
    "start_time": "2021-12-20T09:05:30.009Z"
   },
   {
    "duration": 37,
    "start_time": "2021-12-20T09:05:30.282Z"
   },
   {
    "duration": 35,
    "start_time": "2021-12-20T09:05:30.285Z"
   },
   {
    "duration": 36,
    "start_time": "2021-12-20T09:05:30.286Z"
   },
   {
    "duration": 36,
    "start_time": "2021-12-20T09:05:30.287Z"
   },
   {
    "duration": 37,
    "start_time": "2021-12-20T09:05:30.288Z"
   },
   {
    "duration": 37,
    "start_time": "2021-12-20T09:05:30.289Z"
   },
   {
    "duration": 38,
    "start_time": "2021-12-20T09:05:30.289Z"
   },
   {
    "duration": 39,
    "start_time": "2021-12-20T09:05:30.290Z"
   },
   {
    "duration": 197,
    "start_time": "2021-12-20T09:06:19.371Z"
   },
   {
    "duration": 32,
    "start_time": "2021-12-20T09:07:09.569Z"
   },
   {
    "duration": 83,
    "start_time": "2021-12-20T09:07:29.756Z"
   },
   {
    "duration": 34,
    "start_time": "2021-12-20T09:07:38.459Z"
   },
   {
    "duration": 6,
    "start_time": "2021-12-20T09:07:46.715Z"
   },
   {
    "duration": 94,
    "start_time": "2021-12-20T09:07:46.727Z"
   },
   {
    "duration": 34,
    "start_time": "2021-12-20T09:07:46.823Z"
   },
   {
    "duration": 27,
    "start_time": "2021-12-20T09:07:46.864Z"
   },
   {
    "duration": 25,
    "start_time": "2021-12-20T09:07:46.893Z"
   },
   {
    "duration": 31,
    "start_time": "2021-12-20T09:07:46.920Z"
   },
   {
    "duration": 30,
    "start_time": "2021-12-20T09:07:46.954Z"
   },
   {
    "duration": 50,
    "start_time": "2021-12-20T09:07:46.986Z"
   },
   {
    "duration": 20,
    "start_time": "2021-12-20T09:07:47.039Z"
   },
   {
    "duration": 31,
    "start_time": "2021-12-20T09:07:47.063Z"
   },
   {
    "duration": 31,
    "start_time": "2021-12-20T09:07:47.097Z"
   },
   {
    "duration": 136,
    "start_time": "2021-12-20T09:07:47.130Z"
   },
   {
    "duration": 139,
    "start_time": "2021-12-20T09:07:47.270Z"
   },
   {
    "duration": 236,
    "start_time": "2021-12-20T09:07:47.411Z"
   },
   {
    "duration": 36,
    "start_time": "2021-12-20T09:07:47.662Z"
   },
   {
    "duration": 129,
    "start_time": "2021-12-20T09:07:47.700Z"
   },
   {
    "duration": 2562,
    "start_time": "2021-12-20T09:07:47.832Z"
   },
   {
    "duration": 195,
    "start_time": "2021-12-20T09:07:50.397Z"
   },
   {
    "duration": 170,
    "start_time": "2021-12-20T09:07:50.594Z"
   },
   {
    "duration": 5,
    "start_time": "2021-12-20T09:07:50.771Z"
   },
   {
    "duration": 8,
    "start_time": "2021-12-20T09:07:50.864Z"
   },
   {
    "duration": 36,
    "start_time": "2021-12-20T09:07:50.875Z"
   },
   {
    "duration": 215,
    "start_time": "2021-12-20T09:07:50.913Z"
   },
   {
    "duration": 101,
    "start_time": "2021-12-20T09:12:39.221Z"
   },
   {
    "duration": 89,
    "start_time": "2021-12-20T09:14:36.698Z"
   },
   {
    "duration": 6,
    "start_time": "2021-12-20T09:18:07.156Z"
   },
   {
    "duration": 66,
    "start_time": "2021-12-20T09:18:07.176Z"
   },
   {
    "duration": 32,
    "start_time": "2021-12-20T09:18:07.245Z"
   },
   {
    "duration": 10,
    "start_time": "2021-12-20T09:18:07.279Z"
   },
   {
    "duration": 12,
    "start_time": "2021-12-20T09:18:07.291Z"
   },
   {
    "duration": 15,
    "start_time": "2021-12-20T09:18:07.306Z"
   },
   {
    "duration": 13,
    "start_time": "2021-12-20T09:18:07.324Z"
   },
   {
    "duration": 60,
    "start_time": "2021-12-20T09:18:07.339Z"
   },
   {
    "duration": 6,
    "start_time": "2021-12-20T09:18:07.403Z"
   },
   {
    "duration": 15,
    "start_time": "2021-12-20T09:18:07.412Z"
   },
   {
    "duration": 15,
    "start_time": "2021-12-20T09:18:07.429Z"
   },
   {
    "duration": 122,
    "start_time": "2021-12-20T09:18:07.446Z"
   },
   {
    "duration": 137,
    "start_time": "2021-12-20T09:18:07.571Z"
   },
   {
    "duration": 218,
    "start_time": "2021-12-20T09:18:07.711Z"
   },
   {
    "duration": 40,
    "start_time": "2021-12-20T09:18:07.931Z"
   },
   {
    "duration": 126,
    "start_time": "2021-12-20T09:18:07.973Z"
   },
   {
    "duration": 2461,
    "start_time": "2021-12-20T09:18:08.102Z"
   },
   {
    "duration": 176,
    "start_time": "2021-12-20T09:18:10.565Z"
   },
   {
    "duration": 227,
    "start_time": "2021-12-20T09:18:10.744Z"
   },
   {
    "duration": 89,
    "start_time": "2021-12-20T09:18:10.974Z"
   },
   {
    "duration": 10,
    "start_time": "2021-12-20T09:18:11.066Z"
   },
   {
    "duration": 40,
    "start_time": "2021-12-20T09:18:11.078Z"
   },
   {
    "duration": 243,
    "start_time": "2021-12-20T09:18:11.120Z"
   },
   {
    "duration": 110,
    "start_time": "2021-12-20T09:18:48.409Z"
   },
   {
    "duration": 86,
    "start_time": "2021-12-20T09:20:36.725Z"
   },
   {
    "duration": 182,
    "start_time": "2021-12-20T09:28:04.086Z"
   },
   {
    "duration": 187,
    "start_time": "2021-12-20T09:28:16.146Z"
   },
   {
    "duration": 829,
    "start_time": "2021-12-20T09:29:26.407Z"
   },
   {
    "duration": 8267,
    "start_time": "2021-12-20T09:29:33.313Z"
   },
   {
    "duration": 959,
    "start_time": "2021-12-20T09:29:56.104Z"
   },
   {
    "duration": 829,
    "start_time": "2021-12-20T09:30:03.282Z"
   },
   {
    "duration": 35,
    "start_time": "2021-12-20T09:31:06.885Z"
   },
   {
    "duration": 8,
    "start_time": "2021-12-20T09:31:27.981Z"
   },
   {
    "duration": 63,
    "start_time": "2021-12-20T09:31:27.993Z"
   },
   {
    "duration": 34,
    "start_time": "2021-12-20T09:31:28.059Z"
   },
   {
    "duration": 9,
    "start_time": "2021-12-20T09:31:28.095Z"
   },
   {
    "duration": 4,
    "start_time": "2021-12-20T09:31:28.106Z"
   },
   {
    "duration": 9,
    "start_time": "2021-12-20T09:31:28.112Z"
   },
   {
    "duration": 11,
    "start_time": "2021-12-20T09:31:28.164Z"
   },
   {
    "duration": 31,
    "start_time": "2021-12-20T09:31:28.178Z"
   },
   {
    "duration": 6,
    "start_time": "2021-12-20T09:31:28.213Z"
   },
   {
    "duration": 46,
    "start_time": "2021-12-20T09:31:28.222Z"
   },
   {
    "duration": 9,
    "start_time": "2021-12-20T09:31:28.271Z"
   },
   {
    "duration": 52,
    "start_time": "2021-12-20T09:31:28.282Z"
   },
   {
    "duration": 139,
    "start_time": "2021-12-20T09:31:28.363Z"
   },
   {
    "duration": 230,
    "start_time": "2021-12-20T09:31:28.504Z"
   },
   {
    "duration": 43,
    "start_time": "2021-12-20T09:31:28.736Z"
   },
   {
    "duration": 122,
    "start_time": "2021-12-20T09:31:28.782Z"
   },
   {
    "duration": 2368,
    "start_time": "2021-12-20T09:31:28.906Z"
   },
   {
    "duration": 189,
    "start_time": "2021-12-20T09:31:31.277Z"
   },
   {
    "duration": 105,
    "start_time": "2021-12-20T09:31:31.468Z"
   },
   {
    "duration": 4,
    "start_time": "2021-12-20T09:31:31.666Z"
   },
   {
    "duration": 9,
    "start_time": "2021-12-20T09:31:31.672Z"
   },
   {
    "duration": 88,
    "start_time": "2021-12-20T09:31:31.683Z"
   },
   {
    "duration": 191,
    "start_time": "2021-12-20T09:31:31.774Z"
   },
   {
    "duration": 862,
    "start_time": "2021-12-20T09:31:31.968Z"
   },
   {
    "duration": 48,
    "start_time": "2021-12-20T09:31:32.832Z"
   },
   {
    "duration": 34,
    "start_time": "2021-12-20T09:31:58.764Z"
   },
   {
    "duration": 40,
    "start_time": "2021-12-20T09:33:26.947Z"
   },
   {
    "duration": 34,
    "start_time": "2021-12-20T09:33:41.280Z"
   },
   {
    "duration": 1052,
    "start_time": "2021-12-21T07:38:07.415Z"
   },
   {
    "duration": 55,
    "start_time": "2021-12-21T07:38:08.469Z"
   },
   {
    "duration": 21,
    "start_time": "2021-12-21T07:38:08.527Z"
   },
   {
    "duration": 11,
    "start_time": "2021-12-21T07:38:08.550Z"
   },
   {
    "duration": 13,
    "start_time": "2021-12-21T07:38:08.562Z"
   },
   {
    "duration": 29,
    "start_time": "2021-12-21T07:38:08.577Z"
   },
   {
    "duration": 7,
    "start_time": "2021-12-21T07:38:08.608Z"
   },
   {
    "duration": 29,
    "start_time": "2021-12-21T07:38:08.617Z"
   },
   {
    "duration": 5,
    "start_time": "2021-12-21T07:38:08.648Z"
   },
   {
    "duration": 18,
    "start_time": "2021-12-21T07:38:08.655Z"
   },
   {
    "duration": 14,
    "start_time": "2021-12-21T07:38:08.675Z"
   },
   {
    "duration": 72,
    "start_time": "2021-12-21T07:38:08.690Z"
   },
   {
    "duration": 125,
    "start_time": "2021-12-21T07:38:08.764Z"
   },
   {
    "duration": 160,
    "start_time": "2021-12-21T07:38:08.891Z"
   },
   {
    "duration": 29,
    "start_time": "2021-12-21T07:38:09.052Z"
   },
   {
    "duration": 88,
    "start_time": "2021-12-21T07:38:09.082Z"
   },
   {
    "duration": 1510,
    "start_time": "2021-12-21T07:38:09.171Z"
   },
   {
    "duration": 120,
    "start_time": "2021-12-21T07:38:10.683Z"
   },
   {
    "duration": 62,
    "start_time": "2021-12-21T07:38:10.804Z"
   },
   {
    "duration": 293,
    "start_time": "2021-12-21T07:38:10.869Z"
   },
   {
    "duration": 4,
    "start_time": "2021-12-21T07:38:11.165Z"
   },
   {
    "duration": 97,
    "start_time": "2021-12-21T07:38:11.171Z"
   },
   {
    "duration": 33,
    "start_time": "2021-12-21T07:38:11.269Z"
   },
   {
    "duration": 161,
    "start_time": "2021-12-21T07:38:11.304Z"
   },
   {
    "duration": 593,
    "start_time": "2021-12-21T07:38:11.467Z"
   },
   {
    "duration": 4,
    "start_time": "2021-12-21T07:40:31.722Z"
   },
   {
    "duration": 47,
    "start_time": "2021-12-21T07:40:31.728Z"
   },
   {
    "duration": 23,
    "start_time": "2021-12-21T07:40:31.778Z"
   },
   {
    "duration": 7,
    "start_time": "2021-12-21T07:40:31.802Z"
   },
   {
    "duration": 5,
    "start_time": "2021-12-21T07:40:31.811Z"
   },
   {
    "duration": 12,
    "start_time": "2021-12-21T07:40:31.818Z"
   },
   {
    "duration": 34,
    "start_time": "2021-12-21T07:40:31.831Z"
   },
   {
    "duration": 19,
    "start_time": "2021-12-21T07:40:31.867Z"
   },
   {
    "duration": 7,
    "start_time": "2021-12-21T07:40:31.889Z"
   },
   {
    "duration": 25,
    "start_time": "2021-12-21T07:40:31.898Z"
   },
   {
    "duration": 20,
    "start_time": "2021-12-21T07:40:31.925Z"
   },
   {
    "duration": 114,
    "start_time": "2021-12-21T07:40:31.946Z"
   },
   {
    "duration": 130,
    "start_time": "2021-12-21T07:40:32.063Z"
   },
   {
    "duration": 146,
    "start_time": "2021-12-21T07:40:32.194Z"
   },
   {
    "duration": 30,
    "start_time": "2021-12-21T07:40:32.341Z"
   },
   {
    "duration": 75,
    "start_time": "2021-12-21T07:40:32.372Z"
   },
   {
    "duration": 1686,
    "start_time": "2021-12-21T07:40:32.449Z"
   },
   {
    "duration": 125,
    "start_time": "2021-12-21T07:40:34.136Z"
   },
   {
    "duration": 104,
    "start_time": "2021-12-21T07:40:34.263Z"
   },
   {
    "duration": 193,
    "start_time": "2021-12-21T07:40:34.369Z"
   },
   {
    "duration": 198,
    "start_time": "2021-12-21T07:40:34.564Z"
   },
   {
    "duration": 3,
    "start_time": "2021-12-21T07:40:34.764Z"
   },
   {
    "duration": 93,
    "start_time": "2021-12-21T07:40:34.769Z"
   },
   {
    "duration": 122,
    "start_time": "2021-12-21T07:40:34.865Z"
   },
   {
    "duration": 121,
    "start_time": "2021-12-21T07:40:34.989Z"
   },
   {
    "duration": 519,
    "start_time": "2021-12-21T07:40:35.111Z"
   },
   {
    "duration": 5,
    "start_time": "2021-12-21T07:40:57.485Z"
   },
   {
    "duration": 48,
    "start_time": "2021-12-21T07:40:57.493Z"
   },
   {
    "duration": 21,
    "start_time": "2021-12-21T07:40:57.544Z"
   },
   {
    "duration": 7,
    "start_time": "2021-12-21T07:40:57.568Z"
   },
   {
    "duration": 5,
    "start_time": "2021-12-21T07:40:57.577Z"
   },
   {
    "duration": 10,
    "start_time": "2021-12-21T07:40:57.583Z"
   },
   {
    "duration": 8,
    "start_time": "2021-12-21T07:40:57.595Z"
   },
   {
    "duration": 20,
    "start_time": "2021-12-21T07:40:57.606Z"
   },
   {
    "duration": 35,
    "start_time": "2021-12-21T07:40:57.629Z"
   },
   {
    "duration": 8,
    "start_time": "2021-12-21T07:40:57.665Z"
   },
   {
    "duration": 9,
    "start_time": "2021-12-21T07:40:57.674Z"
   },
   {
    "duration": 77,
    "start_time": "2021-12-21T07:40:57.685Z"
   },
   {
    "duration": 126,
    "start_time": "2021-12-21T07:40:57.766Z"
   },
   {
    "duration": 152,
    "start_time": "2021-12-21T07:40:57.894Z"
   },
   {
    "duration": 33,
    "start_time": "2021-12-21T07:40:58.048Z"
   },
   {
    "duration": 82,
    "start_time": "2021-12-21T07:40:58.083Z"
   },
   {
    "duration": 1655,
    "start_time": "2021-12-21T07:40:58.166Z"
   },
   {
    "duration": 124,
    "start_time": "2021-12-21T07:40:59.823Z"
   },
   {
    "duration": 115,
    "start_time": "2021-12-21T07:40:59.949Z"
   },
   {
    "duration": 204,
    "start_time": "2021-12-21T07:41:00.066Z"
   },
   {
    "duration": 194,
    "start_time": "2021-12-21T07:41:00.272Z"
   },
   {
    "duration": 3,
    "start_time": "2021-12-21T07:41:00.468Z"
   },
   {
    "duration": 27,
    "start_time": "2021-12-21T07:41:00.563Z"
   },
   {
    "duration": 25,
    "start_time": "2021-12-21T07:41:00.593Z"
   },
   {
    "duration": 154,
    "start_time": "2021-12-21T07:41:00.619Z"
   },
   {
    "duration": 546,
    "start_time": "2021-12-21T07:41:00.775Z"
   },
   {
    "duration": 5,
    "start_time": "2021-12-21T07:42:44.999Z"
   },
   {
    "duration": 62,
    "start_time": "2021-12-21T07:42:45.006Z"
   },
   {
    "duration": 21,
    "start_time": "2021-12-21T07:42:45.071Z"
   },
   {
    "duration": 7,
    "start_time": "2021-12-21T07:42:45.094Z"
   },
   {
    "duration": 3,
    "start_time": "2021-12-21T07:42:45.103Z"
   },
   {
    "duration": 8,
    "start_time": "2021-12-21T07:42:45.108Z"
   },
   {
    "duration": 7,
    "start_time": "2021-12-21T07:42:45.117Z"
   },
   {
    "duration": 53,
    "start_time": "2021-12-21T07:42:45.125Z"
   },
   {
    "duration": 5,
    "start_time": "2021-12-21T07:42:45.180Z"
   },
   {
    "duration": 7,
    "start_time": "2021-12-21T07:42:45.187Z"
   },
   {
    "duration": 7,
    "start_time": "2021-12-21T07:42:45.196Z"
   },
   {
    "duration": 64,
    "start_time": "2021-12-21T07:42:45.205Z"
   },
   {
    "duration": 123,
    "start_time": "2021-12-21T07:42:45.271Z"
   },
   {
    "duration": 186,
    "start_time": "2021-12-21T07:42:45.396Z"
   },
   {
    "duration": 25,
    "start_time": "2021-12-21T07:42:45.584Z"
   },
   {
    "duration": 89,
    "start_time": "2021-12-21T07:42:45.610Z"
   },
   {
    "duration": 1656,
    "start_time": "2021-12-21T07:42:45.701Z"
   },
   {
    "duration": 121,
    "start_time": "2021-12-21T07:42:47.361Z"
   },
   {
    "duration": 87,
    "start_time": "2021-12-21T07:42:47.484Z"
   },
   {
    "duration": 135,
    "start_time": "2021-12-21T07:42:47.662Z"
   },
   {
    "duration": 120,
    "start_time": "2021-12-21T07:42:47.862Z"
   },
   {
    "duration": 3,
    "start_time": "2021-12-21T07:42:48.061Z"
   },
   {
    "duration": 104,
    "start_time": "2021-12-21T07:42:48.066Z"
   },
   {
    "duration": 29,
    "start_time": "2021-12-21T07:42:48.171Z"
   },
   {
    "duration": 158,
    "start_time": "2021-12-21T07:42:48.202Z"
   },
   {
    "duration": 216,
    "start_time": "2021-12-21T07:42:48.363Z"
   },
   {
    "duration": 529,
    "start_time": "2021-12-21T07:42:48.582Z"
   },
   {
    "duration": 4,
    "start_time": "2021-12-21T07:42:59.736Z"
   },
   {
    "duration": 86,
    "start_time": "2021-12-21T07:42:59.743Z"
   },
   {
    "duration": 24,
    "start_time": "2021-12-21T07:42:59.831Z"
   },
   {
    "duration": 5,
    "start_time": "2021-12-21T07:42:59.857Z"
   },
   {
    "duration": 11,
    "start_time": "2021-12-21T07:42:59.864Z"
   },
   {
    "duration": 10,
    "start_time": "2021-12-21T07:42:59.876Z"
   },
   {
    "duration": 12,
    "start_time": "2021-12-21T07:42:59.887Z"
   },
   {
    "duration": 19,
    "start_time": "2021-12-21T07:42:59.901Z"
   },
   {
    "duration": 5,
    "start_time": "2021-12-21T07:42:59.923Z"
   },
   {
    "duration": 14,
    "start_time": "2021-12-21T07:42:59.929Z"
   },
   {
    "duration": 8,
    "start_time": "2021-12-21T07:42:59.960Z"
   },
   {
    "duration": 95,
    "start_time": "2021-12-21T07:42:59.969Z"
   },
   {
    "duration": 126,
    "start_time": "2021-12-21T07:43:00.066Z"
   },
   {
    "duration": 166,
    "start_time": "2021-12-21T07:43:00.194Z"
   },
   {
    "duration": 24,
    "start_time": "2021-12-21T07:43:00.362Z"
   },
   {
    "duration": 92,
    "start_time": "2021-12-21T07:43:00.388Z"
   },
   {
    "duration": 1636,
    "start_time": "2021-12-21T07:43:00.481Z"
   },
   {
    "duration": 134,
    "start_time": "2021-12-21T07:43:02.119Z"
   },
   {
    "duration": 107,
    "start_time": "2021-12-21T07:43:02.255Z"
   },
   {
    "duration": 225,
    "start_time": "2021-12-21T07:43:02.365Z"
   },
   {
    "duration": 179,
    "start_time": "2021-12-21T07:43:02.592Z"
   },
   {
    "duration": 90,
    "start_time": "2021-12-21T07:43:02.773Z"
   },
   {
    "duration": 110,
    "start_time": "2021-12-21T07:43:02.868Z"
   },
   {
    "duration": 35,
    "start_time": "2021-12-21T07:43:02.981Z"
   },
   {
    "duration": 91,
    "start_time": "2021-12-21T07:43:03.017Z"
   },
   {
    "duration": 217,
    "start_time": "2021-12-21T07:43:03.162Z"
   },
   {
    "duration": 534,
    "start_time": "2021-12-21T07:43:03.381Z"
   },
   {
    "duration": 4,
    "start_time": "2021-12-21T07:44:46.443Z"
   },
   {
    "duration": 69,
    "start_time": "2021-12-21T07:44:46.451Z"
   },
   {
    "duration": 22,
    "start_time": "2021-12-21T07:44:46.522Z"
   },
   {
    "duration": 9,
    "start_time": "2021-12-21T07:44:46.546Z"
   },
   {
    "duration": 25,
    "start_time": "2021-12-21T07:44:46.557Z"
   },
   {
    "duration": 22,
    "start_time": "2021-12-21T07:44:46.584Z"
   },
   {
    "duration": 19,
    "start_time": "2021-12-21T07:44:46.608Z"
   },
   {
    "duration": 48,
    "start_time": "2021-12-21T07:44:46.629Z"
   },
   {
    "duration": 6,
    "start_time": "2021-12-21T07:44:46.679Z"
   },
   {
    "duration": 31,
    "start_time": "2021-12-21T07:44:46.686Z"
   },
   {
    "duration": 27,
    "start_time": "2021-12-21T07:44:46.719Z"
   },
   {
    "duration": 65,
    "start_time": "2021-12-21T07:44:46.748Z"
   },
   {
    "duration": 37,
    "start_time": "2021-12-21T07:44:46.961Z"
   },
   {
    "duration": 163,
    "start_time": "2021-12-21T07:44:47.000Z"
   },
   {
    "duration": 26,
    "start_time": "2021-12-21T07:44:47.165Z"
   },
   {
    "duration": 100,
    "start_time": "2021-12-21T07:44:47.194Z"
   },
   {
    "duration": 1526,
    "start_time": "2021-12-21T07:44:47.295Z"
   },
   {
    "duration": 124,
    "start_time": "2021-12-21T07:44:48.823Z"
   },
   {
    "duration": 112,
    "start_time": "2021-12-21T07:44:48.949Z"
   },
   {
    "duration": 199,
    "start_time": "2021-12-21T07:44:49.063Z"
   },
   {
    "duration": 216,
    "start_time": "2021-12-21T07:44:49.264Z"
   },
   {
    "duration": 84,
    "start_time": "2021-12-21T07:44:49.482Z"
   },
   {
    "duration": 109,
    "start_time": "2021-12-21T07:44:49.569Z"
   },
   {
    "duration": 34,
    "start_time": "2021-12-21T07:44:49.681Z"
   },
   {
    "duration": 52,
    "start_time": "2021-12-21T07:44:49.717Z"
   },
   {
    "duration": 149,
    "start_time": "2021-12-21T07:44:49.771Z"
   },
   {
    "duration": 557,
    "start_time": "2021-12-21T07:44:49.922Z"
   },
   {
    "duration": 4,
    "start_time": "2021-12-21T07:45:05.401Z"
   },
   {
    "duration": 47,
    "start_time": "2021-12-21T07:45:05.407Z"
   },
   {
    "duration": 20,
    "start_time": "2021-12-21T07:45:05.456Z"
   },
   {
    "duration": 5,
    "start_time": "2021-12-21T07:45:05.478Z"
   },
   {
    "duration": 8,
    "start_time": "2021-12-21T07:45:05.484Z"
   },
   {
    "duration": 10,
    "start_time": "2021-12-21T07:45:05.494Z"
   },
   {
    "duration": 7,
    "start_time": "2021-12-21T07:45:05.506Z"
   },
   {
    "duration": 19,
    "start_time": "2021-12-21T07:45:05.516Z"
   },
   {
    "duration": 27,
    "start_time": "2021-12-21T07:45:05.536Z"
   },
   {
    "duration": 7,
    "start_time": "2021-12-21T07:45:05.565Z"
   },
   {
    "duration": 6,
    "start_time": "2021-12-21T07:45:05.574Z"
   },
   {
    "duration": 81,
    "start_time": "2021-12-21T07:45:05.581Z"
   },
   {
    "duration": 125,
    "start_time": "2021-12-21T07:45:05.664Z"
   },
   {
    "duration": 155,
    "start_time": "2021-12-21T07:45:05.791Z"
   },
   {
    "duration": 30,
    "start_time": "2021-12-21T07:45:05.948Z"
   },
   {
    "duration": 83,
    "start_time": "2021-12-21T07:45:05.979Z"
   },
   {
    "duration": 1587,
    "start_time": "2021-12-21T07:45:06.064Z"
   },
   {
    "duration": 121,
    "start_time": "2021-12-21T07:45:07.653Z"
   },
   {
    "duration": 90,
    "start_time": "2021-12-21T07:45:07.777Z"
   },
   {
    "duration": 195,
    "start_time": "2021-12-21T07:45:07.869Z"
   },
   {
    "duration": 212,
    "start_time": "2021-12-21T07:45:08.066Z"
   },
   {
    "duration": 83,
    "start_time": "2021-12-21T07:45:08.282Z"
   },
   {
    "duration": 10,
    "start_time": "2021-12-21T07:45:08.460Z"
   },
   {
    "duration": 27,
    "start_time": "2021-12-21T07:45:08.472Z"
   },
   {
    "duration": 69,
    "start_time": "2021-12-21T07:45:08.502Z"
   },
   {
    "duration": 123,
    "start_time": "2021-12-21T07:45:08.574Z"
   },
   {
    "duration": 527,
    "start_time": "2021-12-21T07:45:08.699Z"
   },
   {
    "duration": 66,
    "start_time": "2021-12-21T07:45:29.728Z"
   },
   {
    "duration": 5,
    "start_time": "2021-12-21T07:46:10.545Z"
   },
   {
    "duration": 46,
    "start_time": "2021-12-21T07:46:10.551Z"
   },
   {
    "duration": 19,
    "start_time": "2021-12-21T07:46:10.599Z"
   },
   {
    "duration": 6,
    "start_time": "2021-12-21T07:46:10.620Z"
   },
   {
    "duration": 4,
    "start_time": "2021-12-21T07:46:10.627Z"
   },
   {
    "duration": 31,
    "start_time": "2021-12-21T07:46:10.632Z"
   },
   {
    "duration": 7,
    "start_time": "2021-12-21T07:46:10.665Z"
   },
   {
    "duration": 19,
    "start_time": "2021-12-21T07:46:10.674Z"
   },
   {
    "duration": 4,
    "start_time": "2021-12-21T07:46:10.694Z"
   },
   {
    "duration": 6,
    "start_time": "2021-12-21T07:46:10.700Z"
   },
   {
    "duration": 6,
    "start_time": "2021-12-21T07:46:10.708Z"
   },
   {
    "duration": 145,
    "start_time": "2021-12-21T07:46:10.715Z"
   },
   {
    "duration": 126,
    "start_time": "2021-12-21T07:46:10.863Z"
   },
   {
    "duration": 152,
    "start_time": "2021-12-21T07:46:10.991Z"
   },
   {
    "duration": 26,
    "start_time": "2021-12-21T07:46:11.145Z"
   },
   {
    "duration": 73,
    "start_time": "2021-12-21T07:46:11.173Z"
   },
   {
    "duration": 1512,
    "start_time": "2021-12-21T07:46:11.260Z"
   },
   {
    "duration": 129,
    "start_time": "2021-12-21T07:46:12.773Z"
   },
   {
    "duration": 65,
    "start_time": "2021-12-21T07:46:12.905Z"
   },
   {
    "duration": 292,
    "start_time": "2021-12-21T07:46:12.972Z"
   },
   {
    "duration": 196,
    "start_time": "2021-12-21T07:46:13.266Z"
   },
   {
    "duration": 4,
    "start_time": "2021-12-21T07:46:13.464Z"
   },
   {
    "duration": 96,
    "start_time": "2021-12-21T07:46:13.470Z"
   },
   {
    "duration": 31,
    "start_time": "2021-12-21T07:46:13.568Z"
   },
   {
    "duration": 66,
    "start_time": "2021-12-21T07:46:13.601Z"
   },
   {
    "duration": 21,
    "start_time": "2021-12-21T07:46:13.669Z"
   },
   {
    "duration": 147,
    "start_time": "2021-12-21T07:46:13.692Z"
   },
   {
    "duration": 544,
    "start_time": "2021-12-21T07:46:13.840Z"
   },
   {
    "duration": 5,
    "start_time": "2021-12-21T07:46:46.453Z"
   },
   {
    "duration": 46,
    "start_time": "2021-12-21T07:46:46.460Z"
   },
   {
    "duration": 20,
    "start_time": "2021-12-21T07:46:46.509Z"
   },
   {
    "duration": 31,
    "start_time": "2021-12-21T07:46:46.531Z"
   },
   {
    "duration": 4,
    "start_time": "2021-12-21T07:46:46.563Z"
   },
   {
    "duration": 18,
    "start_time": "2021-12-21T07:46:46.569Z"
   },
   {
    "duration": 8,
    "start_time": "2021-12-21T07:46:46.589Z"
   },
   {
    "duration": 20,
    "start_time": "2021-12-21T07:46:46.600Z"
   },
   {
    "duration": 5,
    "start_time": "2021-12-21T07:46:46.622Z"
   },
   {
    "duration": 15,
    "start_time": "2021-12-21T07:46:46.629Z"
   },
   {
    "duration": 6,
    "start_time": "2021-12-21T07:46:46.661Z"
   },
   {
    "duration": 38,
    "start_time": "2021-12-21T07:46:46.669Z"
   },
   {
    "duration": 120,
    "start_time": "2021-12-21T07:46:46.762Z"
   },
   {
    "duration": 153,
    "start_time": "2021-12-21T07:46:46.884Z"
   },
   {
    "duration": 32,
    "start_time": "2021-12-21T07:46:47.039Z"
   },
   {
    "duration": 74,
    "start_time": "2021-12-21T07:46:47.073Z"
   },
   {
    "duration": 1505,
    "start_time": "2021-12-21T07:46:47.149Z"
   },
   {
    "duration": 118,
    "start_time": "2021-12-21T07:46:48.660Z"
   },
   {
    "duration": 87,
    "start_time": "2021-12-21T07:46:48.780Z"
   },
   {
    "duration": 192,
    "start_time": "2021-12-21T07:46:48.869Z"
   },
   {
    "duration": 109,
    "start_time": "2021-12-21T07:46:49.064Z"
   },
   {
    "duration": 3,
    "start_time": "2021-12-21T07:46:49.261Z"
   },
   {
    "duration": 11,
    "start_time": "2021-12-21T07:46:49.267Z"
   },
   {
    "duration": 27,
    "start_time": "2021-12-21T07:46:49.362Z"
   },
   {
    "duration": 72,
    "start_time": "2021-12-21T07:46:49.391Z"
   },
   {
    "duration": 23,
    "start_time": "2021-12-21T07:46:49.464Z"
   },
   {
    "duration": 131,
    "start_time": "2021-12-21T07:46:49.488Z"
   },
   {
    "duration": 551,
    "start_time": "2021-12-21T07:46:49.621Z"
   },
   {
    "duration": 70,
    "start_time": "2021-12-21T07:48:19.796Z"
   },
   {
    "duration": 3,
    "start_time": "2021-12-21T07:48:56.309Z"
   },
   {
    "duration": 3,
    "start_time": "2021-12-21T07:49:07.952Z"
   },
   {
    "duration": 4,
    "start_time": "2021-12-21T07:57:51.758Z"
   },
   {
    "duration": 63,
    "start_time": "2021-12-21T07:57:51.764Z"
   },
   {
    "duration": 21,
    "start_time": "2021-12-21T07:57:51.829Z"
   },
   {
    "duration": 15,
    "start_time": "2021-12-21T07:57:51.852Z"
   },
   {
    "duration": 20,
    "start_time": "2021-12-21T07:57:51.868Z"
   },
   {
    "duration": 17,
    "start_time": "2021-12-21T07:57:51.890Z"
   },
   {
    "duration": 33,
    "start_time": "2021-12-21T07:57:51.909Z"
   },
   {
    "duration": 33,
    "start_time": "2021-12-21T07:57:51.944Z"
   },
   {
    "duration": 5,
    "start_time": "2021-12-21T07:57:51.981Z"
   },
   {
    "duration": 42,
    "start_time": "2021-12-21T07:57:51.988Z"
   },
   {
    "duration": 32,
    "start_time": "2021-12-21T07:57:52.032Z"
   },
   {
    "duration": 97,
    "start_time": "2021-12-21T07:57:52.066Z"
   },
   {
    "duration": 129,
    "start_time": "2021-12-21T07:57:52.165Z"
   },
   {
    "duration": 152,
    "start_time": "2021-12-21T07:57:52.296Z"
   },
   {
    "duration": 31,
    "start_time": "2021-12-21T07:57:52.450Z"
   },
   {
    "duration": 84,
    "start_time": "2021-12-21T07:57:52.483Z"
   },
   {
    "duration": 1519,
    "start_time": "2021-12-21T07:57:52.569Z"
   },
   {
    "duration": 124,
    "start_time": "2021-12-21T07:57:54.089Z"
   },
   {
    "duration": 55,
    "start_time": "2021-12-21T07:57:54.214Z"
   },
   {
    "duration": 199,
    "start_time": "2021-12-21T07:57:54.362Z"
   },
   {
    "duration": 211,
    "start_time": "2021-12-21T07:57:54.564Z"
   },
   {
    "duration": 84,
    "start_time": "2021-12-21T07:57:54.778Z"
   },
   {
    "duration": 98,
    "start_time": "2021-12-21T07:57:54.864Z"
   },
   {
    "duration": 27,
    "start_time": "2021-12-21T07:57:54.964Z"
   },
   {
    "duration": 71,
    "start_time": "2021-12-21T07:57:54.993Z"
   },
   {
    "duration": 23,
    "start_time": "2021-12-21T07:57:55.065Z"
   },
   {
    "duration": 132,
    "start_time": "2021-12-21T07:57:55.090Z"
   },
   {
    "duration": 249,
    "start_time": "2021-12-21T07:57:55.224Z"
   },
   {
    "duration": 533,
    "start_time": "2021-12-21T07:57:55.475Z"
   },
   {
    "duration": 174,
    "start_time": "2021-12-21T07:58:15.294Z"
   },
   {
    "duration": 155,
    "start_time": "2021-12-21T07:58:31.938Z"
   },
   {
    "duration": 137,
    "start_time": "2021-12-21T07:58:40.066Z"
   },
   {
    "duration": 124,
    "start_time": "2021-12-21T07:58:45.985Z"
   },
   {
    "duration": 140,
    "start_time": "2021-12-21T07:58:52.970Z"
   },
   {
    "duration": 60,
    "start_time": "2021-12-21T07:59:19.640Z"
   },
   {
    "duration": 4,
    "start_time": "2021-12-21T07:59:25.010Z"
   },
   {
    "duration": 49,
    "start_time": "2021-12-21T07:59:25.017Z"
   },
   {
    "duration": 20,
    "start_time": "2021-12-21T07:59:25.069Z"
   },
   {
    "duration": 9,
    "start_time": "2021-12-21T07:59:25.091Z"
   },
   {
    "duration": 4,
    "start_time": "2021-12-21T07:59:25.101Z"
   },
   {
    "duration": 7,
    "start_time": "2021-12-21T07:59:25.107Z"
   },
   {
    "duration": 10,
    "start_time": "2021-12-21T07:59:25.116Z"
   },
   {
    "duration": 44,
    "start_time": "2021-12-21T07:59:25.128Z"
   },
   {
    "duration": 5,
    "start_time": "2021-12-21T07:59:25.175Z"
   },
   {
    "duration": 8,
    "start_time": "2021-12-21T07:59:25.181Z"
   },
   {
    "duration": 7,
    "start_time": "2021-12-21T07:59:25.191Z"
   },
   {
    "duration": 71,
    "start_time": "2021-12-21T07:59:25.199Z"
   },
   {
    "duration": 120,
    "start_time": "2021-12-21T07:59:25.273Z"
   },
   {
    "duration": 195,
    "start_time": "2021-12-21T07:59:25.395Z"
   },
   {
    "duration": 23,
    "start_time": "2021-12-21T07:59:25.591Z"
   },
   {
    "duration": 92,
    "start_time": "2021-12-21T07:59:25.615Z"
   },
   {
    "duration": 1528,
    "start_time": "2021-12-21T07:59:25.708Z"
   },
   {
    "duration": 120,
    "start_time": "2021-12-21T07:59:27.238Z"
   },
   {
    "duration": 108,
    "start_time": "2021-12-21T07:59:27.360Z"
   },
   {
    "duration": 190,
    "start_time": "2021-12-21T07:59:27.470Z"
   },
   {
    "duration": 117,
    "start_time": "2021-12-21T07:59:27.666Z"
   },
   {
    "duration": 4,
    "start_time": "2021-12-21T07:59:27.862Z"
   },
   {
    "duration": 93,
    "start_time": "2021-12-21T07:59:27.868Z"
   },
   {
    "duration": 45,
    "start_time": "2021-12-21T07:59:27.963Z"
   },
   {
    "duration": 51,
    "start_time": "2021-12-21T07:59:28.010Z"
   },
   {
    "duration": 21,
    "start_time": "2021-12-21T07:59:28.063Z"
   },
   {
    "duration": 122,
    "start_time": "2021-12-21T07:59:28.087Z"
   },
   {
    "duration": 151,
    "start_time": "2021-12-21T07:59:28.210Z"
   },
   {
    "duration": 542,
    "start_time": "2021-12-21T07:59:28.363Z"
   },
   {
    "duration": 4,
    "start_time": "2021-12-21T08:01:00.771Z"
   },
   {
    "duration": 65,
    "start_time": "2021-12-21T08:01:00.777Z"
   },
   {
    "duration": 27,
    "start_time": "2021-12-21T08:01:00.844Z"
   },
   {
    "duration": 19,
    "start_time": "2021-12-21T08:01:00.874Z"
   },
   {
    "duration": 20,
    "start_time": "2021-12-21T08:01:00.894Z"
   },
   {
    "duration": 12,
    "start_time": "2021-12-21T08:01:00.916Z"
   },
   {
    "duration": 8,
    "start_time": "2021-12-21T08:01:00.930Z"
   },
   {
    "duration": 23,
    "start_time": "2021-12-21T08:01:00.940Z"
   },
   {
    "duration": 32,
    "start_time": "2021-12-21T08:01:00.967Z"
   },
   {
    "duration": 28,
    "start_time": "2021-12-21T08:01:01.002Z"
   },
   {
    "duration": 30,
    "start_time": "2021-12-21T08:01:01.032Z"
   },
   {
    "duration": 99,
    "start_time": "2021-12-21T08:01:01.064Z"
   },
   {
    "duration": 140,
    "start_time": "2021-12-21T08:01:01.165Z"
   },
   {
    "duration": 203,
    "start_time": "2021-12-21T08:01:01.308Z"
   },
   {
    "duration": 23,
    "start_time": "2021-12-21T08:01:01.512Z"
   },
   {
    "duration": 92,
    "start_time": "2021-12-21T08:01:01.537Z"
   },
   {
    "duration": 1601,
    "start_time": "2021-12-21T08:01:01.630Z"
   },
   {
    "duration": 129,
    "start_time": "2021-12-21T08:01:03.233Z"
   },
   {
    "duration": 100,
    "start_time": "2021-12-21T08:01:03.364Z"
   },
   {
    "duration": 193,
    "start_time": "2021-12-21T08:01:03.467Z"
   },
   {
    "duration": 197,
    "start_time": "2021-12-21T08:01:03.663Z"
   },
   {
    "duration": 3,
    "start_time": "2021-12-21T08:01:03.864Z"
   },
   {
    "duration": 92,
    "start_time": "2021-12-21T08:01:03.870Z"
   },
   {
    "duration": 35,
    "start_time": "2021-12-21T08:01:03.964Z"
   },
   {
    "duration": 60,
    "start_time": "2021-12-21T08:01:04.001Z"
   },
   {
    "duration": 22,
    "start_time": "2021-12-21T08:01:04.063Z"
   },
   {
    "duration": 126,
    "start_time": "2021-12-21T08:01:04.088Z"
   },
   {
    "duration": 151,
    "start_time": "2021-12-21T08:01:04.216Z"
   },
   {
    "duration": 68,
    "start_time": "2021-12-21T08:01:04.368Z"
   },
   {
    "duration": 585,
    "start_time": "2021-12-21T08:01:04.438Z"
   },
   {
    "duration": 5,
    "start_time": "2021-12-21T08:03:18.698Z"
   },
   {
    "duration": 47,
    "start_time": "2021-12-21T08:03:18.704Z"
   },
   {
    "duration": 24,
    "start_time": "2021-12-21T08:03:18.752Z"
   },
   {
    "duration": 10,
    "start_time": "2021-12-21T08:03:18.778Z"
   },
   {
    "duration": 4,
    "start_time": "2021-12-21T08:03:18.789Z"
   },
   {
    "duration": 7,
    "start_time": "2021-12-21T08:03:18.794Z"
   },
   {
    "duration": 7,
    "start_time": "2021-12-21T08:03:18.803Z"
   },
   {
    "duration": 20,
    "start_time": "2021-12-21T08:03:18.811Z"
   },
   {
    "duration": 29,
    "start_time": "2021-12-21T08:03:18.832Z"
   },
   {
    "duration": 7,
    "start_time": "2021-12-21T08:03:18.862Z"
   },
   {
    "duration": 6,
    "start_time": "2021-12-21T08:03:18.871Z"
   },
   {
    "duration": 90,
    "start_time": "2021-12-21T08:03:18.879Z"
   },
   {
    "duration": 124,
    "start_time": "2021-12-21T08:03:18.971Z"
   },
   {
    "duration": 164,
    "start_time": "2021-12-21T08:03:19.097Z"
   },
   {
    "duration": 24,
    "start_time": "2021-12-21T08:03:19.263Z"
   },
   {
    "duration": 91,
    "start_time": "2021-12-21T08:03:19.288Z"
   },
   {
    "duration": 1549,
    "start_time": "2021-12-21T08:03:19.380Z"
   },
   {
    "duration": 125,
    "start_time": "2021-12-21T08:03:20.931Z"
   },
   {
    "duration": 105,
    "start_time": "2021-12-21T08:03:21.059Z"
   },
   {
    "duration": 194,
    "start_time": "2021-12-21T08:03:21.167Z"
   },
   {
    "duration": 114,
    "start_time": "2021-12-21T08:03:21.364Z"
   },
   {
    "duration": 181,
    "start_time": "2021-12-21T08:03:21.480Z"
   },
   {
    "duration": 30,
    "start_time": "2021-12-21T08:03:21.663Z"
   },
   {
    "duration": 51,
    "start_time": "2021-12-21T08:03:21.696Z"
   },
   {
    "duration": 56,
    "start_time": "2021-12-21T08:03:21.749Z"
   },
   {
    "duration": 30,
    "start_time": "2021-12-21T08:03:21.807Z"
   },
   {
    "duration": 133,
    "start_time": "2021-12-21T08:03:21.839Z"
   },
   {
    "duration": 150,
    "start_time": "2021-12-21T08:03:21.974Z"
   },
   {
    "duration": 67,
    "start_time": "2021-12-21T08:03:22.126Z"
   },
   {
    "duration": 619,
    "start_time": "2021-12-21T08:03:22.194Z"
   },
   {
    "duration": 4,
    "start_time": "2021-12-21T08:03:50.620Z"
   },
   {
    "duration": 48,
    "start_time": "2021-12-21T08:03:50.626Z"
   },
   {
    "duration": 21,
    "start_time": "2021-12-21T08:03:50.676Z"
   },
   {
    "duration": 10,
    "start_time": "2021-12-21T08:03:50.699Z"
   },
   {
    "duration": 5,
    "start_time": "2021-12-21T08:03:50.711Z"
   },
   {
    "duration": 12,
    "start_time": "2021-12-21T08:03:50.717Z"
   },
   {
    "duration": 11,
    "start_time": "2021-12-21T08:03:50.731Z"
   },
   {
    "duration": 35,
    "start_time": "2021-12-21T08:03:50.744Z"
   },
   {
    "duration": 5,
    "start_time": "2021-12-21T08:03:50.780Z"
   },
   {
    "duration": 10,
    "start_time": "2021-12-21T08:03:50.786Z"
   },
   {
    "duration": 6,
    "start_time": "2021-12-21T08:03:50.798Z"
   },
   {
    "duration": 156,
    "start_time": "2021-12-21T08:03:50.805Z"
   },
   {
    "duration": 34,
    "start_time": "2021-12-21T08:03:50.964Z"
   },
   {
    "duration": 186,
    "start_time": "2021-12-21T08:03:51.000Z"
   },
   {
    "duration": 22,
    "start_time": "2021-12-21T08:03:51.188Z"
   },
   {
    "duration": 90,
    "start_time": "2021-12-21T08:03:51.212Z"
   },
   {
    "duration": 1650,
    "start_time": "2021-12-21T08:03:51.304Z"
   },
   {
    "duration": 135,
    "start_time": "2021-12-21T08:03:52.960Z"
   },
   {
    "duration": 75,
    "start_time": "2021-12-21T08:03:53.098Z"
   },
   {
    "duration": 152,
    "start_time": "2021-12-21T08:03:53.261Z"
   },
   {
    "duration": 4,
    "start_time": "2021-12-21T08:03:53.800Z"
   },
   {
    "duration": 47,
    "start_time": "2021-12-21T08:03:53.806Z"
   },
   {
    "duration": 25,
    "start_time": "2021-12-21T08:03:53.855Z"
   },
   {
    "duration": 6,
    "start_time": "2021-12-21T08:03:53.881Z"
   },
   {
    "duration": 5,
    "start_time": "2021-12-21T08:03:53.889Z"
   },
   {
    "duration": 10,
    "start_time": "2021-12-21T08:03:53.896Z"
   },
   {
    "duration": 9,
    "start_time": "2021-12-21T08:03:53.907Z"
   },
   {
    "duration": 45,
    "start_time": "2021-12-21T08:03:53.917Z"
   },
   {
    "duration": 8,
    "start_time": "2021-12-21T08:03:53.964Z"
   },
   {
    "duration": 14,
    "start_time": "2021-12-21T08:03:53.974Z"
   },
   {
    "duration": 9,
    "start_time": "2021-12-21T08:03:53.992Z"
   },
   {
    "duration": 64,
    "start_time": "2021-12-21T08:03:54.004Z"
   },
   {
    "duration": 125,
    "start_time": "2021-12-21T08:03:54.070Z"
   },
   {
    "duration": 198,
    "start_time": "2021-12-21T08:03:54.197Z"
   },
   {
    "duration": 23,
    "start_time": "2021-12-21T08:03:54.397Z"
   },
   {
    "duration": 89,
    "start_time": "2021-12-21T08:03:54.422Z"
   },
   {
    "duration": 1590,
    "start_time": "2021-12-21T08:03:54.513Z"
   },
   {
    "duration": 125,
    "start_time": "2021-12-21T08:03:56.105Z"
   },
   {
    "duration": 133,
    "start_time": "2021-12-21T08:03:56.232Z"
   },
   {
    "duration": 193,
    "start_time": "2021-12-21T08:03:56.367Z"
   },
   {
    "duration": 116,
    "start_time": "2021-12-21T08:03:56.563Z"
   },
   {
    "duration": 3,
    "start_time": "2021-12-21T08:03:56.681Z"
   },
   {
    "duration": 99,
    "start_time": "2021-12-21T08:03:56.762Z"
   },
   {
    "duration": 26,
    "start_time": "2021-12-21T08:03:56.863Z"
   },
   {
    "duration": 36,
    "start_time": "2021-12-21T08:03:56.890Z"
   },
   {
    "duration": 47,
    "start_time": "2021-12-21T08:03:56.928Z"
   },
   {
    "duration": 137,
    "start_time": "2021-12-21T08:03:56.978Z"
   },
   {
    "duration": 160,
    "start_time": "2021-12-21T08:03:57.118Z"
   },
   {
    "duration": 81,
    "start_time": "2021-12-21T08:03:57.280Z"
   },
   {
    "duration": 637,
    "start_time": "2021-12-21T08:03:57.362Z"
   }
  ],
  "kernelspec": {
   "display_name": "Python 3 (ipykernel)",
   "language": "python",
   "name": "python3"
  },
  "language_info": {
   "codemirror_mode": {
    "name": "ipython",
    "version": 3
   },
   "file_extension": ".py",
   "mimetype": "text/x-python",
   "name": "python",
   "nbconvert_exporter": "python",
   "pygments_lexer": "ipython3",
   "version": "3.9.7"
  },
  "toc": {
   "base_numbering": 1,
   "nav_menu": {},
   "number_sections": true,
   "sideBar": true,
   "skip_h1_title": true,
   "title_cell": "Содержание",
   "title_sidebar": "Contents",
   "toc_cell": true,
   "toc_position": {},
   "toc_section_display": true,
   "toc_window_display": false
  }
 },
 "nbformat": 4,
 "nbformat_minor": 2
}
