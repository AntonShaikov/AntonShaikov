{
 "cells": [
  {
   "cell_type": "markdown",
   "metadata": {},
   "source": [
    "# Определение перспективного тарифа для телеком-компании"
   ]
  },
  {
   "cell_type": "markdown",
   "metadata": {},
   "source": [
    " Вы аналитик компании «Мегалайн» — федерального оператора сотовой связи. Клиентам предлагают два тарифных плана: «Смарт» и «Ультра». Чтобы скорректировать рекламный бюджет, коммерческий департамент хочет понять, какой тариф приносит больше денег.\n",
    "Вам предстоит сделать предварительный анализ тарифов на небольшой выборке клиентов. В вашем распоряжении данные 500 пользователей «Мегалайна»: кто они, откуда, каким тарифом пользуются, сколько звонков и сообщений каждый отправил за 2018 год. Нужно проанализировать поведение клиентов и сделать вывод — какой тариф лучше.\n",
    "\n",
    "Шаг 1. Обработка файлов с данными и изучение общей информации\n",
    "\n",
    "Шаг 2. Подготовка данных\n",
    "- Изменение данных к нужным типам;\n",
    "- Исправление ошибок в данных;\n",
    "\n",
    "Считаем для каждого пользователя:\n",
    "- Количество сделанных звонков и израсходованных минут разговора по месяцам;\n",
    "- Количество отправленных сообщений по месяцам;\n",
    "- Объем израсходованного интернет-трафика по месяцам;\n",
    "- Помесячную выручку с каждого пользователя; \n",
    "\n",
    "Шаг 3. Анализ данные\n",
    "- Описание поведения клиентов оператора, исходя из выборки;\n",
    "- Сколько минут разговора, сколько сообщений и какой объём интернет-трафика требуется пользователям каждого тарифа в месяц?\n",
    "- Считаем среднее количество, дисперсию и стандартное отклонение. Построение гистограммы.\n",
    "\n",
    "Шаг 4. Проверка гипотез\n",
    "- средняя выручка пользователей тарифов «Ультра» и «Смарт» различаются;\n",
    "- средняя выручка пользователей из Москвы отличается от выручки пользователей из других регионов.\n",
    "\n",
    "\n",
    "Шаг 5. Вывод\n"
   ]
  },
  {
   "cell_type": "markdown",
   "metadata": {},
   "source": [
    "## Шаг 1. Откройте файл с данными и изучите общую информацию"
   ]
  },
  {
   "cell_type": "code",
   "execution_count": 1,
   "metadata": {},
   "outputs": [
    {
     "data": {
      "text/html": [
       "<div>\n",
       "<style scoped>\n",
       "    .dataframe tbody tr th:only-of-type {\n",
       "        vertical-align: middle;\n",
       "    }\n",
       "\n",
       "    .dataframe tbody tr th {\n",
       "        vertical-align: top;\n",
       "    }\n",
       "\n",
       "    .dataframe thead th {\n",
       "        text-align: right;\n",
       "    }\n",
       "</style>\n",
       "<table border=\"1\" class=\"dataframe\">\n",
       "  <thead>\n",
       "    <tr style=\"text-align: right;\">\n",
       "      <th></th>\n",
       "      <th>id</th>\n",
       "      <th>call_date</th>\n",
       "      <th>duration</th>\n",
       "      <th>user_id</th>\n",
       "    </tr>\n",
       "  </thead>\n",
       "  <tbody>\n",
       "    <tr>\n",
       "      <td>202587</td>\n",
       "      <td>1499_200</td>\n",
       "      <td>2018-10-04</td>\n",
       "      <td>7.89</td>\n",
       "      <td>1499</td>\n",
       "    </tr>\n",
       "    <tr>\n",
       "      <td>202588</td>\n",
       "      <td>1499_201</td>\n",
       "      <td>2018-12-15</td>\n",
       "      <td>18.90</td>\n",
       "      <td>1499</td>\n",
       "    </tr>\n",
       "    <tr>\n",
       "      <td>202589</td>\n",
       "      <td>1499_202</td>\n",
       "      <td>2018-10-03</td>\n",
       "      <td>8.92</td>\n",
       "      <td>1499</td>\n",
       "    </tr>\n",
       "    <tr>\n",
       "      <td>202590</td>\n",
       "      <td>1499_203</td>\n",
       "      <td>2018-12-03</td>\n",
       "      <td>0.00</td>\n",
       "      <td>1499</td>\n",
       "    </tr>\n",
       "    <tr>\n",
       "      <td>202591</td>\n",
       "      <td>1499_204</td>\n",
       "      <td>2018-12-12</td>\n",
       "      <td>1.60</td>\n",
       "      <td>1499</td>\n",
       "    </tr>\n",
       "    <tr>\n",
       "      <td>202592</td>\n",
       "      <td>1499_205</td>\n",
       "      <td>2018-10-13</td>\n",
       "      <td>0.00</td>\n",
       "      <td>1499</td>\n",
       "    </tr>\n",
       "    <tr>\n",
       "      <td>202593</td>\n",
       "      <td>1499_206</td>\n",
       "      <td>2018-12-26</td>\n",
       "      <td>0.00</td>\n",
       "      <td>1499</td>\n",
       "    </tr>\n",
       "    <tr>\n",
       "      <td>202594</td>\n",
       "      <td>1499_207</td>\n",
       "      <td>2018-10-28</td>\n",
       "      <td>0.00</td>\n",
       "      <td>1499</td>\n",
       "    </tr>\n",
       "    <tr>\n",
       "      <td>202595</td>\n",
       "      <td>1499_208</td>\n",
       "      <td>2018-11-03</td>\n",
       "      <td>14.29</td>\n",
       "      <td>1499</td>\n",
       "    </tr>\n",
       "    <tr>\n",
       "      <td>202596</td>\n",
       "      <td>1499_209</td>\n",
       "      <td>2018-12-16</td>\n",
       "      <td>0.00</td>\n",
       "      <td>1499</td>\n",
       "    </tr>\n",
       "    <tr>\n",
       "      <td>202597</td>\n",
       "      <td>1499_210</td>\n",
       "      <td>2018-10-02</td>\n",
       "      <td>8.86</td>\n",
       "      <td>1499</td>\n",
       "    </tr>\n",
       "    <tr>\n",
       "      <td>202598</td>\n",
       "      <td>1499_211</td>\n",
       "      <td>2018-12-29</td>\n",
       "      <td>4.58</td>\n",
       "      <td>1499</td>\n",
       "    </tr>\n",
       "    <tr>\n",
       "      <td>202599</td>\n",
       "      <td>1499_212</td>\n",
       "      <td>2018-12-30</td>\n",
       "      <td>1.35</td>\n",
       "      <td>1499</td>\n",
       "    </tr>\n",
       "    <tr>\n",
       "      <td>202600</td>\n",
       "      <td>1499_213</td>\n",
       "      <td>2018-10-17</td>\n",
       "      <td>10.77</td>\n",
       "      <td>1499</td>\n",
       "    </tr>\n",
       "    <tr>\n",
       "      <td>202601</td>\n",
       "      <td>1499_214</td>\n",
       "      <td>2018-12-05</td>\n",
       "      <td>2.42</td>\n",
       "      <td>1499</td>\n",
       "    </tr>\n",
       "    <tr>\n",
       "      <td>202602</td>\n",
       "      <td>1499_215</td>\n",
       "      <td>2018-12-26</td>\n",
       "      <td>0.76</td>\n",
       "      <td>1499</td>\n",
       "    </tr>\n",
       "    <tr>\n",
       "      <td>202603</td>\n",
       "      <td>1499_216</td>\n",
       "      <td>2018-10-18</td>\n",
       "      <td>18.83</td>\n",
       "      <td>1499</td>\n",
       "    </tr>\n",
       "    <tr>\n",
       "      <td>202604</td>\n",
       "      <td>1499_217</td>\n",
       "      <td>2018-11-10</td>\n",
       "      <td>10.81</td>\n",
       "      <td>1499</td>\n",
       "    </tr>\n",
       "    <tr>\n",
       "      <td>202605</td>\n",
       "      <td>1499_218</td>\n",
       "      <td>2018-10-06</td>\n",
       "      <td>4.27</td>\n",
       "      <td>1499</td>\n",
       "    </tr>\n",
       "    <tr>\n",
       "      <td>202606</td>\n",
       "      <td>1499_219</td>\n",
       "      <td>2018-12-14</td>\n",
       "      <td>19.62</td>\n",
       "      <td>1499</td>\n",
       "    </tr>\n",
       "  </tbody>\n",
       "</table>\n",
       "</div>"
      ],
      "text/plain": [
       "              id   call_date  duration  user_id\n",
       "202587  1499_200  2018-10-04      7.89     1499\n",
       "202588  1499_201  2018-12-15     18.90     1499\n",
       "202589  1499_202  2018-10-03      8.92     1499\n",
       "202590  1499_203  2018-12-03      0.00     1499\n",
       "202591  1499_204  2018-12-12      1.60     1499\n",
       "202592  1499_205  2018-10-13      0.00     1499\n",
       "202593  1499_206  2018-12-26      0.00     1499\n",
       "202594  1499_207  2018-10-28      0.00     1499\n",
       "202595  1499_208  2018-11-03     14.29     1499\n",
       "202596  1499_209  2018-12-16      0.00     1499\n",
       "202597  1499_210  2018-10-02      8.86     1499\n",
       "202598  1499_211  2018-12-29      4.58     1499\n",
       "202599  1499_212  2018-12-30      1.35     1499\n",
       "202600  1499_213  2018-10-17     10.77     1499\n",
       "202601  1499_214  2018-12-05      2.42     1499\n",
       "202602  1499_215  2018-12-26      0.76     1499\n",
       "202603  1499_216  2018-10-18     18.83     1499\n",
       "202604  1499_217  2018-11-10     10.81     1499\n",
       "202605  1499_218  2018-10-06      4.27     1499\n",
       "202606  1499_219  2018-12-14     19.62     1499"
      ]
     },
     "execution_count": 1,
     "metadata": {},
     "output_type": "execute_result"
    }
   ],
   "source": [
    "import pandas as pd\n",
    "import math\n",
    "import numpy as np\n",
    "df = pd.read_csv('/datasets/calls.csv')\n",
    "df.tail(20)"
   ]
  },
  {
   "cell_type": "code",
   "execution_count": 2,
   "metadata": {},
   "outputs": [
    {
     "data": {
      "text/html": [
       "<div>\n",
       "<style scoped>\n",
       "    .dataframe tbody tr th:only-of-type {\n",
       "        vertical-align: middle;\n",
       "    }\n",
       "\n",
       "    .dataframe tbody tr th {\n",
       "        vertical-align: top;\n",
       "    }\n",
       "\n",
       "    .dataframe thead th {\n",
       "        text-align: right;\n",
       "    }\n",
       "</style>\n",
       "<table border=\"1\" class=\"dataframe\">\n",
       "  <thead>\n",
       "    <tr style=\"text-align: right;\">\n",
       "      <th></th>\n",
       "      <th>duration</th>\n",
       "      <th>user_id</th>\n",
       "    </tr>\n",
       "  </thead>\n",
       "  <tbody>\n",
       "    <tr>\n",
       "      <td>count</td>\n",
       "      <td>202607.000000</td>\n",
       "      <td>202607.000000</td>\n",
       "    </tr>\n",
       "    <tr>\n",
       "      <td>mean</td>\n",
       "      <td>6.755887</td>\n",
       "      <td>1253.940619</td>\n",
       "    </tr>\n",
       "    <tr>\n",
       "      <td>std</td>\n",
       "      <td>5.843365</td>\n",
       "      <td>144.722751</td>\n",
       "    </tr>\n",
       "    <tr>\n",
       "      <td>min</td>\n",
       "      <td>0.000000</td>\n",
       "      <td>1000.000000</td>\n",
       "    </tr>\n",
       "    <tr>\n",
       "      <td>25%</td>\n",
       "      <td>1.300000</td>\n",
       "      <td>1126.000000</td>\n",
       "    </tr>\n",
       "    <tr>\n",
       "      <td>50%</td>\n",
       "      <td>6.000000</td>\n",
       "      <td>1260.000000</td>\n",
       "    </tr>\n",
       "    <tr>\n",
       "      <td>75%</td>\n",
       "      <td>10.700000</td>\n",
       "      <td>1379.000000</td>\n",
       "    </tr>\n",
       "    <tr>\n",
       "      <td>max</td>\n",
       "      <td>38.000000</td>\n",
       "      <td>1499.000000</td>\n",
       "    </tr>\n",
       "  </tbody>\n",
       "</table>\n",
       "</div>"
      ],
      "text/plain": [
       "            duration        user_id\n",
       "count  202607.000000  202607.000000\n",
       "mean        6.755887    1253.940619\n",
       "std         5.843365     144.722751\n",
       "min         0.000000    1000.000000\n",
       "25%         1.300000    1126.000000\n",
       "50%         6.000000    1260.000000\n",
       "75%        10.700000    1379.000000\n",
       "max        38.000000    1499.000000"
      ]
     },
     "execution_count": 2,
     "metadata": {},
     "output_type": "execute_result"
    }
   ],
   "source": [
    "df.describe()"
   ]
  },
  {
   "cell_type": "code",
   "execution_count": 3,
   "metadata": {},
   "outputs": [
    {
     "name": "stdout",
     "output_type": "stream",
     "text": [
      "<class 'pandas.core.frame.DataFrame'>\n",
      "RangeIndex: 202607 entries, 0 to 202606\n",
      "Data columns (total 4 columns):\n",
      "id           202607 non-null object\n",
      "call_date    202607 non-null object\n",
      "duration     202607 non-null float64\n",
      "user_id      202607 non-null int64\n",
      "dtypes: float64(1), int64(1), object(2)\n",
      "memory usage: 6.2+ MB\n"
     ]
    }
   ],
   "source": [
    "df.info()"
   ]
  },
  {
   "cell_type": "code",
   "execution_count": 4,
   "metadata": {},
   "outputs": [
    {
     "data": {
      "text/html": [
       "<div>\n",
       "<style scoped>\n",
       "    .dataframe tbody tr th:only-of-type {\n",
       "        vertical-align: middle;\n",
       "    }\n",
       "\n",
       "    .dataframe tbody tr th {\n",
       "        vertical-align: top;\n",
       "    }\n",
       "\n",
       "    .dataframe thead th {\n",
       "        text-align: right;\n",
       "    }\n",
       "</style>\n",
       "<table border=\"1\" class=\"dataframe\">\n",
       "  <thead>\n",
       "    <tr style=\"text-align: right;\">\n",
       "      <th></th>\n",
       "      <th>id</th>\n",
       "      <th>mb_used</th>\n",
       "      <th>session_date</th>\n",
       "      <th>user_id</th>\n",
       "    </tr>\n",
       "  </thead>\n",
       "  <tbody>\n",
       "    <tr>\n",
       "      <td>149386</td>\n",
       "      <td>1499_147</td>\n",
       "      <td>0.00</td>\n",
       "      <td>2018-10-21</td>\n",
       "      <td>1499</td>\n",
       "    </tr>\n",
       "    <tr>\n",
       "      <td>149387</td>\n",
       "      <td>1499_148</td>\n",
       "      <td>268.19</td>\n",
       "      <td>2018-11-13</td>\n",
       "      <td>1499</td>\n",
       "    </tr>\n",
       "    <tr>\n",
       "      <td>149388</td>\n",
       "      <td>1499_149</td>\n",
       "      <td>778.68</td>\n",
       "      <td>2018-11-24</td>\n",
       "      <td>1499</td>\n",
       "    </tr>\n",
       "    <tr>\n",
       "      <td>149389</td>\n",
       "      <td>1499_150</td>\n",
       "      <td>273.98</td>\n",
       "      <td>2018-11-20</td>\n",
       "      <td>1499</td>\n",
       "    </tr>\n",
       "    <tr>\n",
       "      <td>149390</td>\n",
       "      <td>1499_151</td>\n",
       "      <td>752.72</td>\n",
       "      <td>2018-10-11</td>\n",
       "      <td>1499</td>\n",
       "    </tr>\n",
       "    <tr>\n",
       "      <td>149391</td>\n",
       "      <td>1499_152</td>\n",
       "      <td>318.90</td>\n",
       "      <td>2018-10-03</td>\n",
       "      <td>1499</td>\n",
       "    </tr>\n",
       "    <tr>\n",
       "      <td>149392</td>\n",
       "      <td>1499_153</td>\n",
       "      <td>490.13</td>\n",
       "      <td>2018-12-14</td>\n",
       "      <td>1499</td>\n",
       "    </tr>\n",
       "    <tr>\n",
       "      <td>149393</td>\n",
       "      <td>1499_154</td>\n",
       "      <td>0.00</td>\n",
       "      <td>2018-10-27</td>\n",
       "      <td>1499</td>\n",
       "    </tr>\n",
       "    <tr>\n",
       "      <td>149394</td>\n",
       "      <td>1499_155</td>\n",
       "      <td>1246.32</td>\n",
       "      <td>2018-11-26</td>\n",
       "      <td>1499</td>\n",
       "    </tr>\n",
       "    <tr>\n",
       "      <td>149395</td>\n",
       "      <td>1499_156</td>\n",
       "      <td>544.37</td>\n",
       "      <td>2018-10-26</td>\n",
       "      <td>1499</td>\n",
       "    </tr>\n",
       "  </tbody>\n",
       "</table>\n",
       "</div>"
      ],
      "text/plain": [
       "              id  mb_used session_date  user_id\n",
       "149386  1499_147     0.00   2018-10-21     1499\n",
       "149387  1499_148   268.19   2018-11-13     1499\n",
       "149388  1499_149   778.68   2018-11-24     1499\n",
       "149389  1499_150   273.98   2018-11-20     1499\n",
       "149390  1499_151   752.72   2018-10-11     1499\n",
       "149391  1499_152   318.90   2018-10-03     1499\n",
       "149392  1499_153   490.13   2018-12-14     1499\n",
       "149393  1499_154     0.00   2018-10-27     1499\n",
       "149394  1499_155  1246.32   2018-11-26     1499\n",
       "149395  1499_156   544.37   2018-10-26     1499"
      ]
     },
     "execution_count": 4,
     "metadata": {},
     "output_type": "execute_result"
    }
   ],
   "source": [
    "df1 = pd.read_csv('/datasets/internet.csv', index_col=0)\n",
    "df1.tail(10)"
   ]
  },
  {
   "cell_type": "code",
   "execution_count": 5,
   "metadata": {},
   "outputs": [
    {
     "data": {
      "text/html": [
       "<div>\n",
       "<style scoped>\n",
       "    .dataframe tbody tr th:only-of-type {\n",
       "        vertical-align: middle;\n",
       "    }\n",
       "\n",
       "    .dataframe tbody tr th {\n",
       "        vertical-align: top;\n",
       "    }\n",
       "\n",
       "    .dataframe thead th {\n",
       "        text-align: right;\n",
       "    }\n",
       "</style>\n",
       "<table border=\"1\" class=\"dataframe\">\n",
       "  <thead>\n",
       "    <tr style=\"text-align: right;\">\n",
       "      <th></th>\n",
       "      <th>mb_used</th>\n",
       "      <th>user_id</th>\n",
       "    </tr>\n",
       "  </thead>\n",
       "  <tbody>\n",
       "    <tr>\n",
       "      <td>count</td>\n",
       "      <td>149396.000000</td>\n",
       "      <td>149396.000000</td>\n",
       "    </tr>\n",
       "    <tr>\n",
       "      <td>mean</td>\n",
       "      <td>370.192426</td>\n",
       "      <td>1252.099842</td>\n",
       "    </tr>\n",
       "    <tr>\n",
       "      <td>std</td>\n",
       "      <td>278.300951</td>\n",
       "      <td>144.050823</td>\n",
       "    </tr>\n",
       "    <tr>\n",
       "      <td>min</td>\n",
       "      <td>0.000000</td>\n",
       "      <td>1000.000000</td>\n",
       "    </tr>\n",
       "    <tr>\n",
       "      <td>25%</td>\n",
       "      <td>138.187500</td>\n",
       "      <td>1130.000000</td>\n",
       "    </tr>\n",
       "    <tr>\n",
       "      <td>50%</td>\n",
       "      <td>348.015000</td>\n",
       "      <td>1251.000000</td>\n",
       "    </tr>\n",
       "    <tr>\n",
       "      <td>75%</td>\n",
       "      <td>559.552500</td>\n",
       "      <td>1380.000000</td>\n",
       "    </tr>\n",
       "    <tr>\n",
       "      <td>max</td>\n",
       "      <td>1724.830000</td>\n",
       "      <td>1499.000000</td>\n",
       "    </tr>\n",
       "  </tbody>\n",
       "</table>\n",
       "</div>"
      ],
      "text/plain": [
       "             mb_used        user_id\n",
       "count  149396.000000  149396.000000\n",
       "mean      370.192426    1252.099842\n",
       "std       278.300951     144.050823\n",
       "min         0.000000    1000.000000\n",
       "25%       138.187500    1130.000000\n",
       "50%       348.015000    1251.000000\n",
       "75%       559.552500    1380.000000\n",
       "max      1724.830000    1499.000000"
      ]
     },
     "execution_count": 5,
     "metadata": {},
     "output_type": "execute_result"
    }
   ],
   "source": [
    "df1.describe()"
   ]
  },
  {
   "cell_type": "code",
   "execution_count": 6,
   "metadata": {},
   "outputs": [
    {
     "data": {
      "text/html": [
       "<div>\n",
       "<style scoped>\n",
       "    .dataframe tbody tr th:only-of-type {\n",
       "        vertical-align: middle;\n",
       "    }\n",
       "\n",
       "    .dataframe tbody tr th {\n",
       "        vertical-align: top;\n",
       "    }\n",
       "\n",
       "    .dataframe thead th {\n",
       "        text-align: right;\n",
       "    }\n",
       "</style>\n",
       "<table border=\"1\" class=\"dataframe\">\n",
       "  <thead>\n",
       "    <tr style=\"text-align: right;\">\n",
       "      <th></th>\n",
       "      <th>id</th>\n",
       "      <th>message_date</th>\n",
       "      <th>user_id</th>\n",
       "    </tr>\n",
       "  </thead>\n",
       "  <tbody>\n",
       "    <tr>\n",
       "      <td>123026</td>\n",
       "      <td>1499_174</td>\n",
       "      <td>2018-12-14</td>\n",
       "      <td>1499</td>\n",
       "    </tr>\n",
       "    <tr>\n",
       "      <td>123027</td>\n",
       "      <td>1499_175</td>\n",
       "      <td>2018-10-09</td>\n",
       "      <td>1499</td>\n",
       "    </tr>\n",
       "    <tr>\n",
       "      <td>123028</td>\n",
       "      <td>1499_176</td>\n",
       "      <td>2018-12-17</td>\n",
       "      <td>1499</td>\n",
       "    </tr>\n",
       "    <tr>\n",
       "      <td>123029</td>\n",
       "      <td>1499_177</td>\n",
       "      <td>2018-12-30</td>\n",
       "      <td>1499</td>\n",
       "    </tr>\n",
       "    <tr>\n",
       "      <td>123030</td>\n",
       "      <td>1499_178</td>\n",
       "      <td>2018-10-25</td>\n",
       "      <td>1499</td>\n",
       "    </tr>\n",
       "    <tr>\n",
       "      <td>123031</td>\n",
       "      <td>1499_179</td>\n",
       "      <td>2018-12-12</td>\n",
       "      <td>1499</td>\n",
       "    </tr>\n",
       "    <tr>\n",
       "      <td>123032</td>\n",
       "      <td>1499_180</td>\n",
       "      <td>2018-09-28</td>\n",
       "      <td>1499</td>\n",
       "    </tr>\n",
       "    <tr>\n",
       "      <td>123033</td>\n",
       "      <td>1499_181</td>\n",
       "      <td>2018-09-27</td>\n",
       "      <td>1499</td>\n",
       "    </tr>\n",
       "    <tr>\n",
       "      <td>123034</td>\n",
       "      <td>1499_182</td>\n",
       "      <td>2018-11-15</td>\n",
       "      <td>1499</td>\n",
       "    </tr>\n",
       "    <tr>\n",
       "      <td>123035</td>\n",
       "      <td>1499_183</td>\n",
       "      <td>2018-11-16</td>\n",
       "      <td>1499</td>\n",
       "    </tr>\n",
       "  </tbody>\n",
       "</table>\n",
       "</div>"
      ],
      "text/plain": [
       "              id message_date  user_id\n",
       "123026  1499_174   2018-12-14     1499\n",
       "123027  1499_175   2018-10-09     1499\n",
       "123028  1499_176   2018-12-17     1499\n",
       "123029  1499_177   2018-12-30     1499\n",
       "123030  1499_178   2018-10-25     1499\n",
       "123031  1499_179   2018-12-12     1499\n",
       "123032  1499_180   2018-09-28     1499\n",
       "123033  1499_181   2018-09-27     1499\n",
       "123034  1499_182   2018-11-15     1499\n",
       "123035  1499_183   2018-11-16     1499"
      ]
     },
     "execution_count": 6,
     "metadata": {},
     "output_type": "execute_result"
    }
   ],
   "source": [
    "df2 = pd.read_csv('/datasets/messages.csv')\n",
    "df2.tail(10)"
   ]
  },
  {
   "cell_type": "code",
   "execution_count": 7,
   "metadata": {},
   "outputs": [
    {
     "data": {
      "text/html": [
       "<div>\n",
       "<style scoped>\n",
       "    .dataframe tbody tr th:only-of-type {\n",
       "        vertical-align: middle;\n",
       "    }\n",
       "\n",
       "    .dataframe tbody tr th {\n",
       "        vertical-align: top;\n",
       "    }\n",
       "\n",
       "    .dataframe thead th {\n",
       "        text-align: right;\n",
       "    }\n",
       "</style>\n",
       "<table border=\"1\" class=\"dataframe\">\n",
       "  <thead>\n",
       "    <tr style=\"text-align: right;\">\n",
       "      <th></th>\n",
       "      <th>user_id</th>\n",
       "    </tr>\n",
       "  </thead>\n",
       "  <tbody>\n",
       "    <tr>\n",
       "      <td>count</td>\n",
       "      <td>123036.000000</td>\n",
       "    </tr>\n",
       "    <tr>\n",
       "      <td>mean</td>\n",
       "      <td>1256.989410</td>\n",
       "    </tr>\n",
       "    <tr>\n",
       "      <td>std</td>\n",
       "      <td>143.523967</td>\n",
       "    </tr>\n",
       "    <tr>\n",
       "      <td>min</td>\n",
       "      <td>1000.000000</td>\n",
       "    </tr>\n",
       "    <tr>\n",
       "      <td>25%</td>\n",
       "      <td>1134.000000</td>\n",
       "    </tr>\n",
       "    <tr>\n",
       "      <td>50%</td>\n",
       "      <td>1271.000000</td>\n",
       "    </tr>\n",
       "    <tr>\n",
       "      <td>75%</td>\n",
       "      <td>1381.000000</td>\n",
       "    </tr>\n",
       "    <tr>\n",
       "      <td>max</td>\n",
       "      <td>1499.000000</td>\n",
       "    </tr>\n",
       "  </tbody>\n",
       "</table>\n",
       "</div>"
      ],
      "text/plain": [
       "             user_id\n",
       "count  123036.000000\n",
       "mean     1256.989410\n",
       "std       143.523967\n",
       "min      1000.000000\n",
       "25%      1134.000000\n",
       "50%      1271.000000\n",
       "75%      1381.000000\n",
       "max      1499.000000"
      ]
     },
     "execution_count": 7,
     "metadata": {},
     "output_type": "execute_result"
    }
   ],
   "source": [
    "df2.describe()"
   ]
  },
  {
   "cell_type": "code",
   "execution_count": 8,
   "metadata": {},
   "outputs": [
    {
     "data": {
      "text/html": [
       "<div>\n",
       "<style scoped>\n",
       "    .dataframe tbody tr th:only-of-type {\n",
       "        vertical-align: middle;\n",
       "    }\n",
       "\n",
       "    .dataframe tbody tr th {\n",
       "        vertical-align: top;\n",
       "    }\n",
       "\n",
       "    .dataframe thead th {\n",
       "        text-align: right;\n",
       "    }\n",
       "</style>\n",
       "<table border=\"1\" class=\"dataframe\">\n",
       "  <thead>\n",
       "    <tr style=\"text-align: right;\">\n",
       "      <th></th>\n",
       "      <th>messages_included</th>\n",
       "      <th>mb_per_month_included</th>\n",
       "      <th>minutes_included</th>\n",
       "      <th>rub_monthly_fee</th>\n",
       "      <th>rub_per_gb</th>\n",
       "      <th>rub_per_message</th>\n",
       "      <th>rub_per_minute</th>\n",
       "      <th>tariff_name</th>\n",
       "    </tr>\n",
       "  </thead>\n",
       "  <tbody>\n",
       "    <tr>\n",
       "      <td>0</td>\n",
       "      <td>50</td>\n",
       "      <td>15360</td>\n",
       "      <td>500</td>\n",
       "      <td>550</td>\n",
       "      <td>200</td>\n",
       "      <td>3</td>\n",
       "      <td>3</td>\n",
       "      <td>smart</td>\n",
       "    </tr>\n",
       "    <tr>\n",
       "      <td>1</td>\n",
       "      <td>1000</td>\n",
       "      <td>30720</td>\n",
       "      <td>3000</td>\n",
       "      <td>1950</td>\n",
       "      <td>150</td>\n",
       "      <td>1</td>\n",
       "      <td>1</td>\n",
       "      <td>ultra</td>\n",
       "    </tr>\n",
       "  </tbody>\n",
       "</table>\n",
       "</div>"
      ],
      "text/plain": [
       "   messages_included  mb_per_month_included  minutes_included  \\\n",
       "0                 50                  15360               500   \n",
       "1               1000                  30720              3000   \n",
       "\n",
       "   rub_monthly_fee  rub_per_gb  rub_per_message  rub_per_minute tariff_name  \n",
       "0              550         200                3               3       smart  \n",
       "1             1950         150                1               1       ultra  "
      ]
     },
     "execution_count": 8,
     "metadata": {},
     "output_type": "execute_result"
    }
   ],
   "source": [
    "df3 = pd.read_csv('/datasets/tariffs.csv')\n",
    "df3.tail(10)"
   ]
  },
  {
   "cell_type": "code",
   "execution_count": 9,
   "metadata": {},
   "outputs": [
    {
     "data": {
      "text/html": [
       "<div>\n",
       "<style scoped>\n",
       "    .dataframe tbody tr th:only-of-type {\n",
       "        vertical-align: middle;\n",
       "    }\n",
       "\n",
       "    .dataframe tbody tr th {\n",
       "        vertical-align: top;\n",
       "    }\n",
       "\n",
       "    .dataframe thead th {\n",
       "        text-align: right;\n",
       "    }\n",
       "</style>\n",
       "<table border=\"1\" class=\"dataframe\">\n",
       "  <thead>\n",
       "    <tr style=\"text-align: right;\">\n",
       "      <th></th>\n",
       "      <th>messages_included</th>\n",
       "      <th>mb_per_month_included</th>\n",
       "      <th>minutes_included</th>\n",
       "      <th>rub_monthly_fee</th>\n",
       "      <th>rub_per_gb</th>\n",
       "      <th>rub_per_message</th>\n",
       "      <th>rub_per_minute</th>\n",
       "    </tr>\n",
       "  </thead>\n",
       "  <tbody>\n",
       "    <tr>\n",
       "      <td>count</td>\n",
       "      <td>2.000000</td>\n",
       "      <td>2.000000</td>\n",
       "      <td>2.000000</td>\n",
       "      <td>2.000000</td>\n",
       "      <td>2.000000</td>\n",
       "      <td>2.000000</td>\n",
       "      <td>2.000000</td>\n",
       "    </tr>\n",
       "    <tr>\n",
       "      <td>mean</td>\n",
       "      <td>525.000000</td>\n",
       "      <td>23040.000000</td>\n",
       "      <td>1750.000000</td>\n",
       "      <td>1250.000000</td>\n",
       "      <td>175.000000</td>\n",
       "      <td>2.000000</td>\n",
       "      <td>2.000000</td>\n",
       "    </tr>\n",
       "    <tr>\n",
       "      <td>std</td>\n",
       "      <td>671.751442</td>\n",
       "      <td>10861.160159</td>\n",
       "      <td>1767.766953</td>\n",
       "      <td>989.949494</td>\n",
       "      <td>35.355339</td>\n",
       "      <td>1.414214</td>\n",
       "      <td>1.414214</td>\n",
       "    </tr>\n",
       "    <tr>\n",
       "      <td>min</td>\n",
       "      <td>50.000000</td>\n",
       "      <td>15360.000000</td>\n",
       "      <td>500.000000</td>\n",
       "      <td>550.000000</td>\n",
       "      <td>150.000000</td>\n",
       "      <td>1.000000</td>\n",
       "      <td>1.000000</td>\n",
       "    </tr>\n",
       "    <tr>\n",
       "      <td>25%</td>\n",
       "      <td>287.500000</td>\n",
       "      <td>19200.000000</td>\n",
       "      <td>1125.000000</td>\n",
       "      <td>900.000000</td>\n",
       "      <td>162.500000</td>\n",
       "      <td>1.500000</td>\n",
       "      <td>1.500000</td>\n",
       "    </tr>\n",
       "    <tr>\n",
       "      <td>50%</td>\n",
       "      <td>525.000000</td>\n",
       "      <td>23040.000000</td>\n",
       "      <td>1750.000000</td>\n",
       "      <td>1250.000000</td>\n",
       "      <td>175.000000</td>\n",
       "      <td>2.000000</td>\n",
       "      <td>2.000000</td>\n",
       "    </tr>\n",
       "    <tr>\n",
       "      <td>75%</td>\n",
       "      <td>762.500000</td>\n",
       "      <td>26880.000000</td>\n",
       "      <td>2375.000000</td>\n",
       "      <td>1600.000000</td>\n",
       "      <td>187.500000</td>\n",
       "      <td>2.500000</td>\n",
       "      <td>2.500000</td>\n",
       "    </tr>\n",
       "    <tr>\n",
       "      <td>max</td>\n",
       "      <td>1000.000000</td>\n",
       "      <td>30720.000000</td>\n",
       "      <td>3000.000000</td>\n",
       "      <td>1950.000000</td>\n",
       "      <td>200.000000</td>\n",
       "      <td>3.000000</td>\n",
       "      <td>3.000000</td>\n",
       "    </tr>\n",
       "  </tbody>\n",
       "</table>\n",
       "</div>"
      ],
      "text/plain": [
       "       messages_included  mb_per_month_included  minutes_included  \\\n",
       "count           2.000000               2.000000          2.000000   \n",
       "mean          525.000000           23040.000000       1750.000000   \n",
       "std           671.751442           10861.160159       1767.766953   \n",
       "min            50.000000           15360.000000        500.000000   \n",
       "25%           287.500000           19200.000000       1125.000000   \n",
       "50%           525.000000           23040.000000       1750.000000   \n",
       "75%           762.500000           26880.000000       2375.000000   \n",
       "max          1000.000000           30720.000000       3000.000000   \n",
       "\n",
       "       rub_monthly_fee  rub_per_gb  rub_per_message  rub_per_minute  \n",
       "count         2.000000    2.000000         2.000000        2.000000  \n",
       "mean       1250.000000  175.000000         2.000000        2.000000  \n",
       "std         989.949494   35.355339         1.414214        1.414214  \n",
       "min         550.000000  150.000000         1.000000        1.000000  \n",
       "25%         900.000000  162.500000         1.500000        1.500000  \n",
       "50%        1250.000000  175.000000         2.000000        2.000000  \n",
       "75%        1600.000000  187.500000         2.500000        2.500000  \n",
       "max        1950.000000  200.000000         3.000000        3.000000  "
      ]
     },
     "execution_count": 9,
     "metadata": {},
     "output_type": "execute_result"
    }
   ],
   "source": [
    "df3.describe()"
   ]
  },
  {
   "cell_type": "code",
   "execution_count": 10,
   "metadata": {},
   "outputs": [
    {
     "data": {
      "text/html": [
       "<div>\n",
       "<style scoped>\n",
       "    .dataframe tbody tr th:only-of-type {\n",
       "        vertical-align: middle;\n",
       "    }\n",
       "\n",
       "    .dataframe tbody tr th {\n",
       "        vertical-align: top;\n",
       "    }\n",
       "\n",
       "    .dataframe thead th {\n",
       "        text-align: right;\n",
       "    }\n",
       "</style>\n",
       "<table border=\"1\" class=\"dataframe\">\n",
       "  <thead>\n",
       "    <tr style=\"text-align: right;\">\n",
       "      <th></th>\n",
       "      <th>user_id</th>\n",
       "      <th>age</th>\n",
       "      <th>churn_date</th>\n",
       "      <th>city</th>\n",
       "      <th>first_name</th>\n",
       "      <th>last_name</th>\n",
       "      <th>reg_date</th>\n",
       "      <th>tariff</th>\n",
       "    </tr>\n",
       "  </thead>\n",
       "  <tbody>\n",
       "    <tr>\n",
       "      <td>490</td>\n",
       "      <td>1490</td>\n",
       "      <td>30</td>\n",
       "      <td>NaN</td>\n",
       "      <td>Москва</td>\n",
       "      <td>Радомир</td>\n",
       "      <td>Алесин</td>\n",
       "      <td>2018-04-03</td>\n",
       "      <td>smart</td>\n",
       "    </tr>\n",
       "    <tr>\n",
       "      <td>491</td>\n",
       "      <td>1491</td>\n",
       "      <td>56</td>\n",
       "      <td>NaN</td>\n",
       "      <td>Челябинск</td>\n",
       "      <td>Радислав</td>\n",
       "      <td>Андрейкин</td>\n",
       "      <td>2018-04-25</td>\n",
       "      <td>ultra</td>\n",
       "    </tr>\n",
       "    <tr>\n",
       "      <td>492</td>\n",
       "      <td>1492</td>\n",
       "      <td>63</td>\n",
       "      <td>NaN</td>\n",
       "      <td>Санкт-Петербург</td>\n",
       "      <td>Руслана</td>\n",
       "      <td>Артёменко</td>\n",
       "      <td>2018-06-26</td>\n",
       "      <td>smart</td>\n",
       "    </tr>\n",
       "    <tr>\n",
       "      <td>493</td>\n",
       "      <td>1493</td>\n",
       "      <td>71</td>\n",
       "      <td>NaN</td>\n",
       "      <td>Красноярск</td>\n",
       "      <td>Таисия</td>\n",
       "      <td>Ахматулина</td>\n",
       "      <td>2018-11-24</td>\n",
       "      <td>ultra</td>\n",
       "    </tr>\n",
       "    <tr>\n",
       "      <td>494</td>\n",
       "      <td>1494</td>\n",
       "      <td>62</td>\n",
       "      <td>NaN</td>\n",
       "      <td>Омск</td>\n",
       "      <td>Ренат</td>\n",
       "      <td>Андропов</td>\n",
       "      <td>2018-08-17</td>\n",
       "      <td>smart</td>\n",
       "    </tr>\n",
       "    <tr>\n",
       "      <td>495</td>\n",
       "      <td>1495</td>\n",
       "      <td>65</td>\n",
       "      <td>NaN</td>\n",
       "      <td>Иркутск</td>\n",
       "      <td>Авксентий</td>\n",
       "      <td>Фокин</td>\n",
       "      <td>2018-08-28</td>\n",
       "      <td>ultra</td>\n",
       "    </tr>\n",
       "    <tr>\n",
       "      <td>496</td>\n",
       "      <td>1496</td>\n",
       "      <td>36</td>\n",
       "      <td>NaN</td>\n",
       "      <td>Вологда</td>\n",
       "      <td>Трифон</td>\n",
       "      <td>Блохин</td>\n",
       "      <td>2018-01-27</td>\n",
       "      <td>smart</td>\n",
       "    </tr>\n",
       "    <tr>\n",
       "      <td>497</td>\n",
       "      <td>1497</td>\n",
       "      <td>32</td>\n",
       "      <td>NaN</td>\n",
       "      <td>Челябинск</td>\n",
       "      <td>Каролина</td>\n",
       "      <td>Агеева</td>\n",
       "      <td>2018-10-09</td>\n",
       "      <td>smart</td>\n",
       "    </tr>\n",
       "    <tr>\n",
       "      <td>498</td>\n",
       "      <td>1498</td>\n",
       "      <td>68</td>\n",
       "      <td>2018-10-25</td>\n",
       "      <td>Владикавказ</td>\n",
       "      <td>Всеволод</td>\n",
       "      <td>Акимчин</td>\n",
       "      <td>2018-07-19</td>\n",
       "      <td>smart</td>\n",
       "    </tr>\n",
       "    <tr>\n",
       "      <td>499</td>\n",
       "      <td>1499</td>\n",
       "      <td>35</td>\n",
       "      <td>NaN</td>\n",
       "      <td>Пермь</td>\n",
       "      <td>Гектор</td>\n",
       "      <td>Корнилов</td>\n",
       "      <td>2018-09-27</td>\n",
       "      <td>smart</td>\n",
       "    </tr>\n",
       "  </tbody>\n",
       "</table>\n",
       "</div>"
      ],
      "text/plain": [
       "     user_id  age  churn_date             city first_name   last_name  \\\n",
       "490     1490   30         NaN           Москва    Радомир      Алесин   \n",
       "491     1491   56         NaN        Челябинск   Радислав   Андрейкин   \n",
       "492     1492   63         NaN  Санкт-Петербург    Руслана   Артёменко   \n",
       "493     1493   71         NaN       Красноярск     Таисия  Ахматулина   \n",
       "494     1494   62         NaN             Омск      Ренат    Андропов   \n",
       "495     1495   65         NaN          Иркутск  Авксентий       Фокин   \n",
       "496     1496   36         NaN          Вологда     Трифон      Блохин   \n",
       "497     1497   32         NaN        Челябинск   Каролина      Агеева   \n",
       "498     1498   68  2018-10-25      Владикавказ   Всеволод     Акимчин   \n",
       "499     1499   35         NaN            Пермь     Гектор    Корнилов   \n",
       "\n",
       "       reg_date tariff  \n",
       "490  2018-04-03  smart  \n",
       "491  2018-04-25  ultra  \n",
       "492  2018-06-26  smart  \n",
       "493  2018-11-24  ultra  \n",
       "494  2018-08-17  smart  \n",
       "495  2018-08-28  ultra  \n",
       "496  2018-01-27  smart  \n",
       "497  2018-10-09  smart  \n",
       "498  2018-07-19  smart  \n",
       "499  2018-09-27  smart  "
      ]
     },
     "execution_count": 10,
     "metadata": {},
     "output_type": "execute_result"
    }
   ],
   "source": [
    "df4 = pd.read_csv('/datasets/users.csv')\n",
    "df4.tail(10)"
   ]
  },
  {
   "cell_type": "code",
   "execution_count": 11,
   "metadata": {},
   "outputs": [
    {
     "data": {
      "text/html": [
       "<div>\n",
       "<style scoped>\n",
       "    .dataframe tbody tr th:only-of-type {\n",
       "        vertical-align: middle;\n",
       "    }\n",
       "\n",
       "    .dataframe tbody tr th {\n",
       "        vertical-align: top;\n",
       "    }\n",
       "\n",
       "    .dataframe thead th {\n",
       "        text-align: right;\n",
       "    }\n",
       "</style>\n",
       "<table border=\"1\" class=\"dataframe\">\n",
       "  <thead>\n",
       "    <tr style=\"text-align: right;\">\n",
       "      <th></th>\n",
       "      <th>user_id</th>\n",
       "      <th>age</th>\n",
       "    </tr>\n",
       "  </thead>\n",
       "  <tbody>\n",
       "    <tr>\n",
       "      <td>count</td>\n",
       "      <td>500.000000</td>\n",
       "      <td>500.00000</td>\n",
       "    </tr>\n",
       "    <tr>\n",
       "      <td>mean</td>\n",
       "      <td>1249.500000</td>\n",
       "      <td>46.58800</td>\n",
       "    </tr>\n",
       "    <tr>\n",
       "      <td>std</td>\n",
       "      <td>144.481833</td>\n",
       "      <td>16.66763</td>\n",
       "    </tr>\n",
       "    <tr>\n",
       "      <td>min</td>\n",
       "      <td>1000.000000</td>\n",
       "      <td>18.00000</td>\n",
       "    </tr>\n",
       "    <tr>\n",
       "      <td>25%</td>\n",
       "      <td>1124.750000</td>\n",
       "      <td>32.00000</td>\n",
       "    </tr>\n",
       "    <tr>\n",
       "      <td>50%</td>\n",
       "      <td>1249.500000</td>\n",
       "      <td>46.00000</td>\n",
       "    </tr>\n",
       "    <tr>\n",
       "      <td>75%</td>\n",
       "      <td>1374.250000</td>\n",
       "      <td>62.00000</td>\n",
       "    </tr>\n",
       "    <tr>\n",
       "      <td>max</td>\n",
       "      <td>1499.000000</td>\n",
       "      <td>75.00000</td>\n",
       "    </tr>\n",
       "  </tbody>\n",
       "</table>\n",
       "</div>"
      ],
      "text/plain": [
       "           user_id        age\n",
       "count   500.000000  500.00000\n",
       "mean   1249.500000   46.58800\n",
       "std     144.481833   16.66763\n",
       "min    1000.000000   18.00000\n",
       "25%    1124.750000   32.00000\n",
       "50%    1249.500000   46.00000\n",
       "75%    1374.250000   62.00000\n",
       "max    1499.000000   75.00000"
      ]
     },
     "execution_count": 11,
     "metadata": {},
     "output_type": "execute_result"
    }
   ],
   "source": [
    "df4.describe()"
   ]
  },
  {
   "cell_type": "code",
   "execution_count": 12,
   "metadata": {},
   "outputs": [
    {
     "data": {
      "text/plain": [
       "id           0\n",
       "call_date    0\n",
       "duration     0\n",
       "user_id      0\n",
       "dtype: int64"
      ]
     },
     "execution_count": 12,
     "metadata": {},
     "output_type": "execute_result"
    }
   ],
   "source": [
    "df.isna().sum()"
   ]
  },
  {
   "cell_type": "code",
   "execution_count": 13,
   "metadata": {},
   "outputs": [
    {
     "data": {
      "text/plain": [
       "id              0\n",
       "mb_used         0\n",
       "session_date    0\n",
       "user_id         0\n",
       "dtype: int64"
      ]
     },
     "execution_count": 13,
     "metadata": {},
     "output_type": "execute_result"
    }
   ],
   "source": [
    "df1.isna().sum()"
   ]
  },
  {
   "cell_type": "code",
   "execution_count": 14,
   "metadata": {},
   "outputs": [
    {
     "data": {
      "text/plain": [
       "id              0\n",
       "message_date    0\n",
       "user_id         0\n",
       "dtype: int64"
      ]
     },
     "execution_count": 14,
     "metadata": {},
     "output_type": "execute_result"
    }
   ],
   "source": [
    "df2.isna().sum()"
   ]
  },
  {
   "cell_type": "code",
   "execution_count": 15,
   "metadata": {},
   "outputs": [
    {
     "data": {
      "text/plain": [
       "messages_included        0\n",
       "mb_per_month_included    0\n",
       "minutes_included         0\n",
       "rub_monthly_fee          0\n",
       "rub_per_gb               0\n",
       "rub_per_message          0\n",
       "rub_per_minute           0\n",
       "tariff_name              0\n",
       "dtype: int64"
      ]
     },
     "execution_count": 15,
     "metadata": {},
     "output_type": "execute_result"
    }
   ],
   "source": [
    "df3.isna().sum()"
   ]
  },
  {
   "cell_type": "code",
   "execution_count": 16,
   "metadata": {},
   "outputs": [
    {
     "data": {
      "text/plain": [
       "user_id         0\n",
       "age             0\n",
       "churn_date    462\n",
       "city            0\n",
       "first_name      0\n",
       "last_name       0\n",
       "reg_date        0\n",
       "tariff          0\n",
       "dtype: int64"
      ]
     },
     "execution_count": 16,
     "metadata": {},
     "output_type": "execute_result"
    }
   ],
   "source": [
    "df4.isna().sum()"
   ]
  },
  {
   "cell_type": "code",
   "execution_count": null,
   "metadata": {},
   "outputs": [],
   "source": []
  },
  {
   "cell_type": "markdown",
   "metadata": {},
   "source": [
    "## Шаг 2. Подготовьте данные"
   ]
  },
  {
   "cell_type": "code",
   "execution_count": 17,
   "metadata": {},
   "outputs": [],
   "source": [
    "df['call_date'] = pd.to_datetime(df['call_date'], format = '%Y-%m-%d')\n",
    "df['duration'] = np.ceil(df['duration']).astype(int)\n",
    " "
   ]
  },
  {
   "cell_type": "code",
   "execution_count": 18,
   "metadata": {},
   "outputs": [
    {
     "data": {
      "text/html": [
       "<div>\n",
       "<style scoped>\n",
       "    .dataframe tbody tr th:only-of-type {\n",
       "        vertical-align: middle;\n",
       "    }\n",
       "\n",
       "    .dataframe tbody tr th {\n",
       "        vertical-align: top;\n",
       "    }\n",
       "\n",
       "    .dataframe thead th {\n",
       "        text-align: right;\n",
       "    }\n",
       "</style>\n",
       "<table border=\"1\" class=\"dataframe\">\n",
       "  <thead>\n",
       "    <tr style=\"text-align: right;\">\n",
       "      <th></th>\n",
       "      <th>id</th>\n",
       "      <th>call_date</th>\n",
       "      <th>duration</th>\n",
       "      <th>user_id</th>\n",
       "    </tr>\n",
       "  </thead>\n",
       "  <tbody>\n",
       "    <tr>\n",
       "      <td>202587</td>\n",
       "      <td>1499_200</td>\n",
       "      <td>2018-10-04</td>\n",
       "      <td>8</td>\n",
       "      <td>1499</td>\n",
       "    </tr>\n",
       "    <tr>\n",
       "      <td>202588</td>\n",
       "      <td>1499_201</td>\n",
       "      <td>2018-12-15</td>\n",
       "      <td>19</td>\n",
       "      <td>1499</td>\n",
       "    </tr>\n",
       "    <tr>\n",
       "      <td>202589</td>\n",
       "      <td>1499_202</td>\n",
       "      <td>2018-10-03</td>\n",
       "      <td>9</td>\n",
       "      <td>1499</td>\n",
       "    </tr>\n",
       "    <tr>\n",
       "      <td>202590</td>\n",
       "      <td>1499_203</td>\n",
       "      <td>2018-12-03</td>\n",
       "      <td>0</td>\n",
       "      <td>1499</td>\n",
       "    </tr>\n",
       "    <tr>\n",
       "      <td>202591</td>\n",
       "      <td>1499_204</td>\n",
       "      <td>2018-12-12</td>\n",
       "      <td>2</td>\n",
       "      <td>1499</td>\n",
       "    </tr>\n",
       "    <tr>\n",
       "      <td>202592</td>\n",
       "      <td>1499_205</td>\n",
       "      <td>2018-10-13</td>\n",
       "      <td>0</td>\n",
       "      <td>1499</td>\n",
       "    </tr>\n",
       "    <tr>\n",
       "      <td>202593</td>\n",
       "      <td>1499_206</td>\n",
       "      <td>2018-12-26</td>\n",
       "      <td>0</td>\n",
       "      <td>1499</td>\n",
       "    </tr>\n",
       "    <tr>\n",
       "      <td>202594</td>\n",
       "      <td>1499_207</td>\n",
       "      <td>2018-10-28</td>\n",
       "      <td>0</td>\n",
       "      <td>1499</td>\n",
       "    </tr>\n",
       "    <tr>\n",
       "      <td>202595</td>\n",
       "      <td>1499_208</td>\n",
       "      <td>2018-11-03</td>\n",
       "      <td>15</td>\n",
       "      <td>1499</td>\n",
       "    </tr>\n",
       "    <tr>\n",
       "      <td>202596</td>\n",
       "      <td>1499_209</td>\n",
       "      <td>2018-12-16</td>\n",
       "      <td>0</td>\n",
       "      <td>1499</td>\n",
       "    </tr>\n",
       "    <tr>\n",
       "      <td>202597</td>\n",
       "      <td>1499_210</td>\n",
       "      <td>2018-10-02</td>\n",
       "      <td>9</td>\n",
       "      <td>1499</td>\n",
       "    </tr>\n",
       "    <tr>\n",
       "      <td>202598</td>\n",
       "      <td>1499_211</td>\n",
       "      <td>2018-12-29</td>\n",
       "      <td>5</td>\n",
       "      <td>1499</td>\n",
       "    </tr>\n",
       "    <tr>\n",
       "      <td>202599</td>\n",
       "      <td>1499_212</td>\n",
       "      <td>2018-12-30</td>\n",
       "      <td>2</td>\n",
       "      <td>1499</td>\n",
       "    </tr>\n",
       "    <tr>\n",
       "      <td>202600</td>\n",
       "      <td>1499_213</td>\n",
       "      <td>2018-10-17</td>\n",
       "      <td>11</td>\n",
       "      <td>1499</td>\n",
       "    </tr>\n",
       "    <tr>\n",
       "      <td>202601</td>\n",
       "      <td>1499_214</td>\n",
       "      <td>2018-12-05</td>\n",
       "      <td>3</td>\n",
       "      <td>1499</td>\n",
       "    </tr>\n",
       "    <tr>\n",
       "      <td>202602</td>\n",
       "      <td>1499_215</td>\n",
       "      <td>2018-12-26</td>\n",
       "      <td>1</td>\n",
       "      <td>1499</td>\n",
       "    </tr>\n",
       "    <tr>\n",
       "      <td>202603</td>\n",
       "      <td>1499_216</td>\n",
       "      <td>2018-10-18</td>\n",
       "      <td>19</td>\n",
       "      <td>1499</td>\n",
       "    </tr>\n",
       "    <tr>\n",
       "      <td>202604</td>\n",
       "      <td>1499_217</td>\n",
       "      <td>2018-11-10</td>\n",
       "      <td>11</td>\n",
       "      <td>1499</td>\n",
       "    </tr>\n",
       "    <tr>\n",
       "      <td>202605</td>\n",
       "      <td>1499_218</td>\n",
       "      <td>2018-10-06</td>\n",
       "      <td>5</td>\n",
       "      <td>1499</td>\n",
       "    </tr>\n",
       "    <tr>\n",
       "      <td>202606</td>\n",
       "      <td>1499_219</td>\n",
       "      <td>2018-12-14</td>\n",
       "      <td>20</td>\n",
       "      <td>1499</td>\n",
       "    </tr>\n",
       "  </tbody>\n",
       "</table>\n",
       "</div>"
      ],
      "text/plain": [
       "              id  call_date  duration  user_id\n",
       "202587  1499_200 2018-10-04         8     1499\n",
       "202588  1499_201 2018-12-15        19     1499\n",
       "202589  1499_202 2018-10-03         9     1499\n",
       "202590  1499_203 2018-12-03         0     1499\n",
       "202591  1499_204 2018-12-12         2     1499\n",
       "202592  1499_205 2018-10-13         0     1499\n",
       "202593  1499_206 2018-12-26         0     1499\n",
       "202594  1499_207 2018-10-28         0     1499\n",
       "202595  1499_208 2018-11-03        15     1499\n",
       "202596  1499_209 2018-12-16         0     1499\n",
       "202597  1499_210 2018-10-02         9     1499\n",
       "202598  1499_211 2018-12-29         5     1499\n",
       "202599  1499_212 2018-12-30         2     1499\n",
       "202600  1499_213 2018-10-17        11     1499\n",
       "202601  1499_214 2018-12-05         3     1499\n",
       "202602  1499_215 2018-12-26         1     1499\n",
       "202603  1499_216 2018-10-18        19     1499\n",
       "202604  1499_217 2018-11-10        11     1499\n",
       "202605  1499_218 2018-10-06         5     1499\n",
       "202606  1499_219 2018-12-14        20     1499"
      ]
     },
     "execution_count": 18,
     "metadata": {},
     "output_type": "execute_result"
    }
   ],
   "source": [
    "df.tail(20) "
   ]
  },
  {
   "cell_type": "markdown",
   "metadata": {},
   "source": [
    "Полцчаем звонки с округленными минутами, как их считает оператор."
   ]
  },
  {
   "cell_type": "code",
   "execution_count": 19,
   "metadata": {},
   "outputs": [
    {
     "data": {
      "text/html": [
       "<div>\n",
       "<style scoped>\n",
       "    .dataframe tbody tr th:only-of-type {\n",
       "        vertical-align: middle;\n",
       "    }\n",
       "\n",
       "    .dataframe tbody tr th {\n",
       "        vertical-align: top;\n",
       "    }\n",
       "\n",
       "    .dataframe thead th {\n",
       "        text-align: right;\n",
       "    }\n",
       "</style>\n",
       "<table border=\"1\" class=\"dataframe\">\n",
       "  <thead>\n",
       "    <tr style=\"text-align: right;\">\n",
       "      <th></th>\n",
       "      <th>id</th>\n",
       "      <th>mb_used</th>\n",
       "      <th>session_date</th>\n",
       "      <th>user_id</th>\n",
       "    </tr>\n",
       "  </thead>\n",
       "  <tbody>\n",
       "    <tr>\n",
       "      <td>0</td>\n",
       "      <td>1000_0</td>\n",
       "      <td>112.95</td>\n",
       "      <td>2018-11-25</td>\n",
       "      <td>1000</td>\n",
       "    </tr>\n",
       "    <tr>\n",
       "      <td>1</td>\n",
       "      <td>1000_1</td>\n",
       "      <td>1052.81</td>\n",
       "      <td>2018-09-07</td>\n",
       "      <td>1000</td>\n",
       "    </tr>\n",
       "    <tr>\n",
       "      <td>2</td>\n",
       "      <td>1000_2</td>\n",
       "      <td>1197.26</td>\n",
       "      <td>2018-06-25</td>\n",
       "      <td>1000</td>\n",
       "    </tr>\n",
       "    <tr>\n",
       "      <td>3</td>\n",
       "      <td>1000_3</td>\n",
       "      <td>550.27</td>\n",
       "      <td>2018-08-22</td>\n",
       "      <td>1000</td>\n",
       "    </tr>\n",
       "    <tr>\n",
       "      <td>4</td>\n",
       "      <td>1000_4</td>\n",
       "      <td>302.56</td>\n",
       "      <td>2018-09-24</td>\n",
       "      <td>1000</td>\n",
       "    </tr>\n",
       "    <tr>\n",
       "      <td>...</td>\n",
       "      <td>...</td>\n",
       "      <td>...</td>\n",
       "      <td>...</td>\n",
       "      <td>...</td>\n",
       "    </tr>\n",
       "    <tr>\n",
       "      <td>149391</td>\n",
       "      <td>1499_152</td>\n",
       "      <td>318.90</td>\n",
       "      <td>2018-10-03</td>\n",
       "      <td>1499</td>\n",
       "    </tr>\n",
       "    <tr>\n",
       "      <td>149392</td>\n",
       "      <td>1499_153</td>\n",
       "      <td>490.13</td>\n",
       "      <td>2018-12-14</td>\n",
       "      <td>1499</td>\n",
       "    </tr>\n",
       "    <tr>\n",
       "      <td>149393</td>\n",
       "      <td>1499_154</td>\n",
       "      <td>0.00</td>\n",
       "      <td>2018-10-27</td>\n",
       "      <td>1499</td>\n",
       "    </tr>\n",
       "    <tr>\n",
       "      <td>149394</td>\n",
       "      <td>1499_155</td>\n",
       "      <td>1246.32</td>\n",
       "      <td>2018-11-26</td>\n",
       "      <td>1499</td>\n",
       "    </tr>\n",
       "    <tr>\n",
       "      <td>149395</td>\n",
       "      <td>1499_156</td>\n",
       "      <td>544.37</td>\n",
       "      <td>2018-10-26</td>\n",
       "      <td>1499</td>\n",
       "    </tr>\n",
       "  </tbody>\n",
       "</table>\n",
       "<p>149396 rows × 4 columns</p>\n",
       "</div>"
      ],
      "text/plain": [
       "              id  mb_used session_date  user_id\n",
       "0         1000_0   112.95   2018-11-25     1000\n",
       "1         1000_1  1052.81   2018-09-07     1000\n",
       "2         1000_2  1197.26   2018-06-25     1000\n",
       "3         1000_3   550.27   2018-08-22     1000\n",
       "4         1000_4   302.56   2018-09-24     1000\n",
       "...          ...      ...          ...      ...\n",
       "149391  1499_152   318.90   2018-10-03     1499\n",
       "149392  1499_153   490.13   2018-12-14     1499\n",
       "149393  1499_154     0.00   2018-10-27     1499\n",
       "149394  1499_155  1246.32   2018-11-26     1499\n",
       "149395  1499_156   544.37   2018-10-26     1499\n",
       "\n",
       "[149396 rows x 4 columns]"
      ]
     },
     "execution_count": 19,
     "metadata": {},
     "output_type": "execute_result"
    }
   ],
   "source": [
    "df1"
   ]
  },
  {
   "cell_type": "code",
   "execution_count": 20,
   "metadata": {},
   "outputs": [
    {
     "name": "stdout",
     "output_type": "stream",
     "text": [
      "<class 'pandas.core.frame.DataFrame'>\n",
      "Int64Index: 149396 entries, 0 to 149395\n",
      "Data columns (total 4 columns):\n",
      "id              149396 non-null object\n",
      "mb_used         149396 non-null float64\n",
      "session_date    149396 non-null object\n",
      "user_id         149396 non-null int64\n",
      "dtypes: float64(1), int64(1), object(2)\n",
      "memory usage: 5.7+ MB\n"
     ]
    }
   ],
   "source": [
    "df1.info()"
   ]
  },
  {
   "cell_type": "code",
   "execution_count": 21,
   "metadata": {},
   "outputs": [],
   "source": [
    "df1['session_date'] = pd.to_datetime(df1['session_date'], format = '%Y-%m-%d')"
   ]
  },
  {
   "cell_type": "code",
   "execution_count": 22,
   "metadata": {},
   "outputs": [
    {
     "data": {
      "text/html": [
       "<div>\n",
       "<style scoped>\n",
       "    .dataframe tbody tr th:only-of-type {\n",
       "        vertical-align: middle;\n",
       "    }\n",
       "\n",
       "    .dataframe tbody tr th {\n",
       "        vertical-align: top;\n",
       "    }\n",
       "\n",
       "    .dataframe thead th {\n",
       "        text-align: right;\n",
       "    }\n",
       "</style>\n",
       "<table border=\"1\" class=\"dataframe\">\n",
       "  <thead>\n",
       "    <tr style=\"text-align: right;\">\n",
       "      <th></th>\n",
       "      <th>id</th>\n",
       "      <th>mb_used</th>\n",
       "      <th>session_date</th>\n",
       "      <th>user_id</th>\n",
       "    </tr>\n",
       "  </thead>\n",
       "  <tbody>\n",
       "    <tr>\n",
       "      <td>0</td>\n",
       "      <td>1000_0</td>\n",
       "      <td>112.95</td>\n",
       "      <td>2018-11-25</td>\n",
       "      <td>1000</td>\n",
       "    </tr>\n",
       "    <tr>\n",
       "      <td>1</td>\n",
       "      <td>1000_1</td>\n",
       "      <td>1052.81</td>\n",
       "      <td>2018-09-07</td>\n",
       "      <td>1000</td>\n",
       "    </tr>\n",
       "    <tr>\n",
       "      <td>2</td>\n",
       "      <td>1000_2</td>\n",
       "      <td>1197.26</td>\n",
       "      <td>2018-06-25</td>\n",
       "      <td>1000</td>\n",
       "    </tr>\n",
       "    <tr>\n",
       "      <td>3</td>\n",
       "      <td>1000_3</td>\n",
       "      <td>550.27</td>\n",
       "      <td>2018-08-22</td>\n",
       "      <td>1000</td>\n",
       "    </tr>\n",
       "    <tr>\n",
       "      <td>4</td>\n",
       "      <td>1000_4</td>\n",
       "      <td>302.56</td>\n",
       "      <td>2018-09-24</td>\n",
       "      <td>1000</td>\n",
       "    </tr>\n",
       "    <tr>\n",
       "      <td>...</td>\n",
       "      <td>...</td>\n",
       "      <td>...</td>\n",
       "      <td>...</td>\n",
       "      <td>...</td>\n",
       "    </tr>\n",
       "    <tr>\n",
       "      <td>149391</td>\n",
       "      <td>1499_152</td>\n",
       "      <td>318.90</td>\n",
       "      <td>2018-10-03</td>\n",
       "      <td>1499</td>\n",
       "    </tr>\n",
       "    <tr>\n",
       "      <td>149392</td>\n",
       "      <td>1499_153</td>\n",
       "      <td>490.13</td>\n",
       "      <td>2018-12-14</td>\n",
       "      <td>1499</td>\n",
       "    </tr>\n",
       "    <tr>\n",
       "      <td>149393</td>\n",
       "      <td>1499_154</td>\n",
       "      <td>0.00</td>\n",
       "      <td>2018-10-27</td>\n",
       "      <td>1499</td>\n",
       "    </tr>\n",
       "    <tr>\n",
       "      <td>149394</td>\n",
       "      <td>1499_155</td>\n",
       "      <td>1246.32</td>\n",
       "      <td>2018-11-26</td>\n",
       "      <td>1499</td>\n",
       "    </tr>\n",
       "    <tr>\n",
       "      <td>149395</td>\n",
       "      <td>1499_156</td>\n",
       "      <td>544.37</td>\n",
       "      <td>2018-10-26</td>\n",
       "      <td>1499</td>\n",
       "    </tr>\n",
       "  </tbody>\n",
       "</table>\n",
       "<p>149396 rows × 4 columns</p>\n",
       "</div>"
      ],
      "text/plain": [
       "              id  mb_used session_date  user_id\n",
       "0         1000_0   112.95   2018-11-25     1000\n",
       "1         1000_1  1052.81   2018-09-07     1000\n",
       "2         1000_2  1197.26   2018-06-25     1000\n",
       "3         1000_3   550.27   2018-08-22     1000\n",
       "4         1000_4   302.56   2018-09-24     1000\n",
       "...          ...      ...          ...      ...\n",
       "149391  1499_152   318.90   2018-10-03     1499\n",
       "149392  1499_153   490.13   2018-12-14     1499\n",
       "149393  1499_154     0.00   2018-10-27     1499\n",
       "149394  1499_155  1246.32   2018-11-26     1499\n",
       "149395  1499_156   544.37   2018-10-26     1499\n",
       "\n",
       "[149396 rows x 4 columns]"
      ]
     },
     "execution_count": 22,
     "metadata": {},
     "output_type": "execute_result"
    }
   ],
   "source": [
    "df1"
   ]
  },
  {
   "cell_type": "code",
   "execution_count": 23,
   "metadata": {},
   "outputs": [
    {
     "name": "stdout",
     "output_type": "stream",
     "text": [
      "<class 'pandas.core.frame.DataFrame'>\n",
      "Int64Index: 149396 entries, 0 to 149395\n",
      "Data columns (total 4 columns):\n",
      "id              149396 non-null object\n",
      "mb_used         149396 non-null float64\n",
      "session_date    149396 non-null datetime64[ns]\n",
      "user_id         149396 non-null int64\n",
      "dtypes: datetime64[ns](1), float64(1), int64(1), object(1)\n",
      "memory usage: 5.7+ MB\n"
     ]
    }
   ],
   "source": [
    "df1.info()"
   ]
  },
  {
   "cell_type": "markdown",
   "metadata": {},
   "source": [
    "Удалили лишний столбец с индексами, и привели время к нужному типу."
   ]
  },
  {
   "cell_type": "code",
   "execution_count": 24,
   "metadata": {},
   "outputs": [
    {
     "data": {
      "text/html": [
       "<div>\n",
       "<style scoped>\n",
       "    .dataframe tbody tr th:only-of-type {\n",
       "        vertical-align: middle;\n",
       "    }\n",
       "\n",
       "    .dataframe tbody tr th {\n",
       "        vertical-align: top;\n",
       "    }\n",
       "\n",
       "    .dataframe thead th {\n",
       "        text-align: right;\n",
       "    }\n",
       "</style>\n",
       "<table border=\"1\" class=\"dataframe\">\n",
       "  <thead>\n",
       "    <tr style=\"text-align: right;\">\n",
       "      <th></th>\n",
       "      <th>id</th>\n",
       "      <th>message_date</th>\n",
       "      <th>user_id</th>\n",
       "    </tr>\n",
       "  </thead>\n",
       "  <tbody>\n",
       "    <tr>\n",
       "      <td>0</td>\n",
       "      <td>1000_0</td>\n",
       "      <td>2018-06-27</td>\n",
       "      <td>1000</td>\n",
       "    </tr>\n",
       "    <tr>\n",
       "      <td>1</td>\n",
       "      <td>1000_1</td>\n",
       "      <td>2018-10-08</td>\n",
       "      <td>1000</td>\n",
       "    </tr>\n",
       "    <tr>\n",
       "      <td>2</td>\n",
       "      <td>1000_2</td>\n",
       "      <td>2018-08-04</td>\n",
       "      <td>1000</td>\n",
       "    </tr>\n",
       "    <tr>\n",
       "      <td>3</td>\n",
       "      <td>1000_3</td>\n",
       "      <td>2018-06-16</td>\n",
       "      <td>1000</td>\n",
       "    </tr>\n",
       "    <tr>\n",
       "      <td>4</td>\n",
       "      <td>1000_4</td>\n",
       "      <td>2018-12-05</td>\n",
       "      <td>1000</td>\n",
       "    </tr>\n",
       "    <tr>\n",
       "      <td>...</td>\n",
       "      <td>...</td>\n",
       "      <td>...</td>\n",
       "      <td>...</td>\n",
       "    </tr>\n",
       "    <tr>\n",
       "      <td>123031</td>\n",
       "      <td>1499_179</td>\n",
       "      <td>2018-12-12</td>\n",
       "      <td>1499</td>\n",
       "    </tr>\n",
       "    <tr>\n",
       "      <td>123032</td>\n",
       "      <td>1499_180</td>\n",
       "      <td>2018-09-28</td>\n",
       "      <td>1499</td>\n",
       "    </tr>\n",
       "    <tr>\n",
       "      <td>123033</td>\n",
       "      <td>1499_181</td>\n",
       "      <td>2018-09-27</td>\n",
       "      <td>1499</td>\n",
       "    </tr>\n",
       "    <tr>\n",
       "      <td>123034</td>\n",
       "      <td>1499_182</td>\n",
       "      <td>2018-11-15</td>\n",
       "      <td>1499</td>\n",
       "    </tr>\n",
       "    <tr>\n",
       "      <td>123035</td>\n",
       "      <td>1499_183</td>\n",
       "      <td>2018-11-16</td>\n",
       "      <td>1499</td>\n",
       "    </tr>\n",
       "  </tbody>\n",
       "</table>\n",
       "<p>123036 rows × 3 columns</p>\n",
       "</div>"
      ],
      "text/plain": [
       "              id message_date  user_id\n",
       "0         1000_0   2018-06-27     1000\n",
       "1         1000_1   2018-10-08     1000\n",
       "2         1000_2   2018-08-04     1000\n",
       "3         1000_3   2018-06-16     1000\n",
       "4         1000_4   2018-12-05     1000\n",
       "...          ...          ...      ...\n",
       "123031  1499_179   2018-12-12     1499\n",
       "123032  1499_180   2018-09-28     1499\n",
       "123033  1499_181   2018-09-27     1499\n",
       "123034  1499_182   2018-11-15     1499\n",
       "123035  1499_183   2018-11-16     1499\n",
       "\n",
       "[123036 rows x 3 columns]"
      ]
     },
     "execution_count": 24,
     "metadata": {},
     "output_type": "execute_result"
    }
   ],
   "source": [
    "df2"
   ]
  },
  {
   "cell_type": "code",
   "execution_count": 25,
   "metadata": {},
   "outputs": [],
   "source": [
    "df2['message_date'] = pd.to_datetime(df2['message_date'], format = '%Y-%m-%d')"
   ]
  },
  {
   "cell_type": "code",
   "execution_count": 26,
   "metadata": {},
   "outputs": [
    {
     "name": "stdout",
     "output_type": "stream",
     "text": [
      "<class 'pandas.core.frame.DataFrame'>\n",
      "RangeIndex: 123036 entries, 0 to 123035\n",
      "Data columns (total 3 columns):\n",
      "id              123036 non-null object\n",
      "message_date    123036 non-null datetime64[ns]\n",
      "user_id         123036 non-null int64\n",
      "dtypes: datetime64[ns](1), int64(1), object(1)\n",
      "memory usage: 2.8+ MB\n"
     ]
    }
   ],
   "source": [
    "df2.info()"
   ]
  },
  {
   "cell_type": "code",
   "execution_count": 27,
   "metadata": {},
   "outputs": [
    {
     "data": {
      "text/html": [
       "<div>\n",
       "<style scoped>\n",
       "    .dataframe tbody tr th:only-of-type {\n",
       "        vertical-align: middle;\n",
       "    }\n",
       "\n",
       "    .dataframe tbody tr th {\n",
       "        vertical-align: top;\n",
       "    }\n",
       "\n",
       "    .dataframe thead th {\n",
       "        text-align: right;\n",
       "    }\n",
       "</style>\n",
       "<table border=\"1\" class=\"dataframe\">\n",
       "  <thead>\n",
       "    <tr style=\"text-align: right;\">\n",
       "      <th></th>\n",
       "      <th>messages_included</th>\n",
       "      <th>mb_per_month_included</th>\n",
       "      <th>minutes_included</th>\n",
       "      <th>rub_monthly_fee</th>\n",
       "      <th>rub_per_gb</th>\n",
       "      <th>rub_per_message</th>\n",
       "      <th>rub_per_minute</th>\n",
       "      <th>tariff_name</th>\n",
       "    </tr>\n",
       "  </thead>\n",
       "  <tbody>\n",
       "    <tr>\n",
       "      <td>0</td>\n",
       "      <td>50</td>\n",
       "      <td>15360</td>\n",
       "      <td>500</td>\n",
       "      <td>550</td>\n",
       "      <td>200</td>\n",
       "      <td>3</td>\n",
       "      <td>3</td>\n",
       "      <td>smart</td>\n",
       "    </tr>\n",
       "    <tr>\n",
       "      <td>1</td>\n",
       "      <td>1000</td>\n",
       "      <td>30720</td>\n",
       "      <td>3000</td>\n",
       "      <td>1950</td>\n",
       "      <td>150</td>\n",
       "      <td>1</td>\n",
       "      <td>1</td>\n",
       "      <td>ultra</td>\n",
       "    </tr>\n",
       "  </tbody>\n",
       "</table>\n",
       "</div>"
      ],
      "text/plain": [
       "   messages_included  mb_per_month_included  minutes_included  \\\n",
       "0                 50                  15360               500   \n",
       "1               1000                  30720              3000   \n",
       "\n",
       "   rub_monthly_fee  rub_per_gb  rub_per_message  rub_per_minute tariff_name  \n",
       "0              550         200                3               3       smart  \n",
       "1             1950         150                1               1       ultra  "
      ]
     },
     "execution_count": 27,
     "metadata": {},
     "output_type": "execute_result"
    }
   ],
   "source": [
    "df3"
   ]
  },
  {
   "cell_type": "code",
   "execution_count": 28,
   "metadata": {},
   "outputs": [
    {
     "data": {
      "text/html": [
       "<div>\n",
       "<style scoped>\n",
       "    .dataframe tbody tr th:only-of-type {\n",
       "        vertical-align: middle;\n",
       "    }\n",
       "\n",
       "    .dataframe tbody tr th {\n",
       "        vertical-align: top;\n",
       "    }\n",
       "\n",
       "    .dataframe thead th {\n",
       "        text-align: right;\n",
       "    }\n",
       "</style>\n",
       "<table border=\"1\" class=\"dataframe\">\n",
       "  <thead>\n",
       "    <tr style=\"text-align: right;\">\n",
       "      <th></th>\n",
       "      <th>user_id</th>\n",
       "      <th>age</th>\n",
       "      <th>churn_date</th>\n",
       "      <th>city</th>\n",
       "      <th>first_name</th>\n",
       "      <th>last_name</th>\n",
       "      <th>reg_date</th>\n",
       "      <th>tariff</th>\n",
       "    </tr>\n",
       "  </thead>\n",
       "  <tbody>\n",
       "    <tr>\n",
       "      <td>0</td>\n",
       "      <td>1000</td>\n",
       "      <td>52</td>\n",
       "      <td>NaN</td>\n",
       "      <td>Краснодар</td>\n",
       "      <td>Рафаил</td>\n",
       "      <td>Верещагин</td>\n",
       "      <td>2018-05-25</td>\n",
       "      <td>ultra</td>\n",
       "    </tr>\n",
       "    <tr>\n",
       "      <td>1</td>\n",
       "      <td>1001</td>\n",
       "      <td>41</td>\n",
       "      <td>NaN</td>\n",
       "      <td>Москва</td>\n",
       "      <td>Иван</td>\n",
       "      <td>Ежов</td>\n",
       "      <td>2018-11-01</td>\n",
       "      <td>smart</td>\n",
       "    </tr>\n",
       "    <tr>\n",
       "      <td>2</td>\n",
       "      <td>1002</td>\n",
       "      <td>59</td>\n",
       "      <td>NaN</td>\n",
       "      <td>Стерлитамак</td>\n",
       "      <td>Евгений</td>\n",
       "      <td>Абрамович</td>\n",
       "      <td>2018-06-17</td>\n",
       "      <td>smart</td>\n",
       "    </tr>\n",
       "    <tr>\n",
       "      <td>3</td>\n",
       "      <td>1003</td>\n",
       "      <td>23</td>\n",
       "      <td>NaN</td>\n",
       "      <td>Москва</td>\n",
       "      <td>Белла</td>\n",
       "      <td>Белякова</td>\n",
       "      <td>2018-08-17</td>\n",
       "      <td>ultra</td>\n",
       "    </tr>\n",
       "    <tr>\n",
       "      <td>4</td>\n",
       "      <td>1004</td>\n",
       "      <td>68</td>\n",
       "      <td>NaN</td>\n",
       "      <td>Новокузнецк</td>\n",
       "      <td>Татьяна</td>\n",
       "      <td>Авдеенко</td>\n",
       "      <td>2018-05-14</td>\n",
       "      <td>ultra</td>\n",
       "    </tr>\n",
       "    <tr>\n",
       "      <td>...</td>\n",
       "      <td>...</td>\n",
       "      <td>...</td>\n",
       "      <td>...</td>\n",
       "      <td>...</td>\n",
       "      <td>...</td>\n",
       "      <td>...</td>\n",
       "      <td>...</td>\n",
       "      <td>...</td>\n",
       "    </tr>\n",
       "    <tr>\n",
       "      <td>495</td>\n",
       "      <td>1495</td>\n",
       "      <td>65</td>\n",
       "      <td>NaN</td>\n",
       "      <td>Иркутск</td>\n",
       "      <td>Авксентий</td>\n",
       "      <td>Фокин</td>\n",
       "      <td>2018-08-28</td>\n",
       "      <td>ultra</td>\n",
       "    </tr>\n",
       "    <tr>\n",
       "      <td>496</td>\n",
       "      <td>1496</td>\n",
       "      <td>36</td>\n",
       "      <td>NaN</td>\n",
       "      <td>Вологда</td>\n",
       "      <td>Трифон</td>\n",
       "      <td>Блохин</td>\n",
       "      <td>2018-01-27</td>\n",
       "      <td>smart</td>\n",
       "    </tr>\n",
       "    <tr>\n",
       "      <td>497</td>\n",
       "      <td>1497</td>\n",
       "      <td>32</td>\n",
       "      <td>NaN</td>\n",
       "      <td>Челябинск</td>\n",
       "      <td>Каролина</td>\n",
       "      <td>Агеева</td>\n",
       "      <td>2018-10-09</td>\n",
       "      <td>smart</td>\n",
       "    </tr>\n",
       "    <tr>\n",
       "      <td>498</td>\n",
       "      <td>1498</td>\n",
       "      <td>68</td>\n",
       "      <td>2018-10-25</td>\n",
       "      <td>Владикавказ</td>\n",
       "      <td>Всеволод</td>\n",
       "      <td>Акимчин</td>\n",
       "      <td>2018-07-19</td>\n",
       "      <td>smart</td>\n",
       "    </tr>\n",
       "    <tr>\n",
       "      <td>499</td>\n",
       "      <td>1499</td>\n",
       "      <td>35</td>\n",
       "      <td>NaN</td>\n",
       "      <td>Пермь</td>\n",
       "      <td>Гектор</td>\n",
       "      <td>Корнилов</td>\n",
       "      <td>2018-09-27</td>\n",
       "      <td>smart</td>\n",
       "    </tr>\n",
       "  </tbody>\n",
       "</table>\n",
       "<p>500 rows × 8 columns</p>\n",
       "</div>"
      ],
      "text/plain": [
       "     user_id  age  churn_date         city first_name  last_name    reg_date  \\\n",
       "0       1000   52         NaN    Краснодар     Рафаил  Верещагин  2018-05-25   \n",
       "1       1001   41         NaN       Москва       Иван       Ежов  2018-11-01   \n",
       "2       1002   59         NaN  Стерлитамак    Евгений  Абрамович  2018-06-17   \n",
       "3       1003   23         NaN       Москва      Белла   Белякова  2018-08-17   \n",
       "4       1004   68         NaN  Новокузнецк    Татьяна   Авдеенко  2018-05-14   \n",
       "..       ...  ...         ...          ...        ...        ...         ...   \n",
       "495     1495   65         NaN      Иркутск  Авксентий      Фокин  2018-08-28   \n",
       "496     1496   36         NaN      Вологда     Трифон     Блохин  2018-01-27   \n",
       "497     1497   32         NaN    Челябинск   Каролина     Агеева  2018-10-09   \n",
       "498     1498   68  2018-10-25  Владикавказ   Всеволод    Акимчин  2018-07-19   \n",
       "499     1499   35         NaN        Пермь     Гектор   Корнилов  2018-09-27   \n",
       "\n",
       "    tariff  \n",
       "0    ultra  \n",
       "1    smart  \n",
       "2    smart  \n",
       "3    ultra  \n",
       "4    ultra  \n",
       "..     ...  \n",
       "495  ultra  \n",
       "496  smart  \n",
       "497  smart  \n",
       "498  smart  \n",
       "499  smart  \n",
       "\n",
       "[500 rows x 8 columns]"
      ]
     },
     "execution_count": 28,
     "metadata": {},
     "output_type": "execute_result"
    }
   ],
   "source": [
    "df4"
   ]
  },
  {
   "cell_type": "code",
   "execution_count": null,
   "metadata": {},
   "outputs": [],
   "source": []
  },
  {
   "cell_type": "code",
   "execution_count": 29,
   "metadata": {},
   "outputs": [],
   "source": [
    "df4['reg_date'] = pd.to_datetime(df4['reg_date'], format = '%Y-%m-%d')"
   ]
  },
  {
   "cell_type": "code",
   "execution_count": 30,
   "metadata": {},
   "outputs": [],
   "source": [
    "df4['churn_date'] = pd.to_datetime(df4['churn_date'], format = '%Y-%m-%d')"
   ]
  },
  {
   "cell_type": "code",
   "execution_count": 31,
   "metadata": {},
   "outputs": [
    {
     "name": "stdout",
     "output_type": "stream",
     "text": [
      "<class 'pandas.core.frame.DataFrame'>\n",
      "RangeIndex: 500 entries, 0 to 499\n",
      "Data columns (total 8 columns):\n",
      "user_id       500 non-null int64\n",
      "age           500 non-null int64\n",
      "churn_date    38 non-null datetime64[ns]\n",
      "city          500 non-null object\n",
      "first_name    500 non-null object\n",
      "last_name     500 non-null object\n",
      "reg_date      500 non-null datetime64[ns]\n",
      "tariff        500 non-null object\n",
      "dtypes: datetime64[ns](2), int64(2), object(4)\n",
      "memory usage: 31.4+ KB\n"
     ]
    }
   ],
   "source": [
    "df4.info()"
   ]
  },
  {
   "cell_type": "markdown",
   "metadata": {},
   "source": [
    "### Посчитайте для каждого пользователя:"
   ]
  },
  {
   "cell_type": "code",
   "execution_count": 32,
   "metadata": {},
   "outputs": [],
   "source": [
    "df['month'] = pd.DatetimeIndex(df['call_date']).month"
   ]
  },
  {
   "cell_type": "code",
   "execution_count": 33,
   "metadata": {},
   "outputs": [
    {
     "data": {
      "text/html": [
       "<div>\n",
       "<style scoped>\n",
       "    .dataframe tbody tr th:only-of-type {\n",
       "        vertical-align: middle;\n",
       "    }\n",
       "\n",
       "    .dataframe tbody tr th {\n",
       "        vertical-align: top;\n",
       "    }\n",
       "\n",
       "    .dataframe thead th {\n",
       "        text-align: right;\n",
       "    }\n",
       "</style>\n",
       "<table border=\"1\" class=\"dataframe\">\n",
       "  <thead>\n",
       "    <tr style=\"text-align: right;\">\n",
       "      <th></th>\n",
       "      <th>id</th>\n",
       "      <th>call_date</th>\n",
       "      <th>duration</th>\n",
       "      <th>user_id</th>\n",
       "      <th>month</th>\n",
       "    </tr>\n",
       "  </thead>\n",
       "  <tbody>\n",
       "    <tr>\n",
       "      <td>0</td>\n",
       "      <td>1000_0</td>\n",
       "      <td>2018-07-25</td>\n",
       "      <td>0</td>\n",
       "      <td>1000</td>\n",
       "      <td>7</td>\n",
       "    </tr>\n",
       "    <tr>\n",
       "      <td>1</td>\n",
       "      <td>1000_1</td>\n",
       "      <td>2018-08-17</td>\n",
       "      <td>0</td>\n",
       "      <td>1000</td>\n",
       "      <td>8</td>\n",
       "    </tr>\n",
       "    <tr>\n",
       "      <td>2</td>\n",
       "      <td>1000_2</td>\n",
       "      <td>2018-06-11</td>\n",
       "      <td>3</td>\n",
       "      <td>1000</td>\n",
       "      <td>6</td>\n",
       "    </tr>\n",
       "    <tr>\n",
       "      <td>3</td>\n",
       "      <td>1000_3</td>\n",
       "      <td>2018-09-21</td>\n",
       "      <td>14</td>\n",
       "      <td>1000</td>\n",
       "      <td>9</td>\n",
       "    </tr>\n",
       "    <tr>\n",
       "      <td>4</td>\n",
       "      <td>1000_4</td>\n",
       "      <td>2018-12-15</td>\n",
       "      <td>6</td>\n",
       "      <td>1000</td>\n",
       "      <td>12</td>\n",
       "    </tr>\n",
       "    <tr>\n",
       "      <td>...</td>\n",
       "      <td>...</td>\n",
       "      <td>...</td>\n",
       "      <td>...</td>\n",
       "      <td>...</td>\n",
       "      <td>...</td>\n",
       "    </tr>\n",
       "    <tr>\n",
       "      <td>202602</td>\n",
       "      <td>1499_215</td>\n",
       "      <td>2018-12-26</td>\n",
       "      <td>1</td>\n",
       "      <td>1499</td>\n",
       "      <td>12</td>\n",
       "    </tr>\n",
       "    <tr>\n",
       "      <td>202603</td>\n",
       "      <td>1499_216</td>\n",
       "      <td>2018-10-18</td>\n",
       "      <td>19</td>\n",
       "      <td>1499</td>\n",
       "      <td>10</td>\n",
       "    </tr>\n",
       "    <tr>\n",
       "      <td>202604</td>\n",
       "      <td>1499_217</td>\n",
       "      <td>2018-11-10</td>\n",
       "      <td>11</td>\n",
       "      <td>1499</td>\n",
       "      <td>11</td>\n",
       "    </tr>\n",
       "    <tr>\n",
       "      <td>202605</td>\n",
       "      <td>1499_218</td>\n",
       "      <td>2018-10-06</td>\n",
       "      <td>5</td>\n",
       "      <td>1499</td>\n",
       "      <td>10</td>\n",
       "    </tr>\n",
       "    <tr>\n",
       "      <td>202606</td>\n",
       "      <td>1499_219</td>\n",
       "      <td>2018-12-14</td>\n",
       "      <td>20</td>\n",
       "      <td>1499</td>\n",
       "      <td>12</td>\n",
       "    </tr>\n",
       "  </tbody>\n",
       "</table>\n",
       "<p>202607 rows × 5 columns</p>\n",
       "</div>"
      ],
      "text/plain": [
       "              id  call_date  duration  user_id  month\n",
       "0         1000_0 2018-07-25         0     1000      7\n",
       "1         1000_1 2018-08-17         0     1000      8\n",
       "2         1000_2 2018-06-11         3     1000      6\n",
       "3         1000_3 2018-09-21        14     1000      9\n",
       "4         1000_4 2018-12-15         6     1000     12\n",
       "...          ...        ...       ...      ...    ...\n",
       "202602  1499_215 2018-12-26         1     1499     12\n",
       "202603  1499_216 2018-10-18        19     1499     10\n",
       "202604  1499_217 2018-11-10        11     1499     11\n",
       "202605  1499_218 2018-10-06         5     1499     10\n",
       "202606  1499_219 2018-12-14        20     1499     12\n",
       "\n",
       "[202607 rows x 5 columns]"
      ]
     },
     "execution_count": 33,
     "metadata": {},
     "output_type": "execute_result"
    }
   ],
   "source": [
    "df"
   ]
  },
  {
   "cell_type": "code",
   "execution_count": 34,
   "metadata": {},
   "outputs": [
    {
     "data": {
      "text/html": [
       "<div>\n",
       "<style scoped>\n",
       "    .dataframe tbody tr th:only-of-type {\n",
       "        vertical-align: middle;\n",
       "    }\n",
       "\n",
       "    .dataframe tbody tr th {\n",
       "        vertical-align: top;\n",
       "    }\n",
       "\n",
       "    .dataframe thead th {\n",
       "        text-align: right;\n",
       "    }\n",
       "</style>\n",
       "<table border=\"1\" class=\"dataframe\">\n",
       "  <thead>\n",
       "    <tr style=\"text-align: right;\">\n",
       "      <th></th>\n",
       "      <th></th>\n",
       "      <th>duration</th>\n",
       "    </tr>\n",
       "    <tr>\n",
       "      <th>user_id</th>\n",
       "      <th>month</th>\n",
       "      <th></th>\n",
       "    </tr>\n",
       "  </thead>\n",
       "  <tbody>\n",
       "    <tr>\n",
       "      <td rowspan=\"5\" valign=\"top\">1000</td>\n",
       "      <td>5</td>\n",
       "      <td>22</td>\n",
       "    </tr>\n",
       "    <tr>\n",
       "      <td>6</td>\n",
       "      <td>43</td>\n",
       "    </tr>\n",
       "    <tr>\n",
       "      <td>7</td>\n",
       "      <td>47</td>\n",
       "    </tr>\n",
       "    <tr>\n",
       "      <td>8</td>\n",
       "      <td>52</td>\n",
       "    </tr>\n",
       "    <tr>\n",
       "      <td>9</td>\n",
       "      <td>58</td>\n",
       "    </tr>\n",
       "    <tr>\n",
       "      <td>...</td>\n",
       "      <td>...</td>\n",
       "      <td>...</td>\n",
       "    </tr>\n",
       "    <tr>\n",
       "      <td>1498</td>\n",
       "      <td>10</td>\n",
       "      <td>41</td>\n",
       "    </tr>\n",
       "    <tr>\n",
       "      <td rowspan=\"4\" valign=\"top\">1499</td>\n",
       "      <td>9</td>\n",
       "      <td>9</td>\n",
       "    </tr>\n",
       "    <tr>\n",
       "      <td>10</td>\n",
       "      <td>68</td>\n",
       "    </tr>\n",
       "    <tr>\n",
       "      <td>11</td>\n",
       "      <td>74</td>\n",
       "    </tr>\n",
       "    <tr>\n",
       "      <td>12</td>\n",
       "      <td>69</td>\n",
       "    </tr>\n",
       "  </tbody>\n",
       "</table>\n",
       "<p>3174 rows × 1 columns</p>\n",
       "</div>"
      ],
      "text/plain": [
       "               duration\n",
       "user_id month          \n",
       "1000    5            22\n",
       "        6            43\n",
       "        7            47\n",
       "        8            52\n",
       "        9            58\n",
       "...                 ...\n",
       "1498    10           41\n",
       "1499    9             9\n",
       "        10           68\n",
       "        11           74\n",
       "        12           69\n",
       "\n",
       "[3174 rows x 1 columns]"
      ]
     },
     "execution_count": 34,
     "metadata": {},
     "output_type": "execute_result"
    }
   ],
   "source": [
    "df.pivot_table(index = ['user_id','month'], values = 'duration', aggfunc = 'count')"
   ]
  },
  {
   "cell_type": "markdown",
   "metadata": {},
   "source": [
    "Количество звонков каждым пользователем по месяцам."
   ]
  },
  {
   "cell_type": "code",
   "execution_count": 35,
   "metadata": {},
   "outputs": [
    {
     "data": {
      "text/html": [
       "<div>\n",
       "<style scoped>\n",
       "    .dataframe tbody tr th:only-of-type {\n",
       "        vertical-align: middle;\n",
       "    }\n",
       "\n",
       "    .dataframe tbody tr th {\n",
       "        vertical-align: top;\n",
       "    }\n",
       "\n",
       "    .dataframe thead th {\n",
       "        text-align: right;\n",
       "    }\n",
       "</style>\n",
       "<table border=\"1\" class=\"dataframe\">\n",
       "  <thead>\n",
       "    <tr style=\"text-align: right;\">\n",
       "      <th></th>\n",
       "      <th></th>\n",
       "      <th>duration</th>\n",
       "    </tr>\n",
       "    <tr>\n",
       "      <th>user_id</th>\n",
       "      <th>month</th>\n",
       "      <th></th>\n",
       "    </tr>\n",
       "  </thead>\n",
       "  <tbody>\n",
       "    <tr>\n",
       "      <td rowspan=\"5\" valign=\"top\">1000</td>\n",
       "      <td>5</td>\n",
       "      <td>159</td>\n",
       "    </tr>\n",
       "    <tr>\n",
       "      <td>6</td>\n",
       "      <td>172</td>\n",
       "    </tr>\n",
       "    <tr>\n",
       "      <td>7</td>\n",
       "      <td>340</td>\n",
       "    </tr>\n",
       "    <tr>\n",
       "      <td>8</td>\n",
       "      <td>408</td>\n",
       "    </tr>\n",
       "    <tr>\n",
       "      <td>9</td>\n",
       "      <td>466</td>\n",
       "    </tr>\n",
       "    <tr>\n",
       "      <td>...</td>\n",
       "      <td>...</td>\n",
       "      <td>...</td>\n",
       "    </tr>\n",
       "    <tr>\n",
       "      <td>1498</td>\n",
       "      <td>10</td>\n",
       "      <td>247</td>\n",
       "    </tr>\n",
       "    <tr>\n",
       "      <td rowspan=\"4\" valign=\"top\">1499</td>\n",
       "      <td>9</td>\n",
       "      <td>70</td>\n",
       "    </tr>\n",
       "    <tr>\n",
       "      <td>10</td>\n",
       "      <td>449</td>\n",
       "    </tr>\n",
       "    <tr>\n",
       "      <td>11</td>\n",
       "      <td>612</td>\n",
       "    </tr>\n",
       "    <tr>\n",
       "      <td>12</td>\n",
       "      <td>492</td>\n",
       "    </tr>\n",
       "  </tbody>\n",
       "</table>\n",
       "<p>3174 rows × 1 columns</p>\n",
       "</div>"
      ],
      "text/plain": [
       "               duration\n",
       "user_id month          \n",
       "1000    5           159\n",
       "        6           172\n",
       "        7           340\n",
       "        8           408\n",
       "        9           466\n",
       "...                 ...\n",
       "1498    10          247\n",
       "1499    9            70\n",
       "        10          449\n",
       "        11          612\n",
       "        12          492\n",
       "\n",
       "[3174 rows x 1 columns]"
      ]
     },
     "execution_count": 35,
     "metadata": {},
     "output_type": "execute_result"
    }
   ],
   "source": [
    "call = df.pivot_table(index = ['user_id','month'], values = 'duration', aggfunc = 'sum')\n",
    "\n",
    "call.fillna(0)\n",
    "call"
   ]
  },
  {
   "cell_type": "markdown",
   "metadata": {},
   "source": [
    "Количество минут каждым пользователем по месяцам."
   ]
  },
  {
   "cell_type": "code",
   "execution_count": 36,
   "metadata": {},
   "outputs": [],
   "source": [
    "df2['month'] = pd.DatetimeIndex(df2['message_date']).month"
   ]
  },
  {
   "cell_type": "code",
   "execution_count": 37,
   "metadata": {},
   "outputs": [],
   "source": [
    "sms = df2.pivot_table(index = ['user_id','month'], values = 'id', aggfunc = 'count')\n",
    "sms.columns = ['count_sms']"
   ]
  },
  {
   "cell_type": "markdown",
   "metadata": {},
   "source": [
    "Таблица количества сообщений отправленных каждым пользователем по месяцам."
   ]
  },
  {
   "cell_type": "code",
   "execution_count": 38,
   "metadata": {},
   "outputs": [],
   "source": [
    "df1['month'] = pd.DatetimeIndex(df1['session_date']).month"
   ]
  },
  {
   "cell_type": "code",
   "execution_count": 39,
   "metadata": {},
   "outputs": [
    {
     "data": {
      "text/html": [
       "<div>\n",
       "<style scoped>\n",
       "    .dataframe tbody tr th:only-of-type {\n",
       "        vertical-align: middle;\n",
       "    }\n",
       "\n",
       "    .dataframe tbody tr th {\n",
       "        vertical-align: top;\n",
       "    }\n",
       "\n",
       "    .dataframe thead th {\n",
       "        text-align: right;\n",
       "    }\n",
       "</style>\n",
       "<table border=\"1\" class=\"dataframe\">\n",
       "  <thead>\n",
       "    <tr style=\"text-align: right;\">\n",
       "      <th></th>\n",
       "      <th></th>\n",
       "      <th>mb_used</th>\n",
       "      <th>gb</th>\n",
       "    </tr>\n",
       "    <tr>\n",
       "      <th>user_id</th>\n",
       "      <th>month</th>\n",
       "      <th></th>\n",
       "      <th></th>\n",
       "    </tr>\n",
       "  </thead>\n",
       "  <tbody>\n",
       "    <tr>\n",
       "      <td rowspan=\"5\" valign=\"top\">1000</td>\n",
       "      <td>5</td>\n",
       "      <td>2253.49</td>\n",
       "      <td>3</td>\n",
       "    </tr>\n",
       "    <tr>\n",
       "      <td>6</td>\n",
       "      <td>23233.77</td>\n",
       "      <td>23</td>\n",
       "    </tr>\n",
       "    <tr>\n",
       "      <td>7</td>\n",
       "      <td>14003.64</td>\n",
       "      <td>14</td>\n",
       "    </tr>\n",
       "    <tr>\n",
       "      <td>8</td>\n",
       "      <td>14055.93</td>\n",
       "      <td>14</td>\n",
       "    </tr>\n",
       "    <tr>\n",
       "      <td>9</td>\n",
       "      <td>14568.91</td>\n",
       "      <td>15</td>\n",
       "    </tr>\n",
       "    <tr>\n",
       "      <td>...</td>\n",
       "      <td>...</td>\n",
       "      <td>...</td>\n",
       "      <td>...</td>\n",
       "    </tr>\n",
       "    <tr>\n",
       "      <td>1498</td>\n",
       "      <td>10</td>\n",
       "      <td>20579.36</td>\n",
       "      <td>21</td>\n",
       "    </tr>\n",
       "    <tr>\n",
       "      <td rowspan=\"4\" valign=\"top\">1499</td>\n",
       "      <td>9</td>\n",
       "      <td>1845.75</td>\n",
       "      <td>2</td>\n",
       "    </tr>\n",
       "    <tr>\n",
       "      <td>10</td>\n",
       "      <td>17788.51</td>\n",
       "      <td>18</td>\n",
       "    </tr>\n",
       "    <tr>\n",
       "      <td>11</td>\n",
       "      <td>17963.31</td>\n",
       "      <td>18</td>\n",
       "    </tr>\n",
       "    <tr>\n",
       "      <td>12</td>\n",
       "      <td>13055.58</td>\n",
       "      <td>13</td>\n",
       "    </tr>\n",
       "  </tbody>\n",
       "</table>\n",
       "<p>3203 rows × 2 columns</p>\n",
       "</div>"
      ],
      "text/plain": [
       "                mb_used  gb\n",
       "user_id month              \n",
       "1000    5       2253.49   3\n",
       "        6      23233.77  23\n",
       "        7      14003.64  14\n",
       "        8      14055.93  14\n",
       "        9      14568.91  15\n",
       "...                 ...  ..\n",
       "1498    10     20579.36  21\n",
       "1499    9       1845.75   2\n",
       "        10     17788.51  18\n",
       "        11     17963.31  18\n",
       "        12     13055.58  13\n",
       "\n",
       "[3203 rows x 2 columns]"
      ]
     },
     "execution_count": 39,
     "metadata": {},
     "output_type": "execute_result"
    }
   ],
   "source": [
    "internet = df1.pivot_table(index = ['user_id','month'], values = 'mb_used', aggfunc = 'sum')\n",
    "internet['gb'] = internet['mb_used'] / 1024\n",
    "internet['gb'] = internet['gb'].apply(np.ceil).astype(int)\n",
    "internet"
   ]
  },
  {
   "cell_type": "markdown",
   "metadata": {},
   "source": [
    "Таблица объем израсходованного интернет-трафика по месяцам для каждого пользователя."
   ]
  },
  {
   "cell_type": "code",
   "execution_count": 40,
   "metadata": {},
   "outputs": [
    {
     "data": {
      "text/html": [
       "<div>\n",
       "<style scoped>\n",
       "    .dataframe tbody tr th:only-of-type {\n",
       "        vertical-align: middle;\n",
       "    }\n",
       "\n",
       "    .dataframe tbody tr th {\n",
       "        vertical-align: top;\n",
       "    }\n",
       "\n",
       "    .dataframe thead th {\n",
       "        text-align: right;\n",
       "    }\n",
       "</style>\n",
       "<table border=\"1\" class=\"dataframe\">\n",
       "  <thead>\n",
       "    <tr style=\"text-align: right;\">\n",
       "      <th></th>\n",
       "      <th>user_id</th>\n",
       "      <th>duration</th>\n",
       "      <th>count_sms</th>\n",
       "      <th>gb</th>\n",
       "      <th>age</th>\n",
       "      <th>churn_date</th>\n",
       "      <th>city</th>\n",
       "      <th>first_name</th>\n",
       "      <th>last_name</th>\n",
       "      <th>reg_date</th>\n",
       "      <th>tariff</th>\n",
       "    </tr>\n",
       "  </thead>\n",
       "  <tbody>\n",
       "    <tr>\n",
       "      <td>3186</td>\n",
       "      <td>1106</td>\n",
       "      <td>0.0</td>\n",
       "      <td>30.0</td>\n",
       "      <td>20.0</td>\n",
       "      <td>67</td>\n",
       "      <td>0</td>\n",
       "      <td>Калуга</td>\n",
       "      <td>Исаак</td>\n",
       "      <td>Костин</td>\n",
       "      <td>2018-04-26</td>\n",
       "      <td>ultra</td>\n",
       "    </tr>\n",
       "    <tr>\n",
       "      <td>3187</td>\n",
       "      <td>1106</td>\n",
       "      <td>0.0</td>\n",
       "      <td>24.0</td>\n",
       "      <td>22.0</td>\n",
       "      <td>67</td>\n",
       "      <td>0</td>\n",
       "      <td>Калуга</td>\n",
       "      <td>Исаак</td>\n",
       "      <td>Костин</td>\n",
       "      <td>2018-04-26</td>\n",
       "      <td>ultra</td>\n",
       "    </tr>\n",
       "    <tr>\n",
       "      <td>3188</td>\n",
       "      <td>1106</td>\n",
       "      <td>0.0</td>\n",
       "      <td>25.0</td>\n",
       "      <td>19.0</td>\n",
       "      <td>67</td>\n",
       "      <td>0</td>\n",
       "      <td>Калуга</td>\n",
       "      <td>Исаак</td>\n",
       "      <td>Костин</td>\n",
       "      <td>2018-04-26</td>\n",
       "      <td>ultra</td>\n",
       "    </tr>\n",
       "    <tr>\n",
       "      <td>3189</td>\n",
       "      <td>1106</td>\n",
       "      <td>0.0</td>\n",
       "      <td>23.0</td>\n",
       "      <td>22.0</td>\n",
       "      <td>67</td>\n",
       "      <td>0</td>\n",
       "      <td>Калуга</td>\n",
       "      <td>Исаак</td>\n",
       "      <td>Костин</td>\n",
       "      <td>2018-04-26</td>\n",
       "      <td>ultra</td>\n",
       "    </tr>\n",
       "    <tr>\n",
       "      <td>3190</td>\n",
       "      <td>1106</td>\n",
       "      <td>0.0</td>\n",
       "      <td>33.0</td>\n",
       "      <td>14.0</td>\n",
       "      <td>67</td>\n",
       "      <td>0</td>\n",
       "      <td>Калуга</td>\n",
       "      <td>Исаак</td>\n",
       "      <td>Костин</td>\n",
       "      <td>2018-04-26</td>\n",
       "      <td>ultra</td>\n",
       "    </tr>\n",
       "    <tr>\n",
       "      <td>3191</td>\n",
       "      <td>1106</td>\n",
       "      <td>0.0</td>\n",
       "      <td>29.0</td>\n",
       "      <td>21.0</td>\n",
       "      <td>67</td>\n",
       "      <td>0</td>\n",
       "      <td>Калуга</td>\n",
       "      <td>Исаак</td>\n",
       "      <td>Костин</td>\n",
       "      <td>2018-04-26</td>\n",
       "      <td>ultra</td>\n",
       "    </tr>\n",
       "    <tr>\n",
       "      <td>3192</td>\n",
       "      <td>1106</td>\n",
       "      <td>0.0</td>\n",
       "      <td>24.0</td>\n",
       "      <td>19.0</td>\n",
       "      <td>67</td>\n",
       "      <td>0</td>\n",
       "      <td>Калуга</td>\n",
       "      <td>Исаак</td>\n",
       "      <td>Костин</td>\n",
       "      <td>2018-04-26</td>\n",
       "      <td>ultra</td>\n",
       "    </tr>\n",
       "    <tr>\n",
       "      <td>3193</td>\n",
       "      <td>1231</td>\n",
       "      <td>0.0</td>\n",
       "      <td>55.0</td>\n",
       "      <td>11.0</td>\n",
       "      <td>63</td>\n",
       "      <td>0</td>\n",
       "      <td>Чебоксары</td>\n",
       "      <td>Касьян</td>\n",
       "      <td>Авдюков</td>\n",
       "      <td>2018-05-23</td>\n",
       "      <td>ultra</td>\n",
       "    </tr>\n",
       "    <tr>\n",
       "      <td>3194</td>\n",
       "      <td>1231</td>\n",
       "      <td>0.0</td>\n",
       "      <td>201.0</td>\n",
       "      <td>28.0</td>\n",
       "      <td>63</td>\n",
       "      <td>0</td>\n",
       "      <td>Чебоксары</td>\n",
       "      <td>Касьян</td>\n",
       "      <td>Авдюков</td>\n",
       "      <td>2018-05-23</td>\n",
       "      <td>ultra</td>\n",
       "    </tr>\n",
       "    <tr>\n",
       "      <td>3195</td>\n",
       "      <td>1231</td>\n",
       "      <td>0.0</td>\n",
       "      <td>211.0</td>\n",
       "      <td>28.0</td>\n",
       "      <td>63</td>\n",
       "      <td>0</td>\n",
       "      <td>Чебоксары</td>\n",
       "      <td>Касьян</td>\n",
       "      <td>Авдюков</td>\n",
       "      <td>2018-05-23</td>\n",
       "      <td>ultra</td>\n",
       "    </tr>\n",
       "    <tr>\n",
       "      <td>3196</td>\n",
       "      <td>1231</td>\n",
       "      <td>0.0</td>\n",
       "      <td>180.0</td>\n",
       "      <td>32.0</td>\n",
       "      <td>63</td>\n",
       "      <td>0</td>\n",
       "      <td>Чебоксары</td>\n",
       "      <td>Касьян</td>\n",
       "      <td>Авдюков</td>\n",
       "      <td>2018-05-23</td>\n",
       "      <td>ultra</td>\n",
       "    </tr>\n",
       "    <tr>\n",
       "      <td>3197</td>\n",
       "      <td>1231</td>\n",
       "      <td>0.0</td>\n",
       "      <td>188.0</td>\n",
       "      <td>33.0</td>\n",
       "      <td>63</td>\n",
       "      <td>0</td>\n",
       "      <td>Чебоксары</td>\n",
       "      <td>Касьян</td>\n",
       "      <td>Авдюков</td>\n",
       "      <td>2018-05-23</td>\n",
       "      <td>ultra</td>\n",
       "    </tr>\n",
       "    <tr>\n",
       "      <td>3198</td>\n",
       "      <td>1231</td>\n",
       "      <td>0.0</td>\n",
       "      <td>185.0</td>\n",
       "      <td>31.0</td>\n",
       "      <td>63</td>\n",
       "      <td>0</td>\n",
       "      <td>Чебоксары</td>\n",
       "      <td>Касьян</td>\n",
       "      <td>Авдюков</td>\n",
       "      <td>2018-05-23</td>\n",
       "      <td>ultra</td>\n",
       "    </tr>\n",
       "    <tr>\n",
       "      <td>3199</td>\n",
       "      <td>1231</td>\n",
       "      <td>0.0</td>\n",
       "      <td>173.0</td>\n",
       "      <td>27.0</td>\n",
       "      <td>63</td>\n",
       "      <td>0</td>\n",
       "      <td>Чебоксары</td>\n",
       "      <td>Касьян</td>\n",
       "      <td>Авдюков</td>\n",
       "      <td>2018-05-23</td>\n",
       "      <td>ultra</td>\n",
       "    </tr>\n",
       "    <tr>\n",
       "      <td>3200</td>\n",
       "      <td>1231</td>\n",
       "      <td>0.0</td>\n",
       "      <td>191.0</td>\n",
       "      <td>32.0</td>\n",
       "      <td>63</td>\n",
       "      <td>0</td>\n",
       "      <td>Чебоксары</td>\n",
       "      <td>Касьян</td>\n",
       "      <td>Авдюков</td>\n",
       "      <td>2018-05-23</td>\n",
       "      <td>ultra</td>\n",
       "    </tr>\n",
       "    <tr>\n",
       "      <td>3201</td>\n",
       "      <td>1328</td>\n",
       "      <td>0.0</td>\n",
       "      <td>6.0</td>\n",
       "      <td>22.0</td>\n",
       "      <td>44</td>\n",
       "      <td>0</td>\n",
       "      <td>Мурманск</td>\n",
       "      <td>Рауль</td>\n",
       "      <td>Аркадьев</td>\n",
       "      <td>2018-10-16</td>\n",
       "      <td>ultra</td>\n",
       "    </tr>\n",
       "    <tr>\n",
       "      <td>3202</td>\n",
       "      <td>1328</td>\n",
       "      <td>0.0</td>\n",
       "      <td>8.0</td>\n",
       "      <td>35.0</td>\n",
       "      <td>44</td>\n",
       "      <td>0</td>\n",
       "      <td>Мурманск</td>\n",
       "      <td>Рауль</td>\n",
       "      <td>Аркадьев</td>\n",
       "      <td>2018-10-16</td>\n",
       "      <td>ultra</td>\n",
       "    </tr>\n",
       "    <tr>\n",
       "      <td>3203</td>\n",
       "      <td>1328</td>\n",
       "      <td>0.0</td>\n",
       "      <td>7.0</td>\n",
       "      <td>39.0</td>\n",
       "      <td>44</td>\n",
       "      <td>0</td>\n",
       "      <td>Мурманск</td>\n",
       "      <td>Рауль</td>\n",
       "      <td>Аркадьев</td>\n",
       "      <td>2018-10-16</td>\n",
       "      <td>ultra</td>\n",
       "    </tr>\n",
       "    <tr>\n",
       "      <td>3204</td>\n",
       "      <td>1473</td>\n",
       "      <td>0.0</td>\n",
       "      <td>17.0</td>\n",
       "      <td>13.0</td>\n",
       "      <td>18</td>\n",
       "      <td>0</td>\n",
       "      <td>Красноярск</td>\n",
       "      <td>Николай</td>\n",
       "      <td>Лебедев</td>\n",
       "      <td>2018-08-05</td>\n",
       "      <td>ultra</td>\n",
       "    </tr>\n",
       "    <tr>\n",
       "      <td>3205</td>\n",
       "      <td>1473</td>\n",
       "      <td>0.0</td>\n",
       "      <td>19.0</td>\n",
       "      <td>17.0</td>\n",
       "      <td>18</td>\n",
       "      <td>0</td>\n",
       "      <td>Красноярск</td>\n",
       "      <td>Николай</td>\n",
       "      <td>Лебедев</td>\n",
       "      <td>2018-08-05</td>\n",
       "      <td>ultra</td>\n",
       "    </tr>\n",
       "    <tr>\n",
       "      <td>3206</td>\n",
       "      <td>1473</td>\n",
       "      <td>0.0</td>\n",
       "      <td>20.0</td>\n",
       "      <td>14.0</td>\n",
       "      <td>18</td>\n",
       "      <td>0</td>\n",
       "      <td>Красноярск</td>\n",
       "      <td>Николай</td>\n",
       "      <td>Лебедев</td>\n",
       "      <td>2018-08-05</td>\n",
       "      <td>ultra</td>\n",
       "    </tr>\n",
       "    <tr>\n",
       "      <td>3207</td>\n",
       "      <td>1473</td>\n",
       "      <td>0.0</td>\n",
       "      <td>14.0</td>\n",
       "      <td>22.0</td>\n",
       "      <td>18</td>\n",
       "      <td>0</td>\n",
       "      <td>Красноярск</td>\n",
       "      <td>Николай</td>\n",
       "      <td>Лебедев</td>\n",
       "      <td>2018-08-05</td>\n",
       "      <td>ultra</td>\n",
       "    </tr>\n",
       "    <tr>\n",
       "      <td>3208</td>\n",
       "      <td>1473</td>\n",
       "      <td>0.0</td>\n",
       "      <td>20.0</td>\n",
       "      <td>18.0</td>\n",
       "      <td>18</td>\n",
       "      <td>0</td>\n",
       "      <td>Красноярск</td>\n",
       "      <td>Николай</td>\n",
       "      <td>Лебедев</td>\n",
       "      <td>2018-08-05</td>\n",
       "      <td>ultra</td>\n",
       "    </tr>\n",
       "    <tr>\n",
       "      <td>3209</td>\n",
       "      <td>1489</td>\n",
       "      <td>0.0</td>\n",
       "      <td>17.0</td>\n",
       "      <td>11.0</td>\n",
       "      <td>35</td>\n",
       "      <td>0</td>\n",
       "      <td>Санкт-Петербург</td>\n",
       "      <td>Павел</td>\n",
       "      <td>Гончаров</td>\n",
       "      <td>2018-08-15</td>\n",
       "      <td>smart</td>\n",
       "    </tr>\n",
       "    <tr>\n",
       "      <td>3210</td>\n",
       "      <td>1489</td>\n",
       "      <td>0.0</td>\n",
       "      <td>32.0</td>\n",
       "      <td>17.0</td>\n",
       "      <td>35</td>\n",
       "      <td>0</td>\n",
       "      <td>Санкт-Петербург</td>\n",
       "      <td>Павел</td>\n",
       "      <td>Гончаров</td>\n",
       "      <td>2018-08-15</td>\n",
       "      <td>smart</td>\n",
       "    </tr>\n",
       "    <tr>\n",
       "      <td>3211</td>\n",
       "      <td>1489</td>\n",
       "      <td>0.0</td>\n",
       "      <td>21.0</td>\n",
       "      <td>20.0</td>\n",
       "      <td>35</td>\n",
       "      <td>0</td>\n",
       "      <td>Санкт-Петербург</td>\n",
       "      <td>Павел</td>\n",
       "      <td>Гончаров</td>\n",
       "      <td>2018-08-15</td>\n",
       "      <td>smart</td>\n",
       "    </tr>\n",
       "    <tr>\n",
       "      <td>3212</td>\n",
       "      <td>1489</td>\n",
       "      <td>0.0</td>\n",
       "      <td>20.0</td>\n",
       "      <td>18.0</td>\n",
       "      <td>35</td>\n",
       "      <td>0</td>\n",
       "      <td>Санкт-Петербург</td>\n",
       "      <td>Павел</td>\n",
       "      <td>Гончаров</td>\n",
       "      <td>2018-08-15</td>\n",
       "      <td>smart</td>\n",
       "    </tr>\n",
       "    <tr>\n",
       "      <td>3213</td>\n",
       "      <td>1489</td>\n",
       "      <td>0.0</td>\n",
       "      <td>35.0</td>\n",
       "      <td>17.0</td>\n",
       "      <td>35</td>\n",
       "      <td>0</td>\n",
       "      <td>Санкт-Петербург</td>\n",
       "      <td>Павел</td>\n",
       "      <td>Гончаров</td>\n",
       "      <td>2018-08-15</td>\n",
       "      <td>smart</td>\n",
       "    </tr>\n",
       "    <tr>\n",
       "      <td>3214</td>\n",
       "      <td>1128</td>\n",
       "      <td>0.0</td>\n",
       "      <td>0.0</td>\n",
       "      <td>0.0</td>\n",
       "      <td>51</td>\n",
       "      <td>2018-12-23 00:00:00</td>\n",
       "      <td>Волжский</td>\n",
       "      <td>Ксения</td>\n",
       "      <td>Агаева</td>\n",
       "      <td>2018-12-15</td>\n",
       "      <td>ultra</td>\n",
       "    </tr>\n",
       "    <tr>\n",
       "      <td>3215</td>\n",
       "      <td>1371</td>\n",
       "      <td>0.0</td>\n",
       "      <td>0.0</td>\n",
       "      <td>0.0</td>\n",
       "      <td>50</td>\n",
       "      <td>2018-12-30 00:00:00</td>\n",
       "      <td>Омск</td>\n",
       "      <td>Ириней</td>\n",
       "      <td>Трофимов</td>\n",
       "      <td>2018-12-25</td>\n",
       "      <td>smart</td>\n",
       "    </tr>\n",
       "  </tbody>\n",
       "</table>\n",
       "</div>"
      ],
      "text/plain": [
       "      user_id  duration  count_sms    gb  age           churn_date  \\\n",
       "3186     1106       0.0       30.0  20.0   67                    0   \n",
       "3187     1106       0.0       24.0  22.0   67                    0   \n",
       "3188     1106       0.0       25.0  19.0   67                    0   \n",
       "3189     1106       0.0       23.0  22.0   67                    0   \n",
       "3190     1106       0.0       33.0  14.0   67                    0   \n",
       "3191     1106       0.0       29.0  21.0   67                    0   \n",
       "3192     1106       0.0       24.0  19.0   67                    0   \n",
       "3193     1231       0.0       55.0  11.0   63                    0   \n",
       "3194     1231       0.0      201.0  28.0   63                    0   \n",
       "3195     1231       0.0      211.0  28.0   63                    0   \n",
       "3196     1231       0.0      180.0  32.0   63                    0   \n",
       "3197     1231       0.0      188.0  33.0   63                    0   \n",
       "3198     1231       0.0      185.0  31.0   63                    0   \n",
       "3199     1231       0.0      173.0  27.0   63                    0   \n",
       "3200     1231       0.0      191.0  32.0   63                    0   \n",
       "3201     1328       0.0        6.0  22.0   44                    0   \n",
       "3202     1328       0.0        8.0  35.0   44                    0   \n",
       "3203     1328       0.0        7.0  39.0   44                    0   \n",
       "3204     1473       0.0       17.0  13.0   18                    0   \n",
       "3205     1473       0.0       19.0  17.0   18                    0   \n",
       "3206     1473       0.0       20.0  14.0   18                    0   \n",
       "3207     1473       0.0       14.0  22.0   18                    0   \n",
       "3208     1473       0.0       20.0  18.0   18                    0   \n",
       "3209     1489       0.0       17.0  11.0   35                    0   \n",
       "3210     1489       0.0       32.0  17.0   35                    0   \n",
       "3211     1489       0.0       21.0  20.0   35                    0   \n",
       "3212     1489       0.0       20.0  18.0   35                    0   \n",
       "3213     1489       0.0       35.0  17.0   35                    0   \n",
       "3214     1128       0.0        0.0   0.0   51  2018-12-23 00:00:00   \n",
       "3215     1371       0.0        0.0   0.0   50  2018-12-30 00:00:00   \n",
       "\n",
       "                 city first_name last_name   reg_date tariff  \n",
       "3186           Калуга      Исаак    Костин 2018-04-26  ultra  \n",
       "3187           Калуга      Исаак    Костин 2018-04-26  ultra  \n",
       "3188           Калуга      Исаак    Костин 2018-04-26  ultra  \n",
       "3189           Калуга      Исаак    Костин 2018-04-26  ultra  \n",
       "3190           Калуга      Исаак    Костин 2018-04-26  ultra  \n",
       "3191           Калуга      Исаак    Костин 2018-04-26  ultra  \n",
       "3192           Калуга      Исаак    Костин 2018-04-26  ultra  \n",
       "3193        Чебоксары     Касьян   Авдюков 2018-05-23  ultra  \n",
       "3194        Чебоксары     Касьян   Авдюков 2018-05-23  ultra  \n",
       "3195        Чебоксары     Касьян   Авдюков 2018-05-23  ultra  \n",
       "3196        Чебоксары     Касьян   Авдюков 2018-05-23  ultra  \n",
       "3197        Чебоксары     Касьян   Авдюков 2018-05-23  ultra  \n",
       "3198        Чебоксары     Касьян   Авдюков 2018-05-23  ultra  \n",
       "3199        Чебоксары     Касьян   Авдюков 2018-05-23  ultra  \n",
       "3200        Чебоксары     Касьян   Авдюков 2018-05-23  ultra  \n",
       "3201         Мурманск      Рауль  Аркадьев 2018-10-16  ultra  \n",
       "3202         Мурманск      Рауль  Аркадьев 2018-10-16  ultra  \n",
       "3203         Мурманск      Рауль  Аркадьев 2018-10-16  ultra  \n",
       "3204       Красноярск    Николай   Лебедев 2018-08-05  ultra  \n",
       "3205       Красноярск    Николай   Лебедев 2018-08-05  ultra  \n",
       "3206       Красноярск    Николай   Лебедев 2018-08-05  ultra  \n",
       "3207       Красноярск    Николай   Лебедев 2018-08-05  ultra  \n",
       "3208       Красноярск    Николай   Лебедев 2018-08-05  ultra  \n",
       "3209  Санкт-Петербург      Павел  Гончаров 2018-08-15  smart  \n",
       "3210  Санкт-Петербург      Павел  Гончаров 2018-08-15  smart  \n",
       "3211  Санкт-Петербург      Павел  Гончаров 2018-08-15  smart  \n",
       "3212  Санкт-Петербург      Павел  Гончаров 2018-08-15  smart  \n",
       "3213  Санкт-Петербург      Павел  Гончаров 2018-08-15  smart  \n",
       "3214         Волжский     Ксения    Агаева 2018-12-15  ultra  \n",
       "3215             Омск     Ириней  Трофимов 2018-12-25  smart  "
      ]
     },
     "execution_count": 40,
     "metadata": {},
     "output_type": "execute_result"
    }
   ],
   "source": [
    "call_sms = call.merge(sms, on = ['user_id','month'], how = 'outer' )\n",
    "call_sms_internet =  call_sms.merge(internet['gb'], on = ['user_id','month'], how = 'outer' )\n",
    "\n",
    "call_sms_internet = call_sms_internet.merge(df4, on = 'user_id', how = 'outer' )\n",
    "call_sms_internet = call_sms_internet.fillna(0)\n",
    "call_sms_internet.tail(30)"
   ]
  },
  {
   "cell_type": "code",
   "execution_count": 41,
   "metadata": {},
   "outputs": [
    {
     "data": {
      "text/html": [
       "<div>\n",
       "<style scoped>\n",
       "    .dataframe tbody tr th:only-of-type {\n",
       "        vertical-align: middle;\n",
       "    }\n",
       "\n",
       "    .dataframe tbody tr th {\n",
       "        vertical-align: top;\n",
       "    }\n",
       "\n",
       "    .dataframe thead th {\n",
       "        text-align: right;\n",
       "    }\n",
       "</style>\n",
       "<table border=\"1\" class=\"dataframe\">\n",
       "  <thead>\n",
       "    <tr style=\"text-align: right;\">\n",
       "      <th></th>\n",
       "      <th>user_id</th>\n",
       "      <th>duration</th>\n",
       "      <th>count_sms</th>\n",
       "      <th>gb</th>\n",
       "      <th>age</th>\n",
       "      <th>churn_date</th>\n",
       "      <th>city</th>\n",
       "      <th>first_name</th>\n",
       "      <th>last_name</th>\n",
       "      <th>reg_date</th>\n",
       "      <th>tariff</th>\n",
       "      <th>pay_call</th>\n",
       "    </tr>\n",
       "  </thead>\n",
       "  <tbody>\n",
       "    <tr>\n",
       "      <td>0</td>\n",
       "      <td>1000</td>\n",
       "      <td>159.0</td>\n",
       "      <td>22.0</td>\n",
       "      <td>3.0</td>\n",
       "      <td>52</td>\n",
       "      <td>0</td>\n",
       "      <td>Краснодар</td>\n",
       "      <td>Рафаил</td>\n",
       "      <td>Верещагин</td>\n",
       "      <td>2018-05-25</td>\n",
       "      <td>ultra</td>\n",
       "      <td>0.0</td>\n",
       "    </tr>\n",
       "    <tr>\n",
       "      <td>1</td>\n",
       "      <td>1000</td>\n",
       "      <td>172.0</td>\n",
       "      <td>60.0</td>\n",
       "      <td>23.0</td>\n",
       "      <td>52</td>\n",
       "      <td>0</td>\n",
       "      <td>Краснодар</td>\n",
       "      <td>Рафаил</td>\n",
       "      <td>Верещагин</td>\n",
       "      <td>2018-05-25</td>\n",
       "      <td>ultra</td>\n",
       "      <td>0.0</td>\n",
       "    </tr>\n",
       "    <tr>\n",
       "      <td>2</td>\n",
       "      <td>1000</td>\n",
       "      <td>340.0</td>\n",
       "      <td>75.0</td>\n",
       "      <td>14.0</td>\n",
       "      <td>52</td>\n",
       "      <td>0</td>\n",
       "      <td>Краснодар</td>\n",
       "      <td>Рафаил</td>\n",
       "      <td>Верещагин</td>\n",
       "      <td>2018-05-25</td>\n",
       "      <td>ultra</td>\n",
       "      <td>0.0</td>\n",
       "    </tr>\n",
       "    <tr>\n",
       "      <td>3</td>\n",
       "      <td>1000</td>\n",
       "      <td>408.0</td>\n",
       "      <td>81.0</td>\n",
       "      <td>14.0</td>\n",
       "      <td>52</td>\n",
       "      <td>0</td>\n",
       "      <td>Краснодар</td>\n",
       "      <td>Рафаил</td>\n",
       "      <td>Верещагин</td>\n",
       "      <td>2018-05-25</td>\n",
       "      <td>ultra</td>\n",
       "      <td>0.0</td>\n",
       "    </tr>\n",
       "    <tr>\n",
       "      <td>4</td>\n",
       "      <td>1000</td>\n",
       "      <td>466.0</td>\n",
       "      <td>57.0</td>\n",
       "      <td>15.0</td>\n",
       "      <td>52</td>\n",
       "      <td>0</td>\n",
       "      <td>Краснодар</td>\n",
       "      <td>Рафаил</td>\n",
       "      <td>Верещагин</td>\n",
       "      <td>2018-05-25</td>\n",
       "      <td>ultra</td>\n",
       "      <td>0.0</td>\n",
       "    </tr>\n",
       "    <tr>\n",
       "      <td>...</td>\n",
       "      <td>...</td>\n",
       "      <td>...</td>\n",
       "      <td>...</td>\n",
       "      <td>...</td>\n",
       "      <td>...</td>\n",
       "      <td>...</td>\n",
       "      <td>...</td>\n",
       "      <td>...</td>\n",
       "      <td>...</td>\n",
       "      <td>...</td>\n",
       "      <td>...</td>\n",
       "      <td>...</td>\n",
       "    </tr>\n",
       "    <tr>\n",
       "      <td>3211</td>\n",
       "      <td>1489</td>\n",
       "      <td>0.0</td>\n",
       "      <td>21.0</td>\n",
       "      <td>20.0</td>\n",
       "      <td>35</td>\n",
       "      <td>0</td>\n",
       "      <td>Санкт-Петербург</td>\n",
       "      <td>Павел</td>\n",
       "      <td>Гончаров</td>\n",
       "      <td>2018-08-15</td>\n",
       "      <td>smart</td>\n",
       "      <td>0.0</td>\n",
       "    </tr>\n",
       "    <tr>\n",
       "      <td>3212</td>\n",
       "      <td>1489</td>\n",
       "      <td>0.0</td>\n",
       "      <td>20.0</td>\n",
       "      <td>18.0</td>\n",
       "      <td>35</td>\n",
       "      <td>0</td>\n",
       "      <td>Санкт-Петербург</td>\n",
       "      <td>Павел</td>\n",
       "      <td>Гончаров</td>\n",
       "      <td>2018-08-15</td>\n",
       "      <td>smart</td>\n",
       "      <td>0.0</td>\n",
       "    </tr>\n",
       "    <tr>\n",
       "      <td>3213</td>\n",
       "      <td>1489</td>\n",
       "      <td>0.0</td>\n",
       "      <td>35.0</td>\n",
       "      <td>17.0</td>\n",
       "      <td>35</td>\n",
       "      <td>0</td>\n",
       "      <td>Санкт-Петербург</td>\n",
       "      <td>Павел</td>\n",
       "      <td>Гончаров</td>\n",
       "      <td>2018-08-15</td>\n",
       "      <td>smart</td>\n",
       "      <td>0.0</td>\n",
       "    </tr>\n",
       "    <tr>\n",
       "      <td>3214</td>\n",
       "      <td>1128</td>\n",
       "      <td>0.0</td>\n",
       "      <td>0.0</td>\n",
       "      <td>0.0</td>\n",
       "      <td>51</td>\n",
       "      <td>2018-12-23 00:00:00</td>\n",
       "      <td>Волжский</td>\n",
       "      <td>Ксения</td>\n",
       "      <td>Агаева</td>\n",
       "      <td>2018-12-15</td>\n",
       "      <td>ultra</td>\n",
       "      <td>0.0</td>\n",
       "    </tr>\n",
       "    <tr>\n",
       "      <td>3215</td>\n",
       "      <td>1371</td>\n",
       "      <td>0.0</td>\n",
       "      <td>0.0</td>\n",
       "      <td>0.0</td>\n",
       "      <td>50</td>\n",
       "      <td>2018-12-30 00:00:00</td>\n",
       "      <td>Омск</td>\n",
       "      <td>Ириней</td>\n",
       "      <td>Трофимов</td>\n",
       "      <td>2018-12-25</td>\n",
       "      <td>smart</td>\n",
       "      <td>0.0</td>\n",
       "    </tr>\n",
       "  </tbody>\n",
       "</table>\n",
       "<p>3216 rows × 12 columns</p>\n",
       "</div>"
      ],
      "text/plain": [
       "      user_id  duration  count_sms    gb  age           churn_date  \\\n",
       "0        1000     159.0       22.0   3.0   52                    0   \n",
       "1        1000     172.0       60.0  23.0   52                    0   \n",
       "2        1000     340.0       75.0  14.0   52                    0   \n",
       "3        1000     408.0       81.0  14.0   52                    0   \n",
       "4        1000     466.0       57.0  15.0   52                    0   \n",
       "...       ...       ...        ...   ...  ...                  ...   \n",
       "3211     1489       0.0       21.0  20.0   35                    0   \n",
       "3212     1489       0.0       20.0  18.0   35                    0   \n",
       "3213     1489       0.0       35.0  17.0   35                    0   \n",
       "3214     1128       0.0        0.0   0.0   51  2018-12-23 00:00:00   \n",
       "3215     1371       0.0        0.0   0.0   50  2018-12-30 00:00:00   \n",
       "\n",
       "                 city first_name  last_name   reg_date tariff  pay_call  \n",
       "0           Краснодар     Рафаил  Верещагин 2018-05-25  ultra       0.0  \n",
       "1           Краснодар     Рафаил  Верещагин 2018-05-25  ultra       0.0  \n",
       "2           Краснодар     Рафаил  Верещагин 2018-05-25  ultra       0.0  \n",
       "3           Краснодар     Рафаил  Верещагин 2018-05-25  ultra       0.0  \n",
       "4           Краснодар     Рафаил  Верещагин 2018-05-25  ultra       0.0  \n",
       "...               ...        ...        ...        ...    ...       ...  \n",
       "3211  Санкт-Петербург      Павел   Гончаров 2018-08-15  smart       0.0  \n",
       "3212  Санкт-Петербург      Павел   Гончаров 2018-08-15  smart       0.0  \n",
       "3213  Санкт-Петербург      Павел   Гончаров 2018-08-15  smart       0.0  \n",
       "3214         Волжский     Ксения     Агаева 2018-12-15  ultra       0.0  \n",
       "3215             Омск     Ириней   Трофимов 2018-12-25  smart       0.0  \n",
       "\n",
       "[3216 rows x 12 columns]"
      ]
     },
     "execution_count": 41,
     "metadata": {},
     "output_type": "execute_result"
    }
   ],
   "source": [
    "def df_tariff(row):\n",
    "    tariff = row['tariff']\n",
    "    call = row['duration']\n",
    "    \n",
    "    \n",
    "    if tariff == 'ultra':\n",
    "        if call > 3000:\n",
    "            return call - 3000\n",
    "        return 0\n",
    "    if tariff == 'smart':\n",
    "        if call > 500 :\n",
    "            return (call - 500)*3\n",
    "        return 0\n",
    "\n",
    "call_sms_internet['pay_call'] = call_sms_internet.apply(df_tariff, axis =1)\n",
    "call_sms_internet"
   ]
  },
  {
   "cell_type": "code",
   "execution_count": 42,
   "metadata": {},
   "outputs": [
    {
     "data": {
      "text/plain": [
       "278217.0"
      ]
     },
     "execution_count": 42,
     "metadata": {},
     "output_type": "execute_result"
    }
   ],
   "source": [
    "call_sms_internet['pay_call'].sum()\n"
   ]
  },
  {
   "cell_type": "code",
   "execution_count": 43,
   "metadata": {},
   "outputs": [
    {
     "data": {
      "text/html": [
       "<div>\n",
       "<style scoped>\n",
       "    .dataframe tbody tr th:only-of-type {\n",
       "        vertical-align: middle;\n",
       "    }\n",
       "\n",
       "    .dataframe tbody tr th {\n",
       "        vertical-align: top;\n",
       "    }\n",
       "\n",
       "    .dataframe thead th {\n",
       "        text-align: right;\n",
       "    }\n",
       "</style>\n",
       "<table border=\"1\" class=\"dataframe\">\n",
       "  <thead>\n",
       "    <tr style=\"text-align: right;\">\n",
       "      <th></th>\n",
       "      <th>user_id</th>\n",
       "      <th>duration</th>\n",
       "      <th>count_sms</th>\n",
       "      <th>gb</th>\n",
       "      <th>age</th>\n",
       "      <th>churn_date</th>\n",
       "      <th>city</th>\n",
       "      <th>first_name</th>\n",
       "      <th>last_name</th>\n",
       "      <th>reg_date</th>\n",
       "      <th>tariff</th>\n",
       "      <th>pay_call</th>\n",
       "      <th>pay_sms</th>\n",
       "    </tr>\n",
       "  </thead>\n",
       "  <tbody>\n",
       "    <tr>\n",
       "      <td>0</td>\n",
       "      <td>1000</td>\n",
       "      <td>159.0</td>\n",
       "      <td>22.0</td>\n",
       "      <td>3.0</td>\n",
       "      <td>52</td>\n",
       "      <td>0</td>\n",
       "      <td>Краснодар</td>\n",
       "      <td>Рафаил</td>\n",
       "      <td>Верещагин</td>\n",
       "      <td>2018-05-25</td>\n",
       "      <td>ultra</td>\n",
       "      <td>0.0</td>\n",
       "      <td>0.0</td>\n",
       "    </tr>\n",
       "    <tr>\n",
       "      <td>1</td>\n",
       "      <td>1000</td>\n",
       "      <td>172.0</td>\n",
       "      <td>60.0</td>\n",
       "      <td>23.0</td>\n",
       "      <td>52</td>\n",
       "      <td>0</td>\n",
       "      <td>Краснодар</td>\n",
       "      <td>Рафаил</td>\n",
       "      <td>Верещагин</td>\n",
       "      <td>2018-05-25</td>\n",
       "      <td>ultra</td>\n",
       "      <td>0.0</td>\n",
       "      <td>0.0</td>\n",
       "    </tr>\n",
       "    <tr>\n",
       "      <td>2</td>\n",
       "      <td>1000</td>\n",
       "      <td>340.0</td>\n",
       "      <td>75.0</td>\n",
       "      <td>14.0</td>\n",
       "      <td>52</td>\n",
       "      <td>0</td>\n",
       "      <td>Краснодар</td>\n",
       "      <td>Рафаил</td>\n",
       "      <td>Верещагин</td>\n",
       "      <td>2018-05-25</td>\n",
       "      <td>ultra</td>\n",
       "      <td>0.0</td>\n",
       "      <td>0.0</td>\n",
       "    </tr>\n",
       "    <tr>\n",
       "      <td>3</td>\n",
       "      <td>1000</td>\n",
       "      <td>408.0</td>\n",
       "      <td>81.0</td>\n",
       "      <td>14.0</td>\n",
       "      <td>52</td>\n",
       "      <td>0</td>\n",
       "      <td>Краснодар</td>\n",
       "      <td>Рафаил</td>\n",
       "      <td>Верещагин</td>\n",
       "      <td>2018-05-25</td>\n",
       "      <td>ultra</td>\n",
       "      <td>0.0</td>\n",
       "      <td>0.0</td>\n",
       "    </tr>\n",
       "    <tr>\n",
       "      <td>4</td>\n",
       "      <td>1000</td>\n",
       "      <td>466.0</td>\n",
       "      <td>57.0</td>\n",
       "      <td>15.0</td>\n",
       "      <td>52</td>\n",
       "      <td>0</td>\n",
       "      <td>Краснодар</td>\n",
       "      <td>Рафаил</td>\n",
       "      <td>Верещагин</td>\n",
       "      <td>2018-05-25</td>\n",
       "      <td>ultra</td>\n",
       "      <td>0.0</td>\n",
       "      <td>0.0</td>\n",
       "    </tr>\n",
       "    <tr>\n",
       "      <td>...</td>\n",
       "      <td>...</td>\n",
       "      <td>...</td>\n",
       "      <td>...</td>\n",
       "      <td>...</td>\n",
       "      <td>...</td>\n",
       "      <td>...</td>\n",
       "      <td>...</td>\n",
       "      <td>...</td>\n",
       "      <td>...</td>\n",
       "      <td>...</td>\n",
       "      <td>...</td>\n",
       "      <td>...</td>\n",
       "      <td>...</td>\n",
       "    </tr>\n",
       "    <tr>\n",
       "      <td>3211</td>\n",
       "      <td>1489</td>\n",
       "      <td>0.0</td>\n",
       "      <td>21.0</td>\n",
       "      <td>20.0</td>\n",
       "      <td>35</td>\n",
       "      <td>0</td>\n",
       "      <td>Санкт-Петербург</td>\n",
       "      <td>Павел</td>\n",
       "      <td>Гончаров</td>\n",
       "      <td>2018-08-15</td>\n",
       "      <td>smart</td>\n",
       "      <td>0.0</td>\n",
       "      <td>0.0</td>\n",
       "    </tr>\n",
       "    <tr>\n",
       "      <td>3212</td>\n",
       "      <td>1489</td>\n",
       "      <td>0.0</td>\n",
       "      <td>20.0</td>\n",
       "      <td>18.0</td>\n",
       "      <td>35</td>\n",
       "      <td>0</td>\n",
       "      <td>Санкт-Петербург</td>\n",
       "      <td>Павел</td>\n",
       "      <td>Гончаров</td>\n",
       "      <td>2018-08-15</td>\n",
       "      <td>smart</td>\n",
       "      <td>0.0</td>\n",
       "      <td>0.0</td>\n",
       "    </tr>\n",
       "    <tr>\n",
       "      <td>3213</td>\n",
       "      <td>1489</td>\n",
       "      <td>0.0</td>\n",
       "      <td>35.0</td>\n",
       "      <td>17.0</td>\n",
       "      <td>35</td>\n",
       "      <td>0</td>\n",
       "      <td>Санкт-Петербург</td>\n",
       "      <td>Павел</td>\n",
       "      <td>Гончаров</td>\n",
       "      <td>2018-08-15</td>\n",
       "      <td>smart</td>\n",
       "      <td>0.0</td>\n",
       "      <td>0.0</td>\n",
       "    </tr>\n",
       "    <tr>\n",
       "      <td>3214</td>\n",
       "      <td>1128</td>\n",
       "      <td>0.0</td>\n",
       "      <td>0.0</td>\n",
       "      <td>0.0</td>\n",
       "      <td>51</td>\n",
       "      <td>2018-12-23 00:00:00</td>\n",
       "      <td>Волжский</td>\n",
       "      <td>Ксения</td>\n",
       "      <td>Агаева</td>\n",
       "      <td>2018-12-15</td>\n",
       "      <td>ultra</td>\n",
       "      <td>0.0</td>\n",
       "      <td>0.0</td>\n",
       "    </tr>\n",
       "    <tr>\n",
       "      <td>3215</td>\n",
       "      <td>1371</td>\n",
       "      <td>0.0</td>\n",
       "      <td>0.0</td>\n",
       "      <td>0.0</td>\n",
       "      <td>50</td>\n",
       "      <td>2018-12-30 00:00:00</td>\n",
       "      <td>Омск</td>\n",
       "      <td>Ириней</td>\n",
       "      <td>Трофимов</td>\n",
       "      <td>2018-12-25</td>\n",
       "      <td>smart</td>\n",
       "      <td>0.0</td>\n",
       "      <td>0.0</td>\n",
       "    </tr>\n",
       "  </tbody>\n",
       "</table>\n",
       "<p>3216 rows × 13 columns</p>\n",
       "</div>"
      ],
      "text/plain": [
       "      user_id  duration  count_sms    gb  age           churn_date  \\\n",
       "0        1000     159.0       22.0   3.0   52                    0   \n",
       "1        1000     172.0       60.0  23.0   52                    0   \n",
       "2        1000     340.0       75.0  14.0   52                    0   \n",
       "3        1000     408.0       81.0  14.0   52                    0   \n",
       "4        1000     466.0       57.0  15.0   52                    0   \n",
       "...       ...       ...        ...   ...  ...                  ...   \n",
       "3211     1489       0.0       21.0  20.0   35                    0   \n",
       "3212     1489       0.0       20.0  18.0   35                    0   \n",
       "3213     1489       0.0       35.0  17.0   35                    0   \n",
       "3214     1128       0.0        0.0   0.0   51  2018-12-23 00:00:00   \n",
       "3215     1371       0.0        0.0   0.0   50  2018-12-30 00:00:00   \n",
       "\n",
       "                 city first_name  last_name   reg_date tariff  pay_call  \\\n",
       "0           Краснодар     Рафаил  Верещагин 2018-05-25  ultra       0.0   \n",
       "1           Краснодар     Рафаил  Верещагин 2018-05-25  ultra       0.0   \n",
       "2           Краснодар     Рафаил  Верещагин 2018-05-25  ultra       0.0   \n",
       "3           Краснодар     Рафаил  Верещагин 2018-05-25  ultra       0.0   \n",
       "4           Краснодар     Рафаил  Верещагин 2018-05-25  ultra       0.0   \n",
       "...               ...        ...        ...        ...    ...       ...   \n",
       "3211  Санкт-Петербург      Павел   Гончаров 2018-08-15  smart       0.0   \n",
       "3212  Санкт-Петербург      Павел   Гончаров 2018-08-15  smart       0.0   \n",
       "3213  Санкт-Петербург      Павел   Гончаров 2018-08-15  smart       0.0   \n",
       "3214         Волжский     Ксения     Агаева 2018-12-15  ultra       0.0   \n",
       "3215             Омск     Ириней   Трофимов 2018-12-25  smart       0.0   \n",
       "\n",
       "      pay_sms  \n",
       "0         0.0  \n",
       "1         0.0  \n",
       "2         0.0  \n",
       "3         0.0  \n",
       "4         0.0  \n",
       "...       ...  \n",
       "3211      0.0  \n",
       "3212      0.0  \n",
       "3213      0.0  \n",
       "3214      0.0  \n",
       "3215      0.0  \n",
       "\n",
       "[3216 rows x 13 columns]"
      ]
     },
     "execution_count": 43,
     "metadata": {},
     "output_type": "execute_result"
    }
   ],
   "source": [
    "def df_tariff1(row):\n",
    "    tariff = row['tariff']\n",
    "    sms = row['count_sms']\n",
    "    \n",
    "    \n",
    "    if tariff == 'ultra':\n",
    "        if sms > 1000:\n",
    "            return sms - 1000\n",
    "        return 0\n",
    "    if tariff == 'smart':\n",
    "        if sms > 50 :\n",
    "            return (sms - 50)*3\n",
    "        return 0\n",
    "\n",
    "call_sms_internet['pay_sms'] = call_sms_internet.apply(df_tariff1, axis =1)\n",
    "call_sms_internet\n"
   ]
  },
  {
   "cell_type": "code",
   "execution_count": 44,
   "metadata": {},
   "outputs": [
    {
     "data": {
      "text/plain": [
       "38784.0"
      ]
     },
     "execution_count": 44,
     "metadata": {},
     "output_type": "execute_result"
    }
   ],
   "source": [
    "call_sms_internet['pay_sms'].sum()"
   ]
  },
  {
   "cell_type": "code",
   "execution_count": 45,
   "metadata": {},
   "outputs": [
    {
     "data": {
      "text/html": [
       "<div>\n",
       "<style scoped>\n",
       "    .dataframe tbody tr th:only-of-type {\n",
       "        vertical-align: middle;\n",
       "    }\n",
       "\n",
       "    .dataframe tbody tr th {\n",
       "        vertical-align: top;\n",
       "    }\n",
       "\n",
       "    .dataframe thead th {\n",
       "        text-align: right;\n",
       "    }\n",
       "</style>\n",
       "<table border=\"1\" class=\"dataframe\">\n",
       "  <thead>\n",
       "    <tr style=\"text-align: right;\">\n",
       "      <th></th>\n",
       "      <th>user_id</th>\n",
       "      <th>duration</th>\n",
       "      <th>count_sms</th>\n",
       "      <th>gb</th>\n",
       "      <th>age</th>\n",
       "      <th>churn_date</th>\n",
       "      <th>city</th>\n",
       "      <th>first_name</th>\n",
       "      <th>last_name</th>\n",
       "      <th>reg_date</th>\n",
       "      <th>tariff</th>\n",
       "      <th>pay_call</th>\n",
       "      <th>pay_sms</th>\n",
       "      <th>pay_gb</th>\n",
       "    </tr>\n",
       "  </thead>\n",
       "  <tbody>\n",
       "    <tr>\n",
       "      <td>0</td>\n",
       "      <td>1000</td>\n",
       "      <td>159.0</td>\n",
       "      <td>22.0</td>\n",
       "      <td>3.0</td>\n",
       "      <td>52</td>\n",
       "      <td>0</td>\n",
       "      <td>Краснодар</td>\n",
       "      <td>Рафаил</td>\n",
       "      <td>Верещагин</td>\n",
       "      <td>2018-05-25</td>\n",
       "      <td>ultra</td>\n",
       "      <td>0.0</td>\n",
       "      <td>0.0</td>\n",
       "      <td>0.0</td>\n",
       "    </tr>\n",
       "    <tr>\n",
       "      <td>1</td>\n",
       "      <td>1000</td>\n",
       "      <td>172.0</td>\n",
       "      <td>60.0</td>\n",
       "      <td>23.0</td>\n",
       "      <td>52</td>\n",
       "      <td>0</td>\n",
       "      <td>Краснодар</td>\n",
       "      <td>Рафаил</td>\n",
       "      <td>Верещагин</td>\n",
       "      <td>2018-05-25</td>\n",
       "      <td>ultra</td>\n",
       "      <td>0.0</td>\n",
       "      <td>0.0</td>\n",
       "      <td>0.0</td>\n",
       "    </tr>\n",
       "    <tr>\n",
       "      <td>2</td>\n",
       "      <td>1000</td>\n",
       "      <td>340.0</td>\n",
       "      <td>75.0</td>\n",
       "      <td>14.0</td>\n",
       "      <td>52</td>\n",
       "      <td>0</td>\n",
       "      <td>Краснодар</td>\n",
       "      <td>Рафаил</td>\n",
       "      <td>Верещагин</td>\n",
       "      <td>2018-05-25</td>\n",
       "      <td>ultra</td>\n",
       "      <td>0.0</td>\n",
       "      <td>0.0</td>\n",
       "      <td>0.0</td>\n",
       "    </tr>\n",
       "    <tr>\n",
       "      <td>3</td>\n",
       "      <td>1000</td>\n",
       "      <td>408.0</td>\n",
       "      <td>81.0</td>\n",
       "      <td>14.0</td>\n",
       "      <td>52</td>\n",
       "      <td>0</td>\n",
       "      <td>Краснодар</td>\n",
       "      <td>Рафаил</td>\n",
       "      <td>Верещагин</td>\n",
       "      <td>2018-05-25</td>\n",
       "      <td>ultra</td>\n",
       "      <td>0.0</td>\n",
       "      <td>0.0</td>\n",
       "      <td>0.0</td>\n",
       "    </tr>\n",
       "    <tr>\n",
       "      <td>4</td>\n",
       "      <td>1000</td>\n",
       "      <td>466.0</td>\n",
       "      <td>57.0</td>\n",
       "      <td>15.0</td>\n",
       "      <td>52</td>\n",
       "      <td>0</td>\n",
       "      <td>Краснодар</td>\n",
       "      <td>Рафаил</td>\n",
       "      <td>Верещагин</td>\n",
       "      <td>2018-05-25</td>\n",
       "      <td>ultra</td>\n",
       "      <td>0.0</td>\n",
       "      <td>0.0</td>\n",
       "      <td>0.0</td>\n",
       "    </tr>\n",
       "    <tr>\n",
       "      <td>...</td>\n",
       "      <td>...</td>\n",
       "      <td>...</td>\n",
       "      <td>...</td>\n",
       "      <td>...</td>\n",
       "      <td>...</td>\n",
       "      <td>...</td>\n",
       "      <td>...</td>\n",
       "      <td>...</td>\n",
       "      <td>...</td>\n",
       "      <td>...</td>\n",
       "      <td>...</td>\n",
       "      <td>...</td>\n",
       "      <td>...</td>\n",
       "      <td>...</td>\n",
       "    </tr>\n",
       "    <tr>\n",
       "      <td>3211</td>\n",
       "      <td>1489</td>\n",
       "      <td>0.0</td>\n",
       "      <td>21.0</td>\n",
       "      <td>20.0</td>\n",
       "      <td>35</td>\n",
       "      <td>0</td>\n",
       "      <td>Санкт-Петербург</td>\n",
       "      <td>Павел</td>\n",
       "      <td>Гончаров</td>\n",
       "      <td>2018-08-15</td>\n",
       "      <td>smart</td>\n",
       "      <td>0.0</td>\n",
       "      <td>0.0</td>\n",
       "      <td>1000.0</td>\n",
       "    </tr>\n",
       "    <tr>\n",
       "      <td>3212</td>\n",
       "      <td>1489</td>\n",
       "      <td>0.0</td>\n",
       "      <td>20.0</td>\n",
       "      <td>18.0</td>\n",
       "      <td>35</td>\n",
       "      <td>0</td>\n",
       "      <td>Санкт-Петербург</td>\n",
       "      <td>Павел</td>\n",
       "      <td>Гончаров</td>\n",
       "      <td>2018-08-15</td>\n",
       "      <td>smart</td>\n",
       "      <td>0.0</td>\n",
       "      <td>0.0</td>\n",
       "      <td>600.0</td>\n",
       "    </tr>\n",
       "    <tr>\n",
       "      <td>3213</td>\n",
       "      <td>1489</td>\n",
       "      <td>0.0</td>\n",
       "      <td>35.0</td>\n",
       "      <td>17.0</td>\n",
       "      <td>35</td>\n",
       "      <td>0</td>\n",
       "      <td>Санкт-Петербург</td>\n",
       "      <td>Павел</td>\n",
       "      <td>Гончаров</td>\n",
       "      <td>2018-08-15</td>\n",
       "      <td>smart</td>\n",
       "      <td>0.0</td>\n",
       "      <td>0.0</td>\n",
       "      <td>400.0</td>\n",
       "    </tr>\n",
       "    <tr>\n",
       "      <td>3214</td>\n",
       "      <td>1128</td>\n",
       "      <td>0.0</td>\n",
       "      <td>0.0</td>\n",
       "      <td>0.0</td>\n",
       "      <td>51</td>\n",
       "      <td>2018-12-23 00:00:00</td>\n",
       "      <td>Волжский</td>\n",
       "      <td>Ксения</td>\n",
       "      <td>Агаева</td>\n",
       "      <td>2018-12-15</td>\n",
       "      <td>ultra</td>\n",
       "      <td>0.0</td>\n",
       "      <td>0.0</td>\n",
       "      <td>0.0</td>\n",
       "    </tr>\n",
       "    <tr>\n",
       "      <td>3215</td>\n",
       "      <td>1371</td>\n",
       "      <td>0.0</td>\n",
       "      <td>0.0</td>\n",
       "      <td>0.0</td>\n",
       "      <td>50</td>\n",
       "      <td>2018-12-30 00:00:00</td>\n",
       "      <td>Омск</td>\n",
       "      <td>Ириней</td>\n",
       "      <td>Трофимов</td>\n",
       "      <td>2018-12-25</td>\n",
       "      <td>smart</td>\n",
       "      <td>0.0</td>\n",
       "      <td>0.0</td>\n",
       "      <td>0.0</td>\n",
       "    </tr>\n",
       "  </tbody>\n",
       "</table>\n",
       "<p>3216 rows × 14 columns</p>\n",
       "</div>"
      ],
      "text/plain": [
       "      user_id  duration  count_sms    gb  age           churn_date  \\\n",
       "0        1000     159.0       22.0   3.0   52                    0   \n",
       "1        1000     172.0       60.0  23.0   52                    0   \n",
       "2        1000     340.0       75.0  14.0   52                    0   \n",
       "3        1000     408.0       81.0  14.0   52                    0   \n",
       "4        1000     466.0       57.0  15.0   52                    0   \n",
       "...       ...       ...        ...   ...  ...                  ...   \n",
       "3211     1489       0.0       21.0  20.0   35                    0   \n",
       "3212     1489       0.0       20.0  18.0   35                    0   \n",
       "3213     1489       0.0       35.0  17.0   35                    0   \n",
       "3214     1128       0.0        0.0   0.0   51  2018-12-23 00:00:00   \n",
       "3215     1371       0.0        0.0   0.0   50  2018-12-30 00:00:00   \n",
       "\n",
       "                 city first_name  last_name   reg_date tariff  pay_call  \\\n",
       "0           Краснодар     Рафаил  Верещагин 2018-05-25  ultra       0.0   \n",
       "1           Краснодар     Рафаил  Верещагин 2018-05-25  ultra       0.0   \n",
       "2           Краснодар     Рафаил  Верещагин 2018-05-25  ultra       0.0   \n",
       "3           Краснодар     Рафаил  Верещагин 2018-05-25  ultra       0.0   \n",
       "4           Краснодар     Рафаил  Верещагин 2018-05-25  ultra       0.0   \n",
       "...               ...        ...        ...        ...    ...       ...   \n",
       "3211  Санкт-Петербург      Павел   Гончаров 2018-08-15  smart       0.0   \n",
       "3212  Санкт-Петербург      Павел   Гончаров 2018-08-15  smart       0.0   \n",
       "3213  Санкт-Петербург      Павел   Гончаров 2018-08-15  smart       0.0   \n",
       "3214         Волжский     Ксения     Агаева 2018-12-15  ultra       0.0   \n",
       "3215             Омск     Ириней   Трофимов 2018-12-25  smart       0.0   \n",
       "\n",
       "      pay_sms  pay_gb  \n",
       "0         0.0     0.0  \n",
       "1         0.0     0.0  \n",
       "2         0.0     0.0  \n",
       "3         0.0     0.0  \n",
       "4         0.0     0.0  \n",
       "...       ...     ...  \n",
       "3211      0.0  1000.0  \n",
       "3212      0.0   600.0  \n",
       "3213      0.0   400.0  \n",
       "3214      0.0     0.0  \n",
       "3215      0.0     0.0  \n",
       "\n",
       "[3216 rows x 14 columns]"
      ]
     },
     "execution_count": 45,
     "metadata": {},
     "output_type": "execute_result"
    }
   ],
   "source": [
    "def df_tariff2(row):\n",
    "    tariff = row['tariff']\n",
    "    internet = row['gb']\n",
    "    \n",
    "    \n",
    "    if tariff == 'ultra':\n",
    "        if internet > 30:\n",
    "            return (internet - 30)*150\n",
    "        return 0\n",
    "    if tariff == 'smart':\n",
    "        if internet > 15 :\n",
    "            return (internet - 15)*200\n",
    "        return 0\n",
    "\n",
    "call_sms_internet['pay_gb'] = call_sms_internet.apply(df_tariff2, axis =1)\n",
    "call_sms_internet"
   ]
  },
  {
   "cell_type": "code",
   "execution_count": 46,
   "metadata": {},
   "outputs": [
    {
     "data": {
      "text/plain": [
       "1450750.0"
      ]
     },
     "execution_count": 46,
     "metadata": {},
     "output_type": "execute_result"
    }
   ],
   "source": [
    "call_sms_internet['pay_gb'].sum()"
   ]
  },
  {
   "cell_type": "code",
   "execution_count": 47,
   "metadata": {},
   "outputs": [
    {
     "data": {
      "text/html": [
       "<div>\n",
       "<style scoped>\n",
       "    .dataframe tbody tr th:only-of-type {\n",
       "        vertical-align: middle;\n",
       "    }\n",
       "\n",
       "    .dataframe tbody tr th {\n",
       "        vertical-align: top;\n",
       "    }\n",
       "\n",
       "    .dataframe thead th {\n",
       "        text-align: right;\n",
       "    }\n",
       "</style>\n",
       "<table border=\"1\" class=\"dataframe\">\n",
       "  <thead>\n",
       "    <tr style=\"text-align: right;\">\n",
       "      <th></th>\n",
       "      <th>user_id</th>\n",
       "      <th>duration</th>\n",
       "      <th>count_sms</th>\n",
       "      <th>gb</th>\n",
       "      <th>age</th>\n",
       "      <th>churn_date</th>\n",
       "      <th>city</th>\n",
       "      <th>first_name</th>\n",
       "      <th>last_name</th>\n",
       "      <th>reg_date</th>\n",
       "      <th>tariff</th>\n",
       "      <th>pay_call</th>\n",
       "      <th>pay_sms</th>\n",
       "      <th>pay_gb</th>\n",
       "      <th>pay_all</th>\n",
       "    </tr>\n",
       "  </thead>\n",
       "  <tbody>\n",
       "    <tr>\n",
       "      <td>0</td>\n",
       "      <td>1000</td>\n",
       "      <td>159.0</td>\n",
       "      <td>22.0</td>\n",
       "      <td>3.0</td>\n",
       "      <td>52</td>\n",
       "      <td>0</td>\n",
       "      <td>Краснодар</td>\n",
       "      <td>Рафаил</td>\n",
       "      <td>Верещагин</td>\n",
       "      <td>2018-05-25</td>\n",
       "      <td>ultra</td>\n",
       "      <td>0.0</td>\n",
       "      <td>0.0</td>\n",
       "      <td>0.0</td>\n",
       "      <td>0.0</td>\n",
       "    </tr>\n",
       "    <tr>\n",
       "      <td>1</td>\n",
       "      <td>1000</td>\n",
       "      <td>172.0</td>\n",
       "      <td>60.0</td>\n",
       "      <td>23.0</td>\n",
       "      <td>52</td>\n",
       "      <td>0</td>\n",
       "      <td>Краснодар</td>\n",
       "      <td>Рафаил</td>\n",
       "      <td>Верещагин</td>\n",
       "      <td>2018-05-25</td>\n",
       "      <td>ultra</td>\n",
       "      <td>0.0</td>\n",
       "      <td>0.0</td>\n",
       "      <td>0.0</td>\n",
       "      <td>0.0</td>\n",
       "    </tr>\n",
       "    <tr>\n",
       "      <td>2</td>\n",
       "      <td>1000</td>\n",
       "      <td>340.0</td>\n",
       "      <td>75.0</td>\n",
       "      <td>14.0</td>\n",
       "      <td>52</td>\n",
       "      <td>0</td>\n",
       "      <td>Краснодар</td>\n",
       "      <td>Рафаил</td>\n",
       "      <td>Верещагин</td>\n",
       "      <td>2018-05-25</td>\n",
       "      <td>ultra</td>\n",
       "      <td>0.0</td>\n",
       "      <td>0.0</td>\n",
       "      <td>0.0</td>\n",
       "      <td>0.0</td>\n",
       "    </tr>\n",
       "    <tr>\n",
       "      <td>3</td>\n",
       "      <td>1000</td>\n",
       "      <td>408.0</td>\n",
       "      <td>81.0</td>\n",
       "      <td>14.0</td>\n",
       "      <td>52</td>\n",
       "      <td>0</td>\n",
       "      <td>Краснодар</td>\n",
       "      <td>Рафаил</td>\n",
       "      <td>Верещагин</td>\n",
       "      <td>2018-05-25</td>\n",
       "      <td>ultra</td>\n",
       "      <td>0.0</td>\n",
       "      <td>0.0</td>\n",
       "      <td>0.0</td>\n",
       "      <td>0.0</td>\n",
       "    </tr>\n",
       "    <tr>\n",
       "      <td>4</td>\n",
       "      <td>1000</td>\n",
       "      <td>466.0</td>\n",
       "      <td>57.0</td>\n",
       "      <td>15.0</td>\n",
       "      <td>52</td>\n",
       "      <td>0</td>\n",
       "      <td>Краснодар</td>\n",
       "      <td>Рафаил</td>\n",
       "      <td>Верещагин</td>\n",
       "      <td>2018-05-25</td>\n",
       "      <td>ultra</td>\n",
       "      <td>0.0</td>\n",
       "      <td>0.0</td>\n",
       "      <td>0.0</td>\n",
       "      <td>0.0</td>\n",
       "    </tr>\n",
       "    <tr>\n",
       "      <td>...</td>\n",
       "      <td>...</td>\n",
       "      <td>...</td>\n",
       "      <td>...</td>\n",
       "      <td>...</td>\n",
       "      <td>...</td>\n",
       "      <td>...</td>\n",
       "      <td>...</td>\n",
       "      <td>...</td>\n",
       "      <td>...</td>\n",
       "      <td>...</td>\n",
       "      <td>...</td>\n",
       "      <td>...</td>\n",
       "      <td>...</td>\n",
       "      <td>...</td>\n",
       "      <td>...</td>\n",
       "    </tr>\n",
       "    <tr>\n",
       "      <td>3211</td>\n",
       "      <td>1489</td>\n",
       "      <td>0.0</td>\n",
       "      <td>21.0</td>\n",
       "      <td>20.0</td>\n",
       "      <td>35</td>\n",
       "      <td>0</td>\n",
       "      <td>Санкт-Петербург</td>\n",
       "      <td>Павел</td>\n",
       "      <td>Гончаров</td>\n",
       "      <td>2018-08-15</td>\n",
       "      <td>smart</td>\n",
       "      <td>0.0</td>\n",
       "      <td>0.0</td>\n",
       "      <td>1000.0</td>\n",
       "      <td>1000.0</td>\n",
       "    </tr>\n",
       "    <tr>\n",
       "      <td>3212</td>\n",
       "      <td>1489</td>\n",
       "      <td>0.0</td>\n",
       "      <td>20.0</td>\n",
       "      <td>18.0</td>\n",
       "      <td>35</td>\n",
       "      <td>0</td>\n",
       "      <td>Санкт-Петербург</td>\n",
       "      <td>Павел</td>\n",
       "      <td>Гончаров</td>\n",
       "      <td>2018-08-15</td>\n",
       "      <td>smart</td>\n",
       "      <td>0.0</td>\n",
       "      <td>0.0</td>\n",
       "      <td>600.0</td>\n",
       "      <td>600.0</td>\n",
       "    </tr>\n",
       "    <tr>\n",
       "      <td>3213</td>\n",
       "      <td>1489</td>\n",
       "      <td>0.0</td>\n",
       "      <td>35.0</td>\n",
       "      <td>17.0</td>\n",
       "      <td>35</td>\n",
       "      <td>0</td>\n",
       "      <td>Санкт-Петербург</td>\n",
       "      <td>Павел</td>\n",
       "      <td>Гончаров</td>\n",
       "      <td>2018-08-15</td>\n",
       "      <td>smart</td>\n",
       "      <td>0.0</td>\n",
       "      <td>0.0</td>\n",
       "      <td>400.0</td>\n",
       "      <td>400.0</td>\n",
       "    </tr>\n",
       "    <tr>\n",
       "      <td>3214</td>\n",
       "      <td>1128</td>\n",
       "      <td>0.0</td>\n",
       "      <td>0.0</td>\n",
       "      <td>0.0</td>\n",
       "      <td>51</td>\n",
       "      <td>2018-12-23 00:00:00</td>\n",
       "      <td>Волжский</td>\n",
       "      <td>Ксения</td>\n",
       "      <td>Агаева</td>\n",
       "      <td>2018-12-15</td>\n",
       "      <td>ultra</td>\n",
       "      <td>0.0</td>\n",
       "      <td>0.0</td>\n",
       "      <td>0.0</td>\n",
       "      <td>0.0</td>\n",
       "    </tr>\n",
       "    <tr>\n",
       "      <td>3215</td>\n",
       "      <td>1371</td>\n",
       "      <td>0.0</td>\n",
       "      <td>0.0</td>\n",
       "      <td>0.0</td>\n",
       "      <td>50</td>\n",
       "      <td>2018-12-30 00:00:00</td>\n",
       "      <td>Омск</td>\n",
       "      <td>Ириней</td>\n",
       "      <td>Трофимов</td>\n",
       "      <td>2018-12-25</td>\n",
       "      <td>smart</td>\n",
       "      <td>0.0</td>\n",
       "      <td>0.0</td>\n",
       "      <td>0.0</td>\n",
       "      <td>0.0</td>\n",
       "    </tr>\n",
       "  </tbody>\n",
       "</table>\n",
       "<p>3216 rows × 15 columns</p>\n",
       "</div>"
      ],
      "text/plain": [
       "      user_id  duration  count_sms    gb  age           churn_date  \\\n",
       "0        1000     159.0       22.0   3.0   52                    0   \n",
       "1        1000     172.0       60.0  23.0   52                    0   \n",
       "2        1000     340.0       75.0  14.0   52                    0   \n",
       "3        1000     408.0       81.0  14.0   52                    0   \n",
       "4        1000     466.0       57.0  15.0   52                    0   \n",
       "...       ...       ...        ...   ...  ...                  ...   \n",
       "3211     1489       0.0       21.0  20.0   35                    0   \n",
       "3212     1489       0.0       20.0  18.0   35                    0   \n",
       "3213     1489       0.0       35.0  17.0   35                    0   \n",
       "3214     1128       0.0        0.0   0.0   51  2018-12-23 00:00:00   \n",
       "3215     1371       0.0        0.0   0.0   50  2018-12-30 00:00:00   \n",
       "\n",
       "                 city first_name  last_name   reg_date tariff  pay_call  \\\n",
       "0           Краснодар     Рафаил  Верещагин 2018-05-25  ultra       0.0   \n",
       "1           Краснодар     Рафаил  Верещагин 2018-05-25  ultra       0.0   \n",
       "2           Краснодар     Рафаил  Верещагин 2018-05-25  ultra       0.0   \n",
       "3           Краснодар     Рафаил  Верещагин 2018-05-25  ultra       0.0   \n",
       "4           Краснодар     Рафаил  Верещагин 2018-05-25  ultra       0.0   \n",
       "...               ...        ...        ...        ...    ...       ...   \n",
       "3211  Санкт-Петербург      Павел   Гончаров 2018-08-15  smart       0.0   \n",
       "3212  Санкт-Петербург      Павел   Гончаров 2018-08-15  smart       0.0   \n",
       "3213  Санкт-Петербург      Павел   Гончаров 2018-08-15  smart       0.0   \n",
       "3214         Волжский     Ксения     Агаева 2018-12-15  ultra       0.0   \n",
       "3215             Омск     Ириней   Трофимов 2018-12-25  smart       0.0   \n",
       "\n",
       "      pay_sms  pay_gb  pay_all  \n",
       "0         0.0     0.0      0.0  \n",
       "1         0.0     0.0      0.0  \n",
       "2         0.0     0.0      0.0  \n",
       "3         0.0     0.0      0.0  \n",
       "4         0.0     0.0      0.0  \n",
       "...       ...     ...      ...  \n",
       "3211      0.0  1000.0   1000.0  \n",
       "3212      0.0   600.0    600.0  \n",
       "3213      0.0   400.0    400.0  \n",
       "3214      0.0     0.0      0.0  \n",
       "3215      0.0     0.0      0.0  \n",
       "\n",
       "[3216 rows x 15 columns]"
      ]
     },
     "execution_count": 47,
     "metadata": {},
     "output_type": "execute_result"
    }
   ],
   "source": [
    "call_sms_internet['pay_all'] = call_sms_internet['pay_call'] + call_sms_internet['pay_sms'] + call_sms_internet['pay_gb']\n",
    "call_sms_internet"
   ]
  },
  {
   "cell_type": "code",
   "execution_count": 48,
   "metadata": {},
   "outputs": [
    {
     "data": {
      "text/plain": [
       "1767751.0"
      ]
     },
     "execution_count": 48,
     "metadata": {},
     "output_type": "execute_result"
    }
   ],
   "source": [
    "call_sms_internet['pay_all'].sum()"
   ]
  },
  {
   "cell_type": "markdown",
   "metadata": {},
   "source": [
    "Сумма переплат, без учет платы за тариф."
   ]
  },
  {
   "cell_type": "code",
   "execution_count": 49,
   "metadata": {},
   "outputs": [
    {
     "data": {
      "text/html": [
       "<div>\n",
       "<style scoped>\n",
       "    .dataframe tbody tr th:only-of-type {\n",
       "        vertical-align: middle;\n",
       "    }\n",
       "\n",
       "    .dataframe tbody tr th {\n",
       "        vertical-align: top;\n",
       "    }\n",
       "\n",
       "    .dataframe thead th {\n",
       "        text-align: right;\n",
       "    }\n",
       "</style>\n",
       "<table border=\"1\" class=\"dataframe\">\n",
       "  <thead>\n",
       "    <tr style=\"text-align: right;\">\n",
       "      <th></th>\n",
       "      <th>user_id</th>\n",
       "      <th>duration</th>\n",
       "      <th>count_sms</th>\n",
       "      <th>gb</th>\n",
       "      <th>age</th>\n",
       "      <th>churn_date</th>\n",
       "      <th>city</th>\n",
       "      <th>first_name</th>\n",
       "      <th>last_name</th>\n",
       "      <th>reg_date</th>\n",
       "      <th>tariff</th>\n",
       "      <th>pay_call</th>\n",
       "      <th>pay_sms</th>\n",
       "      <th>pay_gb</th>\n",
       "      <th>pay_all</th>\n",
       "      <th>pay_tariff</th>\n",
       "    </tr>\n",
       "  </thead>\n",
       "  <tbody>\n",
       "    <tr>\n",
       "      <td>0</td>\n",
       "      <td>1000</td>\n",
       "      <td>159.0</td>\n",
       "      <td>22.0</td>\n",
       "      <td>3.0</td>\n",
       "      <td>52</td>\n",
       "      <td>0</td>\n",
       "      <td>Краснодар</td>\n",
       "      <td>Рафаил</td>\n",
       "      <td>Верещагин</td>\n",
       "      <td>2018-05-25</td>\n",
       "      <td>ultra</td>\n",
       "      <td>0.0</td>\n",
       "      <td>0.0</td>\n",
       "      <td>0.0</td>\n",
       "      <td>0.0</td>\n",
       "      <td>1950</td>\n",
       "    </tr>\n",
       "    <tr>\n",
       "      <td>1</td>\n",
       "      <td>1000</td>\n",
       "      <td>172.0</td>\n",
       "      <td>60.0</td>\n",
       "      <td>23.0</td>\n",
       "      <td>52</td>\n",
       "      <td>0</td>\n",
       "      <td>Краснодар</td>\n",
       "      <td>Рафаил</td>\n",
       "      <td>Верещагин</td>\n",
       "      <td>2018-05-25</td>\n",
       "      <td>ultra</td>\n",
       "      <td>0.0</td>\n",
       "      <td>0.0</td>\n",
       "      <td>0.0</td>\n",
       "      <td>0.0</td>\n",
       "      <td>1950</td>\n",
       "    </tr>\n",
       "    <tr>\n",
       "      <td>2</td>\n",
       "      <td>1000</td>\n",
       "      <td>340.0</td>\n",
       "      <td>75.0</td>\n",
       "      <td>14.0</td>\n",
       "      <td>52</td>\n",
       "      <td>0</td>\n",
       "      <td>Краснодар</td>\n",
       "      <td>Рафаил</td>\n",
       "      <td>Верещагин</td>\n",
       "      <td>2018-05-25</td>\n",
       "      <td>ultra</td>\n",
       "      <td>0.0</td>\n",
       "      <td>0.0</td>\n",
       "      <td>0.0</td>\n",
       "      <td>0.0</td>\n",
       "      <td>1950</td>\n",
       "    </tr>\n",
       "    <tr>\n",
       "      <td>3</td>\n",
       "      <td>1000</td>\n",
       "      <td>408.0</td>\n",
       "      <td>81.0</td>\n",
       "      <td>14.0</td>\n",
       "      <td>52</td>\n",
       "      <td>0</td>\n",
       "      <td>Краснодар</td>\n",
       "      <td>Рафаил</td>\n",
       "      <td>Верещагин</td>\n",
       "      <td>2018-05-25</td>\n",
       "      <td>ultra</td>\n",
       "      <td>0.0</td>\n",
       "      <td>0.0</td>\n",
       "      <td>0.0</td>\n",
       "      <td>0.0</td>\n",
       "      <td>1950</td>\n",
       "    </tr>\n",
       "    <tr>\n",
       "      <td>4</td>\n",
       "      <td>1000</td>\n",
       "      <td>466.0</td>\n",
       "      <td>57.0</td>\n",
       "      <td>15.0</td>\n",
       "      <td>52</td>\n",
       "      <td>0</td>\n",
       "      <td>Краснодар</td>\n",
       "      <td>Рафаил</td>\n",
       "      <td>Верещагин</td>\n",
       "      <td>2018-05-25</td>\n",
       "      <td>ultra</td>\n",
       "      <td>0.0</td>\n",
       "      <td>0.0</td>\n",
       "      <td>0.0</td>\n",
       "      <td>0.0</td>\n",
       "      <td>1950</td>\n",
       "    </tr>\n",
       "    <tr>\n",
       "      <td>...</td>\n",
       "      <td>...</td>\n",
       "      <td>...</td>\n",
       "      <td>...</td>\n",
       "      <td>...</td>\n",
       "      <td>...</td>\n",
       "      <td>...</td>\n",
       "      <td>...</td>\n",
       "      <td>...</td>\n",
       "      <td>...</td>\n",
       "      <td>...</td>\n",
       "      <td>...</td>\n",
       "      <td>...</td>\n",
       "      <td>...</td>\n",
       "      <td>...</td>\n",
       "      <td>...</td>\n",
       "      <td>...</td>\n",
       "    </tr>\n",
       "    <tr>\n",
       "      <td>3211</td>\n",
       "      <td>1489</td>\n",
       "      <td>0.0</td>\n",
       "      <td>21.0</td>\n",
       "      <td>20.0</td>\n",
       "      <td>35</td>\n",
       "      <td>0</td>\n",
       "      <td>Санкт-Петербург</td>\n",
       "      <td>Павел</td>\n",
       "      <td>Гончаров</td>\n",
       "      <td>2018-08-15</td>\n",
       "      <td>smart</td>\n",
       "      <td>0.0</td>\n",
       "      <td>0.0</td>\n",
       "      <td>1000.0</td>\n",
       "      <td>1000.0</td>\n",
       "      <td>550</td>\n",
       "    </tr>\n",
       "    <tr>\n",
       "      <td>3212</td>\n",
       "      <td>1489</td>\n",
       "      <td>0.0</td>\n",
       "      <td>20.0</td>\n",
       "      <td>18.0</td>\n",
       "      <td>35</td>\n",
       "      <td>0</td>\n",
       "      <td>Санкт-Петербург</td>\n",
       "      <td>Павел</td>\n",
       "      <td>Гончаров</td>\n",
       "      <td>2018-08-15</td>\n",
       "      <td>smart</td>\n",
       "      <td>0.0</td>\n",
       "      <td>0.0</td>\n",
       "      <td>600.0</td>\n",
       "      <td>600.0</td>\n",
       "      <td>550</td>\n",
       "    </tr>\n",
       "    <tr>\n",
       "      <td>3213</td>\n",
       "      <td>1489</td>\n",
       "      <td>0.0</td>\n",
       "      <td>35.0</td>\n",
       "      <td>17.0</td>\n",
       "      <td>35</td>\n",
       "      <td>0</td>\n",
       "      <td>Санкт-Петербург</td>\n",
       "      <td>Павел</td>\n",
       "      <td>Гончаров</td>\n",
       "      <td>2018-08-15</td>\n",
       "      <td>smart</td>\n",
       "      <td>0.0</td>\n",
       "      <td>0.0</td>\n",
       "      <td>400.0</td>\n",
       "      <td>400.0</td>\n",
       "      <td>550</td>\n",
       "    </tr>\n",
       "    <tr>\n",
       "      <td>3214</td>\n",
       "      <td>1128</td>\n",
       "      <td>0.0</td>\n",
       "      <td>0.0</td>\n",
       "      <td>0.0</td>\n",
       "      <td>51</td>\n",
       "      <td>2018-12-23 00:00:00</td>\n",
       "      <td>Волжский</td>\n",
       "      <td>Ксения</td>\n",
       "      <td>Агаева</td>\n",
       "      <td>2018-12-15</td>\n",
       "      <td>ultra</td>\n",
       "      <td>0.0</td>\n",
       "      <td>0.0</td>\n",
       "      <td>0.0</td>\n",
       "      <td>0.0</td>\n",
       "      <td>1950</td>\n",
       "    </tr>\n",
       "    <tr>\n",
       "      <td>3215</td>\n",
       "      <td>1371</td>\n",
       "      <td>0.0</td>\n",
       "      <td>0.0</td>\n",
       "      <td>0.0</td>\n",
       "      <td>50</td>\n",
       "      <td>2018-12-30 00:00:00</td>\n",
       "      <td>Омск</td>\n",
       "      <td>Ириней</td>\n",
       "      <td>Трофимов</td>\n",
       "      <td>2018-12-25</td>\n",
       "      <td>smart</td>\n",
       "      <td>0.0</td>\n",
       "      <td>0.0</td>\n",
       "      <td>0.0</td>\n",
       "      <td>0.0</td>\n",
       "      <td>550</td>\n",
       "    </tr>\n",
       "  </tbody>\n",
       "</table>\n",
       "<p>3216 rows × 16 columns</p>\n",
       "</div>"
      ],
      "text/plain": [
       "      user_id  duration  count_sms    gb  age           churn_date  \\\n",
       "0        1000     159.0       22.0   3.0   52                    0   \n",
       "1        1000     172.0       60.0  23.0   52                    0   \n",
       "2        1000     340.0       75.0  14.0   52                    0   \n",
       "3        1000     408.0       81.0  14.0   52                    0   \n",
       "4        1000     466.0       57.0  15.0   52                    0   \n",
       "...       ...       ...        ...   ...  ...                  ...   \n",
       "3211     1489       0.0       21.0  20.0   35                    0   \n",
       "3212     1489       0.0       20.0  18.0   35                    0   \n",
       "3213     1489       0.0       35.0  17.0   35                    0   \n",
       "3214     1128       0.0        0.0   0.0   51  2018-12-23 00:00:00   \n",
       "3215     1371       0.0        0.0   0.0   50  2018-12-30 00:00:00   \n",
       "\n",
       "                 city first_name  last_name   reg_date tariff  pay_call  \\\n",
       "0           Краснодар     Рафаил  Верещагин 2018-05-25  ultra       0.0   \n",
       "1           Краснодар     Рафаил  Верещагин 2018-05-25  ultra       0.0   \n",
       "2           Краснодар     Рафаил  Верещагин 2018-05-25  ultra       0.0   \n",
       "3           Краснодар     Рафаил  Верещагин 2018-05-25  ultra       0.0   \n",
       "4           Краснодар     Рафаил  Верещагин 2018-05-25  ultra       0.0   \n",
       "...               ...        ...        ...        ...    ...       ...   \n",
       "3211  Санкт-Петербург      Павел   Гончаров 2018-08-15  smart       0.0   \n",
       "3212  Санкт-Петербург      Павел   Гончаров 2018-08-15  smart       0.0   \n",
       "3213  Санкт-Петербург      Павел   Гончаров 2018-08-15  smart       0.0   \n",
       "3214         Волжский     Ксения     Агаева 2018-12-15  ultra       0.0   \n",
       "3215             Омск     Ириней   Трофимов 2018-12-25  smart       0.0   \n",
       "\n",
       "      pay_sms  pay_gb  pay_all  pay_tariff  \n",
       "0         0.0     0.0      0.0        1950  \n",
       "1         0.0     0.0      0.0        1950  \n",
       "2         0.0     0.0      0.0        1950  \n",
       "3         0.0     0.0      0.0        1950  \n",
       "4         0.0     0.0      0.0        1950  \n",
       "...       ...     ...      ...         ...  \n",
       "3211      0.0  1000.0   1000.0         550  \n",
       "3212      0.0   600.0    600.0         550  \n",
       "3213      0.0   400.0    400.0         550  \n",
       "3214      0.0     0.0      0.0        1950  \n",
       "3215      0.0     0.0      0.0         550  \n",
       "\n",
       "[3216 rows x 16 columns]"
      ]
     },
     "execution_count": 49,
     "metadata": {},
     "output_type": "execute_result"
    }
   ],
   "source": [
    "def df_tariff3(row):\n",
    "    tariff = row['tariff']\n",
    "    \n",
    "    \n",
    "    \n",
    "    if tariff == 'ultra':\n",
    "        return  1950\n",
    "        \n",
    "    if tariff == 'smart':\n",
    "        return  550\n",
    "\n",
    "call_sms_internet['pay_tariff'] = call_sms_internet.apply(df_tariff3, axis = 1)\n",
    "call_sms_internet\n",
    "\n"
   ]
  },
  {
   "cell_type": "code",
   "execution_count": 50,
   "metadata": {},
   "outputs": [],
   "source": [
    "call_sms_internet['pay_all'] = call_sms_internet['pay_all'] + call_sms_internet['pay_tariff']"
   ]
  },
  {
   "cell_type": "code",
   "execution_count": 51,
   "metadata": {},
   "outputs": [
    {
     "data": {
      "text/html": [
       "<div>\n",
       "<style scoped>\n",
       "    .dataframe tbody tr th:only-of-type {\n",
       "        vertical-align: middle;\n",
       "    }\n",
       "\n",
       "    .dataframe tbody tr th {\n",
       "        vertical-align: top;\n",
       "    }\n",
       "\n",
       "    .dataframe thead th {\n",
       "        text-align: right;\n",
       "    }\n",
       "</style>\n",
       "<table border=\"1\" class=\"dataframe\">\n",
       "  <thead>\n",
       "    <tr style=\"text-align: right;\">\n",
       "      <th></th>\n",
       "      <th>user_id</th>\n",
       "      <th>duration</th>\n",
       "      <th>count_sms</th>\n",
       "      <th>gb</th>\n",
       "      <th>age</th>\n",
       "      <th>churn_date</th>\n",
       "      <th>city</th>\n",
       "      <th>first_name</th>\n",
       "      <th>last_name</th>\n",
       "      <th>reg_date</th>\n",
       "      <th>tariff</th>\n",
       "      <th>pay_call</th>\n",
       "      <th>pay_sms</th>\n",
       "      <th>pay_gb</th>\n",
       "      <th>pay_all</th>\n",
       "      <th>pay_tariff</th>\n",
       "    </tr>\n",
       "  </thead>\n",
       "  <tbody>\n",
       "    <tr>\n",
       "      <td>0</td>\n",
       "      <td>1000</td>\n",
       "      <td>159.0</td>\n",
       "      <td>22.0</td>\n",
       "      <td>3.0</td>\n",
       "      <td>52</td>\n",
       "      <td>0</td>\n",
       "      <td>Краснодар</td>\n",
       "      <td>Рафаил</td>\n",
       "      <td>Верещагин</td>\n",
       "      <td>2018-05-25</td>\n",
       "      <td>ultra</td>\n",
       "      <td>0.0</td>\n",
       "      <td>0.0</td>\n",
       "      <td>0.0</td>\n",
       "      <td>1950.0</td>\n",
       "      <td>1950</td>\n",
       "    </tr>\n",
       "    <tr>\n",
       "      <td>1</td>\n",
       "      <td>1000</td>\n",
       "      <td>172.0</td>\n",
       "      <td>60.0</td>\n",
       "      <td>23.0</td>\n",
       "      <td>52</td>\n",
       "      <td>0</td>\n",
       "      <td>Краснодар</td>\n",
       "      <td>Рафаил</td>\n",
       "      <td>Верещагин</td>\n",
       "      <td>2018-05-25</td>\n",
       "      <td>ultra</td>\n",
       "      <td>0.0</td>\n",
       "      <td>0.0</td>\n",
       "      <td>0.0</td>\n",
       "      <td>1950.0</td>\n",
       "      <td>1950</td>\n",
       "    </tr>\n",
       "    <tr>\n",
       "      <td>2</td>\n",
       "      <td>1000</td>\n",
       "      <td>340.0</td>\n",
       "      <td>75.0</td>\n",
       "      <td>14.0</td>\n",
       "      <td>52</td>\n",
       "      <td>0</td>\n",
       "      <td>Краснодар</td>\n",
       "      <td>Рафаил</td>\n",
       "      <td>Верещагин</td>\n",
       "      <td>2018-05-25</td>\n",
       "      <td>ultra</td>\n",
       "      <td>0.0</td>\n",
       "      <td>0.0</td>\n",
       "      <td>0.0</td>\n",
       "      <td>1950.0</td>\n",
       "      <td>1950</td>\n",
       "    </tr>\n",
       "    <tr>\n",
       "      <td>3</td>\n",
       "      <td>1000</td>\n",
       "      <td>408.0</td>\n",
       "      <td>81.0</td>\n",
       "      <td>14.0</td>\n",
       "      <td>52</td>\n",
       "      <td>0</td>\n",
       "      <td>Краснодар</td>\n",
       "      <td>Рафаил</td>\n",
       "      <td>Верещагин</td>\n",
       "      <td>2018-05-25</td>\n",
       "      <td>ultra</td>\n",
       "      <td>0.0</td>\n",
       "      <td>0.0</td>\n",
       "      <td>0.0</td>\n",
       "      <td>1950.0</td>\n",
       "      <td>1950</td>\n",
       "    </tr>\n",
       "    <tr>\n",
       "      <td>4</td>\n",
       "      <td>1000</td>\n",
       "      <td>466.0</td>\n",
       "      <td>57.0</td>\n",
       "      <td>15.0</td>\n",
       "      <td>52</td>\n",
       "      <td>0</td>\n",
       "      <td>Краснодар</td>\n",
       "      <td>Рафаил</td>\n",
       "      <td>Верещагин</td>\n",
       "      <td>2018-05-25</td>\n",
       "      <td>ultra</td>\n",
       "      <td>0.0</td>\n",
       "      <td>0.0</td>\n",
       "      <td>0.0</td>\n",
       "      <td>1950.0</td>\n",
       "      <td>1950</td>\n",
       "    </tr>\n",
       "    <tr>\n",
       "      <td>...</td>\n",
       "      <td>...</td>\n",
       "      <td>...</td>\n",
       "      <td>...</td>\n",
       "      <td>...</td>\n",
       "      <td>...</td>\n",
       "      <td>...</td>\n",
       "      <td>...</td>\n",
       "      <td>...</td>\n",
       "      <td>...</td>\n",
       "      <td>...</td>\n",
       "      <td>...</td>\n",
       "      <td>...</td>\n",
       "      <td>...</td>\n",
       "      <td>...</td>\n",
       "      <td>...</td>\n",
       "      <td>...</td>\n",
       "    </tr>\n",
       "    <tr>\n",
       "      <td>3211</td>\n",
       "      <td>1489</td>\n",
       "      <td>0.0</td>\n",
       "      <td>21.0</td>\n",
       "      <td>20.0</td>\n",
       "      <td>35</td>\n",
       "      <td>0</td>\n",
       "      <td>Санкт-Петербург</td>\n",
       "      <td>Павел</td>\n",
       "      <td>Гончаров</td>\n",
       "      <td>2018-08-15</td>\n",
       "      <td>smart</td>\n",
       "      <td>0.0</td>\n",
       "      <td>0.0</td>\n",
       "      <td>1000.0</td>\n",
       "      <td>1550.0</td>\n",
       "      <td>550</td>\n",
       "    </tr>\n",
       "    <tr>\n",
       "      <td>3212</td>\n",
       "      <td>1489</td>\n",
       "      <td>0.0</td>\n",
       "      <td>20.0</td>\n",
       "      <td>18.0</td>\n",
       "      <td>35</td>\n",
       "      <td>0</td>\n",
       "      <td>Санкт-Петербург</td>\n",
       "      <td>Павел</td>\n",
       "      <td>Гончаров</td>\n",
       "      <td>2018-08-15</td>\n",
       "      <td>smart</td>\n",
       "      <td>0.0</td>\n",
       "      <td>0.0</td>\n",
       "      <td>600.0</td>\n",
       "      <td>1150.0</td>\n",
       "      <td>550</td>\n",
       "    </tr>\n",
       "    <tr>\n",
       "      <td>3213</td>\n",
       "      <td>1489</td>\n",
       "      <td>0.0</td>\n",
       "      <td>35.0</td>\n",
       "      <td>17.0</td>\n",
       "      <td>35</td>\n",
       "      <td>0</td>\n",
       "      <td>Санкт-Петербург</td>\n",
       "      <td>Павел</td>\n",
       "      <td>Гончаров</td>\n",
       "      <td>2018-08-15</td>\n",
       "      <td>smart</td>\n",
       "      <td>0.0</td>\n",
       "      <td>0.0</td>\n",
       "      <td>400.0</td>\n",
       "      <td>950.0</td>\n",
       "      <td>550</td>\n",
       "    </tr>\n",
       "    <tr>\n",
       "      <td>3214</td>\n",
       "      <td>1128</td>\n",
       "      <td>0.0</td>\n",
       "      <td>0.0</td>\n",
       "      <td>0.0</td>\n",
       "      <td>51</td>\n",
       "      <td>2018-12-23 00:00:00</td>\n",
       "      <td>Волжский</td>\n",
       "      <td>Ксения</td>\n",
       "      <td>Агаева</td>\n",
       "      <td>2018-12-15</td>\n",
       "      <td>ultra</td>\n",
       "      <td>0.0</td>\n",
       "      <td>0.0</td>\n",
       "      <td>0.0</td>\n",
       "      <td>1950.0</td>\n",
       "      <td>1950</td>\n",
       "    </tr>\n",
       "    <tr>\n",
       "      <td>3215</td>\n",
       "      <td>1371</td>\n",
       "      <td>0.0</td>\n",
       "      <td>0.0</td>\n",
       "      <td>0.0</td>\n",
       "      <td>50</td>\n",
       "      <td>2018-12-30 00:00:00</td>\n",
       "      <td>Омск</td>\n",
       "      <td>Ириней</td>\n",
       "      <td>Трофимов</td>\n",
       "      <td>2018-12-25</td>\n",
       "      <td>smart</td>\n",
       "      <td>0.0</td>\n",
       "      <td>0.0</td>\n",
       "      <td>0.0</td>\n",
       "      <td>550.0</td>\n",
       "      <td>550</td>\n",
       "    </tr>\n",
       "  </tbody>\n",
       "</table>\n",
       "<p>3216 rows × 16 columns</p>\n",
       "</div>"
      ],
      "text/plain": [
       "      user_id  duration  count_sms    gb  age           churn_date  \\\n",
       "0        1000     159.0       22.0   3.0   52                    0   \n",
       "1        1000     172.0       60.0  23.0   52                    0   \n",
       "2        1000     340.0       75.0  14.0   52                    0   \n",
       "3        1000     408.0       81.0  14.0   52                    0   \n",
       "4        1000     466.0       57.0  15.0   52                    0   \n",
       "...       ...       ...        ...   ...  ...                  ...   \n",
       "3211     1489       0.0       21.0  20.0   35                    0   \n",
       "3212     1489       0.0       20.0  18.0   35                    0   \n",
       "3213     1489       0.0       35.0  17.0   35                    0   \n",
       "3214     1128       0.0        0.0   0.0   51  2018-12-23 00:00:00   \n",
       "3215     1371       0.0        0.0   0.0   50  2018-12-30 00:00:00   \n",
       "\n",
       "                 city first_name  last_name   reg_date tariff  pay_call  \\\n",
       "0           Краснодар     Рафаил  Верещагин 2018-05-25  ultra       0.0   \n",
       "1           Краснодар     Рафаил  Верещагин 2018-05-25  ultra       0.0   \n",
       "2           Краснодар     Рафаил  Верещагин 2018-05-25  ultra       0.0   \n",
       "3           Краснодар     Рафаил  Верещагин 2018-05-25  ultra       0.0   \n",
       "4           Краснодар     Рафаил  Верещагин 2018-05-25  ultra       0.0   \n",
       "...               ...        ...        ...        ...    ...       ...   \n",
       "3211  Санкт-Петербург      Павел   Гончаров 2018-08-15  smart       0.0   \n",
       "3212  Санкт-Петербург      Павел   Гончаров 2018-08-15  smart       0.0   \n",
       "3213  Санкт-Петербург      Павел   Гончаров 2018-08-15  smart       0.0   \n",
       "3214         Волжский     Ксения     Агаева 2018-12-15  ultra       0.0   \n",
       "3215             Омск     Ириней   Трофимов 2018-12-25  smart       0.0   \n",
       "\n",
       "      pay_sms  pay_gb  pay_all  pay_tariff  \n",
       "0         0.0     0.0   1950.0        1950  \n",
       "1         0.0     0.0   1950.0        1950  \n",
       "2         0.0     0.0   1950.0        1950  \n",
       "3         0.0     0.0   1950.0        1950  \n",
       "4         0.0     0.0   1950.0        1950  \n",
       "...       ...     ...      ...         ...  \n",
       "3211      0.0  1000.0   1550.0         550  \n",
       "3212      0.0   600.0   1150.0         550  \n",
       "3213      0.0   400.0    950.0         550  \n",
       "3214      0.0     0.0   1950.0        1950  \n",
       "3215      0.0     0.0    550.0         550  \n",
       "\n",
       "[3216 rows x 16 columns]"
      ]
     },
     "execution_count": 51,
     "metadata": {},
     "output_type": "execute_result"
    }
   ],
   "source": [
    "call_sms_internet"
   ]
  },
  {
   "cell_type": "markdown",
   "metadata": {},
   "source": [
    "## Шаг 3. Проанализируйте данные\n",
    "Опишите поведение клиентов оператора, исходя из выборки. Сколько минут разговора, сколько сообщений и какой объём интернет-трафика требуется пользователям каждого тарифа в месяц? Посчитайте среднее количество, дисперсию и стандартное отклонение. Постройте гистограммы. Опишите распределения."
   ]
  },
  {
   "cell_type": "code",
   "execution_count": 52,
   "metadata": {},
   "outputs": [
    {
     "data": {
      "text/plain": [
       "2875901.0"
      ]
     },
     "execution_count": 52,
     "metadata": {},
     "output_type": "execute_result"
    }
   ],
   "source": [
    "call_sms_internet_smart = call_sms_internet.query('tariff == \"smart\"')\n",
    "call_sms_internet_smart['pay_all'].sum()\n",
    "#df4['tariff'].value_counts()"
   ]
  },
  {
   "cell_type": "code",
   "execution_count": 53,
   "metadata": {},
   "outputs": [
    {
     "data": {
      "text/html": [
       "<div>\n",
       "<style scoped>\n",
       "    .dataframe tbody tr th:only-of-type {\n",
       "        vertical-align: middle;\n",
       "    }\n",
       "\n",
       "    .dataframe tbody tr th {\n",
       "        vertical-align: top;\n",
       "    }\n",
       "\n",
       "    .dataframe thead tr th {\n",
       "        text-align: left;\n",
       "    }\n",
       "\n",
       "    .dataframe thead tr:last-of-type th {\n",
       "        text-align: right;\n",
       "    }\n",
       "</style>\n",
       "<table border=\"1\" class=\"dataframe\">\n",
       "  <thead>\n",
       "    <tr>\n",
       "      <th></th>\n",
       "      <th colspan=\"3\" halign=\"left\">mean</th>\n",
       "      <th colspan=\"3\" halign=\"left\">median</th>\n",
       "    </tr>\n",
       "    <tr>\n",
       "      <th></th>\n",
       "      <th>count_sms</th>\n",
       "      <th>duration</th>\n",
       "      <th>gb</th>\n",
       "      <th>count_sms</th>\n",
       "      <th>duration</th>\n",
       "      <th>gb</th>\n",
       "    </tr>\n",
       "    <tr>\n",
       "      <th>tariff</th>\n",
       "      <th></th>\n",
       "      <th></th>\n",
       "      <th></th>\n",
       "      <th></th>\n",
       "      <th></th>\n",
       "      <th></th>\n",
       "    </tr>\n",
       "  </thead>\n",
       "  <tbody>\n",
       "    <tr>\n",
       "      <td>smart</td>\n",
       "      <td>33.369058</td>\n",
       "      <td>417.747534</td>\n",
       "      <td>16.321525</td>\n",
       "      <td>28.0</td>\n",
       "      <td>421.5</td>\n",
       "      <td>17.0</td>\n",
       "    </tr>\n",
       "  </tbody>\n",
       "</table>\n",
       "</div>"
      ],
      "text/plain": [
       "             mean                           median               \n",
       "        count_sms    duration         gb count_sms duration    gb\n",
       "tariff                                                           \n",
       "smart   33.369058  417.747534  16.321525      28.0    421.5  17.0"
      ]
     },
     "execution_count": 53,
     "metadata": {},
     "output_type": "execute_result"
    }
   ],
   "source": [
    "call_sms_internet_smart.pivot_table(index = 'tariff', values=['duration','count_sms','gb',], aggfunc = ['mean', 'median'])"
   ]
  },
  {
   "cell_type": "code",
   "execution_count": 54,
   "metadata": {},
   "outputs": [
    {
     "data": {
      "text/plain": [
       "2041050.0"
      ]
     },
     "execution_count": 54,
     "metadata": {},
     "output_type": "execute_result"
    }
   ],
   "source": [
    "call_sms_internet_ultra = call_sms_internet.query('tariff == \"ultra\"')\n",
    "call_sms_internet_ultra['pay_all'].sum()"
   ]
  },
  {
   "cell_type": "code",
   "execution_count": 55,
   "metadata": {},
   "outputs": [
    {
     "data": {
      "text/html": [
       "<div>\n",
       "<style scoped>\n",
       "    .dataframe tbody tr th:only-of-type {\n",
       "        vertical-align: middle;\n",
       "    }\n",
       "\n",
       "    .dataframe tbody tr th {\n",
       "        vertical-align: top;\n",
       "    }\n",
       "\n",
       "    .dataframe thead tr th {\n",
       "        text-align: left;\n",
       "    }\n",
       "\n",
       "    .dataframe thead tr:last-of-type th {\n",
       "        text-align: right;\n",
       "    }\n",
       "</style>\n",
       "<table border=\"1\" class=\"dataframe\">\n",
       "  <thead>\n",
       "    <tr>\n",
       "      <th></th>\n",
       "      <th colspan=\"4\" halign=\"left\">mean</th>\n",
       "      <th colspan=\"4\" halign=\"left\">var</th>\n",
       "      <th colspan=\"4\" halign=\"left\">std</th>\n",
       "    </tr>\n",
       "    <tr>\n",
       "      <th></th>\n",
       "      <th>count_sms</th>\n",
       "      <th>duration</th>\n",
       "      <th>gb</th>\n",
       "      <th>pay_all</th>\n",
       "      <th>count_sms</th>\n",
       "      <th>duration</th>\n",
       "      <th>gb</th>\n",
       "      <th>pay_all</th>\n",
       "      <th>count_sms</th>\n",
       "      <th>duration</th>\n",
       "      <th>gb</th>\n",
       "      <th>pay_all</th>\n",
       "    </tr>\n",
       "    <tr>\n",
       "      <th>tariff</th>\n",
       "      <th></th>\n",
       "      <th></th>\n",
       "      <th></th>\n",
       "      <th></th>\n",
       "      <th></th>\n",
       "      <th></th>\n",
       "      <th></th>\n",
       "      <th></th>\n",
       "      <th></th>\n",
       "      <th></th>\n",
       "      <th></th>\n",
       "      <th></th>\n",
       "    </tr>\n",
       "  </thead>\n",
       "  <tbody>\n",
       "    <tr>\n",
       "      <td>smart</td>\n",
       "      <td>33.369058</td>\n",
       "      <td>417.747534</td>\n",
       "      <td>16.321525</td>\n",
       "      <td>1289.641704</td>\n",
       "      <td>796.955256</td>\n",
       "      <td>36281.393836</td>\n",
       "      <td>33.133453</td>\n",
       "      <td>669730.763895</td>\n",
       "      <td>28.230396</td>\n",
       "      <td>190.476754</td>\n",
       "      <td>5.756167</td>\n",
       "      <td>818.370799</td>\n",
       "    </tr>\n",
       "    <tr>\n",
       "      <td>ultra</td>\n",
       "      <td>49.313387</td>\n",
       "      <td>526.089249</td>\n",
       "      <td>19.474645</td>\n",
       "      <td>2070.030426</td>\n",
       "      <td>2285.417425</td>\n",
       "      <td>101052.493549</td>\n",
       "      <td>97.378544</td>\n",
       "      <td>141387.714809</td>\n",
       "      <td>47.806040</td>\n",
       "      <td>317.887549</td>\n",
       "      <td>9.868057</td>\n",
       "      <td>376.015578</td>\n",
       "    </tr>\n",
       "  </tbody>\n",
       "</table>\n",
       "</div>"
      ],
      "text/plain": [
       "             mean                                              var  \\\n",
       "        count_sms    duration         gb      pay_all    count_sms   \n",
       "tariff                                                               \n",
       "smart   33.369058  417.747534  16.321525  1289.641704   796.955256   \n",
       "ultra   49.313387  526.089249  19.474645  2070.030426  2285.417425   \n",
       "\n",
       "                                                       std              \\\n",
       "             duration         gb        pay_all  count_sms    duration   \n",
       "tariff                                                                   \n",
       "smart    36281.393836  33.133453  669730.763895  28.230396  190.476754   \n",
       "ultra   101052.493549  97.378544  141387.714809  47.806040  317.887549   \n",
       "\n",
       "                              \n",
       "              gb     pay_all  \n",
       "tariff                        \n",
       "smart   5.756167  818.370799  \n",
       "ultra   9.868057  376.015578  "
      ]
     },
     "execution_count": 55,
     "metadata": {},
     "output_type": "execute_result"
    }
   ],
   "source": [
    "call_sms_internet.pivot_table(index = 'tariff', values=['duration','count_sms','gb','pay_all'], aggfunc = ['mean', 'var', 'std'])"
   ]
  },
  {
   "cell_type": "code",
   "execution_count": 56,
   "metadata": {},
   "outputs": [
    {
     "name": "stdout",
     "output_type": "stream",
     "text": [
      "Defaulting to user installation because normal site-packages is not writeable\n",
      "Collecting seaborn\n",
      "  Downloading seaborn-0.11.2-py3-none-any.whl (292 kB)\n",
      "\u001b[K     |████████████████████████████████| 292 kB 1.2 MB/s eta 0:00:01\n",
      "\u001b[?25hRequirement already satisfied, skipping upgrade: scipy>=1.0 in /opt/conda/lib/python3.7/site-packages (from seaborn) (1.4.1)\n",
      "Requirement already satisfied, skipping upgrade: matplotlib>=2.2 in /opt/conda/lib/python3.7/site-packages (from seaborn) (3.1.0)\n",
      "Requirement already satisfied, skipping upgrade: pandas>=0.23 in /opt/conda/lib/python3.7/site-packages (from seaborn) (0.25.1)\n",
      "Requirement already satisfied, skipping upgrade: numpy>=1.15 in /opt/conda/lib/python3.7/site-packages (from seaborn) (1.19.5)\n",
      "Requirement already satisfied, skipping upgrade: pyparsing!=2.0.4,!=2.1.2,!=2.1.6,>=2.0.1 in /opt/conda/lib/python3.7/site-packages (from matplotlib>=2.2->seaborn) (2.4.7)\n",
      "Requirement already satisfied, skipping upgrade: python-dateutil>=2.1 in /opt/conda/lib/python3.7/site-packages (from matplotlib>=2.2->seaborn) (2.8.1)\n",
      "Requirement already satisfied, skipping upgrade: cycler>=0.10 in /opt/conda/lib/python3.7/site-packages (from matplotlib>=2.2->seaborn) (0.10.0)\n",
      "Requirement already satisfied, skipping upgrade: kiwisolver>=1.0.1 in /opt/conda/lib/python3.7/site-packages (from matplotlib>=2.2->seaborn) (1.3.1)\n",
      "Requirement already satisfied, skipping upgrade: pytz>=2017.2 in /opt/conda/lib/python3.7/site-packages (from pandas>=0.23->seaborn) (2021.1)\n",
      "Requirement already satisfied, skipping upgrade: six>=1.5 in /opt/conda/lib/python3.7/site-packages (from python-dateutil>=2.1->matplotlib>=2.2->seaborn) (1.15.0)\n",
      "Installing collected packages: seaborn\n",
      "Successfully installed seaborn-0.11.2\n"
     ]
    }
   ],
   "source": [
    "!pip install -U seaborn"
   ]
  },
  {
   "cell_type": "code",
   "execution_count": 57,
   "metadata": {},
   "outputs": [
    {
     "data": {
      "text/plain": [
       "<module 'seaborn' from '/home/jovyan/.local/lib/python3.7/site-packages/seaborn/__init__.py'>"
      ]
     },
     "execution_count": 57,
     "metadata": {},
     "output_type": "execute_result"
    }
   ],
   "source": [
    "import seaborn as sns\n",
    "import matplotlib.pyplot as plt\n",
    "\n",
    "sns.set(style=\"darkgrid\")\n",
    "sns"
   ]
  },
  {
   "cell_type": "code",
   "execution_count": 58,
   "metadata": {},
   "outputs": [],
   "source": [
    "\n",
    "# sns.histplot(data=call_sms_internet_smart, x=\"duration\",kde=True)\n",
    "# plt.title('duration')\n",
    "# plt.show() \n",
    "# # НЕСРАБОТАЛО"
   ]
  },
  {
   "cell_type": "code",
   "execution_count": 59,
   "metadata": {},
   "outputs": [
    {
     "data": {
      "image/png": "[encoded data removed]",
      "text/plain": [
       "<Figure size 432x288 with 1 Axes>"
      ]
     },
     "metadata": {},
     "output_type": "display_data"
    }
   ],
   "source": [
    "call_sms_internet.groupby('tariff')['duration'].plot(kind = 'hist', bins = 50, alpha = 0.5, legend = True)\n",
    "plt.title('Количечество минут по тарифам потраченных в месяц')\n",
    "plt.show()"
   ]
  },
  {
   "cell_type": "markdown",
   "metadata": {},
   "source": [
    "Многие пользователи тарифа ultra вообще не пользовались звонками в некоторые месяца. В среднем по тарифу smart разговаривают 500 мин, ultra выбирают кто говорит много. Больше 1300-1400 мин в месяц никто не наговаривает."
   ]
  },
  {
   "cell_type": "code",
   "execution_count": 60,
   "metadata": {},
   "outputs": [
    {
     "data": {
      "image/png": "[encoded data removed]",
      "text/plain": [
       "<Figure size 432x288 with 1 Axes>"
      ]
     },
     "metadata": {},
     "output_type": "display_data"
    }
   ],
   "source": [
    "call_sms_internet.groupby('tariff')['count_sms'].plot(kind = 'hist', bins = 20, alpha = 0.5, legend = True)\n",
    "plt.title('Количечество смс по тарифам потраченных в месяц')\n",
    "plt.show()"
   ]
  },
  {
   "cell_type": "markdown",
   "metadata": {},
   "source": [
    "Многие пользователи не пользуются смс месяцами. Наверное используют мессенджеры или они просто любят поговорить."
   ]
  },
  {
   "cell_type": "code",
   "execution_count": 61,
   "metadata": {},
   "outputs": [
    {
     "data": {
      "image/png": "[encoded data removed]",
      "text/plain": [
       "<Figure size 432x288 with 1 Axes>"
      ]
     },
     "metadata": {},
     "output_type": "display_data"
    }
   ],
   "source": [
    "call_sms_internet.groupby('tariff')['gb'].plot(kind = 'hist', bins = 20, alpha = 0.5, legend = True)\n",
    "plt.title('Количечество gb по тарифам потраченных в месяц')\n",
    "plt.show()"
   ]
  },
  {
   "cell_type": "markdown",
   "metadata": {},
   "source": [
    "По тарифу smart очень много пользователей переходят лимит пользования интернета 15gb, что приносит достаточно большую прибыль."
   ]
  },
  {
   "cell_type": "markdown",
   "metadata": {},
   "source": [
    "## Шаг 4. Проверьте гипотезы\n"
   ]
  },
  {
   "cell_type": "code",
   "execution_count": 62,
   "metadata": {},
   "outputs": [
    {
     "data": {
      "text/plain": [
       "565636.467011886"
      ]
     },
     "execution_count": 62,
     "metadata": {},
     "output_type": "execute_result"
    }
   ],
   "source": [
    "call_sms_internet.query('city == \"Москва\"')['pay_all'].var()"
   ]
  },
  {
   "cell_type": "code",
   "execution_count": 63,
   "metadata": {},
   "outputs": [
    {
     "data": {
      "text/plain": [
       "654069.5749627769"
      ]
     },
     "execution_count": 63,
     "metadata": {},
     "output_type": "execute_result"
    }
   ],
   "source": [
    "call_sms_internet.query('city != \"Москва\"')['pay_all'].var()"
   ]
  },
  {
   "cell_type": "code",
   "execution_count": 64,
   "metadata": {},
   "outputs": [
    {
     "name": "stdout",
     "output_type": "stream",
     "text": [
      "H0:средняя выручка пользователей тарифов «Ультра» и «Смарт» не различаются\n",
      "H1:средняя выручка пользователей тарифов «Ультра» и «Смарт» различаются \n",
      "p-значение: 1.927011394420941e-250\n",
      "Отвергаем нулевую гипотезу H0\n"
     ]
    }
   ],
   "source": [
    "from scipy import stats as st\n",
    "\n",
    "sample1= call_sms_internet_smart['pay_all']\n",
    "sample2= call_sms_internet_ultra['pay_all']\n",
    "\n",
    "print('H0:средняя выручка пользователей тарифов «Ультра» и «Смарт» не различаются')\n",
    "print('H1:средняя выручка пользователей тарифов «Ультра» и «Смарт» различаются ')\n",
    "\n",
    "alpha = 0.05\n",
    "results = st.ttest_ind(sample1, sample2, equal_var = False)\n",
    "\n",
    "print('p-значение:', results.pvalue)\n",
    "\n",
    "if results.pvalue < alpha:\n",
    "    print('Отвергаем нулевую гипотезу H0')\n",
    "else:\n",
    "    print('Не получилось отвергнуть нулевую гипотезу H0') "
   ]
  },
  {
   "cell_type": "code",
   "execution_count": 71,
   "metadata": {},
   "outputs": [
    {
     "name": "stdout",
     "output_type": "stream",
     "text": [
      "H0:средняя выручка пользователей из Москвы не отличается от выручки пользователей из других регионов\n",
      "H1:средняя выручка пользователей из Москвы отличается от выручки пользователей из других регионов\n",
      "p-значение: 0.5216952110000279\n",
      "Отвергаем нулевую гипотезу\n"
     ]
    }
   ],
   "source": [
    "sample3= call_sms_internet.query('city == \"Москва\"')['pay_all']\n",
    "sample4= call_sms_internet.query('city != \"Москва\"')['pay_all']\n",
    "\n",
    "print('H0:средняя выручка пользователей из Москвы не отличается от выручки пользователей из других регионов')\n",
    "print('H1:средняя выручка пользователей из Москвы отличается от выручки пользователей из других регионов')\n",
    "\n",
    "\n",
    "alpha = 0.05\n",
    "results1 = st.ttest_ind(sample3, sample4, equal_var = False)\n",
    "\n",
    "print('p-значение:', results1.pvalue)\n",
    "\n",
    "if results.pvalue < alpha:\n",
    "    print('Отвергаем нулевую гипотезу')\n",
    "else:\n",
    "    print('Не получилось отвергнуть нулевую гипотезу') "
   ]
  },
  {
   "cell_type": "markdown",
   "metadata": {},
   "source": [
    "Для проверки гипотез про выручку тарифов и выручки Москвы и других регионов, мы выбираем методом \"О равенстве среднего двух генеральных совокупностей по взятым из них выборкам\", так как выборки не зависимы. Параметр equal_var = False потому что дисперсии выборок не равны. Альфу берем стандартную равную 0.05 это обозначает критическую область с разных сторон в совокупности дающая 10%."
   ]
  },
  {
   "cell_type": "markdown",
   "metadata": {},
   "source": [
    "## Шаг 5.  Вывод\n"
   ]
  },
  {
   "cell_type": "markdown",
   "metadata": {},
   "source": [
    "Мы изучили 2 тарифа smart n ultra. Смарт обычный тариф с небольшим лимитом звонков смс и интернета. Тариф ультра более дорогой и с большими лимитами.\n",
    "Тариф ультра приносит больше средств компании чем смарт. Но не все пользователи тарифа ультра используют полноценно возможности тарифа. Чаще за лимиты тарифа выходят пользователи тарифа smart, а вот пользователи тарифа ultra не разу не выходили за лимиты звонков и лимиты смс.  По моему мнению, каждый тариф приносит денги в своей каттегории пользователей. "
   ]
  },
  {
   "cell_type": "code",
   "execution_count": 66,
   "metadata": {},
   "outputs": [
    {
     "data": {
      "text/html": [
       "<div>\n",
       "<style scoped>\n",
       "    .dataframe tbody tr th:only-of-type {\n",
       "        vertical-align: middle;\n",
       "    }\n",
       "\n",
       "    .dataframe tbody tr th {\n",
       "        vertical-align: top;\n",
       "    }\n",
       "\n",
       "    .dataframe thead th {\n",
       "        text-align: right;\n",
       "    }\n",
       "</style>\n",
       "<table border=\"1\" class=\"dataframe\">\n",
       "  <thead>\n",
       "    <tr style=\"text-align: right;\">\n",
       "      <th></th>\n",
       "      <th>count_sms</th>\n",
       "      <th>duration</th>\n",
       "      <th>gb</th>\n",
       "      <th>pay_all</th>\n",
       "    </tr>\n",
       "    <tr>\n",
       "      <th>tariff</th>\n",
       "      <th></th>\n",
       "      <th></th>\n",
       "      <th></th>\n",
       "      <th></th>\n",
       "    </tr>\n",
       "  </thead>\n",
       "  <tbody>\n",
       "    <tr>\n",
       "      <td>smart</td>\n",
       "      <td>33.369058</td>\n",
       "      <td>417.747534</td>\n",
       "      <td>16.321525</td>\n",
       "      <td>1289.641704</td>\n",
       "    </tr>\n",
       "    <tr>\n",
       "      <td>ultra</td>\n",
       "      <td>49.313387</td>\n",
       "      <td>526.089249</td>\n",
       "      <td>19.474645</td>\n",
       "      <td>2070.030426</td>\n",
       "    </tr>\n",
       "  </tbody>\n",
       "</table>\n",
       "</div>"
      ],
      "text/plain": [
       "        count_sms    duration         gb      pay_all\n",
       "tariff                                               \n",
       "smart   33.369058  417.747534  16.321525  1289.641704\n",
       "ultra   49.313387  526.089249  19.474645  2070.030426"
      ]
     },
     "execution_count": 66,
     "metadata": {},
     "output_type": "execute_result"
    }
   ],
   "source": [
    "call_sms_internet.pivot_table(index = 'tariff', values=['duration','count_sms','gb','pay_all'], aggfunc = 'mean')"
   ]
  },
  {
   "cell_type": "code",
   "execution_count": 67,
   "metadata": {},
   "outputs": [
    {
     "data": {
      "text/plain": [
       "smart    351\n",
       "ultra    149\n",
       "Name: tariff, dtype: int64"
      ]
     },
     "execution_count": 67,
     "metadata": {},
     "output_type": "execute_result"
    }
   ],
   "source": [
    "df4['tariff'].value_counts()"
   ]
  },
  {
   "cell_type": "code",
   "execution_count": 68,
   "metadata": {},
   "outputs": [
    {
     "data": {
      "text/html": [
       "<div>\n",
       "<style scoped>\n",
       "    .dataframe tbody tr th:only-of-type {\n",
       "        vertical-align: middle;\n",
       "    }\n",
       "\n",
       "    .dataframe tbody tr th {\n",
       "        vertical-align: top;\n",
       "    }\n",
       "\n",
       "    .dataframe thead tr th {\n",
       "        text-align: left;\n",
       "    }\n",
       "\n",
       "    .dataframe thead tr:last-of-type th {\n",
       "        text-align: right;\n",
       "    }\n",
       "</style>\n",
       "<table border=\"1\" class=\"dataframe\">\n",
       "  <thead>\n",
       "    <tr>\n",
       "      <th></th>\n",
       "      <th colspan=\"4\" halign=\"left\">mean</th>\n",
       "      <th colspan=\"4\" halign=\"left\">sum</th>\n",
       "    </tr>\n",
       "    <tr>\n",
       "      <th></th>\n",
       "      <th>pay_all</th>\n",
       "      <th>pay_call</th>\n",
       "      <th>pay_gb</th>\n",
       "      <th>pay_sms</th>\n",
       "      <th>pay_all</th>\n",
       "      <th>pay_call</th>\n",
       "      <th>pay_gb</th>\n",
       "      <th>pay_sms</th>\n",
       "    </tr>\n",
       "    <tr>\n",
       "      <th>tariff</th>\n",
       "      <th></th>\n",
       "      <th></th>\n",
       "      <th></th>\n",
       "      <th></th>\n",
       "      <th></th>\n",
       "      <th></th>\n",
       "      <th></th>\n",
       "      <th></th>\n",
       "    </tr>\n",
       "  </thead>\n",
       "  <tbody>\n",
       "    <tr>\n",
       "      <td>smart</td>\n",
       "      <td>1289.641704</td>\n",
       "      <td>124.760987</td>\n",
       "      <td>597.488789</td>\n",
       "      <td>17.391928</td>\n",
       "      <td>2875901.0</td>\n",
       "      <td>278217.0</td>\n",
       "      <td>1332400.0</td>\n",
       "      <td>38784.0</td>\n",
       "    </tr>\n",
       "    <tr>\n",
       "      <td>ultra</td>\n",
       "      <td>2070.030426</td>\n",
       "      <td>0.000000</td>\n",
       "      <td>120.030426</td>\n",
       "      <td>0.000000</td>\n",
       "      <td>2041050.0</td>\n",
       "      <td>0.0</td>\n",
       "      <td>118350.0</td>\n",
       "      <td>0.0</td>\n",
       "    </tr>\n",
       "  </tbody>\n",
       "</table>\n",
       "</div>"
      ],
      "text/plain": [
       "               mean                                           sum            \\\n",
       "            pay_all    pay_call      pay_gb    pay_sms    pay_all  pay_call   \n",
       "tariff                                                                        \n",
       "smart   1289.641704  124.760987  597.488789  17.391928  2875901.0  278217.0   \n",
       "ultra   2070.030426    0.000000  120.030426   0.000000  2041050.0       0.0   \n",
       "\n",
       "                            \n",
       "           pay_gb  pay_sms  \n",
       "tariff                      \n",
       "smart   1332400.0  38784.0  \n",
       "ultra    118350.0      0.0  "
      ]
     },
     "execution_count": 68,
     "metadata": {},
     "output_type": "execute_result"
    }
   ],
   "source": [
    "call_sms_internet.pivot_table(index = 'tariff', values=['pay_call','pay_sms','pay_gb','pay_all'], aggfunc = ['mean','sum'])"
   ]
  },
  {
   "cell_type": "markdown",
   "metadata": {},
   "source": [
    "Мы проверили 2 гипотезы и получили:\n",
    "- средняя выручка пользователей тарифов «Ультра» и «Смарт» различаются;\n",
    "- средняя выручка пользователей из Москвы отличается от выручки пользователей из других регионов.\n",
    "\n"
   ]
  }
 ],
 "metadata": {
  "ExecuteTimeLog": [
   {
    "duration": 59,
    "start_time": "2021-11-01T20:15:20.611Z"
   },
   {
    "duration": 57,
    "start_time": "2021-11-01T20:15:32.458Z"
   },
   {
    "duration": 3,
    "start_time": "2021-11-01T20:15:47.426Z"
   },
   {
    "duration": 691,
    "start_time": "2021-11-01T20:17:02.202Z"
   },
   {
    "duration": 154,
    "start_time": "2021-11-01T20:17:21.265Z"
   },
   {
    "duration": 148,
    "start_time": "2021-11-01T20:17:35.352Z"
   },
   {
    "duration": 155,
    "start_time": "2021-11-01T20:17:46.792Z"
   },
   {
    "duration": 153,
    "start_time": "2021-11-01T20:18:24.744Z"
   },
   {
    "duration": 29,
    "start_time": "2021-11-01T20:19:17.854Z"
   },
   {
    "duration": 131,
    "start_time": "2021-11-01T20:20:31.079Z"
   },
   {
    "duration": 28,
    "start_time": "2021-11-01T20:20:54.150Z"
   },
   {
    "duration": 89,
    "start_time": "2021-11-01T20:22:36.412Z"
   },
   {
    "duration": 12,
    "start_time": "2021-11-01T20:22:52.092Z"
   },
   {
    "duration": 20,
    "start_time": "2021-11-01T20:23:57.411Z"
   },
   {
    "duration": 25,
    "start_time": "2021-11-01T20:24:10.915Z"
   },
   {
    "duration": 52,
    "start_time": "2021-11-01T20:25:28.746Z"
   },
   {
    "duration": 15,
    "start_time": "2021-11-01T20:25:39.977Z"
   },
   {
    "duration": 20,
    "start_time": "2021-11-01T20:26:56.953Z"
   },
   {
    "duration": 29,
    "start_time": "2021-11-01T20:32:10.000Z"
   },
   {
    "duration": 20,
    "start_time": "2021-11-01T20:32:31.590Z"
   },
   {
    "duration": 23,
    "start_time": "2021-11-01T20:32:45.573Z"
   },
   {
    "duration": 226,
    "start_time": "2021-11-01T20:32:46.772Z"
   },
   {
    "duration": 163,
    "start_time": "2021-11-01T20:33:18.052Z"
   },
   {
    "duration": 146,
    "start_time": "2021-11-01T20:33:26.885Z"
   },
   {
    "duration": 26,
    "start_time": "2021-11-01T20:33:27.748Z"
   },
   {
    "duration": 20,
    "start_time": "2021-11-01T20:33:31.860Z"
   },
   {
    "duration": 25,
    "start_time": "2021-11-01T20:33:36.827Z"
   },
   {
    "duration": 157,
    "start_time": "2021-11-01T20:33:39.020Z"
   },
   {
    "duration": 2121,
    "start_time": "2021-11-01T20:34:41.810Z"
   },
   {
    "duration": 2117,
    "start_time": "2021-11-01T20:34:55.435Z"
   },
   {
    "duration": 142,
    "start_time": "2021-11-01T20:35:03.330Z"
   },
   {
    "duration": 26,
    "start_time": "2021-11-01T20:35:03.754Z"
   },
   {
    "duration": 22,
    "start_time": "2021-11-01T20:35:04.339Z"
   },
   {
    "duration": 32,
    "start_time": "2021-11-01T20:35:05.490Z"
   },
   {
    "duration": 20,
    "start_time": "2021-11-01T20:35:08.251Z"
   },
   {
    "duration": 28,
    "start_time": "2021-11-01T20:37:31.481Z"
   },
   {
    "duration": 14,
    "start_time": "2021-11-01T20:37:40.209Z"
   },
   {
    "duration": 22,
    "start_time": "2021-11-01T20:37:56.280Z"
   },
   {
    "duration": 147,
    "start_time": "2021-11-01T20:41:12.224Z"
   },
   {
    "duration": 5,
    "start_time": "2021-11-01T20:41:41.469Z"
   },
   {
    "duration": 9,
    "start_time": "2021-11-01T20:42:03.116Z"
   },
   {
    "duration": 4,
    "start_time": "2021-11-01T20:43:10.212Z"
   },
   {
    "duration": 9,
    "start_time": "2021-11-01T20:43:12.756Z"
   },
   {
    "duration": 149,
    "start_time": "2021-11-01T20:43:21.516Z"
   },
   {
    "duration": 25,
    "start_time": "2021-11-01T20:43:23.284Z"
   },
   {
    "duration": 30,
    "start_time": "2021-11-01T20:43:25.427Z"
   },
   {
    "duration": 4,
    "start_time": "2021-11-01T20:43:29.140Z"
   },
   {
    "duration": 10,
    "start_time": "2021-11-01T20:43:30.660Z"
   },
   {
    "duration": 148,
    "start_time": "2021-11-01T20:44:52.979Z"
   },
   {
    "duration": 28,
    "start_time": "2021-11-01T20:44:53.282Z"
   },
   {
    "duration": 31,
    "start_time": "2021-11-01T20:44:53.603Z"
   },
   {
    "duration": 168,
    "start_time": "2021-11-01T20:44:54.442Z"
   },
   {
    "duration": 154,
    "start_time": "2021-11-01T20:45:32.299Z"
   },
   {
    "duration": 25,
    "start_time": "2021-11-01T20:45:32.946Z"
   },
   {
    "duration": 29,
    "start_time": "2021-11-01T20:45:33.345Z"
   },
   {
    "duration": 166,
    "start_time": "2021-11-01T20:45:33.714Z"
   },
   {
    "duration": 10,
    "start_time": "2021-11-01T20:45:34.786Z"
   },
   {
    "duration": 126,
    "start_time": "2021-11-01T20:45:38.218Z"
   },
   {
    "duration": 162,
    "start_time": "2021-11-01T20:46:50.169Z"
   },
   {
    "duration": 268,
    "start_time": "2021-11-01T20:47:17.457Z"
   },
   {
    "duration": 309,
    "start_time": "2021-11-02T10:02:25.199Z"
   },
   {
    "duration": 988,
    "start_time": "2021-11-02T10:02:30.271Z"
   },
   {
    "duration": 37,
    "start_time": "2021-11-02T10:02:33.869Z"
   },
   {
    "duration": 49,
    "start_time": "2021-11-02T10:02:36.461Z"
   },
   {
    "duration": 183,
    "start_time": "2021-11-02T11:41:05.532Z"
   },
   {
    "duration": 4,
    "start_time": "2021-11-02T11:41:47.600Z"
   },
   {
    "duration": 9,
    "start_time": "2021-11-02T11:41:53.616Z"
   },
   {
    "duration": 15,
    "start_time": "2021-11-02T11:47:16.116Z"
   },
   {
    "duration": 10,
    "start_time": "2021-11-02T11:47:17.628Z"
   },
   {
    "duration": 15,
    "start_time": "2021-11-02T11:47:42.323Z"
   },
   {
    "duration": 15,
    "start_time": "2021-11-02T11:47:43.748Z"
   },
   {
    "duration": 181,
    "start_time": "2021-11-02T11:49:53.970Z"
   },
   {
    "duration": 16,
    "start_time": "2021-11-02T12:07:54.013Z"
   },
   {
    "duration": 9,
    "start_time": "2021-11-02T12:07:56.302Z"
   },
   {
    "duration": 9,
    "start_time": "2021-11-02T12:12:38.068Z"
   },
   {
    "duration": 172,
    "start_time": "2021-11-02T12:12:43.513Z"
   },
   {
    "duration": 38,
    "start_time": "2021-11-02T12:12:46.401Z"
   },
   {
    "duration": 30,
    "start_time": "2021-11-02T12:12:47.776Z"
   },
   {
    "duration": 3,
    "start_time": "2021-11-02T12:20:22.158Z"
   },
   {
    "duration": 10,
    "start_time": "2021-11-02T12:20:29.124Z"
   },
   {
    "duration": 495,
    "start_time": "2021-11-02T12:21:13.890Z"
   },
   {
    "duration": 296,
    "start_time": "2021-11-02T12:26:24.441Z"
   },
   {
    "duration": 158,
    "start_time": "2021-11-02T12:26:42.264Z"
   },
   {
    "duration": 26,
    "start_time": "2021-11-02T12:26:45.190Z"
   },
   {
    "duration": 30,
    "start_time": "2021-11-02T12:26:47.926Z"
   },
   {
    "duration": 268,
    "start_time": "2021-11-02T12:27:04.837Z"
   },
   {
    "duration": 276,
    "start_time": "2021-11-02T12:28:02.837Z"
   },
   {
    "duration": 8,
    "start_time": "2021-11-02T12:28:16.564Z"
   },
   {
    "duration": 4,
    "start_time": "2021-11-02T12:28:40.533Z"
   },
   {
    "duration": 9,
    "start_time": "2021-11-02T12:28:45.798Z"
   },
   {
    "duration": 6881,
    "start_time": "2021-11-02T12:32:49.948Z"
   },
   {
    "duration": 158,
    "start_time": "2021-11-02T12:32:59.060Z"
   },
   {
    "duration": 34,
    "start_time": "2021-11-02T12:32:59.221Z"
   },
   {
    "duration": 5,
    "start_time": "2021-11-02T12:32:59.258Z"
   },
   {
    "duration": 13,
    "start_time": "2021-11-02T12:32:59.265Z"
   },
   {
    "duration": 174,
    "start_time": "2021-11-02T12:32:59.280Z"
   },
   {
    "duration": 27,
    "start_time": "2021-11-02T12:32:59.455Z"
   },
   {
    "duration": 98,
    "start_time": "2021-11-02T12:32:59.483Z"
   },
   {
    "duration": 13,
    "start_time": "2021-11-02T12:32:59.583Z"
   },
   {
    "duration": 22,
    "start_time": "2021-11-02T12:32:59.598Z"
   },
   {
    "duration": 42,
    "start_time": "2021-11-02T12:32:59.622Z"
   },
   {
    "duration": 33,
    "start_time": "2021-11-02T12:32:59.666Z"
   },
   {
    "duration": 13,
    "start_time": "2021-11-02T12:32:59.701Z"
   },
   {
    "duration": 35,
    "start_time": "2021-11-02T12:32:59.716Z"
   },
   {
    "duration": 6,
    "start_time": "2021-11-02T12:32:59.753Z"
   },
   {
    "duration": 9,
    "start_time": "2021-11-02T12:32:59.760Z"
   },
   {
    "duration": 13,
    "start_time": "2021-11-02T13:56:14.002Z"
   },
   {
    "duration": 21,
    "start_time": "2021-11-02T14:03:03.858Z"
   },
   {
    "duration": 7,
    "start_time": "2021-11-02T14:03:47.218Z"
   },
   {
    "duration": 12,
    "start_time": "2021-11-02T14:04:01.282Z"
   },
   {
    "duration": 17,
    "start_time": "2021-11-02T14:07:06.888Z"
   },
   {
    "duration": 1023,
    "start_time": "2021-11-02T14:09:27.518Z"
   },
   {
    "duration": 257,
    "start_time": "2021-11-02T14:09:38.942Z"
   },
   {
    "duration": 22,
    "start_time": "2021-11-02T14:10:17.861Z"
   },
   {
    "duration": 266,
    "start_time": "2021-11-02T14:10:47.212Z"
   },
   {
    "duration": 6962,
    "start_time": "2021-11-02T14:12:25.708Z"
   },
   {
    "duration": 31,
    "start_time": "2021-11-02T14:13:02.540Z"
   },
   {
    "duration": 16,
    "start_time": "2021-11-02T14:13:08.517Z"
   },
   {
    "duration": 14,
    "start_time": "2021-11-02T14:13:23.779Z"
   },
   {
    "duration": 10,
    "start_time": "2021-11-02T14:15:01.964Z"
   },
   {
    "duration": 23,
    "start_time": "2021-11-02T14:16:09.800Z"
   },
   {
    "duration": 14,
    "start_time": "2021-11-02T14:16:30.888Z"
   },
   {
    "duration": 10,
    "start_time": "2021-11-02T14:16:53.344Z"
   },
   {
    "duration": 14,
    "start_time": "2021-11-02T14:17:27.839Z"
   },
   {
    "duration": 160,
    "start_time": "2021-11-02T14:18:54.081Z"
   },
   {
    "duration": 29,
    "start_time": "2021-11-02T14:18:54.243Z"
   },
   {
    "duration": 146,
    "start_time": "2021-11-02T14:18:54.274Z"
   },
   {
    "duration": 38,
    "start_time": "2021-11-02T14:18:54.422Z"
   },
   {
    "duration": 113,
    "start_time": "2021-11-02T14:18:54.466Z"
   },
   {
    "duration": 14,
    "start_time": "2021-11-02T14:18:54.581Z"
   },
   {
    "duration": 22,
    "start_time": "2021-11-02T14:18:54.597Z"
   },
   {
    "duration": 38,
    "start_time": "2021-11-02T14:18:54.623Z"
   },
   {
    "duration": 36,
    "start_time": "2021-11-02T14:18:54.664Z"
   },
   {
    "duration": 21,
    "start_time": "2021-11-02T14:18:54.702Z"
   },
   {
    "duration": 42,
    "start_time": "2021-11-02T14:18:54.725Z"
   },
   {
    "duration": 9,
    "start_time": "2021-11-02T14:18:54.768Z"
   },
   {
    "duration": 24,
    "start_time": "2021-11-02T14:18:54.778Z"
   },
   {
    "duration": 17,
    "start_time": "2021-11-02T14:18:54.804Z"
   },
   {
    "duration": 24,
    "start_time": "2021-11-02T14:18:54.823Z"
   },
   {
    "duration": 29,
    "start_time": "2021-11-02T14:18:54.849Z"
   },
   {
    "duration": 11,
    "start_time": "2021-11-02T14:18:54.879Z"
   },
   {
    "duration": 18,
    "start_time": "2021-11-02T14:18:54.891Z"
   },
   {
    "duration": 9,
    "start_time": "2021-11-02T14:18:54.910Z"
   },
   {
    "duration": 42,
    "start_time": "2021-11-02T14:18:54.920Z"
   },
   {
    "duration": 10,
    "start_time": "2021-11-02T14:18:54.964Z"
   },
   {
    "duration": 9,
    "start_time": "2021-11-02T14:18:54.976Z"
   },
   {
    "duration": 17,
    "start_time": "2021-11-02T14:18:54.987Z"
   },
   {
    "duration": 9,
    "start_time": "2021-11-02T14:19:39.870Z"
   },
   {
    "duration": 6439,
    "start_time": "2021-11-02T14:20:43.525Z"
   },
   {
    "duration": 7,
    "start_time": "2021-11-02T14:21:02.422Z"
   },
   {
    "duration": 7,
    "start_time": "2021-11-02T14:21:21.596Z"
   },
   {
    "duration": 7,
    "start_time": "2021-11-02T14:21:53.244Z"
   },
   {
    "duration": 5,
    "start_time": "2021-11-02T14:23:20.691Z"
   },
   {
    "duration": 12,
    "start_time": "2021-11-02T14:23:26.747Z"
   },
   {
    "duration": 6,
    "start_time": "2021-11-02T14:24:07.058Z"
   },
   {
    "duration": 8,
    "start_time": "2021-11-02T14:24:09.187Z"
   },
   {
    "duration": 6695,
    "start_time": "2021-11-02T14:28:57.257Z"
   },
   {
    "duration": 7128,
    "start_time": "2021-11-02T14:29:06.639Z"
   },
   {
    "duration": 167,
    "start_time": "2021-11-02T14:29:23.256Z"
   },
   {
    "duration": 20,
    "start_time": "2021-11-02T14:29:38.462Z"
   },
   {
    "duration": 31,
    "start_time": "2021-11-02T14:30:32.758Z"
   },
   {
    "duration": 9,
    "start_time": "2021-11-02T14:30:37.398Z"
   },
   {
    "duration": 9,
    "start_time": "2021-11-02T14:34:00.435Z"
   },
   {
    "duration": 10,
    "start_time": "2021-11-02T14:34:02.315Z"
   },
   {
    "duration": 250,
    "start_time": "2021-11-02T14:34:27.738Z"
   },
   {
    "duration": 9,
    "start_time": "2021-11-02T14:34:35.339Z"
   },
   {
    "duration": 10,
    "start_time": "2021-11-02T14:34:37.667Z"
   },
   {
    "duration": 8,
    "start_time": "2021-11-02T14:34:55.706Z"
   },
   {
    "duration": 10,
    "start_time": "2021-11-02T14:34:57.906Z"
   },
   {
    "duration": 8,
    "start_time": "2021-11-02T14:35:01.338Z"
   },
   {
    "duration": 11,
    "start_time": "2021-11-02T14:35:02.970Z"
   },
   {
    "duration": 166,
    "start_time": "2021-11-02T14:35:09.261Z"
   },
   {
    "duration": 31,
    "start_time": "2021-11-02T14:35:09.429Z"
   },
   {
    "duration": 21,
    "start_time": "2021-11-02T14:35:09.463Z"
   },
   {
    "duration": 147,
    "start_time": "2021-11-02T14:35:09.486Z"
   },
   {
    "duration": 33,
    "start_time": "2021-11-02T14:35:09.635Z"
   },
   {
    "duration": 99,
    "start_time": "2021-11-02T14:35:09.670Z"
   },
   {
    "duration": 13,
    "start_time": "2021-11-02T14:35:09.771Z"
   },
   {
    "duration": 42,
    "start_time": "2021-11-02T14:35:09.786Z"
   },
   {
    "duration": 45,
    "start_time": "2021-11-02T14:35:09.830Z"
   },
   {
    "duration": 35,
    "start_time": "2021-11-02T14:35:09.877Z"
   },
   {
    "duration": 16,
    "start_time": "2021-11-02T14:35:09.914Z"
   },
   {
    "duration": 34,
    "start_time": "2021-11-02T14:35:09.932Z"
   },
   {
    "duration": 14,
    "start_time": "2021-11-02T14:35:09.968Z"
   },
   {
    "duration": 37,
    "start_time": "2021-11-02T14:35:09.984Z"
   },
   {
    "duration": 32,
    "start_time": "2021-11-02T14:35:10.023Z"
   },
   {
    "duration": 6,
    "start_time": "2021-11-02T14:35:10.057Z"
   },
   {
    "duration": 42,
    "start_time": "2021-11-02T14:35:10.065Z"
   },
   {
    "duration": 15,
    "start_time": "2021-11-02T14:35:10.109Z"
   },
   {
    "duration": 19,
    "start_time": "2021-11-02T14:35:10.126Z"
   },
   {
    "duration": 10,
    "start_time": "2021-11-02T14:35:10.147Z"
   },
   {
    "duration": 25,
    "start_time": "2021-11-02T14:35:10.159Z"
   },
   {
    "duration": 39,
    "start_time": "2021-11-02T14:35:10.186Z"
   },
   {
    "duration": 8,
    "start_time": "2021-11-02T14:35:10.229Z"
   },
   {
    "duration": 24,
    "start_time": "2021-11-02T14:35:10.238Z"
   },
   {
    "duration": 22,
    "start_time": "2021-11-02T14:35:10.263Z"
   },
   {
    "duration": 19,
    "start_time": "2021-11-02T14:35:10.287Z"
   },
   {
    "duration": 21,
    "start_time": "2021-11-02T14:35:10.308Z"
   },
   {
    "duration": 6438,
    "start_time": "2021-11-02T14:35:10.331Z"
   },
   {
    "duration": 10,
    "start_time": "2021-11-02T14:35:28.697Z"
   },
   {
    "duration": 10,
    "start_time": "2021-11-02T14:35:30.099Z"
   },
   {
    "duration": 23,
    "start_time": "2021-11-02T14:36:17.738Z"
   },
   {
    "duration": 12,
    "start_time": "2021-11-02T14:36:24.632Z"
   },
   {
    "duration": 311,
    "start_time": "2021-11-02T14:39:15.191Z"
   },
   {
    "duration": 70,
    "start_time": "2021-11-02T14:39:25.528Z"
   },
   {
    "duration": 131,
    "start_time": "2021-11-02T14:40:32.721Z"
   },
   {
    "duration": 44,
    "start_time": "2021-11-02T14:41:38.334Z"
   },
   {
    "duration": 44,
    "start_time": "2021-11-02T14:43:00.863Z"
   },
   {
    "duration": 92,
    "start_time": "2021-11-02T14:44:17.755Z"
   },
   {
    "duration": 19,
    "start_time": "2021-11-02T15:14:51.320Z"
   },
   {
    "duration": 13,
    "start_time": "2021-11-02T15:15:19.258Z"
   },
   {
    "duration": 20,
    "start_time": "2021-11-02T15:15:58.971Z"
   },
   {
    "duration": 16,
    "start_time": "2021-11-02T15:17:08.836Z"
   },
   {
    "duration": 7409,
    "start_time": "2021-11-02T15:17:55.009Z"
   },
   {
    "duration": 14,
    "start_time": "2021-11-02T15:18:11.098Z"
   },
   {
    "duration": 11,
    "start_time": "2021-11-02T15:18:14.969Z"
   },
   {
    "duration": 321,
    "start_time": "2021-11-02T15:18:58.074Z"
   },
   {
    "duration": 182,
    "start_time": "2021-11-02T15:19:08.165Z"
   },
   {
    "duration": 42,
    "start_time": "2021-11-02T15:19:08.352Z"
   },
   {
    "duration": 49,
    "start_time": "2021-11-02T15:19:08.397Z"
   },
   {
    "duration": 234,
    "start_time": "2021-11-02T15:19:08.451Z"
   },
   {
    "duration": 43,
    "start_time": "2021-11-02T15:19:08.687Z"
   },
   {
    "duration": 144,
    "start_time": "2021-11-02T15:19:08.745Z"
   },
   {
    "duration": 20,
    "start_time": "2021-11-02T15:19:08.892Z"
   },
   {
    "duration": 43,
    "start_time": "2021-11-02T15:19:08.915Z"
   },
   {
    "duration": 38,
    "start_time": "2021-11-02T15:19:08.961Z"
   },
   {
    "duration": 47,
    "start_time": "2021-11-02T15:19:09.001Z"
   },
   {
    "duration": 34,
    "start_time": "2021-11-02T15:19:09.057Z"
   },
   {
    "duration": 44,
    "start_time": "2021-11-02T15:19:09.093Z"
   },
   {
    "duration": 19,
    "start_time": "2021-11-02T15:19:09.139Z"
   },
   {
    "duration": 22,
    "start_time": "2021-11-02T15:19:09.160Z"
   },
   {
    "duration": 27,
    "start_time": "2021-11-02T15:19:09.185Z"
   },
   {
    "duration": 7,
    "start_time": "2021-11-02T15:19:09.215Z"
   },
   {
    "duration": 64,
    "start_time": "2021-11-02T15:19:09.224Z"
   },
   {
    "duration": 16,
    "start_time": "2021-11-02T15:19:09.290Z"
   },
   {
    "duration": 22,
    "start_time": "2021-11-02T15:19:09.309Z"
   },
   {
    "duration": 20,
    "start_time": "2021-11-02T15:19:09.333Z"
   },
   {
    "duration": 33,
    "start_time": "2021-11-02T15:19:09.356Z"
   },
   {
    "duration": 17,
    "start_time": "2021-11-02T15:19:09.391Z"
   },
   {
    "duration": 43,
    "start_time": "2021-11-02T15:19:09.413Z"
   },
   {
    "duration": 19,
    "start_time": "2021-11-02T15:19:09.459Z"
   },
   {
    "duration": 9,
    "start_time": "2021-11-02T15:19:09.480Z"
   },
   {
    "duration": 10,
    "start_time": "2021-11-02T15:19:09.491Z"
   },
   {
    "duration": 15,
    "start_time": "2021-11-02T15:19:09.503Z"
   },
   {
    "duration": 45,
    "start_time": "2021-11-02T15:19:09.520Z"
   },
   {
    "duration": 18,
    "start_time": "2021-11-02T15:19:09.568Z"
   },
   {
    "duration": 89,
    "start_time": "2021-11-02T15:19:09.589Z"
   },
   {
    "duration": 73,
    "start_time": "2021-11-02T15:19:09.680Z"
   },
   {
    "duration": 17,
    "start_time": "2021-11-02T15:19:09.755Z"
   },
   {
    "duration": 283,
    "start_time": "2021-11-02T15:19:09.773Z"
   },
   {
    "duration": -1004,
    "start_time": "2021-11-02T15:19:11.063Z"
   },
   {
    "duration": 85,
    "start_time": "2021-11-02T15:19:17.880Z"
   },
   {
    "duration": 20,
    "start_time": "2021-11-02T15:19:46.817Z"
   },
   {
    "duration": 11,
    "start_time": "2021-11-02T15:20:23.606Z"
   },
   {
    "duration": 40,
    "start_time": "2021-11-02T15:23:24.077Z"
   },
   {
    "duration": 51,
    "start_time": "2021-11-02T15:23:47.933Z"
   },
   {
    "duration": 15,
    "start_time": "2021-11-02T15:24:00.733Z"
   },
   {
    "duration": 39,
    "start_time": "2021-11-02T15:24:21.740Z"
   },
   {
    "duration": 15,
    "start_time": "2021-11-02T15:27:26.803Z"
   },
   {
    "duration": 18,
    "start_time": "2021-11-02T15:28:08.361Z"
   },
   {
    "duration": 14,
    "start_time": "2021-11-02T15:28:10.266Z"
   },
   {
    "duration": 37,
    "start_time": "2021-11-02T15:29:13.984Z"
   },
   {
    "duration": 29,
    "start_time": "2021-11-02T20:14:56.176Z"
   },
   {
    "duration": 51,
    "start_time": "2021-11-02T20:15:01.227Z"
   },
   {
    "duration": 35,
    "start_time": "2021-11-02T20:16:49.748Z"
   },
   {
    "duration": 51,
    "start_time": "2021-11-02T20:16:57.138Z"
   },
   {
    "duration": 42,
    "start_time": "2021-11-02T20:22:07.831Z"
   },
   {
    "duration": 47,
    "start_time": "2021-11-02T20:33:32.757Z"
   },
   {
    "duration": 48,
    "start_time": "2021-11-02T20:33:43.293Z"
   },
   {
    "duration": 41,
    "start_time": "2021-11-02T20:38:05.017Z"
   },
   {
    "duration": 35,
    "start_time": "2021-11-02T20:38:45.777Z"
   },
   {
    "duration": 34,
    "start_time": "2021-11-02T20:39:43.089Z"
   },
   {
    "duration": 287,
    "start_time": "2021-11-02T20:41:17.751Z"
   },
   {
    "duration": 292,
    "start_time": "2021-11-02T20:41:43.518Z"
   },
   {
    "duration": 371,
    "start_time": "2021-11-02T20:44:06.676Z"
   },
   {
    "duration": 276,
    "start_time": "2021-11-02T20:44:11.932Z"
   },
   {
    "duration": 284,
    "start_time": "2021-11-02T20:44:41.107Z"
   },
   {
    "duration": 1567,
    "start_time": "2021-11-02T20:45:16.979Z"
   },
   {
    "duration": 1541,
    "start_time": "2021-11-02T20:45:22.156Z"
   },
   {
    "duration": 37,
    "start_time": "2021-11-02T20:45:34.243Z"
   },
   {
    "duration": 18,
    "start_time": "2021-11-02T20:47:58.137Z"
   },
   {
    "duration": 28,
    "start_time": "2021-11-02T20:48:21.442Z"
   },
   {
    "duration": 28,
    "start_time": "2021-11-02T20:50:35.215Z"
   },
   {
    "duration": 27,
    "start_time": "2021-11-02T20:51:47.814Z"
   },
   {
    "duration": 32,
    "start_time": "2021-11-02T20:53:22.261Z"
   },
   {
    "duration": 37,
    "start_time": "2021-11-02T20:54:27.491Z"
   },
   {
    "duration": 9,
    "start_time": "2021-11-02T20:55:59.875Z"
   },
   {
    "duration": 10,
    "start_time": "2021-11-02T20:56:09.266Z"
   },
   {
    "duration": 73,
    "start_time": "2021-11-02T20:56:51.673Z"
   },
   {
    "duration": 10,
    "start_time": "2021-11-02T20:56:53.569Z"
   },
   {
    "duration": 37,
    "start_time": "2021-11-02T20:57:14.217Z"
   },
   {
    "duration": 9,
    "start_time": "2021-11-02T20:57:15.745Z"
   },
   {
    "duration": 9,
    "start_time": "2021-11-02T20:57:59.184Z"
   },
   {
    "duration": 9,
    "start_time": "2021-11-02T20:58:02.464Z"
   },
   {
    "duration": 10,
    "start_time": "2021-11-02T20:58:42.096Z"
   },
   {
    "duration": 141,
    "start_time": "2021-11-02T20:58:51.076Z"
   },
   {
    "duration": 31,
    "start_time": "2021-11-02T20:58:51.219Z"
   },
   {
    "duration": 19,
    "start_time": "2021-11-02T20:58:51.252Z"
   },
   {
    "duration": 133,
    "start_time": "2021-11-02T20:58:51.273Z"
   },
   {
    "duration": 37,
    "start_time": "2021-11-02T20:58:51.408Z"
   },
   {
    "duration": 84,
    "start_time": "2021-11-02T20:58:51.447Z"
   },
   {
    "duration": 16,
    "start_time": "2021-11-02T20:58:51.533Z"
   },
   {
    "duration": 22,
    "start_time": "2021-11-02T20:58:51.552Z"
   },
   {
    "duration": 40,
    "start_time": "2021-11-02T20:58:51.576Z"
   },
   {
    "duration": 35,
    "start_time": "2021-11-02T20:58:51.617Z"
   },
   {
    "duration": 18,
    "start_time": "2021-11-02T20:58:51.654Z"
   },
   {
    "duration": 37,
    "start_time": "2021-11-02T20:58:51.673Z"
   },
   {
    "duration": 9,
    "start_time": "2021-11-02T20:58:51.712Z"
   },
   {
    "duration": 35,
    "start_time": "2021-11-02T20:58:51.722Z"
   },
   {
    "duration": 36,
    "start_time": "2021-11-02T20:58:51.759Z"
   },
   {
    "duration": 9,
    "start_time": "2021-11-02T20:58:51.796Z"
   },
   {
    "duration": 24,
    "start_time": "2021-11-02T20:58:51.807Z"
   },
   {
    "duration": 13,
    "start_time": "2021-11-02T20:58:51.833Z"
   },
   {
    "duration": 18,
    "start_time": "2021-11-02T20:58:51.847Z"
   },
   {
    "duration": 15,
    "start_time": "2021-11-02T20:58:51.866Z"
   },
   {
    "duration": 32,
    "start_time": "2021-11-02T20:58:51.882Z"
   },
   {
    "duration": 12,
    "start_time": "2021-11-02T20:58:51.916Z"
   },
   {
    "duration": 8,
    "start_time": "2021-11-02T20:58:51.945Z"
   },
   {
    "duration": 22,
    "start_time": "2021-11-02T20:58:51.956Z"
   },
   {
    "duration": 17,
    "start_time": "2021-11-02T20:58:51.980Z"
   },
   {
    "duration": 13,
    "start_time": "2021-11-02T20:58:51.999Z"
   },
   {
    "duration": 20,
    "start_time": "2021-11-02T20:58:52.014Z"
   },
   {
    "duration": 41,
    "start_time": "2021-11-02T20:58:52.036Z"
   },
   {
    "duration": 14,
    "start_time": "2021-11-02T20:58:52.079Z"
   },
   {
    "duration": 35,
    "start_time": "2021-11-02T20:58:52.094Z"
   },
   {
    "duration": 25,
    "start_time": "2021-11-02T20:58:52.131Z"
   },
   {
    "duration": 14,
    "start_time": "2021-11-02T20:58:52.157Z"
   },
   {
    "duration": 32,
    "start_time": "2021-11-02T20:58:52.173Z"
   },
   {
    "duration": 16,
    "start_time": "2021-11-02T20:58:52.207Z"
   },
   {
    "duration": 28,
    "start_time": "2021-11-02T20:58:52.244Z"
   },
   {
    "duration": 2,
    "start_time": "2021-11-02T20:58:52.274Z"
   },
   {
    "duration": 24,
    "start_time": "2021-11-02T20:58:52.278Z"
   },
   {
    "duration": 23,
    "start_time": "2021-11-02T21:00:59.591Z"
   },
   {
    "duration": 26,
    "start_time": "2021-11-02T21:01:05.614Z"
   },
   {
    "duration": 28,
    "start_time": "2021-11-02T21:01:18.926Z"
   },
   {
    "duration": 32,
    "start_time": "2021-11-02T21:01:39.702Z"
   },
   {
    "duration": 4,
    "start_time": "2021-11-02T21:14:58.379Z"
   },
   {
    "duration": 957,
    "start_time": "2021-11-02T21:16:15.898Z"
   },
   {
    "duration": 94,
    "start_time": "2021-11-02T21:17:22.609Z"
   },
   {
    "duration": 7807,
    "start_time": "2021-11-02T21:17:41.321Z"
   },
   {
    "duration": 93,
    "start_time": "2021-11-02T21:18:11.736Z"
   },
   {
    "duration": 6597,
    "start_time": "2021-11-02T21:18:23.056Z"
   },
   {
    "duration": 6716,
    "start_time": "2021-11-02T21:20:13.054Z"
   },
   {
    "duration": 7,
    "start_time": "2021-11-02T21:20:26.654Z"
   },
   {
    "duration": 14,
    "start_time": "2021-11-02T21:20:32.389Z"
   },
   {
    "duration": 261,
    "start_time": "2021-11-02T21:58:10.080Z"
   },
   {
    "duration": 18,
    "start_time": "2021-11-02T21:58:20.958Z"
   },
   {
    "duration": 19,
    "start_time": "2021-11-02T21:58:41.638Z"
   },
   {
    "duration": 20,
    "start_time": "2021-11-02T22:00:06.182Z"
   },
   {
    "duration": 30,
    "start_time": "2021-11-02T22:01:22.053Z"
   },
   {
    "duration": 168,
    "start_time": "2021-11-02T22:01:36.312Z"
   },
   {
    "duration": 25,
    "start_time": "2021-11-02T22:01:36.482Z"
   },
   {
    "duration": 19,
    "start_time": "2021-11-02T22:01:36.509Z"
   },
   {
    "duration": 146,
    "start_time": "2021-11-02T22:01:36.530Z"
   },
   {
    "duration": 26,
    "start_time": "2021-11-02T22:01:36.678Z"
   },
   {
    "duration": 92,
    "start_time": "2021-11-02T22:01:36.706Z"
   },
   {
    "duration": 13,
    "start_time": "2021-11-02T22:01:36.800Z"
   },
   {
    "duration": 22,
    "start_time": "2021-11-02T22:01:36.816Z"
   },
   {
    "duration": 27,
    "start_time": "2021-11-02T22:01:36.841Z"
   },
   {
    "duration": 35,
    "start_time": "2021-11-02T22:01:36.870Z"
   },
   {
    "duration": 15,
    "start_time": "2021-11-02T22:01:36.907Z"
   },
   {
    "duration": 44,
    "start_time": "2021-11-02T22:01:36.923Z"
   },
   {
    "duration": 9,
    "start_time": "2021-11-02T22:01:36.968Z"
   },
   {
    "duration": 13,
    "start_time": "2021-11-02T22:01:36.979Z"
   },
   {
    "duration": 16,
    "start_time": "2021-11-02T22:01:36.994Z"
   },
   {
    "duration": 6,
    "start_time": "2021-11-02T22:01:37.012Z"
   },
   {
    "duration": 46,
    "start_time": "2021-11-02T22:01:37.019Z"
   },
   {
    "duration": 12,
    "start_time": "2021-11-02T22:01:37.067Z"
   },
   {
    "duration": 13,
    "start_time": "2021-11-02T22:01:37.086Z"
   },
   {
    "duration": 43,
    "start_time": "2021-11-02T22:01:37.101Z"
   },
   {
    "duration": 19,
    "start_time": "2021-11-02T22:01:37.146Z"
   },
   {
    "duration": 10,
    "start_time": "2021-11-02T22:01:37.167Z"
   },
   {
    "duration": 7,
    "start_time": "2021-11-02T22:01:37.180Z"
   },
   {
    "duration": 14,
    "start_time": "2021-11-02T22:01:37.189Z"
   },
   {
    "duration": 6,
    "start_time": "2021-11-02T22:01:37.205Z"
   },
   {
    "duration": 32,
    "start_time": "2021-11-02T22:01:37.212Z"
   },
   {
    "duration": 8,
    "start_time": "2021-11-02T22:01:37.246Z"
   },
   {
    "duration": 25,
    "start_time": "2021-11-02T22:01:37.255Z"
   },
   {
    "duration": 11,
    "start_time": "2021-11-02T22:01:37.282Z"
   },
   {
    "duration": 55,
    "start_time": "2021-11-02T22:01:37.295Z"
   },
   {
    "duration": 26,
    "start_time": "2021-11-02T22:01:37.352Z"
   },
   {
    "duration": 15,
    "start_time": "2021-11-02T22:01:37.380Z"
   },
   {
    "duration": 24,
    "start_time": "2021-11-02T22:01:37.396Z"
   },
   {
    "duration": 16,
    "start_time": "2021-11-02T22:01:37.444Z"
   },
   {
    "duration": 29,
    "start_time": "2021-11-02T22:01:37.462Z"
   },
   {
    "duration": 28,
    "start_time": "2021-11-02T22:01:37.492Z"
   },
   {
    "duration": 154,
    "start_time": "2021-11-02T22:04:48.276Z"
   },
   {
    "duration": 27,
    "start_time": "2021-11-02T22:04:48.432Z"
   },
   {
    "duration": 20,
    "start_time": "2021-11-02T22:04:48.461Z"
   },
   {
    "duration": 137,
    "start_time": "2021-11-02T22:04:48.483Z"
   },
   {
    "duration": 35,
    "start_time": "2021-11-02T22:04:48.622Z"
   },
   {
    "duration": 88,
    "start_time": "2021-11-02T22:04:48.659Z"
   },
   {
    "duration": 14,
    "start_time": "2021-11-02T22:04:48.749Z"
   },
   {
    "duration": 26,
    "start_time": "2021-11-02T22:04:48.766Z"
   },
   {
    "duration": 46,
    "start_time": "2021-11-02T22:04:48.794Z"
   },
   {
    "duration": 50,
    "start_time": "2021-11-02T22:04:48.842Z"
   },
   {
    "duration": 27,
    "start_time": "2021-11-02T22:04:48.893Z"
   },
   {
    "duration": 45,
    "start_time": "2021-11-02T22:04:48.922Z"
   },
   {
    "duration": 9,
    "start_time": "2021-11-02T22:04:48.969Z"
   },
   {
    "duration": 28,
    "start_time": "2021-11-02T22:04:48.980Z"
   },
   {
    "duration": 36,
    "start_time": "2021-11-02T22:04:49.010Z"
   },
   {
    "duration": 14,
    "start_time": "2021-11-02T22:04:49.048Z"
   },
   {
    "duration": 46,
    "start_time": "2021-11-02T22:04:49.064Z"
   },
   {
    "duration": 15,
    "start_time": "2021-11-02T22:04:49.111Z"
   },
   {
    "duration": 26,
    "start_time": "2021-11-02T22:04:49.128Z"
   },
   {
    "duration": 25,
    "start_time": "2021-11-02T22:04:49.156Z"
   },
   {
    "duration": 36,
    "start_time": "2021-11-02T22:04:49.183Z"
   },
   {
    "duration": 22,
    "start_time": "2021-11-02T22:04:49.221Z"
   },
   {
    "duration": 21,
    "start_time": "2021-11-02T22:04:49.246Z"
   },
   {
    "duration": 38,
    "start_time": "2021-11-02T22:04:49.269Z"
   },
   {
    "duration": 23,
    "start_time": "2021-11-02T22:04:49.309Z"
   },
   {
    "duration": 23,
    "start_time": "2021-11-02T22:04:49.334Z"
   },
   {
    "duration": 26,
    "start_time": "2021-11-02T22:04:49.359Z"
   },
   {
    "duration": 39,
    "start_time": "2021-11-02T22:04:49.387Z"
   },
   {
    "duration": 29,
    "start_time": "2021-11-02T22:04:49.428Z"
   },
   {
    "duration": 54,
    "start_time": "2021-11-02T22:04:49.459Z"
   },
   {
    "duration": 40,
    "start_time": "2021-11-02T22:04:49.515Z"
   },
   {
    "duration": 17,
    "start_time": "2021-11-02T22:04:49.558Z"
   },
   {
    "duration": 36,
    "start_time": "2021-11-02T22:04:49.577Z"
   },
   {
    "duration": 29,
    "start_time": "2021-11-02T22:04:49.615Z"
   },
   {
    "duration": 30,
    "start_time": "2021-11-02T22:04:49.646Z"
   },
   {
    "duration": 97,
    "start_time": "2021-11-02T22:04:49.678Z"
   },
   {
    "duration": 28,
    "start_time": "2021-11-02T22:05:03.324Z"
   },
   {
    "duration": 290,
    "start_time": "2021-11-02T22:06:00.532Z"
   },
   {
    "duration": 271,
    "start_time": "2021-11-02T22:06:11.356Z"
   },
   {
    "duration": 26,
    "start_time": "2021-11-02T22:06:35.899Z"
   },
   {
    "duration": 274,
    "start_time": "2021-11-02T22:07:21.859Z"
   },
   {
    "duration": 158,
    "start_time": "2021-11-02T22:07:24.407Z"
   },
   {
    "duration": 25,
    "start_time": "2021-11-02T22:07:24.567Z"
   },
   {
    "duration": 22,
    "start_time": "2021-11-02T22:07:24.594Z"
   },
   {
    "duration": 147,
    "start_time": "2021-11-02T22:07:24.618Z"
   },
   {
    "duration": 27,
    "start_time": "2021-11-02T22:07:24.767Z"
   },
   {
    "duration": 96,
    "start_time": "2021-11-02T22:07:24.796Z"
   },
   {
    "duration": 12,
    "start_time": "2021-11-02T22:07:24.894Z"
   },
   {
    "duration": 23,
    "start_time": "2021-11-02T22:07:24.909Z"
   },
   {
    "duration": 45,
    "start_time": "2021-11-02T22:07:24.934Z"
   },
   {
    "duration": 34,
    "start_time": "2021-11-02T22:07:24.980Z"
   },
   {
    "duration": 19,
    "start_time": "2021-11-02T22:07:25.016Z"
   },
   {
    "duration": 58,
    "start_time": "2021-11-02T22:07:25.037Z"
   },
   {
    "duration": 10,
    "start_time": "2021-11-02T22:07:25.096Z"
   },
   {
    "duration": 34,
    "start_time": "2021-11-02T22:07:25.108Z"
   },
   {
    "duration": 37,
    "start_time": "2021-11-02T22:07:25.144Z"
   },
   {
    "duration": 6,
    "start_time": "2021-11-02T22:07:25.183Z"
   },
   {
    "duration": 24,
    "start_time": "2021-11-02T22:07:25.190Z"
   },
   {
    "duration": 12,
    "start_time": "2021-11-02T22:07:25.215Z"
   },
   {
    "duration": 19,
    "start_time": "2021-11-02T22:07:25.228Z"
   },
   {
    "duration": 18,
    "start_time": "2021-11-02T22:07:25.249Z"
   },
   {
    "duration": 34,
    "start_time": "2021-11-02T22:07:25.269Z"
   },
   {
    "duration": 19,
    "start_time": "2021-11-02T22:07:25.305Z"
   },
   {
    "duration": 11,
    "start_time": "2021-11-02T22:07:25.328Z"
   },
   {
    "duration": 28,
    "start_time": "2021-11-02T22:07:25.341Z"
   },
   {
    "duration": 18,
    "start_time": "2021-11-02T22:07:25.371Z"
   },
   {
    "duration": 17,
    "start_time": "2021-11-02T22:07:25.390Z"
   },
   {
    "duration": 34,
    "start_time": "2021-11-02T22:07:25.409Z"
   },
   {
    "duration": 37,
    "start_time": "2021-11-02T22:07:25.444Z"
   },
   {
    "duration": 11,
    "start_time": "2021-11-02T22:07:25.483Z"
   },
   {
    "duration": 62,
    "start_time": "2021-11-02T22:07:25.495Z"
   },
   {
    "duration": 28,
    "start_time": "2021-11-02T22:07:25.559Z"
   },
   {
    "duration": 19,
    "start_time": "2021-11-02T22:07:25.589Z"
   },
   {
    "duration": 39,
    "start_time": "2021-11-02T22:07:25.609Z"
   },
   {
    "duration": 18,
    "start_time": "2021-11-02T22:07:25.649Z"
   },
   {
    "duration": 33,
    "start_time": "2021-11-02T22:07:25.669Z"
   },
   {
    "duration": 297,
    "start_time": "2021-11-02T22:07:25.703Z"
   },
   {
    "duration": 22,
    "start_time": "2021-11-02T22:08:33.145Z"
   },
   {
    "duration": 37,
    "start_time": "2021-11-02T22:08:47.310Z"
   },
   {
    "duration": 53,
    "start_time": "2021-11-02T22:13:32.480Z"
   },
   {
    "duration": 40,
    "start_time": "2021-11-02T22:13:51.766Z"
   },
   {
    "duration": 54,
    "start_time": "2021-11-02T22:15:01.837Z"
   },
   {
    "duration": 7349,
    "start_time": "2021-11-02T22:20:25.754Z"
   },
   {
    "duration": 545,
    "start_time": "2021-11-02T22:21:26.928Z"
   },
   {
    "duration": 323,
    "start_time": "2021-11-02T22:21:54.575Z"
   },
   {
    "duration": 69,
    "start_time": "2021-11-02T22:22:21.094Z"
   },
   {
    "duration": 81,
    "start_time": "2021-11-02T22:22:36.374Z"
   },
   {
    "duration": 56,
    "start_time": "2021-11-02T22:23:11.311Z"
   },
   {
    "duration": 82,
    "start_time": "2021-11-02T22:23:14.078Z"
   },
   {
    "duration": 55,
    "start_time": "2021-11-02T22:23:30.406Z"
   },
   {
    "duration": 80,
    "start_time": "2021-11-02T22:23:38.158Z"
   },
   {
    "duration": 4,
    "start_time": "2021-11-02T22:24:16.276Z"
   },
   {
    "duration": -1494,
    "start_time": "2021-11-02T22:25:43.402Z"
   },
   {
    "duration": -1499,
    "start_time": "2021-11-02T22:25:43.409Z"
   },
   {
    "duration": 82,
    "start_time": "2021-11-02T22:25:57.707Z"
   },
   {
    "duration": 5,
    "start_time": "2021-11-02T22:26:01.818Z"
   },
   {
    "duration": 6782,
    "start_time": "2021-11-02T22:28:51.033Z"
   },
   {
    "duration": 6639,
    "start_time": "2021-11-02T22:29:02.273Z"
   },
   {
    "duration": 7,
    "start_time": "2021-11-02T22:29:16.697Z"
   },
   {
    "duration": 86,
    "start_time": "2021-11-02T22:34:45.800Z"
   },
   {
    "duration": 4,
    "start_time": "2021-11-02T22:34:52.724Z"
   },
   {
    "duration": 85,
    "start_time": "2021-11-02T22:35:10.828Z"
   },
   {
    "duration": 80,
    "start_time": "2021-11-02T22:35:24.870Z"
   },
   {
    "duration": 4,
    "start_time": "2021-11-02T22:35:59.291Z"
   },
   {
    "duration": 81,
    "start_time": "2021-11-02T22:39:43.106Z"
   },
   {
    "duration": 4,
    "start_time": "2021-11-02T22:40:57.223Z"
   },
   {
    "duration": 24,
    "start_time": "2021-11-02T22:41:54.310Z"
   },
   {
    "duration": 4,
    "start_time": "2021-11-02T22:42:12.846Z"
   },
   {
    "duration": 84,
    "start_time": "2021-11-02T22:42:55.496Z"
   },
   {
    "duration": 5,
    "start_time": "2021-11-02T22:43:41.413Z"
   },
   {
    "duration": 68,
    "start_time": "2021-11-02T22:48:04.588Z"
   },
   {
    "duration": 1070,
    "start_time": "2021-11-02T22:48:24.354Z"
   },
   {
    "duration": 1503,
    "start_time": "2021-11-02T22:48:36.034Z"
   },
   {
    "duration": 995,
    "start_time": "2021-11-02T22:48:48.753Z"
   },
   {
    "duration": 1228,
    "start_time": "2021-11-02T22:49:11.834Z"
   },
   {
    "duration": 1008,
    "start_time": "2021-11-02T22:50:25.881Z"
   },
   {
    "duration": 1113,
    "start_time": "2021-11-02T22:50:37.793Z"
   },
   {
    "duration": 1423,
    "start_time": "2021-11-02T22:51:45.279Z"
   },
   {
    "duration": 152,
    "start_time": "2021-11-02T22:51:48.452Z"
   },
   {
    "duration": 24,
    "start_time": "2021-11-02T22:51:48.606Z"
   },
   {
    "duration": 29,
    "start_time": "2021-11-02T22:51:48.632Z"
   },
   {
    "duration": 143,
    "start_time": "2021-11-02T22:51:48.664Z"
   },
   {
    "duration": 24,
    "start_time": "2021-11-02T22:51:48.809Z"
   },
   {
    "duration": 85,
    "start_time": "2021-11-02T22:51:48.835Z"
   },
   {
    "duration": 11,
    "start_time": "2021-11-02T22:51:48.922Z"
   },
   {
    "duration": 37,
    "start_time": "2021-11-02T22:51:48.935Z"
   },
   {
    "duration": 26,
    "start_time": "2021-11-02T22:51:48.974Z"
   },
   {
    "duration": 33,
    "start_time": "2021-11-02T22:51:49.002Z"
   },
   {
    "duration": 15,
    "start_time": "2021-11-02T22:51:49.037Z"
   },
   {
    "duration": 32,
    "start_time": "2021-11-02T22:51:49.053Z"
   },
   {
    "duration": 9,
    "start_time": "2021-11-02T22:51:49.086Z"
   },
   {
    "duration": 23,
    "start_time": "2021-11-02T22:51:49.096Z"
   },
   {
    "duration": 30,
    "start_time": "2021-11-02T22:51:49.121Z"
   },
   {
    "duration": 6,
    "start_time": "2021-11-02T22:51:49.152Z"
   },
   {
    "duration": 32,
    "start_time": "2021-11-02T22:51:49.159Z"
   },
   {
    "duration": 11,
    "start_time": "2021-11-02T22:51:49.192Z"
   },
   {
    "duration": 20,
    "start_time": "2021-11-02T22:51:49.204Z"
   },
   {
    "duration": 16,
    "start_time": "2021-11-02T22:51:49.226Z"
   },
   {
    "duration": 22,
    "start_time": "2021-11-02T22:51:49.244Z"
   },
   {
    "duration": 11,
    "start_time": "2021-11-02T22:51:49.268Z"
   },
   {
    "duration": 17,
    "start_time": "2021-11-02T22:51:49.282Z"
   },
   {
    "duration": 16,
    "start_time": "2021-11-02T22:51:49.301Z"
   },
   {
    "duration": 4,
    "start_time": "2021-11-02T22:51:49.319Z"
   },
   {
    "duration": 25,
    "start_time": "2021-11-02T22:51:49.325Z"
   },
   {
    "duration": 20,
    "start_time": "2021-11-02T22:51:49.351Z"
   },
   {
    "duration": 30,
    "start_time": "2021-11-02T22:51:49.373Z"
   },
   {
    "duration": 14,
    "start_time": "2021-11-02T22:51:49.405Z"
   },
   {
    "duration": 34,
    "start_time": "2021-11-02T22:51:49.421Z"
   },
   {
    "duration": 27,
    "start_time": "2021-11-02T22:51:49.457Z"
   },
   {
    "duration": 17,
    "start_time": "2021-11-02T22:51:49.486Z"
   },
   {
    "duration": 50,
    "start_time": "2021-11-02T22:51:49.505Z"
   },
   {
    "duration": 16,
    "start_time": "2021-11-02T22:51:49.556Z"
   },
   {
    "duration": 26,
    "start_time": "2021-11-02T22:51:49.574Z"
   },
   {
    "duration": 67,
    "start_time": "2021-11-02T22:51:49.602Z"
   },
   {
    "duration": 93,
    "start_time": "2021-11-02T22:51:49.671Z"
   },
   {
    "duration": 4,
    "start_time": "2021-11-02T22:51:49.766Z"
   },
   {
    "duration": 93,
    "start_time": "2021-11-02T22:51:49.772Z"
   },
   {
    "duration": 5,
    "start_time": "2021-11-02T22:51:49.866Z"
   },
   {
    "duration": 96,
    "start_time": "2021-11-02T22:51:49.872Z"
   },
   {
    "duration": 4,
    "start_time": "2021-11-02T22:51:49.970Z"
   },
   {
    "duration": 27,
    "start_time": "2021-11-02T22:51:49.975Z"
   },
   {
    "duration": 4,
    "start_time": "2021-11-02T22:51:50.004Z"
   },
   {
    "duration": 90,
    "start_time": "2021-11-02T22:51:50.009Z"
   },
   {
    "duration": 3,
    "start_time": "2021-11-02T22:53:01.854Z"
   },
   {
    "duration": 25,
    "start_time": "2021-11-02T22:53:07.230Z"
   },
   {
    "duration": 488,
    "start_time": "2021-11-03T10:24:33.091Z"
   },
   {
    "duration": 1061,
    "start_time": "2021-11-03T10:24:42.446Z"
   },
   {
    "duration": 59,
    "start_time": "2021-11-03T10:24:43.510Z"
   },
   {
    "duration": 36,
    "start_time": "2021-11-03T10:24:43.573Z"
   },
   {
    "duration": 218,
    "start_time": "2021-11-03T10:24:43.612Z"
   },
   {
    "duration": 58,
    "start_time": "2021-11-03T10:24:43.832Z"
   },
   {
    "duration": 130,
    "start_time": "2021-11-03T10:24:43.892Z"
   },
   {
    "duration": 18,
    "start_time": "2021-11-03T10:24:44.024Z"
   },
   {
    "duration": 1723,
    "start_time": "2021-11-03T10:24:44.045Z"
   },
   {
    "duration": 53,
    "start_time": "2021-11-03T10:24:45.773Z"
   },
   {
    "duration": 513,
    "start_time": "2021-11-03T10:24:45.829Z"
   },
   {
    "duration": 24,
    "start_time": "2021-11-03T10:24:46.345Z"
   },
   {
    "duration": 49,
    "start_time": "2021-11-03T10:24:46.375Z"
   },
   {
    "duration": 13,
    "start_time": "2021-11-03T10:24:46.426Z"
   },
   {
    "duration": 51,
    "start_time": "2021-11-03T10:24:46.441Z"
   },
   {
    "duration": 24,
    "start_time": "2021-11-03T10:24:46.494Z"
   },
   {
    "duration": 21,
    "start_time": "2021-11-03T10:24:46.521Z"
   },
   {
    "duration": 59,
    "start_time": "2021-11-03T10:24:46.545Z"
   },
   {
    "duration": 18,
    "start_time": "2021-11-03T10:24:46.606Z"
   },
   {
    "duration": 52,
    "start_time": "2021-11-03T10:24:46.627Z"
   },
   {
    "duration": 15,
    "start_time": "2021-11-03T10:24:46.683Z"
   },
   {
    "duration": 33,
    "start_time": "2021-11-03T10:24:46.700Z"
   },
   {
    "duration": 36,
    "start_time": "2021-11-03T10:24:46.735Z"
   },
   {
    "duration": 13,
    "start_time": "2021-11-03T10:24:46.778Z"
   },
   {
    "duration": 20,
    "start_time": "2021-11-03T10:24:46.794Z"
   },
   {
    "duration": 6,
    "start_time": "2021-11-03T10:24:46.816Z"
   },
   {
    "duration": 52,
    "start_time": "2021-11-03T10:24:46.825Z"
   },
   {
    "duration": 15,
    "start_time": "2021-11-03T10:24:46.880Z"
   },
   {
    "duration": 35,
    "start_time": "2021-11-03T10:24:46.898Z"
   },
   {
    "duration": 49,
    "start_time": "2021-11-03T10:24:46.935Z"
   },
   {
    "duration": 53,
    "start_time": "2021-11-03T10:24:46.986Z"
   },
   {
    "duration": 76,
    "start_time": "2021-11-03T10:24:47.042Z"
   },
   {
    "duration": 22,
    "start_time": "2021-11-03T10:24:47.120Z"
   },
   {
    "duration": 63,
    "start_time": "2021-11-03T10:24:47.145Z"
   },
   {
    "duration": 24,
    "start_time": "2021-11-03T10:24:47.210Z"
   },
   {
    "duration": 80,
    "start_time": "2021-11-03T10:24:47.236Z"
   },
   {
    "duration": 104,
    "start_time": "2021-11-03T10:24:47.319Z"
   },
   {
    "duration": 172,
    "start_time": "2021-11-03T10:24:47.425Z"
   },
   {
    "duration": 6,
    "start_time": "2021-11-03T10:24:47.600Z"
   },
   {
    "duration": 176,
    "start_time": "2021-11-03T10:24:47.608Z"
   },
   {
    "duration": 6,
    "start_time": "2021-11-03T10:24:47.787Z"
   },
   {
    "duration": 177,
    "start_time": "2021-11-03T10:24:47.795Z"
   },
   {
    "duration": 9,
    "start_time": "2021-11-03T10:24:47.975Z"
   },
   {
    "duration": 42,
    "start_time": "2021-11-03T10:24:47.986Z"
   },
   {
    "duration": 42,
    "start_time": "2021-11-03T10:24:48.031Z"
   },
   {
    "duration": 159,
    "start_time": "2021-11-03T10:24:48.076Z"
   },
   {
    "duration": 5,
    "start_time": "2021-11-03T10:24:48.237Z"
   },
   {
    "duration": 61,
    "start_time": "2021-11-03T10:24:48.246Z"
   },
   {
    "duration": 492,
    "start_time": "2021-11-03T10:24:48.309Z"
   },
   {
    "duration": 102,
    "start_time": "2021-11-03T10:26:39.539Z"
   },
   {
    "duration": 42,
    "start_time": "2021-11-03T10:26:55.006Z"
   },
   {
    "duration": 293,
    "start_time": "2021-11-03T10:30:52.964Z"
   },
   {
    "duration": 429,
    "start_time": "2021-11-03T10:32:26.834Z"
   },
   {
    "duration": 234,
    "start_time": "2021-11-03T10:32:39.716Z"
   },
   {
    "duration": 34,
    "start_time": "2021-11-03T10:33:54.923Z"
   },
   {
    "duration": 42,
    "start_time": "2021-11-03T10:45:25.195Z"
   },
   {
    "duration": 38,
    "start_time": "2021-11-03T10:54:07.708Z"
   },
   {
    "duration": 20,
    "start_time": "2021-11-03T11:01:41.511Z"
   },
   {
    "duration": 21,
    "start_time": "2021-11-03T11:02:47.237Z"
   },
   {
    "duration": 33,
    "start_time": "2021-11-03T11:03:58.436Z"
   },
   {
    "duration": 46,
    "start_time": "2021-11-03T11:42:41.509Z"
   },
   {
    "duration": 48,
    "start_time": "2021-11-03T11:43:02.620Z"
   },
   {
    "duration": 5905,
    "start_time": "2021-11-03T11:47:05.205Z"
   },
   {
    "duration": 335,
    "start_time": "2021-11-03T11:48:40.216Z"
   },
   {
    "duration": 3644,
    "start_time": "2021-11-03T11:49:04.935Z"
   },
   {
    "duration": 389,
    "start_time": "2021-11-03T11:49:11.751Z"
   },
   {
    "duration": 260,
    "start_time": "2021-11-03T11:49:15.996Z"
   },
   {
    "duration": 45,
    "start_time": "2021-11-03T11:49:16.259Z"
   },
   {
    "duration": 30,
    "start_time": "2021-11-03T11:49:16.307Z"
   },
   {
    "duration": 224,
    "start_time": "2021-11-03T11:49:16.340Z"
   },
   {
    "duration": 41,
    "start_time": "2021-11-03T11:49:16.571Z"
   },
   {
    "duration": 142,
    "start_time": "2021-11-03T11:49:16.614Z"
   },
   {
    "duration": 34,
    "start_time": "2021-11-03T11:49:16.759Z"
   },
   {
    "duration": 25,
    "start_time": "2021-11-03T11:49:16.797Z"
   },
   {
    "duration": 73,
    "start_time": "2021-11-03T11:49:16.825Z"
   },
   {
    "duration": 51,
    "start_time": "2021-11-03T11:49:16.901Z"
   },
   {
    "duration": 37,
    "start_time": "2021-11-03T11:49:16.954Z"
   },
   {
    "duration": 47,
    "start_time": "2021-11-03T11:49:16.994Z"
   },
   {
    "duration": 25,
    "start_time": "2021-11-03T11:49:17.044Z"
   },
   {
    "duration": 24,
    "start_time": "2021-11-03T11:49:17.073Z"
   },
   {
    "duration": 25,
    "start_time": "2021-11-03T11:49:17.100Z"
   },
   {
    "duration": 47,
    "start_time": "2021-11-03T11:49:17.128Z"
   },
   {
    "duration": 36,
    "start_time": "2021-11-03T11:49:17.179Z"
   },
   {
    "duration": 17,
    "start_time": "2021-11-03T11:49:17.218Z"
   },
   {
    "duration": 42,
    "start_time": "2021-11-03T11:49:17.237Z"
   },
   {
    "duration": 13,
    "start_time": "2021-11-03T11:49:17.282Z"
   },
   {
    "duration": 36,
    "start_time": "2021-11-03T11:49:17.298Z"
   },
   {
    "duration": 39,
    "start_time": "2021-11-03T11:49:17.337Z"
   },
   {
    "duration": 12,
    "start_time": "2021-11-03T11:49:17.385Z"
   },
   {
    "duration": 24,
    "start_time": "2021-11-03T11:49:17.401Z"
   },
   {
    "duration": 41,
    "start_time": "2021-11-03T11:49:17.427Z"
   },
   {
    "duration": 15,
    "start_time": "2021-11-03T11:49:17.470Z"
   },
   {
    "duration": 20,
    "start_time": "2021-11-03T11:49:17.488Z"
   },
   {
    "duration": 39,
    "start_time": "2021-11-03T11:49:17.511Z"
   },
   {
    "duration": 36,
    "start_time": "2021-11-03T11:49:17.552Z"
   },
   {
    "duration": 49,
    "start_time": "2021-11-03T11:49:17.591Z"
   },
   {
    "duration": 49,
    "start_time": "2021-11-03T11:49:17.669Z"
   },
   {
    "duration": 22,
    "start_time": "2021-11-03T11:49:17.720Z"
   },
   {
    "duration": 60,
    "start_time": "2021-11-03T11:49:17.745Z"
   },
   {
    "duration": 25,
    "start_time": "2021-11-03T11:49:17.807Z"
   },
   {
    "duration": 67,
    "start_time": "2021-11-03T11:49:17.834Z"
   },
   {
    "duration": 107,
    "start_time": "2021-11-03T11:49:17.903Z"
   },
   {
    "duration": 172,
    "start_time": "2021-11-03T11:49:18.013Z"
   },
   {
    "duration": 7,
    "start_time": "2021-11-03T11:49:18.187Z"
   },
   {
    "duration": 171,
    "start_time": "2021-11-03T11:49:18.196Z"
   },
   {
    "duration": 8,
    "start_time": "2021-11-03T11:49:18.370Z"
   },
   {
    "duration": 218,
    "start_time": "2021-11-03T11:49:18.381Z"
   },
   {
    "duration": 10,
    "start_time": "2021-11-03T11:49:18.602Z"
   },
   {
    "duration": 75,
    "start_time": "2021-11-03T11:49:18.615Z"
   },
   {
    "duration": 7,
    "start_time": "2021-11-03T11:49:18.692Z"
   },
   {
    "duration": 157,
    "start_time": "2021-11-03T11:49:18.701Z"
   },
   {
    "duration": 15,
    "start_time": "2021-11-03T11:49:18.860Z"
   },
   {
    "duration": 40,
    "start_time": "2021-11-03T11:49:18.879Z"
   },
   {
    "duration": 78,
    "start_time": "2021-11-03T11:49:18.922Z"
   },
   {
    "duration": 36,
    "start_time": "2021-11-03T11:49:19.002Z"
   },
   {
    "duration": 68,
    "start_time": "2021-11-03T11:49:19.040Z"
   },
   {
    "duration": 77,
    "start_time": "2021-11-03T11:49:19.110Z"
   },
   {
    "duration": 3732,
    "start_time": "2021-11-03T11:49:19.189Z"
   },
   {
    "duration": 425,
    "start_time": "2021-11-03T11:49:22.924Z"
   },
   {
    "duration": 102,
    "start_time": "2021-11-03T11:50:31.934Z"
   },
   {
    "duration": 319,
    "start_time": "2021-11-03T11:50:41.061Z"
   },
   {
    "duration": 4638,
    "start_time": "2021-11-03T11:51:19.277Z"
   },
   {
    "duration": 8,
    "start_time": "2021-11-03T11:51:25.701Z"
   },
   {
    "duration": 297,
    "start_time": "2021-11-03T11:51:33.661Z"
   },
   {
    "duration": 532,
    "start_time": "2021-11-03T11:54:14.947Z"
   },
   {
    "duration": 1074,
    "start_time": "2021-11-03T11:54:32.835Z"
   },
   {
    "duration": 723,
    "start_time": "2021-11-03T11:54:46.595Z"
   },
   {
    "duration": 811,
    "start_time": "2021-11-03T11:55:02.787Z"
   },
   {
    "duration": 716,
    "start_time": "2021-11-03T11:55:11.683Z"
   },
   {
    "duration": 738,
    "start_time": "2021-11-03T12:04:19.918Z"
   },
   {
    "duration": 807,
    "start_time": "2021-11-03T12:06:05.187Z"
   },
   {
    "duration": 813,
    "start_time": "2021-11-03T12:07:19.906Z"
   },
   {
    "duration": 802,
    "start_time": "2021-11-03T12:07:23.793Z"
   },
   {
    "duration": 550,
    "start_time": "2021-11-03T12:07:33.331Z"
   },
   {
    "duration": 557,
    "start_time": "2021-11-03T12:07:56.377Z"
   },
   {
    "duration": 614,
    "start_time": "2021-11-03T12:08:55.416Z"
   },
   {
    "duration": 316,
    "start_time": "2021-11-03T12:23:38.255Z"
   },
   {
    "duration": 271,
    "start_time": "2021-11-03T12:23:59.349Z"
   },
   {
    "duration": 395,
    "start_time": "2021-11-03T12:24:09.709Z"
   },
   {
    "duration": 8,
    "start_time": "2021-11-03T12:24:37.226Z"
   },
   {
    "duration": 14,
    "start_time": "2021-11-03T12:29:16.772Z"
   },
   {
    "duration": 12,
    "start_time": "2021-11-03T12:33:13.856Z"
   },
   {
    "duration": 10,
    "start_time": "2021-11-03T12:33:20.111Z"
   },
   {
    "duration": 11,
    "start_time": "2021-11-03T12:33:53.007Z"
   },
   {
    "duration": 295,
    "start_time": "2021-11-03T13:19:20.954Z"
   },
   {
    "duration": 17,
    "start_time": "2021-11-03T13:19:46.112Z"
   },
   {
    "duration": 17,
    "start_time": "2021-11-03T13:19:55.120Z"
   },
   {
    "duration": 13,
    "start_time": "2021-11-03T13:20:29.239Z"
   },
   {
    "duration": 584,
    "start_time": "2021-11-03T13:22:19.290Z"
   },
   {
    "duration": 234,
    "start_time": "2021-11-03T13:22:21.301Z"
   },
   {
    "duration": 54,
    "start_time": "2021-11-03T13:22:21.538Z"
   },
   {
    "duration": 28,
    "start_time": "2021-11-03T13:22:21.595Z"
   },
   {
    "duration": 200,
    "start_time": "2021-11-03T13:22:21.626Z"
   },
   {
    "duration": 50,
    "start_time": "2021-11-03T13:22:21.828Z"
   },
   {
    "duration": 128,
    "start_time": "2021-11-03T13:22:21.881Z"
   },
   {
    "duration": 19,
    "start_time": "2021-11-03T13:22:22.011Z"
   },
   {
    "duration": 37,
    "start_time": "2021-11-03T13:22:22.034Z"
   },
   {
    "duration": 45,
    "start_time": "2021-11-03T13:22:22.075Z"
   },
   {
    "duration": 53,
    "start_time": "2021-11-03T13:22:22.123Z"
   },
   {
    "duration": 30,
    "start_time": "2021-11-03T13:22:22.179Z"
   },
   {
    "duration": 88,
    "start_time": "2021-11-03T13:22:22.212Z"
   },
   {
    "duration": 20,
    "start_time": "2021-11-03T13:22:22.303Z"
   },
   {
    "duration": 49,
    "start_time": "2021-11-03T13:22:22.326Z"
   },
   {
    "duration": 28,
    "start_time": "2021-11-03T13:22:22.379Z"
   },
   {
    "duration": 8,
    "start_time": "2021-11-03T13:22:22.410Z"
   },
   {
    "duration": 57,
    "start_time": "2021-11-03T13:22:22.420Z"
   },
   {
    "duration": 18,
    "start_time": "2021-11-03T13:22:22.480Z"
   },
   {
    "duration": 20,
    "start_time": "2021-11-03T13:22:22.501Z"
   },
   {
    "duration": 15,
    "start_time": "2021-11-03T13:22:22.523Z"
   },
   {
    "duration": 26,
    "start_time": "2021-11-03T13:22:22.568Z"
   },
   {
    "duration": 14,
    "start_time": "2021-11-03T13:22:22.597Z"
   },
   {
    "duration": 12,
    "start_time": "2021-11-03T13:22:22.617Z"
   },
   {
    "duration": 19,
    "start_time": "2021-11-03T13:22:22.668Z"
   },
   {
    "duration": 10,
    "start_time": "2021-11-03T13:22:22.689Z"
   },
   {
    "duration": 15,
    "start_time": "2021-11-03T13:22:22.701Z"
   },
   {
    "duration": 18,
    "start_time": "2021-11-03T13:22:22.719Z"
   },
   {
    "duration": 54,
    "start_time": "2021-11-03T13:22:22.739Z"
   },
   {
    "duration": 25,
    "start_time": "2021-11-03T13:22:22.796Z"
   },
   {
    "duration": 73,
    "start_time": "2021-11-03T13:22:22.824Z"
   },
   {
    "duration": 46,
    "start_time": "2021-11-03T13:22:22.900Z"
   },
   {
    "duration": 23,
    "start_time": "2021-11-03T13:22:22.968Z"
   },
   {
    "duration": 35,
    "start_time": "2021-11-03T13:22:22.994Z"
   },
   {
    "duration": 51,
    "start_time": "2021-11-03T13:22:23.031Z"
   },
   {
    "duration": 46,
    "start_time": "2021-11-03T13:22:23.084Z"
   },
   {
    "duration": 167,
    "start_time": "2021-11-03T13:22:23.133Z"
   },
   {
    "duration": 242,
    "start_time": "2021-11-03T13:22:23.303Z"
   },
   {
    "duration": 6,
    "start_time": "2021-11-03T13:22:23.548Z"
   },
   {
    "duration": 246,
    "start_time": "2021-11-03T13:22:23.568Z"
   },
   {
    "duration": 8,
    "start_time": "2021-11-03T13:22:23.817Z"
   },
   {
    "duration": 251,
    "start_time": "2021-11-03T13:22:23.828Z"
   },
   {
    "duration": 7,
    "start_time": "2021-11-03T13:22:24.082Z"
   },
   {
    "duration": 43,
    "start_time": "2021-11-03T13:22:24.091Z"
   },
   {
    "duration": 31,
    "start_time": "2021-11-03T13:22:24.136Z"
   },
   {
    "duration": 131,
    "start_time": "2021-11-03T13:22:24.169Z"
   },
   {
    "duration": 5,
    "start_time": "2021-11-03T13:22:24.302Z"
   },
   {
    "duration": 41,
    "start_time": "2021-11-03T13:22:24.309Z"
   },
   {
    "duration": 10,
    "start_time": "2021-11-03T13:22:24.367Z"
   },
   {
    "duration": 35,
    "start_time": "2021-11-03T13:22:24.380Z"
   },
   {
    "duration": 11,
    "start_time": "2021-11-03T13:22:24.418Z"
   },
   {
    "duration": 47,
    "start_time": "2021-11-03T13:22:24.467Z"
   },
   {
    "duration": 3556,
    "start_time": "2021-11-03T13:22:24.516Z"
   },
   {
    "duration": 8,
    "start_time": "2021-11-03T13:22:28.075Z"
   },
   {
    "duration": 12,
    "start_time": "2021-11-03T13:22:28.086Z"
   },
   {
    "duration": 842,
    "start_time": "2021-11-03T13:22:28.100Z"
   },
   {
    "duration": 711,
    "start_time": "2021-11-03T13:22:28.945Z"
   },
   {
    "duration": 619,
    "start_time": "2021-11-03T13:22:29.659Z"
   },
   {
    "duration": 10,
    "start_time": "2021-11-03T13:22:30.281Z"
   },
   {
    "duration": 35,
    "start_time": "2021-11-03T13:22:30.293Z"
   },
   {
    "duration": 1021,
    "start_time": "2021-11-04T10:45:33.401Z"
   },
   {
    "duration": 46,
    "start_time": "2021-11-04T10:45:34.425Z"
   },
   {
    "duration": 53,
    "start_time": "2021-11-04T10:45:34.474Z"
   },
   {
    "duration": 191,
    "start_time": "2021-11-04T10:45:34.530Z"
   },
   {
    "duration": 38,
    "start_time": "2021-11-04T10:45:34.724Z"
   },
   {
    "duration": 141,
    "start_time": "2021-11-04T10:45:34.765Z"
   },
   {
    "duration": 26,
    "start_time": "2021-11-04T10:45:34.908Z"
   },
   {
    "duration": 29,
    "start_time": "2021-11-04T10:45:34.939Z"
   },
   {
    "duration": 68,
    "start_time": "2021-11-04T10:45:34.972Z"
   },
   {
    "duration": 42,
    "start_time": "2021-11-04T10:45:35.043Z"
   },
   {
    "duration": 34,
    "start_time": "2021-11-04T10:45:35.088Z"
   },
   {
    "duration": 52,
    "start_time": "2021-11-04T10:45:35.125Z"
   },
   {
    "duration": 14,
    "start_time": "2021-11-04T10:45:35.180Z"
   },
   {
    "duration": 42,
    "start_time": "2021-11-04T10:45:35.197Z"
   },
   {
    "duration": 24,
    "start_time": "2021-11-04T10:45:35.242Z"
   },
   {
    "duration": 7,
    "start_time": "2021-11-04T10:45:35.269Z"
   },
   {
    "duration": 67,
    "start_time": "2021-11-04T10:45:35.278Z"
   },
   {
    "duration": 17,
    "start_time": "2021-11-04T10:45:35.347Z"
   },
   {
    "duration": 20,
    "start_time": "2021-11-04T10:45:35.366Z"
   },
   {
    "duration": 43,
    "start_time": "2021-11-04T10:45:35.389Z"
   },
   {
    "duration": 28,
    "start_time": "2021-11-04T10:45:35.434Z"
   },
   {
    "duration": 13,
    "start_time": "2021-11-04T10:45:35.465Z"
   },
   {
    "duration": 40,
    "start_time": "2021-11-04T10:45:35.484Z"
   },
   {
    "duration": 25,
    "start_time": "2021-11-04T10:45:35.527Z"
   },
   {
    "duration": 19,
    "start_time": "2021-11-04T10:45:35.555Z"
   },
   {
    "duration": 11,
    "start_time": "2021-11-04T10:45:35.577Z"
   },
   {
    "duration": 32,
    "start_time": "2021-11-04T10:45:35.591Z"
   },
   {
    "duration": 37,
    "start_time": "2021-11-04T10:45:35.626Z"
   },
   {
    "duration": 19,
    "start_time": "2021-11-04T10:45:35.667Z"
   },
   {
    "duration": 83,
    "start_time": "2021-11-04T10:45:35.689Z"
   },
   {
    "duration": 72,
    "start_time": "2021-11-04T10:45:35.775Z"
   },
   {
    "duration": 20,
    "start_time": "2021-11-04T10:45:35.850Z"
   },
   {
    "duration": 63,
    "start_time": "2021-11-04T10:45:35.872Z"
   },
   {
    "duration": 24,
    "start_time": "2021-11-04T10:45:35.937Z"
   },
   {
    "duration": 70,
    "start_time": "2021-11-04T10:45:35.964Z"
   },
   {
    "duration": 95,
    "start_time": "2021-11-04T10:45:36.037Z"
   },
   {
    "duration": 156,
    "start_time": "2021-11-04T10:45:36.134Z"
   },
   {
    "duration": 5,
    "start_time": "2021-11-04T10:45:36.293Z"
   },
   {
    "duration": 161,
    "start_time": "2021-11-04T10:45:36.301Z"
   },
   {
    "duration": 7,
    "start_time": "2021-11-04T10:45:36.464Z"
   },
   {
    "duration": 173,
    "start_time": "2021-11-04T10:45:36.474Z"
   },
   {
    "duration": 6,
    "start_time": "2021-11-04T10:45:36.650Z"
   },
   {
    "duration": 66,
    "start_time": "2021-11-04T10:45:36.658Z"
   },
   {
    "duration": 6,
    "start_time": "2021-11-04T10:45:36.727Z"
   },
   {
    "duration": 125,
    "start_time": "2021-11-04T10:45:36.735Z"
   },
   {
    "duration": 4,
    "start_time": "2021-11-04T10:45:36.863Z"
   },
   {
    "duration": 58,
    "start_time": "2021-11-04T10:45:36.870Z"
   },
   {
    "duration": 12,
    "start_time": "2021-11-04T10:45:36.930Z"
   },
   {
    "duration": 36,
    "start_time": "2021-11-04T10:45:36.944Z"
   },
   {
    "duration": 42,
    "start_time": "2021-11-04T10:45:36.982Z"
   },
   {
    "duration": 49,
    "start_time": "2021-11-04T10:45:37.026Z"
   },
   {
    "duration": 5099,
    "start_time": "2021-11-04T10:45:37.078Z"
   },
   {
    "duration": 699,
    "start_time": "2021-11-04T10:45:42.180Z"
   },
   {
    "duration": 3,
    "start_time": "2021-11-04T10:45:42.882Z"
   },
   {
    "duration": 850,
    "start_time": "2021-11-04T10:45:42.887Z"
   },
   {
    "duration": 581,
    "start_time": "2021-11-04T10:45:43.740Z"
   },
   {
    "duration": 599,
    "start_time": "2021-11-04T10:45:44.323Z"
   },
   {
    "duration": 8,
    "start_time": "2021-11-04T10:45:44.924Z"
   },
   {
    "duration": 18,
    "start_time": "2021-11-04T10:45:44.935Z"
   },
   {
    "duration": 25,
    "start_time": "2021-11-04T10:49:47.369Z"
   },
   {
    "duration": 34,
    "start_time": "2021-11-04T10:50:09.319Z"
   },
   {
    "duration": 688,
    "start_time": "2021-11-04T10:51:10.711Z"
   },
   {
    "duration": 429,
    "start_time": "2021-11-04T12:44:17.509Z"
   },
   {
    "duration": 887,
    "start_time": "2021-11-04T12:44:27.931Z"
   },
   {
    "duration": 29,
    "start_time": "2021-11-04T12:44:29.153Z"
   },
   {
    "duration": 21,
    "start_time": "2021-11-04T12:44:29.969Z"
   },
   {
    "duration": 148,
    "start_time": "2021-11-04T12:44:30.625Z"
   },
   {
    "duration": 28,
    "start_time": "2021-11-04T12:44:31.874Z"
   },
   {
    "duration": 98,
    "start_time": "2021-11-04T12:44:33.153Z"
   },
   {
    "duration": 20,
    "start_time": "2021-11-04T12:44:35.505Z"
   },
   {
    "duration": 22,
    "start_time": "2021-11-04T12:44:36.024Z"
   },
   {
    "duration": 27,
    "start_time": "2021-11-04T12:44:36.528Z"
   },
   {
    "duration": 41,
    "start_time": "2021-11-04T12:44:37.153Z"
   },
   {
    "duration": 18,
    "start_time": "2021-11-04T12:44:37.913Z"
   },
   {
    "duration": 25,
    "start_time": "2021-11-04T12:44:39.137Z"
   },
   {
    "duration": 21,
    "start_time": "2021-11-04T12:45:05.841Z"
   },
   {
    "duration": 18,
    "start_time": "2021-11-04T12:45:18.177Z"
   },
   {
    "duration": 15,
    "start_time": "2021-11-04T12:45:39.080Z"
   },
   {
    "duration": 6,
    "start_time": "2021-11-04T12:45:52.968Z"
   },
   {
    "duration": 8,
    "start_time": "2021-11-04T12:46:17.408Z"
   },
   {
    "duration": 35,
    "start_time": "2021-11-04T12:50:09.358Z"
   },
   {
    "duration": 10,
    "start_time": "2021-11-04T12:50:13.341Z"
   },
   {
    "duration": 11,
    "start_time": "2021-11-04T12:51:07.149Z"
   },
   {
    "duration": 11,
    "start_time": "2021-11-04T12:51:10.468Z"
   },
   {
    "duration": 156,
    "start_time": "2021-11-04T12:52:34.499Z"
   },
   {
    "duration": 779,
    "start_time": "2021-11-04T13:35:16.862Z"
   },
   {
    "duration": 205,
    "start_time": "2021-11-04T13:35:21.921Z"
   },
   {
    "duration": 26,
    "start_time": "2021-11-04T13:35:22.128Z"
   },
   {
    "duration": 20,
    "start_time": "2021-11-04T13:35:22.156Z"
   },
   {
    "duration": 182,
    "start_time": "2021-11-04T13:35:22.178Z"
   },
   {
    "duration": 24,
    "start_time": "2021-11-04T13:35:22.361Z"
   },
   {
    "duration": 106,
    "start_time": "2021-11-04T13:35:22.387Z"
   },
   {
    "duration": 28,
    "start_time": "2021-11-04T13:35:22.495Z"
   },
   {
    "duration": 22,
    "start_time": "2021-11-04T13:35:22.526Z"
   },
   {
    "duration": 31,
    "start_time": "2021-11-04T13:35:22.551Z"
   },
   {
    "duration": 47,
    "start_time": "2021-11-04T13:35:22.584Z"
   },
   {
    "duration": 16,
    "start_time": "2021-11-04T13:35:22.633Z"
   },
   {
    "duration": 24,
    "start_time": "2021-11-04T13:35:22.651Z"
   },
   {
    "duration": 31,
    "start_time": "2021-11-04T13:35:22.676Z"
   },
   {
    "duration": 21,
    "start_time": "2021-11-04T13:35:22.710Z"
   },
   {
    "duration": 8,
    "start_time": "2021-11-04T13:35:22.733Z"
   },
   {
    "duration": 10,
    "start_time": "2021-11-04T13:35:22.743Z"
   },
   {
    "duration": 66,
    "start_time": "2021-11-04T13:35:22.755Z"
   },
   {
    "duration": 10,
    "start_time": "2021-11-04T13:35:22.823Z"
   },
   {
    "duration": 14,
    "start_time": "2021-11-04T13:35:22.835Z"
   },
   {
    "duration": 19,
    "start_time": "2021-11-04T13:35:22.851Z"
   },
   {
    "duration": 54,
    "start_time": "2021-11-04T13:35:22.872Z"
   },
   {
    "duration": 12,
    "start_time": "2021-11-04T13:35:22.928Z"
   },
   {
    "duration": 14,
    "start_time": "2021-11-04T13:35:22.945Z"
   },
   {
    "duration": 10,
    "start_time": "2021-11-04T13:35:22.962Z"
   },
   {
    "duration": 26,
    "start_time": "2021-11-04T13:35:23.008Z"
   },
   {
    "duration": 13,
    "start_time": "2021-11-04T13:35:23.036Z"
   },
   {
    "duration": 9,
    "start_time": "2021-11-04T13:35:23.051Z"
   },
   {
    "duration": 47,
    "start_time": "2021-11-04T13:35:23.062Z"
   },
   {
    "duration": 7,
    "start_time": "2021-11-04T13:35:23.111Z"
   },
   {
    "duration": 12,
    "start_time": "2021-11-04T13:35:23.120Z"
   },
   {
    "duration": 8,
    "start_time": "2021-11-04T13:35:23.134Z"
   },
   {
    "duration": 27,
    "start_time": "2021-11-04T13:35:23.144Z"
   },
   {
    "duration": 36,
    "start_time": "2021-11-04T13:35:23.173Z"
   },
   {
    "duration": 46,
    "start_time": "2021-11-04T13:35:23.211Z"
   },
   {
    "duration": 63,
    "start_time": "2021-11-04T13:35:23.259Z"
   },
   {
    "duration": 15,
    "start_time": "2021-11-04T13:35:23.324Z"
   },
   {
    "duration": 31,
    "start_time": "2021-11-04T13:35:23.341Z"
   },
   {
    "duration": 42,
    "start_time": "2021-11-04T13:35:23.374Z"
   },
   {
    "duration": 44,
    "start_time": "2021-11-04T13:35:23.419Z"
   },
   {
    "duration": 85,
    "start_time": "2021-11-04T13:35:23.466Z"
   },
   {
    "duration": 97,
    "start_time": "2021-11-04T13:35:23.553Z"
   },
   {
    "duration": 4,
    "start_time": "2021-11-04T13:35:23.652Z"
   },
   {
    "duration": 159,
    "start_time": "2021-11-04T13:35:23.658Z"
   },
   {
    "duration": 5,
    "start_time": "2021-11-04T13:35:23.819Z"
   },
   {
    "duration": 107,
    "start_time": "2021-11-04T13:35:23.826Z"
   },
   {
    "duration": 4,
    "start_time": "2021-11-04T13:35:23.936Z"
   },
   {
    "duration": 28,
    "start_time": "2021-11-04T13:35:23.942Z"
   },
   {
    "duration": 5,
    "start_time": "2021-11-04T13:35:23.972Z"
   },
   {
    "duration": 103,
    "start_time": "2021-11-04T13:35:23.979Z"
   },
   {
    "duration": 3,
    "start_time": "2021-11-04T13:35:24.084Z"
   },
   {
    "duration": 49,
    "start_time": "2021-11-04T13:35:24.089Z"
   },
   {
    "duration": 7,
    "start_time": "2021-11-04T13:35:24.140Z"
   },
   {
    "duration": 30,
    "start_time": "2021-11-04T13:35:24.148Z"
   },
   {
    "duration": 28,
    "start_time": "2021-11-04T13:35:24.179Z"
   },
   {
    "duration": 34,
    "start_time": "2021-11-04T13:35:24.211Z"
   },
   {
    "duration": 4256,
    "start_time": "2021-11-04T13:35:24.247Z"
   },
   {
    "duration": 157,
    "start_time": "2021-11-04T13:35:28.505Z"
   },
   {
    "duration": 3,
    "start_time": "2021-11-04T13:35:28.663Z"
   },
   {
    "duration": 558,
    "start_time": "2021-11-04T13:35:28.668Z"
   },
   {
    "duration": 390,
    "start_time": "2021-11-04T13:35:29.229Z"
   },
   {
    "duration": 418,
    "start_time": "2021-11-04T13:35:29.621Z"
   },
   {
    "duration": 7,
    "start_time": "2021-11-04T13:35:30.040Z"
   },
   {
    "duration": 22,
    "start_time": "2021-11-04T13:35:30.048Z"
   },
   {
    "duration": 12,
    "start_time": "2021-11-04T13:38:34.856Z"
   },
   {
    "duration": 40,
    "start_time": "2021-11-04T13:45:09.874Z"
   },
   {
    "duration": 11,
    "start_time": "2021-11-04T13:53:33.613Z"
   },
   {
    "duration": 8,
    "start_time": "2021-11-04T13:53:59.683Z"
   },
   {
    "duration": 127,
    "start_time": "2021-11-04T14:25:30.610Z"
   },
   {
    "duration": 15,
    "start_time": "2021-11-04T14:29:26.343Z"
   },
   {
    "duration": 8,
    "start_time": "2021-11-04T14:30:46.245Z"
   },
   {
    "duration": 102,
    "start_time": "2021-11-04T14:33:01.756Z"
   },
   {
    "duration": 41,
    "start_time": "2021-11-04T14:34:09.283Z"
   },
   {
    "duration": 32,
    "start_time": "2021-11-04T14:35:28.106Z"
   },
   {
    "duration": 1002,
    "start_time": "2021-11-04T18:06:12.483Z"
   },
   {
    "duration": 48,
    "start_time": "2021-11-04T18:06:13.487Z"
   },
   {
    "duration": 27,
    "start_time": "2021-11-04T18:06:13.538Z"
   },
   {
    "duration": 199,
    "start_time": "2021-11-04T18:06:13.569Z"
   },
   {
    "duration": 30,
    "start_time": "2021-11-04T18:06:13.771Z"
   },
   {
    "duration": 138,
    "start_time": "2021-11-04T18:06:13.803Z"
   },
   {
    "duration": 18,
    "start_time": "2021-11-04T18:06:13.943Z"
   },
   {
    "duration": 25,
    "start_time": "2021-11-04T18:06:13.965Z"
   },
   {
    "duration": 74,
    "start_time": "2021-11-04T18:06:13.992Z"
   },
   {
    "duration": 38,
    "start_time": "2021-11-04T18:06:14.068Z"
   },
   {
    "duration": 41,
    "start_time": "2021-11-04T18:06:14.108Z"
   },
   {
    "duration": 41,
    "start_time": "2021-11-04T18:06:14.152Z"
   },
   {
    "duration": 52,
    "start_time": "2021-11-04T18:06:14.195Z"
   },
   {
    "duration": 29,
    "start_time": "2021-11-04T18:06:14.250Z"
   },
   {
    "duration": 14,
    "start_time": "2021-11-04T18:06:14.281Z"
   },
   {
    "duration": 36,
    "start_time": "2021-11-04T18:06:14.297Z"
   },
   {
    "duration": 52,
    "start_time": "2021-11-04T18:06:14.336Z"
   },
   {
    "duration": 13,
    "start_time": "2021-11-04T18:06:14.390Z"
   },
   {
    "duration": 37,
    "start_time": "2021-11-04T18:06:14.405Z"
   },
   {
    "duration": 25,
    "start_time": "2021-11-04T18:06:14.444Z"
   },
   {
    "duration": 57,
    "start_time": "2021-11-04T18:06:14.472Z"
   },
   {
    "duration": 17,
    "start_time": "2021-11-04T18:06:14.532Z"
   },
   {
    "duration": 18,
    "start_time": "2021-11-04T18:06:14.555Z"
   },
   {
    "duration": 14,
    "start_time": "2021-11-04T18:06:14.577Z"
   },
   {
    "duration": 26,
    "start_time": "2021-11-04T18:06:14.630Z"
   },
   {
    "duration": 15,
    "start_time": "2021-11-04T18:06:14.659Z"
   },
   {
    "duration": 12,
    "start_time": "2021-11-04T18:06:14.676Z"
   },
   {
    "duration": 19,
    "start_time": "2021-11-04T18:06:14.730Z"
   },
   {
    "duration": 6,
    "start_time": "2021-11-04T18:06:14.752Z"
   },
   {
    "duration": 8,
    "start_time": "2021-11-04T18:06:14.760Z"
   },
   {
    "duration": 11,
    "start_time": "2021-11-04T18:06:14.770Z"
   },
   {
    "duration": 79,
    "start_time": "2021-11-04T18:06:14.784Z"
   },
   {
    "duration": 24,
    "start_time": "2021-11-04T18:06:14.866Z"
   },
   {
    "duration": 106,
    "start_time": "2021-11-04T18:06:14.893Z"
   },
   {
    "duration": 85,
    "start_time": "2021-11-04T18:06:15.002Z"
   },
   {
    "duration": 46,
    "start_time": "2021-11-04T18:06:15.091Z"
   },
   {
    "duration": 53,
    "start_time": "2021-11-04T18:06:15.139Z"
   },
   {
    "duration": 45,
    "start_time": "2021-11-04T18:06:15.195Z"
   },
   {
    "duration": 70,
    "start_time": "2021-11-04T18:06:15.243Z"
   },
   {
    "duration": 148,
    "start_time": "2021-11-04T18:06:15.317Z"
   },
   {
    "duration": 235,
    "start_time": "2021-11-04T18:06:15.468Z"
   },
   {
    "duration": 23,
    "start_time": "2021-11-04T18:06:15.706Z"
   },
   {
    "duration": 229,
    "start_time": "2021-11-04T18:06:15.732Z"
   },
   {
    "duration": 6,
    "start_time": "2021-11-04T18:06:15.963Z"
   },
   {
    "duration": 165,
    "start_time": "2021-11-04T18:06:15.971Z"
   },
   {
    "duration": 7,
    "start_time": "2021-11-04T18:06:16.139Z"
   },
   {
    "duration": 46,
    "start_time": "2021-11-04T18:06:16.149Z"
   },
   {
    "duration": 5,
    "start_time": "2021-11-04T18:06:16.198Z"
   },
   {
    "duration": 141,
    "start_time": "2021-11-04T18:06:16.205Z"
   },
   {
    "duration": 4,
    "start_time": "2021-11-04T18:06:16.349Z"
   },
   {
    "duration": 43,
    "start_time": "2021-11-04T18:06:16.355Z"
   },
   {
    "duration": 39,
    "start_time": "2021-11-04T18:06:16.401Z"
   },
   {
    "duration": 36,
    "start_time": "2021-11-04T18:06:16.443Z"
   },
   {
    "duration": 11,
    "start_time": "2021-11-04T18:06:16.482Z"
   },
   {
    "duration": 78,
    "start_time": "2021-11-04T18:06:16.495Z"
   },
   {
    "duration": 5490,
    "start_time": "2021-11-04T18:06:16.576Z"
   },
   {
    "duration": 729,
    "start_time": "2021-11-04T18:06:22.069Z"
   },
   {
    "duration": 3,
    "start_time": "2021-11-04T18:06:22.800Z"
   },
   {
    "duration": 846,
    "start_time": "2021-11-04T18:06:22.805Z"
   },
   {
    "duration": 685,
    "start_time": "2021-11-04T18:06:23.654Z"
   },
   {
    "duration": 660,
    "start_time": "2021-11-04T18:06:24.341Z"
   },
   {
    "duration": 26,
    "start_time": "2021-11-04T18:06:25.004Z"
   },
   {
    "duration": 10,
    "start_time": "2021-11-04T18:06:25.033Z"
   },
   {
    "duration": 11,
    "start_time": "2021-11-04T18:06:25.045Z"
   },
   {
    "duration": 19,
    "start_time": "2021-11-04T18:06:25.059Z"
   },
   {
    "duration": 61,
    "start_time": "2021-11-04T18:06:25.080Z"
   },
   {
    "duration": 9,
    "start_time": "2021-11-04T18:06:25.144Z"
   },
   {
    "duration": 42,
    "start_time": "2021-11-04T18:06:25.160Z"
   },
   {
    "duration": 1056,
    "start_time": "2021-11-04T19:45:35.814Z"
   },
   {
    "duration": 750,
    "start_time": "2021-11-04T19:45:39.302Z"
   },
   {
    "duration": 41,
    "start_time": "2021-11-04T19:45:40.055Z"
   },
   {
    "duration": 43,
    "start_time": "2021-11-04T19:45:40.099Z"
   },
   {
    "duration": 200,
    "start_time": "2021-11-04T19:45:40.145Z"
   },
   {
    "duration": 28,
    "start_time": "2021-11-04T19:45:40.348Z"
   },
   {
    "duration": 129,
    "start_time": "2021-11-04T19:45:40.378Z"
   },
   {
    "duration": 26,
    "start_time": "2021-11-04T19:45:40.509Z"
   },
   {
    "duration": 24,
    "start_time": "2021-11-04T19:45:40.539Z"
   },
   {
    "duration": 45,
    "start_time": "2021-11-04T19:45:40.565Z"
   },
   {
    "duration": 40,
    "start_time": "2021-11-04T19:45:40.612Z"
   },
   {
    "duration": 22,
    "start_time": "2021-11-04T19:45:40.654Z"
   },
   {
    "duration": 57,
    "start_time": "2021-11-04T19:45:40.678Z"
   },
   {
    "duration": 21,
    "start_time": "2021-11-04T19:45:40.737Z"
   },
   {
    "duration": 22,
    "start_time": "2021-11-04T19:45:40.760Z"
   },
   {
    "duration": 16,
    "start_time": "2021-11-04T19:45:40.785Z"
   },
   {
    "duration": 27,
    "start_time": "2021-11-04T19:45:40.803Z"
   },
   {
    "duration": 50,
    "start_time": "2021-11-04T19:45:40.832Z"
   },
   {
    "duration": 14,
    "start_time": "2021-11-04T19:45:40.884Z"
   },
   {
    "duration": 40,
    "start_time": "2021-11-04T19:45:40.900Z"
   },
   {
    "duration": 39,
    "start_time": "2021-11-04T19:45:40.942Z"
   },
   {
    "duration": 31,
    "start_time": "2021-11-04T19:45:40.983Z"
   },
   {
    "duration": 24,
    "start_time": "2021-11-04T19:45:41.017Z"
   },
   {
    "duration": 27,
    "start_time": "2021-11-04T19:45:41.047Z"
   },
   {
    "duration": 13,
    "start_time": "2021-11-04T19:45:41.077Z"
   },
   {
    "duration": 51,
    "start_time": "2021-11-04T19:45:41.093Z"
   },
   {
    "duration": 14,
    "start_time": "2021-11-04T19:45:41.146Z"
   },
   {
    "duration": 15,
    "start_time": "2021-11-04T19:45:41.162Z"
   },
   {
    "duration": 26,
    "start_time": "2021-11-04T19:45:41.179Z"
   },
   {
    "duration": 6,
    "start_time": "2021-11-04T19:45:41.230Z"
   },
   {
    "duration": 15,
    "start_time": "2021-11-04T19:45:41.238Z"
   },
   {
    "duration": 19,
    "start_time": "2021-11-04T19:45:41.256Z"
   },
   {
    "duration": 37,
    "start_time": "2021-11-04T19:45:41.278Z"
   },
   {
    "duration": 26,
    "start_time": "2021-11-04T19:45:41.317Z"
   },
   {
    "duration": 55,
    "start_time": "2021-11-04T19:45:41.346Z"
   },
   {
    "duration": 67,
    "start_time": "2021-11-04T19:45:41.403Z"
   },
   {
    "duration": 20,
    "start_time": "2021-11-04T19:45:41.473Z"
   },
   {
    "duration": 62,
    "start_time": "2021-11-04T19:45:41.496Z"
   },
   {
    "duration": 24,
    "start_time": "2021-11-04T19:45:41.561Z"
   },
   {
    "duration": 71,
    "start_time": "2021-11-04T19:45:41.587Z"
   },
   {
    "duration": 92,
    "start_time": "2021-11-04T19:45:41.660Z"
   },
   {
    "duration": 157,
    "start_time": "2021-11-04T19:45:41.754Z"
   },
   {
    "duration": 6,
    "start_time": "2021-11-04T19:45:41.913Z"
   },
   {
    "duration": 204,
    "start_time": "2021-11-04T19:45:41.930Z"
   },
   {
    "duration": 5,
    "start_time": "2021-11-04T19:45:42.137Z"
   },
   {
    "duration": 157,
    "start_time": "2021-11-04T19:45:42.144Z"
   },
   {
    "duration": 6,
    "start_time": "2021-11-04T19:45:42.303Z"
   },
   {
    "duration": 50,
    "start_time": "2021-11-04T19:45:42.311Z"
   },
   {
    "duration": 6,
    "start_time": "2021-11-04T19:45:42.363Z"
   },
   {
    "duration": 132,
    "start_time": "2021-11-04T19:45:42.372Z"
   },
   {
    "duration": 4,
    "start_time": "2021-11-04T19:45:42.507Z"
   },
   {
    "duration": 51,
    "start_time": "2021-11-04T19:45:42.513Z"
   },
   {
    "duration": 11,
    "start_time": "2021-11-04T19:45:42.566Z"
   },
   {
    "duration": 63,
    "start_time": "2021-11-04T19:45:42.579Z"
   },
   {
    "duration": 10,
    "start_time": "2021-11-04T19:45:42.644Z"
   },
   {
    "duration": 57,
    "start_time": "2021-11-04T19:45:42.656Z"
   },
   {
    "duration": 4380,
    "start_time": "2021-11-04T19:45:42.730Z"
   },
   {
    "duration": 190,
    "start_time": "2021-11-04T19:45:47.113Z"
   },
   {
    "duration": 4,
    "start_time": "2021-11-04T19:45:47.305Z"
   },
   {
    "duration": 833,
    "start_time": "2021-11-04T19:45:47.312Z"
   },
   {
    "duration": 568,
    "start_time": "2021-11-04T19:45:48.148Z"
   },
   {
    "duration": 668,
    "start_time": "2021-11-04T19:45:48.719Z"
   },
   {
    "duration": 12,
    "start_time": "2021-11-04T19:45:49.390Z"
   },
   {
    "duration": 39,
    "start_time": "2021-11-04T19:45:49.405Z"
   },
   {
    "duration": 27,
    "start_time": "2021-11-04T19:45:49.447Z"
   },
   {
    "duration": 35,
    "start_time": "2021-11-04T19:45:49.477Z"
   },
   {
    "duration": 37,
    "start_time": "2021-11-04T19:45:49.514Z"
   },
   {
    "duration": 19,
    "start_time": "2021-11-04T19:45:49.553Z"
   },
   {
    "duration": 44,
    "start_time": "2021-11-04T19:45:49.578Z"
   },
   {
    "duration": 17,
    "start_time": "2021-11-04T19:47:15.900Z"
   },
   {
    "duration": 8,
    "start_time": "2021-11-04T19:47:18.108Z"
   },
   {
    "duration": 747,
    "start_time": "2021-11-04T20:14:34.680Z"
   },
   {
    "duration": 35,
    "start_time": "2021-11-04T20:14:35.429Z"
   },
   {
    "duration": 20,
    "start_time": "2021-11-04T20:14:35.466Z"
   },
   {
    "duration": 148,
    "start_time": "2021-11-04T20:14:35.489Z"
   },
   {
    "duration": 31,
    "start_time": "2021-11-04T20:14:35.639Z"
   },
   {
    "duration": 134,
    "start_time": "2021-11-04T20:14:35.673Z"
   },
   {
    "duration": 13,
    "start_time": "2021-11-04T20:14:35.809Z"
   },
   {
    "duration": 27,
    "start_time": "2021-11-04T20:14:35.825Z"
   },
   {
    "duration": 31,
    "start_time": "2021-11-04T20:14:35.854Z"
   },
   {
    "duration": 39,
    "start_time": "2021-11-04T20:14:35.886Z"
   },
   {
    "duration": 20,
    "start_time": "2021-11-04T20:14:35.927Z"
   },
   {
    "duration": 36,
    "start_time": "2021-11-04T20:14:35.949Z"
   },
   {
    "duration": 22,
    "start_time": "2021-11-04T20:14:35.987Z"
   },
   {
    "duration": 14,
    "start_time": "2021-11-04T20:14:36.011Z"
   },
   {
    "duration": 7,
    "start_time": "2021-11-04T20:14:36.027Z"
   },
   {
    "duration": 12,
    "start_time": "2021-11-04T20:14:36.036Z"
   },
   {
    "duration": 36,
    "start_time": "2021-11-04T20:14:36.050Z"
   },
   {
    "duration": 10,
    "start_time": "2021-11-04T20:14:36.088Z"
   },
   {
    "duration": 19,
    "start_time": "2021-11-04T20:14:36.100Z"
   },
   {
    "duration": 33,
    "start_time": "2021-11-04T20:14:36.121Z"
   },
   {
    "duration": 23,
    "start_time": "2021-11-04T20:14:36.156Z"
   },
   {
    "duration": 10,
    "start_time": "2021-11-04T20:14:36.181Z"
   },
   {
    "duration": 14,
    "start_time": "2021-11-04T20:14:36.196Z"
   },
   {
    "duration": 36,
    "start_time": "2021-11-04T20:14:36.213Z"
   },
   {
    "duration": 21,
    "start_time": "2021-11-04T20:14:36.250Z"
   },
   {
    "duration": 11,
    "start_time": "2021-11-04T20:14:36.273Z"
   },
   {
    "duration": 7,
    "start_time": "2021-11-04T20:14:36.285Z"
   },
   {
    "duration": 16,
    "start_time": "2021-11-04T20:14:36.294Z"
   },
   {
    "duration": 33,
    "start_time": "2021-11-04T20:14:36.311Z"
   },
   {
    "duration": 5,
    "start_time": "2021-11-04T20:14:36.346Z"
   },
   {
    "duration": 9,
    "start_time": "2021-11-04T20:14:36.353Z"
   },
   {
    "duration": 26,
    "start_time": "2021-11-04T20:14:36.364Z"
   },
   {
    "duration": 12,
    "start_time": "2021-11-04T20:14:36.392Z"
   },
   {
    "duration": 60,
    "start_time": "2021-11-04T20:14:36.405Z"
   },
   {
    "duration": 37,
    "start_time": "2021-11-04T20:14:36.466Z"
   },
   {
    "duration": 16,
    "start_time": "2021-11-04T20:14:36.505Z"
   },
   {
    "duration": 49,
    "start_time": "2021-11-04T20:14:36.523Z"
   },
   {
    "duration": 18,
    "start_time": "2021-11-04T20:14:36.574Z"
   },
   {
    "duration": 52,
    "start_time": "2021-11-04T20:14:36.593Z"
   },
   {
    "duration": 56,
    "start_time": "2021-11-04T20:14:36.647Z"
   },
   {
    "duration": 101,
    "start_time": "2021-11-04T20:14:36.705Z"
   },
   {
    "duration": 4,
    "start_time": "2021-11-04T20:14:36.808Z"
   },
   {
    "duration": 97,
    "start_time": "2021-11-04T20:14:36.813Z"
   },
   {
    "duration": 5,
    "start_time": "2021-11-04T20:14:36.912Z"
   },
   {
    "duration": 98,
    "start_time": "2021-11-04T20:14:36.919Z"
   },
   {
    "duration": 4,
    "start_time": "2021-11-04T20:14:37.019Z"
   },
   {
    "duration": 39,
    "start_time": "2021-11-04T20:14:37.025Z"
   },
   {
    "duration": 4,
    "start_time": "2021-11-04T20:14:37.066Z"
   },
   {
    "duration": 84,
    "start_time": "2021-11-04T20:14:37.072Z"
   },
   {
    "duration": 4,
    "start_time": "2021-11-04T20:14:37.157Z"
   },
   {
    "duration": 25,
    "start_time": "2021-11-04T20:14:37.163Z"
   },
   {
    "duration": 7,
    "start_time": "2021-11-04T20:14:37.190Z"
   },
   {
    "duration": 23,
    "start_time": "2021-11-04T20:14:37.199Z"
   },
   {
    "duration": 8,
    "start_time": "2021-11-04T20:14:37.245Z"
   },
   {
    "duration": 35,
    "start_time": "2021-11-04T20:14:37.254Z"
   },
   {
    "duration": 3737,
    "start_time": "2021-11-04T20:14:37.291Z"
   },
   {
    "duration": 505,
    "start_time": "2021-11-04T20:14:41.030Z"
   },
   {
    "duration": 7,
    "start_time": "2021-11-04T20:14:41.537Z"
   },
   {
    "duration": 457,
    "start_time": "2021-11-04T20:14:41.546Z"
   },
   {
    "duration": 342,
    "start_time": "2021-11-04T20:14:42.004Z"
   },
   {
    "duration": 409,
    "start_time": "2021-11-04T20:14:42.348Z"
   },
   {
    "duration": 8,
    "start_time": "2021-11-04T20:14:42.759Z"
   },
   {
    "duration": 30,
    "start_time": "2021-11-04T20:14:42.768Z"
   },
   {
    "duration": 16,
    "start_time": "2021-11-04T20:14:42.800Z"
   },
   {
    "duration": 16,
    "start_time": "2021-11-04T20:14:42.818Z"
   },
   {
    "duration": 17,
    "start_time": "2021-11-04T20:14:42.836Z"
   },
   {
    "duration": 12,
    "start_time": "2021-11-04T20:14:42.855Z"
   },
   {
    "duration": 31,
    "start_time": "2021-11-04T20:14:42.872Z"
   },
   {
    "duration": 91,
    "start_time": "2021-11-04T20:14:42.905Z"
   },
   {
    "duration": 11,
    "start_time": "2021-11-04T20:14:58.775Z"
   },
   {
    "duration": 11,
    "start_time": "2021-11-04T20:15:02.156Z"
   }
  ],
  "kernelspec": {
   "display_name": "Python 3 (ipykernel)",
   "language": "python",
   "name": "python3"
  },
  "language_info": {
   "codemirror_mode": {
    "name": "ipython",
    "version": 3
   },
   "file_extension": ".py",
   "mimetype": "text/x-python",
   "name": "python",
   "nbconvert_exporter": "python",
   "pygments_lexer": "ipython3",
   "version": "3.9.7"
  },
  "toc": {
   "base_numbering": 1,
   "nav_menu": {},
   "number_sections": true,
   "sideBar": true,
   "skip_h1_title": true,
   "title_cell": "Table of Contents",
   "title_sidebar": "Contents",
   "toc_cell": false,
   "toc_position": {},
   "toc_section_display": true,
   "toc_window_display": false
  }
 },
 "nbformat": 4,
 "nbformat_minor": 2
}
