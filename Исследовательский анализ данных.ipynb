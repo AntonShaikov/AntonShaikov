{
 "cells": [
  {
   "cell_type": "markdown",
   "metadata": {
    "toc": true
   },
   "source": [
    "<h1>Содержание<span class=\"tocSkip\"></span></h1>\n",
    "<div class=\"toc\"><ul class=\"toc-item\"><li><span><a href=\"#Изучение-данных-из-файла\" data-toc-modified-id=\"Изучение-данных-из-файла-1\"><span class=\"toc-item-num\">1&nbsp;&nbsp;</span>Изучение данных из файла</a></span><ul class=\"toc-item\"><li><span><a href=\"#Вывод\" data-toc-modified-id=\"Вывод-1.1\"><span class=\"toc-item-num\">1.1&nbsp;&nbsp;</span>Вывод</a></span></li></ul></li><li><span><a href=\"#Предобработка-данных\" data-toc-modified-id=\"Предобработка-данных-2\"><span class=\"toc-item-num\">2&nbsp;&nbsp;</span>Предобработка данных</a></span></li><li><span><a href=\"#Расчёты-и-добавление-результатов-в-таблицу\" data-toc-modified-id=\"Расчёты-и-добавление-результатов-в-таблицу-3\"><span class=\"toc-item-num\">3&nbsp;&nbsp;</span>Расчёты и добавление результатов в таблицу</a></span></li><li><span><a href=\"#Исследовательский-анализ-данных\" data-toc-modified-id=\"Исследовательский-анализ-данных-4\"><span class=\"toc-item-num\">4&nbsp;&nbsp;</span>Исследовательский анализ данных</a></span></li><li><span><a href=\"#Общий-вывод\" data-toc-modified-id=\"Общий-вывод-5\"><span class=\"toc-item-num\">5&nbsp;&nbsp;</span>Общий вывод</a></span></li><li><span><a href=\"#Чек-лист-готовности-проекта\" data-toc-modified-id=\"Чек-лист-готовности-проекта-6\"><span class=\"toc-item-num\">6&nbsp;&nbsp;</span>Чек-лист готовности проекта</a></span></li></ul></div>"
   ]
  },
  {
   "cell_type": "markdown",
   "metadata": {},
   "source": [
    "# Исследование объявлений о продаже квартир\n",
    "\n",
    "В вашем распоряжении данные сервиса Яндекс.Недвижимость — архив объявлений о продаже квартир в Санкт-Петербурге и соседних населённых пунктах за несколько лет. Нужно научиться определять рыночную стоимость объектов недвижимости. Ваша задача — установить параметры. Это позволит построить автоматизированную систему: она отследит аномалии и мошенническую деятельность. \n",
    "\n",
    "По каждой квартире на продажу доступны два вида данных. Первые вписаны пользователем, вторые получены автоматически на основе картографических данных. Например, расстояние до центра, аэропорта, ближайшего парка и водоёма. "
   ]
  },
  {
   "cell_type": "markdown",
   "metadata": {},
   "source": [
    "## Изучение данных из файла"
   ]
  },
  {
   "cell_type": "code",
   "execution_count": 2,
   "metadata": {
    "scrolled": true
   },
   "outputs": [
    {
     "data": {
      "text/html": [
       "<div>\n",
       "<style scoped>\n",
       "    .dataframe tbody tr th:only-of-type {\n",
       "        vertical-align: middle;\n",
       "    }\n",
       "\n",
       "    .dataframe tbody tr th {\n",
       "        vertical-align: top;\n",
       "    }\n",
       "\n",
       "    .dataframe thead th {\n",
       "        text-align: right;\n",
       "    }\n",
       "</style>\n",
       "<table border=\"1\" class=\"dataframe\">\n",
       "  <thead>\n",
       "    <tr style=\"text-align: right;\">\n",
       "      <th></th>\n",
       "      <th>total_images</th>\n",
       "      <th>last_price</th>\n",
       "      <th>total_area</th>\n",
       "      <th>first_day_exposition</th>\n",
       "      <th>rooms</th>\n",
       "      <th>ceiling_height</th>\n",
       "      <th>floors_total</th>\n",
       "      <th>living_area</th>\n",
       "      <th>floor</th>\n",
       "      <th>is_apartment</th>\n",
       "      <th>...</th>\n",
       "      <th>kitchen_area</th>\n",
       "      <th>balcony</th>\n",
       "      <th>locality_name</th>\n",
       "      <th>airports_nearest</th>\n",
       "      <th>cityCenters_nearest</th>\n",
       "      <th>parks_around3000</th>\n",
       "      <th>parks_nearest</th>\n",
       "      <th>ponds_around3000</th>\n",
       "      <th>ponds_nearest</th>\n",
       "      <th>days_exposition</th>\n",
       "    </tr>\n",
       "  </thead>\n",
       "  <tbody>\n",
       "    <tr>\n",
       "      <td>0</td>\n",
       "      <td>20</td>\n",
       "      <td>13000000.00</td>\n",
       "      <td>108.00</td>\n",
       "      <td>2019-03-07T00:00:00</td>\n",
       "      <td>3</td>\n",
       "      <td>2.70</td>\n",
       "      <td>16.00</td>\n",
       "      <td>51.00</td>\n",
       "      <td>8</td>\n",
       "      <td>NaN</td>\n",
       "      <td>...</td>\n",
       "      <td>25.00</td>\n",
       "      <td>nan</td>\n",
       "      <td>Санкт-Петербург</td>\n",
       "      <td>18863.00</td>\n",
       "      <td>16028.00</td>\n",
       "      <td>1.00</td>\n",
       "      <td>482.00</td>\n",
       "      <td>2.00</td>\n",
       "      <td>755.00</td>\n",
       "      <td>nan</td>\n",
       "    </tr>\n",
       "    <tr>\n",
       "      <td>1</td>\n",
       "      <td>7</td>\n",
       "      <td>3350000.00</td>\n",
       "      <td>40.40</td>\n",
       "      <td>2018-12-04T00:00:00</td>\n",
       "      <td>1</td>\n",
       "      <td>nan</td>\n",
       "      <td>11.00</td>\n",
       "      <td>18.60</td>\n",
       "      <td>1</td>\n",
       "      <td>NaN</td>\n",
       "      <td>...</td>\n",
       "      <td>11.00</td>\n",
       "      <td>2.00</td>\n",
       "      <td>посёлок Шушары</td>\n",
       "      <td>12817.00</td>\n",
       "      <td>18603.00</td>\n",
       "      <td>0.00</td>\n",
       "      <td>nan</td>\n",
       "      <td>0.00</td>\n",
       "      <td>nan</td>\n",
       "      <td>81.00</td>\n",
       "    </tr>\n",
       "    <tr>\n",
       "      <td>2</td>\n",
       "      <td>10</td>\n",
       "      <td>5196000.00</td>\n",
       "      <td>56.00</td>\n",
       "      <td>2015-08-20T00:00:00</td>\n",
       "      <td>2</td>\n",
       "      <td>nan</td>\n",
       "      <td>5.00</td>\n",
       "      <td>34.30</td>\n",
       "      <td>4</td>\n",
       "      <td>NaN</td>\n",
       "      <td>...</td>\n",
       "      <td>8.30</td>\n",
       "      <td>0.00</td>\n",
       "      <td>Санкт-Петербург</td>\n",
       "      <td>21741.00</td>\n",
       "      <td>13933.00</td>\n",
       "      <td>1.00</td>\n",
       "      <td>90.00</td>\n",
       "      <td>2.00</td>\n",
       "      <td>574.00</td>\n",
       "      <td>558.00</td>\n",
       "    </tr>\n",
       "    <tr>\n",
       "      <td>3</td>\n",
       "      <td>0</td>\n",
       "      <td>64900000.00</td>\n",
       "      <td>159.00</td>\n",
       "      <td>2015-07-24T00:00:00</td>\n",
       "      <td>3</td>\n",
       "      <td>nan</td>\n",
       "      <td>14.00</td>\n",
       "      <td>nan</td>\n",
       "      <td>9</td>\n",
       "      <td>NaN</td>\n",
       "      <td>...</td>\n",
       "      <td>nan</td>\n",
       "      <td>0.00</td>\n",
       "      <td>Санкт-Петербург</td>\n",
       "      <td>28098.00</td>\n",
       "      <td>6800.00</td>\n",
       "      <td>2.00</td>\n",
       "      <td>84.00</td>\n",
       "      <td>3.00</td>\n",
       "      <td>234.00</td>\n",
       "      <td>424.00</td>\n",
       "    </tr>\n",
       "    <tr>\n",
       "      <td>4</td>\n",
       "      <td>2</td>\n",
       "      <td>10000000.00</td>\n",
       "      <td>100.00</td>\n",
       "      <td>2018-06-19T00:00:00</td>\n",
       "      <td>2</td>\n",
       "      <td>3.03</td>\n",
       "      <td>14.00</td>\n",
       "      <td>32.00</td>\n",
       "      <td>13</td>\n",
       "      <td>NaN</td>\n",
       "      <td>...</td>\n",
       "      <td>41.00</td>\n",
       "      <td>nan</td>\n",
       "      <td>Санкт-Петербург</td>\n",
       "      <td>31856.00</td>\n",
       "      <td>8098.00</td>\n",
       "      <td>2.00</td>\n",
       "      <td>112.00</td>\n",
       "      <td>1.00</td>\n",
       "      <td>48.00</td>\n",
       "      <td>121.00</td>\n",
       "    </tr>\n",
       "    <tr>\n",
       "      <td>5</td>\n",
       "      <td>10</td>\n",
       "      <td>2890000.00</td>\n",
       "      <td>30.40</td>\n",
       "      <td>2018-09-10T00:00:00</td>\n",
       "      <td>1</td>\n",
       "      <td>nan</td>\n",
       "      <td>12.00</td>\n",
       "      <td>14.40</td>\n",
       "      <td>5</td>\n",
       "      <td>NaN</td>\n",
       "      <td>...</td>\n",
       "      <td>9.10</td>\n",
       "      <td>nan</td>\n",
       "      <td>городской посёлок Янино-1</td>\n",
       "      <td>nan</td>\n",
       "      <td>nan</td>\n",
       "      <td>nan</td>\n",
       "      <td>nan</td>\n",
       "      <td>nan</td>\n",
       "      <td>nan</td>\n",
       "      <td>55.00</td>\n",
       "    </tr>\n",
       "    <tr>\n",
       "      <td>6</td>\n",
       "      <td>6</td>\n",
       "      <td>3700000.00</td>\n",
       "      <td>37.30</td>\n",
       "      <td>2017-11-02T00:00:00</td>\n",
       "      <td>1</td>\n",
       "      <td>nan</td>\n",
       "      <td>26.00</td>\n",
       "      <td>10.60</td>\n",
       "      <td>6</td>\n",
       "      <td>NaN</td>\n",
       "      <td>...</td>\n",
       "      <td>14.40</td>\n",
       "      <td>1.00</td>\n",
       "      <td>посёлок Парголово</td>\n",
       "      <td>52996.00</td>\n",
       "      <td>19143.00</td>\n",
       "      <td>0.00</td>\n",
       "      <td>nan</td>\n",
       "      <td>0.00</td>\n",
       "      <td>nan</td>\n",
       "      <td>155.00</td>\n",
       "    </tr>\n",
       "    <tr>\n",
       "      <td>7</td>\n",
       "      <td>5</td>\n",
       "      <td>7915000.00</td>\n",
       "      <td>71.60</td>\n",
       "      <td>2019-04-18T00:00:00</td>\n",
       "      <td>2</td>\n",
       "      <td>nan</td>\n",
       "      <td>24.00</td>\n",
       "      <td>nan</td>\n",
       "      <td>22</td>\n",
       "      <td>NaN</td>\n",
       "      <td>...</td>\n",
       "      <td>18.90</td>\n",
       "      <td>2.00</td>\n",
       "      <td>Санкт-Петербург</td>\n",
       "      <td>23982.00</td>\n",
       "      <td>11634.00</td>\n",
       "      <td>0.00</td>\n",
       "      <td>nan</td>\n",
       "      <td>0.00</td>\n",
       "      <td>nan</td>\n",
       "      <td>nan</td>\n",
       "    </tr>\n",
       "    <tr>\n",
       "      <td>8</td>\n",
       "      <td>20</td>\n",
       "      <td>2900000.00</td>\n",
       "      <td>33.16</td>\n",
       "      <td>2018-05-23T00:00:00</td>\n",
       "      <td>1</td>\n",
       "      <td>nan</td>\n",
       "      <td>27.00</td>\n",
       "      <td>15.43</td>\n",
       "      <td>26</td>\n",
       "      <td>NaN</td>\n",
       "      <td>...</td>\n",
       "      <td>8.81</td>\n",
       "      <td>nan</td>\n",
       "      <td>посёлок Мурино</td>\n",
       "      <td>nan</td>\n",
       "      <td>nan</td>\n",
       "      <td>nan</td>\n",
       "      <td>nan</td>\n",
       "      <td>nan</td>\n",
       "      <td>nan</td>\n",
       "      <td>189.00</td>\n",
       "    </tr>\n",
       "    <tr>\n",
       "      <td>9</td>\n",
       "      <td>18</td>\n",
       "      <td>5400000.00</td>\n",
       "      <td>61.00</td>\n",
       "      <td>2017-02-26T00:00:00</td>\n",
       "      <td>3</td>\n",
       "      <td>2.50</td>\n",
       "      <td>9.00</td>\n",
       "      <td>43.60</td>\n",
       "      <td>7</td>\n",
       "      <td>NaN</td>\n",
       "      <td>...</td>\n",
       "      <td>6.50</td>\n",
       "      <td>2.00</td>\n",
       "      <td>Санкт-Петербург</td>\n",
       "      <td>50898.00</td>\n",
       "      <td>15008.00</td>\n",
       "      <td>0.00</td>\n",
       "      <td>nan</td>\n",
       "      <td>0.00</td>\n",
       "      <td>nan</td>\n",
       "      <td>289.00</td>\n",
       "    </tr>\n",
       "    <tr>\n",
       "      <td>10</td>\n",
       "      <td>5</td>\n",
       "      <td>5050000.00</td>\n",
       "      <td>39.60</td>\n",
       "      <td>2017-11-16T00:00:00</td>\n",
       "      <td>1</td>\n",
       "      <td>2.67</td>\n",
       "      <td>12.00</td>\n",
       "      <td>20.30</td>\n",
       "      <td>3</td>\n",
       "      <td>NaN</td>\n",
       "      <td>...</td>\n",
       "      <td>8.50</td>\n",
       "      <td>nan</td>\n",
       "      <td>Санкт-Петербург</td>\n",
       "      <td>38357.00</td>\n",
       "      <td>13878.00</td>\n",
       "      <td>1.00</td>\n",
       "      <td>310.00</td>\n",
       "      <td>2.00</td>\n",
       "      <td>553.00</td>\n",
       "      <td>137.00</td>\n",
       "    </tr>\n",
       "    <tr>\n",
       "      <td>11</td>\n",
       "      <td>9</td>\n",
       "      <td>3300000.00</td>\n",
       "      <td>44.00</td>\n",
       "      <td>2018-08-27T00:00:00</td>\n",
       "      <td>2</td>\n",
       "      <td>nan</td>\n",
       "      <td>5.00</td>\n",
       "      <td>31.00</td>\n",
       "      <td>4</td>\n",
       "      <td>False</td>\n",
       "      <td>...</td>\n",
       "      <td>6.00</td>\n",
       "      <td>1.00</td>\n",
       "      <td>Ломоносов</td>\n",
       "      <td>48252.00</td>\n",
       "      <td>51677.00</td>\n",
       "      <td>0.00</td>\n",
       "      <td>nan</td>\n",
       "      <td>0.00</td>\n",
       "      <td>nan</td>\n",
       "      <td>7.00</td>\n",
       "    </tr>\n",
       "    <tr>\n",
       "      <td>12</td>\n",
       "      <td>10</td>\n",
       "      <td>3890000.00</td>\n",
       "      <td>54.00</td>\n",
       "      <td>2016-06-30T00:00:00</td>\n",
       "      <td>2</td>\n",
       "      <td>nan</td>\n",
       "      <td>5.00</td>\n",
       "      <td>30.00</td>\n",
       "      <td>5</td>\n",
       "      <td>NaN</td>\n",
       "      <td>...</td>\n",
       "      <td>9.00</td>\n",
       "      <td>0.00</td>\n",
       "      <td>Сертолово</td>\n",
       "      <td>nan</td>\n",
       "      <td>nan</td>\n",
       "      <td>nan</td>\n",
       "      <td>nan</td>\n",
       "      <td>nan</td>\n",
       "      <td>nan</td>\n",
       "      <td>90.00</td>\n",
       "    </tr>\n",
       "    <tr>\n",
       "      <td>13</td>\n",
       "      <td>20</td>\n",
       "      <td>3550000.00</td>\n",
       "      <td>42.80</td>\n",
       "      <td>2017-07-01T00:00:00</td>\n",
       "      <td>2</td>\n",
       "      <td>2.56</td>\n",
       "      <td>5.00</td>\n",
       "      <td>27.00</td>\n",
       "      <td>5</td>\n",
       "      <td>NaN</td>\n",
       "      <td>...</td>\n",
       "      <td>5.20</td>\n",
       "      <td>1.00</td>\n",
       "      <td>Петергоф</td>\n",
       "      <td>37868.00</td>\n",
       "      <td>33058.00</td>\n",
       "      <td>1.00</td>\n",
       "      <td>294.00</td>\n",
       "      <td>3.00</td>\n",
       "      <td>298.00</td>\n",
       "      <td>366.00</td>\n",
       "    </tr>\n",
       "    <tr>\n",
       "      <td>14</td>\n",
       "      <td>1</td>\n",
       "      <td>4400000.00</td>\n",
       "      <td>36.00</td>\n",
       "      <td>2016-06-23T00:00:00</td>\n",
       "      <td>1</td>\n",
       "      <td>nan</td>\n",
       "      <td>6.00</td>\n",
       "      <td>17.00</td>\n",
       "      <td>1</td>\n",
       "      <td>NaN</td>\n",
       "      <td>...</td>\n",
       "      <td>8.00</td>\n",
       "      <td>0.00</td>\n",
       "      <td>Пушкин</td>\n",
       "      <td>20782.00</td>\n",
       "      <td>30759.00</td>\n",
       "      <td>0.00</td>\n",
       "      <td>nan</td>\n",
       "      <td>1.00</td>\n",
       "      <td>96.00</td>\n",
       "      <td>203.00</td>\n",
       "    </tr>\n",
       "    <tr>\n",
       "      <td>15</td>\n",
       "      <td>16</td>\n",
       "      <td>4650000.00</td>\n",
       "      <td>39.00</td>\n",
       "      <td>2017-11-18T00:00:00</td>\n",
       "      <td>1</td>\n",
       "      <td>nan</td>\n",
       "      <td>14.00</td>\n",
       "      <td>20.50</td>\n",
       "      <td>5</td>\n",
       "      <td>NaN</td>\n",
       "      <td>...</td>\n",
       "      <td>7.60</td>\n",
       "      <td>1.00</td>\n",
       "      <td>Санкт-Петербург</td>\n",
       "      <td>12900.00</td>\n",
       "      <td>14259.00</td>\n",
       "      <td>1.00</td>\n",
       "      <td>590.00</td>\n",
       "      <td>1.00</td>\n",
       "      <td>296.00</td>\n",
       "      <td>19.00</td>\n",
       "    </tr>\n",
       "    <tr>\n",
       "      <td>16</td>\n",
       "      <td>11</td>\n",
       "      <td>6700000.00</td>\n",
       "      <td>82.00</td>\n",
       "      <td>2017-11-23T00:00:00</td>\n",
       "      <td>3</td>\n",
       "      <td>3.05</td>\n",
       "      <td>5.00</td>\n",
       "      <td>55.60</td>\n",
       "      <td>1</td>\n",
       "      <td>NaN</td>\n",
       "      <td>...</td>\n",
       "      <td>9.00</td>\n",
       "      <td>nan</td>\n",
       "      <td>Санкт-Петербург</td>\n",
       "      <td>22108.00</td>\n",
       "      <td>10698.00</td>\n",
       "      <td>3.00</td>\n",
       "      <td>420.00</td>\n",
       "      <td>0.00</td>\n",
       "      <td>nan</td>\n",
       "      <td>397.00</td>\n",
       "    </tr>\n",
       "    <tr>\n",
       "      <td>17</td>\n",
       "      <td>6</td>\n",
       "      <td>4180000.00</td>\n",
       "      <td>36.00</td>\n",
       "      <td>2016-09-09T00:00:00</td>\n",
       "      <td>1</td>\n",
       "      <td>nan</td>\n",
       "      <td>17.00</td>\n",
       "      <td>16.50</td>\n",
       "      <td>7</td>\n",
       "      <td>NaN</td>\n",
       "      <td>...</td>\n",
       "      <td>11.00</td>\n",
       "      <td>1.00</td>\n",
       "      <td>Санкт-Петербург</td>\n",
       "      <td>33564.00</td>\n",
       "      <td>14616.00</td>\n",
       "      <td>0.00</td>\n",
       "      <td>nan</td>\n",
       "      <td>1.00</td>\n",
       "      <td>859.00</td>\n",
       "      <td>571.00</td>\n",
       "    </tr>\n",
       "    <tr>\n",
       "      <td>18</td>\n",
       "      <td>8</td>\n",
       "      <td>3250000.00</td>\n",
       "      <td>31.00</td>\n",
       "      <td>2017-01-27T00:00:00</td>\n",
       "      <td>1</td>\n",
       "      <td>2.50</td>\n",
       "      <td>5.00</td>\n",
       "      <td>19.40</td>\n",
       "      <td>2</td>\n",
       "      <td>NaN</td>\n",
       "      <td>...</td>\n",
       "      <td>5.60</td>\n",
       "      <td>1.00</td>\n",
       "      <td>Санкт-Петербург</td>\n",
       "      <td>44060.00</td>\n",
       "      <td>10842.00</td>\n",
       "      <td>1.00</td>\n",
       "      <td>759.00</td>\n",
       "      <td>0.00</td>\n",
       "      <td>nan</td>\n",
       "      <td>168.00</td>\n",
       "    </tr>\n",
       "    <tr>\n",
       "      <td>19</td>\n",
       "      <td>16</td>\n",
       "      <td>14200000.00</td>\n",
       "      <td>121.00</td>\n",
       "      <td>2019-01-09T00:00:00</td>\n",
       "      <td>3</td>\n",
       "      <td>2.75</td>\n",
       "      <td>16.00</td>\n",
       "      <td>76.00</td>\n",
       "      <td>8</td>\n",
       "      <td>NaN</td>\n",
       "      <td>...</td>\n",
       "      <td>12.00</td>\n",
       "      <td>nan</td>\n",
       "      <td>Санкт-Петербург</td>\n",
       "      <td>38900.00</td>\n",
       "      <td>12843.00</td>\n",
       "      <td>0.00</td>\n",
       "      <td>nan</td>\n",
       "      <td>0.00</td>\n",
       "      <td>nan</td>\n",
       "      <td>97.00</td>\n",
       "    </tr>\n",
       "  </tbody>\n",
       "</table>\n",
       "<p>20 rows × 22 columns</p>\n",
       "</div>"
      ],
      "text/plain": [
       "    total_images  last_price  total_area first_day_exposition  rooms  \\\n",
       "0             20 13000000.00      108.00  2019-03-07T00:00:00      3   \n",
       "1              7  3350000.00       40.40  2018-12-04T00:00:00      1   \n",
       "2             10  5196000.00       56.00  2015-08-20T00:00:00      2   \n",
       "3              0 64900000.00      159.00  2015-07-24T00:00:00      3   \n",
       "4              2 10000000.00      100.00  2018-06-19T00:00:00      2   \n",
       "5             10  2890000.00       30.40  2018-09-10T00:00:00      1   \n",
       "6              6  3700000.00       37.30  2017-11-02T00:00:00      1   \n",
       "7              5  7915000.00       71.60  2019-04-18T00:00:00      2   \n",
       "8             20  2900000.00       33.16  2018-05-23T00:00:00      1   \n",
       "9             18  5400000.00       61.00  2017-02-26T00:00:00      3   \n",
       "10             5  5050000.00       39.60  2017-11-16T00:00:00      1   \n",
       "11             9  3300000.00       44.00  2018-08-27T00:00:00      2   \n",
       "12            10  3890000.00       54.00  2016-06-30T00:00:00      2   \n",
       "13            20  3550000.00       42.80  2017-07-01T00:00:00      2   \n",
       "14             1  4400000.00       36.00  2016-06-23T00:00:00      1   \n",
       "15            16  4650000.00       39.00  2017-11-18T00:00:00      1   \n",
       "16            11  6700000.00       82.00  2017-11-23T00:00:00      3   \n",
       "17             6  4180000.00       36.00  2016-09-09T00:00:00      1   \n",
       "18             8  3250000.00       31.00  2017-01-27T00:00:00      1   \n",
       "19            16 14200000.00      121.00  2019-01-09T00:00:00      3   \n",
       "\n",
       "    ceiling_height  floors_total  living_area  floor is_apartment  ...  \\\n",
       "0             2.70         16.00        51.00      8          NaN  ...   \n",
       "1              nan         11.00        18.60      1          NaN  ...   \n",
       "2              nan          5.00        34.30      4          NaN  ...   \n",
       "3              nan         14.00          nan      9          NaN  ...   \n",
       "4             3.03         14.00        32.00     13          NaN  ...   \n",
       "5              nan         12.00        14.40      5          NaN  ...   \n",
       "6              nan         26.00        10.60      6          NaN  ...   \n",
       "7              nan         24.00          nan     22          NaN  ...   \n",
       "8              nan         27.00        15.43     26          NaN  ...   \n",
       "9             2.50          9.00        43.60      7          NaN  ...   \n",
       "10            2.67         12.00        20.30      3          NaN  ...   \n",
       "11             nan          5.00        31.00      4        False  ...   \n",
       "12             nan          5.00        30.00      5          NaN  ...   \n",
       "13            2.56          5.00        27.00      5          NaN  ...   \n",
       "14             nan          6.00        17.00      1          NaN  ...   \n",
       "15             nan         14.00        20.50      5          NaN  ...   \n",
       "16            3.05          5.00        55.60      1          NaN  ...   \n",
       "17             nan         17.00        16.50      7          NaN  ...   \n",
       "18            2.50          5.00        19.40      2          NaN  ...   \n",
       "19            2.75         16.00        76.00      8          NaN  ...   \n",
       "\n",
       "    kitchen_area  balcony              locality_name  airports_nearest  \\\n",
       "0          25.00      nan            Санкт-Петербург          18863.00   \n",
       "1          11.00     2.00             посёлок Шушары          12817.00   \n",
       "2           8.30     0.00            Санкт-Петербург          21741.00   \n",
       "3            nan     0.00            Санкт-Петербург          28098.00   \n",
       "4          41.00      nan            Санкт-Петербург          31856.00   \n",
       "5           9.10      nan  городской посёлок Янино-1               nan   \n",
       "6          14.40     1.00          посёлок Парголово          52996.00   \n",
       "7          18.90     2.00            Санкт-Петербург          23982.00   \n",
       "8           8.81      nan             посёлок Мурино               nan   \n",
       "9           6.50     2.00            Санкт-Петербург          50898.00   \n",
       "10          8.50      nan            Санкт-Петербург          38357.00   \n",
       "11          6.00     1.00                  Ломоносов          48252.00   \n",
       "12          9.00     0.00                  Сертолово               nan   \n",
       "13          5.20     1.00                   Петергоф          37868.00   \n",
       "14          8.00     0.00                     Пушкин          20782.00   \n",
       "15          7.60     1.00            Санкт-Петербург          12900.00   \n",
       "16          9.00      nan            Санкт-Петербург          22108.00   \n",
       "17         11.00     1.00            Санкт-Петербург          33564.00   \n",
       "18          5.60     1.00            Санкт-Петербург          44060.00   \n",
       "19         12.00      nan            Санкт-Петербург          38900.00   \n",
       "\n",
       "   cityCenters_nearest  parks_around3000  parks_nearest  ponds_around3000  \\\n",
       "0             16028.00              1.00         482.00              2.00   \n",
       "1             18603.00              0.00            nan              0.00   \n",
       "2             13933.00              1.00          90.00              2.00   \n",
       "3              6800.00              2.00          84.00              3.00   \n",
       "4              8098.00              2.00         112.00              1.00   \n",
       "5                  nan               nan            nan               nan   \n",
       "6             19143.00              0.00            nan              0.00   \n",
       "7             11634.00              0.00            nan              0.00   \n",
       "8                  nan               nan            nan               nan   \n",
       "9             15008.00              0.00            nan              0.00   \n",
       "10            13878.00              1.00         310.00              2.00   \n",
       "11            51677.00              0.00            nan              0.00   \n",
       "12                 nan               nan            nan               nan   \n",
       "13            33058.00              1.00         294.00              3.00   \n",
       "14            30759.00              0.00            nan              1.00   \n",
       "15            14259.00              1.00         590.00              1.00   \n",
       "16            10698.00              3.00         420.00              0.00   \n",
       "17            14616.00              0.00            nan              1.00   \n",
       "18            10842.00              1.00         759.00              0.00   \n",
       "19            12843.00              0.00            nan              0.00   \n",
       "\n",
       "    ponds_nearest  days_exposition  \n",
       "0          755.00              nan  \n",
       "1             nan            81.00  \n",
       "2          574.00           558.00  \n",
       "3          234.00           424.00  \n",
       "4           48.00           121.00  \n",
       "5             nan            55.00  \n",
       "6             nan           155.00  \n",
       "7             nan              nan  \n",
       "8             nan           189.00  \n",
       "9             nan           289.00  \n",
       "10         553.00           137.00  \n",
       "11            nan             7.00  \n",
       "12            nan            90.00  \n",
       "13         298.00           366.00  \n",
       "14          96.00           203.00  \n",
       "15         296.00            19.00  \n",
       "16            nan           397.00  \n",
       "17         859.00           571.00  \n",
       "18            nan           168.00  \n",
       "19            nan            97.00  \n",
       "\n",
       "[20 rows x 22 columns]"
      ]
     },
     "execution_count": 2,
     "metadata": {},
     "output_type": "execute_result"
    }
   ],
   "source": [
    "import pandas as pd\n",
    "pd.options.display.float_format = '{:.2f}'.format\n",
    "df = pd.read_csv('/datasets/real_estate_data.csv', sep='\\t')\n",
    "df.head(20)"
   ]
  },
  {
   "cell_type": "code",
   "execution_count": 3,
   "metadata": {},
   "outputs": [
    {
     "name": "stdout",
     "output_type": "stream",
     "text": [
      "Defaulting to user installation because normal site-packages is not writeable\n",
      "Collecting seaborn\n",
      "  Downloading seaborn-0.11.2-py3-none-any.whl (292 kB)\n",
      "\u001b[K     |████████████████████████████████| 292 kB 2.4 MB/s eta 0:00:01\n",
      "\u001b[?25hRequirement already satisfied, skipping upgrade: numpy>=1.15 in /opt/conda/lib/python3.7/site-packages (from seaborn) (1.19.5)\n",
      "Requirement already satisfied, skipping upgrade: scipy>=1.0 in /opt/conda/lib/python3.7/site-packages (from seaborn) (1.4.1)\n",
      "Requirement already satisfied, skipping upgrade: pandas>=0.23 in /opt/conda/lib/python3.7/site-packages (from seaborn) (0.25.1)\n",
      "Requirement already satisfied, skipping upgrade: matplotlib>=2.2 in /opt/conda/lib/python3.7/site-packages (from seaborn) (3.1.0)\n",
      "Requirement already satisfied, skipping upgrade: python-dateutil>=2.6.1 in /opt/conda/lib/python3.7/site-packages (from pandas>=0.23->seaborn) (2.8.1)\n",
      "Requirement already satisfied, skipping upgrade: pytz>=2017.2 in /opt/conda/lib/python3.7/site-packages (from pandas>=0.23->seaborn) (2021.1)\n",
      "Requirement already satisfied, skipping upgrade: pyparsing!=2.0.4,!=2.1.2,!=2.1.6,>=2.0.1 in /opt/conda/lib/python3.7/site-packages (from matplotlib>=2.2->seaborn) (2.4.7)\n",
      "Requirement already satisfied, skipping upgrade: cycler>=0.10 in /opt/conda/lib/python3.7/site-packages (from matplotlib>=2.2->seaborn) (0.10.0)\n",
      "Requirement already satisfied, skipping upgrade: kiwisolver>=1.0.1 in /opt/conda/lib/python3.7/site-packages (from matplotlib>=2.2->seaborn) (1.3.1)\n",
      "Requirement already satisfied, skipping upgrade: six>=1.5 in /opt/conda/lib/python3.7/site-packages (from python-dateutil>=2.6.1->pandas>=0.23->seaborn) (1.15.0)\n",
      "Installing collected packages: seaborn\n",
      "Successfully installed seaborn-0.11.2\n"
     ]
    }
   ],
   "source": [
    "!pip install -U seaborn"
   ]
  },
  {
   "cell_type": "code",
   "execution_count": 4,
   "metadata": {},
   "outputs": [
    {
     "data": {
      "text/html": [
       "<div>\n",
       "<style scoped>\n",
       "    .dataframe tbody tr th:only-of-type {\n",
       "        vertical-align: middle;\n",
       "    }\n",
       "\n",
       "    .dataframe tbody tr th {\n",
       "        vertical-align: top;\n",
       "    }\n",
       "\n",
       "    .dataframe thead th {\n",
       "        text-align: right;\n",
       "    }\n",
       "</style>\n",
       "<table border=\"1\" class=\"dataframe\">\n",
       "  <thead>\n",
       "    <tr style=\"text-align: right;\">\n",
       "      <th></th>\n",
       "      <th>total_images</th>\n",
       "      <th>last_price</th>\n",
       "      <th>total_area</th>\n",
       "      <th>first_day_exposition</th>\n",
       "      <th>rooms</th>\n",
       "      <th>ceiling_height</th>\n",
       "      <th>floors_total</th>\n",
       "      <th>living_area</th>\n",
       "      <th>floor</th>\n",
       "      <th>is_apartment</th>\n",
       "      <th>...</th>\n",
       "      <th>kitchen_area</th>\n",
       "      <th>balcony</th>\n",
       "      <th>locality_name</th>\n",
       "      <th>airports_nearest</th>\n",
       "      <th>cityCenters_nearest</th>\n",
       "      <th>parks_around3000</th>\n",
       "      <th>parks_nearest</th>\n",
       "      <th>ponds_around3000</th>\n",
       "      <th>ponds_nearest</th>\n",
       "      <th>days_exposition</th>\n",
       "    </tr>\n",
       "  </thead>\n",
       "  <tbody>\n",
       "    <tr>\n",
       "      <td>23694</td>\n",
       "      <td>9</td>\n",
       "      <td>9700000.00</td>\n",
       "      <td>133.81</td>\n",
       "      <td>2017-03-21T00:00:00</td>\n",
       "      <td>3</td>\n",
       "      <td>3.70</td>\n",
       "      <td>5.00</td>\n",
       "      <td>73.30</td>\n",
       "      <td>3</td>\n",
       "      <td>NaN</td>\n",
       "      <td>...</td>\n",
       "      <td>13.83</td>\n",
       "      <td>nan</td>\n",
       "      <td>Санкт-Петербург</td>\n",
       "      <td>24665.00</td>\n",
       "      <td>4232.00</td>\n",
       "      <td>1.00</td>\n",
       "      <td>796.00</td>\n",
       "      <td>3.00</td>\n",
       "      <td>381.00</td>\n",
       "      <td>nan</td>\n",
       "    </tr>\n",
       "    <tr>\n",
       "      <td>23695</td>\n",
       "      <td>14</td>\n",
       "      <td>3100000.00</td>\n",
       "      <td>59.00</td>\n",
       "      <td>2018-01-15T00:00:00</td>\n",
       "      <td>3</td>\n",
       "      <td>nan</td>\n",
       "      <td>5.00</td>\n",
       "      <td>38.00</td>\n",
       "      <td>4</td>\n",
       "      <td>NaN</td>\n",
       "      <td>...</td>\n",
       "      <td>8.50</td>\n",
       "      <td>nan</td>\n",
       "      <td>Тосно</td>\n",
       "      <td>nan</td>\n",
       "      <td>nan</td>\n",
       "      <td>nan</td>\n",
       "      <td>nan</td>\n",
       "      <td>nan</td>\n",
       "      <td>nan</td>\n",
       "      <td>45.00</td>\n",
       "    </tr>\n",
       "    <tr>\n",
       "      <td>23696</td>\n",
       "      <td>18</td>\n",
       "      <td>2500000.00</td>\n",
       "      <td>56.70</td>\n",
       "      <td>2018-02-11T00:00:00</td>\n",
       "      <td>2</td>\n",
       "      <td>nan</td>\n",
       "      <td>3.00</td>\n",
       "      <td>29.70</td>\n",
       "      <td>1</td>\n",
       "      <td>NaN</td>\n",
       "      <td>...</td>\n",
       "      <td>nan</td>\n",
       "      <td>nan</td>\n",
       "      <td>село Рождествено</td>\n",
       "      <td>nan</td>\n",
       "      <td>nan</td>\n",
       "      <td>nan</td>\n",
       "      <td>nan</td>\n",
       "      <td>nan</td>\n",
       "      <td>nan</td>\n",
       "      <td>nan</td>\n",
       "    </tr>\n",
       "    <tr>\n",
       "      <td>23697</td>\n",
       "      <td>13</td>\n",
       "      <td>11475000.00</td>\n",
       "      <td>76.75</td>\n",
       "      <td>2017-03-28T00:00:00</td>\n",
       "      <td>2</td>\n",
       "      <td>3.00</td>\n",
       "      <td>17.00</td>\n",
       "      <td>nan</td>\n",
       "      <td>12</td>\n",
       "      <td>NaN</td>\n",
       "      <td>...</td>\n",
       "      <td>23.30</td>\n",
       "      <td>2.00</td>\n",
       "      <td>Санкт-Петербург</td>\n",
       "      <td>39140.00</td>\n",
       "      <td>10364.00</td>\n",
       "      <td>2.00</td>\n",
       "      <td>173.00</td>\n",
       "      <td>3.00</td>\n",
       "      <td>196.00</td>\n",
       "      <td>602.00</td>\n",
       "    </tr>\n",
       "    <tr>\n",
       "      <td>23698</td>\n",
       "      <td>4</td>\n",
       "      <td>1350000.00</td>\n",
       "      <td>32.30</td>\n",
       "      <td>2017-07-21T00:00:00</td>\n",
       "      <td>1</td>\n",
       "      <td>2.50</td>\n",
       "      <td>5.00</td>\n",
       "      <td>12.30</td>\n",
       "      <td>1</td>\n",
       "      <td>NaN</td>\n",
       "      <td>...</td>\n",
       "      <td>9.00</td>\n",
       "      <td>nan</td>\n",
       "      <td>поселок Новый Учхоз</td>\n",
       "      <td>nan</td>\n",
       "      <td>nan</td>\n",
       "      <td>nan</td>\n",
       "      <td>nan</td>\n",
       "      <td>nan</td>\n",
       "      <td>nan</td>\n",
       "      <td>nan</td>\n",
       "    </tr>\n",
       "  </tbody>\n",
       "</table>\n",
       "<p>5 rows × 22 columns</p>\n",
       "</div>"
      ],
      "text/plain": [
       "       total_images  last_price  total_area first_day_exposition  rooms  \\\n",
       "23694             9  9700000.00      133.81  2017-03-21T00:00:00      3   \n",
       "23695            14  3100000.00       59.00  2018-01-15T00:00:00      3   \n",
       "23696            18  2500000.00       56.70  2018-02-11T00:00:00      2   \n",
       "23697            13 11475000.00       76.75  2017-03-28T00:00:00      2   \n",
       "23698             4  1350000.00       32.30  2017-07-21T00:00:00      1   \n",
       "\n",
       "       ceiling_height  floors_total  living_area  floor is_apartment  ...  \\\n",
       "23694            3.70          5.00        73.30      3          NaN  ...   \n",
       "23695             nan          5.00        38.00      4          NaN  ...   \n",
       "23696             nan          3.00        29.70      1          NaN  ...   \n",
       "23697            3.00         17.00          nan     12          NaN  ...   \n",
       "23698            2.50          5.00        12.30      1          NaN  ...   \n",
       "\n",
       "       kitchen_area  balcony        locality_name  airports_nearest  \\\n",
       "23694         13.83      nan      Санкт-Петербург          24665.00   \n",
       "23695          8.50      nan                Тосно               nan   \n",
       "23696           nan      nan     село Рождествено               nan   \n",
       "23697         23.30     2.00      Санкт-Петербург          39140.00   \n",
       "23698          9.00      nan  поселок Новый Учхоз               nan   \n",
       "\n",
       "      cityCenters_nearest  parks_around3000  parks_nearest  ponds_around3000  \\\n",
       "23694             4232.00              1.00         796.00              3.00   \n",
       "23695                 nan               nan            nan               nan   \n",
       "23696                 nan               nan            nan               nan   \n",
       "23697            10364.00              2.00         173.00              3.00   \n",
       "23698                 nan               nan            nan               nan   \n",
       "\n",
       "       ponds_nearest  days_exposition  \n",
       "23694         381.00              nan  \n",
       "23695            nan            45.00  \n",
       "23696            nan              nan  \n",
       "23697         196.00           602.00  \n",
       "23698            nan              nan  \n",
       "\n",
       "[5 rows x 22 columns]"
      ]
     },
     "execution_count": 4,
     "metadata": {},
     "output_type": "execute_result"
    }
   ],
   "source": [
    "df.tail()"
   ]
  },
  {
   "cell_type": "code",
   "execution_count": 5,
   "metadata": {},
   "outputs": [
    {
     "data": {
      "text/html": [
       "<div>\n",
       "<style scoped>\n",
       "    .dataframe tbody tr th:only-of-type {\n",
       "        vertical-align: middle;\n",
       "    }\n",
       "\n",
       "    .dataframe tbody tr th {\n",
       "        vertical-align: top;\n",
       "    }\n",
       "\n",
       "    .dataframe thead th {\n",
       "        text-align: right;\n",
       "    }\n",
       "</style>\n",
       "<table border=\"1\" class=\"dataframe\">\n",
       "  <thead>\n",
       "    <tr style=\"text-align: right;\">\n",
       "      <th></th>\n",
       "      <th>total_images</th>\n",
       "      <th>last_price</th>\n",
       "      <th>total_area</th>\n",
       "      <th>first_day_exposition</th>\n",
       "      <th>rooms</th>\n",
       "      <th>ceiling_height</th>\n",
       "      <th>floors_total</th>\n",
       "      <th>living_area</th>\n",
       "      <th>floor</th>\n",
       "      <th>is_apartment</th>\n",
       "      <th>...</th>\n",
       "      <th>kitchen_area</th>\n",
       "      <th>balcony</th>\n",
       "      <th>locality_name</th>\n",
       "      <th>airports_nearest</th>\n",
       "      <th>cityCenters_nearest</th>\n",
       "      <th>parks_around3000</th>\n",
       "      <th>parks_nearest</th>\n",
       "      <th>ponds_around3000</th>\n",
       "      <th>ponds_nearest</th>\n",
       "      <th>days_exposition</th>\n",
       "    </tr>\n",
       "  </thead>\n",
       "  <tbody>\n",
       "    <tr>\n",
       "      <td>1071</td>\n",
       "      <td>20</td>\n",
       "      <td>16218000.00</td>\n",
       "      <td>95.80</td>\n",
       "      <td>2019-04-12T00:00:00</td>\n",
       "      <td>3</td>\n",
       "      <td>nan</td>\n",
       "      <td>5.00</td>\n",
       "      <td>68.10</td>\n",
       "      <td>2</td>\n",
       "      <td>NaN</td>\n",
       "      <td>...</td>\n",
       "      <td>14.40</td>\n",
       "      <td>nan</td>\n",
       "      <td>Санкт-Петербург</td>\n",
       "      <td>21411.00</td>\n",
       "      <td>1141.00</td>\n",
       "      <td>3.00</td>\n",
       "      <td>110.00</td>\n",
       "      <td>3.00</td>\n",
       "      <td>187.00</td>\n",
       "      <td>nan</td>\n",
       "    </tr>\n",
       "  </tbody>\n",
       "</table>\n",
       "<p>1 rows × 22 columns</p>\n",
       "</div>"
      ],
      "text/plain": [
       "      total_images  last_price  total_area first_day_exposition  rooms  \\\n",
       "1071            20 16218000.00       95.80  2019-04-12T00:00:00      3   \n",
       "\n",
       "      ceiling_height  floors_total  living_area  floor is_apartment  ...  \\\n",
       "1071             nan          5.00        68.10      2          NaN  ...   \n",
       "\n",
       "      kitchen_area  balcony    locality_name  airports_nearest  \\\n",
       "1071         14.40      nan  Санкт-Петербург          21411.00   \n",
       "\n",
       "     cityCenters_nearest  parks_around3000  parks_nearest  ponds_around3000  \\\n",
       "1071             1141.00              3.00         110.00              3.00   \n",
       "\n",
       "      ponds_nearest  days_exposition  \n",
       "1071         187.00              nan  \n",
       "\n",
       "[1 rows x 22 columns]"
      ]
     },
     "execution_count": 5,
     "metadata": {},
     "output_type": "execute_result"
    }
   ],
   "source": [
    "df.sample()"
   ]
  },
  {
   "cell_type": "code",
   "execution_count": 6,
   "metadata": {},
   "outputs": [
    {
     "data": {
      "text/html": [
       "<div>\n",
       "<style scoped>\n",
       "    .dataframe tbody tr th:only-of-type {\n",
       "        vertical-align: middle;\n",
       "    }\n",
       "\n",
       "    .dataframe tbody tr th {\n",
       "        vertical-align: top;\n",
       "    }\n",
       "\n",
       "    .dataframe thead th {\n",
       "        text-align: right;\n",
       "    }\n",
       "</style>\n",
       "<table border=\"1\" class=\"dataframe\">\n",
       "  <thead>\n",
       "    <tr style=\"text-align: right;\">\n",
       "      <th></th>\n",
       "      <th>count</th>\n",
       "      <th>mean</th>\n",
       "      <th>std</th>\n",
       "      <th>min</th>\n",
       "      <th>25%</th>\n",
       "      <th>50%</th>\n",
       "      <th>75%</th>\n",
       "      <th>max</th>\n",
       "    </tr>\n",
       "  </thead>\n",
       "  <tbody>\n",
       "    <tr>\n",
       "      <td>total_images</td>\n",
       "      <td>23699.00</td>\n",
       "      <td>9.86</td>\n",
       "      <td>5.68</td>\n",
       "      <td>0.00</td>\n",
       "      <td>6.00</td>\n",
       "      <td>9.00</td>\n",
       "      <td>14.00</td>\n",
       "      <td>50.00</td>\n",
       "    </tr>\n",
       "    <tr>\n",
       "      <td>last_price</td>\n",
       "      <td>23699.00</td>\n",
       "      <td>6541548.77</td>\n",
       "      <td>10887013.27</td>\n",
       "      <td>12190.00</td>\n",
       "      <td>3400000.00</td>\n",
       "      <td>4650000.00</td>\n",
       "      <td>6800000.00</td>\n",
       "      <td>763000000.00</td>\n",
       "    </tr>\n",
       "    <tr>\n",
       "      <td>total_area</td>\n",
       "      <td>23699.00</td>\n",
       "      <td>60.35</td>\n",
       "      <td>35.65</td>\n",
       "      <td>12.00</td>\n",
       "      <td>40.00</td>\n",
       "      <td>52.00</td>\n",
       "      <td>69.90</td>\n",
       "      <td>900.00</td>\n",
       "    </tr>\n",
       "    <tr>\n",
       "      <td>rooms</td>\n",
       "      <td>23699.00</td>\n",
       "      <td>2.07</td>\n",
       "      <td>1.08</td>\n",
       "      <td>0.00</td>\n",
       "      <td>1.00</td>\n",
       "      <td>2.00</td>\n",
       "      <td>3.00</td>\n",
       "      <td>19.00</td>\n",
       "    </tr>\n",
       "    <tr>\n",
       "      <td>ceiling_height</td>\n",
       "      <td>14504.00</td>\n",
       "      <td>2.77</td>\n",
       "      <td>1.26</td>\n",
       "      <td>1.00</td>\n",
       "      <td>2.52</td>\n",
       "      <td>2.65</td>\n",
       "      <td>2.80</td>\n",
       "      <td>100.00</td>\n",
       "    </tr>\n",
       "    <tr>\n",
       "      <td>floors_total</td>\n",
       "      <td>23613.00</td>\n",
       "      <td>10.67</td>\n",
       "      <td>6.60</td>\n",
       "      <td>1.00</td>\n",
       "      <td>5.00</td>\n",
       "      <td>9.00</td>\n",
       "      <td>16.00</td>\n",
       "      <td>60.00</td>\n",
       "    </tr>\n",
       "    <tr>\n",
       "      <td>living_area</td>\n",
       "      <td>21796.00</td>\n",
       "      <td>34.46</td>\n",
       "      <td>22.03</td>\n",
       "      <td>2.00</td>\n",
       "      <td>18.60</td>\n",
       "      <td>30.00</td>\n",
       "      <td>42.30</td>\n",
       "      <td>409.70</td>\n",
       "    </tr>\n",
       "    <tr>\n",
       "      <td>floor</td>\n",
       "      <td>23699.00</td>\n",
       "      <td>5.89</td>\n",
       "      <td>4.89</td>\n",
       "      <td>1.00</td>\n",
       "      <td>2.00</td>\n",
       "      <td>4.00</td>\n",
       "      <td>8.00</td>\n",
       "      <td>33.00</td>\n",
       "    </tr>\n",
       "    <tr>\n",
       "      <td>kitchen_area</td>\n",
       "      <td>21421.00</td>\n",
       "      <td>10.57</td>\n",
       "      <td>5.91</td>\n",
       "      <td>1.30</td>\n",
       "      <td>7.00</td>\n",
       "      <td>9.10</td>\n",
       "      <td>12.00</td>\n",
       "      <td>112.00</td>\n",
       "    </tr>\n",
       "    <tr>\n",
       "      <td>balcony</td>\n",
       "      <td>12180.00</td>\n",
       "      <td>1.15</td>\n",
       "      <td>1.07</td>\n",
       "      <td>0.00</td>\n",
       "      <td>0.00</td>\n",
       "      <td>1.00</td>\n",
       "      <td>2.00</td>\n",
       "      <td>5.00</td>\n",
       "    </tr>\n",
       "    <tr>\n",
       "      <td>airports_nearest</td>\n",
       "      <td>18157.00</td>\n",
       "      <td>28793.67</td>\n",
       "      <td>12630.88</td>\n",
       "      <td>0.00</td>\n",
       "      <td>18585.00</td>\n",
       "      <td>26726.00</td>\n",
       "      <td>37273.00</td>\n",
       "      <td>84869.00</td>\n",
       "    </tr>\n",
       "    <tr>\n",
       "      <td>cityCenters_nearest</td>\n",
       "      <td>18180.00</td>\n",
       "      <td>14191.28</td>\n",
       "      <td>8608.39</td>\n",
       "      <td>181.00</td>\n",
       "      <td>9238.00</td>\n",
       "      <td>13098.50</td>\n",
       "      <td>16293.00</td>\n",
       "      <td>65968.00</td>\n",
       "    </tr>\n",
       "    <tr>\n",
       "      <td>parks_around3000</td>\n",
       "      <td>18181.00</td>\n",
       "      <td>0.61</td>\n",
       "      <td>0.80</td>\n",
       "      <td>0.00</td>\n",
       "      <td>0.00</td>\n",
       "      <td>0.00</td>\n",
       "      <td>1.00</td>\n",
       "      <td>3.00</td>\n",
       "    </tr>\n",
       "    <tr>\n",
       "      <td>parks_nearest</td>\n",
       "      <td>8079.00</td>\n",
       "      <td>490.80</td>\n",
       "      <td>342.32</td>\n",
       "      <td>1.00</td>\n",
       "      <td>288.00</td>\n",
       "      <td>455.00</td>\n",
       "      <td>612.00</td>\n",
       "      <td>3190.00</td>\n",
       "    </tr>\n",
       "    <tr>\n",
       "      <td>ponds_around3000</td>\n",
       "      <td>18181.00</td>\n",
       "      <td>0.77</td>\n",
       "      <td>0.94</td>\n",
       "      <td>0.00</td>\n",
       "      <td>0.00</td>\n",
       "      <td>1.00</td>\n",
       "      <td>1.00</td>\n",
       "      <td>3.00</td>\n",
       "    </tr>\n",
       "    <tr>\n",
       "      <td>ponds_nearest</td>\n",
       "      <td>9110.00</td>\n",
       "      <td>517.98</td>\n",
       "      <td>277.72</td>\n",
       "      <td>13.00</td>\n",
       "      <td>294.00</td>\n",
       "      <td>502.00</td>\n",
       "      <td>729.00</td>\n",
       "      <td>1344.00</td>\n",
       "    </tr>\n",
       "    <tr>\n",
       "      <td>days_exposition</td>\n",
       "      <td>20518.00</td>\n",
       "      <td>180.89</td>\n",
       "      <td>219.73</td>\n",
       "      <td>1.00</td>\n",
       "      <td>45.00</td>\n",
       "      <td>95.00</td>\n",
       "      <td>232.00</td>\n",
       "      <td>1580.00</td>\n",
       "    </tr>\n",
       "  </tbody>\n",
       "</table>\n",
       "</div>"
      ],
      "text/plain": [
       "                       count       mean         std      min        25%  \\\n",
       "total_images        23699.00       9.86        5.68     0.00       6.00   \n",
       "last_price          23699.00 6541548.77 10887013.27 12190.00 3400000.00   \n",
       "total_area          23699.00      60.35       35.65    12.00      40.00   \n",
       "rooms               23699.00       2.07        1.08     0.00       1.00   \n",
       "ceiling_height      14504.00       2.77        1.26     1.00       2.52   \n",
       "floors_total        23613.00      10.67        6.60     1.00       5.00   \n",
       "living_area         21796.00      34.46       22.03     2.00      18.60   \n",
       "floor               23699.00       5.89        4.89     1.00       2.00   \n",
       "kitchen_area        21421.00      10.57        5.91     1.30       7.00   \n",
       "balcony             12180.00       1.15        1.07     0.00       0.00   \n",
       "airports_nearest    18157.00   28793.67    12630.88     0.00   18585.00   \n",
       "cityCenters_nearest 18180.00   14191.28     8608.39   181.00    9238.00   \n",
       "parks_around3000    18181.00       0.61        0.80     0.00       0.00   \n",
       "parks_nearest        8079.00     490.80      342.32     1.00     288.00   \n",
       "ponds_around3000    18181.00       0.77        0.94     0.00       0.00   \n",
       "ponds_nearest        9110.00     517.98      277.72    13.00     294.00   \n",
       "days_exposition     20518.00     180.89      219.73     1.00      45.00   \n",
       "\n",
       "                           50%        75%          max  \n",
       "total_images              9.00      14.00        50.00  \n",
       "last_price          4650000.00 6800000.00 763000000.00  \n",
       "total_area               52.00      69.90       900.00  \n",
       "rooms                     2.00       3.00        19.00  \n",
       "ceiling_height            2.65       2.80       100.00  \n",
       "floors_total              9.00      16.00        60.00  \n",
       "living_area              30.00      42.30       409.70  \n",
       "floor                     4.00       8.00        33.00  \n",
       "kitchen_area              9.10      12.00       112.00  \n",
       "balcony                   1.00       2.00         5.00  \n",
       "airports_nearest      26726.00   37273.00     84869.00  \n",
       "cityCenters_nearest   13098.50   16293.00     65968.00  \n",
       "parks_around3000          0.00       1.00         3.00  \n",
       "parks_nearest           455.00     612.00      3190.00  \n",
       "ponds_around3000          1.00       1.00         3.00  \n",
       "ponds_nearest           502.00     729.00      1344.00  \n",
       "days_exposition          95.00     232.00      1580.00  "
      ]
     },
     "execution_count": 6,
     "metadata": {},
     "output_type": "execute_result"
    }
   ],
   "source": [
    "df.describe().T"
   ]
  },
  {
   "cell_type": "code",
   "execution_count": 7,
   "metadata": {},
   "outputs": [
    {
     "data": {
      "text/plain": [
       "total_images                0\n",
       "last_price                  0\n",
       "total_area                  0\n",
       "first_day_exposition        0\n",
       "rooms                       0\n",
       "ceiling_height           9195\n",
       "floors_total               86\n",
       "living_area              1903\n",
       "floor                       0\n",
       "is_apartment            20924\n",
       "studio                      0\n",
       "open_plan                   0\n",
       "kitchen_area             2278\n",
       "balcony                 11519\n",
       "locality_name              49\n",
       "airports_nearest         5542\n",
       "cityCenters_nearest      5519\n",
       "parks_around3000         5518\n",
       "parks_nearest           15620\n",
       "ponds_around3000         5518\n",
       "ponds_nearest           14589\n",
       "days_exposition          3181\n",
       "dtype: int64"
      ]
     },
     "execution_count": 7,
     "metadata": {},
     "output_type": "execute_result"
    }
   ],
   "source": [
    "df.isna().sum()"
   ]
  },
  {
   "cell_type": "code",
   "execution_count": 8,
   "metadata": {},
   "outputs": [
    {
     "name": "stdout",
     "output_type": "stream",
     "text": [
      "<class 'pandas.core.frame.DataFrame'>\n",
      "RangeIndex: 23699 entries, 0 to 23698\n",
      "Data columns (total 22 columns):\n",
      "total_images            23699 non-null int64\n",
      "last_price              23699 non-null float64\n",
      "total_area              23699 non-null float64\n",
      "first_day_exposition    23699 non-null object\n",
      "rooms                   23699 non-null int64\n",
      "ceiling_height          14504 non-null float64\n",
      "floors_total            23613 non-null float64\n",
      "living_area             21796 non-null float64\n",
      "floor                   23699 non-null int64\n",
      "is_apartment            2775 non-null object\n",
      "studio                  23699 non-null bool\n",
      "open_plan               23699 non-null bool\n",
      "kitchen_area            21421 non-null float64\n",
      "balcony                 12180 non-null float64\n",
      "locality_name           23650 non-null object\n",
      "airports_nearest        18157 non-null float64\n",
      "cityCenters_nearest     18180 non-null float64\n",
      "parks_around3000        18181 non-null float64\n",
      "parks_nearest           8079 non-null float64\n",
      "ponds_around3000        18181 non-null float64\n",
      "ponds_nearest           9110 non-null float64\n",
      "days_exposition         20518 non-null float64\n",
      "dtypes: bool(2), float64(14), int64(3), object(3)\n",
      "memory usage: 3.7+ MB\n"
     ]
    }
   ],
   "source": [
    "df.info()"
   ]
  },
  {
   "cell_type": "markdown",
   "metadata": {},
   "source": [
    "### Вывод"
   ]
  },
  {
   "cell_type": "markdown",
   "metadata": {},
   "source": [
    "Нам предоставленна таблица с данными продажей квартир. По первоночалному осмотру данных нам нужно выявить дефекты в столцах,где понадобиться убрать пропуски и поменять типы данных."
   ]
  },
  {
   "cell_type": "markdown",
   "metadata": {},
   "source": [
    "## Предобработка данных"
   ]
  },
  {
   "cell_type": "code",
   "execution_count": 9,
   "metadata": {},
   "outputs": [
    {
     "data": {
      "text/plain": [
       "10    1798\n",
       "9     1725\n",
       "20    1694\n",
       "8     1585\n",
       "7     1521\n",
       "6     1482\n",
       "11    1362\n",
       "5     1301\n",
       "12    1225\n",
       "0     1059\n",
       "13    1015\n",
       "14     986\n",
       "4      986\n",
       "15     948\n",
       "1      872\n",
       "3      769\n",
       "16     761\n",
       "17     650\n",
       "18     642\n",
       "2      640\n",
       "19     603\n",
       "23      16\n",
       "21      12\n",
       "24       8\n",
       "22       8\n",
       "26       5\n",
       "28       4\n",
       "32       4\n",
       "50       3\n",
       "29       3\n",
       "31       2\n",
       "35       2\n",
       "30       2\n",
       "27       2\n",
       "37       1\n",
       "39       1\n",
       "25       1\n",
       "42       1\n",
       "Name: total_images, dtype: int64"
      ]
     },
     "execution_count": 9,
     "metadata": {},
     "output_type": "execute_result"
    }
   ],
   "source": [
    "df['total_images'].value_counts()"
   ]
  },
  {
   "cell_type": "markdown",
   "metadata": {},
   "source": [
    "В этом столбце нет подозрительных значений."
   ]
  },
  {
   "cell_type": "code",
   "execution_count": 10,
   "metadata": {},
   "outputs": [
    {
     "data": {
      "text/plain": [
       "0.00    9304\n",
       "2.50    3515\n",
       "2.60    1646\n",
       "2.70    1574\n",
       "3.00    1112\n",
       "        ... \n",
       "3.42       1\n",
       "4.25       1\n",
       "3.88       1\n",
       "4.80       1\n",
       "4.65       1\n",
       "Name: ceiling_height, Length: 151, dtype: int64"
      ]
     },
     "execution_count": 10,
     "metadata": {},
     "output_type": "execute_result"
    }
   ],
   "source": [
    "\n",
    "df.loc[df['ceiling_height'] > 5, 'ceiling_height'] = 0\n",
    "df.loc[df['ceiling_height'] < 2.5, 'ceiling_height'] = 0\n",
    "df['ceiling_height'] = df['ceiling_height'].fillna(0)\n",
    "df['ceiling_height'].value_counts()"
   ]
  },
  {
   "cell_type": "markdown",
   "metadata": {},
   "source": [
    "В столбце с высотой потолков находим много значений которые не реальны. Минимальная высота потолков по СНИП 2.5м ну а в Питерских сталинках высота 4.5м. Максимальную берем 5м. Меняем на 0. Что означает что заполнено не правильно. А правильную высоту квартиры лучшу уточнить у продавца. "
   ]
  },
  {
   "cell_type": "code",
   "execution_count": 11,
   "metadata": {},
   "outputs": [
    {
     "data": {
      "text/plain": [
       "12190.0"
      ]
     },
     "execution_count": 11,
     "metadata": {},
     "output_type": "execute_result"
    }
   ],
   "source": [
    "df['last_price'].sort_values(ascending= True).head(40)\n",
    "df['last_price'].max()\n",
    "df['last_price'].min()"
   ]
  },
  {
   "cell_type": "code",
   "execution_count": 12,
   "metadata": {},
   "outputs": [],
   "source": [
    "def correct_price(price):\n",
    "    if price <= 100000:\n",
    "        return price * 100\n",
    "    if 10000 < price < 1000000:\n",
    "        return price * 10\n",
    "    return price \n",
    "df['last_price'] = df['last_price'].apply(correct_price)\n",
    "df['last_price'] = df['last_price'].astype('int')"
   ]
  },
  {
   "cell_type": "code",
   "execution_count": 13,
   "metadata": {},
   "outputs": [
    {
     "data": {
      "text/plain": [
       "15123    1000000\n",
       "11956    1000000\n",
       "13063    1000000\n",
       "23486    1000000\n",
       "13408    1000000\n",
       "Name: last_price, dtype: int64"
      ]
     },
     "execution_count": 13,
     "metadata": {},
     "output_type": "execute_result"
    }
   ],
   "source": [
    "df['last_price'].sort_values(ascending= True).head()"
   ]
  },
  {
   "cell_type": "markdown",
   "metadata": {},
   "source": [
    "В столбце last_price находим очень маленькие значения. Квартира не может стоить 12т.р и 600тр в Питере и области. Минимальное восприятие для цены это от 1 мил рублей. Я воспринял это как ошибку с нулями. все что меньще 100000 добовляем 00. Все что меньше 1млн. добовляем 0."
   ]
  },
  {
   "cell_type": "code",
   "execution_count": 14,
   "metadata": {},
   "outputs": [
    {
     "name": "stdout",
     "output_type": "stream",
     "text": [
      "12.0\n",
      "900.0\n"
     ]
    }
   ],
   "source": [
    "print(df['total_area'].min())\n",
    "print(df['total_area'].max())\n"
   ]
  },
  {
   "cell_type": "markdown",
   "metadata": {},
   "source": [
    "Нашли максимальное и минимальное значение площади квартиры. В нашем мире возможно все!"
   ]
  },
  {
   "cell_type": "code",
   "execution_count": 15,
   "metadata": {},
   "outputs": [
    {
     "data": {
      "text/plain": [
       "1     8047\n",
       "2     7940\n",
       "3     5814\n",
       "4     1180\n",
       "5      326\n",
       "0      197\n",
       "6      105\n",
       "7       59\n",
       "8       12\n",
       "9        8\n",
       "10       3\n",
       "14       2\n",
       "11       2\n",
       "19       1\n",
       "12       1\n",
       "16       1\n",
       "15       1\n",
       "Name: rooms, dtype: int64"
      ]
     },
     "execution_count": 15,
     "metadata": {},
     "output_type": "execute_result"
    }
   ],
   "source": [
    "df['rooms'].value_counts()"
   ]
  },
  {
   "cell_type": "code",
   "execution_count": 16,
   "metadata": {},
   "outputs": [
    {
     "data": {
      "text/plain": [
       "5     5788\n",
       "9     3761\n",
       "16    1376\n",
       "12    1362\n",
       "4     1200\n",
       "10    1174\n",
       "25    1075\n",
       "6      914\n",
       "17     833\n",
       "3      668\n",
       "7      592\n",
       "14     553\n",
       "18     505\n",
       "24     469\n",
       "8      390\n",
       "2      383\n",
       "15     365\n",
       "23     352\n",
       "19     339\n",
       "22     286\n",
       "20     271\n",
       "13     229\n",
       "11     203\n",
       "27     164\n",
       "21     158\n",
       "26     124\n",
       "0       86\n",
       "1       25\n",
       "35      24\n",
       "28      21\n",
       "36       3\n",
       "37       1\n",
       "34       1\n",
       "60       1\n",
       "33       1\n",
       "52       1\n",
       "29       1\n",
       "Name: floors_total, dtype: int64"
      ]
     },
     "execution_count": 16,
     "metadata": {},
     "output_type": "execute_result"
    }
   ],
   "source": [
    "df['floors_total'] = df['floors_total'].fillna(0)\n",
    "df['floors_total'] = df['floors_total'].astype('int8')\n",
    "df['floors_total'].value_counts()"
   ]
  },
  {
   "cell_type": "markdown",
   "metadata": {},
   "source": [
    "Убираем отсутствующие значения и меняем формат на целые числа."
   ]
  },
  {
   "cell_type": "code",
   "execution_count": 17,
   "metadata": {},
   "outputs": [
    {
     "data": {
      "text/plain": [
       "21758   2.00\n",
       "13915   2.00\n",
       "23574   3.00\n",
       "3242    3.00\n",
       "17582   5.00\n",
       "21943   5.40\n",
       "16431   6.00\n",
       "19251   6.50\n",
       "20994   8.00\n",
       "23208   8.00\n",
       "Name: living_area, dtype: float64"
      ]
     },
     "execution_count": 17,
     "metadata": {},
     "output_type": "execute_result"
    }
   ],
   "source": [
    "df['living_area'].sort_values(ascending= True).head(10)\n",
    "\n"
   ]
  },
  {
   "cell_type": "code",
   "execution_count": 18,
   "metadata": {},
   "outputs": [
    {
     "data": {
      "text/plain": [
       "16431   6.00\n",
       "19251   6.50\n",
       "23208   8.00\n",
       "20994   8.00\n",
       "114     8.30\n",
       "2309    8.40\n",
       "21505   8.50\n",
       "17248   8.90\n",
       "22252   9.00\n",
       "7312    9.00\n",
       "Name: living_area, dtype: float64"
      ]
     },
     "execution_count": 18,
     "metadata": {},
     "output_type": "execute_result"
    }
   ],
   "source": [
    "df['living_area'] = df['living_area'].fillna(0)\n",
    "df = df[df[\"living_area\"] >= 6]\n",
    "df['living_area'].sort_values(ascending= True).head(10)"
   ]
  },
  {
   "cell_type": "markdown",
   "metadata": {},
   "source": [
    "Убираем строки с жилой площадью меньше 6 м.кв. Для всей территории РФ размер минимальной жилплощади установлен в размере 6 кв. м."
   ]
  },
  {
   "cell_type": "code",
   "execution_count": 19,
   "metadata": {},
   "outputs": [],
   "source": [
    "df['total_images'] = df['total_images'].astype('int8')\n",
    "df['rooms'] = df['rooms'].astype('int8')\n",
    "df['floor'] = df['floor'].astype('int8')"
   ]
  },
  {
   "cell_type": "code",
   "execution_count": 20,
   "metadata": {},
   "outputs": [
    {
     "data": {
      "text/plain": [
       "0    13690\n",
       "1     4056\n",
       "2     3510\n",
       "5      283\n",
       "4      176\n",
       "3       75\n",
       "Name: balcony, dtype: int64"
      ]
     },
     "execution_count": 20,
     "metadata": {},
     "output_type": "execute_result"
    }
   ],
   "source": [
    "df['balcony'] = df['balcony'].fillna(0)\n",
    "df['balcony'] = df['balcony'].astype('int8')\n",
    "df['balcony'].value_counts()"
   ]
  },
  {
   "cell_type": "markdown",
   "metadata": {},
   "source": [
    "Меняем пропуски на 0, так как есть и то и другое."
   ]
  },
  {
   "cell_type": "code",
   "execution_count": 21,
   "metadata": {},
   "outputs": [
    {
     "data": {
      "text/plain": [
       "0    14295\n",
       "1     5274\n",
       "2     1628\n",
       "3      593\n",
       "Name: parks_around3000, dtype: int64"
      ]
     },
     "execution_count": 21,
     "metadata": {},
     "output_type": "execute_result"
    }
   ],
   "source": [
    "df['parks_around3000'] = df['parks_around3000'].fillna(0)\n",
    "df['parks_around3000'] = df['parks_around3000'].astype('int8')\n",
    "df['parks_around3000'].value_counts()\n"
   ]
  },
  {
   "cell_type": "code",
   "execution_count": 22,
   "metadata": {},
   "outputs": [
    {
     "data": {
      "text/plain": [
       "0       2983\n",
       "45       546\n",
       "60       350\n",
       "7        213\n",
       "30       204\n",
       "        ... \n",
       "999        1\n",
       "1015       1\n",
       "1047       1\n",
       "1111       1\n",
       "1175       1\n",
       "Name: days_exposition, Length: 1122, dtype: int64"
      ]
     },
     "execution_count": 22,
     "metadata": {},
     "output_type": "execute_result"
    }
   ],
   "source": [
    "df['days_exposition'] = df['days_exposition'].fillna(0)\n",
    "df['days_exposition'] = df['days_exposition'].astype('int')\n",
    "df['days_exposition'].value_counts()\n"
   ]
  },
  {
   "cell_type": "code",
   "execution_count": 23,
   "metadata": {},
   "outputs": [
    {
     "name": "stdout",
     "output_type": "stream",
     "text": [
      "<class 'pandas.core.frame.DataFrame'>\n",
      "Int64Index: 21790 entries, 0 to 23698\n",
      "Data columns (total 22 columns):\n",
      "total_images            21790 non-null int8\n",
      "last_price              21790 non-null int64\n",
      "total_area              21790 non-null float64\n",
      "first_day_exposition    21790 non-null object\n",
      "rooms                   21790 non-null int8\n",
      "ceiling_height          21790 non-null float64\n",
      "floors_total            21790 non-null int8\n",
      "living_area             21790 non-null float64\n",
      "floor                   21790 non-null int8\n",
      "is_apartment            2655 non-null object\n",
      "studio                  21790 non-null bool\n",
      "open_plan               21790 non-null bool\n",
      "kitchen_area            20978 non-null float64\n",
      "balcony                 21790 non-null int8\n",
      "locality_name           21746 non-null object\n",
      "airports_nearest        16874 non-null float64\n",
      "cityCenters_nearest     16895 non-null float64\n",
      "parks_around3000        21790 non-null int8\n",
      "parks_nearest           7499 non-null float64\n",
      "ponds_around3000        16896 non-null float64\n",
      "ponds_nearest           8412 non-null float64\n",
      "days_exposition         21790 non-null int64\n",
      "dtypes: bool(2), float64(9), int64(2), int8(6), object(3)\n",
      "memory usage: 2.7+ MB\n"
     ]
    }
   ],
   "source": [
    "df.info()"
   ]
  },
  {
   "cell_type": "code",
   "execution_count": 24,
   "metadata": {},
   "outputs": [],
   "source": [
    "df['is_apartment'] = df['is_apartment'].fillna(False)"
   ]
  },
  {
   "cell_type": "code",
   "execution_count": 25,
   "metadata": {},
   "outputs": [
    {
     "data": {
      "text/html": [
       "<div>\n",
       "<style scoped>\n",
       "    .dataframe tbody tr th:only-of-type {\n",
       "        vertical-align: middle;\n",
       "    }\n",
       "\n",
       "    .dataframe tbody tr th {\n",
       "        vertical-align: top;\n",
       "    }\n",
       "\n",
       "    .dataframe thead th {\n",
       "        text-align: right;\n",
       "    }\n",
       "</style>\n",
       "<table border=\"1\" class=\"dataframe\">\n",
       "  <thead>\n",
       "    <tr style=\"text-align: right;\">\n",
       "      <th></th>\n",
       "      <th>total_images</th>\n",
       "      <th>last_price</th>\n",
       "      <th>total_area</th>\n",
       "      <th>first_day_exposition</th>\n",
       "      <th>rooms</th>\n",
       "      <th>ceiling_height</th>\n",
       "      <th>floors_total</th>\n",
       "      <th>living_area</th>\n",
       "      <th>floor</th>\n",
       "      <th>is_apartment</th>\n",
       "      <th>...</th>\n",
       "      <th>kitchen_area</th>\n",
       "      <th>balcony</th>\n",
       "      <th>locality_name</th>\n",
       "      <th>airports_nearest</th>\n",
       "      <th>cityCenters_nearest</th>\n",
       "      <th>parks_around3000</th>\n",
       "      <th>parks_nearest</th>\n",
       "      <th>ponds_around3000</th>\n",
       "      <th>ponds_nearest</th>\n",
       "      <th>days_exposition</th>\n",
       "    </tr>\n",
       "  </thead>\n",
       "  <tbody>\n",
       "    <tr>\n",
       "      <td>0</td>\n",
       "      <td>20</td>\n",
       "      <td>13000000</td>\n",
       "      <td>108.00</td>\n",
       "      <td>2019-03-07T00:00:00</td>\n",
       "      <td>3</td>\n",
       "      <td>2.70</td>\n",
       "      <td>16</td>\n",
       "      <td>51.00</td>\n",
       "      <td>8</td>\n",
       "      <td>False</td>\n",
       "      <td>...</td>\n",
       "      <td>25.00</td>\n",
       "      <td>0</td>\n",
       "      <td>Санкт-Петербург</td>\n",
       "      <td>18863.00</td>\n",
       "      <td>16028.00</td>\n",
       "      <td>1</td>\n",
       "      <td>482.00</td>\n",
       "      <td>2.00</td>\n",
       "      <td>755.00</td>\n",
       "      <td>0</td>\n",
       "    </tr>\n",
       "    <tr>\n",
       "      <td>1</td>\n",
       "      <td>7</td>\n",
       "      <td>3350000</td>\n",
       "      <td>40.40</td>\n",
       "      <td>2018-12-04T00:00:00</td>\n",
       "      <td>1</td>\n",
       "      <td>0.00</td>\n",
       "      <td>11</td>\n",
       "      <td>18.60</td>\n",
       "      <td>1</td>\n",
       "      <td>False</td>\n",
       "      <td>...</td>\n",
       "      <td>11.00</td>\n",
       "      <td>2</td>\n",
       "      <td>посёлок Шушары</td>\n",
       "      <td>12817.00</td>\n",
       "      <td>18603.00</td>\n",
       "      <td>0</td>\n",
       "      <td>nan</td>\n",
       "      <td>0.00</td>\n",
       "      <td>nan</td>\n",
       "      <td>81</td>\n",
       "    </tr>\n",
       "    <tr>\n",
       "      <td>2</td>\n",
       "      <td>10</td>\n",
       "      <td>5196000</td>\n",
       "      <td>56.00</td>\n",
       "      <td>2015-08-20T00:00:00</td>\n",
       "      <td>2</td>\n",
       "      <td>0.00</td>\n",
       "      <td>5</td>\n",
       "      <td>34.30</td>\n",
       "      <td>4</td>\n",
       "      <td>False</td>\n",
       "      <td>...</td>\n",
       "      <td>8.30</td>\n",
       "      <td>0</td>\n",
       "      <td>Санкт-Петербург</td>\n",
       "      <td>21741.00</td>\n",
       "      <td>13933.00</td>\n",
       "      <td>1</td>\n",
       "      <td>90.00</td>\n",
       "      <td>2.00</td>\n",
       "      <td>574.00</td>\n",
       "      <td>558</td>\n",
       "    </tr>\n",
       "    <tr>\n",
       "      <td>4</td>\n",
       "      <td>2</td>\n",
       "      <td>10000000</td>\n",
       "      <td>100.00</td>\n",
       "      <td>2018-06-19T00:00:00</td>\n",
       "      <td>2</td>\n",
       "      <td>3.03</td>\n",
       "      <td>14</td>\n",
       "      <td>32.00</td>\n",
       "      <td>13</td>\n",
       "      <td>False</td>\n",
       "      <td>...</td>\n",
       "      <td>41.00</td>\n",
       "      <td>0</td>\n",
       "      <td>Санкт-Петербург</td>\n",
       "      <td>31856.00</td>\n",
       "      <td>8098.00</td>\n",
       "      <td>2</td>\n",
       "      <td>112.00</td>\n",
       "      <td>1.00</td>\n",
       "      <td>48.00</td>\n",
       "      <td>121</td>\n",
       "    </tr>\n",
       "    <tr>\n",
       "      <td>5</td>\n",
       "      <td>10</td>\n",
       "      <td>2890000</td>\n",
       "      <td>30.40</td>\n",
       "      <td>2018-09-10T00:00:00</td>\n",
       "      <td>1</td>\n",
       "      <td>0.00</td>\n",
       "      <td>12</td>\n",
       "      <td>14.40</td>\n",
       "      <td>5</td>\n",
       "      <td>False</td>\n",
       "      <td>...</td>\n",
       "      <td>9.10</td>\n",
       "      <td>0</td>\n",
       "      <td>городской посёлок Янино-1</td>\n",
       "      <td>nan</td>\n",
       "      <td>nan</td>\n",
       "      <td>0</td>\n",
       "      <td>nan</td>\n",
       "      <td>nan</td>\n",
       "      <td>nan</td>\n",
       "      <td>55</td>\n",
       "    </tr>\n",
       "  </tbody>\n",
       "</table>\n",
       "<p>5 rows × 22 columns</p>\n",
       "</div>"
      ],
      "text/plain": [
       "   total_images  last_price  total_area first_day_exposition  rooms  \\\n",
       "0            20    13000000      108.00  2019-03-07T00:00:00      3   \n",
       "1             7     3350000       40.40  2018-12-04T00:00:00      1   \n",
       "2            10     5196000       56.00  2015-08-20T00:00:00      2   \n",
       "4             2    10000000      100.00  2018-06-19T00:00:00      2   \n",
       "5            10     2890000       30.40  2018-09-10T00:00:00      1   \n",
       "\n",
       "   ceiling_height  floors_total  living_area  floor  is_apartment  ...  \\\n",
       "0            2.70            16        51.00      8         False  ...   \n",
       "1            0.00            11        18.60      1         False  ...   \n",
       "2            0.00             5        34.30      4         False  ...   \n",
       "4            3.03            14        32.00     13         False  ...   \n",
       "5            0.00            12        14.40      5         False  ...   \n",
       "\n",
       "   kitchen_area  balcony              locality_name  airports_nearest  \\\n",
       "0         25.00        0            Санкт-Петербург          18863.00   \n",
       "1         11.00        2             посёлок Шушары          12817.00   \n",
       "2          8.30        0            Санкт-Петербург          21741.00   \n",
       "4         41.00        0            Санкт-Петербург          31856.00   \n",
       "5          9.10        0  городской посёлок Янино-1               nan   \n",
       "\n",
       "  cityCenters_nearest  parks_around3000  parks_nearest  ponds_around3000  \\\n",
       "0            16028.00                 1         482.00              2.00   \n",
       "1            18603.00                 0            nan              0.00   \n",
       "2            13933.00                 1          90.00              2.00   \n",
       "4             8098.00                 2         112.00              1.00   \n",
       "5                 nan                 0            nan               nan   \n",
       "\n",
       "   ponds_nearest  days_exposition  \n",
       "0         755.00                0  \n",
       "1            nan               81  \n",
       "2         574.00              558  \n",
       "4          48.00              121  \n",
       "5            nan               55  \n",
       "\n",
       "[5 rows x 22 columns]"
      ]
     },
     "execution_count": 25,
     "metadata": {},
     "output_type": "execute_result"
    }
   ],
   "source": [
    "df.head()"
   ]
  },
  {
   "cell_type": "code",
   "execution_count": 26,
   "metadata": {},
   "outputs": [],
   "source": [
    "df['kitchen_area'] = df['kitchen_area'].fillna(0)"
   ]
  },
  {
   "cell_type": "code",
   "execution_count": 27,
   "metadata": {},
   "outputs": [
    {
     "data": {
      "text/plain": [
       "total_images                0\n",
       "last_price                  0\n",
       "total_area                  0\n",
       "first_day_exposition        0\n",
       "rooms                       0\n",
       "ceiling_height              0\n",
       "floors_total                0\n",
       "living_area                 0\n",
       "floor                       0\n",
       "is_apartment                0\n",
       "studio                      0\n",
       "open_plan                   0\n",
       "kitchen_area                0\n",
       "balcony                     0\n",
       "locality_name              44\n",
       "airports_nearest         4916\n",
       "cityCenters_nearest      4895\n",
       "parks_around3000            0\n",
       "parks_nearest           14291\n",
       "ponds_around3000         4894\n",
       "ponds_nearest           13378\n",
       "days_exposition             0\n",
       "dtype: int64"
      ]
     },
     "execution_count": 27,
     "metadata": {},
     "output_type": "execute_result"
    }
   ],
   "source": [
    "df.isna().sum()"
   ]
  },
  {
   "cell_type": "markdown",
   "metadata": {},
   "source": [
    "## Расчёты и добавление результатов в таблицу"
   ]
  },
  {
   "cell_type": "code",
   "execution_count": 28,
   "metadata": {},
   "outputs": [
    {
     "data": {
      "text/html": [
       "<div>\n",
       "<style scoped>\n",
       "    .dataframe tbody tr th:only-of-type {\n",
       "        vertical-align: middle;\n",
       "    }\n",
       "\n",
       "    .dataframe tbody tr th {\n",
       "        vertical-align: top;\n",
       "    }\n",
       "\n",
       "    .dataframe thead th {\n",
       "        text-align: right;\n",
       "    }\n",
       "</style>\n",
       "<table border=\"1\" class=\"dataframe\">\n",
       "  <thead>\n",
       "    <tr style=\"text-align: right;\">\n",
       "      <th></th>\n",
       "      <th>total_images</th>\n",
       "      <th>last_price</th>\n",
       "      <th>total_area</th>\n",
       "      <th>first_day_exposition</th>\n",
       "      <th>rooms</th>\n",
       "      <th>ceiling_height</th>\n",
       "      <th>floors_total</th>\n",
       "      <th>living_area</th>\n",
       "      <th>floor</th>\n",
       "      <th>is_apartment</th>\n",
       "      <th>...</th>\n",
       "      <th>balcony</th>\n",
       "      <th>locality_name</th>\n",
       "      <th>airports_nearest</th>\n",
       "      <th>cityCenters_nearest</th>\n",
       "      <th>parks_around3000</th>\n",
       "      <th>parks_nearest</th>\n",
       "      <th>ponds_around3000</th>\n",
       "      <th>ponds_nearest</th>\n",
       "      <th>days_exposition</th>\n",
       "      <th>price_living_area</th>\n",
       "    </tr>\n",
       "  </thead>\n",
       "  <tbody>\n",
       "    <tr>\n",
       "      <td>0</td>\n",
       "      <td>20</td>\n",
       "      <td>13000000</td>\n",
       "      <td>108.00</td>\n",
       "      <td>2019-03-07T00:00:00</td>\n",
       "      <td>3</td>\n",
       "      <td>2.70</td>\n",
       "      <td>16</td>\n",
       "      <td>51.00</td>\n",
       "      <td>8</td>\n",
       "      <td>False</td>\n",
       "      <td>...</td>\n",
       "      <td>0</td>\n",
       "      <td>Санкт-Петербург</td>\n",
       "      <td>18863.00</td>\n",
       "      <td>16028.00</td>\n",
       "      <td>1</td>\n",
       "      <td>482.00</td>\n",
       "      <td>2.00</td>\n",
       "      <td>755.00</td>\n",
       "      <td>0</td>\n",
       "      <td>254901</td>\n",
       "    </tr>\n",
       "    <tr>\n",
       "      <td>1</td>\n",
       "      <td>7</td>\n",
       "      <td>3350000</td>\n",
       "      <td>40.40</td>\n",
       "      <td>2018-12-04T00:00:00</td>\n",
       "      <td>1</td>\n",
       "      <td>0.00</td>\n",
       "      <td>11</td>\n",
       "      <td>18.60</td>\n",
       "      <td>1</td>\n",
       "      <td>False</td>\n",
       "      <td>...</td>\n",
       "      <td>2</td>\n",
       "      <td>посёлок Шушары</td>\n",
       "      <td>12817.00</td>\n",
       "      <td>18603.00</td>\n",
       "      <td>0</td>\n",
       "      <td>nan</td>\n",
       "      <td>0.00</td>\n",
       "      <td>nan</td>\n",
       "      <td>81</td>\n",
       "      <td>180107</td>\n",
       "    </tr>\n",
       "    <tr>\n",
       "      <td>2</td>\n",
       "      <td>10</td>\n",
       "      <td>5196000</td>\n",
       "      <td>56.00</td>\n",
       "      <td>2015-08-20T00:00:00</td>\n",
       "      <td>2</td>\n",
       "      <td>0.00</td>\n",
       "      <td>5</td>\n",
       "      <td>34.30</td>\n",
       "      <td>4</td>\n",
       "      <td>False</td>\n",
       "      <td>...</td>\n",
       "      <td>0</td>\n",
       "      <td>Санкт-Петербург</td>\n",
       "      <td>21741.00</td>\n",
       "      <td>13933.00</td>\n",
       "      <td>1</td>\n",
       "      <td>90.00</td>\n",
       "      <td>2.00</td>\n",
       "      <td>574.00</td>\n",
       "      <td>558</td>\n",
       "      <td>151486</td>\n",
       "    </tr>\n",
       "    <tr>\n",
       "      <td>4</td>\n",
       "      <td>2</td>\n",
       "      <td>10000000</td>\n",
       "      <td>100.00</td>\n",
       "      <td>2018-06-19T00:00:00</td>\n",
       "      <td>2</td>\n",
       "      <td>3.03</td>\n",
       "      <td>14</td>\n",
       "      <td>32.00</td>\n",
       "      <td>13</td>\n",
       "      <td>False</td>\n",
       "      <td>...</td>\n",
       "      <td>0</td>\n",
       "      <td>Санкт-Петербург</td>\n",
       "      <td>31856.00</td>\n",
       "      <td>8098.00</td>\n",
       "      <td>2</td>\n",
       "      <td>112.00</td>\n",
       "      <td>1.00</td>\n",
       "      <td>48.00</td>\n",
       "      <td>121</td>\n",
       "      <td>312500</td>\n",
       "    </tr>\n",
       "    <tr>\n",
       "      <td>5</td>\n",
       "      <td>10</td>\n",
       "      <td>2890000</td>\n",
       "      <td>30.40</td>\n",
       "      <td>2018-09-10T00:00:00</td>\n",
       "      <td>1</td>\n",
       "      <td>0.00</td>\n",
       "      <td>12</td>\n",
       "      <td>14.40</td>\n",
       "      <td>5</td>\n",
       "      <td>False</td>\n",
       "      <td>...</td>\n",
       "      <td>0</td>\n",
       "      <td>городской посёлок Янино-1</td>\n",
       "      <td>nan</td>\n",
       "      <td>nan</td>\n",
       "      <td>0</td>\n",
       "      <td>nan</td>\n",
       "      <td>nan</td>\n",
       "      <td>nan</td>\n",
       "      <td>55</td>\n",
       "      <td>200694</td>\n",
       "    </tr>\n",
       "  </tbody>\n",
       "</table>\n",
       "<p>5 rows × 23 columns</p>\n",
       "</div>"
      ],
      "text/plain": [
       "   total_images  last_price  total_area first_day_exposition  rooms  \\\n",
       "0            20    13000000      108.00  2019-03-07T00:00:00      3   \n",
       "1             7     3350000       40.40  2018-12-04T00:00:00      1   \n",
       "2            10     5196000       56.00  2015-08-20T00:00:00      2   \n",
       "4             2    10000000      100.00  2018-06-19T00:00:00      2   \n",
       "5            10     2890000       30.40  2018-09-10T00:00:00      1   \n",
       "\n",
       "   ceiling_height  floors_total  living_area  floor  is_apartment  ...  \\\n",
       "0            2.70            16        51.00      8         False  ...   \n",
       "1            0.00            11        18.60      1         False  ...   \n",
       "2            0.00             5        34.30      4         False  ...   \n",
       "4            3.03            14        32.00     13         False  ...   \n",
       "5            0.00            12        14.40      5         False  ...   \n",
       "\n",
       "   balcony              locality_name  airports_nearest  cityCenters_nearest  \\\n",
       "0        0            Санкт-Петербург          18863.00             16028.00   \n",
       "1        2             посёлок Шушары          12817.00             18603.00   \n",
       "2        0            Санкт-Петербург          21741.00             13933.00   \n",
       "4        0            Санкт-Петербург          31856.00              8098.00   \n",
       "5        0  городской посёлок Янино-1               nan                  nan   \n",
       "\n",
       "  parks_around3000  parks_nearest  ponds_around3000  ponds_nearest  \\\n",
       "0                1         482.00              2.00         755.00   \n",
       "1                0            nan              0.00            nan   \n",
       "2                1          90.00              2.00         574.00   \n",
       "4                2         112.00              1.00          48.00   \n",
       "5                0            nan               nan            nan   \n",
       "\n",
       "   days_exposition  price_living_area  \n",
       "0                0             254901  \n",
       "1               81             180107  \n",
       "2              558             151486  \n",
       "4              121             312500  \n",
       "5               55             200694  \n",
       "\n",
       "[5 rows x 23 columns]"
      ]
     },
     "execution_count": 28,
     "metadata": {},
     "output_type": "execute_result"
    }
   ],
   "source": [
    "df['price_living_area'] = df['last_price'] / df['living_area']\n",
    "df['price_living_area'] = df['price_living_area'].astype('int')\n",
    "df.head()"
   ]
  },
  {
   "cell_type": "code",
   "execution_count": 29,
   "metadata": {},
   "outputs": [
    {
     "data": {
      "text/html": [
       "<div>\n",
       "<style scoped>\n",
       "    .dataframe tbody tr th:only-of-type {\n",
       "        vertical-align: middle;\n",
       "    }\n",
       "\n",
       "    .dataframe tbody tr th {\n",
       "        vertical-align: top;\n",
       "    }\n",
       "\n",
       "    .dataframe thead th {\n",
       "        text-align: right;\n",
       "    }\n",
       "</style>\n",
       "<table border=\"1\" class=\"dataframe\">\n",
       "  <thead>\n",
       "    <tr style=\"text-align: right;\">\n",
       "      <th></th>\n",
       "      <th>total_images</th>\n",
       "      <th>last_price</th>\n",
       "      <th>total_area</th>\n",
       "      <th>first_day_exposition</th>\n",
       "      <th>rooms</th>\n",
       "      <th>ceiling_height</th>\n",
       "      <th>floors_total</th>\n",
       "      <th>living_area</th>\n",
       "      <th>floor</th>\n",
       "      <th>is_apartment</th>\n",
       "      <th>...</th>\n",
       "      <th>cityCenters_nearest</th>\n",
       "      <th>parks_around3000</th>\n",
       "      <th>parks_nearest</th>\n",
       "      <th>ponds_around3000</th>\n",
       "      <th>ponds_nearest</th>\n",
       "      <th>days_exposition</th>\n",
       "      <th>price_living_area</th>\n",
       "      <th>day_of_week</th>\n",
       "      <th>month</th>\n",
       "      <th>year</th>\n",
       "    </tr>\n",
       "  </thead>\n",
       "  <tbody>\n",
       "    <tr>\n",
       "      <td>0</td>\n",
       "      <td>20</td>\n",
       "      <td>13000000</td>\n",
       "      <td>108.00</td>\n",
       "      <td>2019-03-07</td>\n",
       "      <td>3</td>\n",
       "      <td>2.70</td>\n",
       "      <td>16</td>\n",
       "      <td>51.00</td>\n",
       "      <td>8</td>\n",
       "      <td>False</td>\n",
       "      <td>...</td>\n",
       "      <td>16028.00</td>\n",
       "      <td>1</td>\n",
       "      <td>482.00</td>\n",
       "      <td>2.00</td>\n",
       "      <td>755.00</td>\n",
       "      <td>0</td>\n",
       "      <td>254901</td>\n",
       "      <td>Thursday</td>\n",
       "      <td>March</td>\n",
       "      <td>2019</td>\n",
       "    </tr>\n",
       "    <tr>\n",
       "      <td>1</td>\n",
       "      <td>7</td>\n",
       "      <td>3350000</td>\n",
       "      <td>40.40</td>\n",
       "      <td>2018-12-04</td>\n",
       "      <td>1</td>\n",
       "      <td>0.00</td>\n",
       "      <td>11</td>\n",
       "      <td>18.60</td>\n",
       "      <td>1</td>\n",
       "      <td>False</td>\n",
       "      <td>...</td>\n",
       "      <td>18603.00</td>\n",
       "      <td>0</td>\n",
       "      <td>nan</td>\n",
       "      <td>0.00</td>\n",
       "      <td>nan</td>\n",
       "      <td>81</td>\n",
       "      <td>180107</td>\n",
       "      <td>Tuesday</td>\n",
       "      <td>December</td>\n",
       "      <td>2018</td>\n",
       "    </tr>\n",
       "    <tr>\n",
       "      <td>2</td>\n",
       "      <td>10</td>\n",
       "      <td>5196000</td>\n",
       "      <td>56.00</td>\n",
       "      <td>2015-08-20</td>\n",
       "      <td>2</td>\n",
       "      <td>0.00</td>\n",
       "      <td>5</td>\n",
       "      <td>34.30</td>\n",
       "      <td>4</td>\n",
       "      <td>False</td>\n",
       "      <td>...</td>\n",
       "      <td>13933.00</td>\n",
       "      <td>1</td>\n",
       "      <td>90.00</td>\n",
       "      <td>2.00</td>\n",
       "      <td>574.00</td>\n",
       "      <td>558</td>\n",
       "      <td>151486</td>\n",
       "      <td>Thursday</td>\n",
       "      <td>August</td>\n",
       "      <td>2015</td>\n",
       "    </tr>\n",
       "    <tr>\n",
       "      <td>4</td>\n",
       "      <td>2</td>\n",
       "      <td>10000000</td>\n",
       "      <td>100.00</td>\n",
       "      <td>2018-06-19</td>\n",
       "      <td>2</td>\n",
       "      <td>3.03</td>\n",
       "      <td>14</td>\n",
       "      <td>32.00</td>\n",
       "      <td>13</td>\n",
       "      <td>False</td>\n",
       "      <td>...</td>\n",
       "      <td>8098.00</td>\n",
       "      <td>2</td>\n",
       "      <td>112.00</td>\n",
       "      <td>1.00</td>\n",
       "      <td>48.00</td>\n",
       "      <td>121</td>\n",
       "      <td>312500</td>\n",
       "      <td>Tuesday</td>\n",
       "      <td>June</td>\n",
       "      <td>2018</td>\n",
       "    </tr>\n",
       "    <tr>\n",
       "      <td>5</td>\n",
       "      <td>10</td>\n",
       "      <td>2890000</td>\n",
       "      <td>30.40</td>\n",
       "      <td>2018-09-10</td>\n",
       "      <td>1</td>\n",
       "      <td>0.00</td>\n",
       "      <td>12</td>\n",
       "      <td>14.40</td>\n",
       "      <td>5</td>\n",
       "      <td>False</td>\n",
       "      <td>...</td>\n",
       "      <td>nan</td>\n",
       "      <td>0</td>\n",
       "      <td>nan</td>\n",
       "      <td>nan</td>\n",
       "      <td>nan</td>\n",
       "      <td>55</td>\n",
       "      <td>200694</td>\n",
       "      <td>Monday</td>\n",
       "      <td>September</td>\n",
       "      <td>2018</td>\n",
       "    </tr>\n",
       "  </tbody>\n",
       "</table>\n",
       "<p>5 rows × 26 columns</p>\n",
       "</div>"
      ],
      "text/plain": [
       "   total_images  last_price  total_area first_day_exposition  rooms  \\\n",
       "0            20    13000000      108.00           2019-03-07      3   \n",
       "1             7     3350000       40.40           2018-12-04      1   \n",
       "2            10     5196000       56.00           2015-08-20      2   \n",
       "4             2    10000000      100.00           2018-06-19      2   \n",
       "5            10     2890000       30.40           2018-09-10      1   \n",
       "\n",
       "   ceiling_height  floors_total  living_area  floor  is_apartment  ...  \\\n",
       "0            2.70            16        51.00      8         False  ...   \n",
       "1            0.00            11        18.60      1         False  ...   \n",
       "2            0.00             5        34.30      4         False  ...   \n",
       "4            3.03            14        32.00     13         False  ...   \n",
       "5            0.00            12        14.40      5         False  ...   \n",
       "\n",
       "   cityCenters_nearest  parks_around3000  parks_nearest  ponds_around3000  \\\n",
       "0             16028.00                 1         482.00              2.00   \n",
       "1             18603.00                 0            nan              0.00   \n",
       "2             13933.00                 1          90.00              2.00   \n",
       "4              8098.00                 2         112.00              1.00   \n",
       "5                  nan                 0            nan               nan   \n",
       "\n",
       "  ponds_nearest  days_exposition  price_living_area  day_of_week      month  \\\n",
       "0        755.00                0             254901     Thursday      March   \n",
       "1           nan               81             180107      Tuesday   December   \n",
       "2        574.00              558             151486     Thursday     August   \n",
       "4         48.00              121             312500      Tuesday       June   \n",
       "5           nan               55             200694       Monday  September   \n",
       "\n",
       "   year  \n",
       "0  2019  \n",
       "1  2018  \n",
       "2  2015  \n",
       "4  2018  \n",
       "5  2018  \n",
       "\n",
       "[5 rows x 26 columns]"
      ]
     },
     "execution_count": 29,
     "metadata": {},
     "output_type": "execute_result"
    }
   ],
   "source": [
    "df['first_day_exposition'] = pd.to_datetime(df['first_day_exposition'], format = '%Y-%m-%dT%H:%M:%S')\n",
    "df['day_of_week'] = df['first_day_exposition'].dt.day_name()\n",
    "df['month'] = df['first_day_exposition'].dt.month_name()\n",
    "df['year'] = df['first_day_exposition'].dt.year\n",
    "df.head()"
   ]
  },
  {
   "cell_type": "code",
   "execution_count": 30,
   "metadata": {},
   "outputs": [
    {
     "name": "stdout",
     "output_type": "stream",
     "text": [
      "другой            15994\n",
      "последний этаж     3101\n",
      "первый этаж        2643\n",
      "Name: which_floor, dtype: int64\n"
     ]
    },
    {
     "data": {
      "text/html": [
       "<div>\n",
       "<style scoped>\n",
       "    .dataframe tbody tr th:only-of-type {\n",
       "        vertical-align: middle;\n",
       "    }\n",
       "\n",
       "    .dataframe tbody tr th {\n",
       "        vertical-align: top;\n",
       "    }\n",
       "\n",
       "    .dataframe thead th {\n",
       "        text-align: right;\n",
       "    }\n",
       "</style>\n",
       "<table border=\"1\" class=\"dataframe\">\n",
       "  <thead>\n",
       "    <tr style=\"text-align: right;\">\n",
       "      <th></th>\n",
       "      <th>total_images</th>\n",
       "      <th>last_price</th>\n",
       "      <th>total_area</th>\n",
       "      <th>first_day_exposition</th>\n",
       "      <th>rooms</th>\n",
       "      <th>ceiling_height</th>\n",
       "      <th>floors_total</th>\n",
       "      <th>living_area</th>\n",
       "      <th>floor</th>\n",
       "      <th>is_apartment</th>\n",
       "      <th>...</th>\n",
       "      <th>parks_around3000</th>\n",
       "      <th>parks_nearest</th>\n",
       "      <th>ponds_around3000</th>\n",
       "      <th>ponds_nearest</th>\n",
       "      <th>days_exposition</th>\n",
       "      <th>price_living_area</th>\n",
       "      <th>day_of_week</th>\n",
       "      <th>month</th>\n",
       "      <th>year</th>\n",
       "      <th>which_floor</th>\n",
       "    </tr>\n",
       "  </thead>\n",
       "  <tbody>\n",
       "    <tr>\n",
       "      <td>0</td>\n",
       "      <td>20</td>\n",
       "      <td>13000000</td>\n",
       "      <td>108.00</td>\n",
       "      <td>2019-03-07</td>\n",
       "      <td>3</td>\n",
       "      <td>2.70</td>\n",
       "      <td>16</td>\n",
       "      <td>51.00</td>\n",
       "      <td>8</td>\n",
       "      <td>False</td>\n",
       "      <td>...</td>\n",
       "      <td>1</td>\n",
       "      <td>482.00</td>\n",
       "      <td>2.00</td>\n",
       "      <td>755.00</td>\n",
       "      <td>0</td>\n",
       "      <td>254901</td>\n",
       "      <td>Thursday</td>\n",
       "      <td>March</td>\n",
       "      <td>2019</td>\n",
       "      <td>другой</td>\n",
       "    </tr>\n",
       "    <tr>\n",
       "      <td>1</td>\n",
       "      <td>7</td>\n",
       "      <td>3350000</td>\n",
       "      <td>40.40</td>\n",
       "      <td>2018-12-04</td>\n",
       "      <td>1</td>\n",
       "      <td>0.00</td>\n",
       "      <td>11</td>\n",
       "      <td>18.60</td>\n",
       "      <td>1</td>\n",
       "      <td>False</td>\n",
       "      <td>...</td>\n",
       "      <td>0</td>\n",
       "      <td>nan</td>\n",
       "      <td>0.00</td>\n",
       "      <td>nan</td>\n",
       "      <td>81</td>\n",
       "      <td>180107</td>\n",
       "      <td>Tuesday</td>\n",
       "      <td>December</td>\n",
       "      <td>2018</td>\n",
       "      <td>первый этаж</td>\n",
       "    </tr>\n",
       "    <tr>\n",
       "      <td>2</td>\n",
       "      <td>10</td>\n",
       "      <td>5196000</td>\n",
       "      <td>56.00</td>\n",
       "      <td>2015-08-20</td>\n",
       "      <td>2</td>\n",
       "      <td>0.00</td>\n",
       "      <td>5</td>\n",
       "      <td>34.30</td>\n",
       "      <td>4</td>\n",
       "      <td>False</td>\n",
       "      <td>...</td>\n",
       "      <td>1</td>\n",
       "      <td>90.00</td>\n",
       "      <td>2.00</td>\n",
       "      <td>574.00</td>\n",
       "      <td>558</td>\n",
       "      <td>151486</td>\n",
       "      <td>Thursday</td>\n",
       "      <td>August</td>\n",
       "      <td>2015</td>\n",
       "      <td>другой</td>\n",
       "    </tr>\n",
       "    <tr>\n",
       "      <td>4</td>\n",
       "      <td>2</td>\n",
       "      <td>10000000</td>\n",
       "      <td>100.00</td>\n",
       "      <td>2018-06-19</td>\n",
       "      <td>2</td>\n",
       "      <td>3.03</td>\n",
       "      <td>14</td>\n",
       "      <td>32.00</td>\n",
       "      <td>13</td>\n",
       "      <td>False</td>\n",
       "      <td>...</td>\n",
       "      <td>2</td>\n",
       "      <td>112.00</td>\n",
       "      <td>1.00</td>\n",
       "      <td>48.00</td>\n",
       "      <td>121</td>\n",
       "      <td>312500</td>\n",
       "      <td>Tuesday</td>\n",
       "      <td>June</td>\n",
       "      <td>2018</td>\n",
       "      <td>другой</td>\n",
       "    </tr>\n",
       "    <tr>\n",
       "      <td>5</td>\n",
       "      <td>10</td>\n",
       "      <td>2890000</td>\n",
       "      <td>30.40</td>\n",
       "      <td>2018-09-10</td>\n",
       "      <td>1</td>\n",
       "      <td>0.00</td>\n",
       "      <td>12</td>\n",
       "      <td>14.40</td>\n",
       "      <td>5</td>\n",
       "      <td>False</td>\n",
       "      <td>...</td>\n",
       "      <td>0</td>\n",
       "      <td>nan</td>\n",
       "      <td>nan</td>\n",
       "      <td>nan</td>\n",
       "      <td>55</td>\n",
       "      <td>200694</td>\n",
       "      <td>Monday</td>\n",
       "      <td>September</td>\n",
       "      <td>2018</td>\n",
       "      <td>другой</td>\n",
       "    </tr>\n",
       "  </tbody>\n",
       "</table>\n",
       "<p>5 rows × 27 columns</p>\n",
       "</div>"
      ],
      "text/plain": [
       "   total_images  last_price  total_area first_day_exposition  rooms  \\\n",
       "0            20    13000000      108.00           2019-03-07      3   \n",
       "1             7     3350000       40.40           2018-12-04      1   \n",
       "2            10     5196000       56.00           2015-08-20      2   \n",
       "4             2    10000000      100.00           2018-06-19      2   \n",
       "5            10     2890000       30.40           2018-09-10      1   \n",
       "\n",
       "   ceiling_height  floors_total  living_area  floor  is_apartment  ...  \\\n",
       "0            2.70            16        51.00      8         False  ...   \n",
       "1            0.00            11        18.60      1         False  ...   \n",
       "2            0.00             5        34.30      4         False  ...   \n",
       "4            3.03            14        32.00     13         False  ...   \n",
       "5            0.00            12        14.40      5         False  ...   \n",
       "\n",
       "   parks_around3000  parks_nearest  ponds_around3000  ponds_nearest  \\\n",
       "0                 1         482.00              2.00         755.00   \n",
       "1                 0            nan              0.00            nan   \n",
       "2                 1          90.00              2.00         574.00   \n",
       "4                 2         112.00              1.00          48.00   \n",
       "5                 0            nan               nan            nan   \n",
       "\n",
       "  days_exposition  price_living_area  day_of_week      month  year  \\\n",
       "0               0             254901     Thursday      March  2019   \n",
       "1              81             180107      Tuesday   December  2018   \n",
       "2             558             151486     Thursday     August  2015   \n",
       "4             121             312500      Tuesday       June  2018   \n",
       "5              55             200694       Monday  September  2018   \n",
       "\n",
       "   which_floor  \n",
       "0       другой  \n",
       "1  первый этаж  \n",
       "2       другой  \n",
       "4       другой  \n",
       "5       другой  \n",
       "\n",
       "[5 rows x 27 columns]"
      ]
     },
     "execution_count": 30,
     "metadata": {},
     "output_type": "execute_result"
    }
   ],
   "source": [
    "def floor_df(row):\n",
    "    floors_group = row['floor']\n",
    "    floors_total_group = row['floors_total']\n",
    "    \n",
    "    if floors_group == floors_total_group:\n",
    "        return 'последний этаж'\n",
    "    if floors_group == 1:\n",
    "        return 'первый этаж'\n",
    "    if floors_group > 1:\n",
    "        if floors_group < floors_total_group:\n",
    "            return 'другой'\n",
    "    if floors_group < 1:\n",
    "        return 'не указан этаж'    \n",
    "        \n",
    "\n",
    "df['which_floor'] = df.apply(floor_df, axis =1)\n",
    "print(df['which_floor'].value_counts())\n",
    "df.head()"
   ]
  },
  {
   "cell_type": "markdown",
   "metadata": {},
   "source": [
    "<div class=\"alert alert-block alert-success\">\n",
    "<b>Success:</b> отличная функция!"
   ]
  },
  {
   "cell_type": "code",
   "execution_count": 31,
   "metadata": {
    "scrolled": true
   },
   "outputs": [
    {
     "data": {
      "text/html": [
       "<div>\n",
       "<style scoped>\n",
       "    .dataframe tbody tr th:only-of-type {\n",
       "        vertical-align: middle;\n",
       "    }\n",
       "\n",
       "    .dataframe tbody tr th {\n",
       "        vertical-align: top;\n",
       "    }\n",
       "\n",
       "    .dataframe thead th {\n",
       "        text-align: right;\n",
       "    }\n",
       "</style>\n",
       "<table border=\"1\" class=\"dataframe\">\n",
       "  <thead>\n",
       "    <tr style=\"text-align: right;\">\n",
       "      <th></th>\n",
       "      <th>total_images</th>\n",
       "      <th>last_price</th>\n",
       "      <th>total_area</th>\n",
       "      <th>first_day_exposition</th>\n",
       "      <th>rooms</th>\n",
       "      <th>ceiling_height</th>\n",
       "      <th>floors_total</th>\n",
       "      <th>living_area</th>\n",
       "      <th>floor</th>\n",
       "      <th>is_apartment</th>\n",
       "      <th>...</th>\n",
       "      <th>ponds_around3000</th>\n",
       "      <th>ponds_nearest</th>\n",
       "      <th>days_exposition</th>\n",
       "      <th>price_living_area</th>\n",
       "      <th>day_of_week</th>\n",
       "      <th>month</th>\n",
       "      <th>year</th>\n",
       "      <th>which_floor</th>\n",
       "      <th>square_living_total</th>\n",
       "      <th>square_kitchen_total</th>\n",
       "    </tr>\n",
       "  </thead>\n",
       "  <tbody>\n",
       "    <tr>\n",
       "      <td>0</td>\n",
       "      <td>20</td>\n",
       "      <td>13000000</td>\n",
       "      <td>108.00</td>\n",
       "      <td>2019-03-07</td>\n",
       "      <td>3</td>\n",
       "      <td>2.70</td>\n",
       "      <td>16</td>\n",
       "      <td>51.00</td>\n",
       "      <td>8</td>\n",
       "      <td>False</td>\n",
       "      <td>...</td>\n",
       "      <td>2.00</td>\n",
       "      <td>755.00</td>\n",
       "      <td>0</td>\n",
       "      <td>254901</td>\n",
       "      <td>Thursday</td>\n",
       "      <td>March</td>\n",
       "      <td>2019</td>\n",
       "      <td>другой</td>\n",
       "      <td>0.47</td>\n",
       "      <td>0.23</td>\n",
       "    </tr>\n",
       "    <tr>\n",
       "      <td>1</td>\n",
       "      <td>7</td>\n",
       "      <td>3350000</td>\n",
       "      <td>40.40</td>\n",
       "      <td>2018-12-04</td>\n",
       "      <td>1</td>\n",
       "      <td>0.00</td>\n",
       "      <td>11</td>\n",
       "      <td>18.60</td>\n",
       "      <td>1</td>\n",
       "      <td>False</td>\n",
       "      <td>...</td>\n",
       "      <td>0.00</td>\n",
       "      <td>nan</td>\n",
       "      <td>81</td>\n",
       "      <td>180107</td>\n",
       "      <td>Tuesday</td>\n",
       "      <td>December</td>\n",
       "      <td>2018</td>\n",
       "      <td>первый этаж</td>\n",
       "      <td>0.46</td>\n",
       "      <td>0.27</td>\n",
       "    </tr>\n",
       "    <tr>\n",
       "      <td>2</td>\n",
       "      <td>10</td>\n",
       "      <td>5196000</td>\n",
       "      <td>56.00</td>\n",
       "      <td>2015-08-20</td>\n",
       "      <td>2</td>\n",
       "      <td>0.00</td>\n",
       "      <td>5</td>\n",
       "      <td>34.30</td>\n",
       "      <td>4</td>\n",
       "      <td>False</td>\n",
       "      <td>...</td>\n",
       "      <td>2.00</td>\n",
       "      <td>574.00</td>\n",
       "      <td>558</td>\n",
       "      <td>151486</td>\n",
       "      <td>Thursday</td>\n",
       "      <td>August</td>\n",
       "      <td>2015</td>\n",
       "      <td>другой</td>\n",
       "      <td>0.61</td>\n",
       "      <td>0.15</td>\n",
       "    </tr>\n",
       "    <tr>\n",
       "      <td>4</td>\n",
       "      <td>2</td>\n",
       "      <td>10000000</td>\n",
       "      <td>100.00</td>\n",
       "      <td>2018-06-19</td>\n",
       "      <td>2</td>\n",
       "      <td>3.03</td>\n",
       "      <td>14</td>\n",
       "      <td>32.00</td>\n",
       "      <td>13</td>\n",
       "      <td>False</td>\n",
       "      <td>...</td>\n",
       "      <td>1.00</td>\n",
       "      <td>48.00</td>\n",
       "      <td>121</td>\n",
       "      <td>312500</td>\n",
       "      <td>Tuesday</td>\n",
       "      <td>June</td>\n",
       "      <td>2018</td>\n",
       "      <td>другой</td>\n",
       "      <td>0.32</td>\n",
       "      <td>0.41</td>\n",
       "    </tr>\n",
       "    <tr>\n",
       "      <td>5</td>\n",
       "      <td>10</td>\n",
       "      <td>2890000</td>\n",
       "      <td>30.40</td>\n",
       "      <td>2018-09-10</td>\n",
       "      <td>1</td>\n",
       "      <td>0.00</td>\n",
       "      <td>12</td>\n",
       "      <td>14.40</td>\n",
       "      <td>5</td>\n",
       "      <td>False</td>\n",
       "      <td>...</td>\n",
       "      <td>nan</td>\n",
       "      <td>nan</td>\n",
       "      <td>55</td>\n",
       "      <td>200694</td>\n",
       "      <td>Monday</td>\n",
       "      <td>September</td>\n",
       "      <td>2018</td>\n",
       "      <td>другой</td>\n",
       "      <td>0.47</td>\n",
       "      <td>0.30</td>\n",
       "    </tr>\n",
       "  </tbody>\n",
       "</table>\n",
       "<p>5 rows × 29 columns</p>\n",
       "</div>"
      ],
      "text/plain": [
       "   total_images  last_price  total_area first_day_exposition  rooms  \\\n",
       "0            20    13000000      108.00           2019-03-07      3   \n",
       "1             7     3350000       40.40           2018-12-04      1   \n",
       "2            10     5196000       56.00           2015-08-20      2   \n",
       "4             2    10000000      100.00           2018-06-19      2   \n",
       "5            10     2890000       30.40           2018-09-10      1   \n",
       "\n",
       "   ceiling_height  floors_total  living_area  floor  is_apartment  ...  \\\n",
       "0            2.70            16        51.00      8         False  ...   \n",
       "1            0.00            11        18.60      1         False  ...   \n",
       "2            0.00             5        34.30      4         False  ...   \n",
       "4            3.03            14        32.00     13         False  ...   \n",
       "5            0.00            12        14.40      5         False  ...   \n",
       "\n",
       "   ponds_around3000  ponds_nearest  days_exposition  price_living_area  \\\n",
       "0              2.00         755.00                0             254901   \n",
       "1              0.00            nan               81             180107   \n",
       "2              2.00         574.00              558             151486   \n",
       "4              1.00          48.00              121             312500   \n",
       "5               nan            nan               55             200694   \n",
       "\n",
       "  day_of_week      month  year  which_floor  square_living_total  \\\n",
       "0    Thursday      March  2019       другой                 0.47   \n",
       "1     Tuesday   December  2018  первый этаж                 0.46   \n",
       "2    Thursday     August  2015       другой                 0.61   \n",
       "4     Tuesday       June  2018       другой                 0.32   \n",
       "5      Monday  September  2018       другой                 0.47   \n",
       "\n",
       "   square_kitchen_total  \n",
       "0                  0.23  \n",
       "1                  0.27  \n",
       "2                  0.15  \n",
       "4                  0.41  \n",
       "5                  0.30  \n",
       "\n",
       "[5 rows x 29 columns]"
      ]
     },
     "execution_count": 31,
     "metadata": {},
     "output_type": "execute_result"
    }
   ],
   "source": [
    "df['square_living_total'] = df['living_area'] / df['total_area']\n",
    "df['square_kitchen_total'] = df['kitchen_area'] / df['total_area'] \n",
    "df.head()"
   ]
  },
  {
   "cell_type": "code",
   "execution_count": null,
   "metadata": {},
   "outputs": [],
   "source": []
  },
  {
   "cell_type": "markdown",
   "metadata": {},
   "source": [
    "## Исследовательский анализ данных"
   ]
  },
  {
   "cell_type": "code",
   "execution_count": 32,
   "metadata": {},
   "outputs": [
    {
     "data": {
      "image/png": "[encoded data removed]",
      "text/plain": [
       "<Figure size 432x288 with 1 Axes>"
      ]
     },
     "metadata": {},
     "output_type": "display_data"
    }
   ],
   "source": [
    "import seaborn as sns\n",
    "import matplotlib.pyplot as plt\n",
    "\n",
    "#df['total_area'].hist(bins = 1000)\n",
    "total = df.query('total_area < 200')\n",
    "#total['total_area'].hist(bins = 100)\n",
    "\n",
    "#sns.histplot(data =total, x = 'total_area', hist=True, kde=False, rug=False )\n",
    "\n",
    "\n",
    "sns.set(style=\"darkgrid\")\n",
    "sns\n",
    "\n",
    "sns.histplot(data=total, x=\"total_area\", kde=True)\n",
    "plt.title('Total area')\n",
    "plt.show()\n"
   ]
  },
  {
   "cell_type": "code",
   "execution_count": 33,
   "metadata": {},
   "outputs": [
    {
     "data": {
      "text/html": [
       "<div>\n",
       "<style scoped>\n",
       "    .dataframe tbody tr th:only-of-type {\n",
       "        vertical-align: middle;\n",
       "    }\n",
       "\n",
       "    .dataframe tbody tr th {\n",
       "        vertical-align: top;\n",
       "    }\n",
       "\n",
       "    .dataframe thead th {\n",
       "        text-align: right;\n",
       "    }\n",
       "</style>\n",
       "<table border=\"1\" class=\"dataframe\">\n",
       "  <thead>\n",
       "    <tr style=\"text-align: right;\">\n",
       "      <th></th>\n",
       "      <th>total_images</th>\n",
       "      <th>last_price</th>\n",
       "      <th>total_area</th>\n",
       "      <th>first_day_exposition</th>\n",
       "      <th>rooms</th>\n",
       "      <th>ceiling_height</th>\n",
       "      <th>floors_total</th>\n",
       "      <th>living_area</th>\n",
       "      <th>floor</th>\n",
       "      <th>is_apartment</th>\n",
       "      <th>...</th>\n",
       "      <th>ponds_around3000</th>\n",
       "      <th>ponds_nearest</th>\n",
       "      <th>days_exposition</th>\n",
       "      <th>price_living_area</th>\n",
       "      <th>day_of_week</th>\n",
       "      <th>month</th>\n",
       "      <th>year</th>\n",
       "      <th>which_floor</th>\n",
       "      <th>square_living_total</th>\n",
       "      <th>square_kitchen_total</th>\n",
       "    </tr>\n",
       "  </thead>\n",
       "  <tbody>\n",
       "    <tr>\n",
       "      <td>0</td>\n",
       "      <td>20</td>\n",
       "      <td>13000000</td>\n",
       "      <td>108.00</td>\n",
       "      <td>2019-03-07</td>\n",
       "      <td>3</td>\n",
       "      <td>2.70</td>\n",
       "      <td>16</td>\n",
       "      <td>51.00</td>\n",
       "      <td>8</td>\n",
       "      <td>False</td>\n",
       "      <td>...</td>\n",
       "      <td>2.00</td>\n",
       "      <td>755.00</td>\n",
       "      <td>0</td>\n",
       "      <td>254901</td>\n",
       "      <td>Thursday</td>\n",
       "      <td>March</td>\n",
       "      <td>2019</td>\n",
       "      <td>другой</td>\n",
       "      <td>0.47</td>\n",
       "      <td>0.23</td>\n",
       "    </tr>\n",
       "    <tr>\n",
       "      <td>1</td>\n",
       "      <td>7</td>\n",
       "      <td>3350000</td>\n",
       "      <td>40.40</td>\n",
       "      <td>2018-12-04</td>\n",
       "      <td>1</td>\n",
       "      <td>0.00</td>\n",
       "      <td>11</td>\n",
       "      <td>18.60</td>\n",
       "      <td>1</td>\n",
       "      <td>False</td>\n",
       "      <td>...</td>\n",
       "      <td>0.00</td>\n",
       "      <td>nan</td>\n",
       "      <td>81</td>\n",
       "      <td>180107</td>\n",
       "      <td>Tuesday</td>\n",
       "      <td>December</td>\n",
       "      <td>2018</td>\n",
       "      <td>первый этаж</td>\n",
       "      <td>0.46</td>\n",
       "      <td>0.27</td>\n",
       "    </tr>\n",
       "    <tr>\n",
       "      <td>2</td>\n",
       "      <td>10</td>\n",
       "      <td>5196000</td>\n",
       "      <td>56.00</td>\n",
       "      <td>2015-08-20</td>\n",
       "      <td>2</td>\n",
       "      <td>0.00</td>\n",
       "      <td>5</td>\n",
       "      <td>34.30</td>\n",
       "      <td>4</td>\n",
       "      <td>False</td>\n",
       "      <td>...</td>\n",
       "      <td>2.00</td>\n",
       "      <td>574.00</td>\n",
       "      <td>558</td>\n",
       "      <td>151486</td>\n",
       "      <td>Thursday</td>\n",
       "      <td>August</td>\n",
       "      <td>2015</td>\n",
       "      <td>другой</td>\n",
       "      <td>0.61</td>\n",
       "      <td>0.15</td>\n",
       "    </tr>\n",
       "    <tr>\n",
       "      <td>4</td>\n",
       "      <td>2</td>\n",
       "      <td>10000000</td>\n",
       "      <td>100.00</td>\n",
       "      <td>2018-06-19</td>\n",
       "      <td>2</td>\n",
       "      <td>3.03</td>\n",
       "      <td>14</td>\n",
       "      <td>32.00</td>\n",
       "      <td>13</td>\n",
       "      <td>False</td>\n",
       "      <td>...</td>\n",
       "      <td>1.00</td>\n",
       "      <td>48.00</td>\n",
       "      <td>121</td>\n",
       "      <td>312500</td>\n",
       "      <td>Tuesday</td>\n",
       "      <td>June</td>\n",
       "      <td>2018</td>\n",
       "      <td>другой</td>\n",
       "      <td>0.32</td>\n",
       "      <td>0.41</td>\n",
       "    </tr>\n",
       "    <tr>\n",
       "      <td>5</td>\n",
       "      <td>10</td>\n",
       "      <td>2890000</td>\n",
       "      <td>30.40</td>\n",
       "      <td>2018-09-10</td>\n",
       "      <td>1</td>\n",
       "      <td>0.00</td>\n",
       "      <td>12</td>\n",
       "      <td>14.40</td>\n",
       "      <td>5</td>\n",
       "      <td>False</td>\n",
       "      <td>...</td>\n",
       "      <td>nan</td>\n",
       "      <td>nan</td>\n",
       "      <td>55</td>\n",
       "      <td>200694</td>\n",
       "      <td>Monday</td>\n",
       "      <td>September</td>\n",
       "      <td>2018</td>\n",
       "      <td>другой</td>\n",
       "      <td>0.47</td>\n",
       "      <td>0.30</td>\n",
       "    </tr>\n",
       "  </tbody>\n",
       "</table>\n",
       "<p>5 rows × 29 columns</p>\n",
       "</div>"
      ],
      "text/plain": [
       "   total_images  last_price  total_area first_day_exposition  rooms  \\\n",
       "0            20    13000000      108.00           2019-03-07      3   \n",
       "1             7     3350000       40.40           2018-12-04      1   \n",
       "2            10     5196000       56.00           2015-08-20      2   \n",
       "4             2    10000000      100.00           2018-06-19      2   \n",
       "5            10     2890000       30.40           2018-09-10      1   \n",
       "\n",
       "   ceiling_height  floors_total  living_area  floor  is_apartment  ...  \\\n",
       "0            2.70            16        51.00      8         False  ...   \n",
       "1            0.00            11        18.60      1         False  ...   \n",
       "2            0.00             5        34.30      4         False  ...   \n",
       "4            3.03            14        32.00     13         False  ...   \n",
       "5            0.00            12        14.40      5         False  ...   \n",
       "\n",
       "   ponds_around3000  ponds_nearest  days_exposition  price_living_area  \\\n",
       "0              2.00         755.00                0             254901   \n",
       "1              0.00            nan               81             180107   \n",
       "2              2.00         574.00              558             151486   \n",
       "4              1.00          48.00              121             312500   \n",
       "5               nan            nan               55             200694   \n",
       "\n",
       "  day_of_week      month  year  which_floor  square_living_total  \\\n",
       "0    Thursday      March  2019       другой                 0.47   \n",
       "1     Tuesday   December  2018  первый этаж                 0.46   \n",
       "2    Thursday     August  2015       другой                 0.61   \n",
       "4     Tuesday       June  2018       другой                 0.32   \n",
       "5      Monday  September  2018       другой                 0.47   \n",
       "\n",
       "   square_kitchen_total  \n",
       "0                  0.23  \n",
       "1                  0.27  \n",
       "2                  0.15  \n",
       "4                  0.41  \n",
       "5                  0.30  \n",
       "\n",
       "[5 rows x 29 columns]"
      ]
     },
     "execution_count": 33,
     "metadata": {},
     "output_type": "execute_result"
    }
   ],
   "source": [
    "df.head()"
   ]
  },
  {
   "cell_type": "markdown",
   "metadata": {},
   "source": [
    "Самая популярная жилая площядь применрно от 27 до 75 м2"
   ]
  },
  {
   "cell_type": "code",
   "execution_count": 34,
   "metadata": {},
   "outputs": [
    {
     "data": {
      "image/png": "[encoded data removed]",
      "text/plain": [
       "<Figure size 432x288 with 1 Axes>"
      ]
     },
     "metadata": {},
     "output_type": "display_data"
    }
   ],
   "source": [
    "#df['last_price'].hist(bins = 1000)\n",
    "total1 = df.query('last_price < 15000000')\n",
    "#total1['last_price'].hist(bins = 100)\n",
    "\n",
    "sns.histplot(data=total1, x=\"last_price\",kde=True)\n",
    "plt.title('Last price')\n",
    "plt.show()"
   ]
  },
  {
   "cell_type": "code",
   "execution_count": 118,
   "metadata": {},
   "outputs": [
    {
     "data": {
      "image/png": "[encoded data removed]",
      "text/plain": [
       "<Figure size 432x288 with 1 Axes>"
      ]
     },
     "metadata": {},
     "output_type": "display_data"
    }
   ],
   "source": [
    "total2 = df.query('rooms > 0')\n",
    "sns.histplot(data=total2, x=\"rooms\", bins = 20)\n",
    "plt.title('Rooms')\n",
    "plt.show()"
   ]
  },
  {
   "cell_type": "code",
   "execution_count": 41,
   "metadata": {},
   "outputs": [
    {
     "data": {
      "image/png": "[encoded data removed]",
      "text/plain": [
       "<Figure size 432x288 with 1 Axes>"
      ]
     },
     "metadata": {},
     "output_type": "display_data"
    }
   ],
   "source": [
    "#df['ceiling_height'].hist(bins = 30)\n",
    "total3 = df.query('ceiling_height > 0') # убираем нулевые значения, считаем что 0 = не указанное значение\n",
    "#total3['ceiling_height'].hist(bins = 50, range = (2, 5))\n",
    "sns.histplot(data=total3, x=\"ceiling_height\",bins = 15)\n",
    "plt.title('Ceiling height')\n",
    "plt.show()"
   ]
  },
  {
   "cell_type": "code",
   "execution_count": 42,
   "metadata": {},
   "outputs": [
    {
     "data": {
      "image/png": "[encoded data removed]",
      "text/plain": [
       "<Figure size 432x288 with 1 Axes>"
      ]
     },
     "metadata": {},
     "output_type": "display_data"
    }
   ],
   "source": [
    "#df['days_exposition'].hist(bins = 30)\n",
    "total4 = df.query('days_exposition > 0')\n",
    "#total4['days_exposition'].hist(bins = 100)\n",
    "#print('Среднее значение:' ,total4['days_exposition'].mean())\n",
    "#print('Медианное значение значение:' ,total4['days_exposition'].median())\n",
    "\n",
    "sns.histplot(data=total4, x=\"days_exposition\")\n",
    "plt.title('Days exposition')\n",
    "plt.show()"
   ]
  },
  {
   "cell_type": "code",
   "execution_count": 45,
   "metadata": {},
   "outputs": [
    {
     "data": {
      "image/png": "[encoded data removed]",
      "text/plain": [
       "<Figure size 432x288 with 1 Axes>"
      ]
     },
     "metadata": {},
     "output_type": "display_data"
    }
   ],
   "source": [
    "total5 = df.query('100 > days_exposition > 0')\n",
    "sns.histplot(data=total5, x=\"days_exposition\", bins = 50)\n",
    "plt.title('Days exposition')\n",
    "plt.show()"
   ]
  },
  {
   "cell_type": "markdown",
   "metadata": {},
   "source": [
    "Среднее значение равняется 184 дням. \n",
    "Считаю что быстрая продажа это в районе от 1 до 90 дней. Самое большое количество продаж на 45й и 60й день.\n",
    "От 90 до 200 это средняя продолжительность.\n",
    "Больше 200 дней это долгий срок.\n"
   ]
  },
  {
   "cell_type": "code",
   "execution_count": 50,
   "metadata": {},
   "outputs": [
    {
     "data": {
      "text/plain": [
       "Text(0.5, 1, 'Last price * total area')"
      ]
     },
     "execution_count": 50,
     "metadata": {},
     "output_type": "execute_result"
    },
    {
     "data": {
      "image/png": "[encoded data removed]",
      "text/plain": [
       "<Figure size 360x360 with 1 Axes>"
      ]
     },
     "metadata": {},
     "output_type": "display_data"
    }
   ],
   "source": [
    "#df.plot(x= 'last_price', y = 'total_area', kind = 'scatter')\n",
    "sns.relplot(x=\"last_price\", y=\"total_area\", data=df)\n",
    "plt.title('Last price * total area')"
   ]
  },
  {
   "cell_type": "markdown",
   "metadata": {},
   "source": [
    "Чем больше площадь, тем больше цена."
   ]
  },
  {
   "cell_type": "code",
   "execution_count": 53,
   "metadata": {},
   "outputs": [
    {
     "data": {
      "text/plain": [
       "Text(0.5, 1, 'Last price * rooms')"
      ]
     },
     "execution_count": 53,
     "metadata": {},
     "output_type": "execute_result"
    },
    {
     "data": {
      "image/png": "[encoded data removed]",
      "text/plain": [
       "<Figure size 360x360 with 1 Axes>"
      ]
     },
     "metadata": {},
     "output_type": "display_data"
    }
   ],
   "source": [
    "#df.plot(x= 'last_price', y = 'rooms', kind = 'scatter')\n",
    "sns.relplot(x=\"last_price\", y=\"rooms\", data=df)\n",
    "plt.title('Last price * rooms')"
   ]
  },
  {
   "cell_type": "markdown",
   "metadata": {},
   "source": [
    "В зависимотси от колличества комнат, цена возрастает."
   ]
  },
  {
   "cell_type": "code",
   "execution_count": 55,
   "metadata": {},
   "outputs": [
    {
     "data": {
      "text/plain": [
       "Text(0.5, 1, 'Last price * city Centers nearest')"
      ]
     },
     "execution_count": 55,
     "metadata": {},
     "output_type": "execute_result"
    },
    {
     "data": {
      "image/png": "[encoded data removed]",
      "text/plain": [
       "<Figure size 360x360 with 1 Axes>"
      ]
     },
     "metadata": {},
     "output_type": "display_data"
    }
   ],
   "source": [
    "#df.plot(x= 'last_price', y = 'cityCenters_nearest', kind = 'scatter')\n",
    "sns.relplot(x=\"last_price\", y=\"cityCenters_nearest\", data=df)\n",
    "plt.title('Last price * city Centers nearest')"
   ]
  },
  {
   "cell_type": "markdown",
   "metadata": {},
   "source": [
    "Чем ближе к центру тем дороже."
   ]
  },
  {
   "cell_type": "code",
   "execution_count": 57,
   "metadata": {},
   "outputs": [
    {
     "name": "stdout",
     "output_type": "stream",
     "text": [
      "1.00    15994\n",
      "2.00     3101\n",
      "0.00     2643\n",
      "Name: which_floor012, dtype: int64\n"
     ]
    },
    {
     "data": {
      "text/plain": [
       "Text(0.5, 1, 'Last price * which floor')"
      ]
     },
     "execution_count": 57,
     "metadata": {},
     "output_type": "execute_result"
    },
    {
     "data": {
      "image/png": "[encoded data removed]",
      "text/plain": [
       "<Figure size 360x360 with 1 Axes>"
      ]
     },
     "metadata": {},
     "output_type": "display_data"
    }
   ],
   "source": [
    "\n",
    "def floor_df_012(row):\n",
    "    floors_group012 = row['which_floor']\n",
    "    \n",
    "    \n",
    "    if floors_group012 == 'последний этаж':\n",
    "        return 2\n",
    "    if floors_group012 == 'первый этаж':\n",
    "        return 0\n",
    "    if floors_group012 == 'другой':\n",
    "        return 1\n",
    "       \n",
    "        \n",
    "\n",
    "df['which_floor012'] = df.apply(floor_df_012, axis =1)\n",
    "print(df['which_floor012'].value_counts())\n",
    "df.head()\n",
    "\n",
    "#df.plot(x= 'last_price', y = 'which_floor012', kind = 'scatter')\n",
    "\n",
    "sns.relplot(x=\"last_price\", y=\"which_floor012\", data=df)\n",
    "plt.title('Last price * which floor')"
   ]
  },
  {
   "cell_type": "markdown",
   "metadata": {},
   "source": [
    "На первом этаже самые низкие цены. Другие этажи цены высокие. На последнем этаже бывают самые дорогие квартиры."
   ]
  },
  {
   "cell_type": "code",
   "execution_count": 58,
   "metadata": {},
   "outputs": [
    {
     "name": "stdout",
     "output_type": "stream",
     "text": [
      "4    3974\n",
      "2    3893\n",
      "5    3680\n",
      "3    3642\n",
      "1    3352\n",
      "6    1730\n",
      "7    1519\n",
      "Name: day_of_week12, dtype: int64\n"
     ]
    },
    {
     "data": {
      "text/plain": [
       "Text(0.5, 1, 'Last price * day_of_week')"
      ]
     },
     "execution_count": 58,
     "metadata": {},
     "output_type": "execute_result"
    },
    {
     "data": {
      "image/png": "[encoded data removed]",
      "text/plain": [
       "<Figure size 360x360 with 1 Axes>"
      ]
     },
     "metadata": {},
     "output_type": "display_data"
    }
   ],
   "source": [
    "#df['day_of_week'] = df['day_of_week'].astype('int')\n",
    "#df.plot(x= 'last_price', y = 'day_of_week', kind = 'scatter')\n",
    "\n",
    "#station_stat_multi = df.pivot_table( columns = 'last_price',\n",
    "    #values=['rooms', 'cityCenters_nearest', 'which_floor012']\n",
    "#)\n",
    "#print(good_station_stat)\n",
    "#pd.plotting.scatter_matrix(station_stat_multi, figsize = (9, 9))\n",
    "\n",
    "def day_of_weeks(row):\n",
    "    day_of_weeks1 = row['day_of_week']\n",
    "    \n",
    "    \n",
    "    if day_of_weeks1 == 'Monday':\n",
    "        return 1\n",
    "    if day_of_weeks1 == 'Tuesday':\n",
    "        return 2\n",
    "    if day_of_weeks1 == 'Wednesday':\n",
    "        return 3\n",
    "    if day_of_weeks1 == 'Thursday':\n",
    "        return 4\n",
    "    if day_of_weeks1 == 'Friday':\n",
    "        return 5\n",
    "    if day_of_weeks1 == 'Saturday':\n",
    "        return 6\n",
    "    if day_of_weeks1 == 'Sunday':\n",
    "        return 7\n",
    "    \n",
    "df['day_of_week12'] = df.apply(day_of_weeks, axis =1)\n",
    "print(df['day_of_week12'].value_counts())\n",
    "\n",
    "#df.plot(x= 'last_price', y = 'day_of_week12', kind = 'scatter')\n",
    "\n",
    "sns.relplot(x=\"last_price\", y=\"day_of_week12\", data=df)\n",
    "plt.title('Last price * day_of_week')"
   ]
  },
  {
   "cell_type": "code",
   "execution_count": 95,
   "metadata": {},
   "outputs": [
    {
     "data": {
      "text/plain": [
       "Санкт-Петербург      14576\n",
       "посёлок Мурино         460\n",
       "посёлок Шушары         404\n",
       "Всеволожск             371\n",
       "Пушкин                 345\n",
       "Колпино                328\n",
       "посёлок Парголово      301\n",
       "Гатчина                292\n",
       "деревня Кудрово        262\n",
       "Петергоф               197\n",
       "Name: locality_name, dtype: int64"
      ]
     },
     "execution_count": 95,
     "metadata": {},
     "output_type": "execute_result"
    }
   ],
   "source": [
    "df10 = df['locality_name'].value_counts().head(10)\n",
    "df"
   ]
  },
  {
   "cell_type": "code",
   "execution_count": 94,
   "metadata": {},
   "outputs": [
    {
     "data": {
      "text/html": [
       "<div>\n",
       "<style scoped>\n",
       "    .dataframe tbody tr th:only-of-type {\n",
       "        vertical-align: middle;\n",
       "    }\n",
       "\n",
       "    .dataframe tbody tr th {\n",
       "        vertical-align: top;\n",
       "    }\n",
       "\n",
       "    .dataframe thead th {\n",
       "        text-align: right;\n",
       "    }\n",
       "</style>\n",
       "<table border=\"1\" class=\"dataframe\">\n",
       "  <thead>\n",
       "    <tr style=\"text-align: right;\">\n",
       "      <th></th>\n",
       "      <th>price_living_area</th>\n",
       "      <th>count</th>\n",
       "    </tr>\n",
       "    <tr>\n",
       "      <th>locality_name</th>\n",
       "      <th></th>\n",
       "      <th></th>\n",
       "    </tr>\n",
       "  </thead>\n",
       "  <tbody>\n",
       "    <tr>\n",
       "      <td>Санкт-Петербург</td>\n",
       "      <td>213202.57</td>\n",
       "      <td>14576</td>\n",
       "    </tr>\n",
       "    <tr>\n",
       "      <td>посёлок Мурино</td>\n",
       "      <td>175242.22</td>\n",
       "      <td>460</td>\n",
       "    </tr>\n",
       "    <tr>\n",
       "      <td>посёлок Шушары</td>\n",
       "      <td>156336.94</td>\n",
       "      <td>404</td>\n",
       "    </tr>\n",
       "    <tr>\n",
       "      <td>Всеволожск</td>\n",
       "      <td>133544.57</td>\n",
       "      <td>371</td>\n",
       "    </tr>\n",
       "    <tr>\n",
       "      <td>Пушкин</td>\n",
       "      <td>192253.68</td>\n",
       "      <td>345</td>\n",
       "    </tr>\n",
       "    <tr>\n",
       "      <td>Колпино</td>\n",
       "      <td>132022.64</td>\n",
       "      <td>328</td>\n",
       "    </tr>\n",
       "    <tr>\n",
       "      <td>посёлок Парголово</td>\n",
       "      <td>200717.76</td>\n",
       "      <td>301</td>\n",
       "    </tr>\n",
       "    <tr>\n",
       "      <td>Гатчина</td>\n",
       "      <td>123844.16</td>\n",
       "      <td>292</td>\n",
       "    </tr>\n",
       "    <tr>\n",
       "      <td>деревня Кудрово</td>\n",
       "      <td>188186.61</td>\n",
       "      <td>262</td>\n",
       "    </tr>\n",
       "    <tr>\n",
       "      <td>Петергоф</td>\n",
       "      <td>147747.35</td>\n",
       "      <td>197</td>\n",
       "    </tr>\n",
       "  </tbody>\n",
       "</table>\n",
       "</div>"
      ],
      "text/plain": [
       "                   price_living_area  count\n",
       "locality_name                              \n",
       "Санкт-Петербург            213202.57  14576\n",
       "посёлок Мурино             175242.22    460\n",
       "посёлок Шушары             156336.94    404\n",
       "Всеволожск                 133544.57    371\n",
       "Пушкин                     192253.68    345\n",
       "Колпино                    132022.64    328\n",
       "посёлок Парголово          200717.76    301\n",
       "Гатчина                    123844.16    292\n",
       "деревня Кудрово            188186.61    262\n",
       "Петергоф                   147747.35    197"
      ]
     },
     "execution_count": 94,
     "metadata": {},
     "output_type": "execute_result"
    }
   ],
   "source": [
    "\n",
    "df10 = df.pivot_table(index = 'locality_name', values = 'price_living_area', aggfunc = ['mean', 'count'])\n",
    "df10.columns = ['price_living_area', 'count']\n",
    "df10 = df10.sort_values(by = 'count', ascending = False).head(10)\n",
    "df10"
   ]
  },
  {
   "cell_type": "code",
   "execution_count": null,
   "metadata": {},
   "outputs": [],
   "source": [
    "#df.loc[df['locality_name'] == 'Санкт-Петербург', 'price_living_area'].mean()"
   ]
  },
  {
   "cell_type": "code",
   "execution_count": null,
   "metadata": {},
   "outputs": [],
   "source": [
    "#df.loc[df['locality_name'] == 'посёлок Мурино', 'price_living_area'].mean()"
   ]
  },
  {
   "cell_type": "code",
   "execution_count": null,
   "metadata": {},
   "outputs": [],
   "source": [
    "#df.loc[df['locality_name'] == 'посёлок Шушары', 'price_living_area'].mean()"
   ]
  },
  {
   "cell_type": "code",
   "execution_count": null,
   "metadata": {},
   "outputs": [],
   "source": [
    "#df.loc[df['locality_name'] == 'Всеволожск', 'price_living_area'].mean()"
   ]
  },
  {
   "cell_type": "code",
   "execution_count": null,
   "metadata": {},
   "outputs": [],
   "source": [
    "#df.loc[df['locality_name'] == 'Пушкин', 'price_living_area'].mean()"
   ]
  },
  {
   "cell_type": "code",
   "execution_count": null,
   "metadata": {},
   "outputs": [],
   "source": [
    "#df.loc[df['locality_name'] == 'Колпино', 'price_living_area'].mean()"
   ]
  },
  {
   "cell_type": "code",
   "execution_count": null,
   "metadata": {},
   "outputs": [],
   "source": [
    "#df.loc[df['locality_name'] == 'посёлок Парголово', 'price_living_area'].mean()"
   ]
  },
  {
   "cell_type": "code",
   "execution_count": null,
   "metadata": {},
   "outputs": [],
   "source": [
    "#df.loc[df['locality_name'] == 'Гатчина', 'price_living_area'].mean()"
   ]
  },
  {
   "cell_type": "code",
   "execution_count": null,
   "metadata": {},
   "outputs": [],
   "source": [
    "#df.loc[df['locality_name'] == 'деревня Кудрово', 'price_living_area'].mean()"
   ]
  },
  {
   "cell_type": "code",
   "execution_count": null,
   "metadata": {},
   "outputs": [],
   "source": [
    "#df.loc[df['locality_name'] == 'Петергоф', 'price_living_area'].mean()"
   ]
  },
  {
   "cell_type": "markdown",
   "metadata": {},
   "source": [
    "Самая дорогая цена за кв.м в Санкт-Питербурге. Самая дешевая в Гатчине."
   ]
  },
  {
   "cell_type": "code",
   "execution_count": 96,
   "metadata": {},
   "outputs": [
    {
     "name": "stderr",
     "output_type": "stream",
     "text": [
      "/opt/conda/lib/python3.7/site-packages/ipykernel_launcher.py:2: SettingWithCopyWarning: \n",
      "A value is trying to be set on a copy of a slice from a DataFrame.\n",
      "Try using .loc[row_indexer,col_indexer] = value instead\n",
      "\n",
      "See the caveats in the documentation: http://pandas.pydata.org/pandas-docs/stable/user_guide/indexing.html#returning-a-view-versus-a-copy\n",
      "  \n",
      "/opt/conda/lib/python3.7/site-packages/ipykernel_launcher.py:3: SettingWithCopyWarning: \n",
      "A value is trying to be set on a copy of a slice from a DataFrame.\n",
      "Try using .loc[row_indexer,col_indexer] = value instead\n",
      "\n",
      "See the caveats in the documentation: http://pandas.pydata.org/pandas-docs/stable/user_guide/indexing.html#returning-a-view-versus-a-copy\n",
      "  This is separate from the ipykernel package so we can avoid doing imports until\n",
      "/opt/conda/lib/python3.7/site-packages/ipykernel_launcher.py:4: SettingWithCopyWarning: \n",
      "A value is trying to be set on a copy of a slice from a DataFrame.\n",
      "Try using .loc[row_indexer,col_indexer] = value instead\n",
      "\n",
      "See the caveats in the documentation: http://pandas.pydata.org/pandas-docs/stable/user_guide/indexing.html#returning-a-view-versus-a-copy\n",
      "  after removing the cwd from sys.path.\n"
     ]
    },
    {
     "data": {
      "text/html": [
       "<div>\n",
       "<style scoped>\n",
       "    .dataframe tbody tr th:only-of-type {\n",
       "        vertical-align: middle;\n",
       "    }\n",
       "\n",
       "    .dataframe tbody tr th {\n",
       "        vertical-align: top;\n",
       "    }\n",
       "\n",
       "    .dataframe thead th {\n",
       "        text-align: right;\n",
       "    }\n",
       "</style>\n",
       "<table border=\"1\" class=\"dataframe\">\n",
       "  <thead>\n",
       "    <tr style=\"text-align: right;\">\n",
       "      <th></th>\n",
       "      <th>total_images</th>\n",
       "      <th>last_price</th>\n",
       "      <th>total_area</th>\n",
       "      <th>first_day_exposition</th>\n",
       "      <th>rooms</th>\n",
       "      <th>ceiling_height</th>\n",
       "      <th>floors_total</th>\n",
       "      <th>living_area</th>\n",
       "      <th>floor</th>\n",
       "      <th>is_apartment</th>\n",
       "      <th>...</th>\n",
       "      <th>price_living_area</th>\n",
       "      <th>day_of_week</th>\n",
       "      <th>month</th>\n",
       "      <th>year</th>\n",
       "      <th>which_floor</th>\n",
       "      <th>square_living_total</th>\n",
       "      <th>square_kitchen_total</th>\n",
       "      <th>which_floor012</th>\n",
       "      <th>day_of_week12</th>\n",
       "      <th>cityCenters_nearest_km</th>\n",
       "    </tr>\n",
       "  </thead>\n",
       "  <tbody>\n",
       "    <tr>\n",
       "      <td>0</td>\n",
       "      <td>20</td>\n",
       "      <td>13000000</td>\n",
       "      <td>108.00</td>\n",
       "      <td>2019-03-07</td>\n",
       "      <td>3</td>\n",
       "      <td>2.70</td>\n",
       "      <td>16</td>\n",
       "      <td>51.00</td>\n",
       "      <td>8</td>\n",
       "      <td>False</td>\n",
       "      <td>...</td>\n",
       "      <td>254901</td>\n",
       "      <td>Thursday</td>\n",
       "      <td>March</td>\n",
       "      <td>2019</td>\n",
       "      <td>другой</td>\n",
       "      <td>0.47</td>\n",
       "      <td>0.23</td>\n",
       "      <td>1.00</td>\n",
       "      <td>4</td>\n",
       "      <td>16</td>\n",
       "    </tr>\n",
       "    <tr>\n",
       "      <td>2</td>\n",
       "      <td>10</td>\n",
       "      <td>5196000</td>\n",
       "      <td>56.00</td>\n",
       "      <td>2015-08-20</td>\n",
       "      <td>2</td>\n",
       "      <td>0.00</td>\n",
       "      <td>5</td>\n",
       "      <td>34.30</td>\n",
       "      <td>4</td>\n",
       "      <td>False</td>\n",
       "      <td>...</td>\n",
       "      <td>151486</td>\n",
       "      <td>Thursday</td>\n",
       "      <td>August</td>\n",
       "      <td>2015</td>\n",
       "      <td>другой</td>\n",
       "      <td>0.61</td>\n",
       "      <td>0.15</td>\n",
       "      <td>1.00</td>\n",
       "      <td>4</td>\n",
       "      <td>13</td>\n",
       "    </tr>\n",
       "    <tr>\n",
       "      <td>4</td>\n",
       "      <td>2</td>\n",
       "      <td>10000000</td>\n",
       "      <td>100.00</td>\n",
       "      <td>2018-06-19</td>\n",
       "      <td>2</td>\n",
       "      <td>3.03</td>\n",
       "      <td>14</td>\n",
       "      <td>32.00</td>\n",
       "      <td>13</td>\n",
       "      <td>False</td>\n",
       "      <td>...</td>\n",
       "      <td>312500</td>\n",
       "      <td>Tuesday</td>\n",
       "      <td>June</td>\n",
       "      <td>2018</td>\n",
       "      <td>другой</td>\n",
       "      <td>0.32</td>\n",
       "      <td>0.41</td>\n",
       "      <td>1.00</td>\n",
       "      <td>2</td>\n",
       "      <td>8</td>\n",
       "    </tr>\n",
       "    <tr>\n",
       "      <td>9</td>\n",
       "      <td>18</td>\n",
       "      <td>5400000</td>\n",
       "      <td>61.00</td>\n",
       "      <td>2017-02-26</td>\n",
       "      <td>3</td>\n",
       "      <td>2.50</td>\n",
       "      <td>9</td>\n",
       "      <td>43.60</td>\n",
       "      <td>7</td>\n",
       "      <td>False</td>\n",
       "      <td>...</td>\n",
       "      <td>123853</td>\n",
       "      <td>Sunday</td>\n",
       "      <td>February</td>\n",
       "      <td>2017</td>\n",
       "      <td>другой</td>\n",
       "      <td>0.71</td>\n",
       "      <td>0.11</td>\n",
       "      <td>1.00</td>\n",
       "      <td>7</td>\n",
       "      <td>15</td>\n",
       "    </tr>\n",
       "    <tr>\n",
       "      <td>10</td>\n",
       "      <td>5</td>\n",
       "      <td>5050000</td>\n",
       "      <td>39.60</td>\n",
       "      <td>2017-11-16</td>\n",
       "      <td>1</td>\n",
       "      <td>2.67</td>\n",
       "      <td>12</td>\n",
       "      <td>20.30</td>\n",
       "      <td>3</td>\n",
       "      <td>False</td>\n",
       "      <td>...</td>\n",
       "      <td>248768</td>\n",
       "      <td>Thursday</td>\n",
       "      <td>November</td>\n",
       "      <td>2017</td>\n",
       "      <td>другой</td>\n",
       "      <td>0.51</td>\n",
       "      <td>0.21</td>\n",
       "      <td>1.00</td>\n",
       "      <td>4</td>\n",
       "      <td>13</td>\n",
       "    </tr>\n",
       "  </tbody>\n",
       "</table>\n",
       "<p>5 rows × 32 columns</p>\n",
       "</div>"
      ],
      "text/plain": [
       "    total_images  last_price  total_area first_day_exposition  rooms  \\\n",
       "0             20    13000000      108.00           2019-03-07      3   \n",
       "2             10     5196000       56.00           2015-08-20      2   \n",
       "4              2    10000000      100.00           2018-06-19      2   \n",
       "9             18     5400000       61.00           2017-02-26      3   \n",
       "10             5     5050000       39.60           2017-11-16      1   \n",
       "\n",
       "    ceiling_height  floors_total  living_area  floor  is_apartment  ...  \\\n",
       "0             2.70            16        51.00      8         False  ...   \n",
       "2             0.00             5        34.30      4         False  ...   \n",
       "4             3.03            14        32.00     13         False  ...   \n",
       "9             2.50             9        43.60      7         False  ...   \n",
       "10            2.67            12        20.30      3         False  ...   \n",
       "\n",
       "    price_living_area  day_of_week     month  year which_floor  \\\n",
       "0              254901     Thursday     March  2019      другой   \n",
       "2              151486     Thursday    August  2015      другой   \n",
       "4              312500      Tuesday      June  2018      другой   \n",
       "9              123853       Sunday  February  2017      другой   \n",
       "10             248768     Thursday  November  2017      другой   \n",
       "\n",
       "    square_living_total  square_kitchen_total  which_floor012  day_of_week12  \\\n",
       "0                  0.47                  0.23            1.00              4   \n",
       "2                  0.61                  0.15            1.00              4   \n",
       "4                  0.32                  0.41            1.00              2   \n",
       "9                  0.71                  0.11            1.00              7   \n",
       "10                 0.51                  0.21            1.00              4   \n",
       "\n",
       "    cityCenters_nearest_km  \n",
       "0                       16  \n",
       "2                       13  \n",
       "4                        8  \n",
       "9                       15  \n",
       "10                      13  \n",
       "\n",
       "[5 rows x 32 columns]"
      ]
     },
     "execution_count": 96,
     "metadata": {},
     "output_type": "execute_result"
    }
   ],
   "source": [
    "\n",
    "Saint_Petersburg = df.query('locality_name == \"Санкт-Петербург\"' )\n",
    "Saint_Petersburg['cityCenters_nearest_km'] = Saint_Petersburg['cityCenters_nearest'] / 1000\n",
    "Saint_Petersburg['cityCenters_nearest_km'] = Saint_Petersburg['cityCenters_nearest_km'].fillna(0)\n",
    "Saint_Petersburg['cityCenters_nearest_km'] = Saint_Petersburg['cityCenters_nearest_km'].astype('int')\n",
    "Saint_Petersburg.head()"
   ]
  },
  {
   "cell_type": "code",
   "execution_count": 97,
   "metadata": {},
   "outputs": [
    {
     "data": {
      "text/html": [
       "<div>\n",
       "<style scoped>\n",
       "    .dataframe tbody tr th:only-of-type {\n",
       "        vertical-align: middle;\n",
       "    }\n",
       "\n",
       "    .dataframe tbody tr th {\n",
       "        vertical-align: top;\n",
       "    }\n",
       "\n",
       "    .dataframe thead th {\n",
       "        text-align: right;\n",
       "    }\n",
       "</style>\n",
       "<table border=\"1\" class=\"dataframe\">\n",
       "  <thead>\n",
       "    <tr style=\"text-align: right;\">\n",
       "      <th></th>\n",
       "      <th>last_price</th>\n",
       "    </tr>\n",
       "    <tr>\n",
       "      <th>cityCenters_nearest_km</th>\n",
       "      <th></th>\n",
       "    </tr>\n",
       "  </thead>\n",
       "  <tbody>\n",
       "    <tr>\n",
       "      <td>0</td>\n",
       "      <td>20850225.73</td>\n",
       "    </tr>\n",
       "    <tr>\n",
       "      <td>1</td>\n",
       "      <td>19136760.71</td>\n",
       "    </tr>\n",
       "    <tr>\n",
       "      <td>2</td>\n",
       "      <td>16522830.41</td>\n",
       "    </tr>\n",
       "    <tr>\n",
       "      <td>3</td>\n",
       "      <td>13203905.06</td>\n",
       "    </tr>\n",
       "    <tr>\n",
       "      <td>4</td>\n",
       "      <td>13091676.33</td>\n",
       "    </tr>\n",
       "    <tr>\n",
       "      <td>5</td>\n",
       "      <td>14850638.51</td>\n",
       "    </tr>\n",
       "    <tr>\n",
       "      <td>6</td>\n",
       "      <td>13412518.45</td>\n",
       "    </tr>\n",
       "    <tr>\n",
       "      <td>7</td>\n",
       "      <td>13015436.28</td>\n",
       "    </tr>\n",
       "    <tr>\n",
       "      <td>8</td>\n",
       "      <td>8413641.27</td>\n",
       "    </tr>\n",
       "    <tr>\n",
       "      <td>9</td>\n",
       "      <td>6431771.97</td>\n",
       "    </tr>\n",
       "    <tr>\n",
       "      <td>10</td>\n",
       "      <td>6351148.22</td>\n",
       "    </tr>\n",
       "    <tr>\n",
       "      <td>11</td>\n",
       "      <td>5941961.46</td>\n",
       "    </tr>\n",
       "    <tr>\n",
       "      <td>12</td>\n",
       "      <td>5986917.23</td>\n",
       "    </tr>\n",
       "    <tr>\n",
       "      <td>13</td>\n",
       "      <td>6003820.55</td>\n",
       "    </tr>\n",
       "    <tr>\n",
       "      <td>14</td>\n",
       "      <td>5698426.37</td>\n",
       "    </tr>\n",
       "    <tr>\n",
       "      <td>15</td>\n",
       "      <td>5563336.88</td>\n",
       "    </tr>\n",
       "    <tr>\n",
       "      <td>16</td>\n",
       "      <td>5475161.72</td>\n",
       "    </tr>\n",
       "    <tr>\n",
       "      <td>17</td>\n",
       "      <td>4899778.07</td>\n",
       "    </tr>\n",
       "    <tr>\n",
       "      <td>18</td>\n",
       "      <td>5428457.73</td>\n",
       "    </tr>\n",
       "    <tr>\n",
       "      <td>19</td>\n",
       "      <td>4680653.89</td>\n",
       "    </tr>\n",
       "    <tr>\n",
       "      <td>20</td>\n",
       "      <td>6168490.99</td>\n",
       "    </tr>\n",
       "    <tr>\n",
       "      <td>21</td>\n",
       "      <td>5032582.07</td>\n",
       "    </tr>\n",
       "    <tr>\n",
       "      <td>22</td>\n",
       "      <td>5326704.92</td>\n",
       "    </tr>\n",
       "    <tr>\n",
       "      <td>23</td>\n",
       "      <td>4196642.86</td>\n",
       "    </tr>\n",
       "    <tr>\n",
       "      <td>24</td>\n",
       "      <td>3883684.21</td>\n",
       "    </tr>\n",
       "    <tr>\n",
       "      <td>25</td>\n",
       "      <td>4014036.25</td>\n",
       "    </tr>\n",
       "    <tr>\n",
       "      <td>26</td>\n",
       "      <td>3575000.00</td>\n",
       "    </tr>\n",
       "    <tr>\n",
       "      <td>27</td>\n",
       "      <td>8300000.00</td>\n",
       "    </tr>\n",
       "    <tr>\n",
       "      <td>28</td>\n",
       "      <td>4910500.00</td>\n",
       "    </tr>\n",
       "    <tr>\n",
       "      <td>29</td>\n",
       "      <td>3833333.33</td>\n",
       "    </tr>\n",
       "  </tbody>\n",
       "</table>\n",
       "</div>"
      ],
      "text/plain": [
       "                        last_price\n",
       "cityCenters_nearest_km            \n",
       "0                      20850225.73\n",
       "1                      19136760.71\n",
       "2                      16522830.41\n",
       "3                      13203905.06\n",
       "4                      13091676.33\n",
       "5                      14850638.51\n",
       "6                      13412518.45\n",
       "7                      13015436.28\n",
       "8                       8413641.27\n",
       "9                       6431771.97\n",
       "10                      6351148.22\n",
       "11                      5941961.46\n",
       "12                      5986917.23\n",
       "13                      6003820.55\n",
       "14                      5698426.37\n",
       "15                      5563336.88\n",
       "16                      5475161.72\n",
       "17                      4899778.07\n",
       "18                      5428457.73\n",
       "19                      4680653.89\n",
       "20                      6168490.99\n",
       "21                      5032582.07\n",
       "22                      5326704.92\n",
       "23                      4196642.86\n",
       "24                      3883684.21\n",
       "25                      4014036.25\n",
       "26                      3575000.00\n",
       "27                      8300000.00\n",
       "28                      4910500.00\n",
       "29                      3833333.33"
      ]
     },
     "execution_count": 97,
     "metadata": {},
     "output_type": "execute_result"
    }
   ],
   "source": [
    "#Saint_Petersburg['cityCenters_nearest_km'].value_counts()\n",
    "\n",
    "last_prise_Saint_Petersburg = Saint_Petersburg.pivot_table(index = 'cityCenters_nearest_km', values = 'last_price', aggfunc = 'mean')\n",
    "last_prise_Saint_Petersburg\n"
   ]
  },
  {
   "cell_type": "code",
   "execution_count": 98,
   "metadata": {},
   "outputs": [
    {
     "data": {
      "text/plain": [
       "total_images                10.00\n",
       "last_price             4700000.00\n",
       "total_area                  52.00\n",
       "rooms                        2.00\n",
       "ceiling_height               2.50\n",
       "floors_total                 9.00\n",
       "living_area                 30.00\n",
       "floor                        4.00\n",
       "is_apartment                 0.00\n",
       "studio                       0.00\n",
       "open_plan                    0.00\n",
       "kitchen_area                 9.00\n",
       "balcony                      0.00\n",
       "airports_nearest         26662.00\n",
       "cityCenters_nearest      13109.00\n",
       "parks_around3000             0.00\n",
       "parks_nearest              451.00\n",
       "ponds_around3000             0.00\n",
       "ponds_nearest              503.00\n",
       "days_exposition             78.00\n",
       "price_living_area       169696.00\n",
       "year                      2017.00\n",
       "square_living_total          0.57\n",
       "square_kitchen_total         0.17\n",
       "which_floor012               1.00\n",
       "day_of_week12                4.00\n",
       "dtype: float64"
      ]
     },
     "execution_count": 98,
     "metadata": {},
     "output_type": "execute_result"
    }
   ],
   "source": [
    "df.median()"
   ]
  },
  {
   "cell_type": "markdown",
   "metadata": {},
   "source": [
    "Значительное снижение цены произошло после 7ого км. Считаем что центр это круг с радиусом 7км."
   ]
  },
  {
   "cell_type": "code",
   "execution_count": 104,
   "metadata": {},
   "outputs": [
    {
     "data": {
      "text/plain": [
       "Text(0.5, 1.0, 'city Centers nearest km  * last price rub')"
      ]
     },
     "execution_count": 104,
     "metadata": {},
     "output_type": "execute_result"
    },
    {
     "data": {
      "image/png": "[encoded data removed]",
      "text/plain": [
       "<Figure size 432x288 with 1 Axes>"
      ]
     },
     "metadata": {},
     "output_type": "display_data"
    }
   ],
   "source": [
    "#last_prise_Saint_Petersburg.plot()\n",
    "sns.lineplot(x=\"cityCenters_nearest_km\", y=\"last_price\",\n",
    "             data=last_prise_Saint_Petersburg)\n",
    "plt.title('city Centers nearest km  * last price rub')"
   ]
  },
  {
   "cell_type": "code",
   "execution_count": 105,
   "metadata": {},
   "outputs": [],
   "source": [
    "Saint_Petersburg1 = Saint_Petersburg.query('cityCenters_nearest_km <= 7')"
   ]
  },
  {
   "cell_type": "markdown",
   "metadata": {},
   "source": [
    "<div class=\"alert alert-block alert-success\">\n",
    "<b>Success:</b> соогласен с выбранным радиусом"
   ]
  },
  {
   "cell_type": "code",
   "execution_count": 106,
   "metadata": {},
   "outputs": [
    {
     "data": {
      "text/plain": [
       "total_images                   10.40\n",
       "last_price               14450792.85\n",
       "total_area                     91.11\n",
       "rooms                           2.82\n",
       "ceiling_height                  2.02\n",
       "floors_total                    7.17\n",
       "living_area                    53.81\n",
       "floor                           4.24\n",
       "is_apartment                    0.00\n",
       "studio                          0.00\n",
       "open_plan                       0.00\n",
       "kitchen_area                   13.84\n",
       "balcony                         0.34\n",
       "airports_nearest            24542.58\n",
       "cityCenters_nearest          4669.18\n",
       "parks_around3000                1.01\n",
       "parks_nearest                 458.21\n",
       "ponds_around3000                1.27\n",
       "ponds_nearest                 465.58\n",
       "days_exposition               205.83\n",
       "price_living_area          264993.68\n",
       "year                         2017.17\n",
       "square_living_total             0.58\n",
       "square_kitchen_total            0.17\n",
       "which_floor012                  1.07\n",
       "day_of_week12                   3.51\n",
       "cityCenters_nearest_km          4.12\n",
       "dtype: float64"
      ]
     },
     "execution_count": 106,
     "metadata": {},
     "output_type": "execute_result"
    }
   ],
   "source": [
    "Saint_Petersburg1.mean()"
   ]
  },
  {
   "cell_type": "code",
   "execution_count": 107,
   "metadata": {},
   "outputs": [
    {
     "data": {
      "text/plain": [
       "total_images                  10.00\n",
       "last_price               8990000.00\n",
       "total_area                    77.00\n",
       "rooms                          3.00\n",
       "ceiling_height                 2.80\n",
       "floors_total                   6.00\n",
       "living_area                   45.00\n",
       "floor                          4.00\n",
       "is_apartment                   0.00\n",
       "studio                         0.00\n",
       "open_plan                      0.00\n",
       "kitchen_area                  11.50\n",
       "balcony                        0.00\n",
       "airports_nearest           24264.00\n",
       "cityCenters_nearest         4782.00\n",
       "parks_around3000               1.00\n",
       "parks_nearest                428.50\n",
       "ponds_around3000               1.00\n",
       "ponds_nearest                453.00\n",
       "days_exposition              102.00\n",
       "price_living_area         209725.00\n",
       "year                        2017.00\n",
       "square_living_total            0.60\n",
       "square_kitchen_total           0.15\n",
       "which_floor012                 1.00\n",
       "day_of_week12                  4.00\n",
       "cityCenters_nearest_km         4.00\n",
       "dtype: float64"
      ]
     },
     "execution_count": 107,
     "metadata": {},
     "output_type": "execute_result"
    }
   ],
   "source": [
    "Saint_Petersburg1.median()"
   ]
  },
  {
   "cell_type": "code",
   "execution_count": 114,
   "metadata": {},
   "outputs": [
    {
     "data": {
      "text/plain": [
       "Text(0.5, 1, 'Last price * total area')"
      ]
     },
     "execution_count": 114,
     "metadata": {},
     "output_type": "execute_result"
    },
    {
     "data": {
      "image/png": "[encoded data removed]",
      "text/plain": [
       "<Figure size 360x360 with 1 Axes>"
      ]
     },
     "metadata": {},
     "output_type": "display_data"
    }
   ],
   "source": [
    "#Saint_Petersburg1.plot(x= 'last_price', y = 'total_area', kind = 'scatter')\n",
    "sns.relplot(x=\"last_price\", y=\"total_area\", data=Saint_Petersburg1)\n",
    "plt.title('Last price * total area')"
   ]
  },
  {
   "cell_type": "code",
   "execution_count": 110,
   "metadata": {},
   "outputs": [
    {
     "data": {
      "text/plain": [
       "Text(0.5, 1, 'Last price * which floor')"
      ]
     },
     "execution_count": 110,
     "metadata": {},
     "output_type": "execute_result"
    },
    {
     "data": {
      "image/png": "[encoded data removed]",
      "text/plain": [
       "<Figure size 360x360 with 1 Axes>"
      ]
     },
     "metadata": {},
     "output_type": "display_data"
    }
   ],
   "source": [
    "#Saint_Petersburg1.plot(x= 'last_price', y = 'which_floor012', kind = 'scatter')\n",
    "sns.relplot(x=\"last_price\", y=\"which_floor012\", data=Saint_Petersburg1)\n",
    "plt.title('Last price * which floor')"
   ]
  },
  {
   "cell_type": "code",
   "execution_count": 115,
   "metadata": {},
   "outputs": [
    {
     "data": {
      "text/plain": [
       "Text(0.5, 1, 'Last price * city Centers nearest km')"
      ]
     },
     "execution_count": 115,
     "metadata": {},
     "output_type": "execute_result"
    },
    {
     "data": {
      "image/png": "[encoded data removed]",
      "text/plain": [
       "<Figure size 360x360 with 1 Axes>"
      ]
     },
     "metadata": {},
     "output_type": "display_data"
    }
   ],
   "source": [
    "#Saint_Petersburg1.plot(x= 'last_price', y = 'cityCenters_nearest_km', kind = 'scatter')\n",
    "sns.relplot(x=\"last_price\", y=\"cityCenters_nearest_km\", data=Saint_Petersburg1)\n",
    "plt.title('Last price * city Centers nearest km')\n"
   ]
  },
  {
   "cell_type": "markdown",
   "metadata": {},
   "source": [
    "## Общий вывод"
   ]
  },
  {
   "cell_type": "markdown",
   "metadata": {},
   "source": [
    "Самое попклярная площадь жилого помещения составляет от 25 до 75 кв.м. Самая популярная цена на квартиру составляет 4000000 р.\n",
    "Комнат в квартире чаще всего 1 ил 2, а высота потолков от 2.5 до 2.8.\n",
    "Мы узнали что центр города это квартиры в радиусе 7км. Они сильно отличаются ценой от тех что дальше 7 км. В центре потолки выше, больше жилая площадь и количество комнат. Самые дешевые квартиры продаются на 1 этаже. Чем ближе к центру, тем дороже квартиры. Самые дорогие квартиры чаще всего на последних этажах. При увеличении площади, ростет цена. "
   ]
  }
 ],
 "metadata": {
  "ExecuteTimeLog": [
   {
    "duration": 613,
    "start_time": "2021-10-18T18:41:53.207Z"
   },
   {
    "duration": 101,
    "start_time": "2021-10-18T18:48:39.195Z"
   },
   {
    "duration": 69,
    "start_time": "2021-10-18T18:51:07.589Z"
   },
   {
    "duration": 69,
    "start_time": "2021-10-18T18:51:29.103Z"
   },
   {
    "duration": 9,
    "start_time": "2021-10-18T18:52:00.125Z"
   },
   {
    "duration": 15,
    "start_time": "2021-10-18T18:52:52.205Z"
   },
   {
    "duration": 7,
    "start_time": "2021-10-18T19:02:29.742Z"
   },
   {
    "duration": 6,
    "start_time": "2021-10-18T19:04:13.611Z"
   },
   {
    "duration": 9,
    "start_time": "2021-10-18T19:10:39.640Z"
   },
   {
    "duration": 10,
    "start_time": "2021-10-18T19:10:53.686Z"
   },
   {
    "duration": 9,
    "start_time": "2021-10-18T19:11:13.214Z"
   },
   {
    "duration": 7,
    "start_time": "2021-10-18T19:11:23.685Z"
   },
   {
    "duration": 6,
    "start_time": "2021-10-18T19:11:39.693Z"
   },
   {
    "duration": 7,
    "start_time": "2021-10-18T19:12:08.124Z"
   },
   {
    "duration": 6,
    "start_time": "2021-10-18T19:16:23.329Z"
   },
   {
    "duration": 4,
    "start_time": "2021-10-18T19:16:50.073Z"
   },
   {
    "duration": 217,
    "start_time": "2021-10-18T19:56:20.692Z"
   },
   {
    "duration": 168,
    "start_time": "2021-10-18T20:01:42.638Z"
   },
   {
    "duration": 6,
    "start_time": "2021-10-18T20:01:55.533Z"
   },
   {
    "duration": 7,
    "start_time": "2021-10-18T20:02:05.398Z"
   },
   {
    "duration": 10,
    "start_time": "2021-10-18T20:05:45.708Z"
   },
   {
    "duration": 10,
    "start_time": "2021-10-18T20:06:18.042Z"
   },
   {
    "duration": 11,
    "start_time": "2021-10-18T20:06:35.105Z"
   },
   {
    "duration": 6,
    "start_time": "2021-10-18T20:07:12.632Z"
   },
   {
    "duration": 7,
    "start_time": "2021-10-18T20:07:19.281Z"
   },
   {
    "duration": 6,
    "start_time": "2021-10-18T20:07:22.121Z"
   },
   {
    "duration": 8,
    "start_time": "2021-10-18T20:08:16.370Z"
   },
   {
    "duration": 95,
    "start_time": "2021-10-18T20:08:21.475Z"
   },
   {
    "duration": 76,
    "start_time": "2021-10-18T20:08:21.572Z"
   },
   {
    "duration": 10,
    "start_time": "2021-10-18T20:08:21.650Z"
   },
   {
    "duration": 29,
    "start_time": "2021-10-18T20:08:21.662Z"
   },
   {
    "duration": 5,
    "start_time": "2021-10-18T20:08:21.693Z"
   },
   {
    "duration": 16,
    "start_time": "2021-10-18T20:08:21.700Z"
   },
   {
    "duration": 94,
    "start_time": "2021-10-18T20:08:43.050Z"
   },
   {
    "duration": 92,
    "start_time": "2021-10-18T20:08:43.146Z"
   },
   {
    "duration": 9,
    "start_time": "2021-10-18T20:08:43.240Z"
   },
   {
    "duration": 10,
    "start_time": "2021-10-18T20:08:43.250Z"
   },
   {
    "duration": 31,
    "start_time": "2021-10-18T20:08:43.262Z"
   },
   {
    "duration": 12,
    "start_time": "2021-10-18T20:08:43.295Z"
   },
   {
    "duration": 180,
    "start_time": "2021-10-18T20:10:03.510Z"
   },
   {
    "duration": 20,
    "start_time": "2021-10-18T20:11:30.421Z"
   },
   {
    "duration": 10,
    "start_time": "2021-10-18T20:11:57.293Z"
   },
   {
    "duration": 89,
    "start_time": "2021-10-18T20:12:33.841Z"
   },
   {
    "duration": 72,
    "start_time": "2021-10-18T20:12:33.932Z"
   },
   {
    "duration": 8,
    "start_time": "2021-10-18T20:12:34.006Z"
   },
   {
    "duration": 10,
    "start_time": "2021-10-18T20:12:34.015Z"
   },
   {
    "duration": 5,
    "start_time": "2021-10-18T20:12:34.027Z"
   },
   {
    "duration": 847,
    "start_time": "2021-10-18T20:12:34.034Z"
   },
   {
    "duration": -485,
    "start_time": "2021-10-18T20:12:35.368Z"
   },
   {
    "duration": 84,
    "start_time": "2021-10-18T20:13:23.751Z"
   },
   {
    "duration": 80,
    "start_time": "2021-10-18T20:13:23.837Z"
   },
   {
    "duration": 9,
    "start_time": "2021-10-18T20:13:23.919Z"
   },
   {
    "duration": 10,
    "start_time": "2021-10-18T20:13:23.930Z"
   },
   {
    "duration": 6,
    "start_time": "2021-10-18T20:13:23.941Z"
   },
   {
    "duration": 10,
    "start_time": "2021-10-18T20:13:23.949Z"
   },
   {
    "duration": 36,
    "start_time": "2021-10-18T20:13:23.960Z"
   },
   {
    "duration": 91,
    "start_time": "2021-10-18T20:13:51.374Z"
   },
   {
    "duration": 85,
    "start_time": "2021-10-18T20:13:51.468Z"
   },
   {
    "duration": 8,
    "start_time": "2021-10-18T20:13:51.555Z"
   },
   {
    "duration": 27,
    "start_time": "2021-10-18T20:13:51.565Z"
   },
   {
    "duration": 7,
    "start_time": "2021-10-18T20:13:51.594Z"
   },
   {
    "duration": 1593,
    "start_time": "2021-10-18T20:13:51.603Z"
   },
   {
    "duration": -497,
    "start_time": "2021-10-18T20:13:53.696Z"
   },
   {
    "duration": 97,
    "start_time": "2021-10-18T20:14:21.648Z"
   },
   {
    "duration": 82,
    "start_time": "2021-10-18T20:14:21.747Z"
   },
   {
    "duration": 9,
    "start_time": "2021-10-18T20:14:21.832Z"
   },
   {
    "duration": 12,
    "start_time": "2021-10-18T20:14:21.843Z"
   },
   {
    "duration": 7,
    "start_time": "2021-10-18T20:14:21.856Z"
   },
   {
    "duration": 36,
    "start_time": "2021-10-18T20:14:21.865Z"
   },
   {
    "duration": 8,
    "start_time": "2021-10-18T20:14:21.903Z"
   },
   {
    "duration": 12,
    "start_time": "2021-10-18T20:24:26.942Z"
   },
   {
    "duration": 9,
    "start_time": "2021-10-18T20:24:30.739Z"
   },
   {
    "duration": 7,
    "start_time": "2021-10-18T20:29:21.585Z"
   },
   {
    "duration": 6,
    "start_time": "2021-10-18T20:29:53.951Z"
   },
   {
    "duration": 4,
    "start_time": "2021-10-18T20:30:02.719Z"
   },
   {
    "duration": 184,
    "start_time": "2021-10-18T20:30:12.718Z"
   },
   {
    "duration": 6,
    "start_time": "2021-10-18T20:30:17.207Z"
   },
   {
    "duration": 8,
    "start_time": "2021-10-18T20:31:02.518Z"
   },
   {
    "duration": 8,
    "start_time": "2021-10-18T20:31:49.749Z"
   },
   {
    "duration": 8,
    "start_time": "2021-10-18T20:32:38.733Z"
   },
   {
    "duration": 9,
    "start_time": "2021-10-18T20:32:46.028Z"
   },
   {
    "duration": 9,
    "start_time": "2021-10-18T20:58:49.003Z"
   },
   {
    "duration": 87,
    "start_time": "2021-10-18T21:20:33.726Z"
   },
   {
    "duration": 83,
    "start_time": "2021-10-18T21:20:33.815Z"
   },
   {
    "duration": 10,
    "start_time": "2021-10-18T21:20:33.900Z"
   },
   {
    "duration": 10,
    "start_time": "2021-10-18T21:20:33.912Z"
   },
   {
    "duration": 7,
    "start_time": "2021-10-18T21:20:33.924Z"
   },
   {
    "duration": 10,
    "start_time": "2021-10-18T21:20:33.932Z"
   },
   {
    "duration": 7,
    "start_time": "2021-10-18T21:20:33.944Z"
   },
   {
    "duration": 10,
    "start_time": "2021-10-18T21:20:33.992Z"
   },
   {
    "duration": 2269,
    "start_time": "2021-10-18T21:20:34.003Z"
   },
   {
    "duration": 89,
    "start_time": "2021-10-18T21:21:12.683Z"
   },
   {
    "duration": 79,
    "start_time": "2021-10-18T21:21:12.774Z"
   },
   {
    "duration": 8,
    "start_time": "2021-10-18T21:21:12.855Z"
   },
   {
    "duration": 34,
    "start_time": "2021-10-18T21:21:12.864Z"
   },
   {
    "duration": 5,
    "start_time": "2021-10-18T21:21:12.900Z"
   },
   {
    "duration": 11,
    "start_time": "2021-10-18T21:21:12.906Z"
   },
   {
    "duration": 7,
    "start_time": "2021-10-18T21:21:12.918Z"
   },
   {
    "duration": 10,
    "start_time": "2021-10-18T21:21:12.927Z"
   },
   {
    "duration": 23,
    "start_time": "2021-10-18T21:21:12.938Z"
   },
   {
    "duration": 8,
    "start_time": "2021-10-18T21:24:24.581Z"
   },
   {
    "duration": 87,
    "start_time": "2021-10-18T21:24:35.375Z"
   },
   {
    "duration": 79,
    "start_time": "2021-10-18T21:24:35.464Z"
   },
   {
    "duration": 8,
    "start_time": "2021-10-18T21:24:35.545Z"
   },
   {
    "duration": 9,
    "start_time": "2021-10-18T21:24:35.555Z"
   },
   {
    "duration": 5,
    "start_time": "2021-10-18T21:24:35.566Z"
   },
   {
    "duration": 12,
    "start_time": "2021-10-18T21:24:35.591Z"
   },
   {
    "duration": 7,
    "start_time": "2021-10-18T21:24:35.604Z"
   },
   {
    "duration": 10,
    "start_time": "2021-10-18T21:24:35.613Z"
   },
   {
    "duration": 9,
    "start_time": "2021-10-18T21:24:35.625Z"
   },
   {
    "duration": 85,
    "start_time": "2021-10-18T21:25:22.919Z"
   },
   {
    "duration": 70,
    "start_time": "2021-10-18T21:25:23.005Z"
   },
   {
    "duration": 16,
    "start_time": "2021-10-18T21:25:23.078Z"
   },
   {
    "duration": 10,
    "start_time": "2021-10-18T21:25:23.096Z"
   },
   {
    "duration": 5,
    "start_time": "2021-10-18T21:25:23.108Z"
   },
   {
    "duration": 14,
    "start_time": "2021-10-18T21:25:23.115Z"
   },
   {
    "duration": 8,
    "start_time": "2021-10-18T21:25:23.130Z"
   },
   {
    "duration": 9,
    "start_time": "2021-10-18T21:25:23.140Z"
   },
   {
    "duration": 50,
    "start_time": "2021-10-18T21:25:23.150Z"
   },
   {
    "duration": 82,
    "start_time": "2021-10-18T21:25:56.414Z"
   },
   {
    "duration": 67,
    "start_time": "2021-10-18T21:25:56.497Z"
   },
   {
    "duration": 7,
    "start_time": "2021-10-18T21:25:56.566Z"
   },
   {
    "duration": 22,
    "start_time": "2021-10-18T21:25:56.575Z"
   },
   {
    "duration": 5,
    "start_time": "2021-10-18T21:25:56.598Z"
   },
   {
    "duration": 11,
    "start_time": "2021-10-18T21:25:56.604Z"
   },
   {
    "duration": 8,
    "start_time": "2021-10-18T21:25:56.617Z"
   },
   {
    "duration": 9,
    "start_time": "2021-10-18T21:25:56.627Z"
   },
   {
    "duration": 9,
    "start_time": "2021-10-18T21:25:56.638Z"
   },
   {
    "duration": 10,
    "start_time": "2021-10-18T21:26:44.955Z"
   },
   {
    "duration": 93,
    "start_time": "2021-10-18T21:26:48.288Z"
   },
   {
    "duration": 71,
    "start_time": "2021-10-18T21:26:48.383Z"
   },
   {
    "duration": 8,
    "start_time": "2021-10-18T21:26:48.456Z"
   },
   {
    "duration": 31,
    "start_time": "2021-10-18T21:26:48.465Z"
   },
   {
    "duration": 6,
    "start_time": "2021-10-18T21:26:48.497Z"
   },
   {
    "duration": 12,
    "start_time": "2021-10-18T21:26:48.504Z"
   },
   {
    "duration": 6,
    "start_time": "2021-10-18T21:26:48.518Z"
   },
   {
    "duration": 9,
    "start_time": "2021-10-18T21:26:48.526Z"
   },
   {
    "duration": 10,
    "start_time": "2021-10-18T21:26:48.537Z"
   },
   {
    "duration": 8,
    "start_time": "2021-10-18T21:27:46.642Z"
   },
   {
    "duration": 86,
    "start_time": "2021-10-18T21:27:50.125Z"
   },
   {
    "duration": 68,
    "start_time": "2021-10-18T21:27:50.214Z"
   },
   {
    "duration": 8,
    "start_time": "2021-10-18T21:27:50.292Z"
   },
   {
    "duration": 10,
    "start_time": "2021-10-18T21:27:50.302Z"
   },
   {
    "duration": 6,
    "start_time": "2021-10-18T21:27:50.314Z"
   },
   {
    "duration": 15,
    "start_time": "2021-10-18T21:27:50.321Z"
   },
   {
    "duration": 7,
    "start_time": "2021-10-18T21:27:50.338Z"
   },
   {
    "duration": 9,
    "start_time": "2021-10-18T21:27:50.347Z"
   },
   {
    "duration": 8,
    "start_time": "2021-10-18T21:27:50.392Z"
   },
   {
    "duration": 87,
    "start_time": "2021-10-18T21:29:10.364Z"
   },
   {
    "duration": 72,
    "start_time": "2021-10-18T21:29:10.452Z"
   },
   {
    "duration": 8,
    "start_time": "2021-10-18T21:29:10.526Z"
   },
   {
    "duration": 13,
    "start_time": "2021-10-18T21:29:10.536Z"
   },
   {
    "duration": 5,
    "start_time": "2021-10-18T21:29:10.551Z"
   },
   {
    "duration": 37,
    "start_time": "2021-10-18T21:29:10.558Z"
   },
   {
    "duration": 9,
    "start_time": "2021-10-18T21:29:10.596Z"
   },
   {
    "duration": 9,
    "start_time": "2021-10-18T21:29:10.608Z"
   },
   {
    "duration": 10,
    "start_time": "2021-10-18T21:29:10.619Z"
   },
   {
    "duration": 86,
    "start_time": "2021-10-18T21:29:23.011Z"
   },
   {
    "duration": 70,
    "start_time": "2021-10-18T21:29:23.099Z"
   },
   {
    "duration": 20,
    "start_time": "2021-10-18T21:29:23.172Z"
   },
   {
    "duration": 10,
    "start_time": "2021-10-18T21:29:23.194Z"
   },
   {
    "duration": 5,
    "start_time": "2021-10-18T21:29:23.206Z"
   },
   {
    "duration": 11,
    "start_time": "2021-10-18T21:29:23.213Z"
   },
   {
    "duration": 7,
    "start_time": "2021-10-18T21:29:23.225Z"
   },
   {
    "duration": 9,
    "start_time": "2021-10-18T21:29:23.234Z"
   },
   {
    "duration": 10,
    "start_time": "2021-10-18T21:29:23.244Z"
   },
   {
    "duration": 7,
    "start_time": "2021-10-18T21:30:07.792Z"
   },
   {
    "duration": 7,
    "start_time": "2021-10-18T21:30:15.105Z"
   },
   {
    "duration": 8,
    "start_time": "2021-10-18T21:30:32.735Z"
   },
   {
    "duration": 9,
    "start_time": "2021-10-18T21:31:14.719Z"
   },
   {
    "duration": 7,
    "start_time": "2021-10-18T21:35:23.030Z"
   },
   {
    "duration": 5,
    "start_time": "2021-10-18T21:36:07.956Z"
   },
   {
    "duration": 6,
    "start_time": "2021-10-18T21:36:17.203Z"
   },
   {
    "duration": 5,
    "start_time": "2021-10-18T21:37:41.130Z"
   },
   {
    "duration": 324,
    "start_time": "2021-10-19T21:13:42.310Z"
   },
   {
    "duration": 869,
    "start_time": "2021-10-19T21:13:46.039Z"
   },
   {
    "duration": 119,
    "start_time": "2021-10-19T21:13:46.911Z"
   },
   {
    "duration": 12,
    "start_time": "2021-10-19T21:13:47.033Z"
   },
   {
    "duration": 40,
    "start_time": "2021-10-19T21:13:47.048Z"
   },
   {
    "duration": 9,
    "start_time": "2021-10-19T21:13:47.090Z"
   },
   {
    "duration": 18,
    "start_time": "2021-10-19T21:13:47.101Z"
   },
   {
    "duration": 11,
    "start_time": "2021-10-19T21:13:47.121Z"
   },
   {
    "duration": 60,
    "start_time": "2021-10-19T21:13:47.135Z"
   },
   {
    "duration": 17,
    "start_time": "2021-10-19T21:13:47.197Z"
   },
   {
    "duration": 5,
    "start_time": "2021-10-19T21:13:47.217Z"
   },
   {
    "duration": 8,
    "start_time": "2021-10-19T21:13:47.225Z"
   },
   {
    "duration": 9,
    "start_time": "2021-10-19T21:20:01.297Z"
   },
   {
    "duration": 349,
    "start_time": "2021-10-19T21:22:10.285Z"
   },
   {
    "duration": 112,
    "start_time": "2021-10-19T21:22:28.072Z"
   },
   {
    "duration": 112,
    "start_time": "2021-10-19T21:22:28.187Z"
   },
   {
    "duration": 12,
    "start_time": "2021-10-19T21:22:28.303Z"
   },
   {
    "duration": 15,
    "start_time": "2021-10-19T21:22:28.317Z"
   },
   {
    "duration": 7,
    "start_time": "2021-10-19T21:22:28.334Z"
   },
   {
    "duration": 52,
    "start_time": "2021-10-19T21:22:28.344Z"
   },
   {
    "duration": 10,
    "start_time": "2021-10-19T21:22:28.398Z"
   },
   {
    "duration": 14,
    "start_time": "2021-10-19T21:22:28.411Z"
   },
   {
    "duration": 13,
    "start_time": "2021-10-19T21:22:28.428Z"
   },
   {
    "duration": 42,
    "start_time": "2021-10-19T21:22:28.444Z"
   },
   {
    "duration": 10,
    "start_time": "2021-10-19T21:22:28.488Z"
   },
   {
    "duration": 270,
    "start_time": "2021-10-19T21:22:28.500Z"
   },
   {
    "duration": 264,
    "start_time": "2021-10-19T21:26:05.090Z"
   },
   {
    "duration": 16,
    "start_time": "2021-10-19T21:26:18.409Z"
   },
   {
    "duration": 11,
    "start_time": "2021-10-19T21:29:21.193Z"
   },
   {
    "duration": 7,
    "start_time": "2021-10-19T21:30:04.310Z"
   },
   {
    "duration": 7,
    "start_time": "2021-10-19T21:30:21.718Z"
   },
   {
    "duration": 6,
    "start_time": "2021-10-19T21:30:30.935Z"
   },
   {
    "duration": 11,
    "start_time": "2021-10-19T21:31:05.558Z"
   },
   {
    "duration": 949,
    "start_time": "2021-10-19T21:53:18.407Z"
   },
   {
    "duration": 9,
    "start_time": "2021-10-19T21:54:11.805Z"
   },
   {
    "duration": 1089,
    "start_time": "2021-10-19T21:54:15.852Z"
   },
   {
    "duration": 10,
    "start_time": "2021-10-19T21:54:42.027Z"
   },
   {
    "duration": 1002,
    "start_time": "2021-10-19T21:54:44.116Z"
   },
   {
    "duration": 123,
    "start_time": "2021-10-19T21:54:56.976Z"
   },
   {
    "duration": 113,
    "start_time": "2021-10-19T21:54:57.102Z"
   },
   {
    "duration": 11,
    "start_time": "2021-10-19T21:54:57.218Z"
   },
   {
    "duration": 15,
    "start_time": "2021-10-19T21:54:57.232Z"
   },
   {
    "duration": 37,
    "start_time": "2021-10-19T21:54:57.249Z"
   },
   {
    "duration": 16,
    "start_time": "2021-10-19T21:54:57.288Z"
   },
   {
    "duration": 10,
    "start_time": "2021-10-19T21:54:57.306Z"
   },
   {
    "duration": 14,
    "start_time": "2021-10-19T21:54:57.320Z"
   },
   {
    "duration": 49,
    "start_time": "2021-10-19T21:54:57.337Z"
   },
   {
    "duration": 7,
    "start_time": "2021-10-19T21:54:57.388Z"
   },
   {
    "duration": 13,
    "start_time": "2021-10-19T21:54:57.397Z"
   },
   {
    "duration": 11,
    "start_time": "2021-10-19T21:54:57.412Z"
   },
   {
    "duration": 8,
    "start_time": "2021-10-19T21:54:57.426Z"
   },
   {
    "duration": 1039,
    "start_time": "2021-10-19T21:54:57.436Z"
   },
   {
    "duration": 133,
    "start_time": "2021-10-19T21:55:39.877Z"
   },
   {
    "duration": 115,
    "start_time": "2021-10-19T21:55:40.013Z"
   },
   {
    "duration": 12,
    "start_time": "2021-10-19T21:55:40.131Z"
   },
   {
    "duration": 39,
    "start_time": "2021-10-19T21:55:40.145Z"
   },
   {
    "duration": 8,
    "start_time": "2021-10-19T21:55:40.186Z"
   },
   {
    "duration": 16,
    "start_time": "2021-10-19T21:55:40.196Z"
   },
   {
    "duration": 9,
    "start_time": "2021-10-19T21:55:40.214Z"
   },
   {
    "duration": 14,
    "start_time": "2021-10-19T21:55:40.227Z"
   },
   {
    "duration": 12,
    "start_time": "2021-10-19T21:55:40.283Z"
   },
   {
    "duration": 5,
    "start_time": "2021-10-19T21:55:40.297Z"
   },
   {
    "duration": 9,
    "start_time": "2021-10-19T21:55:40.304Z"
   },
   {
    "duration": 12,
    "start_time": "2021-10-19T21:55:40.316Z"
   },
   {
    "duration": 55,
    "start_time": "2021-10-19T21:55:40.331Z"
   },
   {
    "duration": 1645,
    "start_time": "2021-10-19T21:55:40.389Z"
   },
   {
    "duration": 272,
    "start_time": "2021-10-19T21:56:04.827Z"
   },
   {
    "duration": 51,
    "start_time": "2021-10-19T21:58:13.465Z"
   },
   {
    "duration": 9,
    "start_time": "2021-10-19T22:40:14.987Z"
   },
   {
    "duration": 118,
    "start_time": "2021-10-19T22:40:31.477Z"
   },
   {
    "duration": 113,
    "start_time": "2021-10-19T22:40:31.597Z"
   },
   {
    "duration": 11,
    "start_time": "2021-10-19T22:40:31.713Z"
   },
   {
    "duration": 14,
    "start_time": "2021-10-19T22:40:31.727Z"
   },
   {
    "duration": 40,
    "start_time": "2021-10-19T22:40:31.743Z"
   },
   {
    "duration": 17,
    "start_time": "2021-10-19T22:40:31.785Z"
   },
   {
    "duration": 10,
    "start_time": "2021-10-19T22:40:31.804Z"
   },
   {
    "duration": 17,
    "start_time": "2021-10-19T22:40:31.817Z"
   },
   {
    "duration": 46,
    "start_time": "2021-10-19T22:40:31.838Z"
   },
   {
    "duration": 5,
    "start_time": "2021-10-19T22:40:31.886Z"
   },
   {
    "duration": 11,
    "start_time": "2021-10-19T22:40:31.894Z"
   },
   {
    "duration": 12,
    "start_time": "2021-10-19T22:40:31.908Z"
   },
   {
    "duration": 10,
    "start_time": "2021-10-19T22:40:31.922Z"
   },
   {
    "duration": 2,
    "start_time": "2021-10-19T22:40:31.934Z"
   },
   {
    "duration": 17,
    "start_time": "2021-10-19T22:41:05.905Z"
   },
   {
    "duration": 419,
    "start_time": "2021-10-19T22:51:08.851Z"
   },
   {
    "duration": 116,
    "start_time": "2021-10-19T22:51:12.797Z"
   },
   {
    "duration": 112,
    "start_time": "2021-10-19T22:51:12.916Z"
   },
   {
    "duration": 12,
    "start_time": "2021-10-19T22:51:13.031Z"
   },
   {
    "duration": 40,
    "start_time": "2021-10-19T22:51:13.045Z"
   },
   {
    "duration": 8,
    "start_time": "2021-10-19T22:51:13.087Z"
   },
   {
    "duration": 17,
    "start_time": "2021-10-19T22:51:13.098Z"
   },
   {
    "duration": 10,
    "start_time": "2021-10-19T22:51:13.117Z"
   },
   {
    "duration": 53,
    "start_time": "2021-10-19T22:51:13.130Z"
   },
   {
    "duration": 14,
    "start_time": "2021-10-19T22:51:13.186Z"
   },
   {
    "duration": 6,
    "start_time": "2021-10-19T22:51:13.202Z"
   },
   {
    "duration": 8,
    "start_time": "2021-10-19T22:51:13.210Z"
   },
   {
    "duration": 14,
    "start_time": "2021-10-19T22:51:13.220Z"
   },
   {
    "duration": 51,
    "start_time": "2021-10-19T22:51:13.237Z"
   },
   {
    "duration": 19,
    "start_time": "2021-10-19T22:51:13.290Z"
   },
   {
    "duration": 7,
    "start_time": "2021-10-19T22:51:13.312Z"
   },
   {
    "duration": 10,
    "start_time": "2021-10-19T22:51:50.697Z"
   },
   {
    "duration": 10,
    "start_time": "2021-10-19T22:52:38.303Z"
   },
   {
    "duration": 6,
    "start_time": "2021-10-19T22:52:56.439Z"
   },
   {
    "duration": 9,
    "start_time": "2021-10-19T22:53:44.535Z"
   },
   {
    "duration": 9,
    "start_time": "2021-10-19T22:55:04.566Z"
   },
   {
    "duration": 6838,
    "start_time": "2021-10-19T22:58:08.541Z"
   },
   {
    "duration": 11,
    "start_time": "2021-10-19T22:58:27.612Z"
   },
   {
    "duration": 11,
    "start_time": "2021-10-19T22:59:53.157Z"
   },
   {
    "duration": 848,
    "start_time": "2021-10-21T06:38:31.608Z"
   },
   {
    "duration": 144,
    "start_time": "2021-10-21T06:38:32.459Z"
   },
   {
    "duration": 16,
    "start_time": "2021-10-21T06:38:32.607Z"
   },
   {
    "duration": 14,
    "start_time": "2021-10-21T06:38:32.626Z"
   },
   {
    "duration": 40,
    "start_time": "2021-10-21T06:38:32.642Z"
   },
   {
    "duration": 16,
    "start_time": "2021-10-21T06:38:32.684Z"
   },
   {
    "duration": 10,
    "start_time": "2021-10-21T06:38:32.703Z"
   },
   {
    "duration": 16,
    "start_time": "2021-10-21T06:38:32.716Z"
   },
   {
    "duration": 50,
    "start_time": "2021-10-21T06:38:32.734Z"
   },
   {
    "duration": 6,
    "start_time": "2021-10-21T06:38:32.786Z"
   },
   {
    "duration": 8,
    "start_time": "2021-10-21T06:38:32.795Z"
   },
   {
    "duration": 12,
    "start_time": "2021-10-21T06:38:32.805Z"
   },
   {
    "duration": 10,
    "start_time": "2021-10-21T06:38:32.819Z"
   },
   {
    "duration": 64,
    "start_time": "2021-10-21T06:38:32.832Z"
   },
   {
    "duration": 9,
    "start_time": "2021-10-21T06:38:32.898Z"
   },
   {
    "duration": 10,
    "start_time": "2021-10-21T06:38:32.909Z"
   },
   {
    "duration": 122,
    "start_time": "2021-10-21T06:39:39.293Z"
   },
   {
    "duration": 113,
    "start_time": "2021-10-21T06:39:39.418Z"
   },
   {
    "duration": 13,
    "start_time": "2021-10-21T06:39:39.534Z"
   },
   {
    "duration": 40,
    "start_time": "2021-10-21T06:39:39.550Z"
   },
   {
    "duration": 9,
    "start_time": "2021-10-21T06:39:39.592Z"
   },
   {
    "duration": 15,
    "start_time": "2021-10-21T06:39:39.603Z"
   },
   {
    "duration": 9,
    "start_time": "2021-10-21T06:39:39.621Z"
   },
   {
    "duration": 50,
    "start_time": "2021-10-21T06:39:39.633Z"
   },
   {
    "duration": 18,
    "start_time": "2021-10-21T06:39:39.685Z"
   },
   {
    "duration": 14,
    "start_time": "2021-10-21T06:39:39.706Z"
   },
   {
    "duration": 15,
    "start_time": "2021-10-21T06:39:39.722Z"
   },
   {
    "duration": 11,
    "start_time": "2021-10-21T06:39:39.740Z"
   },
   {
    "duration": 30,
    "start_time": "2021-10-21T06:39:39.753Z"
   },
   {
    "duration": 18,
    "start_time": "2021-10-21T06:39:39.785Z"
   },
   {
    "duration": 11,
    "start_time": "2021-10-21T06:39:39.806Z"
   },
   {
    "duration": 10,
    "start_time": "2021-10-21T06:39:39.819Z"
   },
   {
    "duration": 8,
    "start_time": "2021-10-21T06:49:57.548Z"
   },
   {
    "duration": 8,
    "start_time": "2021-10-21T06:50:27.666Z"
   },
   {
    "duration": 10,
    "start_time": "2021-10-21T06:50:54.433Z"
   },
   {
    "duration": 10,
    "start_time": "2021-10-21T09:25:37.730Z"
   },
   {
    "duration": 127,
    "start_time": "2021-10-21T09:55:05.752Z"
   },
   {
    "duration": 108,
    "start_time": "2021-10-21T09:55:05.883Z"
   },
   {
    "duration": 12,
    "start_time": "2021-10-21T09:55:05.994Z"
   },
   {
    "duration": 15,
    "start_time": "2021-10-21T09:55:06.008Z"
   },
   {
    "duration": 7,
    "start_time": "2021-10-21T09:55:06.026Z"
   },
   {
    "duration": 57,
    "start_time": "2021-10-21T09:55:06.036Z"
   },
   {
    "duration": 11,
    "start_time": "2021-10-21T09:55:06.095Z"
   },
   {
    "duration": 16,
    "start_time": "2021-10-21T09:55:06.110Z"
   },
   {
    "duration": 13,
    "start_time": "2021-10-21T09:55:06.129Z"
   },
   {
    "duration": 38,
    "start_time": "2021-10-21T09:55:06.144Z"
   },
   {
    "duration": 9,
    "start_time": "2021-10-21T09:55:06.184Z"
   },
   {
    "duration": 13,
    "start_time": "2021-10-21T09:55:06.195Z"
   },
   {
    "duration": 10,
    "start_time": "2021-10-21T09:55:06.210Z"
   },
   {
    "duration": 58,
    "start_time": "2021-10-21T09:55:06.223Z"
   },
   {
    "duration": 11,
    "start_time": "2021-10-21T09:55:06.284Z"
   },
   {
    "duration": 9,
    "start_time": "2021-10-21T09:55:06.297Z"
   },
   {
    "duration": 9292,
    "start_time": "2021-10-21T09:55:06.308Z"
   },
   {
    "duration": 12,
    "start_time": "2021-10-21T09:55:55.153Z"
   },
   {
    "duration": 49,
    "start_time": "2021-10-21T09:56:23.721Z"
   },
   {
    "duration": 121,
    "start_time": "2021-10-21T09:57:51.342Z"
   },
   {
    "duration": 99,
    "start_time": "2021-10-21T09:57:51.465Z"
   },
   {
    "duration": 23,
    "start_time": "2021-10-21T09:57:51.567Z"
   },
   {
    "duration": 16,
    "start_time": "2021-10-21T09:57:51.593Z"
   },
   {
    "duration": 7,
    "start_time": "2021-10-21T09:57:51.611Z"
   },
   {
    "duration": 15,
    "start_time": "2021-10-21T09:57:51.621Z"
   },
   {
    "duration": 45,
    "start_time": "2021-10-21T09:57:51.638Z"
   },
   {
    "duration": 15,
    "start_time": "2021-10-21T09:57:51.687Z"
   },
   {
    "duration": 13,
    "start_time": "2021-10-21T09:57:51.705Z"
   },
   {
    "duration": 4,
    "start_time": "2021-10-21T09:57:51.720Z"
   },
   {
    "duration": 8,
    "start_time": "2021-10-21T09:57:51.726Z"
   },
   {
    "duration": 51,
    "start_time": "2021-10-21T09:57:51.736Z"
   },
   {
    "duration": 11,
    "start_time": "2021-10-21T09:57:51.789Z"
   },
   {
    "duration": 18,
    "start_time": "2021-10-21T09:57:51.802Z"
   },
   {
    "duration": 12,
    "start_time": "2021-10-21T09:57:51.822Z"
   },
   {
    "duration": 53,
    "start_time": "2021-10-21T09:57:51.836Z"
   },
   {
    "duration": 13,
    "start_time": "2021-10-21T09:57:51.892Z"
   },
   {
    "duration": 77,
    "start_time": "2021-10-21T09:57:51.907Z"
   },
   {
    "duration": 125,
    "start_time": "2021-10-21T09:58:51.427Z"
   },
   {
    "duration": 113,
    "start_time": "2021-10-21T09:58:51.555Z"
   },
   {
    "duration": 12,
    "start_time": "2021-10-21T09:58:51.683Z"
   },
   {
    "duration": 15,
    "start_time": "2021-10-21T09:58:51.698Z"
   },
   {
    "duration": 8,
    "start_time": "2021-10-21T09:58:51.715Z"
   },
   {
    "duration": 18,
    "start_time": "2021-10-21T09:58:51.725Z"
   },
   {
    "duration": 12,
    "start_time": "2021-10-21T09:58:51.782Z"
   },
   {
    "duration": 16,
    "start_time": "2021-10-21T09:58:51.797Z"
   },
   {
    "duration": 11,
    "start_time": "2021-10-21T09:58:51.816Z"
   },
   {
    "duration": 6,
    "start_time": "2021-10-21T09:58:51.829Z"
   },
   {
    "duration": 49,
    "start_time": "2021-10-21T09:58:51.838Z"
   },
   {
    "duration": 12,
    "start_time": "2021-10-21T09:58:51.889Z"
   },
   {
    "duration": 10,
    "start_time": "2021-10-21T09:58:51.903Z"
   },
   {
    "duration": 16,
    "start_time": "2021-10-21T09:58:51.915Z"
   },
   {
    "duration": 51,
    "start_time": "2021-10-21T09:58:51.933Z"
   },
   {
    "duration": 10,
    "start_time": "2021-10-21T09:58:51.987Z"
   },
   {
    "duration": 13,
    "start_time": "2021-10-21T09:58:52.000Z"
   },
   {
    "duration": 7,
    "start_time": "2021-10-21T09:58:52.015Z"
   },
   {
    "duration": 87,
    "start_time": "2021-10-21T09:58:52.024Z"
   },
   {
    "duration": 12,
    "start_time": "2021-10-21T10:04:16.531Z"
   },
   {
    "duration": 147,
    "start_time": "2021-10-21T10:05:12.471Z"
   },
   {
    "duration": 118,
    "start_time": "2021-10-21T10:05:12.620Z"
   },
   {
    "duration": 13,
    "start_time": "2021-10-21T10:05:12.741Z"
   },
   {
    "duration": 36,
    "start_time": "2021-10-21T10:05:12.757Z"
   },
   {
    "duration": 7,
    "start_time": "2021-10-21T10:05:12.796Z"
   },
   {
    "duration": 16,
    "start_time": "2021-10-21T10:05:12.805Z"
   },
   {
    "duration": 11,
    "start_time": "2021-10-21T10:05:12.824Z"
   },
   {
    "duration": 16,
    "start_time": "2021-10-21T10:05:12.884Z"
   },
   {
    "duration": 12,
    "start_time": "2021-10-21T10:05:12.903Z"
   },
   {
    "duration": 6,
    "start_time": "2021-10-21T10:05:12.917Z"
   },
   {
    "duration": 8,
    "start_time": "2021-10-21T10:05:12.925Z"
   },
   {
    "duration": 50,
    "start_time": "2021-10-21T10:05:12.935Z"
   },
   {
    "duration": 13,
    "start_time": "2021-10-21T10:05:12.988Z"
   },
   {
    "duration": 16,
    "start_time": "2021-10-21T10:05:13.003Z"
   },
   {
    "duration": 10,
    "start_time": "2021-10-21T10:05:13.021Z"
   },
   {
    "duration": 49,
    "start_time": "2021-10-21T10:05:13.034Z"
   },
   {
    "duration": 12,
    "start_time": "2021-10-21T10:05:13.086Z"
   },
   {
    "duration": 7,
    "start_time": "2021-10-21T10:05:13.100Z"
   },
   {
    "duration": 88,
    "start_time": "2021-10-21T10:05:13.109Z"
   },
   {
    "duration": 12,
    "start_time": "2021-10-21T10:05:13.199Z"
   },
   {
    "duration": 4,
    "start_time": "2021-10-21T10:05:13.214Z"
   },
   {
    "duration": 196,
    "start_time": "2021-10-21T10:08:49.174Z"
   },
   {
    "duration": 141,
    "start_time": "2021-10-21T10:08:49.373Z"
   },
   {
    "duration": 15,
    "start_time": "2021-10-21T10:08:49.518Z"
   },
   {
    "duration": 20,
    "start_time": "2021-10-21T10:08:49.537Z"
   },
   {
    "duration": 15,
    "start_time": "2021-10-21T10:08:49.587Z"
   },
   {
    "duration": 20,
    "start_time": "2021-10-21T10:08:49.605Z"
   },
   {
    "duration": 13,
    "start_time": "2021-10-21T10:08:49.628Z"
   },
   {
    "duration": 45,
    "start_time": "2021-10-21T10:08:49.646Z"
   },
   {
    "duration": 11,
    "start_time": "2021-10-21T10:08:49.694Z"
   },
   {
    "duration": 12,
    "start_time": "2021-10-21T10:08:49.707Z"
   },
   {
    "duration": 15,
    "start_time": "2021-10-21T10:08:49.721Z"
   },
   {
    "duration": 11,
    "start_time": "2021-10-21T10:08:49.739Z"
   },
   {
    "duration": 56,
    "start_time": "2021-10-21T10:08:49.752Z"
   },
   {
    "duration": 21,
    "start_time": "2021-10-21T10:08:49.811Z"
   },
   {
    "duration": 14,
    "start_time": "2021-10-21T10:08:49.835Z"
   },
   {
    "duration": 48,
    "start_time": "2021-10-21T10:08:49.851Z"
   },
   {
    "duration": 13,
    "start_time": "2021-10-21T10:08:49.901Z"
   },
   {
    "duration": 7,
    "start_time": "2021-10-21T10:08:49.916Z"
   },
   {
    "duration": 74,
    "start_time": "2021-10-21T10:08:49.926Z"
   },
   {
    "duration": 12,
    "start_time": "2021-10-21T10:08:50.003Z"
   },
   {
    "duration": 5,
    "start_time": "2021-10-21T10:08:50.017Z"
   },
   {
    "duration": 37,
    "start_time": "2021-10-21T10:10:04.344Z"
   },
   {
    "duration": 39,
    "start_time": "2021-10-21T10:10:15.813Z"
   },
   {
    "duration": 26,
    "start_time": "2021-10-21T10:11:19.101Z"
   },
   {
    "duration": 15,
    "start_time": "2021-10-21T10:11:20.484Z"
   },
   {
    "duration": 146,
    "start_time": "2021-10-21T10:11:25.057Z"
   },
   {
    "duration": 117,
    "start_time": "2021-10-21T10:11:25.205Z"
   },
   {
    "duration": 11,
    "start_time": "2021-10-21T10:11:25.325Z"
   },
   {
    "duration": 14,
    "start_time": "2021-10-21T10:11:25.338Z"
   },
   {
    "duration": 34,
    "start_time": "2021-10-21T10:11:25.354Z"
   },
   {
    "duration": 24,
    "start_time": "2021-10-21T10:11:25.390Z"
   },
   {
    "duration": 9,
    "start_time": "2021-10-21T10:11:25.416Z"
   },
   {
    "duration": 16,
    "start_time": "2021-10-21T10:11:25.428Z"
   },
   {
    "duration": 47,
    "start_time": "2021-10-21T10:11:25.447Z"
   },
   {
    "duration": 10,
    "start_time": "2021-10-21T10:11:25.497Z"
   },
   {
    "duration": 9,
    "start_time": "2021-10-21T10:11:25.510Z"
   },
   {
    "duration": 15,
    "start_time": "2021-10-21T10:11:25.522Z"
   },
   {
    "duration": 47,
    "start_time": "2021-10-21T10:11:25.540Z"
   },
   {
    "duration": 24,
    "start_time": "2021-10-21T10:11:25.589Z"
   },
   {
    "duration": 10,
    "start_time": "2021-10-21T10:11:25.615Z"
   },
   {
    "duration": 8,
    "start_time": "2021-10-21T10:11:25.628Z"
   },
   {
    "duration": 57,
    "start_time": "2021-10-21T10:11:25.638Z"
   },
   {
    "duration": 7,
    "start_time": "2021-10-21T10:11:25.697Z"
   },
   {
    "duration": 37,
    "start_time": "2021-10-21T10:11:25.706Z"
   },
   {
    "duration": 45,
    "start_time": "2021-10-21T10:11:25.745Z"
   },
   {
    "duration": 36,
    "start_time": "2021-10-21T10:11:25.793Z"
   },
   {
    "duration": 99,
    "start_time": "2021-10-21T10:13:29.979Z"
   },
   {
    "duration": 122,
    "start_time": "2021-10-21T10:13:40.394Z"
   },
   {
    "duration": 907,
    "start_time": "2021-10-21T10:14:22.002Z"
   },
   {
    "duration": 51,
    "start_time": "2021-10-21T10:14:35.138Z"
   },
   {
    "duration": 382,
    "start_time": "2021-10-21T10:17:32.353Z"
   },
   {
    "duration": 364,
    "start_time": "2021-10-21T10:23:28.492Z"
   },
   {
    "duration": 51,
    "start_time": "2021-10-21T10:23:52.283Z"
   },
   {
    "duration": 455,
    "start_time": "2021-10-21T10:24:27.517Z"
   },
   {
    "duration": 49,
    "start_time": "2021-10-21T10:25:24.898Z"
   },
   {
    "duration": 55,
    "start_time": "2021-10-21T10:26:07.857Z"
   },
   {
    "duration": 127,
    "start_time": "2021-10-21T10:26:20.918Z"
   },
   {
    "duration": 111,
    "start_time": "2021-10-21T10:26:21.049Z"
   },
   {
    "duration": 22,
    "start_time": "2021-10-21T10:26:21.164Z"
   },
   {
    "duration": 14,
    "start_time": "2021-10-21T10:26:21.189Z"
   },
   {
    "duration": 8,
    "start_time": "2021-10-21T10:26:21.206Z"
   },
   {
    "duration": 16,
    "start_time": "2021-10-21T10:26:21.216Z"
   },
   {
    "duration": 10,
    "start_time": "2021-10-21T10:26:21.234Z"
   },
   {
    "duration": 18,
    "start_time": "2021-10-21T10:26:21.282Z"
   },
   {
    "duration": 11,
    "start_time": "2021-10-21T10:26:21.303Z"
   },
   {
    "duration": 5,
    "start_time": "2021-10-21T10:26:21.316Z"
   },
   {
    "duration": 8,
    "start_time": "2021-10-21T10:26:21.323Z"
   },
   {
    "duration": 57,
    "start_time": "2021-10-21T10:26:21.333Z"
   },
   {
    "duration": 10,
    "start_time": "2021-10-21T10:26:21.392Z"
   },
   {
    "duration": 17,
    "start_time": "2021-10-21T10:26:21.404Z"
   },
   {
    "duration": 12,
    "start_time": "2021-10-21T10:26:21.423Z"
   },
   {
    "duration": 51,
    "start_time": "2021-10-21T10:26:21.437Z"
   },
   {
    "duration": 12,
    "start_time": "2021-10-21T10:26:21.491Z"
   },
   {
    "duration": 7,
    "start_time": "2021-10-21T10:26:21.505Z"
   },
   {
    "duration": 37,
    "start_time": "2021-10-21T10:26:21.514Z"
   },
   {
    "duration": 13,
    "start_time": "2021-10-21T10:26:21.581Z"
   },
   {
    "duration": 35,
    "start_time": "2021-10-21T10:26:21.596Z"
   },
   {
    "duration": 84,
    "start_time": "2021-10-21T10:26:21.634Z"
   },
   {
    "duration": 56,
    "start_time": "2021-10-21T10:27:44.784Z"
   },
   {
    "duration": 457,
    "start_time": "2021-10-21T10:29:20.062Z"
   },
   {
    "duration": 439,
    "start_time": "2021-10-21T10:29:30.142Z"
   },
   {
    "duration": 57,
    "start_time": "2021-10-21T10:32:23.788Z"
   },
   {
    "duration": 332,
    "start_time": "2021-10-22T09:19:35.843Z"
   },
   {
    "duration": 897,
    "start_time": "2021-10-22T09:19:58.102Z"
   },
   {
    "duration": 108,
    "start_time": "2021-10-22T09:19:59.002Z"
   },
   {
    "duration": 18,
    "start_time": "2021-10-22T09:19:59.113Z"
   },
   {
    "duration": 15,
    "start_time": "2021-10-22T09:19:59.133Z"
   },
   {
    "duration": 7,
    "start_time": "2021-10-22T09:19:59.151Z"
   },
   {
    "duration": 16,
    "start_time": "2021-10-22T09:19:59.161Z"
   },
   {
    "duration": 47,
    "start_time": "2021-10-22T09:19:59.179Z"
   },
   {
    "duration": 20,
    "start_time": "2021-10-22T09:19:59.230Z"
   },
   {
    "duration": 12,
    "start_time": "2021-10-22T09:19:59.253Z"
   },
   {
    "duration": 7,
    "start_time": "2021-10-22T09:19:59.267Z"
   },
   {
    "duration": 8,
    "start_time": "2021-10-22T09:19:59.323Z"
   },
   {
    "duration": 13,
    "start_time": "2021-10-22T09:19:59.334Z"
   },
   {
    "duration": 10,
    "start_time": "2021-10-22T09:19:59.350Z"
   },
   {
    "duration": 18,
    "start_time": "2021-10-22T09:19:59.362Z"
   },
   {
    "duration": 50,
    "start_time": "2021-10-22T09:19:59.382Z"
   },
   {
    "duration": 11,
    "start_time": "2021-10-22T09:19:59.434Z"
   },
   {
    "duration": 14,
    "start_time": "2021-10-22T09:19:59.447Z"
   },
   {
    "duration": 18,
    "start_time": "2021-10-22T09:19:59.464Z"
   },
   {
    "duration": 65,
    "start_time": "2021-10-22T09:19:59.484Z"
   },
   {
    "duration": 24,
    "start_time": "2021-10-22T09:19:59.551Z"
   },
   {
    "duration": 51,
    "start_time": "2021-10-22T09:19:59.577Z"
   },
   {
    "duration": 66,
    "start_time": "2021-10-22T09:19:59.631Z"
   },
   {
    "duration": 998,
    "start_time": "2021-10-22T09:19:59.701Z"
   },
   {
    "duration": 764,
    "start_time": "2021-10-22T09:20:22.161Z"
   },
   {
    "duration": 131,
    "start_time": "2021-10-22T10:22:24.438Z"
   },
   {
    "duration": 116,
    "start_time": "2021-10-22T10:22:24.571Z"
   },
   {
    "duration": 12,
    "start_time": "2021-10-22T10:22:24.690Z"
   },
   {
    "duration": 14,
    "start_time": "2021-10-22T10:22:24.722Z"
   },
   {
    "duration": 9,
    "start_time": "2021-10-22T10:22:24.739Z"
   },
   {
    "duration": 17,
    "start_time": "2021-10-22T10:22:24.750Z"
   },
   {
    "duration": 10,
    "start_time": "2021-10-22T10:22:24.770Z"
   },
   {
    "duration": 56,
    "start_time": "2021-10-22T10:22:24.784Z"
   },
   {
    "duration": 10,
    "start_time": "2021-10-22T10:22:24.843Z"
   },
   {
    "duration": 8,
    "start_time": "2021-10-22T10:22:24.855Z"
   },
   {
    "duration": 8,
    "start_time": "2021-10-22T10:22:24.865Z"
   },
   {
    "duration": 54,
    "start_time": "2021-10-22T10:22:24.875Z"
   },
   {
    "duration": 9,
    "start_time": "2021-10-22T10:22:24.932Z"
   },
   {
    "duration": 17,
    "start_time": "2021-10-22T10:22:24.944Z"
   },
   {
    "duration": 11,
    "start_time": "2021-10-22T10:22:24.964Z"
   },
   {
    "duration": 51,
    "start_time": "2021-10-22T10:22:24.977Z"
   },
   {
    "duration": 12,
    "start_time": "2021-10-22T10:22:25.030Z"
   },
   {
    "duration": 7,
    "start_time": "2021-10-22T10:22:25.044Z"
   },
   {
    "duration": 69,
    "start_time": "2021-10-22T10:22:25.053Z"
   },
   {
    "duration": 5,
    "start_time": "2021-10-22T10:22:25.125Z"
   },
   {
    "duration": 14,
    "start_time": "2021-10-22T10:22:25.132Z"
   },
   {
    "duration": 36,
    "start_time": "2021-10-22T10:22:25.149Z"
   },
   {
    "duration": 98,
    "start_time": "2021-10-22T10:22:25.188Z"
   },
   {
    "duration": 843,
    "start_time": "2021-10-22T10:22:25.289Z"
   },
   {
    "duration": 121,
    "start_time": "2021-10-22T10:22:26.135Z"
   },
   {
    "duration": 139,
    "start_time": "2021-10-22T10:24:39.730Z"
   },
   {
    "duration": 120,
    "start_time": "2021-10-22T10:24:39.872Z"
   },
   {
    "duration": 28,
    "start_time": "2021-10-22T10:24:39.996Z"
   },
   {
    "duration": 17,
    "start_time": "2021-10-22T10:24:40.027Z"
   },
   {
    "duration": 8,
    "start_time": "2021-10-22T10:24:40.046Z"
   },
   {
    "duration": 22,
    "start_time": "2021-10-22T10:24:40.056Z"
   },
   {
    "duration": 47,
    "start_time": "2021-10-22T10:24:40.080Z"
   },
   {
    "duration": 16,
    "start_time": "2021-10-22T10:24:40.131Z"
   },
   {
    "duration": 20,
    "start_time": "2021-10-22T10:24:40.150Z"
   },
   {
    "duration": 6,
    "start_time": "2021-10-22T10:24:40.173Z"
   },
   {
    "duration": 40,
    "start_time": "2021-10-22T10:24:40.182Z"
   },
   {
    "duration": 11,
    "start_time": "2021-10-22T10:24:40.225Z"
   },
   {
    "duration": 9,
    "start_time": "2021-10-22T10:24:40.238Z"
   },
   {
    "duration": 25,
    "start_time": "2021-10-22T10:24:40.249Z"
   },
   {
    "duration": 10,
    "start_time": "2021-10-22T10:24:40.276Z"
   },
   {
    "duration": 41,
    "start_time": "2021-10-22T10:24:40.288Z"
   },
   {
    "duration": 28,
    "start_time": "2021-10-22T10:24:40.331Z"
   },
   {
    "duration": 6,
    "start_time": "2021-10-22T10:24:40.362Z"
   },
   {
    "duration": 56,
    "start_time": "2021-10-22T10:24:40.371Z"
   },
   {
    "duration": 5,
    "start_time": "2021-10-22T10:24:40.429Z"
   },
   {
    "duration": 15,
    "start_time": "2021-10-22T10:24:40.436Z"
   },
   {
    "duration": 36,
    "start_time": "2021-10-22T10:24:40.453Z"
   },
   {
    "duration": 93,
    "start_time": "2021-10-22T10:24:40.493Z"
   },
   {
    "duration": 836,
    "start_time": "2021-10-22T10:24:40.588Z"
   },
   {
    "duration": 424,
    "start_time": "2021-10-22T10:24:41.427Z"
   },
   {
    "duration": 129,
    "start_time": "2021-10-22T10:25:24.032Z"
   },
   {
    "duration": 111,
    "start_time": "2021-10-22T10:25:24.164Z"
   },
   {
    "duration": 12,
    "start_time": "2021-10-22T10:25:24.278Z"
   },
   {
    "duration": 35,
    "start_time": "2021-10-22T10:25:24.293Z"
   },
   {
    "duration": 8,
    "start_time": "2021-10-22T10:25:24.331Z"
   },
   {
    "duration": 19,
    "start_time": "2021-10-22T10:25:24.341Z"
   },
   {
    "duration": 11,
    "start_time": "2021-10-22T10:25:24.362Z"
   },
   {
    "duration": 57,
    "start_time": "2021-10-22T10:25:24.377Z"
   },
   {
    "duration": 10,
    "start_time": "2021-10-22T10:25:24.437Z"
   },
   {
    "duration": 6,
    "start_time": "2021-10-22T10:25:24.449Z"
   },
   {
    "duration": 10,
    "start_time": "2021-10-22T10:25:24.458Z"
   },
   {
    "duration": 13,
    "start_time": "2021-10-22T10:25:24.471Z"
   },
   {
    "duration": 11,
    "start_time": "2021-10-22T10:25:24.522Z"
   },
   {
    "duration": 17,
    "start_time": "2021-10-22T10:25:24.535Z"
   },
   {
    "duration": 11,
    "start_time": "2021-10-22T10:25:24.554Z"
   },
   {
    "duration": 9,
    "start_time": "2021-10-22T10:25:24.568Z"
   },
   {
    "duration": 53,
    "start_time": "2021-10-22T10:25:24.580Z"
   },
   {
    "duration": 7,
    "start_time": "2021-10-22T10:25:24.635Z"
   },
   {
    "duration": 38,
    "start_time": "2021-10-22T10:25:24.645Z"
   },
   {
    "duration": 36,
    "start_time": "2021-10-22T10:25:24.686Z"
   },
   {
    "duration": 12,
    "start_time": "2021-10-22T10:25:24.725Z"
   },
   {
    "duration": 36,
    "start_time": "2021-10-22T10:25:24.740Z"
   },
   {
    "duration": 96,
    "start_time": "2021-10-22T10:25:24.781Z"
   },
   {
    "duration": 764,
    "start_time": "2021-10-22T10:25:24.880Z"
   },
   {
    "duration": 447,
    "start_time": "2021-10-22T10:25:25.647Z"
   },
   {
    "duration": 373,
    "start_time": "2021-10-22T10:26:43.235Z"
   },
   {
    "duration": 123,
    "start_time": "2021-10-22T10:27:37.279Z"
   },
   {
    "duration": 123,
    "start_time": "2021-10-22T10:27:37.405Z"
   },
   {
    "duration": 12,
    "start_time": "2021-10-22T10:27:37.532Z"
   },
   {
    "duration": 15,
    "start_time": "2021-10-22T10:27:37.547Z"
   },
   {
    "duration": 7,
    "start_time": "2021-10-22T10:27:37.565Z"
   },
   {
    "duration": 53,
    "start_time": "2021-10-22T10:27:37.574Z"
   },
   {
    "duration": 10,
    "start_time": "2021-10-22T10:27:37.629Z"
   },
   {
    "duration": 16,
    "start_time": "2021-10-22T10:27:37.643Z"
   },
   {
    "duration": 12,
    "start_time": "2021-10-22T10:27:37.663Z"
   },
   {
    "duration": 7,
    "start_time": "2021-10-22T10:27:37.677Z"
   },
   {
    "duration": 9,
    "start_time": "2021-10-22T10:27:37.723Z"
   },
   {
    "duration": 16,
    "start_time": "2021-10-22T10:27:37.735Z"
   },
   {
    "duration": 14,
    "start_time": "2021-10-22T10:27:37.754Z"
   },
   {
    "duration": 67,
    "start_time": "2021-10-22T10:27:37.771Z"
   },
   {
    "duration": 15,
    "start_time": "2021-10-22T10:27:37.841Z"
   },
   {
    "duration": 13,
    "start_time": "2021-10-22T10:27:37.859Z"
   },
   {
    "duration": 48,
    "start_time": "2021-10-22T10:27:37.875Z"
   },
   {
    "duration": 7,
    "start_time": "2021-10-22T10:27:37.926Z"
   },
   {
    "duration": 38,
    "start_time": "2021-10-22T10:27:37.936Z"
   },
   {
    "duration": 5,
    "start_time": "2021-10-22T10:27:37.976Z"
   },
   {
    "duration": 46,
    "start_time": "2021-10-22T10:27:37.983Z"
   },
   {
    "duration": 35,
    "start_time": "2021-10-22T10:27:38.032Z"
   },
   {
    "duration": 87,
    "start_time": "2021-10-22T10:27:38.072Z"
   },
   {
    "duration": 748,
    "start_time": "2021-10-22T10:27:38.162Z"
   },
   {
    "duration": 171,
    "start_time": "2021-10-22T10:27:38.912Z"
   },
   {
    "duration": 134,
    "start_time": "2021-10-22T10:28:00.007Z"
   },
   {
    "duration": 112,
    "start_time": "2021-10-22T10:28:00.144Z"
   },
   {
    "duration": 11,
    "start_time": "2021-10-22T10:28:00.259Z"
   },
   {
    "duration": 29,
    "start_time": "2021-10-22T10:28:00.273Z"
   },
   {
    "duration": 19,
    "start_time": "2021-10-22T10:28:00.304Z"
   },
   {
    "duration": 38,
    "start_time": "2021-10-22T10:28:00.326Z"
   },
   {
    "duration": 30,
    "start_time": "2021-10-22T10:28:00.366Z"
   },
   {
    "duration": 16,
    "start_time": "2021-10-22T10:28:00.400Z"
   },
   {
    "duration": 16,
    "start_time": "2021-10-22T10:28:00.420Z"
   },
   {
    "duration": 7,
    "start_time": "2021-10-22T10:28:00.439Z"
   },
   {
    "duration": 22,
    "start_time": "2021-10-22T10:28:00.449Z"
   },
   {
    "duration": 21,
    "start_time": "2021-10-22T10:28:00.473Z"
   },
   {
    "duration": 11,
    "start_time": "2021-10-22T10:28:00.496Z"
   },
   {
    "duration": 30,
    "start_time": "2021-10-22T10:28:00.510Z"
   },
   {
    "duration": 11,
    "start_time": "2021-10-22T10:28:00.542Z"
   },
   {
    "duration": 10,
    "start_time": "2021-10-22T10:28:00.555Z"
   },
   {
    "duration": 13,
    "start_time": "2021-10-22T10:28:00.568Z"
   },
   {
    "duration": 40,
    "start_time": "2021-10-22T10:28:00.584Z"
   },
   {
    "duration": 42,
    "start_time": "2021-10-22T10:28:00.626Z"
   },
   {
    "duration": 5,
    "start_time": "2021-10-22T10:28:00.670Z"
   },
   {
    "duration": 19,
    "start_time": "2021-10-22T10:28:00.677Z"
   },
   {
    "duration": 56,
    "start_time": "2021-10-22T10:28:00.699Z"
   },
   {
    "duration": 87,
    "start_time": "2021-10-22T10:28:00.759Z"
   },
   {
    "duration": 804,
    "start_time": "2021-10-22T10:28:00.848Z"
   },
   {
    "duration": 645,
    "start_time": "2021-10-22T10:28:01.654Z"
   },
   {
    "duration": 514,
    "start_time": "2021-10-22T10:28:37.449Z"
   },
   {
    "duration": 124,
    "start_time": "2021-10-22T10:30:27.966Z"
   },
   {
    "duration": 113,
    "start_time": "2021-10-22T10:30:28.092Z"
   },
   {
    "duration": 20,
    "start_time": "2021-10-22T10:30:28.207Z"
   },
   {
    "duration": 13,
    "start_time": "2021-10-22T10:30:28.230Z"
   },
   {
    "duration": 8,
    "start_time": "2021-10-22T10:30:28.246Z"
   },
   {
    "duration": 21,
    "start_time": "2021-10-22T10:30:28.256Z"
   },
   {
    "duration": 45,
    "start_time": "2021-10-22T10:30:28.279Z"
   },
   {
    "duration": 17,
    "start_time": "2021-10-22T10:30:28.327Z"
   },
   {
    "duration": 12,
    "start_time": "2021-10-22T10:30:28.347Z"
   },
   {
    "duration": 16,
    "start_time": "2021-10-22T10:30:28.361Z"
   },
   {
    "duration": 11,
    "start_time": "2021-10-22T10:30:28.379Z"
   },
   {
    "duration": 38,
    "start_time": "2021-10-22T10:30:28.392Z"
   },
   {
    "duration": 23,
    "start_time": "2021-10-22T10:30:28.432Z"
   },
   {
    "duration": 19,
    "start_time": "2021-10-22T10:30:28.457Z"
   },
   {
    "duration": 11,
    "start_time": "2021-10-22T10:30:28.479Z"
   },
   {
    "duration": 32,
    "start_time": "2021-10-22T10:30:28.492Z"
   },
   {
    "duration": 11,
    "start_time": "2021-10-22T10:30:28.526Z"
   },
   {
    "duration": 9,
    "start_time": "2021-10-22T10:30:28.540Z"
   },
   {
    "duration": 45,
    "start_time": "2021-10-22T10:30:28.551Z"
   },
   {
    "duration": 25,
    "start_time": "2021-10-22T10:30:28.598Z"
   },
   {
    "duration": 24,
    "start_time": "2021-10-22T10:30:28.625Z"
   },
   {
    "duration": 37,
    "start_time": "2021-10-22T10:30:28.651Z"
   },
   {
    "duration": 81,
    "start_time": "2021-10-22T10:30:28.691Z"
   },
   {
    "duration": 760,
    "start_time": "2021-10-22T10:30:28.774Z"
   },
   {
    "duration": 38,
    "start_time": "2021-10-22T10:30:29.536Z"
   },
   {
    "duration": 42,
    "start_time": "2021-10-22T10:31:24.080Z"
   },
   {
    "duration": 9495,
    "start_time": "2021-10-22T10:31:54.207Z"
   },
   {
    "duration": 121,
    "start_time": "2021-10-22T10:32:50.972Z"
   },
   {
    "duration": 102,
    "start_time": "2021-10-22T10:32:51.096Z"
   },
   {
    "duration": 24,
    "start_time": "2021-10-22T10:32:51.201Z"
   },
   {
    "duration": 16,
    "start_time": "2021-10-22T10:32:51.228Z"
   },
   {
    "duration": 8,
    "start_time": "2021-10-22T10:32:51.246Z"
   },
   {
    "duration": 18,
    "start_time": "2021-10-22T10:32:51.257Z"
   },
   {
    "duration": 46,
    "start_time": "2021-10-22T10:32:51.277Z"
   },
   {
    "duration": 17,
    "start_time": "2021-10-22T10:32:51.327Z"
   },
   {
    "duration": 11,
    "start_time": "2021-10-22T10:32:51.347Z"
   },
   {
    "duration": 7,
    "start_time": "2021-10-22T10:32:51.360Z"
   },
   {
    "duration": 10,
    "start_time": "2021-10-22T10:32:51.369Z"
   },
   {
    "duration": 47,
    "start_time": "2021-10-22T10:32:51.381Z"
   },
   {
    "duration": 14,
    "start_time": "2021-10-22T10:32:51.431Z"
   },
   {
    "duration": 18,
    "start_time": "2021-10-22T10:32:51.448Z"
   },
   {
    "duration": 18,
    "start_time": "2021-10-22T10:32:51.469Z"
   },
   {
    "duration": 33,
    "start_time": "2021-10-22T10:32:51.490Z"
   },
   {
    "duration": 12,
    "start_time": "2021-10-22T10:32:51.526Z"
   },
   {
    "duration": 7,
    "start_time": "2021-10-22T10:32:51.540Z"
   },
   {
    "duration": 41,
    "start_time": "2021-10-22T10:32:51.550Z"
   },
   {
    "duration": 4,
    "start_time": "2021-10-22T10:32:51.623Z"
   },
   {
    "duration": 16,
    "start_time": "2021-10-22T10:32:51.630Z"
   },
   {
    "duration": 36,
    "start_time": "2021-10-22T10:32:51.648Z"
   },
   {
    "duration": 99,
    "start_time": "2021-10-22T10:32:51.688Z"
   },
   {
    "duration": 753,
    "start_time": "2021-10-22T10:32:51.790Z"
   },
   {
    "duration": 39,
    "start_time": "2021-10-22T10:32:52.545Z"
   },
   {
    "duration": 393,
    "start_time": "2021-10-22T10:44:05.903Z"
   },
   {
    "duration": 338,
    "start_time": "2021-10-22T10:44:23.510Z"
   },
   {
    "duration": 764,
    "start_time": "2021-10-22T10:44:31.037Z"
   },
   {
    "duration": 516,
    "start_time": "2021-10-22T10:44:46.028Z"
   },
   {
    "duration": 3034,
    "start_time": "2021-10-22T10:44:51.380Z"
   },
   {
    "duration": 110,
    "start_time": "2021-10-22T10:47:40.674Z"
   },
   {
    "duration": 3146,
    "start_time": "2021-10-22T10:47:55.209Z"
   },
   {
    "duration": 309,
    "start_time": "2021-10-22T10:50:00.096Z"
   },
   {
    "duration": 756,
    "start_time": "2021-10-22T10:50:09.256Z"
   },
   {
    "duration": 3308,
    "start_time": "2021-10-22T10:51:50.142Z"
   },
   {
    "duration": 3720,
    "start_time": "2021-10-22T10:56:39.621Z"
   },
   {
    "duration": 3095,
    "start_time": "2021-10-22T10:56:48.395Z"
   },
   {
    "duration": 381,
    "start_time": "2021-10-24T16:39:53.684Z"
   },
   {
    "duration": 725,
    "start_time": "2021-10-24T16:40:04.679Z"
   },
   {
    "duration": 67,
    "start_time": "2021-10-24T16:40:05.406Z"
   },
   {
    "duration": 9,
    "start_time": "2021-10-24T16:40:05.477Z"
   },
   {
    "duration": 11,
    "start_time": "2021-10-24T16:40:05.487Z"
   },
   {
    "duration": 5,
    "start_time": "2021-10-24T16:40:05.500Z"
   },
   {
    "duration": 14,
    "start_time": "2021-10-24T16:40:05.507Z"
   },
   {
    "duration": 8,
    "start_time": "2021-10-24T16:40:05.522Z"
   },
   {
    "duration": 46,
    "start_time": "2021-10-24T16:40:05.532Z"
   },
   {
    "duration": 7,
    "start_time": "2021-10-24T16:40:05.580Z"
   },
   {
    "duration": 5,
    "start_time": "2021-10-24T16:40:05.588Z"
   },
   {
    "duration": 6,
    "start_time": "2021-10-24T16:40:05.594Z"
   },
   {
    "duration": 8,
    "start_time": "2021-10-24T16:40:05.602Z"
   },
   {
    "duration": 7,
    "start_time": "2021-10-24T16:40:05.612Z"
   },
   {
    "duration": 12,
    "start_time": "2021-10-24T16:40:05.621Z"
   },
   {
    "duration": 50,
    "start_time": "2021-10-24T16:40:05.635Z"
   },
   {
    "duration": 7,
    "start_time": "2021-10-24T16:40:05.687Z"
   },
   {
    "duration": 12,
    "start_time": "2021-10-24T16:40:05.695Z"
   },
   {
    "duration": 4,
    "start_time": "2021-10-24T16:40:05.709Z"
   },
   {
    "duration": 28,
    "start_time": "2021-10-24T16:40:05.715Z"
   },
   {
    "duration": 3,
    "start_time": "2021-10-24T16:40:05.745Z"
   },
   {
    "duration": 10,
    "start_time": "2021-10-24T16:40:05.777Z"
   },
   {
    "duration": 28,
    "start_time": "2021-10-24T16:40:05.789Z"
   },
   {
    "duration": 58,
    "start_time": "2021-10-24T16:40:05.819Z"
   },
   {
    "duration": 461,
    "start_time": "2021-10-24T16:40:05.879Z"
   },
   {
    "duration": 37,
    "start_time": "2021-10-24T16:40:06.342Z"
   },
   {
    "duration": 2724,
    "start_time": "2021-10-24T16:40:06.380Z"
   },
   {
    "duration": 743,
    "start_time": "2021-10-24T18:09:28.748Z"
   },
   {
    "duration": 66,
    "start_time": "2021-10-24T18:09:29.492Z"
   },
   {
    "duration": 17,
    "start_time": "2021-10-24T18:09:29.560Z"
   },
   {
    "duration": 10,
    "start_time": "2021-10-24T18:09:29.579Z"
   },
   {
    "duration": 5,
    "start_time": "2021-10-24T18:09:29.591Z"
   },
   {
    "duration": 10,
    "start_time": "2021-10-24T18:09:29.598Z"
   },
   {
    "duration": 7,
    "start_time": "2021-10-24T18:09:29.610Z"
   },
   {
    "duration": 11,
    "start_time": "2021-10-24T18:09:29.619Z"
   },
   {
    "duration": 44,
    "start_time": "2021-10-24T18:09:29.633Z"
   },
   {
    "duration": 4,
    "start_time": "2021-10-24T18:09:29.679Z"
   },
   {
    "duration": 10,
    "start_time": "2021-10-24T18:09:29.685Z"
   },
   {
    "duration": 9,
    "start_time": "2021-10-24T18:09:29.697Z"
   },
   {
    "duration": 7,
    "start_time": "2021-10-24T18:09:29.707Z"
   },
   {
    "duration": 14,
    "start_time": "2021-10-24T18:09:29.716Z"
   },
   {
    "duration": 45,
    "start_time": "2021-10-24T18:09:29.732Z"
   },
   {
    "duration": 7,
    "start_time": "2021-10-24T18:09:29.779Z"
   },
   {
    "duration": 9,
    "start_time": "2021-10-24T18:09:29.787Z"
   },
   {
    "duration": 5,
    "start_time": "2021-10-24T18:09:29.797Z"
   },
   {
    "duration": 21,
    "start_time": "2021-10-24T18:09:29.804Z"
   },
   {
    "duration": 3,
    "start_time": "2021-10-24T18:09:29.827Z"
   },
   {
    "duration": 10,
    "start_time": "2021-10-24T18:09:29.832Z"
   },
   {
    "duration": 27,
    "start_time": "2021-10-24T18:09:29.876Z"
   },
   {
    "duration": 45,
    "start_time": "2021-10-24T18:09:29.905Z"
   },
   {
    "duration": 493,
    "start_time": "2021-10-24T18:09:29.952Z"
   },
   {
    "duration": 34,
    "start_time": "2021-10-24T18:09:30.446Z"
   },
   {
    "duration": 858,
    "start_time": "2021-10-24T18:52:53.898Z"
   },
   {
    "duration": 306,
    "start_time": "2021-10-24T18:52:55.781Z"
   },
   {
    "duration": 68,
    "start_time": "2021-10-24T18:52:56.089Z"
   },
   {
    "duration": 24,
    "start_time": "2021-10-24T18:52:56.159Z"
   },
   {
    "duration": 11,
    "start_time": "2021-10-24T18:52:56.184Z"
   },
   {
    "duration": 10,
    "start_time": "2021-10-24T18:52:56.197Z"
   },
   {
    "duration": 12,
    "start_time": "2021-10-24T18:52:56.209Z"
   },
   {
    "duration": 10,
    "start_time": "2021-10-24T18:52:56.224Z"
   },
   {
    "duration": 11,
    "start_time": "2021-10-24T18:52:56.237Z"
   },
   {
    "duration": 33,
    "start_time": "2021-10-24T18:52:56.250Z"
   },
   {
    "duration": 13,
    "start_time": "2021-10-24T18:52:56.284Z"
   },
   {
    "duration": 14,
    "start_time": "2021-10-24T18:52:56.299Z"
   },
   {
    "duration": 13,
    "start_time": "2021-10-24T18:52:56.315Z"
   },
   {
    "duration": 13,
    "start_time": "2021-10-24T18:52:56.330Z"
   },
   {
    "duration": 23,
    "start_time": "2021-10-24T18:52:56.345Z"
   },
   {
    "duration": 13,
    "start_time": "2021-10-24T18:52:56.370Z"
   },
   {
    "duration": 6,
    "start_time": "2021-10-24T18:52:56.385Z"
   },
   {
    "duration": 9,
    "start_time": "2021-10-24T18:52:56.393Z"
   },
   {
    "duration": 6,
    "start_time": "2021-10-24T18:52:56.403Z"
   },
   {
    "duration": 24,
    "start_time": "2021-10-24T18:52:56.410Z"
   },
   {
    "duration": 3,
    "start_time": "2021-10-24T18:52:56.436Z"
   },
   {
    "duration": 42,
    "start_time": "2021-10-24T18:52:56.440Z"
   },
   {
    "duration": 26,
    "start_time": "2021-10-24T18:52:56.484Z"
   },
   {
    "duration": 66,
    "start_time": "2021-10-24T18:52:56.513Z"
   },
   {
    "duration": 469,
    "start_time": "2021-10-24T18:52:56.581Z"
   },
   {
    "duration": 33,
    "start_time": "2021-10-24T18:52:57.051Z"
   },
   {
    "duration": 1855,
    "start_time": "2021-10-24T18:52:57.086Z"
   },
   {
    "duration": 759,
    "start_time": "2021-10-24T18:59:28.770Z"
   },
   {
    "duration": 72,
    "start_time": "2021-10-24T18:59:29.531Z"
   },
   {
    "duration": 8,
    "start_time": "2021-10-24T18:59:29.605Z"
   },
   {
    "duration": 11,
    "start_time": "2021-10-24T18:59:29.615Z"
   },
   {
    "duration": 5,
    "start_time": "2021-10-24T18:59:29.628Z"
   },
   {
    "duration": 12,
    "start_time": "2021-10-24T18:59:29.635Z"
   },
   {
    "duration": 9,
    "start_time": "2021-10-24T18:59:29.677Z"
   },
   {
    "duration": 12,
    "start_time": "2021-10-24T18:59:29.688Z"
   },
   {
    "duration": 7,
    "start_time": "2021-10-24T18:59:29.703Z"
   },
   {
    "duration": 3,
    "start_time": "2021-10-24T18:59:29.712Z"
   },
   {
    "duration": 7,
    "start_time": "2021-10-24T18:59:29.717Z"
   },
   {
    "duration": 10,
    "start_time": "2021-10-24T18:59:29.725Z"
   },
   {
    "duration": 45,
    "start_time": "2021-10-24T18:59:29.737Z"
   },
   {
    "duration": 14,
    "start_time": "2021-10-24T18:59:29.784Z"
   },
   {
    "duration": 9,
    "start_time": "2021-10-24T18:59:29.800Z"
   },
   {
    "duration": 7,
    "start_time": "2021-10-24T18:59:29.810Z"
   },
   {
    "duration": 10,
    "start_time": "2021-10-24T18:59:29.819Z"
   },
   {
    "duration": 6,
    "start_time": "2021-10-24T18:59:29.830Z"
   },
   {
    "duration": 61,
    "start_time": "2021-10-24T18:59:29.837Z"
   },
   {
    "duration": 4,
    "start_time": "2021-10-24T18:59:29.900Z"
   },
   {
    "duration": 10,
    "start_time": "2021-10-24T18:59:29.906Z"
   },
   {
    "duration": 26,
    "start_time": "2021-10-24T18:59:29.918Z"
   },
   {
    "duration": 70,
    "start_time": "2021-10-24T18:59:29.947Z"
   },
   {
    "duration": 487,
    "start_time": "2021-10-24T18:59:30.019Z"
   },
   {
    "duration": 26,
    "start_time": "2021-10-24T18:59:30.508Z"
   },
   {
    "duration": 2268,
    "start_time": "2021-10-24T18:59:30.536Z"
   },
   {
    "duration": 1856,
    "start_time": "2021-10-24T19:00:13.621Z"
   },
   {
    "duration": 3637,
    "start_time": "2021-10-24T19:00:46.071Z"
   },
   {
    "duration": 1873,
    "start_time": "2021-10-24T19:01:06.612Z"
   },
   {
    "duration": 352,
    "start_time": "2021-10-24T19:01:18.820Z"
   },
   {
    "duration": 179,
    "start_time": "2021-10-24T19:02:18.611Z"
   },
   {
    "duration": 496,
    "start_time": "2021-10-24T19:02:26.683Z"
   },
   {
    "duration": 412,
    "start_time": "2021-10-24T19:02:43.033Z"
   },
   {
    "duration": 330,
    "start_time": "2021-10-24T19:02:50.050Z"
   },
   {
    "duration": 2006,
    "start_time": "2021-10-24T19:05:21.498Z"
   },
   {
    "duration": 368,
    "start_time": "2021-10-24T19:05:42.008Z"
   },
   {
    "duration": 204,
    "start_time": "2021-10-24T19:05:55.577Z"
   },
   {
    "duration": 2210,
    "start_time": "2021-10-24T21:37:17.908Z"
   },
   {
    "duration": 1771,
    "start_time": "2021-10-24T21:38:20.816Z"
   },
   {
    "duration": 617,
    "start_time": "2021-10-24T21:38:35.353Z"
   },
   {
    "duration": 358,
    "start_time": "2021-10-24T21:38:48.304Z"
   },
   {
    "duration": 331,
    "start_time": "2021-10-24T21:38:59.225Z"
   },
   {
    "duration": 339,
    "start_time": "2021-10-24T21:39:08.648Z"
   },
   {
    "duration": 327,
    "start_time": "2021-10-24T21:39:21.579Z"
   },
   {
    "duration": 337,
    "start_time": "2021-10-24T21:39:27.799Z"
   },
   {
    "duration": 329,
    "start_time": "2021-10-24T21:39:33.688Z"
   },
   {
    "duration": 336,
    "start_time": "2021-10-24T21:39:41.096Z"
   },
   {
    "duration": 2000,
    "start_time": "2021-10-24T21:42:02.528Z"
   },
   {
    "duration": 180,
    "start_time": "2021-10-24T21:42:09.894Z"
   },
   {
    "duration": 196,
    "start_time": "2021-10-24T21:42:36.414Z"
   },
   {
    "duration": 324,
    "start_time": "2021-10-24T21:42:49.742Z"
   },
   {
    "duration": 196,
    "start_time": "2021-10-24T21:42:58.169Z"
   },
   {
    "duration": 215,
    "start_time": "2021-10-24T21:43:04.510Z"
   },
   {
    "duration": 203,
    "start_time": "2021-10-24T21:43:11.984Z"
   },
   {
    "duration": 216,
    "start_time": "2021-10-24T21:46:15.971Z"
   },
   {
    "duration": 208,
    "start_time": "2021-10-24T21:46:25.902Z"
   },
   {
    "duration": 175,
    "start_time": "2021-10-24T21:46:32.530Z"
   },
   {
    "duration": 165,
    "start_time": "2021-10-24T21:46:41.514Z"
   },
   {
    "duration": 191,
    "start_time": "2021-10-24T21:46:45.746Z"
   },
   {
    "duration": 180,
    "start_time": "2021-10-24T21:46:50.410Z"
   },
   {
    "duration": 192,
    "start_time": "2021-10-24T21:56:27.514Z"
   },
   {
    "duration": 215,
    "start_time": "2021-10-24T21:56:47.610Z"
   },
   {
    "duration": 298,
    "start_time": "2021-10-24T21:57:41.282Z"
   },
   {
    "duration": 205,
    "start_time": "2021-10-24T22:01:53.614Z"
   },
   {
    "duration": 180,
    "start_time": "2021-10-24T22:02:02.857Z"
   },
   {
    "duration": 238,
    "start_time": "2021-10-24T22:02:08.446Z"
   },
   {
    "duration": 253,
    "start_time": "2021-10-24T22:02:25.504Z"
   },
   {
    "duration": 305,
    "start_time": "2021-10-24T22:02:42.589Z"
   },
   {
    "duration": 207,
    "start_time": "2021-10-24T22:04:32.596Z"
   },
   {
    "duration": 328,
    "start_time": "2021-10-24T22:07:15.668Z"
   },
   {
    "duration": 336,
    "start_time": "2021-10-24T22:07:27.737Z"
   },
   {
    "duration": 2154,
    "start_time": "2021-10-24T22:07:43.009Z"
   },
   {
    "duration": 965,
    "start_time": "2021-10-24T22:08:24.520Z"
   },
   {
    "duration": 590,
    "start_time": "2021-10-24T22:08:30.898Z"
   },
   {
    "duration": 334,
    "start_time": "2021-10-24T22:09:49.768Z"
   },
   {
    "duration": 332,
    "start_time": "2021-10-24T22:12:27.905Z"
   },
   {
    "duration": 752,
    "start_time": "2021-10-24T22:13:43.556Z"
   },
   {
    "duration": 342,
    "start_time": "2021-10-24T22:15:29.875Z"
   },
   {
    "duration": 182,
    "start_time": "2021-10-25T00:11:54.287Z"
   },
   {
    "duration": 483,
    "start_time": "2021-10-25T00:12:54.837Z"
   },
   {
    "duration": 351,
    "start_time": "2021-10-25T00:13:52.966Z"
   },
   {
    "duration": 192,
    "start_time": "2021-10-25T00:14:58.890Z"
   },
   {
    "duration": 45463,
    "start_time": "2021-10-25T00:18:29.455Z"
   },
   {
    "duration": 500,
    "start_time": "2021-10-25T00:21:45.013Z"
   },
   {
    "duration": 715,
    "start_time": "2021-10-25T00:28:06.450Z"
   },
   {
    "duration": 696,
    "start_time": "2021-10-25T00:28:22.856Z"
   },
   {
    "duration": 96,
    "start_time": "2021-10-25T00:28:38.550Z"
   },
   {
    "duration": 88,
    "start_time": "2021-10-25T00:28:38.648Z"
   },
   {
    "duration": 9,
    "start_time": "2021-10-25T00:28:38.738Z"
   },
   {
    "duration": 28,
    "start_time": "2021-10-25T00:28:38.749Z"
   },
   {
    "duration": 6,
    "start_time": "2021-10-25T00:28:38.779Z"
   },
   {
    "duration": 13,
    "start_time": "2021-10-25T00:28:38.786Z"
   },
   {
    "duration": 8,
    "start_time": "2021-10-25T00:28:38.801Z"
   },
   {
    "duration": 12,
    "start_time": "2021-10-25T00:28:38.811Z"
   },
   {
    "duration": 7,
    "start_time": "2021-10-25T00:28:38.825Z"
   },
   {
    "duration": 4,
    "start_time": "2021-10-25T00:28:38.834Z"
   },
   {
    "duration": 7,
    "start_time": "2021-10-25T00:28:38.876Z"
   },
   {
    "duration": 8,
    "start_time": "2021-10-25T00:28:38.885Z"
   },
   {
    "duration": 7,
    "start_time": "2021-10-25T00:28:38.895Z"
   },
   {
    "duration": 11,
    "start_time": "2021-10-25T00:28:38.904Z"
   },
   {
    "duration": 7,
    "start_time": "2021-10-25T00:28:38.917Z"
   },
   {
    "duration": 6,
    "start_time": "2021-10-25T00:28:38.925Z"
   },
   {
    "duration": 50,
    "start_time": "2021-10-25T00:28:38.933Z"
   },
   {
    "duration": 5,
    "start_time": "2021-10-25T00:28:38.985Z"
   },
   {
    "duration": 22,
    "start_time": "2021-10-25T00:28:38.991Z"
   },
   {
    "duration": 3,
    "start_time": "2021-10-25T00:28:39.015Z"
   },
   {
    "duration": 12,
    "start_time": "2021-10-25T00:28:39.020Z"
   },
   {
    "duration": 51,
    "start_time": "2021-10-25T00:28:39.034Z"
   },
   {
    "duration": 46,
    "start_time": "2021-10-25T00:28:39.088Z"
   },
   {
    "duration": 466,
    "start_time": "2021-10-25T00:28:39.135Z"
   },
   {
    "duration": 24,
    "start_time": "2021-10-25T00:28:39.602Z"
   },
   {
    "duration": 350,
    "start_time": "2021-10-25T00:28:39.628Z"
   },
   {
    "duration": 337,
    "start_time": "2021-10-25T00:28:39.979Z"
   },
   {
    "duration": 191,
    "start_time": "2021-10-25T00:28:40.318Z"
   },
   {
    "duration": 251,
    "start_time": "2021-10-25T00:28:40.510Z"
   },
   {
    "duration": 341,
    "start_time": "2021-10-25T00:28:40.763Z"
   },
   {
    "duration": 774,
    "start_time": "2021-10-25T00:28:41.105Z"
   },
   {
    "duration": 714,
    "start_time": "2021-10-25T00:29:36.807Z"
   },
   {
    "duration": 720,
    "start_time": "2021-10-25T00:29:45.438Z"
   },
   {
    "duration": 718,
    "start_time": "2021-10-25T00:29:59.838Z"
   },
   {
    "duration": 707,
    "start_time": "2021-10-25T00:30:23.046Z"
   },
   {
    "duration": 743,
    "start_time": "2021-10-25T00:31:56.756Z"
   },
   {
    "duration": -1472,
    "start_time": "2021-10-25T00:34:33.622Z"
   },
   {
    "duration": 508,
    "start_time": "2021-10-25T00:34:41.929Z"
   },
   {
    "duration": 8531,
    "start_time": "2021-10-25T00:35:42.025Z"
   },
   {
    "duration": 490,
    "start_time": "2021-10-25T00:36:11.746Z"
   },
   {
    "duration": 476,
    "start_time": "2021-10-25T00:37:43.545Z"
   },
   {
    "duration": 691,
    "start_time": "2021-10-25T00:39:58.248Z"
   },
   {
    "duration": 848,
    "start_time": "2021-10-25T00:40:12.558Z"
   },
   {
    "duration": 481,
    "start_time": "2021-10-25T00:41:04.095Z"
   },
   {
    "duration": 574,
    "start_time": "2021-10-25T00:41:23.949Z"
   },
   {
    "duration": 522,
    "start_time": "2021-10-25T00:42:06.829Z"
   },
   {
    "duration": 353,
    "start_time": "2021-10-25T00:46:44.714Z"
   },
   {
    "duration": 1694,
    "start_time": "2021-10-25T00:47:49.306Z"
   },
   {
    "duration": 830,
    "start_time": "2021-10-25T00:54:34.919Z"
   },
   {
    "duration": 121,
    "start_time": "2021-10-25T00:57:04.318Z"
   },
   {
    "duration": 356,
    "start_time": "2021-10-25T00:58:52.506Z"
   },
   {
    "duration": 2105,
    "start_time": "2021-10-25T00:59:00.650Z"
   },
   {
    "duration": 1076,
    "start_time": "2021-10-25T01:05:59.294Z"
   },
   {
    "duration": 358,
    "start_time": "2021-10-25T01:06:39.194Z"
   },
   {
    "duration": 353,
    "start_time": "2021-10-25T01:06:52.347Z"
   },
   {
    "duration": 1144,
    "start_time": "2021-10-25T01:07:44.874Z"
   },
   {
    "duration": 356,
    "start_time": "2021-10-25T01:10:16.872Z"
   },
   {
    "duration": 127,
    "start_time": "2021-10-25T01:11:09.999Z"
   },
   {
    "duration": 359,
    "start_time": "2021-10-25T01:11:22.670Z"
   },
   {
    "duration": 357,
    "start_time": "2021-10-25T01:12:10.246Z"
   },
   {
    "duration": 1164,
    "start_time": "2021-10-25T09:36:29.255Z"
   },
   {
    "duration": 70,
    "start_time": "2021-10-25T09:36:30.421Z"
   },
   {
    "duration": 9,
    "start_time": "2021-10-25T09:36:30.493Z"
   },
   {
    "duration": 22,
    "start_time": "2021-10-25T09:36:30.504Z"
   },
   {
    "duration": 7,
    "start_time": "2021-10-25T09:36:30.529Z"
   },
   {
    "duration": 34,
    "start_time": "2021-10-25T09:36:30.539Z"
   },
   {
    "duration": 10,
    "start_time": "2021-10-25T09:36:30.575Z"
   },
   {
    "duration": 12,
    "start_time": "2021-10-25T09:36:30.588Z"
   },
   {
    "duration": 15,
    "start_time": "2021-10-25T09:36:30.603Z"
   },
   {
    "duration": 10,
    "start_time": "2021-10-25T09:36:30.620Z"
   },
   {
    "duration": 34,
    "start_time": "2021-10-25T09:36:30.632Z"
   },
   {
    "duration": 9,
    "start_time": "2021-10-25T09:36:30.668Z"
   },
   {
    "duration": 18,
    "start_time": "2021-10-25T09:36:30.679Z"
   },
   {
    "duration": 25,
    "start_time": "2021-10-25T09:36:30.699Z"
   },
   {
    "duration": 8,
    "start_time": "2021-10-25T09:36:30.726Z"
   },
   {
    "duration": 14,
    "start_time": "2021-10-25T09:36:30.736Z"
   },
   {
    "duration": 15,
    "start_time": "2021-10-25T09:36:30.752Z"
   },
   {
    "duration": 24,
    "start_time": "2021-10-25T09:36:30.769Z"
   },
   {
    "duration": 26,
    "start_time": "2021-10-25T09:36:30.795Z"
   },
   {
    "duration": 5,
    "start_time": "2021-10-25T09:36:30.822Z"
   },
   {
    "duration": 22,
    "start_time": "2021-10-25T09:36:30.828Z"
   },
   {
    "duration": 29,
    "start_time": "2021-10-25T09:36:30.852Z"
   },
   {
    "duration": 44,
    "start_time": "2021-10-25T09:36:30.884Z"
   },
   {
    "duration": 562,
    "start_time": "2021-10-25T09:36:30.930Z"
   },
   {
    "duration": 24,
    "start_time": "2021-10-25T09:36:31.493Z"
   },
   {
    "duration": 467,
    "start_time": "2021-10-25T09:36:31.519Z"
   },
   {
    "duration": 334,
    "start_time": "2021-10-25T09:36:31.987Z"
   },
   {
    "duration": 178,
    "start_time": "2021-10-25T09:36:32.323Z"
   },
   {
    "duration": 247,
    "start_time": "2021-10-25T09:36:32.503Z"
   },
   {
    "duration": 337,
    "start_time": "2021-10-25T09:36:32.752Z"
   },
   {
    "duration": 507,
    "start_time": "2021-10-25T09:36:33.091Z"
   },
   {
    "duration": 502,
    "start_time": "2021-10-25T09:36:33.600Z"
   },
   {
    "duration": 479,
    "start_time": "2021-10-25T09:36:34.104Z"
   },
   {
    "duration": 913,
    "start_time": "2021-10-25T09:36:34.585Z"
   },
   {
    "duration": 2,
    "start_time": "2021-10-25T09:36:35.500Z"
   },
   {
    "duration": 19,
    "start_time": "2021-10-25T09:36:35.504Z"
   },
   {
    "duration": 9,
    "start_time": "2021-10-25T09:39:38.511Z"
   },
   {
    "duration": 7,
    "start_time": "2021-10-25T09:39:54.061Z"
   },
   {
    "duration": 8,
    "start_time": "2021-10-25T09:40:01.365Z"
   },
   {
    "duration": 7,
    "start_time": "2021-10-25T10:23:28.917Z"
   },
   {
    "duration": 7,
    "start_time": "2021-10-25T10:24:10.553Z"
   },
   {
    "duration": 7,
    "start_time": "2021-10-25T10:24:35.376Z"
   },
   {
    "duration": 126,
    "start_time": "2021-10-25T10:26:24.746Z"
   },
   {
    "duration": 66,
    "start_time": "2021-10-25T10:26:24.874Z"
   },
   {
    "duration": 27,
    "start_time": "2021-10-25T10:26:24.943Z"
   },
   {
    "duration": 11,
    "start_time": "2021-10-25T10:26:24.972Z"
   },
   {
    "duration": 7,
    "start_time": "2021-10-25T10:26:24.985Z"
   },
   {
    "duration": 16,
    "start_time": "2021-10-25T10:26:24.994Z"
   },
   {
    "duration": 9,
    "start_time": "2021-10-25T10:26:25.012Z"
   },
   {
    "duration": 45,
    "start_time": "2021-10-25T10:26:25.024Z"
   },
   {
    "duration": 18,
    "start_time": "2021-10-25T10:26:25.072Z"
   },
   {
    "duration": 13,
    "start_time": "2021-10-25T10:26:25.092Z"
   },
   {
    "duration": 9,
    "start_time": "2021-10-25T10:26:25.108Z"
   },
   {
    "duration": 10,
    "start_time": "2021-10-25T10:26:25.119Z"
   },
   {
    "duration": 9,
    "start_time": "2021-10-25T10:26:25.130Z"
   },
   {
    "duration": 12,
    "start_time": "2021-10-25T10:26:25.163Z"
   },
   {
    "duration": 9,
    "start_time": "2021-10-25T10:26:25.177Z"
   },
   {
    "duration": 8,
    "start_time": "2021-10-25T10:26:25.188Z"
   },
   {
    "duration": 8,
    "start_time": "2021-10-25T10:26:25.198Z"
   },
   {
    "duration": 12,
    "start_time": "2021-10-25T10:26:25.208Z"
   },
   {
    "duration": 55,
    "start_time": "2021-10-25T10:26:25.222Z"
   },
   {
    "duration": 4,
    "start_time": "2021-10-25T10:26:25.279Z"
   },
   {
    "duration": 13,
    "start_time": "2021-10-25T10:26:25.285Z"
   },
   {
    "duration": 23,
    "start_time": "2021-10-25T10:26:25.299Z"
   },
   {
    "duration": 65,
    "start_time": "2021-10-25T10:26:25.326Z"
   },
   {
    "duration": 459,
    "start_time": "2021-10-25T10:26:25.393Z"
   },
   {
    "duration": 24,
    "start_time": "2021-10-25T10:26:25.854Z"
   },
   {
    "duration": 329,
    "start_time": "2021-10-25T10:26:25.879Z"
   },
   {
    "duration": 331,
    "start_time": "2021-10-25T10:26:26.210Z"
   },
   {
    "duration": 179,
    "start_time": "2021-10-25T10:26:26.543Z"
   },
   {
    "duration": 321,
    "start_time": "2021-10-25T10:26:26.724Z"
   },
   {
    "duration": 325,
    "start_time": "2021-10-25T10:26:27.047Z"
   },
   {
    "duration": 466,
    "start_time": "2021-10-25T10:26:27.374Z"
   },
   {
    "duration": 500,
    "start_time": "2021-10-25T10:26:27.842Z"
   },
   {
    "duration": 463,
    "start_time": "2021-10-25T10:26:28.344Z"
   },
   {
    "duration": 814,
    "start_time": "2021-10-25T10:26:28.809Z"
   },
   {
    "duration": 3,
    "start_time": "2021-10-25T10:26:29.625Z"
   },
   {
    "duration": 14,
    "start_time": "2021-10-25T10:26:29.629Z"
   },
   {
    "duration": 21,
    "start_time": "2021-10-25T10:26:29.645Z"
   },
   {
    "duration": 8,
    "start_time": "2021-10-25T10:26:29.668Z"
   },
   {
    "duration": 14,
    "start_time": "2021-10-25T10:26:29.678Z"
   },
   {
    "duration": 9,
    "start_time": "2021-10-25T10:26:29.693Z"
   },
   {
    "duration": 15,
    "start_time": "2021-10-25T10:26:29.703Z"
   },
   {
    "duration": 8,
    "start_time": "2021-10-25T10:26:29.719Z"
   },
   {
    "duration": 10,
    "start_time": "2021-10-25T10:26:29.729Z"
   },
   {
    "duration": 24,
    "start_time": "2021-10-25T10:26:29.741Z"
   },
   {
    "duration": 7,
    "start_time": "2021-10-25T10:26:29.767Z"
   },
   {
    "duration": 13,
    "start_time": "2021-10-25T10:26:29.776Z"
   },
   {
    "duration": 94,
    "start_time": "2021-10-25T10:42:12.588Z"
   },
   {
    "duration": 10,
    "start_time": "2021-10-25T10:42:25.250Z"
   },
   {
    "duration": 29,
    "start_time": "2021-10-25T10:42:53.305Z"
   },
   {
    "duration": 305,
    "start_time": "2021-10-25T10:51:34.688Z"
   },
   {
    "duration": 33,
    "start_time": "2021-10-25T10:53:48.817Z"
   },
   {
    "duration": 217,
    "start_time": "2021-10-25T23:56:53.497Z"
   },
   {
    "duration": 855,
    "start_time": "2021-10-25T23:56:59.969Z"
   },
   {
    "duration": 113,
    "start_time": "2021-10-25T23:57:00.827Z"
   },
   {
    "duration": 11,
    "start_time": "2021-10-25T23:57:00.943Z"
   },
   {
    "duration": 20,
    "start_time": "2021-10-25T23:57:00.956Z"
   },
   {
    "duration": 9,
    "start_time": "2021-10-25T23:57:00.978Z"
   },
   {
    "duration": 50,
    "start_time": "2021-10-25T23:57:00.989Z"
   },
   {
    "duration": 10,
    "start_time": "2021-10-25T23:57:01.042Z"
   },
   {
    "duration": 22,
    "start_time": "2021-10-25T23:57:01.056Z"
   },
   {
    "duration": 20,
    "start_time": "2021-10-25T23:57:01.081Z"
   },
   {
    "duration": 27,
    "start_time": "2021-10-25T23:57:01.104Z"
   },
   {
    "duration": 17,
    "start_time": "2021-10-25T23:57:01.133Z"
   },
   {
    "duration": 26,
    "start_time": "2021-10-25T23:57:01.152Z"
   },
   {
    "duration": 10,
    "start_time": "2021-10-25T23:57:01.181Z"
   },
   {
    "duration": 36,
    "start_time": "2021-10-25T23:57:01.193Z"
   },
   {
    "duration": 13,
    "start_time": "2021-10-25T23:57:01.231Z"
   },
   {
    "duration": 9,
    "start_time": "2021-10-25T23:57:01.246Z"
   },
   {
    "duration": 16,
    "start_time": "2021-10-25T23:57:01.257Z"
   },
   {
    "duration": 15,
    "start_time": "2021-10-25T23:57:01.275Z"
   },
   {
    "duration": 66,
    "start_time": "2021-10-25T23:57:01.292Z"
   },
   {
    "duration": 6,
    "start_time": "2021-10-25T23:57:01.360Z"
   },
   {
    "duration": 16,
    "start_time": "2021-10-25T23:57:01.368Z"
   },
   {
    "duration": 58,
    "start_time": "2021-10-25T23:57:01.387Z"
   },
   {
    "duration": 80,
    "start_time": "2021-10-25T23:57:01.450Z"
   },
   {
    "duration": 766,
    "start_time": "2021-10-25T23:57:01.533Z"
   },
   {
    "duration": 51,
    "start_time": "2021-10-25T23:57:02.301Z"
   },
   {
    "duration": 717,
    "start_time": "2021-10-25T23:57:02.355Z"
   },
   {
    "duration": 570,
    "start_time": "2021-10-25T23:57:03.075Z"
   },
   {
    "duration": 307,
    "start_time": "2021-10-25T23:57:03.648Z"
   },
   {
    "duration": 429,
    "start_time": "2021-10-25T23:57:03.958Z"
   },
   {
    "duration": 568,
    "start_time": "2021-10-25T23:57:04.390Z"
   },
   {
    "duration": 678,
    "start_time": "2021-10-25T23:57:04.960Z"
   },
   {
    "duration": 712,
    "start_time": "2021-10-25T23:57:05.641Z"
   },
   {
    "duration": 674,
    "start_time": "2021-10-25T23:57:06.355Z"
   },
   {
    "duration": 1285,
    "start_time": "2021-10-25T23:57:07.032Z"
   },
   {
    "duration": 604,
    "start_time": "2021-10-25T23:57:08.320Z"
   },
   {
    "duration": 10,
    "start_time": "2021-10-25T23:57:08.926Z"
   },
   {
    "duration": 11,
    "start_time": "2021-10-25T23:57:08.938Z"
   },
   {
    "duration": 8,
    "start_time": "2021-10-25T23:57:08.951Z"
   },
   {
    "duration": 8,
    "start_time": "2021-10-25T23:57:08.961Z"
   },
   {
    "duration": 7,
    "start_time": "2021-10-25T23:57:08.971Z"
   },
   {
    "duration": 53,
    "start_time": "2021-10-25T23:57:08.981Z"
   },
   {
    "duration": 10,
    "start_time": "2021-10-25T23:57:09.037Z"
   },
   {
    "duration": 10,
    "start_time": "2021-10-25T23:57:09.050Z"
   },
   {
    "duration": 11,
    "start_time": "2021-10-25T23:57:09.063Z"
   },
   {
    "duration": 55,
    "start_time": "2021-10-25T23:57:09.077Z"
   },
   {
    "duration": 9,
    "start_time": "2021-10-25T23:57:09.135Z"
   },
   {
    "duration": 52,
    "start_time": "2021-10-25T23:57:09.147Z"
   },
   {
    "duration": 1183,
    "start_time": "2021-10-26T00:01:11.294Z"
   },
   {
    "duration": 5374,
    "start_time": "2021-10-26T00:29:04.827Z"
   },
   {
    "duration": 156,
    "start_time": "2021-10-26T00:29:17.820Z"
   },
   {
    "duration": 138,
    "start_time": "2021-10-26T00:29:17.978Z"
   },
   {
    "duration": 15,
    "start_time": "2021-10-26T00:29:18.119Z"
   },
   {
    "duration": 13,
    "start_time": "2021-10-26T00:29:18.137Z"
   },
   {
    "duration": 7,
    "start_time": "2021-10-26T00:29:18.153Z"
   },
   {
    "duration": 16,
    "start_time": "2021-10-26T00:29:18.162Z"
   },
   {
    "duration": 51,
    "start_time": "2021-10-26T00:29:18.180Z"
   },
   {
    "duration": 17,
    "start_time": "2021-10-26T00:29:18.235Z"
   },
   {
    "duration": 12,
    "start_time": "2021-10-26T00:29:18.255Z"
   },
   {
    "duration": 6,
    "start_time": "2021-10-26T00:29:18.269Z"
   },
   {
    "duration": 12,
    "start_time": "2021-10-26T00:29:18.277Z"
   },
   {
    "duration": 48,
    "start_time": "2021-10-26T00:29:18.291Z"
   },
   {
    "duration": 10,
    "start_time": "2021-10-26T00:29:18.342Z"
   },
   {
    "duration": 17,
    "start_time": "2021-10-26T00:29:18.354Z"
   },
   {
    "duration": 10,
    "start_time": "2021-10-26T00:29:18.373Z"
   },
   {
    "duration": 51,
    "start_time": "2021-10-26T00:29:18.385Z"
   },
   {
    "duration": 12,
    "start_time": "2021-10-26T00:29:18.438Z"
   },
   {
    "duration": 7,
    "start_time": "2021-10-26T00:29:18.452Z"
   },
   {
    "duration": 68,
    "start_time": "2021-10-26T00:29:18.461Z"
   },
   {
    "duration": 4,
    "start_time": "2021-10-26T00:29:18.532Z"
   },
   {
    "duration": 14,
    "start_time": "2021-10-26T00:29:18.538Z"
   },
   {
    "duration": 38,
    "start_time": "2021-10-26T00:29:18.554Z"
   },
   {
    "duration": 94,
    "start_time": "2021-10-26T00:29:18.597Z"
   },
   {
    "duration": 824,
    "start_time": "2021-10-26T00:29:18.694Z"
   },
   {
    "duration": 43,
    "start_time": "2021-10-26T00:29:19.530Z"
   },
   {
    "duration": 582,
    "start_time": "2021-10-26T00:29:19.575Z"
   },
   {
    "duration": 583,
    "start_time": "2021-10-26T00:29:20.160Z"
   },
   {
    "duration": 299,
    "start_time": "2021-10-26T00:29:20.746Z"
   },
   {
    "duration": 424,
    "start_time": "2021-10-26T00:29:21.047Z"
   },
   {
    "duration": 573,
    "start_time": "2021-10-26T00:29:21.474Z"
   },
   {
    "duration": 679,
    "start_time": "2021-10-26T00:29:22.050Z"
   },
   {
    "duration": 705,
    "start_time": "2021-10-26T00:29:22.731Z"
   },
   {
    "duration": 768,
    "start_time": "2021-10-26T00:29:23.442Z"
   },
   {
    "duration": 1205,
    "start_time": "2021-10-26T00:29:24.212Z"
   },
   {
    "duration": 1190,
    "start_time": "2021-10-26T00:29:25.420Z"
   },
   {
    "duration": 21,
    "start_time": "2021-10-26T00:29:26.612Z"
   },
   {
    "duration": 9,
    "start_time": "2021-10-26T00:29:26.635Z"
   },
   {
    "duration": 8,
    "start_time": "2021-10-26T00:29:26.646Z"
   },
   {
    "duration": 9,
    "start_time": "2021-10-26T00:29:26.656Z"
   },
   {
    "duration": 9,
    "start_time": "2021-10-26T00:29:26.668Z"
   },
   {
    "duration": 53,
    "start_time": "2021-10-26T00:29:26.680Z"
   },
   {
    "duration": 9,
    "start_time": "2021-10-26T00:29:26.735Z"
   },
   {
    "duration": 8,
    "start_time": "2021-10-26T00:29:26.746Z"
   },
   {
    "duration": 12,
    "start_time": "2021-10-26T00:29:26.757Z"
   },
   {
    "duration": 7,
    "start_time": "2021-10-26T00:29:26.772Z"
   },
   {
    "duration": 49,
    "start_time": "2021-10-26T00:29:26.782Z"
   },
   {
    "duration": 47,
    "start_time": "2021-10-26T00:29:26.834Z"
   },
   {
    "duration": 4645,
    "start_time": "2021-10-26T00:29:26.884Z"
   },
   {
    "duration": 4818,
    "start_time": "2021-10-26T00:30:05.523Z"
   },
   {
    "duration": 6147,
    "start_time": "2021-10-26T00:31:00.657Z"
   },
   {
    "duration": 11,
    "start_time": "2021-10-26T00:33:01.760Z"
   },
   {
    "duration": 177,
    "start_time": "2021-10-26T00:38:32.669Z"
   },
   {
    "duration": 23,
    "start_time": "2021-10-26T00:38:59.799Z"
   },
   {
    "duration": 170,
    "start_time": "2021-10-26T00:47:43.511Z"
   },
   {
    "duration": 126,
    "start_time": "2021-10-26T00:47:43.684Z"
   },
   {
    "duration": 21,
    "start_time": "2021-10-26T00:47:43.813Z"
   },
   {
    "duration": 16,
    "start_time": "2021-10-26T00:47:43.837Z"
   },
   {
    "duration": 8,
    "start_time": "2021-10-26T00:47:43.855Z"
   },
   {
    "duration": 17,
    "start_time": "2021-10-26T00:47:43.866Z"
   },
   {
    "duration": 52,
    "start_time": "2021-10-26T00:47:43.885Z"
   },
   {
    "duration": 19,
    "start_time": "2021-10-26T00:47:43.941Z"
   },
   {
    "duration": 10,
    "start_time": "2021-10-26T00:47:43.963Z"
   },
   {
    "duration": 6,
    "start_time": "2021-10-26T00:47:43.976Z"
   },
   {
    "duration": 47,
    "start_time": "2021-10-26T00:47:43.984Z"
   },
   {
    "duration": 13,
    "start_time": "2021-10-26T00:47:44.033Z"
   },
   {
    "duration": 9,
    "start_time": "2021-10-26T00:47:44.049Z"
   },
   {
    "duration": 16,
    "start_time": "2021-10-26T00:47:44.060Z"
   },
   {
    "duration": 53,
    "start_time": "2021-10-26T00:47:44.078Z"
   },
   {
    "duration": 9,
    "start_time": "2021-10-26T00:47:44.133Z"
   },
   {
    "duration": 10,
    "start_time": "2021-10-26T00:47:44.145Z"
   },
   {
    "duration": 7,
    "start_time": "2021-10-26T00:47:44.158Z"
   },
   {
    "duration": 68,
    "start_time": "2021-10-26T00:47:44.167Z"
   },
   {
    "duration": 6,
    "start_time": "2021-10-26T00:47:44.238Z"
   },
   {
    "duration": 14,
    "start_time": "2021-10-26T00:47:44.246Z"
   },
   {
    "duration": 32,
    "start_time": "2021-10-26T00:47:44.262Z"
   },
   {
    "duration": 63,
    "start_time": "2021-10-26T00:47:44.331Z"
   },
   {
    "duration": 844,
    "start_time": "2021-10-26T00:47:44.397Z"
   },
   {
    "duration": 35,
    "start_time": "2021-10-26T00:47:45.243Z"
   },
   {
    "duration": 564,
    "start_time": "2021-10-26T00:47:45.280Z"
   },
   {
    "duration": 556,
    "start_time": "2021-10-26T00:47:45.847Z"
   },
   {
    "duration": 292,
    "start_time": "2021-10-26T00:47:46.405Z"
   },
   {
    "duration": 422,
    "start_time": "2021-10-26T00:47:46.700Z"
   },
   {
    "duration": 561,
    "start_time": "2021-10-26T00:47:47.129Z"
   },
   {
    "duration": 658,
    "start_time": "2021-10-26T00:47:47.693Z"
   },
   {
    "duration": 702,
    "start_time": "2021-10-26T00:47:48.354Z"
   },
   {
    "duration": 769,
    "start_time": "2021-10-26T00:47:49.058Z"
   },
   {
    "duration": 1243,
    "start_time": "2021-10-26T00:47:49.830Z"
   },
   {
    "duration": 1192,
    "start_time": "2021-10-26T00:47:51.075Z"
   },
   {
    "duration": 11,
    "start_time": "2021-10-26T00:47:52.269Z"
   },
   {
    "duration": 11,
    "start_time": "2021-10-26T00:47:52.282Z"
   },
   {
    "duration": 36,
    "start_time": "2021-10-26T00:47:52.295Z"
   },
   {
    "duration": 13,
    "start_time": "2021-10-26T00:47:52.333Z"
   },
   {
    "duration": 8,
    "start_time": "2021-10-26T00:47:52.348Z"
   },
   {
    "duration": 9,
    "start_time": "2021-10-26T00:47:52.358Z"
   },
   {
    "duration": 7,
    "start_time": "2021-10-26T00:47:52.369Z"
   },
   {
    "duration": 7,
    "start_time": "2021-10-26T00:47:52.379Z"
   },
   {
    "duration": 8,
    "start_time": "2021-10-26T00:47:52.430Z"
   },
   {
    "duration": 9,
    "start_time": "2021-10-26T00:47:52.440Z"
   },
   {
    "duration": 8,
    "start_time": "2021-10-26T00:47:52.451Z"
   },
   {
    "duration": 78,
    "start_time": "2021-10-26T00:47:52.461Z"
   },
   {
    "duration": 20,
    "start_time": "2021-10-26T00:47:52.542Z"
   },
   {
    "duration": 14,
    "start_time": "2021-10-26T00:48:58.932Z"
   },
   {
    "duration": 20,
    "start_time": "2021-10-26T00:49:09.954Z"
   },
   {
    "duration": 301,
    "start_time": "2021-10-26T00:49:46.707Z"
   },
   {
    "duration": 642,
    "start_time": "2021-10-26T00:50:15.907Z"
   },
   {
    "duration": 4681,
    "start_time": "2021-10-26T00:52:04.441Z"
   },
   {
    "duration": 228,
    "start_time": "2021-10-26T00:52:28.002Z"
   },
   {
    "duration": 300,
    "start_time": "2021-10-26T00:52:44.426Z"
   },
   {
    "duration": 298,
    "start_time": "2021-10-26T00:52:56.392Z"
   },
   {
    "duration": 19,
    "start_time": "2021-10-26T00:53:12.625Z"
   },
   {
    "duration": 288,
    "start_time": "2021-10-26T00:54:06.368Z"
   },
   {
    "duration": 503,
    "start_time": "2021-10-26T00:59:32.734Z"
   },
   {
    "duration": 273,
    "start_time": "2021-10-26T00:59:43.844Z"
   },
   {
    "duration": 733,
    "start_time": "2021-10-26T10:11:06.105Z"
   },
   {
    "duration": 73,
    "start_time": "2021-10-26T10:11:06.840Z"
   },
   {
    "duration": 8,
    "start_time": "2021-10-26T10:11:06.915Z"
   },
   {
    "duration": 39,
    "start_time": "2021-10-26T10:11:06.924Z"
   },
   {
    "duration": 28,
    "start_time": "2021-10-26T10:11:06.965Z"
   },
   {
    "duration": 38,
    "start_time": "2021-10-26T10:11:06.995Z"
   },
   {
    "duration": 43,
    "start_time": "2021-10-26T10:11:07.034Z"
   },
   {
    "duration": 34,
    "start_time": "2021-10-26T10:11:07.080Z"
   },
   {
    "duration": 37,
    "start_time": "2021-10-26T10:11:07.117Z"
   },
   {
    "duration": 43,
    "start_time": "2021-10-26T10:11:07.156Z"
   },
   {
    "duration": 33,
    "start_time": "2021-10-26T10:11:07.202Z"
   },
   {
    "duration": 41,
    "start_time": "2021-10-26T10:11:07.238Z"
   },
   {
    "duration": 35,
    "start_time": "2021-10-26T10:11:07.282Z"
   },
   {
    "duration": 27,
    "start_time": "2021-10-26T10:11:07.320Z"
   },
   {
    "duration": 10,
    "start_time": "2021-10-26T10:11:07.349Z"
   },
   {
    "duration": 20,
    "start_time": "2021-10-26T10:11:07.360Z"
   },
   {
    "duration": 28,
    "start_time": "2021-10-26T10:11:07.382Z"
   },
   {
    "duration": 18,
    "start_time": "2021-10-26T10:11:07.411Z"
   },
   {
    "duration": 49,
    "start_time": "2021-10-26T10:11:07.430Z"
   },
   {
    "duration": 22,
    "start_time": "2021-10-26T10:11:07.481Z"
   },
   {
    "duration": 44,
    "start_time": "2021-10-26T10:11:07.504Z"
   },
   {
    "duration": 42,
    "start_time": "2021-10-26T10:11:07.549Z"
   },
   {
    "duration": 45,
    "start_time": "2021-10-26T10:11:07.594Z"
   },
   {
    "duration": 459,
    "start_time": "2021-10-26T10:11:07.641Z"
   },
   {
    "duration": 20,
    "start_time": "2021-10-26T10:11:08.102Z"
   },
   {
    "duration": 474,
    "start_time": "2021-10-26T10:11:08.124Z"
   },
   {
    "duration": 332,
    "start_time": "2021-10-26T10:11:08.600Z"
   },
   {
    "duration": 177,
    "start_time": "2021-10-26T10:11:08.934Z"
   },
   {
    "duration": 250,
    "start_time": "2021-10-26T10:11:09.113Z"
   },
   {
    "duration": 350,
    "start_time": "2021-10-26T10:11:09.365Z"
   },
   {
    "duration": 485,
    "start_time": "2021-10-26T10:11:09.717Z"
   },
   {
    "duration": 495,
    "start_time": "2021-10-26T10:11:10.204Z"
   },
   {
    "duration": 506,
    "start_time": "2021-10-26T10:11:10.701Z"
   },
   {
    "duration": 970,
    "start_time": "2021-10-26T10:11:11.209Z"
   },
   {
    "duration": 831,
    "start_time": "2021-10-26T10:11:12.181Z"
   },
   {
    "duration": 9,
    "start_time": "2021-10-26T10:11:13.014Z"
   },
   {
    "duration": 22,
    "start_time": "2021-10-26T10:11:13.025Z"
   },
   {
    "duration": 20,
    "start_time": "2021-10-26T10:11:13.049Z"
   },
   {
    "duration": 19,
    "start_time": "2021-10-26T10:11:13.072Z"
   },
   {
    "duration": 12,
    "start_time": "2021-10-26T10:11:13.095Z"
   },
   {
    "duration": 16,
    "start_time": "2021-10-26T10:11:13.109Z"
   },
   {
    "duration": 28,
    "start_time": "2021-10-26T10:11:13.126Z"
   },
   {
    "duration": 30,
    "start_time": "2021-10-26T10:11:13.156Z"
   },
   {
    "duration": 21,
    "start_time": "2021-10-26T10:11:13.188Z"
   },
   {
    "duration": 19,
    "start_time": "2021-10-26T10:11:13.212Z"
   },
   {
    "duration": 12,
    "start_time": "2021-10-26T10:11:13.232Z"
   },
   {
    "duration": 29,
    "start_time": "2021-10-26T10:11:13.246Z"
   },
   {
    "duration": 15,
    "start_time": "2021-10-26T10:11:13.276Z"
   },
   {
    "duration": 199,
    "start_time": "2021-10-26T10:11:13.293Z"
   },
   {
    "duration": 54,
    "start_time": "2021-10-26T10:12:18.665Z"
   },
   {
    "duration": 67,
    "start_time": "2021-10-26T10:13:30.742Z"
   },
   {
    "duration": 40,
    "start_time": "2021-10-26T10:14:18.013Z"
   },
   {
    "duration": 57321,
    "start_time": "2021-10-26T10:16:06.974Z"
   },
   {
    "duration": 360,
    "start_time": "2021-10-26T10:17:26.426Z"
   },
   {
    "duration": 367,
    "start_time": "2021-10-26T10:18:47.178Z"
   },
   {
    "duration": 332,
    "start_time": "2021-10-26T10:19:41.457Z"
   },
   {
    "duration": 484,
    "start_time": "2021-10-26T10:23:11.793Z"
   },
   {
    "duration": 394,
    "start_time": "2021-10-26T10:23:27.615Z"
   },
   {
    "duration": 19,
    "start_time": "2021-10-26T10:28:55.044Z"
   },
   {
    "duration": 834,
    "start_time": "2021-10-28T09:34:50.717Z"
   },
   {
    "duration": 984,
    "start_time": "2021-10-28T09:34:54.917Z"
   },
   {
    "duration": 54,
    "start_time": "2021-10-28T09:34:55.904Z"
   },
   {
    "duration": 111,
    "start_time": "2021-10-28T09:34:55.962Z"
   },
   {
    "duration": 14,
    "start_time": "2021-10-28T09:34:56.076Z"
   },
   {
    "duration": 17,
    "start_time": "2021-10-28T09:34:56.093Z"
   },
   {
    "duration": 44,
    "start_time": "2021-10-28T09:34:56.113Z"
   },
   {
    "duration": 25,
    "start_time": "2021-10-28T09:34:56.160Z"
   },
   {
    "duration": 16,
    "start_time": "2021-10-28T09:34:56.188Z"
   },
   {
    "duration": 23,
    "start_time": "2021-10-28T09:34:56.207Z"
   },
   {
    "duration": 27,
    "start_time": "2021-10-28T09:34:56.233Z"
   },
   {
    "duration": 20,
    "start_time": "2021-10-28T09:34:56.262Z"
   },
   {
    "duration": 12,
    "start_time": "2021-10-28T09:34:56.284Z"
   },
   {
    "duration": 25,
    "start_time": "2021-10-28T09:34:56.298Z"
   },
   {
    "duration": 14,
    "start_time": "2021-10-28T09:34:56.326Z"
   },
   {
    "duration": 31,
    "start_time": "2021-10-28T09:34:56.343Z"
   },
   {
    "duration": 12,
    "start_time": "2021-10-28T09:34:56.377Z"
   },
   {
    "duration": 14,
    "start_time": "2021-10-28T09:34:56.391Z"
   },
   {
    "duration": 19,
    "start_time": "2021-10-28T09:34:56.407Z"
   },
   {
    "duration": 34,
    "start_time": "2021-10-28T09:34:56.429Z"
   },
   {
    "duration": 42,
    "start_time": "2021-10-28T09:34:56.465Z"
   },
   {
    "duration": 14,
    "start_time": "2021-10-28T09:34:56.510Z"
   },
   {
    "duration": 24,
    "start_time": "2021-10-28T09:34:56.526Z"
   },
   {
    "duration": 35,
    "start_time": "2021-10-28T09:34:56.556Z"
   },
   {
    "duration": 78,
    "start_time": "2021-10-28T09:34:56.594Z"
   },
   {
    "duration": 755,
    "start_time": "2021-10-28T09:34:56.675Z"
   },
   {
    "duration": 52,
    "start_time": "2021-10-28T09:34:57.432Z"
   },
   {
    "duration": 784,
    "start_time": "2021-10-28T09:34:57.487Z"
   },
   {
    "duration": 558,
    "start_time": "2021-10-28T09:34:58.273Z"
   },
   {
    "duration": 288,
    "start_time": "2021-10-28T09:34:58.833Z"
   },
   {
    "duration": 422,
    "start_time": "2021-10-28T09:34:59.124Z"
   },
   {
    "duration": 566,
    "start_time": "2021-10-28T09:34:59.549Z"
   },
   {
    "duration": 724,
    "start_time": "2021-10-28T09:35:00.117Z"
   },
   {
    "duration": 785,
    "start_time": "2021-10-28T09:35:00.844Z"
   },
   {
    "duration": 728,
    "start_time": "2021-10-28T09:35:01.632Z"
   },
   {
    "duration": 1336,
    "start_time": "2021-10-28T09:35:02.362Z"
   },
   {
    "duration": 1243,
    "start_time": "2021-10-28T09:35:03.700Z"
   },
   {
    "duration": 17,
    "start_time": "2021-10-28T09:35:04.946Z"
   },
   {
    "duration": 15,
    "start_time": "2021-10-28T09:35:04.966Z"
   },
   {
    "duration": 8,
    "start_time": "2021-10-28T09:35:04.984Z"
   },
   {
    "duration": 31,
    "start_time": "2021-10-28T09:35:40.687Z"
   },
   {
    "duration": 121,
    "start_time": "2021-10-28T09:35:47.068Z"
   },
   {
    "duration": 29,
    "start_time": "2021-10-28T09:35:50.522Z"
   },
   {
    "duration": 29,
    "start_time": "2021-10-28T09:36:24.025Z"
   },
   {
    "duration": 408,
    "start_time": "2021-10-28T09:36:49.689Z"
   },
   {
    "duration": 28,
    "start_time": "2021-10-28T09:42:04.373Z"
   },
   {
    "duration": 28,
    "start_time": "2021-10-28T09:42:10.597Z"
   },
   {
    "duration": 29,
    "start_time": "2021-10-28T09:42:16.509Z"
   },
   {
    "duration": 27,
    "start_time": "2021-10-28T09:42:19.317Z"
   },
   {
    "duration": 27,
    "start_time": "2021-10-28T09:42:26.197Z"
   },
   {
    "duration": 28,
    "start_time": "2021-10-28T09:42:28.199Z"
   },
   {
    "duration": 30,
    "start_time": "2021-10-28T09:42:30.317Z"
   },
   {
    "duration": 29,
    "start_time": "2021-10-28T09:42:32.668Z"
   },
   {
    "duration": 28,
    "start_time": "2021-10-28T09:42:34.548Z"
   },
   {
    "duration": 40,
    "start_time": "2021-10-28T09:42:42.621Z"
   },
   {
    "duration": 28,
    "start_time": "2021-10-28T09:42:44.596Z"
   },
   {
    "duration": 31,
    "start_time": "2021-10-28T09:42:46.900Z"
   },
   {
    "duration": 357,
    "start_time": "2021-10-28T09:48:02.106Z"
   },
   {
    "duration": 29,
    "start_time": "2021-10-28T09:50:22.680Z"
   },
   {
    "duration": 95,
    "start_time": "2021-10-28T09:51:11.310Z"
   },
   {
    "duration": 95,
    "start_time": "2021-10-28T10:35:42.165Z"
   },
   {
    "duration": 12,
    "start_time": "2021-10-28T10:40:49.616Z"
   },
   {
    "duration": 10,
    "start_time": "2021-10-28T10:41:01.000Z"
   },
   {
    "duration": 11,
    "start_time": "2021-10-28T10:41:29.127Z"
   },
   {
    "duration": 18,
    "start_time": "2021-10-28T10:46:30.922Z"
   },
   {
    "duration": 955,
    "start_time": "2021-10-29T21:46:55.670Z"
   },
   {
    "duration": 28,
    "start_time": "2021-10-29T21:46:56.627Z"
   },
   {
    "duration": 43,
    "start_time": "2021-10-29T21:46:56.659Z"
   },
   {
    "duration": 104,
    "start_time": "2021-10-29T21:46:56.705Z"
   },
   {
    "duration": 14,
    "start_time": "2021-10-29T21:46:56.812Z"
   },
   {
    "duration": 18,
    "start_time": "2021-10-29T21:46:56.829Z"
   },
   {
    "duration": 40,
    "start_time": "2021-10-29T21:46:56.849Z"
   },
   {
    "duration": 20,
    "start_time": "2021-10-29T21:46:56.892Z"
   },
   {
    "duration": 11,
    "start_time": "2021-10-29T21:46:56.918Z"
   },
   {
    "duration": 59,
    "start_time": "2021-10-29T21:46:56.932Z"
   },
   {
    "duration": 9,
    "start_time": "2021-10-29T21:46:56.994Z"
   },
   {
    "duration": 6,
    "start_time": "2021-10-29T21:46:57.006Z"
   },
   {
    "duration": 10,
    "start_time": "2021-10-29T21:46:57.014Z"
   },
   {
    "duration": 57,
    "start_time": "2021-10-29T21:46:57.026Z"
   },
   {
    "duration": 10,
    "start_time": "2021-10-29T21:46:57.085Z"
   },
   {
    "duration": 19,
    "start_time": "2021-10-29T21:46:57.097Z"
   },
   {
    "duration": 11,
    "start_time": "2021-10-29T21:46:57.119Z"
   },
   {
    "duration": 52,
    "start_time": "2021-10-29T21:46:57.132Z"
   },
   {
    "duration": 12,
    "start_time": "2021-10-29T21:46:57.187Z"
   },
   {
    "duration": 14,
    "start_time": "2021-10-29T21:46:57.202Z"
   },
   {
    "duration": 8,
    "start_time": "2021-10-29T21:46:57.219Z"
   },
   {
    "duration": 77,
    "start_time": "2021-10-29T21:46:57.230Z"
   },
   {
    "duration": 6,
    "start_time": "2021-10-29T21:46:57.310Z"
   },
   {
    "duration": 16,
    "start_time": "2021-10-29T21:46:57.318Z"
   },
   {
    "duration": 60,
    "start_time": "2021-10-29T21:46:57.337Z"
   },
   {
    "duration": 65,
    "start_time": "2021-10-29T21:46:57.399Z"
   },
   {
    "duration": 818,
    "start_time": "2021-10-29T21:46:57.489Z"
   },
   {
    "duration": 40,
    "start_time": "2021-10-29T21:46:58.310Z"
   },
   {
    "duration": 725,
    "start_time": "2021-10-29T21:46:58.352Z"
   },
   {
    "duration": 573,
    "start_time": "2021-10-29T21:46:59.083Z"
   },
   {
    "duration": 303,
    "start_time": "2021-10-29T21:46:59.659Z"
   },
   {
    "duration": 466,
    "start_time": "2021-10-29T21:46:59.965Z"
   },
   {
    "duration": 591,
    "start_time": "2021-10-29T21:47:00.433Z"
   },
   {
    "duration": 677,
    "start_time": "2021-10-29T21:47:01.027Z"
   },
   {
    "duration": 753,
    "start_time": "2021-10-29T21:47:01.707Z"
   },
   {
    "duration": 749,
    "start_time": "2021-10-29T21:47:02.463Z"
   },
   {
    "duration": 1314,
    "start_time": "2021-10-29T21:47:03.214Z"
   },
   {
    "duration": 1224,
    "start_time": "2021-10-29T21:47:04.531Z"
   },
   {
    "duration": 10,
    "start_time": "2021-10-29T21:47:05.757Z"
   },
   {
    "duration": 19,
    "start_time": "2021-10-29T21:47:05.769Z"
   },
   {
    "duration": 15,
    "start_time": "2021-10-29T21:47:05.790Z"
   },
   {
    "duration": 12,
    "start_time": "2021-10-29T21:47:05.807Z"
   },
   {
    "duration": 18,
    "start_time": "2021-10-29T21:47:05.821Z"
   },
   {
    "duration": 10,
    "start_time": "2021-10-29T21:47:05.841Z"
   },
   {
    "duration": 37,
    "start_time": "2021-10-29T21:47:05.853Z"
   },
   {
    "duration": 12,
    "start_time": "2021-10-29T21:47:05.892Z"
   },
   {
    "duration": 7,
    "start_time": "2021-10-29T21:47:05.907Z"
   },
   {
    "duration": 16,
    "start_time": "2021-10-29T21:47:05.917Z"
   },
   {
    "duration": 11,
    "start_time": "2021-10-29T21:47:05.935Z"
   },
   {
    "duration": 72,
    "start_time": "2021-10-29T21:47:05.949Z"
   },
   {
    "duration": 22,
    "start_time": "2021-10-29T21:47:06.023Z"
   },
   {
    "duration": 364,
    "start_time": "2021-10-29T21:47:06.047Z"
   },
   {
    "duration": 290,
    "start_time": "2021-10-29T21:47:06.414Z"
   },
   {
    "duration": 10,
    "start_time": "2021-10-29T21:47:06.706Z"
   },
   {
    "duration": 198,
    "start_time": "2021-10-29T21:47:06.718Z"
   },
   {
    "duration": 68,
    "start_time": "2021-10-29T21:47:06.919Z"
   },
   {
    "duration": 419,
    "start_time": "2021-10-29T21:47:06.990Z"
   },
   {
    "duration": 575,
    "start_time": "2021-10-29T21:47:07.411Z"
   },
   {
    "duration": 444,
    "start_time": "2021-10-29T21:47:07.988Z"
   },
   {
    "duration": 44,
    "start_time": "2021-10-29T21:52:17.611Z"
   },
   {
    "duration": 17,
    "start_time": "2021-10-29T21:54:53.324Z"
   },
   {
    "duration": 803,
    "start_time": "2021-10-29T21:59:07.411Z"
   },
   {
    "duration": 159,
    "start_time": "2021-10-29T21:59:22.296Z"
   },
   {
    "duration": 48,
    "start_time": "2021-10-29T21:59:22.459Z"
   },
   {
    "duration": 72,
    "start_time": "2021-10-29T21:59:22.510Z"
   },
   {
    "duration": 118,
    "start_time": "2021-10-29T21:59:22.585Z"
   },
   {
    "duration": 13,
    "start_time": "2021-10-29T21:59:22.705Z"
   },
   {
    "duration": 16,
    "start_time": "2021-10-29T21:59:22.720Z"
   },
   {
    "duration": 8,
    "start_time": "2021-10-29T21:59:22.739Z"
   },
   {
    "duration": 44,
    "start_time": "2021-10-29T21:59:22.751Z"
   },
   {
    "duration": 9,
    "start_time": "2021-10-29T21:59:22.798Z"
   },
   {
    "duration": 25,
    "start_time": "2021-10-29T21:59:22.810Z"
   },
   {
    "duration": 47,
    "start_time": "2021-10-29T21:59:22.838Z"
   },
   {
    "duration": 10,
    "start_time": "2021-10-29T21:59:22.887Z"
   },
   {
    "duration": 10,
    "start_time": "2021-10-29T21:59:22.899Z"
   },
   {
    "duration": 11,
    "start_time": "2021-10-29T21:59:22.911Z"
   },
   {
    "duration": 10,
    "start_time": "2021-10-29T21:59:22.924Z"
   },
   {
    "duration": 61,
    "start_time": "2021-10-29T21:59:22.936Z"
   },
   {
    "duration": 15,
    "start_time": "2021-10-29T21:59:23.000Z"
   },
   {
    "duration": 724,
    "start_time": "2021-10-29T21:59:23.017Z"
   },
   {
    "duration": -30,
    "start_time": "2021-10-29T21:59:23.775Z"
   },
   {
    "duration": -37,
    "start_time": "2021-10-29T21:59:23.784Z"
   },
   {
    "duration": -41,
    "start_time": "2021-10-29T21:59:23.789Z"
   },
   {
    "duration": -48,
    "start_time": "2021-10-29T21:59:23.797Z"
   },
   {
    "duration": -53,
    "start_time": "2021-10-29T21:59:23.803Z"
   },
   {
    "duration": -55,
    "start_time": "2021-10-29T21:59:23.807Z"
   },
   {
    "duration": -60,
    "start_time": "2021-10-29T21:59:23.814Z"
   },
   {
    "duration": -65,
    "start_time": "2021-10-29T21:59:23.820Z"
   },
   {
    "duration": -70,
    "start_time": "2021-10-29T21:59:23.827Z"
   },
   {
    "duration": -79,
    "start_time": "2021-10-29T21:59:23.837Z"
   },
   {
    "duration": -83,
    "start_time": "2021-10-29T21:59:23.843Z"
   },
   {
    "duration": -89,
    "start_time": "2021-10-29T21:59:23.850Z"
   },
   {
    "duration": -92,
    "start_time": "2021-10-29T21:59:23.854Z"
   },
   {
    "duration": -94,
    "start_time": "2021-10-29T21:59:23.858Z"
   },
   {
    "duration": -97,
    "start_time": "2021-10-29T21:59:23.862Z"
   },
   {
    "duration": -103,
    "start_time": "2021-10-29T21:59:23.870Z"
   },
   {
    "duration": -106,
    "start_time": "2021-10-29T21:59:23.874Z"
   },
   {
    "duration": -109,
    "start_time": "2021-10-29T21:59:23.878Z"
   },
   {
    "duration": -114,
    "start_time": "2021-10-29T21:59:23.884Z"
   },
   {
    "duration": -116,
    "start_time": "2021-10-29T21:59:23.888Z"
   },
   {
    "duration": -120,
    "start_time": "2021-10-29T21:59:23.893Z"
   },
   {
    "duration": -125,
    "start_time": "2021-10-29T21:59:23.900Z"
   },
   {
    "duration": -128,
    "start_time": "2021-10-29T21:59:23.904Z"
   },
   {
    "duration": -132,
    "start_time": "2021-10-29T21:59:23.909Z"
   },
   {
    "duration": -138,
    "start_time": "2021-10-29T21:59:23.919Z"
   },
   {
    "duration": -141,
    "start_time": "2021-10-29T21:59:23.924Z"
   },
   {
    "duration": -144,
    "start_time": "2021-10-29T21:59:23.928Z"
   },
   {
    "duration": -151,
    "start_time": "2021-10-29T21:59:23.936Z"
   },
   {
    "duration": -154,
    "start_time": "2021-10-29T21:59:23.941Z"
   },
   {
    "duration": -160,
    "start_time": "2021-10-29T21:59:23.948Z"
   },
   {
    "duration": -162,
    "start_time": "2021-10-29T21:59:23.952Z"
   },
   {
    "duration": -166,
    "start_time": "2021-10-29T21:59:23.957Z"
   },
   {
    "duration": -169,
    "start_time": "2021-10-29T21:59:23.962Z"
   },
   {
    "duration": -173,
    "start_time": "2021-10-29T21:59:23.967Z"
   },
   {
    "duration": -176,
    "start_time": "2021-10-29T21:59:23.971Z"
   },
   {
    "duration": -179,
    "start_time": "2021-10-29T21:59:23.976Z"
   },
   {
    "duration": -184,
    "start_time": "2021-10-29T21:59:23.982Z"
   },
   {
    "duration": -186,
    "start_time": "2021-10-29T21:59:23.986Z"
   },
   {
    "duration": -196,
    "start_time": "2021-10-29T21:59:23.998Z"
   },
   {
    "duration": -221,
    "start_time": "2021-10-29T21:59:24.024Z"
   },
   {
    "duration": -229,
    "start_time": "2021-10-29T21:59:24.034Z"
   },
   {
    "duration": -232,
    "start_time": "2021-10-29T21:59:24.039Z"
   },
   {
    "duration": -276,
    "start_time": "2021-10-29T21:59:24.084Z"
   },
   {
    "duration": 7,
    "start_time": "2021-10-29T22:00:11.746Z"
   },
   {
    "duration": 17,
    "start_time": "2021-10-29T22:00:36.908Z"
   },
   {
    "duration": 117,
    "start_time": "2021-10-29T22:01:21.215Z"
   },
   {
    "duration": 49,
    "start_time": "2021-10-29T22:01:21.334Z"
   },
   {
    "duration": 28,
    "start_time": "2021-10-29T22:01:21.386Z"
   },
   {
    "duration": 134,
    "start_time": "2021-10-29T22:01:21.417Z"
   },
   {
    "duration": 11,
    "start_time": "2021-10-29T22:01:21.554Z"
   },
   {
    "duration": 16,
    "start_time": "2021-10-29T22:01:21.582Z"
   },
   {
    "duration": 9,
    "start_time": "2021-10-29T22:01:21.600Z"
   },
   {
    "duration": 16,
    "start_time": "2021-10-29T22:01:21.613Z"
   },
   {
    "duration": 50,
    "start_time": "2021-10-29T22:01:21.632Z"
   },
   {
    "duration": 18,
    "start_time": "2021-10-29T22:01:21.685Z"
   },
   {
    "duration": 12,
    "start_time": "2021-10-29T22:01:21.705Z"
   },
   {
    "duration": 7,
    "start_time": "2021-10-29T22:01:21.719Z"
   },
   {
    "duration": 8,
    "start_time": "2021-10-29T22:01:21.728Z"
   },
   {
    "duration": 53,
    "start_time": "2021-10-29T22:01:21.738Z"
   },
   {
    "duration": 10,
    "start_time": "2021-10-29T22:01:21.793Z"
   },
   {
    "duration": 16,
    "start_time": "2021-10-29T22:01:21.805Z"
   },
   {
    "duration": 7,
    "start_time": "2021-10-29T22:01:21.824Z"
   },
   {
    "duration": 56,
    "start_time": "2021-10-29T22:01:21.834Z"
   },
   {
    "duration": 11,
    "start_time": "2021-10-29T22:01:21.893Z"
   },
   {
    "duration": 12,
    "start_time": "2021-10-29T22:01:21.907Z"
   },
   {
    "duration": 16,
    "start_time": "2021-10-29T22:01:21.922Z"
   },
   {
    "duration": 43,
    "start_time": "2021-10-29T22:01:21.940Z"
   },
   {
    "duration": 31,
    "start_time": "2021-10-29T22:01:21.989Z"
   },
   {
    "duration": 5,
    "start_time": "2021-10-29T22:01:22.023Z"
   },
   {
    "duration": 13,
    "start_time": "2021-10-29T22:01:22.031Z"
   },
   {
    "duration": 64,
    "start_time": "2021-10-29T22:01:22.047Z"
   },
   {
    "duration": 91,
    "start_time": "2021-10-29T22:01:22.114Z"
   },
   {
    "duration": 1185,
    "start_time": "2021-10-29T22:01:22.209Z"
   },
   {
    "duration": 55,
    "start_time": "2021-10-29T22:01:23.397Z"
   },
   {
    "duration": 954,
    "start_time": "2021-10-29T22:01:23.455Z"
   },
   {
    "duration": 571,
    "start_time": "2021-10-29T22:01:24.413Z"
   },
   {
    "duration": 406,
    "start_time": "2021-10-29T22:01:24.987Z"
   },
   {
    "duration": 460,
    "start_time": "2021-10-29T22:01:25.395Z"
   },
   {
    "duration": 589,
    "start_time": "2021-10-29T22:01:25.858Z"
   },
   {
    "duration": 708,
    "start_time": "2021-10-29T22:01:26.449Z"
   },
   {
    "duration": 759,
    "start_time": "2021-10-29T22:01:27.159Z"
   },
   {
    "duration": 737,
    "start_time": "2021-10-29T22:01:27.921Z"
   },
   {
    "duration": 1522,
    "start_time": "2021-10-29T22:01:28.660Z"
   },
   {
    "duration": 1424,
    "start_time": "2021-10-29T22:01:30.185Z"
   },
   {
    "duration": 11,
    "start_time": "2021-10-29T22:01:31.611Z"
   },
   {
    "duration": 19,
    "start_time": "2021-10-29T22:01:31.624Z"
   },
   {
    "duration": 12,
    "start_time": "2021-10-29T22:01:31.646Z"
   },
   {
    "duration": 31,
    "start_time": "2021-10-29T22:01:31.660Z"
   },
   {
    "duration": 10,
    "start_time": "2021-10-29T22:01:31.694Z"
   },
   {
    "duration": 10,
    "start_time": "2021-10-29T22:01:31.707Z"
   },
   {
    "duration": 11,
    "start_time": "2021-10-29T22:01:31.719Z"
   },
   {
    "duration": 52,
    "start_time": "2021-10-29T22:01:31.732Z"
   },
   {
    "duration": 10,
    "start_time": "2021-10-29T22:01:31.786Z"
   },
   {
    "duration": 12,
    "start_time": "2021-10-29T22:01:31.798Z"
   },
   {
    "duration": 18,
    "start_time": "2021-10-29T22:01:31.813Z"
   },
   {
    "duration": 85,
    "start_time": "2021-10-29T22:01:31.834Z"
   },
   {
    "duration": 22,
    "start_time": "2021-10-29T22:01:31.921Z"
   },
   {
    "duration": 337,
    "start_time": "2021-10-29T22:01:31.946Z"
   },
   {
    "duration": 343,
    "start_time": "2021-10-29T22:01:32.286Z"
   },
   {
    "duration": 10,
    "start_time": "2021-10-29T22:01:32.631Z"
   },
   {
    "duration": 159,
    "start_time": "2021-10-29T22:01:32.644Z"
   },
   {
    "duration": 62,
    "start_time": "2021-10-29T22:01:32.806Z"
   },
   {
    "duration": 471,
    "start_time": "2021-10-29T22:01:32.882Z"
   },
   {
    "duration": 513,
    "start_time": "2021-10-29T22:01:33.357Z"
   },
   {
    "duration": 462,
    "start_time": "2021-10-29T22:01:33.873Z"
   },
   {
    "duration": 5354,
    "start_time": "2021-10-29T22:05:55.924Z"
   },
   {
    "duration": 124,
    "start_time": "2021-10-29T22:06:17.800Z"
   },
   {
    "duration": 3517,
    "start_time": "2021-10-29T22:06:17.927Z"
   },
   {
    "duration": 32,
    "start_time": "2021-10-29T22:06:21.448Z"
   },
   {
    "duration": 28,
    "start_time": "2021-10-29T22:06:21.483Z"
   },
   {
    "duration": 241,
    "start_time": "2021-10-29T22:06:21.514Z"
   },
   {
    "duration": 26,
    "start_time": "2021-10-29T22:06:21.757Z"
   },
   {
    "duration": 17,
    "start_time": "2021-10-29T22:06:21.786Z"
   },
   {
    "duration": 11,
    "start_time": "2021-10-29T22:06:21.808Z"
   },
   {
    "duration": 19,
    "start_time": "2021-10-29T22:06:21.823Z"
   },
   {
    "duration": 13,
    "start_time": "2021-10-29T22:06:21.883Z"
   },
   {
    "duration": 17,
    "start_time": "2021-10-29T22:06:21.898Z"
   },
   {
    "duration": 10,
    "start_time": "2021-10-29T22:06:21.917Z"
   },
   {
    "duration": 7,
    "start_time": "2021-10-29T22:06:21.930Z"
   },
   {
    "duration": 11,
    "start_time": "2021-10-29T22:06:21.983Z"
   },
   {
    "duration": 13,
    "start_time": "2021-10-29T22:06:21.996Z"
   },
   {
    "duration": 9,
    "start_time": "2021-10-29T22:06:22.011Z"
   },
   {
    "duration": 59,
    "start_time": "2021-10-29T22:06:22.023Z"
   },
   {
    "duration": 7,
    "start_time": "2021-10-29T22:06:22.084Z"
   },
   {
    "duration": 13,
    "start_time": "2021-10-29T22:06:22.093Z"
   },
   {
    "duration": 11,
    "start_time": "2021-10-29T22:06:22.108Z"
   },
   {
    "duration": 11,
    "start_time": "2021-10-29T22:06:22.121Z"
   },
   {
    "duration": 56,
    "start_time": "2021-10-29T22:06:22.135Z"
   },
   {
    "duration": 8,
    "start_time": "2021-10-29T22:06:22.199Z"
   },
   {
    "duration": 35,
    "start_time": "2021-10-29T22:06:22.210Z"
   },
   {
    "duration": 4,
    "start_time": "2021-10-29T22:06:22.247Z"
   },
   {
    "duration": 11,
    "start_time": "2021-10-29T22:06:22.282Z"
   },
   {
    "duration": 34,
    "start_time": "2021-10-29T22:06:22.295Z"
   },
   {
    "duration": 93,
    "start_time": "2021-10-29T22:06:22.331Z"
   },
   {
    "duration": 764,
    "start_time": "2021-10-29T22:06:22.429Z"
   },
   {
    "duration": 36,
    "start_time": "2021-10-29T22:06:23.196Z"
   },
   {
    "duration": 578,
    "start_time": "2021-10-29T22:06:23.234Z"
   },
   {
    "duration": 574,
    "start_time": "2021-10-29T22:06:23.815Z"
   },
   {
    "duration": 302,
    "start_time": "2021-10-29T22:06:24.392Z"
   },
   {
    "duration": 426,
    "start_time": "2021-10-29T22:06:24.697Z"
   },
   {
    "duration": 552,
    "start_time": "2021-10-29T22:06:25.125Z"
   },
   {
    "duration": 852,
    "start_time": "2021-10-29T22:06:25.682Z"
   },
   {
    "duration": 680,
    "start_time": "2021-10-29T22:06:26.536Z"
   },
   {
    "duration": 680,
    "start_time": "2021-10-29T22:06:27.218Z"
   },
   {
    "duration": 1227,
    "start_time": "2021-10-29T22:06:27.901Z"
   },
   {
    "duration": 1183,
    "start_time": "2021-10-29T22:06:29.131Z"
   },
   {
    "duration": 14,
    "start_time": "2021-10-29T22:06:30.316Z"
   },
   {
    "duration": 18,
    "start_time": "2021-10-29T22:06:30.332Z"
   },
   {
    "duration": 15,
    "start_time": "2021-10-29T22:06:30.352Z"
   },
   {
    "duration": 8,
    "start_time": "2021-10-29T22:06:30.382Z"
   },
   {
    "duration": 10,
    "start_time": "2021-10-29T22:06:30.392Z"
   },
   {
    "duration": 11,
    "start_time": "2021-10-29T22:06:30.404Z"
   },
   {
    "duration": 16,
    "start_time": "2021-10-29T22:06:30.418Z"
   },
   {
    "duration": 12,
    "start_time": "2021-10-29T22:06:30.437Z"
   },
   {
    "duration": 41,
    "start_time": "2021-10-29T22:06:30.452Z"
   },
   {
    "duration": 12,
    "start_time": "2021-10-29T22:06:30.496Z"
   },
   {
    "duration": 22,
    "start_time": "2021-10-29T22:06:30.510Z"
   },
   {
    "duration": 68,
    "start_time": "2021-10-29T22:06:30.535Z"
   },
   {
    "duration": 22,
    "start_time": "2021-10-29T22:06:30.607Z"
   },
   {
    "duration": 480,
    "start_time": "2021-10-29T22:06:30.631Z"
   },
   {
    "duration": 305,
    "start_time": "2021-10-29T22:06:31.114Z"
   },
   {
    "duration": 10,
    "start_time": "2021-10-29T22:06:31.422Z"
   },
   {
    "duration": 129,
    "start_time": "2021-10-29T22:06:31.434Z"
   },
   {
    "duration": 75,
    "start_time": "2021-10-29T22:06:31.566Z"
   },
   {
    "duration": 464,
    "start_time": "2021-10-29T22:06:31.644Z"
   },
   {
    "duration": 492,
    "start_time": "2021-10-29T22:06:32.111Z"
   },
   {
    "duration": 446,
    "start_time": "2021-10-29T22:06:32.606Z"
   },
   {
    "duration": 880,
    "start_time": "2021-10-29T22:08:49.418Z"
   },
   {
    "duration": 715,
    "start_time": "2021-10-29T22:08:58.700Z"
   },
   {
    "duration": 303,
    "start_time": "2021-10-29T22:09:53.246Z"
   },
   {
    "duration": 428,
    "start_time": "2021-10-29T22:10:31.563Z"
   },
   {
    "duration": 1297,
    "start_time": "2021-10-29T22:11:25.779Z"
   },
   {
    "duration": 322,
    "start_time": "2021-10-29T22:14:23.522Z"
   },
   {
    "duration": 108,
    "start_time": "2021-10-29T22:15:18.490Z"
   },
   {
    "duration": 319,
    "start_time": "2021-10-29T22:15:31.519Z"
   },
   {
    "duration": 691,
    "start_time": "2021-10-29T22:19:53.593Z"
   },
   {
    "duration": 859,
    "start_time": "2021-10-29T23:09:06.001Z"
   },
   {
    "duration": 993,
    "start_time": "2021-10-29T23:11:14.275Z"
   },
   {
    "duration": 674,
    "start_time": "2021-10-29T23:12:18.753Z"
   },
   {
    "duration": 1752,
    "start_time": "2021-10-29T23:15:05.583Z"
   },
   {
    "duration": 782,
    "start_time": "2021-10-29T23:15:19.509Z"
   },
   {
    "duration": 613,
    "start_time": "2021-10-29T23:22:10.142Z"
   },
   {
    "duration": 304,
    "start_time": "2021-10-29T23:22:23.943Z"
   },
   {
    "duration": 678,
    "start_time": "2021-10-29T23:22:44.993Z"
   },
   {
    "duration": 698,
    "start_time": "2021-10-29T23:30:17.433Z"
   },
   {
    "duration": 1039,
    "start_time": "2021-10-29T23:33:34.175Z"
   },
   {
    "duration": 694,
    "start_time": "2021-10-29T23:35:59.958Z"
   },
   {
    "duration": 855,
    "start_time": "2021-10-30T07:46:50.328Z"
   },
   {
    "duration": 4652,
    "start_time": "2021-10-30T07:46:51.185Z"
   },
   {
    "duration": 28,
    "start_time": "2021-10-30T07:46:55.841Z"
   },
   {
    "duration": 30,
    "start_time": "2021-10-30T07:46:55.872Z"
   },
   {
    "duration": 105,
    "start_time": "2021-10-30T07:46:55.904Z"
   },
   {
    "duration": 11,
    "start_time": "2021-10-30T07:46:56.011Z"
   },
   {
    "duration": 15,
    "start_time": "2021-10-30T07:46:56.024Z"
   },
   {
    "duration": 41,
    "start_time": "2021-10-30T07:46:56.043Z"
   },
   {
    "duration": 16,
    "start_time": "2021-10-30T07:46:56.086Z"
   },
   {
    "duration": 10,
    "start_time": "2021-10-30T07:46:56.104Z"
   },
   {
    "duration": 18,
    "start_time": "2021-10-30T07:46:56.116Z"
   },
   {
    "duration": 47,
    "start_time": "2021-10-30T07:46:56.137Z"
   },
   {
    "duration": 5,
    "start_time": "2021-10-30T07:46:56.187Z"
   },
   {
    "duration": 10,
    "start_time": "2021-10-30T07:46:56.195Z"
   },
   {
    "duration": 13,
    "start_time": "2021-10-30T07:46:56.207Z"
   },
   {
    "duration": 9,
    "start_time": "2021-10-30T07:46:56.222Z"
   },
   {
    "duration": 57,
    "start_time": "2021-10-30T07:46:56.234Z"
   },
   {
    "duration": 7,
    "start_time": "2021-10-30T07:46:56.293Z"
   },
   {
    "duration": 10,
    "start_time": "2021-10-30T07:46:56.302Z"
   },
   {
    "duration": 10,
    "start_time": "2021-10-30T07:46:56.314Z"
   },
   {
    "duration": 11,
    "start_time": "2021-10-30T07:46:56.327Z"
   },
   {
    "duration": 15,
    "start_time": "2021-10-30T07:46:56.381Z"
   },
   {
    "duration": 7,
    "start_time": "2021-10-30T07:46:56.402Z"
   },
   {
    "duration": 37,
    "start_time": "2021-10-30T07:46:56.412Z"
   },
   {
    "duration": 4,
    "start_time": "2021-10-30T07:46:56.451Z"
   },
   {
    "duration": 11,
    "start_time": "2021-10-30T07:46:56.481Z"
   },
   {
    "duration": 38,
    "start_time": "2021-10-30T07:46:56.495Z"
   },
   {
    "duration": 89,
    "start_time": "2021-10-30T07:46:56.535Z"
   },
   {
    "duration": 761,
    "start_time": "2021-10-30T07:46:56.626Z"
   },
   {
    "duration": 38,
    "start_time": "2021-10-30T07:46:57.389Z"
   },
   {
    "duration": 2018,
    "start_time": "2021-10-30T07:46:57.429Z"
   },
   {
    "duration": -1161,
    "start_time": "2021-10-30T07:47:00.611Z"
   },
   {
    "duration": -1168,
    "start_time": "2021-10-30T07:47:00.619Z"
   },
   {
    "duration": -1173,
    "start_time": "2021-10-30T07:47:00.625Z"
   },
   {
    "duration": -1178,
    "start_time": "2021-10-30T07:47:00.632Z"
   },
   {
    "duration": -1183,
    "start_time": "2021-10-30T07:47:00.638Z"
   },
   {
    "duration": -1187,
    "start_time": "2021-10-30T07:47:00.644Z"
   },
   {
    "duration": -1192,
    "start_time": "2021-10-30T07:47:00.650Z"
   },
   {
    "duration": -1196,
    "start_time": "2021-10-30T07:47:00.656Z"
   },
   {
    "duration": -1213,
    "start_time": "2021-10-30T07:47:00.675Z"
   },
   {
    "duration": -1219,
    "start_time": "2021-10-30T07:47:00.682Z"
   },
   {
    "duration": -1220,
    "start_time": "2021-10-30T07:47:00.685Z"
   },
   {
    "duration": -1223,
    "start_time": "2021-10-30T07:47:00.689Z"
   },
   {
    "duration": -1225,
    "start_time": "2021-10-30T07:47:00.693Z"
   },
   {
    "duration": -1227,
    "start_time": "2021-10-30T07:47:00.697Z"
   },
   {
    "duration": -1230,
    "start_time": "2021-10-30T07:47:00.701Z"
   },
   {
    "duration": -1231,
    "start_time": "2021-10-30T07:47:00.704Z"
   },
   {
    "duration": -1233,
    "start_time": "2021-10-30T07:47:00.708Z"
   },
   {
    "duration": -1235,
    "start_time": "2021-10-30T07:47:00.711Z"
   },
   {
    "duration": -1237,
    "start_time": "2021-10-30T07:47:00.715Z"
   },
   {
    "duration": -1239,
    "start_time": "2021-10-30T07:47:00.718Z"
   },
   {
    "duration": -1241,
    "start_time": "2021-10-30T07:47:00.722Z"
   },
   {
    "duration": -1242,
    "start_time": "2021-10-30T07:47:00.725Z"
   },
   {
    "duration": -1245,
    "start_time": "2021-10-30T07:47:00.729Z"
   },
   {
    "duration": -1247,
    "start_time": "2021-10-30T07:47:00.733Z"
   },
   {
    "duration": -1249,
    "start_time": "2021-10-30T07:47:00.736Z"
   },
   {
    "duration": -1251,
    "start_time": "2021-10-30T07:47:00.740Z"
   },
   {
    "duration": -1253,
    "start_time": "2021-10-30T07:47:00.743Z"
   },
   {
    "duration": -1255,
    "start_time": "2021-10-30T07:47:00.746Z"
   },
   {
    "duration": -1256,
    "start_time": "2021-10-30T07:47:00.749Z"
   },
   {
    "duration": -1257,
    "start_time": "2021-10-30T07:47:00.751Z"
   },
   {
    "duration": 323,
    "start_time": "2021-10-30T07:47:45.225Z"
   },
   {
    "duration": 147,
    "start_time": "2021-10-30T07:47:56.258Z"
   },
   {
    "duration": 3405,
    "start_time": "2021-10-30T07:47:56.408Z"
   },
   {
    "duration": 31,
    "start_time": "2021-10-30T07:47:59.817Z"
   },
   {
    "duration": 28,
    "start_time": "2021-10-30T07:47:59.851Z"
   },
   {
    "duration": 101,
    "start_time": "2021-10-30T07:47:59.882Z"
   },
   {
    "duration": 11,
    "start_time": "2021-10-30T07:47:59.986Z"
   },
   {
    "duration": 14,
    "start_time": "2021-10-30T07:48:00.000Z"
   },
   {
    "duration": 8,
    "start_time": "2021-10-30T07:48:00.018Z"
   },
   {
    "duration": 56,
    "start_time": "2021-10-30T07:48:00.028Z"
   },
   {
    "duration": 12,
    "start_time": "2021-10-30T07:48:00.087Z"
   },
   {
    "duration": 19,
    "start_time": "2021-10-30T07:48:00.102Z"
   },
   {
    "duration": 18,
    "start_time": "2021-10-30T07:48:00.124Z"
   },
   {
    "duration": 41,
    "start_time": "2021-10-30T07:48:00.145Z"
   },
   {
    "duration": 17,
    "start_time": "2021-10-30T07:48:00.188Z"
   },
   {
    "duration": 13,
    "start_time": "2021-10-30T07:48:00.208Z"
   },
   {
    "duration": 11,
    "start_time": "2021-10-30T07:48:00.224Z"
   },
   {
    "duration": 23,
    "start_time": "2021-10-30T07:48:00.237Z"
   },
   {
    "duration": 7,
    "start_time": "2021-10-30T07:48:00.283Z"
   },
   {
    "duration": 22,
    "start_time": "2021-10-30T07:48:00.292Z"
   },
   {
    "duration": 22,
    "start_time": "2021-10-30T07:48:00.316Z"
   },
   {
    "duration": 26,
    "start_time": "2021-10-30T07:48:00.341Z"
   },
   {
    "duration": 28,
    "start_time": "2021-10-30T07:48:00.369Z"
   },
   {
    "duration": 11,
    "start_time": "2021-10-30T07:48:00.402Z"
   },
   {
    "duration": 49,
    "start_time": "2021-10-30T07:48:00.416Z"
   },
   {
    "duration": 4,
    "start_time": "2021-10-30T07:48:00.467Z"
   },
   {
    "duration": 25,
    "start_time": "2021-10-30T07:48:00.474Z"
   },
   {
    "duration": 40,
    "start_time": "2021-10-30T07:48:00.502Z"
   },
   {
    "duration": 71,
    "start_time": "2021-10-30T07:48:00.545Z"
   },
   {
    "duration": 764,
    "start_time": "2021-10-30T07:48:00.619Z"
   },
   {
    "duration": 36,
    "start_time": "2021-10-30T07:48:01.386Z"
   },
   {
    "duration": 1110,
    "start_time": "2021-10-30T07:48:01.425Z"
   },
   {
    "duration": 332,
    "start_time": "2021-10-30T07:48:02.537Z"
   },
   {
    "duration": -1160,
    "start_time": "2021-10-30T07:48:04.031Z"
   },
   {
    "duration": -1163,
    "start_time": "2021-10-30T07:48:04.036Z"
   },
   {
    "duration": -1166,
    "start_time": "2021-10-30T07:48:04.040Z"
   },
   {
    "duration": -1167,
    "start_time": "2021-10-30T07:48:04.043Z"
   },
   {
    "duration": -1169,
    "start_time": "2021-10-30T07:48:04.046Z"
   },
   {
    "duration": -1171,
    "start_time": "2021-10-30T07:48:04.050Z"
   },
   {
    "duration": -1173,
    "start_time": "2021-10-30T07:48:04.053Z"
   },
   {
    "duration": -1175,
    "start_time": "2021-10-30T07:48:04.056Z"
   },
   {
    "duration": -1176,
    "start_time": "2021-10-30T07:48:04.059Z"
   },
   {
    "duration": -1178,
    "start_time": "2021-10-30T07:48:04.062Z"
   },
   {
    "duration": -1179,
    "start_time": "2021-10-30T07:48:04.065Z"
   },
   {
    "duration": -1180,
    "start_time": "2021-10-30T07:48:04.067Z"
   },
   {
    "duration": -1182,
    "start_time": "2021-10-30T07:48:04.070Z"
   },
   {
    "duration": -1183,
    "start_time": "2021-10-30T07:48:04.073Z"
   },
   {
    "duration": -1185,
    "start_time": "2021-10-30T07:48:04.076Z"
   },
   {
    "duration": -1185,
    "start_time": "2021-10-30T07:48:04.078Z"
   },
   {
    "duration": -1186,
    "start_time": "2021-10-30T07:48:04.081Z"
   },
   {
    "duration": -1188,
    "start_time": "2021-10-30T07:48:04.084Z"
   },
   {
    "duration": -1189,
    "start_time": "2021-10-30T07:48:04.087Z"
   },
   {
    "duration": -1190,
    "start_time": "2021-10-30T07:48:04.089Z"
   },
   {
    "duration": -1192,
    "start_time": "2021-10-30T07:48:04.093Z"
   },
   {
    "duration": -1193,
    "start_time": "2021-10-30T07:48:04.095Z"
   },
   {
    "duration": -1195,
    "start_time": "2021-10-30T07:48:04.099Z"
   },
   {
    "duration": -1196,
    "start_time": "2021-10-30T07:48:04.101Z"
   },
   {
    "duration": -1231,
    "start_time": "2021-10-30T07:48:04.137Z"
   },
   {
    "duration": -1233,
    "start_time": "2021-10-30T07:48:04.141Z"
   },
   {
    "duration": -1236,
    "start_time": "2021-10-30T07:48:04.145Z"
   },
   {
    "duration": -1238,
    "start_time": "2021-10-30T07:48:04.149Z"
   },
   {
    "duration": -1241,
    "start_time": "2021-10-30T07:48:04.153Z"
   },
   {
    "duration": 291,
    "start_time": "2021-10-30T07:48:35.681Z"
   },
   {
    "duration": 303,
    "start_time": "2021-10-30T07:49:52.721Z"
   },
   {
    "duration": 398,
    "start_time": "2021-10-30T07:50:21.144Z"
   },
   {
    "duration": 304,
    "start_time": "2021-10-30T07:50:25.829Z"
   },
   {
    "duration": 138,
    "start_time": "2021-10-30T07:50:37.744Z"
   },
   {
    "duration": 3899,
    "start_time": "2021-10-30T07:50:37.885Z"
   },
   {
    "duration": 31,
    "start_time": "2021-10-30T07:50:41.788Z"
   },
   {
    "duration": 29,
    "start_time": "2021-10-30T07:50:41.822Z"
   },
   {
    "duration": 135,
    "start_time": "2021-10-30T07:50:41.854Z"
   },
   {
    "duration": 15,
    "start_time": "2021-10-30T07:50:41.993Z"
   },
   {
    "duration": 14,
    "start_time": "2021-10-30T07:50:42.010Z"
   },
   {
    "duration": 8,
    "start_time": "2021-10-30T07:50:42.027Z"
   },
   {
    "duration": 55,
    "start_time": "2021-10-30T07:50:42.039Z"
   },
   {
    "duration": 9,
    "start_time": "2021-10-30T07:50:42.097Z"
   },
   {
    "duration": 19,
    "start_time": "2021-10-30T07:50:42.108Z"
   },
   {
    "duration": 24,
    "start_time": "2021-10-30T07:50:42.130Z"
   },
   {
    "duration": 29,
    "start_time": "2021-10-30T07:50:42.156Z"
   },
   {
    "duration": 13,
    "start_time": "2021-10-30T07:50:42.188Z"
   },
   {
    "duration": 12,
    "start_time": "2021-10-30T07:50:42.204Z"
   },
   {
    "duration": 9,
    "start_time": "2021-10-30T07:50:42.218Z"
   },
   {
    "duration": 55,
    "start_time": "2021-10-30T07:50:42.229Z"
   },
   {
    "duration": 7,
    "start_time": "2021-10-30T07:50:42.286Z"
   },
   {
    "duration": 13,
    "start_time": "2021-10-30T07:50:42.295Z"
   },
   {
    "duration": 10,
    "start_time": "2021-10-30T07:50:42.310Z"
   },
   {
    "duration": 12,
    "start_time": "2021-10-30T07:50:42.323Z"
   },
   {
    "duration": 16,
    "start_time": "2021-10-30T07:50:42.382Z"
   },
   {
    "duration": 7,
    "start_time": "2021-10-30T07:50:42.404Z"
   },
   {
    "duration": 33,
    "start_time": "2021-10-30T07:50:42.414Z"
   },
   {
    "duration": 5,
    "start_time": "2021-10-30T07:50:42.449Z"
   },
   {
    "duration": 11,
    "start_time": "2021-10-30T07:50:42.483Z"
   },
   {
    "duration": 33,
    "start_time": "2021-10-30T07:50:42.496Z"
   },
   {
    "duration": 98,
    "start_time": "2021-10-30T07:50:42.531Z"
   },
   {
    "duration": 776,
    "start_time": "2021-10-30T07:50:42.631Z"
   },
   {
    "duration": 36,
    "start_time": "2021-10-30T07:50:43.410Z"
   },
   {
    "duration": 999,
    "start_time": "2021-10-30T07:50:43.449Z"
   },
   {
    "duration": 312,
    "start_time": "2021-10-30T07:50:44.451Z"
   },
   {
    "duration": -1189,
    "start_time": "2021-10-30T07:50:45.954Z"
   },
   {
    "duration": -1192,
    "start_time": "2021-10-30T07:50:45.959Z"
   },
   {
    "duration": -1195,
    "start_time": "2021-10-30T07:50:45.963Z"
   },
   {
    "duration": -1197,
    "start_time": "2021-10-30T07:50:45.967Z"
   },
   {
    "duration": -1199,
    "start_time": "2021-10-30T07:50:45.971Z"
   },
   {
    "duration": -1202,
    "start_time": "2021-10-30T07:50:45.975Z"
   },
   {
    "duration": -1204,
    "start_time": "2021-10-30T07:50:45.979Z"
   },
   {
    "duration": -1206,
    "start_time": "2021-10-30T07:50:45.982Z"
   },
   {
    "duration": -1207,
    "start_time": "2021-10-30T07:50:45.985Z"
   },
   {
    "duration": -1210,
    "start_time": "2021-10-30T07:50:45.989Z"
   },
   {
    "duration": -1244,
    "start_time": "2021-10-30T07:50:46.025Z"
   },
   {
    "duration": -1247,
    "start_time": "2021-10-30T07:50:46.029Z"
   },
   {
    "duration": -1250,
    "start_time": "2021-10-30T07:50:46.033Z"
   },
   {
    "duration": -1252,
    "start_time": "2021-10-30T07:50:46.037Z"
   },
   {
    "duration": -1255,
    "start_time": "2021-10-30T07:50:46.041Z"
   },
   {
    "duration": -1256,
    "start_time": "2021-10-30T07:50:46.044Z"
   },
   {
    "duration": -1258,
    "start_time": "2021-10-30T07:50:46.047Z"
   },
   {
    "duration": -1259,
    "start_time": "2021-10-30T07:50:46.050Z"
   },
   {
    "duration": -1261,
    "start_time": "2021-10-30T07:50:46.053Z"
   },
   {
    "duration": -1262,
    "start_time": "2021-10-30T07:50:46.056Z"
   },
   {
    "duration": -1264,
    "start_time": "2021-10-30T07:50:46.059Z"
   },
   {
    "duration": -1266,
    "start_time": "2021-10-30T07:50:46.062Z"
   },
   {
    "duration": -1267,
    "start_time": "2021-10-30T07:50:46.065Z"
   },
   {
    "duration": -1268,
    "start_time": "2021-10-30T07:50:46.067Z"
   },
   {
    "duration": -1269,
    "start_time": "2021-10-30T07:50:46.070Z"
   },
   {
    "duration": -1271,
    "start_time": "2021-10-30T07:50:46.073Z"
   },
   {
    "duration": -1272,
    "start_time": "2021-10-30T07:50:46.076Z"
   },
   {
    "duration": -1273,
    "start_time": "2021-10-30T07:50:46.078Z"
   },
   {
    "duration": -1274,
    "start_time": "2021-10-30T07:50:46.081Z"
   },
   {
    "duration": 359,
    "start_time": "2021-10-30T07:53:04.430Z"
   },
   {
    "duration": 313,
    "start_time": "2021-10-30T07:53:45.822Z"
   },
   {
    "duration": 297,
    "start_time": "2021-10-30T07:53:48.571Z"
   },
   {
    "duration": 320,
    "start_time": "2021-10-30T07:54:51.220Z"
   },
   {
    "duration": 316,
    "start_time": "2021-10-30T07:55:11.108Z"
   },
   {
    "duration": 1042,
    "start_time": "2021-10-30T07:55:51.569Z"
   },
   {
    "duration": 377,
    "start_time": "2021-10-30T07:56:02.612Z"
   },
   {
    "duration": 122,
    "start_time": "2021-10-30T07:56:09.835Z"
   },
   {
    "duration": 3335,
    "start_time": "2021-10-30T07:56:09.983Z"
   },
   {
    "duration": 32,
    "start_time": "2021-10-30T07:56:13.322Z"
   },
   {
    "duration": 28,
    "start_time": "2021-10-30T07:56:13.357Z"
   },
   {
    "duration": 107,
    "start_time": "2021-10-30T07:56:13.387Z"
   },
   {
    "duration": 12,
    "start_time": "2021-10-30T07:56:13.496Z"
   },
   {
    "duration": 15,
    "start_time": "2021-10-30T07:56:13.510Z"
   },
   {
    "duration": 7,
    "start_time": "2021-10-30T07:56:13.529Z"
   },
   {
    "duration": 53,
    "start_time": "2021-10-30T07:56:13.539Z"
   },
   {
    "duration": 10,
    "start_time": "2021-10-30T07:56:13.594Z"
   },
   {
    "duration": 17,
    "start_time": "2021-10-30T07:56:13.606Z"
   },
   {
    "duration": 13,
    "start_time": "2021-10-30T07:56:13.625Z"
   },
   {
    "duration": 5,
    "start_time": "2021-10-30T07:56:13.641Z"
   },
   {
    "duration": 38,
    "start_time": "2021-10-30T07:56:13.649Z"
   },
   {
    "duration": 12,
    "start_time": "2021-10-30T07:56:13.690Z"
   },
   {
    "duration": 9,
    "start_time": "2021-10-30T07:56:13.704Z"
   },
   {
    "duration": 16,
    "start_time": "2021-10-30T07:56:13.715Z"
   },
   {
    "duration": 49,
    "start_time": "2021-10-30T07:56:13.733Z"
   },
   {
    "duration": 12,
    "start_time": "2021-10-30T07:56:13.784Z"
   },
   {
    "duration": 10,
    "start_time": "2021-10-30T07:56:13.798Z"
   },
   {
    "duration": 10,
    "start_time": "2021-10-30T07:56:13.810Z"
   },
   {
    "duration": 16,
    "start_time": "2021-10-30T07:56:13.822Z"
   },
   {
    "duration": 7,
    "start_time": "2021-10-30T07:56:13.885Z"
   },
   {
    "duration": 32,
    "start_time": "2021-10-30T07:56:13.895Z"
   },
   {
    "duration": 6,
    "start_time": "2021-10-30T07:56:13.930Z"
   },
   {
    "duration": 46,
    "start_time": "2021-10-30T07:56:13.939Z"
   },
   {
    "duration": 35,
    "start_time": "2021-10-30T07:56:13.988Z"
   },
   {
    "duration": 88,
    "start_time": "2021-10-30T07:56:14.026Z"
   },
   {
    "duration": 742,
    "start_time": "2021-10-30T07:56:14.116Z"
   },
   {
    "duration": 46,
    "start_time": "2021-10-30T07:56:14.860Z"
   },
   {
    "duration": 1122,
    "start_time": "2021-10-30T07:56:14.908Z"
   },
   {
    "duration": 306,
    "start_time": "2021-10-30T07:56:16.032Z"
   },
   {
    "duration": -1185,
    "start_time": "2021-10-30T07:56:17.526Z"
   },
   {
    "duration": -1188,
    "start_time": "2021-10-30T07:56:17.530Z"
   },
   {
    "duration": -1190,
    "start_time": "2021-10-30T07:56:17.534Z"
   },
   {
    "duration": -1192,
    "start_time": "2021-10-30T07:56:17.538Z"
   },
   {
    "duration": -1197,
    "start_time": "2021-10-30T07:56:17.544Z"
   },
   {
    "duration": -1199,
    "start_time": "2021-10-30T07:56:17.547Z"
   },
   {
    "duration": -1200,
    "start_time": "2021-10-30T07:56:17.550Z"
   },
   {
    "duration": -1203,
    "start_time": "2021-10-30T07:56:17.554Z"
   },
   {
    "duration": -1204,
    "start_time": "2021-10-30T07:56:17.557Z"
   },
   {
    "duration": -1206,
    "start_time": "2021-10-30T07:56:17.560Z"
   },
   {
    "duration": -1208,
    "start_time": "2021-10-30T07:56:17.563Z"
   },
   {
    "duration": -1209,
    "start_time": "2021-10-30T07:56:17.566Z"
   },
   {
    "duration": -1211,
    "start_time": "2021-10-30T07:56:17.570Z"
   },
   {
    "duration": -1213,
    "start_time": "2021-10-30T07:56:17.573Z"
   },
   {
    "duration": -1213,
    "start_time": "2021-10-30T07:56:17.575Z"
   },
   {
    "duration": -1215,
    "start_time": "2021-10-30T07:56:17.578Z"
   },
   {
    "duration": -1217,
    "start_time": "2021-10-30T07:56:17.581Z"
   },
   {
    "duration": -1203,
    "start_time": "2021-10-30T07:56:17.584Z"
   },
   {
    "duration": -1204,
    "start_time": "2021-10-30T07:56:17.587Z"
   },
   {
    "duration": -1205,
    "start_time": "2021-10-30T07:56:17.589Z"
   },
   {
    "duration": -1206,
    "start_time": "2021-10-30T07:56:17.592Z"
   },
   {
    "duration": -1208,
    "start_time": "2021-10-30T07:56:17.595Z"
   },
   {
    "duration": -1209,
    "start_time": "2021-10-30T07:56:17.597Z"
   },
   {
    "duration": -1210,
    "start_time": "2021-10-30T07:56:17.600Z"
   },
   {
    "duration": -1211,
    "start_time": "2021-10-30T07:56:17.603Z"
   },
   {
    "duration": -1212,
    "start_time": "2021-10-30T07:56:17.606Z"
   },
   {
    "duration": -1213,
    "start_time": "2021-10-30T07:56:17.609Z"
   },
   {
    "duration": -1214,
    "start_time": "2021-10-30T07:56:17.612Z"
   },
   {
    "duration": -1214,
    "start_time": "2021-10-30T07:56:17.614Z"
   },
   {
    "duration": 307,
    "start_time": "2021-10-30T07:56:54.985Z"
   },
   {
    "duration": 321,
    "start_time": "2021-10-30T07:56:59.050Z"
   },
   {
    "duration": 348,
    "start_time": "2021-10-30T07:57:04.736Z"
   },
   {
    "duration": 7846,
    "start_time": "2021-10-30T07:57:21.120Z"
   },
   {
    "duration": -1159,
    "start_time": "2021-10-30T07:57:30.128Z"
   },
   {
    "duration": -1165,
    "start_time": "2021-10-30T07:57:30.135Z"
   },
   {
    "duration": 218,
    "start_time": "2021-10-30T07:58:30.722Z"
   },
   {
    "duration": 3370,
    "start_time": "2021-10-30T07:58:31.798Z"
   },
   {
    "duration": 31,
    "start_time": "2021-10-30T07:58:35.171Z"
   },
   {
    "duration": 30,
    "start_time": "2021-10-30T07:58:35.205Z"
   },
   {
    "duration": 94,
    "start_time": "2021-10-30T07:58:37.742Z"
   },
   {
    "duration": 13,
    "start_time": "2021-10-30T07:58:39.109Z"
   },
   {
    "duration": 16,
    "start_time": "2021-10-30T07:58:39.694Z"
   },
   {
    "duration": 8,
    "start_time": "2021-10-30T07:58:41.653Z"
   },
   {
    "duration": 17,
    "start_time": "2021-10-30T07:58:42.541Z"
   },
   {
    "duration": 11,
    "start_time": "2021-10-30T07:58:43.037Z"
   },
   {
    "duration": 18,
    "start_time": "2021-10-30T07:58:43.325Z"
   },
   {
    "duration": 10,
    "start_time": "2021-10-30T07:58:43.581Z"
   },
   {
    "duration": 6,
    "start_time": "2021-10-30T07:58:44.077Z"
   },
   {
    "duration": 8,
    "start_time": "2021-10-30T07:58:44.605Z"
   },
   {
    "duration": 14,
    "start_time": "2021-10-30T07:58:44.918Z"
   },
   {
    "duration": 9,
    "start_time": "2021-10-30T07:58:45.510Z"
   },
   {
    "duration": 18,
    "start_time": "2021-10-30T07:58:45.798Z"
   },
   {
    "duration": 7,
    "start_time": "2021-10-30T07:58:47.013Z"
   },
   {
    "duration": 12,
    "start_time": "2021-10-30T07:58:47.341Z"
   },
   {
    "duration": 11,
    "start_time": "2021-10-30T07:58:48.837Z"
   },
   {
    "duration": 12,
    "start_time": "2021-10-30T07:58:49.309Z"
   },
   {
    "duration": 18,
    "start_time": "2021-10-30T07:58:49.820Z"
   },
   {
    "duration": 7,
    "start_time": "2021-10-30T07:58:50.229Z"
   },
   {
    "duration": 30,
    "start_time": "2021-10-30T07:58:50.831Z"
   },
   {
    "duration": 5,
    "start_time": "2021-10-30T07:58:51.212Z"
   },
   {
    "duration": 12,
    "start_time": "2021-10-30T07:58:51.823Z"
   },
   {
    "duration": 33,
    "start_time": "2021-10-30T07:58:53.365Z"
   },
   {
    "duration": 64,
    "start_time": "2021-10-30T07:58:53.893Z"
   },
   {
    "duration": 723,
    "start_time": "2021-10-30T07:58:54.445Z"
   },
   {
    "duration": 35,
    "start_time": "2021-10-30T07:58:56.341Z"
   },
   {
    "duration": 1304,
    "start_time": "2021-10-30T07:59:00.685Z"
   },
   {
    "duration": 352,
    "start_time": "2021-10-30T07:59:20.967Z"
   },
   {
    "duration": 9251,
    "start_time": "2021-10-30T08:00:08.926Z"
   },
   {
    "duration": 7198,
    "start_time": "2021-10-30T08:00:37.461Z"
   },
   {
    "duration": -1168,
    "start_time": "2021-10-30T08:00:45.830Z"
   },
   {
    "duration": -1172,
    "start_time": "2021-10-30T08:00:45.836Z"
   },
   {
    "duration": -1177,
    "start_time": "2021-10-30T08:00:45.842Z"
   },
   {
    "duration": -1179,
    "start_time": "2021-10-30T08:00:45.846Z"
   },
   {
    "duration": -1184,
    "start_time": "2021-10-30T08:00:45.852Z"
   },
   {
    "duration": -1186,
    "start_time": "2021-10-30T08:00:45.856Z"
   },
   {
    "duration": -1190,
    "start_time": "2021-10-30T08:00:45.861Z"
   },
   {
    "duration": -1193,
    "start_time": "2021-10-30T08:00:45.865Z"
   },
   {
    "duration": -1195,
    "start_time": "2021-10-30T08:00:45.869Z"
   },
   {
    "duration": -1197,
    "start_time": "2021-10-30T08:00:45.872Z"
   },
   {
    "duration": 104,
    "start_time": "2021-10-30T08:02:55.517Z"
   },
   {
    "duration": 96,
    "start_time": "2021-10-30T08:03:07.452Z"
   },
   {
    "duration": 101,
    "start_time": "2021-10-30T08:03:12.042Z"
   },
   {
    "duration": 721,
    "start_time": "2021-10-30T08:38:20.529Z"
   },
   {
    "duration": 4754,
    "start_time": "2021-10-30T08:38:21.252Z"
   },
   {
    "duration": 21,
    "start_time": "2021-10-30T08:38:26.009Z"
   },
   {
    "duration": 18,
    "start_time": "2021-10-30T08:38:26.033Z"
   },
   {
    "duration": 70,
    "start_time": "2021-10-30T08:38:26.054Z"
   },
   {
    "duration": 11,
    "start_time": "2021-10-30T08:38:26.126Z"
   },
   {
    "duration": 12,
    "start_time": "2021-10-30T08:38:26.139Z"
   },
   {
    "duration": 27,
    "start_time": "2021-10-30T08:38:26.155Z"
   },
   {
    "duration": 15,
    "start_time": "2021-10-30T08:38:26.185Z"
   },
   {
    "duration": 9,
    "start_time": "2021-10-30T08:38:26.202Z"
   },
   {
    "duration": 13,
    "start_time": "2021-10-30T08:38:26.213Z"
   },
   {
    "duration": 7,
    "start_time": "2021-10-30T08:38:26.228Z"
   },
   {
    "duration": 42,
    "start_time": "2021-10-30T08:38:26.237Z"
   },
   {
    "duration": 6,
    "start_time": "2021-10-30T08:38:26.281Z"
   },
   {
    "duration": 10,
    "start_time": "2021-10-30T08:38:26.289Z"
   },
   {
    "duration": 6,
    "start_time": "2021-10-30T08:38:26.301Z"
   },
   {
    "duration": 12,
    "start_time": "2021-10-30T08:38:26.309Z"
   },
   {
    "duration": 6,
    "start_time": "2021-10-30T08:38:26.323Z"
   },
   {
    "duration": 53,
    "start_time": "2021-10-30T08:38:26.331Z"
   },
   {
    "duration": 10,
    "start_time": "2021-10-30T08:38:26.386Z"
   },
   {
    "duration": 9,
    "start_time": "2021-10-30T08:38:26.398Z"
   },
   {
    "duration": 13,
    "start_time": "2021-10-30T08:38:26.409Z"
   },
   {
    "duration": 5,
    "start_time": "2021-10-30T08:38:26.428Z"
   },
   {
    "duration": 63,
    "start_time": "2021-10-30T08:38:26.437Z"
   },
   {
    "duration": 4,
    "start_time": "2021-10-30T08:38:26.502Z"
   },
   {
    "duration": 12,
    "start_time": "2021-10-30T08:38:26.507Z"
   },
   {
    "duration": 24,
    "start_time": "2021-10-30T08:38:26.521Z"
   },
   {
    "duration": 67,
    "start_time": "2021-10-30T08:38:26.547Z"
   },
   {
    "duration": 586,
    "start_time": "2021-10-30T08:38:26.616Z"
   },
   {
    "duration": 22,
    "start_time": "2021-10-30T08:38:27.204Z"
   },
   {
    "duration": 2215,
    "start_time": "2021-10-30T08:38:27.227Z"
   },
   {
    "duration": 176,
    "start_time": "2021-10-30T08:38:29.445Z"
   },
   {
    "duration": 1903,
    "start_time": "2021-10-30T08:38:27.720Z"
   },
   {
    "duration": 1897,
    "start_time": "2021-10-30T08:38:27.727Z"
   },
   {
    "duration": 1891,
    "start_time": "2021-10-30T08:38:27.734Z"
   },
   {
    "duration": 1885,
    "start_time": "2021-10-30T08:38:27.741Z"
   },
   {
    "duration": 1880,
    "start_time": "2021-10-30T08:38:27.747Z"
   },
   {
    "duration": 1874,
    "start_time": "2021-10-30T08:38:27.754Z"
   },
   {
    "duration": 1871,
    "start_time": "2021-10-30T08:38:27.759Z"
   },
   {
    "duration": 1865,
    "start_time": "2021-10-30T08:38:27.766Z"
   },
   {
    "duration": 1858,
    "start_time": "2021-10-30T08:38:27.774Z"
   },
   {
    "duration": 1849,
    "start_time": "2021-10-30T08:38:27.784Z"
   },
   {
    "duration": 1845,
    "start_time": "2021-10-30T08:38:27.789Z"
   },
   {
    "duration": 1840,
    "start_time": "2021-10-30T08:38:27.795Z"
   },
   {
    "duration": 1832,
    "start_time": "2021-10-30T08:38:27.804Z"
   },
   {
    "duration": 1798,
    "start_time": "2021-10-30T08:38:27.838Z"
   },
   {
    "duration": 1794,
    "start_time": "2021-10-30T08:38:27.843Z"
   },
   {
    "duration": 1788,
    "start_time": "2021-10-30T08:38:27.850Z"
   },
   {
    "duration": 1785,
    "start_time": "2021-10-30T08:38:27.854Z"
   },
   {
    "duration": 1780,
    "start_time": "2021-10-30T08:38:27.860Z"
   },
   {
    "duration": 1775,
    "start_time": "2021-10-30T08:38:27.865Z"
   },
   {
    "duration": 1770,
    "start_time": "2021-10-30T08:38:27.871Z"
   },
   {
    "duration": 1768,
    "start_time": "2021-10-30T08:38:27.874Z"
   },
   {
    "duration": 1764,
    "start_time": "2021-10-30T08:38:27.879Z"
   },
   {
    "duration": 1761,
    "start_time": "2021-10-30T08:38:27.883Z"
   },
   {
    "duration": 1757,
    "start_time": "2021-10-30T08:38:27.888Z"
   },
   {
    "duration": 1755,
    "start_time": "2021-10-30T08:38:27.890Z"
   },
   {
    "duration": 1751,
    "start_time": "2021-10-30T08:38:27.895Z"
   },
   {
    "duration": 1748,
    "start_time": "2021-10-30T08:38:27.899Z"
   },
   {
    "duration": 1744,
    "start_time": "2021-10-30T08:38:27.904Z"
   },
   {
    "duration": 1740,
    "start_time": "2021-10-30T08:38:27.909Z"
   },
   {
    "duration": 1737,
    "start_time": "2021-10-30T08:38:27.913Z"
   },
   {
    "duration": 473,
    "start_time": "2021-10-30T08:38:54.757Z"
   },
   {
    "duration": 1759,
    "start_time": "2021-10-30T08:38:53.475Z"
   },
   {
    "duration": 1752,
    "start_time": "2021-10-30T08:38:53.484Z"
   },
   {
    "duration": 1747,
    "start_time": "2021-10-30T08:38:53.490Z"
   },
   {
    "duration": 1743,
    "start_time": "2021-10-30T08:38:53.496Z"
   },
   {
    "duration": 1739,
    "start_time": "2021-10-30T08:38:53.501Z"
   },
   {
    "duration": 1737,
    "start_time": "2021-10-30T08:38:53.505Z"
   },
   {
    "duration": 1732,
    "start_time": "2021-10-30T08:38:53.511Z"
   },
   {
    "duration": 1729,
    "start_time": "2021-10-30T08:38:53.516Z"
   },
   {
    "duration": 1726,
    "start_time": "2021-10-30T08:38:53.520Z"
   },
   {
    "duration": 1724,
    "start_time": "2021-10-30T08:38:53.524Z"
   },
   {
    "duration": 1716,
    "start_time": "2021-10-30T08:38:53.533Z"
   },
   {
    "duration": 1711,
    "start_time": "2021-10-30T08:38:53.539Z"
   },
   {
    "duration": 1708,
    "start_time": "2021-10-30T08:38:53.544Z"
   },
   {
    "duration": 1705,
    "start_time": "2021-10-30T08:38:53.548Z"
   },
   {
    "duration": 1703,
    "start_time": "2021-10-30T08:38:53.552Z"
   },
   {
    "duration": 1700,
    "start_time": "2021-10-30T08:38:53.556Z"
   },
   {
    "duration": 1696,
    "start_time": "2021-10-30T08:38:53.562Z"
   },
   {
    "duration": 1693,
    "start_time": "2021-10-30T08:38:53.566Z"
   },
   {
    "duration": 1681,
    "start_time": "2021-10-30T08:38:53.580Z"
   },
   {
    "duration": 1679,
    "start_time": "2021-10-30T08:38:53.583Z"
   },
   {
    "duration": 1676,
    "start_time": "2021-10-30T08:38:53.587Z"
   },
   {
    "duration": 1674,
    "start_time": "2021-10-30T08:38:53.590Z"
   },
   {
    "duration": 1668,
    "start_time": "2021-10-30T08:38:53.597Z"
   },
   {
    "duration": 1665,
    "start_time": "2021-10-30T08:38:53.601Z"
   },
   {
    "duration": 1660,
    "start_time": "2021-10-30T08:38:53.607Z"
   },
   {
    "duration": 1656,
    "start_time": "2021-10-30T08:38:53.612Z"
   },
   {
    "duration": 1660,
    "start_time": "2021-10-30T08:38:53.616Z"
   },
   {
    "duration": 1658,
    "start_time": "2021-10-30T08:38:53.620Z"
   },
   {
    "duration": 1654,
    "start_time": "2021-10-30T08:38:53.625Z"
   },
   {
    "duration": 722,
    "start_time": "2021-10-30T08:39:08.112Z"
   },
   {
    "duration": 3142,
    "start_time": "2021-10-30T08:39:08.836Z"
   },
   {
    "duration": 21,
    "start_time": "2021-10-30T08:39:11.981Z"
   },
   {
    "duration": 19,
    "start_time": "2021-10-30T08:39:12.004Z"
   },
   {
    "duration": 84,
    "start_time": "2021-10-30T08:39:12.024Z"
   },
   {
    "duration": 9,
    "start_time": "2021-10-30T08:39:12.110Z"
   },
   {
    "duration": 12,
    "start_time": "2021-10-30T08:39:12.121Z"
   },
   {
    "duration": 7,
    "start_time": "2021-10-30T08:39:12.135Z"
   },
   {
    "duration": 41,
    "start_time": "2021-10-30T08:39:12.144Z"
   },
   {
    "duration": 8,
    "start_time": "2021-10-30T08:39:12.187Z"
   },
   {
    "duration": 12,
    "start_time": "2021-10-30T08:39:12.197Z"
   },
   {
    "duration": 8,
    "start_time": "2021-10-30T08:39:12.210Z"
   },
   {
    "duration": 5,
    "start_time": "2021-10-30T08:39:12.220Z"
   },
   {
    "duration": 6,
    "start_time": "2021-10-30T08:39:12.226Z"
   },
   {
    "duration": 47,
    "start_time": "2021-10-30T08:39:12.233Z"
   },
   {
    "duration": 8,
    "start_time": "2021-10-30T08:39:12.282Z"
   },
   {
    "duration": 15,
    "start_time": "2021-10-30T08:39:12.292Z"
   },
   {
    "duration": 6,
    "start_time": "2021-10-30T08:39:12.308Z"
   },
   {
    "duration": 11,
    "start_time": "2021-10-30T08:39:12.316Z"
   },
   {
    "duration": 49,
    "start_time": "2021-10-30T08:39:12.329Z"
   },
   {
    "duration": 10,
    "start_time": "2021-10-30T08:39:12.380Z"
   },
   {
    "duration": 13,
    "start_time": "2021-10-30T08:39:12.393Z"
   },
   {
    "duration": 6,
    "start_time": "2021-10-30T08:39:12.411Z"
   },
   {
    "duration": 21,
    "start_time": "2021-10-30T08:39:12.420Z"
   },
   {
    "duration": 5,
    "start_time": "2021-10-30T08:39:12.477Z"
   },
   {
    "duration": 13,
    "start_time": "2021-10-30T08:39:12.484Z"
   },
   {
    "duration": 22,
    "start_time": "2021-10-30T08:39:12.499Z"
   },
   {
    "duration": 72,
    "start_time": "2021-10-30T08:39:12.523Z"
   },
   {
    "duration": 487,
    "start_time": "2021-10-30T08:39:12.597Z"
   },
   {
    "duration": 23,
    "start_time": "2021-10-30T08:39:13.086Z"
   },
   {
    "duration": 1301,
    "start_time": "2021-10-30T08:39:13.111Z"
   },
   {
    "duration": 477,
    "start_time": "2021-10-30T08:39:14.414Z"
   },
   {
    "duration": 1738,
    "start_time": "2021-10-30T08:39:13.156Z"
   },
   {
    "duration": 1733,
    "start_time": "2021-10-30T08:39:13.163Z"
   },
   {
    "duration": 1728,
    "start_time": "2021-10-30T08:39:13.169Z"
   },
   {
    "duration": 1724,
    "start_time": "2021-10-30T08:39:13.175Z"
   },
   {
    "duration": 1720,
    "start_time": "2021-10-30T08:39:13.181Z"
   },
   {
    "duration": 1715,
    "start_time": "2021-10-30T08:39:13.187Z"
   },
   {
    "duration": 1713,
    "start_time": "2021-10-30T08:39:13.191Z"
   },
   {
    "duration": 1710,
    "start_time": "2021-10-30T08:39:13.195Z"
   },
   {
    "duration": 1707,
    "start_time": "2021-10-30T08:39:13.200Z"
   },
   {
    "duration": 1704,
    "start_time": "2021-10-30T08:39:13.204Z"
   },
   {
    "duration": 1701,
    "start_time": "2021-10-30T08:39:13.209Z"
   },
   {
    "duration": 1697,
    "start_time": "2021-10-30T08:39:13.214Z"
   },
   {
    "duration": 1695,
    "start_time": "2021-10-30T08:39:13.218Z"
   },
   {
    "duration": 1691,
    "start_time": "2021-10-30T08:39:13.223Z"
   },
   {
    "duration": 1689,
    "start_time": "2021-10-30T08:39:13.227Z"
   },
   {
    "duration": 1684,
    "start_time": "2021-10-30T08:39:13.233Z"
   },
   {
    "duration": 1682,
    "start_time": "2021-10-30T08:39:13.237Z"
   },
   {
    "duration": 1680,
    "start_time": "2021-10-30T08:39:13.240Z"
   },
   {
    "duration": 1678,
    "start_time": "2021-10-30T08:39:13.244Z"
   },
   {
    "duration": 1666,
    "start_time": "2021-10-30T08:39:13.257Z"
   },
   {
    "duration": 1665,
    "start_time": "2021-10-30T08:39:13.260Z"
   },
   {
    "duration": 1659,
    "start_time": "2021-10-30T08:39:13.267Z"
   },
   {
    "duration": 1702,
    "start_time": "2021-10-30T08:39:13.273Z"
   },
   {
    "duration": 1699,
    "start_time": "2021-10-30T08:39:13.279Z"
   },
   {
    "duration": 1695,
    "start_time": "2021-10-30T08:39:13.285Z"
   },
   {
    "duration": 1691,
    "start_time": "2021-10-30T08:39:13.291Z"
   },
   {
    "duration": 1686,
    "start_time": "2021-10-30T08:39:13.298Z"
   },
   {
    "duration": 1682,
    "start_time": "2021-10-30T08:39:13.303Z"
   },
   {
    "duration": 1680,
    "start_time": "2021-10-30T08:39:13.306Z"
   },
   {
    "duration": 368,
    "start_time": "2021-10-30T08:40:36.345Z"
   },
   {
    "duration": 5723,
    "start_time": "2021-10-30T08:40:55.425Z"
   },
   {
    "duration": 10,
    "start_time": "2021-10-30T08:41:02.385Z"
   },
   {
    "duration": 13,
    "start_time": "2021-10-30T08:41:02.397Z"
   },
   {
    "duration": 21,
    "start_time": "2021-10-30T08:41:02.412Z"
   },
   {
    "duration": 5,
    "start_time": "2021-10-30T08:41:02.435Z"
   },
   {
    "duration": 19,
    "start_time": "2021-10-30T08:41:02.442Z"
   },
   {
    "duration": 10236,
    "start_time": "2021-10-30T08:41:02.463Z"
   },
   {
    "duration": 1866,
    "start_time": "2021-10-30T08:41:10.836Z"
   },
   {
    "duration": 1859,
    "start_time": "2021-10-30T08:41:10.845Z"
   },
   {
    "duration": 1854,
    "start_time": "2021-10-30T08:41:10.851Z"
   },
   {
    "duration": 1849,
    "start_time": "2021-10-30T08:41:10.856Z"
   },
   {
    "duration": 1844,
    "start_time": "2021-10-30T08:41:10.862Z"
   },
   {
    "duration": 1839,
    "start_time": "2021-10-30T08:41:10.868Z"
   },
   {
    "duration": 1835,
    "start_time": "2021-10-30T08:41:10.873Z"
   },
   {
    "duration": 1830,
    "start_time": "2021-10-30T08:41:10.879Z"
   },
   {
    "duration": 1826,
    "start_time": "2021-10-30T08:41:10.884Z"
   },
   {
    "duration": 1822,
    "start_time": "2021-10-30T08:41:10.888Z"
   },
   {
    "duration": 1808,
    "start_time": "2021-10-30T08:41:10.903Z"
   },
   {
    "duration": 1801,
    "start_time": "2021-10-30T08:41:10.911Z"
   },
   {
    "duration": 1796,
    "start_time": "2021-10-30T08:41:10.917Z"
   },
   {
    "duration": 1790,
    "start_time": "2021-10-30T08:41:10.924Z"
   },
   {
    "duration": 1785,
    "start_time": "2021-10-30T08:41:10.930Z"
   },
   {
    "duration": 1783,
    "start_time": "2021-10-30T08:41:10.933Z"
   },
   {
    "duration": 1780,
    "start_time": "2021-10-30T08:41:10.937Z"
   },
   {
    "duration": 1777,
    "start_time": "2021-10-30T08:41:10.940Z"
   },
   {
    "duration": 1772,
    "start_time": "2021-10-30T08:41:10.946Z"
   },
   {
    "duration": 1771,
    "start_time": "2021-10-30T08:41:10.948Z"
   },
   {
    "duration": 1768,
    "start_time": "2021-10-30T08:41:10.952Z"
   },
   {
    "duration": 1765,
    "start_time": "2021-10-30T08:41:10.956Z"
   },
   {
    "duration": 1760,
    "start_time": "2021-10-30T08:41:10.962Z"
   },
   {
    "duration": 1758,
    "start_time": "2021-10-30T08:41:10.965Z"
   },
   {
    "duration": 1756,
    "start_time": "2021-10-30T08:41:10.968Z"
   },
   {
    "duration": 1754,
    "start_time": "2021-10-30T08:41:10.971Z"
   },
   {
    "duration": 1751,
    "start_time": "2021-10-30T08:41:10.974Z"
   },
   {
    "duration": 1747,
    "start_time": "2021-10-30T08:41:10.979Z"
   },
   {
    "duration": 1743,
    "start_time": "2021-10-30T08:41:10.984Z"
   },
   {
    "duration": 1738,
    "start_time": "2021-10-30T08:41:10.990Z"
   },
   {
    "duration": 1731,
    "start_time": "2021-10-30T08:41:10.998Z"
   },
   {
    "duration": 1717,
    "start_time": "2021-10-30T08:41:11.013Z"
   },
   {
    "duration": 1715,
    "start_time": "2021-10-30T08:41:11.016Z"
   },
   {
    "duration": 1713,
    "start_time": "2021-10-30T08:41:11.019Z"
   },
   {
    "duration": 1711,
    "start_time": "2021-10-30T08:41:11.022Z"
   },
   {
    "duration": 1706,
    "start_time": "2021-10-30T08:41:11.028Z"
   },
   {
    "duration": 1703,
    "start_time": "2021-10-30T08:41:11.032Z"
   },
   {
    "duration": 1700,
    "start_time": "2021-10-30T08:41:11.035Z"
   },
   {
    "duration": 1698,
    "start_time": "2021-10-30T08:41:11.038Z"
   },
   {
    "duration": 1696,
    "start_time": "2021-10-30T08:41:11.041Z"
   },
   {
    "duration": 1691,
    "start_time": "2021-10-30T08:41:11.047Z"
   },
   {
    "duration": 1690,
    "start_time": "2021-10-30T08:41:11.049Z"
   },
   {
    "duration": 1687,
    "start_time": "2021-10-30T08:41:11.052Z"
   },
   {
    "duration": 1684,
    "start_time": "2021-10-30T08:41:11.056Z"
   },
   {
    "duration": 1678,
    "start_time": "2021-10-30T08:41:11.063Z"
   },
   {
    "duration": 1674,
    "start_time": "2021-10-30T08:41:11.068Z"
   },
   {
    "duration": 1702,
    "start_time": "2021-10-30T08:41:11.074Z"
   },
   {
    "duration": 1697,
    "start_time": "2021-10-30T08:41:11.080Z"
   },
   {
    "duration": 1693,
    "start_time": "2021-10-30T08:41:11.085Z"
   },
   {
    "duration": 1688,
    "start_time": "2021-10-30T08:41:11.090Z"
   },
   {
    "duration": 1682,
    "start_time": "2021-10-30T08:41:11.097Z"
   },
   {
    "duration": 1678,
    "start_time": "2021-10-30T08:41:11.102Z"
   },
   {
    "duration": 1674,
    "start_time": "2021-10-30T08:41:11.107Z"
   },
   {
    "duration": 734,
    "start_time": "2021-10-30T08:41:26.073Z"
   },
   {
    "duration": 6200,
    "start_time": "2021-10-30T08:41:26.809Z"
   },
   {
    "duration": 22,
    "start_time": "2021-10-30T08:41:33.011Z"
   },
   {
    "duration": 19,
    "start_time": "2021-10-30T08:41:33.036Z"
   },
   {
    "duration": 68,
    "start_time": "2021-10-30T08:41:33.058Z"
   },
   {
    "duration": 12,
    "start_time": "2021-10-30T08:41:33.129Z"
   },
   {
    "duration": 31,
    "start_time": "2021-10-30T08:41:33.145Z"
   },
   {
    "duration": 6,
    "start_time": "2021-10-30T08:41:33.180Z"
   },
   {
    "duration": 13,
    "start_time": "2021-10-30T08:41:33.189Z"
   },
   {
    "duration": 9,
    "start_time": "2021-10-30T08:41:33.203Z"
   },
   {
    "duration": 13,
    "start_time": "2021-10-30T08:41:33.214Z"
   },
   {
    "duration": 9,
    "start_time": "2021-10-30T08:41:33.229Z"
   },
   {
    "duration": 6,
    "start_time": "2021-10-30T08:41:33.277Z"
   },
   {
    "duration": 10,
    "start_time": "2021-10-30T08:41:33.285Z"
   },
   {
    "duration": 11,
    "start_time": "2021-10-30T08:41:33.296Z"
   },
   {
    "duration": 7,
    "start_time": "2021-10-30T08:41:33.309Z"
   },
   {
    "duration": 15,
    "start_time": "2021-10-30T08:41:33.318Z"
   },
   {
    "duration": 42,
    "start_time": "2021-10-30T08:41:33.335Z"
   },
   {
    "duration": 10,
    "start_time": "2021-10-30T08:41:33.378Z"
   },
   {
    "duration": 8,
    "start_time": "2021-10-30T08:41:33.390Z"
   },
   {
    "duration": 20,
    "start_time": "2021-10-30T08:41:33.400Z"
   },
   {
    "duration": 12,
    "start_time": "2021-10-30T08:41:33.422Z"
   },
   {
    "duration": 6,
    "start_time": "2021-10-30T08:41:33.438Z"
   },
   {
    "duration": 49,
    "start_time": "2021-10-30T08:41:33.446Z"
   },
   {
    "duration": 4,
    "start_time": "2021-10-30T08:41:33.497Z"
   },
   {
    "duration": 14,
    "start_time": "2021-10-30T08:41:33.502Z"
   },
   {
    "duration": 22,
    "start_time": "2021-10-30T08:41:33.518Z"
   },
   {
    "duration": 67,
    "start_time": "2021-10-30T08:41:33.541Z"
   },
   {
    "duration": 474,
    "start_time": "2021-10-30T08:41:33.610Z"
   },
   {
    "duration": 24,
    "start_time": "2021-10-30T08:41:34.085Z"
   },
   {
    "duration": 1235,
    "start_time": "2021-10-30T08:41:34.111Z"
   },
   {
    "duration": 523,
    "start_time": "2021-10-30T08:41:35.348Z"
   },
   {
    "duration": 1761,
    "start_time": "2021-10-30T08:41:34.113Z"
   },
   {
    "duration": 1754,
    "start_time": "2021-10-30T08:41:34.121Z"
   },
   {
    "duration": 1750,
    "start_time": "2021-10-30T08:41:34.126Z"
   },
   {
    "duration": 1746,
    "start_time": "2021-10-30T08:41:34.131Z"
   },
   {
    "duration": 1741,
    "start_time": "2021-10-30T08:41:34.137Z"
   },
   {
    "duration": 1738,
    "start_time": "2021-10-30T08:41:34.141Z"
   },
   {
    "duration": 1735,
    "start_time": "2021-10-30T08:41:34.145Z"
   },
   {
    "duration": 1731,
    "start_time": "2021-10-30T08:41:34.150Z"
   },
   {
    "duration": 1727,
    "start_time": "2021-10-30T08:41:34.155Z"
   },
   {
    "duration": 1723,
    "start_time": "2021-10-30T08:41:34.160Z"
   },
   {
    "duration": 1721,
    "start_time": "2021-10-30T08:41:34.163Z"
   },
   {
    "duration": 1719,
    "start_time": "2021-10-30T08:41:34.167Z"
   },
   {
    "duration": 1715,
    "start_time": "2021-10-30T08:41:34.172Z"
   },
   {
    "duration": 1713,
    "start_time": "2021-10-30T08:41:34.175Z"
   },
   {
    "duration": 1710,
    "start_time": "2021-10-30T08:41:34.179Z"
   },
   {
    "duration": 1708,
    "start_time": "2021-10-30T08:41:34.182Z"
   },
   {
    "duration": 1703,
    "start_time": "2021-10-30T08:41:34.188Z"
   },
   {
    "duration": 1697,
    "start_time": "2021-10-30T08:41:34.195Z"
   },
   {
    "duration": 1693,
    "start_time": "2021-10-30T08:41:34.200Z"
   },
   {
    "duration": 1678,
    "start_time": "2021-10-30T08:41:34.216Z"
   },
   {
    "duration": 1674,
    "start_time": "2021-10-30T08:41:34.222Z"
   },
   {
    "duration": 1669,
    "start_time": "2021-10-30T08:41:34.228Z"
   },
   {
    "duration": 1663,
    "start_time": "2021-10-30T08:41:34.235Z"
   },
   {
    "duration": 1658,
    "start_time": "2021-10-30T08:41:34.241Z"
   },
   {
    "duration": 1654,
    "start_time": "2021-10-30T08:41:34.246Z"
   },
   {
    "duration": 1647,
    "start_time": "2021-10-30T08:41:34.254Z"
   },
   {
    "duration": 1644,
    "start_time": "2021-10-30T08:41:34.258Z"
   },
   {
    "duration": 1640,
    "start_time": "2021-10-30T08:41:34.263Z"
   },
   {
    "duration": 1632,
    "start_time": "2021-10-30T08:41:34.272Z"
   },
   {
    "duration": 385,
    "start_time": "2021-10-30T10:12:30.389Z"
   },
   {
    "duration": 334,
    "start_time": "2021-10-30T10:12:40.797Z"
   },
   {
    "duration": 386,
    "start_time": "2021-10-30T10:12:49.321Z"
   },
   {
    "duration": 377,
    "start_time": "2021-10-30T10:13:15.394Z"
   },
   {
    "duration": 9,
    "start_time": "2021-10-30T10:13:37.885Z"
   },
   {
    "duration": 392,
    "start_time": "2021-10-30T10:14:30.686Z"
   },
   {
    "duration": 434,
    "start_time": "2021-10-30T10:14:31.126Z"
   },
   {
    "duration": 612,
    "start_time": "2021-10-30T10:14:31.830Z"
   },
   {
    "duration": 8635,
    "start_time": "2021-10-30T10:14:33.577Z"
   },
   {
    "duration": 1875,
    "start_time": "2021-10-30T10:14:40.341Z"
   },
   {
    "duration": 1864,
    "start_time": "2021-10-30T10:14:40.353Z"
   },
   {
    "duration": 1859,
    "start_time": "2021-10-30T10:14:40.359Z"
   },
   {
    "duration": 1853,
    "start_time": "2021-10-30T10:14:40.366Z"
   },
   {
    "duration": 1848,
    "start_time": "2021-10-30T10:14:40.372Z"
   },
   {
    "duration": 1843,
    "start_time": "2021-10-30T10:14:40.378Z"
   },
   {
    "duration": 1830,
    "start_time": "2021-10-30T10:14:40.392Z"
   },
   {
    "duration": 1824,
    "start_time": "2021-10-30T10:14:40.399Z"
   },
   {
    "duration": 1817,
    "start_time": "2021-10-30T10:14:40.407Z"
   },
   {
    "duration": 1812,
    "start_time": "2021-10-30T10:14:40.412Z"
   },
   {
    "duration": 1804,
    "start_time": "2021-10-30T10:14:40.421Z"
   },
   {
    "duration": 1797,
    "start_time": "2021-10-30T10:14:40.429Z"
   },
   {
    "duration": 1790,
    "start_time": "2021-10-30T10:14:40.437Z"
   },
   {
    "duration": 1787,
    "start_time": "2021-10-30T10:14:40.441Z"
   },
   {
    "duration": 1782,
    "start_time": "2021-10-30T10:14:40.447Z"
   },
   {
    "duration": 1776,
    "start_time": "2021-10-30T10:14:40.454Z"
   },
   {
    "duration": 1771,
    "start_time": "2021-10-30T10:14:40.459Z"
   },
   {
    "duration": 1769,
    "start_time": "2021-10-30T10:14:40.462Z"
   },
   {
    "duration": 1764,
    "start_time": "2021-10-30T10:14:40.468Z"
   },
   {
    "duration": 1760,
    "start_time": "2021-10-30T10:14:40.473Z"
   },
   {
    "duration": 1755,
    "start_time": "2021-10-30T10:14:40.479Z"
   },
   {
    "duration": 1751,
    "start_time": "2021-10-30T10:14:40.485Z"
   },
   {
    "duration": 1739,
    "start_time": "2021-10-30T10:14:40.498Z"
   },
   {
    "duration": 1735,
    "start_time": "2021-10-30T10:14:40.503Z"
   },
   {
    "duration": 1731,
    "start_time": "2021-10-30T10:14:40.508Z"
   },
   {
    "duration": 8327,
    "start_time": "2021-10-30T10:14:49.674Z"
   },
   {
    "duration": 1805,
    "start_time": "2021-10-30T10:14:56.199Z"
   },
   {
    "duration": 357,
    "start_time": "2021-10-30T10:24:18.280Z"
   },
   {
    "duration": 290,
    "start_time": "2021-10-30T10:24:29.765Z"
   },
   {
    "duration": 285,
    "start_time": "2021-10-30T10:24:47.155Z"
   },
   {
    "duration": 901,
    "start_time": "2021-10-30T10:24:56.910Z"
   },
   {
    "duration": 4700,
    "start_time": "2021-10-30T10:24:57.815Z"
   },
   {
    "duration": 30,
    "start_time": "2021-10-30T10:25:02.518Z"
   },
   {
    "duration": 31,
    "start_time": "2021-10-30T10:25:02.551Z"
   },
   {
    "duration": 115,
    "start_time": "2021-10-30T10:25:02.585Z"
   },
   {
    "duration": 11,
    "start_time": "2021-10-30T10:25:02.703Z"
   },
   {
    "duration": 14,
    "start_time": "2021-10-30T10:25:02.717Z"
   },
   {
    "duration": 37,
    "start_time": "2021-10-30T10:25:02.735Z"
   },
   {
    "duration": 17,
    "start_time": "2021-10-30T10:25:02.776Z"
   },
   {
    "duration": 10,
    "start_time": "2021-10-30T10:25:02.796Z"
   },
   {
    "duration": 18,
    "start_time": "2021-10-30T10:25:02.809Z"
   },
   {
    "duration": 46,
    "start_time": "2021-10-30T10:25:02.829Z"
   },
   {
    "duration": 6,
    "start_time": "2021-10-30T10:25:02.877Z"
   },
   {
    "duration": 9,
    "start_time": "2021-10-30T10:25:02.885Z"
   },
   {
    "duration": 15,
    "start_time": "2021-10-30T10:25:02.896Z"
   },
   {
    "duration": 9,
    "start_time": "2021-10-30T10:25:02.913Z"
   },
   {
    "duration": 19,
    "start_time": "2021-10-30T10:25:02.968Z"
   },
   {
    "duration": 7,
    "start_time": "2021-10-30T10:25:02.990Z"
   },
   {
    "duration": 18,
    "start_time": "2021-10-30T10:25:03.000Z"
   },
   {
    "duration": 17,
    "start_time": "2021-10-30T10:25:03.020Z"
   },
   {
    "duration": 13,
    "start_time": "2021-10-30T10:25:03.068Z"
   },
   {
    "duration": 16,
    "start_time": "2021-10-30T10:25:03.084Z"
   },
   {
    "duration": 8,
    "start_time": "2021-10-30T10:25:03.106Z"
   },
   {
    "duration": 74,
    "start_time": "2021-10-30T10:25:03.117Z"
   },
   {
    "duration": 5,
    "start_time": "2021-10-30T10:25:03.193Z"
   },
   {
    "duration": 18,
    "start_time": "2021-10-30T10:25:03.201Z"
   },
   {
    "duration": 64,
    "start_time": "2021-10-30T10:25:03.221Z"
   },
   {
    "duration": 67,
    "start_time": "2021-10-30T10:25:03.287Z"
   },
   {
    "duration": 759,
    "start_time": "2021-10-30T10:25:03.367Z"
   },
   {
    "duration": 57,
    "start_time": "2021-10-30T10:25:04.129Z"
   },
   {
    "duration": 2979,
    "start_time": "2021-10-30T10:25:04.188Z"
   },
   {
    "duration": 12,
    "start_time": "2021-10-30T10:25:07.169Z"
   },
   {
    "duration": 13,
    "start_time": "2021-10-30T10:25:07.183Z"
   },
   {
    "duration": 430,
    "start_time": "2021-10-30T10:25:07.199Z"
   },
   {
    "duration": -117,
    "start_time": "2021-10-30T10:25:07.749Z"
   },
   {
    "duration": -121,
    "start_time": "2021-10-30T10:25:07.754Z"
   },
   {
    "duration": -124,
    "start_time": "2021-10-30T10:25:07.758Z"
   },
   {
    "duration": -125,
    "start_time": "2021-10-30T10:25:07.761Z"
   },
   {
    "duration": -128,
    "start_time": "2021-10-30T10:25:07.765Z"
   },
   {
    "duration": -130,
    "start_time": "2021-10-30T10:25:07.768Z"
   },
   {
    "duration": -132,
    "start_time": "2021-10-30T10:25:07.772Z"
   },
   {
    "duration": -135,
    "start_time": "2021-10-30T10:25:07.776Z"
   },
   {
    "duration": -137,
    "start_time": "2021-10-30T10:25:07.780Z"
   },
   {
    "duration": -140,
    "start_time": "2021-10-30T10:25:07.784Z"
   },
   {
    "duration": -141,
    "start_time": "2021-10-30T10:25:07.787Z"
   },
   {
    "duration": -144,
    "start_time": "2021-10-30T10:25:07.791Z"
   },
   {
    "duration": -145,
    "start_time": "2021-10-30T10:25:07.794Z"
   },
   {
    "duration": -147,
    "start_time": "2021-10-30T10:25:07.797Z"
   },
   {
    "duration": -147,
    "start_time": "2021-10-30T10:25:07.799Z"
   },
   {
    "duration": -150,
    "start_time": "2021-10-30T10:25:07.803Z"
   },
   {
    "duration": -151,
    "start_time": "2021-10-30T10:25:07.805Z"
   },
   {
    "duration": -152,
    "start_time": "2021-10-30T10:25:07.808Z"
   },
   {
    "duration": -154,
    "start_time": "2021-10-30T10:25:07.811Z"
   },
   {
    "duration": -147,
    "start_time": "2021-10-30T10:25:07.814Z"
   },
   {
    "duration": -149,
    "start_time": "2021-10-30T10:25:07.817Z"
   },
   {
    "duration": -151,
    "start_time": "2021-10-30T10:25:07.821Z"
   },
   {
    "duration": -183,
    "start_time": "2021-10-30T10:25:07.854Z"
   },
   {
    "duration": -187,
    "start_time": "2021-10-30T10:25:07.859Z"
   },
   {
    "duration": -189,
    "start_time": "2021-10-30T10:25:07.862Z"
   },
   {
    "duration": -192,
    "start_time": "2021-10-30T10:25:07.867Z"
   },
   {
    "duration": -195,
    "start_time": "2021-10-30T10:25:07.871Z"
   },
   {
    "duration": -198,
    "start_time": "2021-10-30T10:25:07.875Z"
   },
   {
    "duration": -200,
    "start_time": "2021-10-30T10:25:07.878Z"
   },
   {
    "duration": 15,
    "start_time": "2021-10-30T10:25:40.082Z"
   },
   {
    "duration": 318,
    "start_time": "2021-10-30T10:26:19.129Z"
   },
   {
    "duration": 719,
    "start_time": "2021-10-30T10:27:16.098Z"
   },
   {
    "duration": 366,
    "start_time": "2021-10-30T10:27:33.434Z"
   },
   {
    "duration": 325,
    "start_time": "2021-10-30T10:28:10.433Z"
   },
   {
    "duration": 375,
    "start_time": "2021-10-30T10:28:25.170Z"
   },
   {
    "duration": 322,
    "start_time": "2021-10-30T10:32:24.319Z"
   },
   {
    "duration": 340,
    "start_time": "2021-10-30T10:33:02.728Z"
   },
   {
    "duration": 319,
    "start_time": "2021-10-30T10:35:48.660Z"
   },
   {
    "duration": 155,
    "start_time": "2021-10-30T10:35:57.117Z"
   },
   {
    "duration": 3674,
    "start_time": "2021-10-30T10:35:57.274Z"
   },
   {
    "duration": 32,
    "start_time": "2021-10-30T10:36:00.951Z"
   },
   {
    "duration": 36,
    "start_time": "2021-10-30T10:36:00.985Z"
   },
   {
    "duration": 117,
    "start_time": "2021-10-30T10:36:01.024Z"
   },
   {
    "duration": 26,
    "start_time": "2021-10-30T10:36:01.143Z"
   },
   {
    "duration": 20,
    "start_time": "2021-10-30T10:36:01.172Z"
   },
   {
    "duration": 10,
    "start_time": "2021-10-30T10:36:01.196Z"
   },
   {
    "duration": 24,
    "start_time": "2021-10-30T10:36:01.208Z"
   },
   {
    "duration": 36,
    "start_time": "2021-10-30T10:36:01.234Z"
   },
   {
    "duration": 19,
    "start_time": "2021-10-30T10:36:01.272Z"
   },
   {
    "duration": 19,
    "start_time": "2021-10-30T10:36:01.293Z"
   },
   {
    "duration": 25,
    "start_time": "2021-10-30T10:36:01.314Z"
   },
   {
    "duration": 29,
    "start_time": "2021-10-30T10:36:01.341Z"
   },
   {
    "duration": 13,
    "start_time": "2021-10-30T10:36:01.372Z"
   },
   {
    "duration": 21,
    "start_time": "2021-10-30T10:36:01.387Z"
   },
   {
    "duration": 31,
    "start_time": "2021-10-30T10:36:01.410Z"
   },
   {
    "duration": 7,
    "start_time": "2021-10-30T10:36:01.443Z"
   },
   {
    "duration": 23,
    "start_time": "2021-10-30T10:36:01.468Z"
   },
   {
    "duration": 18,
    "start_time": "2021-10-30T10:36:01.494Z"
   },
   {
    "duration": 14,
    "start_time": "2021-10-30T10:36:01.515Z"
   },
   {
    "duration": 38,
    "start_time": "2021-10-30T10:36:01.532Z"
   },
   {
    "duration": 8,
    "start_time": "2021-10-30T10:36:01.576Z"
   },
   {
    "duration": 48,
    "start_time": "2021-10-30T10:36:01.588Z"
   },
   {
    "duration": 5,
    "start_time": "2021-10-30T10:36:01.639Z"
   },
   {
    "duration": 31,
    "start_time": "2021-10-30T10:36:01.646Z"
   },
   {
    "duration": 38,
    "start_time": "2021-10-30T10:36:01.679Z"
   },
   {
    "duration": 99,
    "start_time": "2021-10-30T10:36:01.719Z"
   },
   {
    "duration": 859,
    "start_time": "2021-10-30T10:36:01.821Z"
   },
   {
    "duration": 39,
    "start_time": "2021-10-30T10:36:02.683Z"
   },
   {
    "duration": 328,
    "start_time": "2021-10-30T10:36:02.724Z"
   },
   {
    "duration": -87,
    "start_time": "2021-10-30T10:36:03.142Z"
   },
   {
    "duration": -92,
    "start_time": "2021-10-30T10:36:03.148Z"
   },
   {
    "duration": -102,
    "start_time": "2021-10-30T10:36:03.160Z"
   },
   {
    "duration": -116,
    "start_time": "2021-10-30T10:36:03.175Z"
   },
   {
    "duration": -118,
    "start_time": "2021-10-30T10:36:03.179Z"
   },
   {
    "duration": -131,
    "start_time": "2021-10-30T10:36:03.193Z"
   },
   {
    "duration": -134,
    "start_time": "2021-10-30T10:36:03.197Z"
   },
   {
    "duration": -144,
    "start_time": "2021-10-30T10:36:03.209Z"
   },
   {
    "duration": -147,
    "start_time": "2021-10-30T10:36:03.213Z"
   },
   {
    "duration": -158,
    "start_time": "2021-10-30T10:36:03.225Z"
   },
   {
    "duration": -160,
    "start_time": "2021-10-30T10:36:03.229Z"
   },
   {
    "duration": -171,
    "start_time": "2021-10-30T10:36:03.241Z"
   },
   {
    "duration": -174,
    "start_time": "2021-10-30T10:36:03.245Z"
   },
   {
    "duration": -177,
    "start_time": "2021-10-30T10:36:03.250Z"
   },
   {
    "duration": -178,
    "start_time": "2021-10-30T10:36:03.253Z"
   },
   {
    "duration": -180,
    "start_time": "2021-10-30T10:36:03.256Z"
   },
   {
    "duration": -183,
    "start_time": "2021-10-30T10:36:03.261Z"
   },
   {
    "duration": -185,
    "start_time": "2021-10-30T10:36:03.264Z"
   },
   {
    "duration": -186,
    "start_time": "2021-10-30T10:36:03.267Z"
   },
   {
    "duration": -188,
    "start_time": "2021-10-30T10:36:03.270Z"
   },
   {
    "duration": -189,
    "start_time": "2021-10-30T10:36:03.272Z"
   },
   {
    "duration": -190,
    "start_time": "2021-10-30T10:36:03.275Z"
   },
   {
    "duration": -194,
    "start_time": "2021-10-30T10:36:03.280Z"
   },
   {
    "duration": -195,
    "start_time": "2021-10-30T10:36:03.283Z"
   },
   {
    "duration": -197,
    "start_time": "2021-10-30T10:36:03.286Z"
   },
   {
    "duration": -199,
    "start_time": "2021-10-30T10:36:03.289Z"
   },
   {
    "duration": -200,
    "start_time": "2021-10-30T10:36:03.291Z"
   },
   {
    "duration": -210,
    "start_time": "2021-10-30T10:36:03.303Z"
   },
   {
    "duration": -212,
    "start_time": "2021-10-30T10:36:03.306Z"
   },
   {
    "duration": -216,
    "start_time": "2021-10-30T10:36:03.311Z"
   },
   {
    "duration": -220,
    "start_time": "2021-10-30T10:36:03.316Z"
   },
   {
    "duration": -221,
    "start_time": "2021-10-30T10:36:03.319Z"
   },
   {
    "duration": 297,
    "start_time": "2021-10-30T10:36:33.769Z"
   },
   {
    "duration": 344,
    "start_time": "2021-10-30T10:38:11.016Z"
   },
   {
    "duration": 64,
    "start_time": "2021-10-30T10:38:25.152Z"
   },
   {
    "duration": 1303,
    "start_time": "2021-10-30T10:40:16.951Z"
   },
   {
    "duration": 48,
    "start_time": "2021-10-30T10:40:21.255Z"
   },
   {
    "duration": 309,
    "start_time": "2021-10-30T10:40:58.486Z"
   },
   {
    "duration": 319,
    "start_time": "2021-10-30T10:41:22.975Z"
   },
   {
    "duration": 86,
    "start_time": "2021-10-30T10:42:15.261Z"
   },
   {
    "duration": 41,
    "start_time": "2021-10-30T10:42:40.328Z"
   },
   {
    "duration": 362,
    "start_time": "2021-10-30T10:42:46.839Z"
   },
   {
    "duration": 41,
    "start_time": "2021-10-30T10:42:50.261Z"
   },
   {
    "duration": 650,
    "start_time": "2021-10-30T10:44:20.101Z"
   },
   {
    "duration": 40,
    "start_time": "2021-10-30T10:44:26.180Z"
   },
   {
    "duration": 123,
    "start_time": "2021-10-30T10:44:29.622Z"
   },
   {
    "duration": 4123,
    "start_time": "2021-10-30T10:44:29.747Z"
   },
   {
    "duration": 32,
    "start_time": "2021-10-30T10:44:33.873Z"
   },
   {
    "duration": 29,
    "start_time": "2021-10-30T10:44:33.908Z"
   },
   {
    "duration": 129,
    "start_time": "2021-10-30T10:44:33.939Z"
   },
   {
    "duration": 13,
    "start_time": "2021-10-30T10:44:34.071Z"
   },
   {
    "duration": 18,
    "start_time": "2021-10-30T10:44:34.086Z"
   },
   {
    "duration": 8,
    "start_time": "2021-10-30T10:44:34.108Z"
   },
   {
    "duration": 56,
    "start_time": "2021-10-30T10:44:34.119Z"
   },
   {
    "duration": 13,
    "start_time": "2021-10-30T10:44:34.178Z"
   },
   {
    "duration": 20,
    "start_time": "2021-10-30T10:44:34.194Z"
   },
   {
    "duration": 53,
    "start_time": "2021-10-30T10:44:34.217Z"
   },
   {
    "duration": 7,
    "start_time": "2021-10-30T10:44:34.273Z"
   },
   {
    "duration": 9,
    "start_time": "2021-10-30T10:44:34.284Z"
   },
   {
    "duration": 13,
    "start_time": "2021-10-30T10:44:34.295Z"
   },
   {
    "duration": 58,
    "start_time": "2021-10-30T10:44:34.311Z"
   },
   {
    "duration": 21,
    "start_time": "2021-10-30T10:44:34.372Z"
   },
   {
    "duration": 8,
    "start_time": "2021-10-30T10:44:34.396Z"
   },
   {
    "duration": 14,
    "start_time": "2021-10-30T10:44:34.407Z"
   },
   {
    "duration": 55,
    "start_time": "2021-10-30T10:44:34.423Z"
   },
   {
    "duration": 13,
    "start_time": "2021-10-30T10:44:34.481Z"
   },
   {
    "duration": 19,
    "start_time": "2021-10-30T10:44:34.497Z"
   },
   {
    "duration": 8,
    "start_time": "2021-10-30T10:44:34.568Z"
   },
   {
    "duration": 39,
    "start_time": "2021-10-30T10:44:34.581Z"
   },
   {
    "duration": 5,
    "start_time": "2021-10-30T10:44:34.623Z"
   },
   {
    "duration": 41,
    "start_time": "2021-10-30T10:44:34.630Z"
   },
   {
    "duration": 34,
    "start_time": "2021-10-30T10:44:34.673Z"
   },
   {
    "duration": 91,
    "start_time": "2021-10-30T10:44:34.709Z"
   },
   {
    "duration": 767,
    "start_time": "2021-10-30T10:44:34.803Z"
   },
   {
    "duration": 35,
    "start_time": "2021-10-30T10:44:35.572Z"
   },
   {
    "duration": 926,
    "start_time": "2021-10-30T10:44:35.609Z"
   },
   {
    "duration": -86,
    "start_time": "2021-10-30T10:44:36.624Z"
   },
   {
    "duration": -89,
    "start_time": "2021-10-30T10:44:36.628Z"
   },
   {
    "duration": -91,
    "start_time": "2021-10-30T10:44:36.632Z"
   },
   {
    "duration": -93,
    "start_time": "2021-10-30T10:44:36.635Z"
   },
   {
    "duration": -95,
    "start_time": "2021-10-30T10:44:36.638Z"
   },
   {
    "duration": -95,
    "start_time": "2021-10-30T10:44:36.641Z"
   },
   {
    "duration": -99,
    "start_time": "2021-10-30T10:44:36.646Z"
   },
   {
    "duration": -100,
    "start_time": "2021-10-30T10:44:36.649Z"
   },
   {
    "duration": -103,
    "start_time": "2021-10-30T10:44:36.653Z"
   },
   {
    "duration": -104,
    "start_time": "2021-10-30T10:44:36.656Z"
   },
   {
    "duration": -107,
    "start_time": "2021-10-30T10:44:36.660Z"
   },
   {
    "duration": -109,
    "start_time": "2021-10-30T10:44:36.663Z"
   },
   {
    "duration": -110,
    "start_time": "2021-10-30T10:44:36.666Z"
   },
   {
    "duration": -112,
    "start_time": "2021-10-30T10:44:36.669Z"
   },
   {
    "duration": -113,
    "start_time": "2021-10-30T10:44:36.672Z"
   },
   {
    "duration": -122,
    "start_time": "2021-10-30T10:44:36.682Z"
   },
   {
    "duration": -125,
    "start_time": "2021-10-30T10:44:36.686Z"
   },
   {
    "duration": -126,
    "start_time": "2021-10-30T10:44:36.689Z"
   },
   {
    "duration": -128,
    "start_time": "2021-10-30T10:44:36.692Z"
   },
   {
    "duration": -130,
    "start_time": "2021-10-30T10:44:36.695Z"
   },
   {
    "duration": -132,
    "start_time": "2021-10-30T10:44:36.699Z"
   },
   {
    "duration": -133,
    "start_time": "2021-10-30T10:44:36.701Z"
   },
   {
    "duration": -134,
    "start_time": "2021-10-30T10:44:36.704Z"
   },
   {
    "duration": -136,
    "start_time": "2021-10-30T10:44:36.707Z"
   },
   {
    "duration": -139,
    "start_time": "2021-10-30T10:44:36.711Z"
   },
   {
    "duration": -140,
    "start_time": "2021-10-30T10:44:36.714Z"
   },
   {
    "duration": -142,
    "start_time": "2021-10-30T10:44:36.717Z"
   },
   {
    "duration": -143,
    "start_time": "2021-10-30T10:44:36.719Z"
   },
   {
    "duration": -144,
    "start_time": "2021-10-30T10:44:36.722Z"
   },
   {
    "duration": -146,
    "start_time": "2021-10-30T10:44:36.725Z"
   },
   {
    "duration": -148,
    "start_time": "2021-10-30T10:44:36.729Z"
   },
   {
    "duration": -150,
    "start_time": "2021-10-30T10:44:36.732Z"
   },
   {
    "duration": 62,
    "start_time": "2021-10-30T10:44:44.018Z"
   },
   {
    "duration": 698,
    "start_time": "2021-10-31T12:30:10.026Z"
   },
   {
    "duration": 4329,
    "start_time": "2021-10-31T12:30:10.726Z"
   },
   {
    "duration": 21,
    "start_time": "2021-10-31T12:30:15.057Z"
   },
   {
    "duration": 17,
    "start_time": "2021-10-31T12:30:15.080Z"
   },
   {
    "duration": 87,
    "start_time": "2021-10-31T12:30:15.099Z"
   },
   {
    "duration": 9,
    "start_time": "2021-10-31T12:30:15.188Z"
   },
   {
    "duration": 14,
    "start_time": "2021-10-31T12:30:15.199Z"
   },
   {
    "duration": 28,
    "start_time": "2021-10-31T12:30:15.217Z"
   },
   {
    "duration": 15,
    "start_time": "2021-10-31T12:30:15.248Z"
   },
   {
    "duration": 9,
    "start_time": "2021-10-31T12:30:15.265Z"
   },
   {
    "duration": 18,
    "start_time": "2021-10-31T12:30:15.276Z"
   },
   {
    "duration": 10,
    "start_time": "2021-10-31T12:30:15.296Z"
   },
   {
    "duration": 5,
    "start_time": "2021-10-31T12:30:15.307Z"
   },
   {
    "duration": 35,
    "start_time": "2021-10-31T12:30:15.313Z"
   },
   {
    "duration": 19,
    "start_time": "2021-10-31T12:30:15.350Z"
   },
   {
    "duration": 6,
    "start_time": "2021-10-31T12:30:15.371Z"
   },
   {
    "duration": 17,
    "start_time": "2021-10-31T12:30:15.379Z"
   },
   {
    "duration": 5,
    "start_time": "2021-10-31T12:30:15.397Z"
   },
   {
    "duration": 10,
    "start_time": "2021-10-31T12:30:15.403Z"
   },
   {
    "duration": 30,
    "start_time": "2021-10-31T12:30:15.415Z"
   },
   {
    "duration": 8,
    "start_time": "2021-10-31T12:30:15.447Z"
   },
   {
    "duration": 12,
    "start_time": "2021-10-31T12:30:15.457Z"
   },
   {
    "duration": 7,
    "start_time": "2021-10-31T12:30:15.472Z"
   },
   {
    "duration": 23,
    "start_time": "2021-10-31T12:30:15.482Z"
   },
   {
    "duration": 4,
    "start_time": "2021-10-31T12:30:15.506Z"
   },
   {
    "duration": 37,
    "start_time": "2021-10-31T12:30:15.511Z"
   },
   {
    "duration": 25,
    "start_time": "2021-10-31T12:30:15.550Z"
   },
   {
    "duration": 42,
    "start_time": "2021-10-31T12:30:15.577Z"
   },
   {
    "duration": 457,
    "start_time": "2021-10-31T12:30:15.620Z"
   },
   {
    "duration": 21,
    "start_time": "2021-10-31T12:30:16.079Z"
   },
   {
    "duration": 1252,
    "start_time": "2021-10-31T12:30:16.101Z"
   },
   {
    "duration": 39,
    "start_time": "2021-10-31T12:30:17.354Z"
   },
   {
    "duration": 20,
    "start_time": "2021-10-31T12:30:17.395Z"
   },
   {
    "duration": 381,
    "start_time": "2021-10-31T12:30:17.417Z"
   },
   {
    "duration": 267,
    "start_time": "2021-10-31T12:30:17.801Z"
   },
   {
    "duration": 391,
    "start_time": "2021-10-31T12:30:18.070Z"
   },
   {
    "duration": 427,
    "start_time": "2021-10-31T12:30:18.463Z"
   },
   {
    "duration": 590,
    "start_time": "2021-10-31T12:30:18.892Z"
   },
   {
    "duration": 603,
    "start_time": "2021-10-31T12:30:19.484Z"
   },
   {
    "duration": 569,
    "start_time": "2021-10-31T12:30:20.089Z"
   },
   {
    "duration": 941,
    "start_time": "2021-10-31T12:30:20.660Z"
   },
   {
    "duration": 983,
    "start_time": "2021-10-31T12:30:21.603Z"
   },
   {
    "duration": 7,
    "start_time": "2021-10-31T12:30:22.588Z"
   },
   {
    "duration": 15,
    "start_time": "2021-10-31T12:30:22.596Z"
   },
   {
    "duration": 11,
    "start_time": "2021-10-31T12:30:22.612Z"
   },
   {
    "duration": 13,
    "start_time": "2021-10-31T12:30:22.624Z"
   },
   {
    "duration": 7,
    "start_time": "2021-10-31T12:30:22.644Z"
   },
   {
    "duration": 14,
    "start_time": "2021-10-31T12:30:22.653Z"
   },
   {
    "duration": 18,
    "start_time": "2021-10-31T12:30:22.669Z"
   },
   {
    "duration": 17,
    "start_time": "2021-10-31T12:30:22.689Z"
   },
   {
    "duration": 19,
    "start_time": "2021-10-31T12:30:22.708Z"
   },
   {
    "duration": 26,
    "start_time": "2021-10-31T12:30:22.729Z"
   },
   {
    "duration": 23,
    "start_time": "2021-10-31T12:30:22.757Z"
   },
   {
    "duration": 40,
    "start_time": "2021-10-31T12:30:22.781Z"
   },
   {
    "duration": 13,
    "start_time": "2021-10-31T12:30:22.823Z"
   },
   {
    "duration": 201,
    "start_time": "2021-10-31T12:30:22.837Z"
   },
   {
    "duration": 277,
    "start_time": "2021-10-31T12:30:23.044Z"
   },
   {
    "duration": 6,
    "start_time": "2021-10-31T12:30:23.323Z"
   },
   {
    "duration": 80,
    "start_time": "2021-10-31T12:30:23.331Z"
   },
   {
    "duration": 44,
    "start_time": "2021-10-31T12:30:23.412Z"
   },
   {
    "duration": 428,
    "start_time": "2021-10-31T12:30:23.458Z"
   },
   {
    "duration": 437,
    "start_time": "2021-10-31T12:30:23.888Z"
   },
   {
    "duration": 549,
    "start_time": "2021-10-31T12:30:24.326Z"
   },
   {
    "duration": 403,
    "start_time": "2021-10-31T12:41:57.122Z"
   },
   {
    "duration": 264,
    "start_time": "2021-10-31T12:42:04.745Z"
   },
   {
    "duration": 334,
    "start_time": "2021-10-31T12:42:39.695Z"
   },
   {
    "duration": 275,
    "start_time": "2021-10-31T12:43:31.270Z"
   },
   {
    "duration": 263,
    "start_time": "2021-10-31T12:44:19.742Z"
   },
   {
    "duration": 277,
    "start_time": "2021-10-31T12:44:51.181Z"
   },
   {
    "duration": 711,
    "start_time": "2021-10-31T12:47:14.061Z"
   },
   {
    "duration": 657,
    "start_time": "2021-10-31T12:47:20.428Z"
   },
   {
    "duration": 575,
    "start_time": "2021-10-31T12:47:58.563Z"
   },
   {
    "duration": 596,
    "start_time": "2021-10-31T12:48:53.859Z"
   },
   {
    "duration": 327,
    "start_time": "2021-10-31T12:49:06.051Z"
   },
   {
    "duration": 336,
    "start_time": "2021-10-31T12:49:24.281Z"
   },
   {
    "duration": 353,
    "start_time": "2021-10-31T12:49:31.299Z"
   },
   {
    "duration": 237,
    "start_time": "2021-10-31T12:49:51.049Z"
   },
   {
    "duration": 280,
    "start_time": "2021-10-31T12:50:01.994Z"
   },
   {
    "duration": 495,
    "start_time": "2021-10-31T12:50:18.856Z"
   },
   {
    "duration": 256,
    "start_time": "2021-10-31T12:50:28.865Z"
   },
   {
    "duration": 746,
    "start_time": "2021-10-31T12:51:19.320Z"
   },
   {
    "duration": 442,
    "start_time": "2021-10-31T12:51:26.664Z"
   },
   {
    "duration": 253,
    "start_time": "2021-10-31T12:51:58.440Z"
   },
   {
    "duration": 258,
    "start_time": "2021-10-31T12:52:09.088Z"
   },
   {
    "duration": 369,
    "start_time": "2021-10-31T12:52:16.879Z"
   },
   {
    "duration": 401,
    "start_time": "2021-10-31T12:53:59.759Z"
   },
   {
    "duration": 12,
    "start_time": "2021-10-31T12:54:18.789Z"
   },
   {
    "duration": 210,
    "start_time": "2021-11-01T10:30:21.152Z"
   },
   {
    "duration": 648,
    "start_time": "2021-11-01T10:30:25.001Z"
   },
   {
    "duration": 3563,
    "start_time": "2021-11-01T10:30:25.650Z"
   },
   {
    "duration": 18,
    "start_time": "2021-11-01T10:30:29.215Z"
   },
   {
    "duration": 15,
    "start_time": "2021-11-01T10:30:29.235Z"
   },
   {
    "duration": 60,
    "start_time": "2021-11-01T10:30:29.252Z"
   },
   {
    "duration": 7,
    "start_time": "2021-11-01T10:30:29.313Z"
   },
   {
    "duration": 9,
    "start_time": "2021-11-01T10:30:29.322Z"
   },
   {
    "duration": 4,
    "start_time": "2021-11-01T10:30:29.333Z"
   },
   {
    "duration": 11,
    "start_time": "2021-11-01T10:30:29.339Z"
   },
   {
    "duration": 8,
    "start_time": "2021-11-01T10:30:29.352Z"
   },
   {
    "duration": 40,
    "start_time": "2021-11-01T10:30:29.361Z"
   },
   {
    "duration": 7,
    "start_time": "2021-11-01T10:30:29.402Z"
   },
   {
    "duration": 8,
    "start_time": "2021-11-01T10:30:29.411Z"
   },
   {
    "duration": 5,
    "start_time": "2021-11-01T10:30:29.421Z"
   },
   {
    "duration": 12,
    "start_time": "2021-11-01T10:30:29.428Z"
   },
   {
    "duration": 8,
    "start_time": "2021-11-01T10:30:29.441Z"
   },
   {
    "duration": 42,
    "start_time": "2021-11-01T10:30:29.450Z"
   },
   {
    "duration": 5,
    "start_time": "2021-11-01T10:30:29.494Z"
   },
   {
    "duration": 10,
    "start_time": "2021-11-01T10:30:29.501Z"
   },
   {
    "duration": 8,
    "start_time": "2021-11-01T10:30:29.512Z"
   },
   {
    "duration": 8,
    "start_time": "2021-11-01T10:30:29.522Z"
   },
   {
    "duration": 11,
    "start_time": "2021-11-01T10:30:29.532Z"
   },
   {
    "duration": 5,
    "start_time": "2021-11-01T10:30:29.547Z"
   },
   {
    "duration": 19,
    "start_time": "2021-11-01T10:30:29.593Z"
   },
   {
    "duration": 4,
    "start_time": "2021-11-01T10:30:29.614Z"
   },
   {
    "duration": 13,
    "start_time": "2021-11-01T10:30:29.620Z"
   },
   {
    "duration": 19,
    "start_time": "2021-11-01T10:30:29.635Z"
   },
   {
    "duration": 67,
    "start_time": "2021-11-01T10:30:29.655Z"
   },
   {
    "duration": 434,
    "start_time": "2021-11-01T10:30:29.724Z"
   },
   {
    "duration": 20,
    "start_time": "2021-11-01T10:30:30.159Z"
   },
   {
    "duration": 1240,
    "start_time": "2021-11-01T10:30:30.180Z"
   },
   {
    "duration": 20,
    "start_time": "2021-11-01T10:30:31.422Z"
   },
   {
    "duration": 616,
    "start_time": "2021-11-01T10:30:31.444Z"
   },
   {
    "duration": 216,
    "start_time": "2021-11-01T10:30:32.062Z"
   },
   {
    "duration": -820,
    "start_time": "2021-11-01T10:30:33.100Z"
   },
   {
    "duration": -824,
    "start_time": "2021-11-01T10:30:33.105Z"
   },
   {
    "duration": -826,
    "start_time": "2021-11-01T10:30:33.109Z"
   },
   {
    "duration": -829,
    "start_time": "2021-11-01T10:30:33.113Z"
   },
   {
    "duration": -832,
    "start_time": "2021-11-01T10:30:33.117Z"
   },
   {
    "duration": -835,
    "start_time": "2021-11-01T10:30:33.122Z"
   },
   {
    "duration": -839,
    "start_time": "2021-11-01T10:30:33.127Z"
   },
   {
    "duration": -841,
    "start_time": "2021-11-01T10:30:33.130Z"
   },
   {
    "duration": -842,
    "start_time": "2021-11-01T10:30:33.133Z"
   },
   {
    "duration": -844,
    "start_time": "2021-11-01T10:30:33.136Z"
   },
   {
    "duration": -846,
    "start_time": "2021-11-01T10:30:33.139Z"
   },
   {
    "duration": -847,
    "start_time": "2021-11-01T10:30:33.142Z"
   },
   {
    "duration": -848,
    "start_time": "2021-11-01T10:30:33.144Z"
   },
   {
    "duration": -850,
    "start_time": "2021-11-01T10:30:33.147Z"
   },
   {
    "duration": -851,
    "start_time": "2021-11-01T10:30:33.150Z"
   },
   {
    "duration": -859,
    "start_time": "2021-11-01T10:30:33.159Z"
   },
   {
    "duration": -861,
    "start_time": "2021-11-01T10:30:33.163Z"
   },
   {
    "duration": -863,
    "start_time": "2021-11-01T10:30:33.166Z"
   },
   {
    "duration": -865,
    "start_time": "2021-11-01T10:30:33.169Z"
   },
   {
    "duration": -866,
    "start_time": "2021-11-01T10:30:33.172Z"
   },
   {
    "duration": -868,
    "start_time": "2021-11-01T10:30:33.175Z"
   },
   {
    "duration": -869,
    "start_time": "2021-11-01T10:30:33.177Z"
   },
   {
    "duration": -870,
    "start_time": "2021-11-01T10:30:33.180Z"
   },
   {
    "duration": -872,
    "start_time": "2021-11-01T10:30:33.183Z"
   },
   {
    "duration": -873,
    "start_time": "2021-11-01T10:30:33.186Z"
   },
   {
    "duration": -875,
    "start_time": "2021-11-01T10:30:33.189Z"
   },
   {
    "duration": -877,
    "start_time": "2021-11-01T10:30:33.192Z"
   },
   {
    "duration": -879,
    "start_time": "2021-11-01T10:30:33.195Z"
   },
   {
    "duration": 276,
    "start_time": "2021-11-01T10:31:15.645Z"
   },
   {
    "duration": 340,
    "start_time": "2021-11-01T10:31:52.357Z"
   },
   {
    "duration": 290,
    "start_time": "2021-11-01T10:32:00.604Z"
   },
   {
    "duration": 273,
    "start_time": "2021-11-01T10:32:10.420Z"
   },
   {
    "duration": 296,
    "start_time": "2021-11-01T10:32:18.404Z"
   },
   {
    "duration": 280,
    "start_time": "2021-11-01T10:32:53.947Z"
   },
   {
    "duration": 456,
    "start_time": "2021-11-01T10:33:00.819Z"
   },
   {
    "duration": 305,
    "start_time": "2021-11-01T10:34:31.177Z"
   },
   {
    "duration": 422,
    "start_time": "2021-11-01T10:34:55.906Z"
   },
   {
    "duration": 345,
    "start_time": "2021-11-01T10:35:09.873Z"
   },
   {
    "duration": 645,
    "start_time": "2021-11-01T10:36:54.560Z"
   },
   {
    "duration": 569,
    "start_time": "2021-11-01T10:37:04.992Z"
   },
   {
    "duration": 555,
    "start_time": "2021-11-01T10:37:17.023Z"
   },
   {
    "duration": 925,
    "start_time": "2021-11-01T10:39:08.158Z"
   },
   {
    "duration": 993,
    "start_time": "2021-11-01T10:40:36.901Z"
   },
   {
    "duration": 911,
    "start_time": "2021-11-01T10:41:10.670Z"
   },
   {
    "duration": 58,
    "start_time": "2021-11-01T10:42:03.204Z"
   },
   {
    "duration": 934,
    "start_time": "2021-11-01T10:43:30.868Z"
   },
   {
    "duration": 872,
    "start_time": "2021-11-01T10:43:51.266Z"
   },
   {
    "duration": 910,
    "start_time": "2021-11-01T10:45:27.441Z"
   },
   {
    "duration": 925,
    "start_time": "2021-11-01T10:46:44.504Z"
   },
   {
    "duration": 1298,
    "start_time": "2021-11-01T10:47:23.215Z"
   },
   {
    "duration": 1227,
    "start_time": "2021-11-01T10:49:12.982Z"
   },
   {
    "duration": 9,
    "start_time": "2021-11-01T11:08:45.022Z"
   },
   {
    "duration": 20,
    "start_time": "2021-11-01T11:13:11.914Z"
   },
   {
    "duration": 13,
    "start_time": "2021-11-01T11:14:42.344Z"
   },
   {
    "duration": 8,
    "start_time": "2021-11-01T11:14:51.312Z"
   },
   {
    "duration": 12,
    "start_time": "2021-11-01T11:21:33.092Z"
   },
   {
    "duration": 16,
    "start_time": "2021-11-01T11:21:40.049Z"
   },
   {
    "duration": 12,
    "start_time": "2021-11-01T11:22:04.914Z"
   },
   {
    "duration": 17,
    "start_time": "2021-11-01T11:22:10.664Z"
   },
   {
    "duration": 24,
    "start_time": "2021-11-01T11:22:47.737Z"
   },
   {
    "duration": 196,
    "start_time": "2021-11-01T11:23:22.937Z"
   },
   {
    "duration": 189,
    "start_time": "2021-11-01T11:26:19.760Z"
   },
   {
    "duration": 26,
    "start_time": "2021-11-01T11:26:27.829Z"
   },
   {
    "duration": 209,
    "start_time": "2021-11-01T11:28:24.917Z"
   },
   {
    "duration": 205,
    "start_time": "2021-11-01T11:28:37.692Z"
   },
   {
    "duration": 24,
    "start_time": "2021-11-01T11:28:46.363Z"
   },
   {
    "duration": 196,
    "start_time": "2021-11-01T11:30:06.836Z"
   },
   {
    "duration": 215,
    "start_time": "2021-11-01T11:30:33.594Z"
   },
   {
    "duration": 34,
    "start_time": "2021-11-01T11:33:02.193Z"
   },
   {
    "duration": 221,
    "start_time": "2021-11-01T11:36:43.119Z"
   },
   {
    "duration": 23,
    "start_time": "2021-11-01T11:38:42.988Z"
   },
   {
    "duration": 202,
    "start_time": "2021-11-01T11:39:02.428Z"
   },
   {
    "duration": 250,
    "start_time": "2021-11-01T11:45:04.023Z"
   },
   {
    "duration": 194,
    "start_time": "2021-11-01T11:45:11.767Z"
   },
   {
    "duration": 25,
    "start_time": "2021-11-01T11:45:25.992Z"
   },
   {
    "duration": 192,
    "start_time": "2021-11-01T11:50:55.756Z"
   },
   {
    "duration": 221,
    "start_time": "2021-11-01T11:52:22.810Z"
   },
   {
    "duration": 196,
    "start_time": "2021-11-01T11:52:34.018Z"
   },
   {
    "duration": 26,
    "start_time": "2021-11-01T11:53:59.794Z"
   },
   {
    "duration": 23,
    "start_time": "2021-11-01T11:55:39.135Z"
   },
   {
    "duration": 697,
    "start_time": "2021-11-01T11:57:10.118Z"
   },
   {
    "duration": 22,
    "start_time": "2021-11-01T11:57:30.774Z"
   },
   {
    "duration": 22,
    "start_time": "2021-11-01T11:57:52.901Z"
   },
   {
    "duration": 24,
    "start_time": "2021-11-01T11:58:13.869Z"
   },
   {
    "duration": 25,
    "start_time": "2021-11-01T11:58:58.244Z"
   },
   {
    "duration": 25,
    "start_time": "2021-11-01T11:59:18.484Z"
   },
   {
    "duration": 22,
    "start_time": "2021-11-01T11:59:48.724Z"
   },
   {
    "duration": 8,
    "start_time": "2021-11-01T12:00:20.020Z"
   },
   {
    "duration": 28,
    "start_time": "2021-11-01T12:02:47.620Z"
   },
   {
    "duration": 14,
    "start_time": "2021-11-01T12:03:04.128Z"
   },
   {
    "duration": 260,
    "start_time": "2021-11-01T12:03:19.200Z"
   },
   {
    "duration": 265,
    "start_time": "2021-11-01T12:03:31.784Z"
   },
   {
    "duration": 195,
    "start_time": "2021-11-01T12:05:44.928Z"
   },
   {
    "duration": 185,
    "start_time": "2021-11-01T12:06:06.630Z"
   },
   {
    "duration": 276,
    "start_time": "2021-11-01T12:06:18.998Z"
   },
   {
    "duration": 283,
    "start_time": "2021-11-01T12:07:17.534Z"
   },
   {
    "duration": 275,
    "start_time": "2021-11-01T12:07:44.141Z"
   },
   {
    "duration": 7,
    "start_time": "2021-11-01T12:08:01.109Z"
   },
   {
    "duration": 64,
    "start_time": "2021-11-01T12:08:04.556Z"
   },
   {
    "duration": 39,
    "start_time": "2021-11-01T12:08:07.412Z"
   },
   {
    "duration": 455,
    "start_time": "2021-11-01T12:08:23.573Z"
   },
   {
    "duration": 986,
    "start_time": "2021-11-01T12:09:04.108Z"
   },
   {
    "duration": 1021,
    "start_time": "2021-11-01T12:09:36.405Z"
   },
   {
    "duration": 185,
    "start_time": "2021-11-01T12:10:24.900Z"
   },
   {
    "duration": 183,
    "start_time": "2021-11-01T12:10:50.339Z"
   },
   {
    "duration": 437,
    "start_time": "2021-11-01T12:11:09.868Z"
   },
   {
    "duration": 818,
    "start_time": "2021-11-01T12:11:38.378Z"
   },
   {
    "duration": 818,
    "start_time": "2021-11-01T12:11:52.722Z"
   },
   {
    "duration": 305,
    "start_time": "2021-11-01T12:17:27.014Z"
   },
   {
    "duration": 262,
    "start_time": "2021-11-01T12:17:34.349Z"
   },
   {
    "duration": 301,
    "start_time": "2021-11-01T12:17:43.412Z"
   }
  ],
  "kernelspec": {
   "display_name": "Python 3 (ipykernel)",
   "language": "python",
   "name": "python3"
  },
  "language_info": {
   "codemirror_mode": {
    "name": "ipython",
    "version": 3
   },
   "file_extension": ".py",
   "mimetype": "text/x-python",
   "name": "python",
   "nbconvert_exporter": "python",
   "pygments_lexer": "ipython3",
   "version": "3.9.7"
  },
  "toc": {
   "base_numbering": 1,
   "nav_menu": {},
   "number_sections": true,
   "sideBar": true,
   "skip_h1_title": true,
   "title_cell": "Содержание",
   "title_sidebar": "Contents",
   "toc_cell": true,
   "toc_position": {},
   "toc_section_display": true,
   "toc_window_display": true
  }
 },
 "nbformat": 4,
 "nbformat_minor": 2
}
