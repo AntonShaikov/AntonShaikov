{
 "cells": [
  {
   "cell_type": "markdown",
   "metadata": {},
   "source": [
    "# Выбор локации для скважины"
   ]
  },
  {
   "cell_type": "markdown",
   "metadata": {},
   "source": [
    "Допустим, вы работаете в добывающей компании «ГлавРосГосНефть». Нужно решить, где бурить новую скважину.\n",
    "\n",
    "Вам предоставлены пробы нефти в трёх регионах: в каждом 10 000 месторождений, где измерили качество нефти и объём её запасов. Постройте модель машинного обучения, которая поможет определить регион, где добыча принесёт наибольшую прибыль. Проанализируйте возможную прибыль и риски техникой *Bootstrap.*\n",
    "\n",
    "Шаги для выбора локации:\n",
    "\n",
    "- В избранном регионе ищут месторождения, для каждого определяют значения признаков;\n",
    "- Строят модель и оценивают объём запасов;\n",
    "- Выбирают месторождения с самым высокими оценками значений. Количество месторождений зависит от бюджета компании и стоимости разработки одной скважины;\n",
    "- Прибыль равна суммарной прибыли отобранных месторождений."
   ]
  },
  {
   "cell_type": "markdown",
   "metadata": {},
   "source": [
    "## Загрузка и подготовка данных"
   ]
  },
  {
   "cell_type": "code",
   "execution_count": 1,
   "metadata": {},
   "outputs": [],
   "source": [
    "import pandas as pd\n",
    "import numpy as np\n",
    "from sklearn.model_selection import train_test_split\n",
    "from sklearn.linear_model import LinearRegression\n",
    "from sklearn.metrics import f1_score\n",
    "from sklearn.metrics import mean_squared_error"
   ]
  },
  {
   "cell_type": "markdown",
   "metadata": {},
   "source": [
    "Подгружаем библиотеки."
   ]
  },
  {
   "cell_type": "code",
   "execution_count": 2,
   "metadata": {},
   "outputs": [],
   "source": [
    "data = pd.read_csv('/datasets/geo_data_0.csv')\n",
    "data1 = pd.read_csv('/datasets/geo_data_1.csv')\n",
    "data2 = pd.read_csv('/datasets/geo_data_2.csv')"
   ]
  },
  {
   "cell_type": "markdown",
   "metadata": {},
   "source": [
    "Загружаем датасеты."
   ]
  },
  {
   "cell_type": "code",
   "execution_count": 3,
   "metadata": {},
   "outputs": [
    {
     "data": {
      "text/html": [
       "<div>\n",
       "<style scoped>\n",
       "    .dataframe tbody tr th:only-of-type {\n",
       "        vertical-align: middle;\n",
       "    }\n",
       "\n",
       "    .dataframe tbody tr th {\n",
       "        vertical-align: top;\n",
       "    }\n",
       "\n",
       "    .dataframe thead th {\n",
       "        text-align: right;\n",
       "    }\n",
       "</style>\n",
       "<table border=\"1\" class=\"dataframe\">\n",
       "  <thead>\n",
       "    <tr style=\"text-align: right;\">\n",
       "      <th></th>\n",
       "      <th>id</th>\n",
       "      <th>f0</th>\n",
       "      <th>f1</th>\n",
       "      <th>f2</th>\n",
       "      <th>product</th>\n",
       "    </tr>\n",
       "  </thead>\n",
       "  <tbody>\n",
       "    <tr>\n",
       "      <td>0</td>\n",
       "      <td>txEyH</td>\n",
       "      <td>0.705745</td>\n",
       "      <td>-0.497823</td>\n",
       "      <td>1.221170</td>\n",
       "      <td>105.280062</td>\n",
       "    </tr>\n",
       "    <tr>\n",
       "      <td>1</td>\n",
       "      <td>2acmU</td>\n",
       "      <td>1.334711</td>\n",
       "      <td>-0.340164</td>\n",
       "      <td>4.365080</td>\n",
       "      <td>73.037750</td>\n",
       "    </tr>\n",
       "    <tr>\n",
       "      <td>2</td>\n",
       "      <td>409Wp</td>\n",
       "      <td>1.022732</td>\n",
       "      <td>0.151990</td>\n",
       "      <td>1.419926</td>\n",
       "      <td>85.265647</td>\n",
       "    </tr>\n",
       "    <tr>\n",
       "      <td>3</td>\n",
       "      <td>iJLyR</td>\n",
       "      <td>-0.032172</td>\n",
       "      <td>0.139033</td>\n",
       "      <td>2.978566</td>\n",
       "      <td>168.620776</td>\n",
       "    </tr>\n",
       "    <tr>\n",
       "      <td>4</td>\n",
       "      <td>Xdl7t</td>\n",
       "      <td>1.988431</td>\n",
       "      <td>0.155413</td>\n",
       "      <td>4.751769</td>\n",
       "      <td>154.036647</td>\n",
       "    </tr>\n",
       "    <tr>\n",
       "      <td>...</td>\n",
       "      <td>...</td>\n",
       "      <td>...</td>\n",
       "      <td>...</td>\n",
       "      <td>...</td>\n",
       "      <td>...</td>\n",
       "    </tr>\n",
       "    <tr>\n",
       "      <td>99995</td>\n",
       "      <td>DLsed</td>\n",
       "      <td>0.971957</td>\n",
       "      <td>0.370953</td>\n",
       "      <td>6.075346</td>\n",
       "      <td>110.744026</td>\n",
       "    </tr>\n",
       "    <tr>\n",
       "      <td>99996</td>\n",
       "      <td>QKivN</td>\n",
       "      <td>1.392429</td>\n",
       "      <td>-0.382606</td>\n",
       "      <td>1.273912</td>\n",
       "      <td>122.346843</td>\n",
       "    </tr>\n",
       "    <tr>\n",
       "      <td>99997</td>\n",
       "      <td>3rnvd</td>\n",
       "      <td>1.029585</td>\n",
       "      <td>0.018787</td>\n",
       "      <td>-1.348308</td>\n",
       "      <td>64.375443</td>\n",
       "    </tr>\n",
       "    <tr>\n",
       "      <td>99998</td>\n",
       "      <td>7kl59</td>\n",
       "      <td>0.998163</td>\n",
       "      <td>-0.528582</td>\n",
       "      <td>1.583869</td>\n",
       "      <td>74.040764</td>\n",
       "    </tr>\n",
       "    <tr>\n",
       "      <td>99999</td>\n",
       "      <td>1CWhH</td>\n",
       "      <td>1.764754</td>\n",
       "      <td>-0.266417</td>\n",
       "      <td>5.722849</td>\n",
       "      <td>149.633246</td>\n",
       "    </tr>\n",
       "  </tbody>\n",
       "</table>\n",
       "<p>100000 rows × 5 columns</p>\n",
       "</div>"
      ],
      "text/plain": [
       "          id        f0        f1        f2     product\n",
       "0      txEyH  0.705745 -0.497823  1.221170  105.280062\n",
       "1      2acmU  1.334711 -0.340164  4.365080   73.037750\n",
       "2      409Wp  1.022732  0.151990  1.419926   85.265647\n",
       "3      iJLyR -0.032172  0.139033  2.978566  168.620776\n",
       "4      Xdl7t  1.988431  0.155413  4.751769  154.036647\n",
       "...      ...       ...       ...       ...         ...\n",
       "99995  DLsed  0.971957  0.370953  6.075346  110.744026\n",
       "99996  QKivN  1.392429 -0.382606  1.273912  122.346843\n",
       "99997  3rnvd  1.029585  0.018787 -1.348308   64.375443\n",
       "99998  7kl59  0.998163 -0.528582  1.583869   74.040764\n",
       "99999  1CWhH  1.764754 -0.266417  5.722849  149.633246\n",
       "\n",
       "[100000 rows x 5 columns]"
      ]
     },
     "execution_count": 3,
     "metadata": {},
     "output_type": "execute_result"
    }
   ],
   "source": [
    "data"
   ]
  },
  {
   "cell_type": "code",
   "execution_count": 4,
   "metadata": {},
   "outputs": [
    {
     "data": {
      "text/html": [
       "<div>\n",
       "<style scoped>\n",
       "    .dataframe tbody tr th:only-of-type {\n",
       "        vertical-align: middle;\n",
       "    }\n",
       "\n",
       "    .dataframe tbody tr th {\n",
       "        vertical-align: top;\n",
       "    }\n",
       "\n",
       "    .dataframe thead th {\n",
       "        text-align: right;\n",
       "    }\n",
       "</style>\n",
       "<table border=\"1\" class=\"dataframe\">\n",
       "  <thead>\n",
       "    <tr style=\"text-align: right;\">\n",
       "      <th></th>\n",
       "      <th>id</th>\n",
       "      <th>f0</th>\n",
       "      <th>f1</th>\n",
       "      <th>f2</th>\n",
       "      <th>product</th>\n",
       "    </tr>\n",
       "  </thead>\n",
       "  <tbody>\n",
       "    <tr>\n",
       "      <td>0</td>\n",
       "      <td>kBEdx</td>\n",
       "      <td>-15.001348</td>\n",
       "      <td>-8.276000</td>\n",
       "      <td>-0.005876</td>\n",
       "      <td>3.179103</td>\n",
       "    </tr>\n",
       "    <tr>\n",
       "      <td>1</td>\n",
       "      <td>62mP7</td>\n",
       "      <td>14.272088</td>\n",
       "      <td>-3.475083</td>\n",
       "      <td>0.999183</td>\n",
       "      <td>26.953261</td>\n",
       "    </tr>\n",
       "    <tr>\n",
       "      <td>2</td>\n",
       "      <td>vyE1P</td>\n",
       "      <td>6.263187</td>\n",
       "      <td>-5.948386</td>\n",
       "      <td>5.001160</td>\n",
       "      <td>134.766305</td>\n",
       "    </tr>\n",
       "    <tr>\n",
       "      <td>3</td>\n",
       "      <td>KcrkZ</td>\n",
       "      <td>-13.081196</td>\n",
       "      <td>-11.506057</td>\n",
       "      <td>4.999415</td>\n",
       "      <td>137.945408</td>\n",
       "    </tr>\n",
       "    <tr>\n",
       "      <td>4</td>\n",
       "      <td>AHL4O</td>\n",
       "      <td>12.702195</td>\n",
       "      <td>-8.147433</td>\n",
       "      <td>5.004363</td>\n",
       "      <td>134.766305</td>\n",
       "    </tr>\n",
       "    <tr>\n",
       "      <td>...</td>\n",
       "      <td>...</td>\n",
       "      <td>...</td>\n",
       "      <td>...</td>\n",
       "      <td>...</td>\n",
       "      <td>...</td>\n",
       "    </tr>\n",
       "    <tr>\n",
       "      <td>99995</td>\n",
       "      <td>QywKC</td>\n",
       "      <td>9.535637</td>\n",
       "      <td>-6.878139</td>\n",
       "      <td>1.998296</td>\n",
       "      <td>53.906522</td>\n",
       "    </tr>\n",
       "    <tr>\n",
       "      <td>99996</td>\n",
       "      <td>ptvty</td>\n",
       "      <td>-10.160631</td>\n",
       "      <td>-12.558096</td>\n",
       "      <td>5.005581</td>\n",
       "      <td>137.945408</td>\n",
       "    </tr>\n",
       "    <tr>\n",
       "      <td>99997</td>\n",
       "      <td>09gWa</td>\n",
       "      <td>-7.378891</td>\n",
       "      <td>-3.084104</td>\n",
       "      <td>4.998651</td>\n",
       "      <td>137.945408</td>\n",
       "    </tr>\n",
       "    <tr>\n",
       "      <td>99998</td>\n",
       "      <td>rqwUm</td>\n",
       "      <td>0.665714</td>\n",
       "      <td>-6.152593</td>\n",
       "      <td>1.000146</td>\n",
       "      <td>30.132364</td>\n",
       "    </tr>\n",
       "    <tr>\n",
       "      <td>99999</td>\n",
       "      <td>relB0</td>\n",
       "      <td>-3.426139</td>\n",
       "      <td>-7.794274</td>\n",
       "      <td>-0.003299</td>\n",
       "      <td>3.179103</td>\n",
       "    </tr>\n",
       "  </tbody>\n",
       "</table>\n",
       "<p>100000 rows × 5 columns</p>\n",
       "</div>"
      ],
      "text/plain": [
       "          id         f0         f1        f2     product\n",
       "0      kBEdx -15.001348  -8.276000 -0.005876    3.179103\n",
       "1      62mP7  14.272088  -3.475083  0.999183   26.953261\n",
       "2      vyE1P   6.263187  -5.948386  5.001160  134.766305\n",
       "3      KcrkZ -13.081196 -11.506057  4.999415  137.945408\n",
       "4      AHL4O  12.702195  -8.147433  5.004363  134.766305\n",
       "...      ...        ...        ...       ...         ...\n",
       "99995  QywKC   9.535637  -6.878139  1.998296   53.906522\n",
       "99996  ptvty -10.160631 -12.558096  5.005581  137.945408\n",
       "99997  09gWa  -7.378891  -3.084104  4.998651  137.945408\n",
       "99998  rqwUm   0.665714  -6.152593  1.000146   30.132364\n",
       "99999  relB0  -3.426139  -7.794274 -0.003299    3.179103\n",
       "\n",
       "[100000 rows x 5 columns]"
      ]
     },
     "execution_count": 4,
     "metadata": {},
     "output_type": "execute_result"
    }
   ],
   "source": [
    "data1"
   ]
  },
  {
   "cell_type": "code",
   "execution_count": 5,
   "metadata": {},
   "outputs": [
    {
     "data": {
      "text/html": [
       "<div>\n",
       "<style scoped>\n",
       "    .dataframe tbody tr th:only-of-type {\n",
       "        vertical-align: middle;\n",
       "    }\n",
       "\n",
       "    .dataframe tbody tr th {\n",
       "        vertical-align: top;\n",
       "    }\n",
       "\n",
       "    .dataframe thead th {\n",
       "        text-align: right;\n",
       "    }\n",
       "</style>\n",
       "<table border=\"1\" class=\"dataframe\">\n",
       "  <thead>\n",
       "    <tr style=\"text-align: right;\">\n",
       "      <th></th>\n",
       "      <th>id</th>\n",
       "      <th>f0</th>\n",
       "      <th>f1</th>\n",
       "      <th>f2</th>\n",
       "      <th>product</th>\n",
       "    </tr>\n",
       "  </thead>\n",
       "  <tbody>\n",
       "    <tr>\n",
       "      <td>0</td>\n",
       "      <td>fwXo0</td>\n",
       "      <td>-1.146987</td>\n",
       "      <td>0.963328</td>\n",
       "      <td>-0.828965</td>\n",
       "      <td>27.758673</td>\n",
       "    </tr>\n",
       "    <tr>\n",
       "      <td>1</td>\n",
       "      <td>WJtFt</td>\n",
       "      <td>0.262778</td>\n",
       "      <td>0.269839</td>\n",
       "      <td>-2.530187</td>\n",
       "      <td>56.069697</td>\n",
       "    </tr>\n",
       "    <tr>\n",
       "      <td>2</td>\n",
       "      <td>ovLUW</td>\n",
       "      <td>0.194587</td>\n",
       "      <td>0.289035</td>\n",
       "      <td>-5.586433</td>\n",
       "      <td>62.871910</td>\n",
       "    </tr>\n",
       "    <tr>\n",
       "      <td>3</td>\n",
       "      <td>q6cA6</td>\n",
       "      <td>2.236060</td>\n",
       "      <td>-0.553760</td>\n",
       "      <td>0.930038</td>\n",
       "      <td>114.572842</td>\n",
       "    </tr>\n",
       "    <tr>\n",
       "      <td>4</td>\n",
       "      <td>WPMUX</td>\n",
       "      <td>-0.515993</td>\n",
       "      <td>1.716266</td>\n",
       "      <td>5.899011</td>\n",
       "      <td>149.600746</td>\n",
       "    </tr>\n",
       "    <tr>\n",
       "      <td>...</td>\n",
       "      <td>...</td>\n",
       "      <td>...</td>\n",
       "      <td>...</td>\n",
       "      <td>...</td>\n",
       "      <td>...</td>\n",
       "    </tr>\n",
       "    <tr>\n",
       "      <td>99995</td>\n",
       "      <td>4GxBu</td>\n",
       "      <td>-1.777037</td>\n",
       "      <td>1.125220</td>\n",
       "      <td>6.263374</td>\n",
       "      <td>172.327046</td>\n",
       "    </tr>\n",
       "    <tr>\n",
       "      <td>99996</td>\n",
       "      <td>YKFjq</td>\n",
       "      <td>-1.261523</td>\n",
       "      <td>-0.894828</td>\n",
       "      <td>2.524545</td>\n",
       "      <td>138.748846</td>\n",
       "    </tr>\n",
       "    <tr>\n",
       "      <td>99997</td>\n",
       "      <td>tKPY3</td>\n",
       "      <td>-1.199934</td>\n",
       "      <td>-2.957637</td>\n",
       "      <td>5.219411</td>\n",
       "      <td>157.080080</td>\n",
       "    </tr>\n",
       "    <tr>\n",
       "      <td>99998</td>\n",
       "      <td>nmxp2</td>\n",
       "      <td>-2.419896</td>\n",
       "      <td>2.417221</td>\n",
       "      <td>-5.548444</td>\n",
       "      <td>51.795253</td>\n",
       "    </tr>\n",
       "    <tr>\n",
       "      <td>99999</td>\n",
       "      <td>V9kWn</td>\n",
       "      <td>-2.551421</td>\n",
       "      <td>-2.025625</td>\n",
       "      <td>6.090891</td>\n",
       "      <td>102.775767</td>\n",
       "    </tr>\n",
       "  </tbody>\n",
       "</table>\n",
       "<p>100000 rows × 5 columns</p>\n",
       "</div>"
      ],
      "text/plain": [
       "          id        f0        f1        f2     product\n",
       "0      fwXo0 -1.146987  0.963328 -0.828965   27.758673\n",
       "1      WJtFt  0.262778  0.269839 -2.530187   56.069697\n",
       "2      ovLUW  0.194587  0.289035 -5.586433   62.871910\n",
       "3      q6cA6  2.236060 -0.553760  0.930038  114.572842\n",
       "4      WPMUX -0.515993  1.716266  5.899011  149.600746\n",
       "...      ...       ...       ...       ...         ...\n",
       "99995  4GxBu -1.777037  1.125220  6.263374  172.327046\n",
       "99996  YKFjq -1.261523 -0.894828  2.524545  138.748846\n",
       "99997  tKPY3 -1.199934 -2.957637  5.219411  157.080080\n",
       "99998  nmxp2 -2.419896  2.417221 -5.548444   51.795253\n",
       "99999  V9kWn -2.551421 -2.025625  6.090891  102.775767\n",
       "\n",
       "[100000 rows x 5 columns]"
      ]
     },
     "execution_count": 5,
     "metadata": {},
     "output_type": "execute_result"
    }
   ],
   "source": [
    "data2"
   ]
  },
  {
   "cell_type": "markdown",
   "metadata": {},
   "source": [
    "Просмотрев датасеты, принимаю решение что id не нужно."
   ]
  },
  {
   "cell_type": "code",
   "execution_count": 6,
   "metadata": {},
   "outputs": [],
   "source": [
    "data = data.drop(['id'], axis=1)\n",
    "data1 = data1.drop(['id'], axis=1)\n",
    "data2 = data2.drop(['id'], axis=1)"
   ]
  },
  {
   "cell_type": "markdown",
   "metadata": {},
   "source": [
    "Убираем все столбцы с id."
   ]
  },
  {
   "cell_type": "markdown",
   "metadata": {},
   "source": [
    "## Обучение и проверка модели"
   ]
  },
  {
   "cell_type": "markdown",
   "metadata": {},
   "source": [
    "### Разбиваем данные на обучающую и валидационную выборки в соотношении 75:25."
   ]
  },
  {
   "cell_type": "code",
   "execution_count": 7,
   "metadata": {},
   "outputs": [],
   "source": [
    "features = data.drop(['product'] , axis=1)\n",
    "target = data['product']"
   ]
  },
  {
   "cell_type": "code",
   "execution_count": 8,
   "metadata": {},
   "outputs": [],
   "source": [
    "features1 = data1.drop(['product'] , axis=1)\n",
    "target1 = data1['product']"
   ]
  },
  {
   "cell_type": "code",
   "execution_count": 9,
   "metadata": {},
   "outputs": [],
   "source": [
    "features2 = data2.drop(['product'] , axis=1)\n",
    "target2 = data2['product']"
   ]
  },
  {
   "cell_type": "code",
   "execution_count": 10,
   "metadata": {},
   "outputs": [
    {
     "name": "stdout",
     "output_type": "stream",
     "text": [
      "(75000, 3)\n",
      "(25000, 3)\n"
     ]
    }
   ],
   "source": [
    "features_data, features_valid, target_data, target_valid = train_test_split(features, target, test_size = 0.25, random_state=12345)\n",
    "print(features_data.shape)\n",
    "print(features_valid.shape)"
   ]
  },
  {
   "cell_type": "code",
   "execution_count": 11,
   "metadata": {},
   "outputs": [
    {
     "name": "stdout",
     "output_type": "stream",
     "text": [
      "(75000, 3)\n",
      "(25000, 3)\n"
     ]
    }
   ],
   "source": [
    "features_data1, features_valid1, target_data1, target_valid1 = train_test_split(features1, target1, test_size = 0.25, random_state=12345)\n",
    "print(features_data1.shape)\n",
    "print(features_valid1.shape)"
   ]
  },
  {
   "cell_type": "code",
   "execution_count": 12,
   "metadata": {},
   "outputs": [
    {
     "name": "stdout",
     "output_type": "stream",
     "text": [
      "(75000, 3)\n",
      "(25000, 3)\n"
     ]
    }
   ],
   "source": [
    "features_data2, features_valid2, target_data2, target_valid2 = train_test_split(features2, target2, test_size = 0.25, random_state=12345)\n",
    "print(features_data2.shape)\n",
    "print(features_valid2.shape)"
   ]
  },
  {
   "cell_type": "markdown",
   "metadata": {},
   "source": [
    "Разделили на обучающую и валидационную выборку."
   ]
  },
  {
   "cell_type": "markdown",
   "metadata": {},
   "source": [
    "### Обучяем модель и делаем предсказания на валидационной выборке."
   ]
  },
  {
   "cell_type": "code",
   "execution_count": 13,
   "metadata": {},
   "outputs": [],
   "source": [
    "model = LinearRegression()\n",
    "model.fit(features_data, target_data)\n",
    "predictions_valid = model.predict(features_valid)"
   ]
  },
  {
   "cell_type": "markdown",
   "metadata": {},
   "source": [
    "Первый регион."
   ]
  },
  {
   "cell_type": "code",
   "execution_count": 14,
   "metadata": {},
   "outputs": [],
   "source": [
    "model1 = LinearRegression()\n",
    "model1.fit(features_data1, target_data1)\n",
    "predictions_valid1 = model1.predict(features_valid1)"
   ]
  },
  {
   "cell_type": "markdown",
   "metadata": {},
   "source": [
    "Второй регион."
   ]
  },
  {
   "cell_type": "code",
   "execution_count": 15,
   "metadata": {},
   "outputs": [],
   "source": [
    "model2 = LinearRegression()\n",
    "model2.fit(features_data2, target_data2)\n",
    "predictions_valid2 = model2.predict(features_valid2)"
   ]
  },
  {
   "cell_type": "markdown",
   "metadata": {},
   "source": [
    "Третий регион."
   ]
  },
  {
   "cell_type": "markdown",
   "metadata": {},
   "source": [
    "### Сохраняем предсказания и правильные ответы на валидационной выборке."
   ]
  },
  {
   "cell_type": "markdown",
   "metadata": {},
   "source": [
    "Не совсем понял этот раздел."
   ]
  },
  {
   "cell_type": "markdown",
   "metadata": {},
   "source": [
    "### Выводим на экран средний запас предсказанного сырья и RMSE модели."
   ]
  },
  {
   "cell_type": "code",
   "execution_count": 16,
   "metadata": {},
   "outputs": [
    {
     "data": {
      "text/plain": [
       "92.59256778438038"
      ]
     },
     "execution_count": 16,
     "metadata": {},
     "output_type": "execute_result"
    }
   ],
   "source": [
    "predictions_valid.mean()"
   ]
  },
  {
   "cell_type": "code",
   "execution_count": 17,
   "metadata": {},
   "outputs": [
    {
     "data": {
      "text/plain": [
       "37.5794217150813"
      ]
     },
     "execution_count": 17,
     "metadata": {},
     "output_type": "execute_result"
    }
   ],
   "source": [
    "rmse = mean_squared_error(target_valid, predictions_valid) ** 0.5\n",
    "rmse"
   ]
  },
  {
   "cell_type": "markdown",
   "metadata": {},
   "source": [
    "Среднее значение сырья и RMSE модели для первого региона."
   ]
  },
  {
   "cell_type": "code",
   "execution_count": 18,
   "metadata": {},
   "outputs": [
    {
     "data": {
      "text/plain": [
       "68.728546895446"
      ]
     },
     "execution_count": 18,
     "metadata": {},
     "output_type": "execute_result"
    }
   ],
   "source": [
    "predictions_valid1.mean()"
   ]
  },
  {
   "cell_type": "code",
   "execution_count": 19,
   "metadata": {},
   "outputs": [
    {
     "data": {
      "text/plain": [
       "0.893099286775616"
      ]
     },
     "execution_count": 19,
     "metadata": {},
     "output_type": "execute_result"
    }
   ],
   "source": [
    "rmse1 = mean_squared_error(target_valid1, predictions_valid1) ** 0.5\n",
    "rmse1"
   ]
  },
  {
   "cell_type": "markdown",
   "metadata": {},
   "source": [
    "Среднее значение сырья и RMSE модели для второго региона."
   ]
  },
  {
   "cell_type": "code",
   "execution_count": 20,
   "metadata": {},
   "outputs": [
    {
     "data": {
      "text/plain": [
       "94.96504596800489"
      ]
     },
     "execution_count": 20,
     "metadata": {},
     "output_type": "execute_result"
    }
   ],
   "source": [
    "predictions_valid2.mean()"
   ]
  },
  {
   "cell_type": "code",
   "execution_count": 21,
   "metadata": {},
   "outputs": [
    {
     "data": {
      "text/plain": [
       "40.02970873393434"
      ]
     },
     "execution_count": 21,
     "metadata": {},
     "output_type": "execute_result"
    }
   ],
   "source": [
    "rmse2 = mean_squared_error(target_valid2, predictions_valid2) ** 0.5\n",
    "rmse2"
   ]
  },
  {
   "cell_type": "markdown",
   "metadata": {},
   "source": [
    "Среднее значение сырья и RMSE модели для третьего региона."
   ]
  },
  {
   "cell_type": "markdown",
   "metadata": {},
   "source": [
    "### Анализируем результаты"
   ]
  },
  {
   "cell_type": "markdown",
   "metadata": {},
   "source": [
    "По полученным данным лучший определяем что третий регион лучший."
   ]
  },
  {
   "cell_type": "markdown",
   "metadata": {},
   "source": [
    "## Подготовка к расчёту прибыли"
   ]
  },
  {
   "cell_type": "markdown",
   "metadata": {},
   "source": [
    "###  Все ключевые значения для расчётов сохраняем в отдельных переменных."
   ]
  },
  {
   "cell_type": "code",
   "execution_count": 22,
   "metadata": {},
   "outputs": [],
   "source": [
    "BUDGET = 10000000000\n",
    "INCOME = 450000\n",
    "WELLS = 200"
   ]
  },
  {
   "cell_type": "markdown",
   "metadata": {},
   "source": [
    "### Рассчитываем достаточный объём сырья для безубыточной разработки новой скважины. Сравниваем полученный объём сырья со средним запасом в каждом регионе."
   ]
  },
  {
   "cell_type": "code",
   "execution_count": 23,
   "metadata": {},
   "outputs": [
    {
     "data": {
      "text/plain": [
       "111.11111111111111"
      ]
     },
     "execution_count": 23,
     "metadata": {},
     "output_type": "execute_result"
    }
   ],
   "source": [
    "expenditure = BUDGET / WELLS / INCOME\n",
    "expenditure"
   ]
  },
  {
   "cell_type": "markdown",
   "metadata": {},
   "source": [
    "Средние показатели скважин 3х регионов: 92.6, 68.7, 94.9. Нам не хватает."
   ]
  },
  {
   "cell_type": "code",
   "execution_count": 24,
   "metadata": {},
   "outputs": [
    {
     "data": {
      "text/plain": [
       "9317     180.180713\n",
       "219      176.252213\n",
       "10015    175.850623\n",
       "11584    175.658429\n",
       "23388    173.299686\n",
       "            ...    \n",
       "23129     10.209351\n",
       "9078       8.798531\n",
       "21875      6.569477\n",
       "14503      4.980987\n",
       "20881     -9.367846\n",
       "Length: 25000, dtype: float64"
      ]
     },
     "execution_count": 24,
     "metadata": {},
     "output_type": "execute_result"
    }
   ],
   "source": [
    "predictions_valid = pd.Series(predictions_valid).reset_index(drop=True)\n",
    "predicted_sort = predictions_valid.sort_values(ascending=False)\n",
    "predicted_sort"
   ]
  },
  {
   "cell_type": "markdown",
   "metadata": {},
   "source": [
    "## Расчёт прибыли и рисков "
   ]
  },
  {
   "cell_type": "markdown",
   "metadata": {},
   "source": [
    "### Выбераем скважины с максимальными значениями предсказаний."
   ]
  },
  {
   "cell_type": "code",
   "execution_count": 41,
   "metadata": {},
   "outputs": [],
   "source": [
    "def profit(predicted, target):\n",
    "    predicted = pd.Series(predicted).reset_index(drop=True)\n",
    "    target = pd.Series(target).reset_index(drop=True)\n",
    "    predicted_sort = predicted.sort_values(ascending=False)\n",
    "    quantity = target[predicted_sort.index][:WELLS].sum()\n",
    "    profit_finish = ((quantity * INCOME) - BUDGET)/ 1000000000\n",
    "\n",
    "    return profit_finish\n",
    "\n",
    "\n",
    "\n",
    "\n"
   ]
  },
  {
   "cell_type": "code",
   "execution_count": 53,
   "metadata": {},
   "outputs": [
    {
     "name": "stdout",
     "output_type": "stream",
     "text": [
      "Предсказанная прибыль первого региона: 3.3208260431398524\n"
     ]
    }
   ],
   "source": [
    "print('Предсказанная прибыль первого региона:', profit(predictions_valid, target_valid))"
   ]
  },
  {
   "cell_type": "code",
   "execution_count": 54,
   "metadata": {},
   "outputs": [
    {
     "name": "stdout",
     "output_type": "stream",
     "text": [
      "Предсказанная прибыль второго региона: 2.4150866966815108\n"
     ]
    }
   ],
   "source": [
    "print('Предсказанная прибыль второго региона:', profit(predictions_valid1, target_valid1))"
   ]
  },
  {
   "cell_type": "code",
   "execution_count": 56,
   "metadata": {},
   "outputs": [
    {
     "name": "stdout",
     "output_type": "stream",
     "text": [
      "Предсказанная прибыль второго региона: 2.7103499635998327\n"
     ]
    }
   ],
   "source": [
    "print('Предсказанная прибыль второго региона:', profit(predictions_valid2, target_valid2))"
   ]
  },
  {
   "cell_type": "markdown",
   "metadata": {},
   "source": [
    "Наибольшая прибыль у регона 1 и 3."
   ]
  },
  {
   "cell_type": "markdown",
   "metadata": {},
   "source": [
    "## Считаем риски и прибыль для каждого региона"
   ]
  },
  {
   "cell_type": "markdown",
   "metadata": {},
   "source": [
    "### Применяем технику Bootstrap с 1000 выборок, чтобы найти распределение прибыли."
   ]
  },
  {
   "cell_type": "code",
   "execution_count": 94,
   "metadata": {},
   "outputs": [],
   "source": [
    "state = np.random.RandomState(12345)\n",
    "def bootstrap(predicted, target):\n",
    "    target = target.reset_index(drop=True)\n",
    "    values = []\n",
    "\n",
    "    for i in range(1000):\n",
    "        target_subsample = target.sample(n=500, replace=True, random_state=state)\n",
    "        predicted_subsample = predicted[target_subsample.index]\n",
    "        \n",
    "        profit1 = profit(predicted_subsample, target_subsample)\n",
    "        values.append(profit1)\n",
    "    \n",
    "    return pd.Series(values)"
   ]
  },
  {
   "cell_type": "markdown",
   "metadata": {},
   "source": [
    "### Найходим среднюю прибыль, 95%-й доверительный интервал и риск убытков. Убыток — это отрицательная прибыль."
   ]
  },
  {
   "cell_type": "code",
   "execution_count": 101,
   "metadata": {},
   "outputs": [],
   "source": [
    "def analysis(predicted, target):\n",
    "    values = bootstrap(predicted, target)\n",
    "    \n",
    "    mean = pd.Series(values).mean()\n",
    "    quantil = [values.quantile(0.025), values.quantile(0.975)]\n",
    "    \n",
    "    print(\"Средняя выручка:\", mean)\n",
    "    print(\"Доверительный интервал:\", quantil)\n",
    "    print(\"Риски убытка:\", (values < 0).mean())"
   ]
  },
  {
   "cell_type": "code",
   "execution_count": 102,
   "metadata": {},
   "outputs": [
    {
     "name": "stdout",
     "output_type": "stream",
     "text": [
      "Средняя выручка: 0.3938025093488005\n",
      "Доверительный интервал: [-0.11977787811425389, 0.9093132357352335]\n",
      "Риски убытка: 0.057\n"
     ]
    }
   ],
   "source": [
    "analysis(predictions_valid, target_valid)"
   ]
  },
  {
   "cell_type": "code",
   "execution_count": 103,
   "metadata": {},
   "outputs": [
    {
     "name": "stdout",
     "output_type": "stream",
     "text": [
      "Средняя выручка: 0.44827528922909887\n",
      "Доверительный интервал: [0.05027547525874067, 0.8366259808831102]\n",
      "Риски убытка: 0.013\n"
     ]
    }
   ],
   "source": [
    "analysis(predictions_valid1, target_valid1)"
   ]
  },
  {
   "cell_type": "code",
   "execution_count": 104,
   "metadata": {},
   "outputs": [
    {
     "name": "stdout",
     "output_type": "stream",
     "text": [
      "Средняя выручка: 0.38252715326889897\n",
      "Доверительный интервал: [-0.2020650217268754, 0.9298880449099379]\n",
      "Риски убытка: 0.094\n"
     ]
    }
   ],
   "source": [
    "analysis(predictions_valid2, target_valid2)"
   ]
  },
  {
   "cell_type": "markdown",
   "metadata": {},
   "source": [
    "### Вывод"
   ]
  },
  {
   "cell_type": "markdown",
   "metadata": {},
   "source": [
    "По нашим предворительным подсчетам мы выделяли регион 1 и 3 по их показателям. После применения техники Bootstrap и нахождения распределения прибыли и получения средней прибыли, доверительного интервала и риска убытков, мы понимаем что лучий регион это №2. Средня выручка которого составляет 448 млн., и самые низкие риски убтка."
   ]
  },
  {
   "cell_type": "markdown",
   "metadata": {},
   "source": [
    "## Чек-лист готовности проекта"
   ]
  },
  {
   "cell_type": "markdown",
   "metadata": {},
   "source": [
    "Поставьте 'x' в выполненных пунктах. Далее нажмите Shift+Enter."
   ]
  },
  {
   "cell_type": "markdown",
   "metadata": {},
   "source": [
    "- [x]  Jupyter Notebook открыт\n",
    "- [ ]  Весь код выполняется без ошибок\n",
    "- [ ]  Ячейки с кодом расположены в порядке исполнения\n",
    "- [ ]  Выполнен шаг 1: данные подготовлены\n",
    "- [ ]  Выполнен шаг 2: модели обучены и проверены\n",
    "    - [ ]  Данные корректно разбиты на обучающую и валидационную выборки\n",
    "    - [ ]  Модели обучены, предсказания сделаны\n",
    "    - [ ]  Предсказания и правильные ответы на валидационной выборке сохранены\n",
    "    - [ ]  На экране напечатаны результаты\n",
    "    - [ ]  Сделаны выводы\n",
    "- [ ]  Выполнен шаг 3: проведена подготовка к расчёту прибыли\n",
    "    - [ ]  Для всех ключевых значений созданы константы Python\n",
    "    - [ ]  Посчитано минимальное среднее количество продукта в месторождениях региона, достаточное для разработки\n",
    "    - [ ]  По предыдущему пункту сделаны выводы\n",
    "    - [ ]  Написана функция расчёта прибыли\n",
    "- [ ]  Выполнен шаг 4: посчитаны риски и прибыль\n",
    "    - [ ]  Проведена процедура *Bootstrap*\n",
    "    - [ ]  Все параметры бутстрепа соответствуют условию\n",
    "    - [ ]  Найдены все нужные величины\n",
    "    - [ ]  Предложен регион для разработки месторождения\n",
    "    - [ ]  Выбор региона обоснован"
   ]
  },
  {
   "cell_type": "code",
   "execution_count": null,
   "metadata": {},
   "outputs": [],
   "source": []
  }
 ],
 "metadata": {
  "ExecuteTimeLog": [
   {
    "duration": 351,
    "start_time": "2021-12-28T23:16:38.961Z"
   },
   {
    "duration": 275,
    "start_time": "2021-12-28T23:16:46.458Z"
   },
   {
    "duration": 843,
    "start_time": "2021-12-28T23:16:52.226Z"
   },
   {
    "duration": 378,
    "start_time": "2021-12-28T23:16:53.793Z"
   },
   {
    "duration": 15,
    "start_time": "2021-12-28T23:16:55.646Z"
   },
   {
    "duration": 11,
    "start_time": "2021-12-28T23:19:06.211Z"
   },
   {
    "duration": 12,
    "start_time": "2021-12-28T23:19:24.846Z"
   },
   {
    "duration": 5,
    "start_time": "2021-12-28T23:21:45.916Z"
   },
   {
    "duration": 9,
    "start_time": "2021-12-28T23:22:21.782Z"
   },
   {
    "duration": 6,
    "start_time": "2021-12-28T23:26:36.698Z"
   },
   {
    "duration": 10,
    "start_time": "2021-12-28T23:26:47.697Z"
   },
   {
    "duration": 13,
    "start_time": "2021-12-28T23:27:07.874Z"
   },
   {
    "duration": 3,
    "start_time": "2021-12-28T23:27:13.024Z"
   },
   {
    "duration": 397,
    "start_time": "2021-12-28T23:27:13.029Z"
   },
   {
    "duration": 15,
    "start_time": "2021-12-28T23:27:13.429Z"
   },
   {
    "duration": 27,
    "start_time": "2021-12-28T23:27:13.446Z"
   },
   {
    "duration": 25,
    "start_time": "2021-12-28T23:27:13.475Z"
   },
   {
    "duration": 377,
    "start_time": "2021-12-28T23:27:13.502Z"
   },
   {
    "duration": -78,
    "start_time": "2021-12-28T23:27:13.960Z"
   },
   {
    "duration": 299,
    "start_time": "2021-12-28T23:28:15.026Z"
   },
   {
    "duration": 298,
    "start_time": "2021-12-28T23:29:15.440Z"
   },
   {
    "duration": 4,
    "start_time": "2021-12-28T23:30:22.775Z"
   },
   {
    "duration": 369,
    "start_time": "2021-12-28T23:30:22.780Z"
   },
   {
    "duration": 11,
    "start_time": "2021-12-28T23:30:23.151Z"
   },
   {
    "duration": 15,
    "start_time": "2021-12-28T23:30:23.164Z"
   },
   {
    "duration": 13,
    "start_time": "2021-12-28T23:30:23.180Z"
   },
   {
    "duration": 298,
    "start_time": "2021-12-28T23:30:23.195Z"
   },
   {
    "duration": -10,
    "start_time": "2021-12-28T23:30:23.504Z"
   },
   {
    "duration": 10,
    "start_time": "2021-12-28T23:30:55.482Z"
   },
   {
    "duration": 11,
    "start_time": "2021-12-28T23:31:00.673Z"
   },
   {
    "duration": 316,
    "start_time": "2021-12-28T23:31:15.903Z"
   },
   {
    "duration": 3,
    "start_time": "2021-12-28T23:31:19.635Z"
   },
   {
    "duration": 492,
    "start_time": "2021-12-28T23:31:19.640Z"
   },
   {
    "duration": 12,
    "start_time": "2021-12-28T23:31:20.135Z"
   },
   {
    "duration": 13,
    "start_time": "2021-12-28T23:31:20.149Z"
   },
   {
    "duration": 12,
    "start_time": "2021-12-28T23:31:20.164Z"
   },
   {
    "duration": 12,
    "start_time": "2021-12-28T23:31:20.177Z"
   },
   {
    "duration": 38,
    "start_time": "2021-12-28T23:31:20.191Z"
   },
   {
    "duration": 7,
    "start_time": "2021-12-28T23:31:20.231Z"
   },
   {
    "duration": 7,
    "start_time": "2021-12-28T23:31:51.962Z"
   },
   {
    "duration": 7,
    "start_time": "2021-12-28T23:32:05.302Z"
   },
   {
    "duration": 6,
    "start_time": "2021-12-28T23:32:09.866Z"
   },
   {
    "duration": 7,
    "start_time": "2021-12-28T23:34:56.098Z"
   },
   {
    "duration": 5,
    "start_time": "2021-12-28T23:34:58.613Z"
   },
   {
    "duration": 6,
    "start_time": "2021-12-28T23:34:58.685Z"
   },
   {
    "duration": 272,
    "start_time": "2021-12-28T23:39:10.418Z"
   },
   {
    "duration": 449,
    "start_time": "2021-12-28T23:39:34.375Z"
   },
   {
    "duration": 350,
    "start_time": "2021-12-28T23:39:34.826Z"
   },
   {
    "duration": 12,
    "start_time": "2021-12-28T23:39:35.177Z"
   },
   {
    "duration": 12,
    "start_time": "2021-12-28T23:39:35.191Z"
   },
   {
    "duration": 14,
    "start_time": "2021-12-28T23:39:35.204Z"
   },
   {
    "duration": 12,
    "start_time": "2021-12-28T23:39:35.227Z"
   },
   {
    "duration": 8,
    "start_time": "2021-12-28T23:39:35.241Z"
   },
   {
    "duration": 6,
    "start_time": "2021-12-28T23:39:35.250Z"
   },
   {
    "duration": 8,
    "start_time": "2021-12-28T23:39:35.258Z"
   },
   {
    "duration": 16,
    "start_time": "2021-12-28T23:39:35.267Z"
   },
   {
    "duration": 16,
    "start_time": "2021-12-28T23:40:31.100Z"
   },
   {
    "duration": 16,
    "start_time": "2021-12-28T23:40:58.506Z"
   },
   {
    "duration": 17,
    "start_time": "2021-12-28T23:43:50.075Z"
   },
   {
    "duration": 381,
    "start_time": "2021-12-28T23:43:50.093Z"
   },
   {
    "duration": 12,
    "start_time": "2021-12-28T23:43:50.476Z"
   },
   {
    "duration": 15,
    "start_time": "2021-12-28T23:43:50.491Z"
   },
   {
    "duration": 23,
    "start_time": "2021-12-28T23:43:50.508Z"
   },
   {
    "duration": 12,
    "start_time": "2021-12-28T23:43:50.533Z"
   },
   {
    "duration": 6,
    "start_time": "2021-12-28T23:43:50.547Z"
   },
   {
    "duration": 7,
    "start_time": "2021-12-28T23:43:50.555Z"
   },
   {
    "duration": 7,
    "start_time": "2021-12-28T23:43:50.565Z"
   },
   {
    "duration": 22,
    "start_time": "2021-12-28T23:43:50.574Z"
   },
   {
    "duration": 41,
    "start_time": "2021-12-28T23:43:50.598Z"
   },
   {
    "duration": 13,
    "start_time": "2021-12-28T23:43:50.641Z"
   },
   {
    "duration": 343,
    "start_time": "2021-12-28T23:46:59.899Z"
   },
   {
    "duration": 294,
    "start_time": "2021-12-28T23:47:18.571Z"
   },
   {
    "duration": 906,
    "start_time": "2021-12-28T23:47:26.617Z"
   },
   {
    "duration": 3,
    "start_time": "2021-12-28T23:48:04.197Z"
   },
   {
    "duration": 398,
    "start_time": "2021-12-28T23:48:04.202Z"
   },
   {
    "duration": 11,
    "start_time": "2021-12-28T23:48:04.603Z"
   },
   {
    "duration": 23,
    "start_time": "2021-12-28T23:48:04.616Z"
   },
   {
    "duration": 12,
    "start_time": "2021-12-28T23:48:04.641Z"
   },
   {
    "duration": 14,
    "start_time": "2021-12-28T23:48:04.655Z"
   },
   {
    "duration": 8,
    "start_time": "2021-12-28T23:48:04.671Z"
   },
   {
    "duration": 7,
    "start_time": "2021-12-28T23:48:04.681Z"
   },
   {
    "duration": 6,
    "start_time": "2021-12-28T23:48:04.691Z"
   },
   {
    "duration": 36,
    "start_time": "2021-12-28T23:48:04.699Z"
   },
   {
    "duration": 16,
    "start_time": "2021-12-28T23:48:04.737Z"
   },
   {
    "duration": 13,
    "start_time": "2021-12-28T23:48:04.755Z"
   },
   {
    "duration": 323,
    "start_time": "2021-12-28T23:48:04.770Z"
   },
   {
    "duration": 10,
    "start_time": "2021-12-28T23:48:40.049Z"
   },
   {
    "duration": 14,
    "start_time": "2021-12-28T23:48:50.594Z"
   },
   {
    "duration": 24,
    "start_time": "2021-12-28T23:51:18.419Z"
   },
   {
    "duration": 10,
    "start_time": "2021-12-28T23:55:55.019Z"
   },
   {
    "duration": 14,
    "start_time": "2021-12-28T23:56:04.222Z"
   },
   {
    "duration": 10,
    "start_time": "2021-12-28T23:56:32.690Z"
   },
   {
    "duration": 5,
    "start_time": "2021-12-29T00:03:04.532Z"
   },
   {
    "duration": 3,
    "start_time": "2021-12-29T00:03:57.654Z"
   },
   {
    "duration": 375,
    "start_time": "2021-12-29T00:03:57.660Z"
   },
   {
    "duration": 11,
    "start_time": "2021-12-29T00:03:58.037Z"
   },
   {
    "duration": 15,
    "start_time": "2021-12-29T00:03:58.051Z"
   },
   {
    "duration": 10,
    "start_time": "2021-12-29T00:03:58.068Z"
   },
   {
    "duration": 12,
    "start_time": "2021-12-29T00:03:58.080Z"
   },
   {
    "duration": 8,
    "start_time": "2021-12-29T00:03:58.094Z"
   },
   {
    "duration": 9,
    "start_time": "2021-12-29T00:03:58.128Z"
   },
   {
    "duration": 8,
    "start_time": "2021-12-29T00:03:58.139Z"
   },
   {
    "duration": 16,
    "start_time": "2021-12-29T00:03:58.149Z"
   },
   {
    "duration": 14,
    "start_time": "2021-12-29T00:03:58.166Z"
   },
   {
    "duration": 14,
    "start_time": "2021-12-29T00:03:58.182Z"
   },
   {
    "duration": 132,
    "start_time": "2021-12-29T00:03:58.198Z"
   },
   {
    "duration": 97,
    "start_time": "2021-12-29T00:03:58.333Z"
   },
   {
    "duration": 196,
    "start_time": "2021-12-29T00:03:58.432Z"
   },
   {
    "duration": 100,
    "start_time": "2021-12-29T00:03:58.630Z"
   },
   {
    "duration": 120,
    "start_time": "2021-12-29T00:03:58.732Z"
   },
   {
    "duration": 3,
    "start_time": "2021-12-29T00:04:31.056Z"
   },
   {
    "duration": 5,
    "start_time": "2021-12-29T00:04:38.535Z"
   },
   {
    "duration": 5,
    "start_time": "2021-12-29T00:05:14.261Z"
   },
   {
    "duration": 7,
    "start_time": "2021-12-29T00:05:32.628Z"
   },
   {
    "duration": 3,
    "start_time": "2021-12-29T00:06:49.414Z"
   },
   {
    "duration": 5,
    "start_time": "2021-12-29T00:07:13.219Z"
   },
   {
    "duration": 105,
    "start_time": "2021-12-29T00:11:51.308Z"
   },
   {
    "duration": 293,
    "start_time": "2021-12-29T00:46:04.494Z"
   },
   {
    "duration": 3,
    "start_time": "2021-12-29T00:46:07.394Z"
   },
   {
    "duration": 3,
    "start_time": "2021-12-29T00:46:10.092Z"
   },
   {
    "duration": 9,
    "start_time": "2021-12-29T01:03:02.416Z"
   },
   {
    "duration": 18,
    "start_time": "2021-12-29T01:03:10.898Z"
   },
   {
    "duration": 308,
    "start_time": "2021-12-29T01:04:33.835Z"
   },
   {
    "duration": 278,
    "start_time": "2021-12-29T01:05:06.511Z"
   },
   {
    "duration": 7,
    "start_time": "2021-12-29T01:05:14.377Z"
   },
   {
    "duration": 8,
    "start_time": "2021-12-29T01:05:20.040Z"
   },
   {
    "duration": 7,
    "start_time": "2021-12-29T01:05:33.381Z"
   },
   {
    "duration": 8,
    "start_time": "2021-12-29T01:10:00.924Z"
   },
   {
    "duration": 302,
    "start_time": "2021-12-29T01:14:53.017Z"
   },
   {
    "duration": 1139,
    "start_time": "2021-12-29T01:15:06.933Z"
   },
   {
    "duration": 1346,
    "start_time": "2021-12-29T01:15:17.822Z"
   },
   {
    "duration": 313,
    "start_time": "2021-12-29T01:15:54.899Z"
   },
   {
    "duration": 11,
    "start_time": "2021-12-29T01:16:03.822Z"
   },
   {
    "duration": 8,
    "start_time": "2021-12-29T01:16:08.589Z"
   },
   {
    "duration": 7,
    "start_time": "2021-12-29T01:16:34.158Z"
   },
   {
    "duration": 6,
    "start_time": "2021-12-29T01:17:00.431Z"
   },
   {
    "duration": 7,
    "start_time": "2021-12-29T01:17:19.519Z"
   },
   {
    "duration": 3,
    "start_time": "2021-12-29T01:19:55.712Z"
   },
   {
    "duration": 360,
    "start_time": "2021-12-29T01:19:55.717Z"
   },
   {
    "duration": 14,
    "start_time": "2021-12-29T01:19:56.079Z"
   },
   {
    "duration": 11,
    "start_time": "2021-12-29T01:19:56.095Z"
   },
   {
    "duration": 21,
    "start_time": "2021-12-29T01:19:56.107Z"
   },
   {
    "duration": 10,
    "start_time": "2021-12-29T01:19:56.130Z"
   },
   {
    "duration": 7,
    "start_time": "2021-12-29T01:19:56.142Z"
   },
   {
    "duration": 6,
    "start_time": "2021-12-29T01:19:56.150Z"
   },
   {
    "duration": 5,
    "start_time": "2021-12-29T01:19:56.159Z"
   },
   {
    "duration": 15,
    "start_time": "2021-12-29T01:19:56.166Z"
   },
   {
    "duration": 11,
    "start_time": "2021-12-29T01:19:56.183Z"
   },
   {
    "duration": 38,
    "start_time": "2021-12-29T01:19:56.196Z"
   },
   {
    "duration": 8,
    "start_time": "2021-12-29T01:19:56.236Z"
   },
   {
    "duration": 92,
    "start_time": "2021-12-29T01:19:56.246Z"
   },
   {
    "duration": 101,
    "start_time": "2021-12-29T01:19:56.428Z"
   },
   {
    "duration": 96,
    "start_time": "2021-12-29T01:19:56.531Z"
   },
   {
    "duration": 5,
    "start_time": "2021-12-29T01:19:56.630Z"
   },
   {
    "duration": 5,
    "start_time": "2021-12-29T01:19:56.637Z"
   },
   {
    "duration": 6,
    "start_time": "2021-12-29T01:19:56.644Z"
   },
   {
    "duration": 3,
    "start_time": "2021-12-29T01:19:56.652Z"
   },
   {
    "duration": 5,
    "start_time": "2021-12-29T01:19:56.727Z"
   },
   {
    "duration": 5,
    "start_time": "2021-12-29T01:19:56.733Z"
   },
   {
    "duration": 5,
    "start_time": "2021-12-29T01:19:56.740Z"
   },
   {
    "duration": 11,
    "start_time": "2021-12-29T01:19:56.747Z"
   },
   {
    "duration": 7,
    "start_time": "2021-12-29T01:19:56.760Z"
   },
   {
    "duration": 7,
    "start_time": "2021-12-29T01:19:56.769Z"
   },
   {
    "duration": 107,
    "start_time": "2021-12-29T01:20:38.112Z"
   },
   {
    "duration": 343,
    "start_time": "2021-12-29T02:45:11.266Z"
   },
   {
    "duration": 3,
    "start_time": "2021-12-29T02:45:31.879Z"
   },
   {
    "duration": 380,
    "start_time": "2021-12-29T02:45:31.884Z"
   },
   {
    "duration": 11,
    "start_time": "2021-12-29T02:45:32.266Z"
   },
   {
    "duration": 15,
    "start_time": "2021-12-29T02:45:32.279Z"
   },
   {
    "duration": 14,
    "start_time": "2021-12-29T02:45:32.296Z"
   },
   {
    "duration": 15,
    "start_time": "2021-12-29T02:45:32.312Z"
   },
   {
    "duration": 8,
    "start_time": "2021-12-29T02:45:32.329Z"
   },
   {
    "duration": 6,
    "start_time": "2021-12-29T02:45:32.339Z"
   },
   {
    "duration": 7,
    "start_time": "2021-12-29T02:45:32.347Z"
   },
   {
    "duration": 13,
    "start_time": "2021-12-29T02:45:32.355Z"
   },
   {
    "duration": 13,
    "start_time": "2021-12-29T02:45:32.370Z"
   },
   {
    "duration": 14,
    "start_time": "2021-12-29T02:45:32.385Z"
   },
   {
    "duration": 43,
    "start_time": "2021-12-29T02:45:32.401Z"
   },
   {
    "duration": 185,
    "start_time": "2021-12-29T02:45:32.446Z"
   },
   {
    "duration": 95,
    "start_time": "2021-12-29T02:45:32.633Z"
   },
   {
    "duration": 99,
    "start_time": "2021-12-29T02:45:32.730Z"
   },
   {
    "duration": 9,
    "start_time": "2021-12-29T02:45:32.831Z"
   },
   {
    "duration": 87,
    "start_time": "2021-12-29T02:45:32.843Z"
   },
   {
    "duration": 7,
    "start_time": "2021-12-29T02:45:32.931Z"
   },
   {
    "duration": 6,
    "start_time": "2021-12-29T02:45:32.939Z"
   },
   {
    "duration": 5,
    "start_time": "2021-12-29T02:45:32.947Z"
   },
   {
    "duration": 5,
    "start_time": "2021-12-29T02:45:32.954Z"
   },
   {
    "duration": 6,
    "start_time": "2021-12-29T02:45:32.960Z"
   },
   {
    "duration": 7,
    "start_time": "2021-12-29T02:45:32.967Z"
   },
   {
    "duration": 5,
    "start_time": "2021-12-29T02:45:32.976Z"
   },
   {
    "duration": 7,
    "start_time": "2021-12-29T02:45:33.028Z"
   },
   {
    "duration": 4,
    "start_time": "2021-12-29T02:45:33.039Z"
   },
   {
    "duration": 579,
    "start_time": "2021-12-29T02:45:33.045Z"
   },
   {
    "duration": 3,
    "start_time": "2021-12-29T02:46:58.470Z"
   },
   {
    "duration": 3,
    "start_time": "2021-12-29T02:46:59.303Z"
   },
   {
    "duration": 603,
    "start_time": "2021-12-29T02:47:00.053Z"
   },
   {
    "duration": 115,
    "start_time": "2021-12-29T02:50:01.272Z"
   },
   {
    "duration": 1033,
    "start_time": "2021-12-29T02:50:07.133Z"
   },
   {
    "duration": 1271,
    "start_time": "2021-12-29T02:50:21.323Z"
   },
   {
    "duration": 804,
    "start_time": "2021-12-29T02:51:32.604Z"
   },
   {
    "duration": 494,
    "start_time": "2021-12-29T02:51:44.336Z"
   },
   {
    "duration": 573,
    "start_time": "2021-12-29T02:52:29.170Z"
   },
   {
    "duration": 1141,
    "start_time": "2021-12-29T02:52:41.977Z"
   },
   {
    "duration": 3,
    "start_time": "2021-12-29T02:52:43.120Z"
   },
   {
    "duration": 101,
    "start_time": "2021-12-29T02:54:23.205Z"
   },
   {
    "duration": 299,
    "start_time": "2021-12-29T02:54:35.665Z"
   },
   {
    "duration": 942,
    "start_time": "2021-12-29T02:55:02.402Z"
   },
   {
    "duration": 3,
    "start_time": "2021-12-29T02:55:03.679Z"
   },
   {
    "duration": 2,
    "start_time": "2021-12-29T10:17:54.996Z"
   },
   {
    "duration": 342,
    "start_time": "2021-12-29T10:17:55.001Z"
   },
   {
    "duration": 10,
    "start_time": "2021-12-29T10:17:55.345Z"
   },
   {
    "duration": 17,
    "start_time": "2021-12-29T10:17:55.357Z"
   },
   {
    "duration": 14,
    "start_time": "2021-12-29T10:17:55.376Z"
   },
   {
    "duration": 12,
    "start_time": "2021-12-29T10:17:55.392Z"
   },
   {
    "duration": 292,
    "start_time": "2021-12-29T10:17:55.405Z"
   },
   {
    "duration": 60,
    "start_time": "2021-12-29T10:17:55.639Z"
   },
   {
    "duration": 57,
    "start_time": "2021-12-29T10:17:55.643Z"
   },
   {
    "duration": 53,
    "start_time": "2021-12-29T10:17:55.648Z"
   },
   {
    "duration": 47,
    "start_time": "2021-12-29T10:17:55.654Z"
   },
   {
    "duration": 43,
    "start_time": "2021-12-29T10:17:55.659Z"
   },
   {
    "duration": 39,
    "start_time": "2021-12-29T10:17:55.664Z"
   },
   {
    "duration": 38,
    "start_time": "2021-12-29T10:17:55.666Z"
   },
   {
    "duration": 38,
    "start_time": "2021-12-29T10:17:55.667Z"
   },
   {
    "duration": 37,
    "start_time": "2021-12-29T10:17:55.668Z"
   },
   {
    "duration": 32,
    "start_time": "2021-12-29T10:17:55.675Z"
   },
   {
    "duration": 28,
    "start_time": "2021-12-29T10:17:55.679Z"
   },
   {
    "duration": 21,
    "start_time": "2021-12-29T10:17:55.687Z"
   },
   {
    "duration": 11,
    "start_time": "2021-12-29T10:17:55.698Z"
   },
   {
    "duration": 8,
    "start_time": "2021-12-29T10:17:55.701Z"
   },
   {
    "duration": 2,
    "start_time": "2021-12-29T10:17:55.708Z"
   },
   {
    "duration": 1,
    "start_time": "2021-12-29T10:17:55.710Z"
   },
   {
    "duration": 1,
    "start_time": "2021-12-29T10:17:55.711Z"
   },
   {
    "duration": -14,
    "start_time": "2021-12-29T10:17:55.727Z"
   },
   {
    "duration": -28,
    "start_time": "2021-12-29T10:17:55.741Z"
   },
   {
    "duration": -29,
    "start_time": "2021-12-29T10:17:55.743Z"
   },
   {
    "duration": -35,
    "start_time": "2021-12-29T10:17:55.750Z"
   },
   {
    "duration": -44,
    "start_time": "2021-12-29T10:17:55.760Z"
   },
   {
    "duration": -45,
    "start_time": "2021-12-29T10:17:55.762Z"
   },
   {
    "duration": 3,
    "start_time": "2021-12-29T10:20:53.276Z"
   },
   {
    "duration": 340,
    "start_time": "2021-12-29T10:20:53.281Z"
   },
   {
    "duration": 12,
    "start_time": "2021-12-29T10:20:53.623Z"
   },
   {
    "duration": 12,
    "start_time": "2021-12-29T10:20:53.636Z"
   },
   {
    "duration": 12,
    "start_time": "2021-12-29T10:20:53.649Z"
   },
   {
    "duration": 10,
    "start_time": "2021-12-29T10:20:53.662Z"
   },
   {
    "duration": 7,
    "start_time": "2021-12-29T10:20:53.674Z"
   },
   {
    "duration": 5,
    "start_time": "2021-12-29T10:20:53.682Z"
   },
   {
    "duration": 7,
    "start_time": "2021-12-29T10:20:53.689Z"
   },
   {
    "duration": 30,
    "start_time": "2021-12-29T10:20:53.698Z"
   },
   {
    "duration": 13,
    "start_time": "2021-12-29T10:20:53.730Z"
   },
   {
    "duration": 13,
    "start_time": "2021-12-29T10:20:53.744Z"
   },
   {
    "duration": 14,
    "start_time": "2021-12-29T10:20:53.758Z"
   },
   {
    "duration": 62,
    "start_time": "2021-12-29T10:20:53.774Z"
   },
   {
    "duration": 92,
    "start_time": "2021-12-29T10:20:53.838Z"
   },
   {
    "duration": 97,
    "start_time": "2021-12-29T10:20:53.932Z"
   },
   {
    "duration": 11,
    "start_time": "2021-12-29T10:20:54.031Z"
   },
   {
    "duration": 4,
    "start_time": "2021-12-29T10:20:54.129Z"
   },
   {
    "duration": 6,
    "start_time": "2021-12-29T10:20:54.135Z"
   },
   {
    "duration": 5,
    "start_time": "2021-12-29T10:20:54.143Z"
   },
   {
    "duration": 6,
    "start_time": "2021-12-29T10:20:54.149Z"
   },
   {
    "duration": 3,
    "start_time": "2021-12-29T10:20:54.157Z"
   },
   {
    "duration": 4,
    "start_time": "2021-12-29T10:20:54.162Z"
   },
   {
    "duration": 8,
    "start_time": "2021-12-29T10:20:54.168Z"
   },
   {
    "duration": 7,
    "start_time": "2021-12-29T10:20:54.178Z"
   },
   {
    "duration": 47,
    "start_time": "2021-12-29T10:20:54.187Z"
   },
   {
    "duration": 775,
    "start_time": "2021-12-29T10:20:54.238Z"
   },
   {
    "duration": 4,
    "start_time": "2021-12-29T10:20:55.015Z"
   },
   {
    "duration": 560,
    "start_time": "2021-12-29T10:20:55.020Z"
   },
   {
    "duration": 3,
    "start_time": "2021-12-29T10:35:32.240Z"
   },
   {
    "duration": 737,
    "start_time": "2021-12-29T10:35:38.233Z"
   },
   {
    "duration": 4,
    "start_time": "2021-12-29T10:35:44.037Z"
   },
   {
    "duration": 844,
    "start_time": "2021-12-29T10:36:07.872Z"
   },
   {
    "duration": 3,
    "start_time": "2021-12-29T10:36:09.369Z"
   },
   {
    "duration": 3,
    "start_time": "2021-12-29T10:36:55.612Z"
   },
   {
    "duration": 352,
    "start_time": "2021-12-29T10:36:55.617Z"
   },
   {
    "duration": 10,
    "start_time": "2021-12-29T10:36:55.971Z"
   },
   {
    "duration": 13,
    "start_time": "2021-12-29T10:36:55.983Z"
   },
   {
    "duration": 10,
    "start_time": "2021-12-29T10:36:55.997Z"
   },
   {
    "duration": 23,
    "start_time": "2021-12-29T10:36:56.008Z"
   },
   {
    "duration": 7,
    "start_time": "2021-12-29T10:36:56.032Z"
   },
   {
    "duration": 8,
    "start_time": "2021-12-29T10:36:56.041Z"
   },
   {
    "duration": 5,
    "start_time": "2021-12-29T10:36:56.051Z"
   },
   {
    "duration": 12,
    "start_time": "2021-12-29T10:36:56.058Z"
   },
   {
    "duration": 11,
    "start_time": "2021-12-29T10:36:56.072Z"
   },
   {
    "duration": 11,
    "start_time": "2021-12-29T10:36:56.084Z"
   },
   {
    "duration": 39,
    "start_time": "2021-12-29T10:36:56.097Z"
   },
   {
    "duration": 90,
    "start_time": "2021-12-29T10:36:56.138Z"
   },
   {
    "duration": 100,
    "start_time": "2021-12-29T10:36:56.230Z"
   },
   {
    "duration": 94,
    "start_time": "2021-12-29T10:36:56.333Z"
   },
   {
    "duration": 100,
    "start_time": "2021-12-29T10:36:56.430Z"
   },
   {
    "duration": 4,
    "start_time": "2021-12-29T10:36:56.531Z"
   },
   {
    "duration": 7,
    "start_time": "2021-12-29T10:36:56.536Z"
   },
   {
    "duration": 5,
    "start_time": "2021-12-29T10:36:56.544Z"
   },
   {
    "duration": 6,
    "start_time": "2021-12-29T10:36:56.551Z"
   },
   {
    "duration": 8,
    "start_time": "2021-12-29T10:36:56.559Z"
   },
   {
    "duration": 5,
    "start_time": "2021-12-29T10:36:56.568Z"
   },
   {
    "duration": 9,
    "start_time": "2021-12-29T10:36:56.575Z"
   },
   {
    "duration": 6,
    "start_time": "2021-12-29T10:36:56.585Z"
   },
   {
    "duration": 37,
    "start_time": "2021-12-29T10:36:56.592Z"
   },
   {
    "duration": 757,
    "start_time": "2021-12-29T10:36:56.632Z"
   },
   {
    "duration": 3,
    "start_time": "2021-12-29T10:36:57.391Z"
   },
   {
    "duration": 755,
    "start_time": "2021-12-29T10:36:57.396Z"
   },
   {
    "duration": 4,
    "start_time": "2021-12-29T10:36:58.152Z"
   },
   {
    "duration": 551,
    "start_time": "2021-12-29T10:36:58.158Z"
   },
   {
    "duration": 767,
    "start_time": "2021-12-29T10:37:31.641Z"
   },
   {
    "duration": 4,
    "start_time": "2021-12-29T10:37:32.410Z"
   },
   {
    "duration": 747,
    "start_time": "2021-12-29T10:38:57.326Z"
   },
   {
    "duration": 3,
    "start_time": "2021-12-29T10:38:59.086Z"
   },
   {
    "duration": 2,
    "start_time": "2021-12-29T17:14:08.358Z"
   },
   {
    "duration": 341,
    "start_time": "2021-12-29T17:14:08.362Z"
   },
   {
    "duration": 11,
    "start_time": "2021-12-29T17:14:08.705Z"
   },
   {
    "duration": 17,
    "start_time": "2021-12-29T17:14:08.718Z"
   },
   {
    "duration": 12,
    "start_time": "2021-12-29T17:14:08.737Z"
   },
   {
    "duration": 12,
    "start_time": "2021-12-29T17:14:08.750Z"
   },
   {
    "duration": 6,
    "start_time": "2021-12-29T17:14:08.764Z"
   },
   {
    "duration": 5,
    "start_time": "2021-12-29T17:14:08.772Z"
   },
   {
    "duration": 6,
    "start_time": "2021-12-29T17:14:08.779Z"
   },
   {
    "duration": 14,
    "start_time": "2021-12-29T17:14:08.786Z"
   },
   {
    "duration": 38,
    "start_time": "2021-12-29T17:14:08.802Z"
   },
   {
    "duration": 12,
    "start_time": "2021-12-29T17:14:08.841Z"
   },
   {
    "duration": 75,
    "start_time": "2021-12-29T17:14:08.855Z"
   },
   {
    "duration": 96,
    "start_time": "2021-12-29T17:14:08.932Z"
   },
   {
    "duration": 198,
    "start_time": "2021-12-29T17:14:09.031Z"
   },
   {
    "duration": 9,
    "start_time": "2021-12-29T17:14:09.232Z"
   },
   {
    "duration": 9,
    "start_time": "2021-12-29T17:14:09.329Z"
   },
   {
    "duration": 5,
    "start_time": "2021-12-29T17:14:09.428Z"
   },
   {
    "duration": 5,
    "start_time": "2021-12-29T17:14:09.436Z"
   },
   {
    "duration": 4,
    "start_time": "2021-12-29T17:14:09.443Z"
   },
   {
    "duration": 5,
    "start_time": "2021-12-29T17:14:09.449Z"
   },
   {
    "duration": 3,
    "start_time": "2021-12-29T17:14:09.456Z"
   },
   {
    "duration": 5,
    "start_time": "2021-12-29T17:14:09.460Z"
   },
   {
    "duration": 484,
    "start_time": "2021-12-29T17:14:09.467Z"
   },
   {
    "duration": -21,
    "start_time": "2021-12-29T17:14:09.974Z"
   },
   {
    "duration": -22,
    "start_time": "2021-12-29T17:14:09.975Z"
   },
   {
    "duration": -24,
    "start_time": "2021-12-29T17:14:09.978Z"
   },
   {
    "duration": -31,
    "start_time": "2021-12-29T17:14:09.986Z"
   },
   {
    "duration": -31,
    "start_time": "2021-12-29T17:14:09.988Z"
   },
   {
    "duration": -33,
    "start_time": "2021-12-29T17:14:09.990Z"
   },
   {
    "duration": -33,
    "start_time": "2021-12-29T17:14:09.991Z"
   },
   {
    "duration": -33,
    "start_time": "2021-12-29T17:14:09.992Z"
   },
   {
    "duration": 3,
    "start_time": "2021-12-29T17:14:44.126Z"
   },
   {
    "duration": 439,
    "start_time": "2021-12-29T17:14:44.131Z"
   },
   {
    "duration": 10,
    "start_time": "2021-12-29T17:14:44.572Z"
   },
   {
    "duration": 10,
    "start_time": "2021-12-29T17:14:44.584Z"
   },
   {
    "duration": 10,
    "start_time": "2021-12-29T17:14:44.596Z"
   },
   {
    "duration": 24,
    "start_time": "2021-12-29T17:14:44.608Z"
   },
   {
    "duration": 6,
    "start_time": "2021-12-29T17:14:44.634Z"
   },
   {
    "duration": 6,
    "start_time": "2021-12-29T17:14:44.642Z"
   },
   {
    "duration": 5,
    "start_time": "2021-12-29T17:14:44.650Z"
   },
   {
    "duration": 26,
    "start_time": "2021-12-29T17:14:44.657Z"
   },
   {
    "duration": 19,
    "start_time": "2021-12-29T17:14:44.685Z"
   },
   {
    "duration": 37,
    "start_time": "2021-12-29T17:14:44.706Z"
   },
   {
    "duration": 20,
    "start_time": "2021-12-29T17:14:44.745Z"
   },
   {
    "duration": 100,
    "start_time": "2021-12-29T17:14:44.828Z"
   },
   {
    "duration": 12,
    "start_time": "2021-12-29T17:14:44.930Z"
   },
   {
    "duration": 9,
    "start_time": "2021-12-29T17:14:45.028Z"
   },
   {
    "duration": 5,
    "start_time": "2021-12-29T17:14:45.128Z"
   },
   {
    "duration": 4,
    "start_time": "2021-12-29T17:14:45.134Z"
   },
   {
    "duration": 5,
    "start_time": "2021-12-29T17:14:45.139Z"
   },
   {
    "duration": 4,
    "start_time": "2021-12-29T17:14:45.146Z"
   },
   {
    "duration": 5,
    "start_time": "2021-12-29T17:14:45.151Z"
   },
   {
    "duration": 3,
    "start_time": "2021-12-29T17:14:45.157Z"
   },
   {
    "duration": 6,
    "start_time": "2021-12-29T17:14:45.161Z"
   },
   {
    "duration": 532,
    "start_time": "2021-12-29T17:14:45.168Z"
   },
   {
    "duration": 13,
    "start_time": "2021-12-29T17:14:45.689Z"
   },
   {
    "duration": 11,
    "start_time": "2021-12-29T17:14:45.691Z"
   },
   {
    "duration": 9,
    "start_time": "2021-12-29T17:14:45.694Z"
   },
   {
    "duration": 8,
    "start_time": "2021-12-29T17:14:45.696Z"
   },
   {
    "duration": 8,
    "start_time": "2021-12-29T17:14:45.697Z"
   },
   {
    "duration": 6,
    "start_time": "2021-12-29T17:14:45.700Z"
   },
   {
    "duration": 5,
    "start_time": "2021-12-29T17:14:45.702Z"
   },
   {
    "duration": 2,
    "start_time": "2021-12-29T17:14:45.706Z"
   },
   {
    "duration": 3,
    "start_time": "2021-12-29T17:14:54.696Z"
   },
   {
    "duration": 329,
    "start_time": "2021-12-29T17:14:55.562Z"
   },
   {
    "duration": 10,
    "start_time": "2021-12-29T17:14:56.019Z"
   },
   {
    "duration": 11,
    "start_time": "2021-12-29T17:14:56.236Z"
   },
   {
    "duration": 11,
    "start_time": "2021-12-29T17:14:56.469Z"
   },
   {
    "duration": 11,
    "start_time": "2021-12-29T17:14:56.982Z"
   },
   {
    "duration": 5,
    "start_time": "2021-12-29T17:14:58.212Z"
   },
   {
    "duration": 4,
    "start_time": "2021-12-29T17:14:58.454Z"
   },
   {
    "duration": 4,
    "start_time": "2021-12-29T17:14:58.745Z"
   },
   {
    "duration": 13,
    "start_time": "2021-12-29T17:14:58.985Z"
   },
   {
    "duration": 12,
    "start_time": "2021-12-29T17:14:59.329Z"
   },
   {
    "duration": 12,
    "start_time": "2021-12-29T17:14:59.552Z"
   },
   {
    "duration": 10,
    "start_time": "2021-12-29T17:15:00.376Z"
   },
   {
    "duration": 10,
    "start_time": "2021-12-29T17:15:00.987Z"
   },
   {
    "duration": 10,
    "start_time": "2021-12-29T17:15:01.533Z"
   },
   {
    "duration": 3,
    "start_time": "2021-12-29T17:15:04.141Z"
   },
   {
    "duration": 5,
    "start_time": "2021-12-29T17:15:06.548Z"
   },
   {
    "duration": 4,
    "start_time": "2021-12-29T17:15:07.490Z"
   },
   {
    "duration": 5,
    "start_time": "2021-12-29T17:15:07.721Z"
   },
   {
    "duration": 4,
    "start_time": "2021-12-29T17:15:08.432Z"
   },
   {
    "duration": 4,
    "start_time": "2021-12-29T17:15:09.072Z"
   },
   {
    "duration": 2,
    "start_time": "2021-12-29T17:15:12.100Z"
   },
   {
    "duration": 3,
    "start_time": "2021-12-29T17:15:14.222Z"
   },
   {
    "duration": 519,
    "start_time": "2021-12-29T17:15:18.080Z"
   },
   {
    "duration": 4,
    "start_time": "2021-12-29T17:15:41.202Z"
   },
   {
    "duration": 7,
    "start_time": "2021-12-29T17:19:48.438Z"
   },
   {
    "duration": 472,
    "start_time": "2021-12-29T17:20:19.624Z"
   },
   {
    "duration": 7,
    "start_time": "2021-12-29T17:20:30.490Z"
   },
   {
    "duration": 6,
    "start_time": "2021-12-29T17:20:38.797Z"
   },
   {
    "duration": 6,
    "start_time": "2021-12-29T17:23:49.559Z"
   },
   {
    "duration": 8,
    "start_time": "2021-12-29T17:23:54.030Z"
   },
   {
    "duration": 5,
    "start_time": "2021-12-29T17:24:27.487Z"
   },
   {
    "duration": 319,
    "start_time": "2021-12-29T17:35:53.453Z"
   },
   {
    "duration": 288,
    "start_time": "2021-12-29T17:37:49.035Z"
   },
   {
    "duration": 1097,
    "start_time": "2021-12-29T17:39:04.426Z"
   },
   {
    "duration": 113,
    "start_time": "2021-12-29T17:48:58.007Z"
   },
   {
    "duration": 1185,
    "start_time": "2021-12-29T17:56:59.309Z"
   },
   {
    "duration": 1517,
    "start_time": "2021-12-29T17:57:13.523Z"
   },
   {
    "duration": 1103,
    "start_time": "2021-12-29T17:57:49.476Z"
   },
   {
    "duration": 301,
    "start_time": "2021-12-29T18:17:42.226Z"
   },
   {
    "duration": 1769,
    "start_time": "2021-12-29T18:19:43.730Z"
   },
   {
    "duration": 878,
    "start_time": "2021-12-29T18:20:14.926Z"
   },
   {
    "duration": 1714,
    "start_time": "2021-12-29T18:20:30.102Z"
   },
   {
    "duration": 1705,
    "start_time": "2021-12-29T18:20:41.496Z"
   },
   {
    "duration": 1802,
    "start_time": "2021-12-29T18:22:57.799Z"
   },
   {
    "duration": 11,
    "start_time": "2021-12-29T18:23:03.291Z"
   },
   {
    "duration": 4,
    "start_time": "2021-12-29T18:25:30.817Z"
   },
   {
    "duration": 4,
    "start_time": "2021-12-29T18:39:59.168Z"
   },
   {
    "duration": 1149,
    "start_time": "2022-01-10T09:00:03.593Z"
   },
   {
    "duration": 5120,
    "start_time": "2022-01-10T09:00:04.744Z"
   },
   {
    "duration": 16,
    "start_time": "2022-01-10T09:00:09.866Z"
   },
   {
    "duration": 10,
    "start_time": "2022-01-10T09:00:09.884Z"
   },
   {
    "duration": 10,
    "start_time": "2022-01-10T09:00:09.895Z"
   },
   {
    "duration": 27,
    "start_time": "2022-01-10T09:00:09.907Z"
   },
   {
    "duration": 6,
    "start_time": "2022-01-10T09:00:09.936Z"
   },
   {
    "duration": 9,
    "start_time": "2022-01-10T09:00:09.944Z"
   },
   {
    "duration": 7,
    "start_time": "2022-01-10T09:00:09.955Z"
   },
   {
    "duration": 17,
    "start_time": "2022-01-10T09:00:09.964Z"
   },
   {
    "duration": 15,
    "start_time": "2022-01-10T09:00:09.983Z"
   },
   {
    "duration": 37,
    "start_time": "2022-01-10T09:00:10.000Z"
   },
   {
    "duration": 89,
    "start_time": "2022-01-10T09:00:10.039Z"
   },
   {
    "duration": 102,
    "start_time": "2022-01-10T09:00:10.130Z"
   },
   {
    "duration": 194,
    "start_time": "2022-01-10T09:00:10.234Z"
   },
   {
    "duration": 5,
    "start_time": "2022-01-10T09:00:10.430Z"
   },
   {
    "duration": 102,
    "start_time": "2022-01-10T09:00:10.437Z"
   },
   {
    "duration": 87,
    "start_time": "2022-01-10T09:00:10.541Z"
   },
   {
    "duration": 4,
    "start_time": "2022-01-10T09:00:10.630Z"
   },
   {
    "duration": 9,
    "start_time": "2022-01-10T09:00:10.636Z"
   },
   {
    "duration": 24,
    "start_time": "2022-01-10T09:00:10.646Z"
   },
   {
    "duration": 15,
    "start_time": "2022-01-10T09:00:10.672Z"
   },
   {
    "duration": 5,
    "start_time": "2022-01-10T09:00:10.688Z"
   },
   {
    "duration": 6,
    "start_time": "2022-01-10T09:00:10.694Z"
   },
   {
    "duration": 8,
    "start_time": "2022-01-10T09:00:10.702Z"
   },
   {
    "duration": 6,
    "start_time": "2022-01-10T09:00:10.711Z"
   },
   {
    "duration": 4,
    "start_time": "2022-01-10T09:00:10.729Z"
   },
   {
    "duration": 816,
    "start_time": "2022-01-10T09:00:10.735Z"
   },
   {
    "duration": 3,
    "start_time": "2022-01-10T09:00:11.553Z"
   },
   {
    "duration": 5,
    "start_time": "2022-01-10T09:00:11.558Z"
   },
   {
    "duration": 6,
    "start_time": "2022-01-10T09:00:11.565Z"
   },
   {
    "duration": 721,
    "start_time": "2022-01-10T09:00:11.572Z"
   },
   {
    "duration": 3,
    "start_time": "2022-01-10T09:00:12.295Z"
   },
   {
    "duration": 707,
    "start_time": "2022-01-10T09:00:12.300Z"
   },
   {
    "duration": 3,
    "start_time": "2022-01-10T09:00:13.008Z"
   },
   {
    "duration": 975,
    "start_time": "2022-01-11T08:54:14.695Z"
   },
   {
    "duration": 1480,
    "start_time": "2022-01-11T08:54:18.606Z"
   },
   {
    "duration": 462,
    "start_time": "2022-01-11T08:54:20.089Z"
   },
   {
    "duration": 31,
    "start_time": "2022-01-11T08:54:20.554Z"
   },
   {
    "duration": 15,
    "start_time": "2022-01-11T08:54:20.588Z"
   },
   {
    "duration": 16,
    "start_time": "2022-01-11T08:54:20.606Z"
   },
   {
    "duration": 52,
    "start_time": "2022-01-11T08:54:20.624Z"
   },
   {
    "duration": 11,
    "start_time": "2022-01-11T08:54:20.679Z"
   },
   {
    "duration": 10,
    "start_time": "2022-01-11T08:54:20.693Z"
   },
   {
    "duration": 10,
    "start_time": "2022-01-11T08:54:20.707Z"
   },
   {
    "duration": 43,
    "start_time": "2022-01-11T08:54:20.721Z"
   },
   {
    "duration": 21,
    "start_time": "2022-01-11T08:54:20.767Z"
   },
   {
    "duration": 21,
    "start_time": "2022-01-11T08:54:20.791Z"
   },
   {
    "duration": 62,
    "start_time": "2022-01-11T08:54:20.815Z"
   },
   {
    "duration": 102,
    "start_time": "2022-01-11T08:54:20.964Z"
   },
   {
    "duration": 194,
    "start_time": "2022-01-11T08:54:21.070Z"
   },
   {
    "duration": 3,
    "start_time": "2022-01-11T08:54:21.268Z"
   },
   {
    "duration": 9,
    "start_time": "2022-01-11T08:54:21.364Z"
   },
   {
    "duration": 89,
    "start_time": "2022-01-11T08:54:21.375Z"
   },
   {
    "duration": 5,
    "start_time": "2022-01-11T08:54:21.466Z"
   },
   {
    "duration": 8,
    "start_time": "2022-01-11T08:54:21.474Z"
   },
   {
    "duration": 5,
    "start_time": "2022-01-11T08:54:21.485Z"
   },
   {
    "duration": 7,
    "start_time": "2022-01-11T08:54:21.492Z"
   },
   {
    "duration": 4,
    "start_time": "2022-01-11T08:54:21.501Z"
   },
   {
    "duration": 5,
    "start_time": "2022-01-11T08:54:21.563Z"
   },
   {
    "duration": 310,
    "start_time": "2022-01-11T08:54:21.571Z"
   },
   {
    "duration": 2,
    "start_time": "2022-01-11T08:54:21.881Z"
   },
   {
    "duration": -13,
    "start_time": "2022-01-11T08:54:21.898Z"
   },
   {
    "duration": -15,
    "start_time": "2022-01-11T08:54:21.902Z"
   },
   {
    "duration": -16,
    "start_time": "2022-01-11T08:54:21.904Z"
   },
   {
    "duration": -16,
    "start_time": "2022-01-11T08:54:21.906Z"
   },
   {
    "duration": -16,
    "start_time": "2022-01-11T08:54:21.907Z"
   },
   {
    "duration": -18,
    "start_time": "2022-01-11T08:54:21.910Z"
   },
   {
    "duration": -18,
    "start_time": "2022-01-11T08:54:21.912Z"
   },
   {
    "duration": -18,
    "start_time": "2022-01-11T08:54:21.913Z"
   },
   {
    "duration": -19,
    "start_time": "2022-01-11T08:54:21.915Z"
   },
   {
    "duration": -34,
    "start_time": "2022-01-11T08:54:21.932Z"
   },
   {
    "duration": 13,
    "start_time": "2022-01-11T08:55:48.513Z"
   },
   {
    "duration": 15,
    "start_time": "2022-01-11T09:20:30.139Z"
   },
   {
    "duration": 14,
    "start_time": "2022-01-11T09:21:06.254Z"
   },
   {
    "duration": 18,
    "start_time": "2022-01-11T09:22:26.439Z"
   },
   {
    "duration": 15,
    "start_time": "2022-01-11T09:22:56.524Z"
   },
   {
    "duration": 19,
    "start_time": "2022-01-11T09:23:57.707Z"
   },
   {
    "duration": 13,
    "start_time": "2022-01-11T09:24:56.970Z"
   },
   {
    "duration": 13,
    "start_time": "2022-01-11T09:25:07.168Z"
   },
   {
    "duration": 16,
    "start_time": "2022-01-11T09:33:48.351Z"
   },
   {
    "duration": 15,
    "start_time": "2022-01-11T09:34:07.678Z"
   },
   {
    "duration": 15,
    "start_time": "2022-01-11T09:41:20.518Z"
   },
   {
    "duration": 13,
    "start_time": "2022-01-11T09:41:23.644Z"
   },
   {
    "duration": 14,
    "start_time": "2022-01-11T09:41:29.530Z"
   },
   {
    "duration": 16,
    "start_time": "2022-01-11T09:41:40.828Z"
   },
   {
    "duration": 1029,
    "start_time": "2022-01-12T11:26:43.122Z"
   },
   {
    "duration": 4887,
    "start_time": "2022-01-12T11:26:44.153Z"
   },
   {
    "duration": 17,
    "start_time": "2022-01-12T11:26:49.042Z"
   },
   {
    "duration": 10,
    "start_time": "2022-01-12T11:26:49.061Z"
   },
   {
    "duration": 12,
    "start_time": "2022-01-12T11:26:49.072Z"
   },
   {
    "duration": 17,
    "start_time": "2022-01-12T11:26:49.086Z"
   },
   {
    "duration": 7,
    "start_time": "2022-01-12T11:26:49.104Z"
   },
   {
    "duration": 6,
    "start_time": "2022-01-12T11:26:49.113Z"
   },
   {
    "duration": 6,
    "start_time": "2022-01-12T11:26:49.121Z"
   },
   {
    "duration": 16,
    "start_time": "2022-01-12T11:26:49.128Z"
   },
   {
    "duration": 14,
    "start_time": "2022-01-12T11:26:49.146Z"
   },
   {
    "duration": 39,
    "start_time": "2022-01-12T11:26:49.162Z"
   },
   {
    "duration": 34,
    "start_time": "2022-01-12T11:26:49.203Z"
   },
   {
    "duration": 160,
    "start_time": "2022-01-12T11:26:49.239Z"
   },
   {
    "duration": 115,
    "start_time": "2022-01-12T11:26:49.402Z"
   },
   {
    "duration": 5,
    "start_time": "2022-01-12T11:26:49.520Z"
   },
   {
    "duration": 102,
    "start_time": "2022-01-12T11:26:49.599Z"
   },
   {
    "duration": 4,
    "start_time": "2022-01-12T11:26:49.702Z"
   },
   {
    "duration": 10,
    "start_time": "2022-01-12T11:26:49.707Z"
   },
   {
    "duration": 4,
    "start_time": "2022-01-12T11:26:49.718Z"
   },
   {
    "duration": 7,
    "start_time": "2022-01-12T11:26:49.724Z"
   },
   {
    "duration": 4,
    "start_time": "2022-01-12T11:26:49.733Z"
   },
   {
    "duration": 14,
    "start_time": "2022-01-12T11:26:49.740Z"
   },
   {
    "duration": 11,
    "start_time": "2022-01-12T11:26:49.756Z"
   },
   {
    "duration": 36,
    "start_time": "2022-01-12T11:26:49.769Z"
   },
   {
    "duration": 8,
    "start_time": "2022-01-12T11:26:49.806Z"
   },
   {
    "duration": 8,
    "start_time": "2022-01-12T11:26:49.816Z"
   },
   {
    "duration": 732,
    "start_time": "2022-01-12T11:26:49.826Z"
   },
   {
    "duration": -112,
    "start_time": "2022-01-12T11:26:50.672Z"
   },
   {
    "duration": -113,
    "start_time": "2022-01-12T11:26:50.674Z"
   },
   {
    "duration": -115,
    "start_time": "2022-01-12T11:26:50.677Z"
   },
   {
    "duration": -116,
    "start_time": "2022-01-12T11:26:50.679Z"
   },
   {
    "duration": -117,
    "start_time": "2022-01-12T11:26:50.681Z"
   },
   {
    "duration": -118,
    "start_time": "2022-01-12T11:26:50.683Z"
   },
   {
    "duration": -119,
    "start_time": "2022-01-12T11:26:50.685Z"
   },
   {
    "duration": 12,
    "start_time": "2022-01-12T11:27:18.659Z"
   },
   {
    "duration": 11,
    "start_time": "2022-01-12T11:28:10.314Z"
   },
   {
    "duration": 9,
    "start_time": "2022-01-12T11:29:08.974Z"
   },
   {
    "duration": 10,
    "start_time": "2022-01-12T11:29:29.516Z"
   },
   {
    "duration": 13,
    "start_time": "2022-01-12T11:30:03.891Z"
   },
   {
    "duration": 13,
    "start_time": "2022-01-12T11:31:21.042Z"
   },
   {
    "duration": 9,
    "start_time": "2022-01-12T11:32:50.867Z"
   },
   {
    "duration": 9,
    "start_time": "2022-01-12T11:32:54.905Z"
   },
   {
    "duration": 11,
    "start_time": "2022-01-12T11:37:28.401Z"
   },
   {
    "duration": 11,
    "start_time": "2022-01-12T11:37:39.041Z"
   },
   {
    "duration": 10,
    "start_time": "2022-01-12T11:38:22.068Z"
   },
   {
    "duration": 9,
    "start_time": "2022-01-12T11:38:38.211Z"
   },
   {
    "duration": 4,
    "start_time": "2022-01-12T11:38:42.440Z"
   },
   {
    "duration": 9,
    "start_time": "2022-01-12T11:39:00.405Z"
   },
   {
    "duration": 10,
    "start_time": "2022-01-12T11:39:21.888Z"
   },
   {
    "duration": 9,
    "start_time": "2022-01-12T11:40:29.400Z"
   },
   {
    "duration": 10,
    "start_time": "2022-01-12T11:40:52.123Z"
   },
   {
    "duration": 9,
    "start_time": "2022-01-12T14:04:33.848Z"
   },
   {
    "duration": 8,
    "start_time": "2022-01-12T14:04:35.257Z"
   },
   {
    "duration": 9,
    "start_time": "2022-01-12T14:04:35.783Z"
   },
   {
    "duration": 8,
    "start_time": "2022-01-12T14:05:40.134Z"
   },
   {
    "duration": 9,
    "start_time": "2022-01-12T14:05:40.649Z"
   },
   {
    "duration": 9,
    "start_time": "2022-01-12T14:05:47.713Z"
   },
   {
    "duration": 9,
    "start_time": "2022-01-12T14:06:27.001Z"
   },
   {
    "duration": 11,
    "start_time": "2022-01-12T14:06:49.978Z"
   },
   {
    "duration": 13,
    "start_time": "2022-01-12T14:06:50.473Z"
   },
   {
    "duration": 9,
    "start_time": "2022-01-12T14:06:59.672Z"
   },
   {
    "duration": 9,
    "start_time": "2022-01-12T14:07:09.048Z"
   },
   {
    "duration": 4,
    "start_time": "2022-01-12T14:10:34.245Z"
   },
   {
    "duration": 3,
    "start_time": "2022-01-12T14:15:16.047Z"
   },
   {
    "duration": 216,
    "start_time": "2022-01-12T14:16:28.086Z"
   },
   {
    "duration": 646,
    "start_time": "2022-01-12T14:16:42.912Z"
   },
   {
    "duration": 719,
    "start_time": "2022-01-12T14:17:08.904Z"
   },
   {
    "duration": 7,
    "start_time": "2022-01-12T14:17:20.037Z"
   },
   {
    "duration": 5,
    "start_time": "2022-01-12T14:17:20.673Z"
   },
   {
    "duration": 3660,
    "start_time": "2022-01-12T14:17:21.498Z"
   },
   {
    "duration": 4,
    "start_time": "2022-01-12T14:17:55.655Z"
   },
   {
    "duration": 3,
    "start_time": "2022-01-12T14:17:56.241Z"
   },
   {
    "duration": 3625,
    "start_time": "2022-01-12T14:17:59.037Z"
   },
   {
    "duration": 3,
    "start_time": "2022-01-12T14:19:08.193Z"
   },
   {
    "duration": 3533,
    "start_time": "2022-01-12T14:19:10.445Z"
   },
   {
    "duration": 3,
    "start_time": "2022-01-12T14:20:15.093Z"
   },
   {
    "duration": 4,
    "start_time": "2022-01-12T14:20:21.350Z"
   },
   {
    "duration": 3611,
    "start_time": "2022-01-12T14:20:22.140Z"
   },
   {
    "duration": 5,
    "start_time": "2022-01-12T14:21:45.561Z"
   },
   {
    "duration": 4,
    "start_time": "2022-01-12T14:21:55.665Z"
   },
   {
    "duration": 3717,
    "start_time": "2022-01-12T14:21:56.888Z"
   },
   {
    "duration": 3,
    "start_time": "2022-01-12T14:22:23.805Z"
   },
   {
    "duration": 3702,
    "start_time": "2022-01-12T14:22:24.805Z"
   },
   {
    "duration": 4,
    "start_time": "2022-01-12T14:25:16.441Z"
   },
   {
    "duration": 3535,
    "start_time": "2022-01-12T14:25:18.625Z"
   },
   {
    "duration": 4,
    "start_time": "2022-01-12T14:30:27.983Z"
   },
   {
    "duration": 3139,
    "start_time": "2022-01-12T14:30:29.337Z"
   },
   {
    "duration": 3133,
    "start_time": "2022-01-12T14:31:01.924Z"
   },
   {
    "duration": 2054,
    "start_time": "2022-01-12T14:31:08.729Z"
   },
   {
    "duration": 4,
    "start_time": "2022-01-12T14:33:12.478Z"
   },
   {
    "duration": 2988,
    "start_time": "2022-01-12T14:33:14.005Z"
   },
   {
    "duration": 5,
    "start_time": "2022-01-12T14:34:51.921Z"
   },
   {
    "duration": 3,
    "start_time": "2022-01-12T14:34:52.420Z"
   },
   {
    "duration": 3484,
    "start_time": "2022-01-12T14:34:52.923Z"
   },
   {
    "duration": 4,
    "start_time": "2022-01-12T14:36:42.836Z"
   },
   {
    "duration": 4,
    "start_time": "2022-01-12T14:36:43.289Z"
   },
   {
    "duration": 3642,
    "start_time": "2022-01-12T14:36:43.935Z"
   },
   {
    "duration": 3,
    "start_time": "2022-01-12T14:37:58.154Z"
   },
   {
    "duration": 3764,
    "start_time": "2022-01-12T14:38:00.758Z"
   },
   {
    "duration": 4,
    "start_time": "2022-01-12T14:38:09.000Z"
   },
   {
    "duration": 4,
    "start_time": "2022-01-12T14:38:09.188Z"
   },
   {
    "duration": 3981,
    "start_time": "2022-01-12T14:38:09.573Z"
   },
   {
    "duration": 3,
    "start_time": "2022-01-12T14:38:41.448Z"
   },
   {
    "duration": 3374,
    "start_time": "2022-01-12T14:38:43.502Z"
   },
   {
    "duration": 4,
    "start_time": "2022-01-12T14:39:31.689Z"
   },
   {
    "duration": 3447,
    "start_time": "2022-01-12T14:39:33.731Z"
   },
   {
    "duration": 5,
    "start_time": "2022-01-12T14:40:55.099Z"
   },
   {
    "duration": 3064,
    "start_time": "2022-01-12T14:40:56.156Z"
   },
   {
    "duration": 2105,
    "start_time": "2022-01-12T14:41:04.123Z"
   },
   {
    "duration": 2167,
    "start_time": "2022-01-12T14:42:45.624Z"
   }
  ],
  "kernelspec": {
   "display_name": "Python 3 (ipykernel)",
   "language": "python",
   "name": "python3"
  },
  "language_info": {
   "codemirror_mode": {
    "name": "ipython",
    "version": 3
   },
   "file_extension": ".py",
   "mimetype": "text/x-python",
   "name": "python",
   "nbconvert_exporter": "python",
   "pygments_lexer": "ipython3",
   "version": "3.9.7"
  },
  "toc": {
   "base_numbering": 1,
   "nav_menu": {},
   "number_sections": true,
   "sideBar": true,
   "skip_h1_title": true,
   "title_cell": "Table of Contents",
   "title_sidebar": "Contents",
   "toc_cell": false,
   "toc_position": {},
   "toc_section_display": true,
   "toc_window_display": false
  }
 },
 "nbformat": 4,
 "nbformat_minor": 2
}
