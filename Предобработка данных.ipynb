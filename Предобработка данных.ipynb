{
 "cells": [
  {
   "cell_type": "markdown",
   "metadata": {},
   "source": [
    "Привет, Антон !\n",
    "\n",
    "Меня зовут Миша, я буду ревьюером твоей работы. Давай будем общаться на \"ты\".\n",
    "\n",
    "Работа начата хорошо, но не завершена. Однако уже есть несколько моментов, которые следует исправить.  \n",
    "\n",
    "Пожалуйста, не перемещай, не изменяй и не удаляй мои комментарии. Они помогут мне выполнить повторную проверку твоего проекта быстрее.\n",
    "\n",
    "Жду обновлённой версии проекта!\n",
    "\n",
    "Мои комменатрии выделены разными цветами:\n",
    "\n",
    "<div class=\"alert alert-danger\">\n",
    "Красным цветом выделены недочёты, на которые обязательно нужно обратить внимание. Их следует исправить в твоей работе. После их доработки проект будет принят.\n",
    "</div>\n",
    "\n",
    "<div class=\"alert alert-warning\">\n",
    "Оранжевым цветом выделено то, что в следующий раз можно сделать по-другому. Ты можешь учесть эти комментарии при выполнении будущих заданий или доработать проект сейчас (однако это не обязательно).\n",
    "</div>\n",
    "\n",
    "<div class=\"alert alert-success\">\n",
    "Зеленым цветом отмечены удачные и элегантные решения, на которые можно опираться в будущих проектах.</div>\n",
    "\n",
    "Предлагаю тебе работать в диалоге, поэтому если ты что-то меняешь в проекте по моим рекомендациям — пиши об этом в своих комментариях.\n",
    "<div class=\"alert alert-info\">\n",
    "Комментарий студента выделяется синим цветом. </div>"
   ]
  },
  {
   "cell_type": "markdown",
   "metadata": {},
   "source": [
    "# Исследование надёжности заёмщиков\n",
    "\n",
    "Заказчик — кредитный отдел банка. Нужно разобраться, влияет ли семейное положение и количество детей клиента на факт погашения кредита в срок. Входные данные от банка — статистика о платёжеспособности клиентов.\n",
    "\n",
    "Результаты исследования будут учтены при построении модели **кредитного скоринга** — специальной системы, которая оценивает способность потенциального заёмщика вернуть кредит банку."
   ]
  },
  {
   "cell_type": "markdown",
   "metadata": {},
   "source": [
    "## Шаг 1. Откройте файл с данными и изучите общую информацию"
   ]
  },
  {
   "cell_type": "code",
   "execution_count": 1,
   "metadata": {},
   "outputs": [
    {
     "data": {
      "text/html": [
       "<div>\n",
       "<style scoped>\n",
       "    .dataframe tbody tr th:only-of-type {\n",
       "        vertical-align: middle;\n",
       "    }\n",
       "\n",
       "    .dataframe tbody tr th {\n",
       "        vertical-align: top;\n",
       "    }\n",
       "\n",
       "    .dataframe thead th {\n",
       "        text-align: right;\n",
       "    }\n",
       "</style>\n",
       "<table border=\"1\" class=\"dataframe\">\n",
       "  <thead>\n",
       "    <tr style=\"text-align: right;\">\n",
       "      <th></th>\n",
       "      <th>children</th>\n",
       "      <th>days_employed</th>\n",
       "      <th>dob_years</th>\n",
       "      <th>education_id</th>\n",
       "      <th>family_status_id</th>\n",
       "      <th>debt</th>\n",
       "      <th>total_income</th>\n",
       "    </tr>\n",
       "  </thead>\n",
       "  <tbody>\n",
       "    <tr>\n",
       "      <td>count</td>\n",
       "      <td>21525.000000</td>\n",
       "      <td>19351.000000</td>\n",
       "      <td>21525.000000</td>\n",
       "      <td>21525.000000</td>\n",
       "      <td>21525.000000</td>\n",
       "      <td>21525.000000</td>\n",
       "      <td>1.935100e+04</td>\n",
       "    </tr>\n",
       "    <tr>\n",
       "      <td>mean</td>\n",
       "      <td>0.538908</td>\n",
       "      <td>63046.497661</td>\n",
       "      <td>43.293380</td>\n",
       "      <td>0.817236</td>\n",
       "      <td>0.972544</td>\n",
       "      <td>0.080883</td>\n",
       "      <td>1.674223e+05</td>\n",
       "    </tr>\n",
       "    <tr>\n",
       "      <td>std</td>\n",
       "      <td>1.381587</td>\n",
       "      <td>140827.311974</td>\n",
       "      <td>12.574584</td>\n",
       "      <td>0.548138</td>\n",
       "      <td>1.420324</td>\n",
       "      <td>0.272661</td>\n",
       "      <td>1.029716e+05</td>\n",
       "    </tr>\n",
       "    <tr>\n",
       "      <td>min</td>\n",
       "      <td>-1.000000</td>\n",
       "      <td>-18388.949901</td>\n",
       "      <td>0.000000</td>\n",
       "      <td>0.000000</td>\n",
       "      <td>0.000000</td>\n",
       "      <td>0.000000</td>\n",
       "      <td>2.066726e+04</td>\n",
       "    </tr>\n",
       "    <tr>\n",
       "      <td>25%</td>\n",
       "      <td>0.000000</td>\n",
       "      <td>-2747.423625</td>\n",
       "      <td>33.000000</td>\n",
       "      <td>1.000000</td>\n",
       "      <td>0.000000</td>\n",
       "      <td>0.000000</td>\n",
       "      <td>1.030532e+05</td>\n",
       "    </tr>\n",
       "    <tr>\n",
       "      <td>50%</td>\n",
       "      <td>0.000000</td>\n",
       "      <td>-1203.369529</td>\n",
       "      <td>42.000000</td>\n",
       "      <td>1.000000</td>\n",
       "      <td>0.000000</td>\n",
       "      <td>0.000000</td>\n",
       "      <td>1.450179e+05</td>\n",
       "    </tr>\n",
       "    <tr>\n",
       "      <td>75%</td>\n",
       "      <td>1.000000</td>\n",
       "      <td>-291.095954</td>\n",
       "      <td>53.000000</td>\n",
       "      <td>1.000000</td>\n",
       "      <td>1.000000</td>\n",
       "      <td>0.000000</td>\n",
       "      <td>2.034351e+05</td>\n",
       "    </tr>\n",
       "    <tr>\n",
       "      <td>max</td>\n",
       "      <td>20.000000</td>\n",
       "      <td>401755.400475</td>\n",
       "      <td>75.000000</td>\n",
       "      <td>4.000000</td>\n",
       "      <td>4.000000</td>\n",
       "      <td>1.000000</td>\n",
       "      <td>2.265604e+06</td>\n",
       "    </tr>\n",
       "  </tbody>\n",
       "</table>\n",
       "</div>"
      ],
      "text/plain": [
       "           children  days_employed     dob_years  education_id  \\\n",
       "count  21525.000000   19351.000000  21525.000000  21525.000000   \n",
       "mean       0.538908   63046.497661     43.293380      0.817236   \n",
       "std        1.381587  140827.311974     12.574584      0.548138   \n",
       "min       -1.000000  -18388.949901      0.000000      0.000000   \n",
       "25%        0.000000   -2747.423625     33.000000      1.000000   \n",
       "50%        0.000000   -1203.369529     42.000000      1.000000   \n",
       "75%        1.000000    -291.095954     53.000000      1.000000   \n",
       "max       20.000000  401755.400475     75.000000      4.000000   \n",
       "\n",
       "       family_status_id          debt  total_income  \n",
       "count      21525.000000  21525.000000  1.935100e+04  \n",
       "mean           0.972544      0.080883  1.674223e+05  \n",
       "std            1.420324      0.272661  1.029716e+05  \n",
       "min            0.000000      0.000000  2.066726e+04  \n",
       "25%            0.000000      0.000000  1.030532e+05  \n",
       "50%            0.000000      0.000000  1.450179e+05  \n",
       "75%            1.000000      0.000000  2.034351e+05  \n",
       "max            4.000000      1.000000  2.265604e+06  "
      ]
     },
     "execution_count": 1,
     "metadata": {},
     "output_type": "execute_result"
    }
   ],
   "source": [
    "import pandas as pd\n",
    "df = pd.read_csv('/datasets/data.csv')\n",
    "df.head(10)\n",
    "\n",
    "df.describe()"
   ]
  },
  {
   "cell_type": "markdown",
   "metadata": {},
   "source": [
    "<div class=\"alert alert-warning\">\n",
    "<b> Комментарий ревьюера <a class=\"tocSkip\"> </b>\n",
    "\n",
    "Использовать print() для вывода необязательно. Можно просто обратиться к первым строкам датасэта, используя bank.head(). И визуальное отображение даже будет лучше. Рекомендую везде далее в коде внести это исправление."
   ]
  },
  {
   "cell_type": "markdown",
   "metadata": {},
   "source": [
    "<div class=\"alert alert-success\">\n",
    "<b> Комментарий ревьюера <a class=\"tocSkip\"> </b>\n",
    "\n",
    "Можно усилить анализ, используя ещё метод [describe](https://pandas.pydata.org/pandas-docs/stable/reference/api/pandas.DataFrame.describe.html)\n",
    "    \n",
    "А количество пропущенных значений можно посмотреть, например, так:\n",
    "\n",
    "    bank.isna().sum()"
   ]
  },
  {
   "cell_type": "markdown",
   "metadata": {},
   "source": [
    "**Вывод**"
   ]
  },
  {
   "cell_type": "markdown",
   "metadata": {},
   "source": [
    "В файле представлено три таблицы с данными."
   ]
  },
  {
   "cell_type": "markdown",
   "metadata": {},
   "source": [
    "## Шаг 2. Предобработка данных"
   ]
  },
  {
   "cell_type": "markdown",
   "metadata": {},
   "source": [
    "### Обработка пропусков"
   ]
  },
  {
   "cell_type": "code",
   "execution_count": 2,
   "metadata": {},
   "outputs": [
    {
     "name": "stdout",
     "output_type": "stream",
     "text": [
      "children               0\n",
      "days_employed       2174\n",
      "dob_years              0\n",
      "education              0\n",
      "education_id           0\n",
      "family_status          0\n",
      "family_status_id       0\n",
      "gender                 0\n",
      "income_type            0\n",
      "debt                   0\n",
      "total_income        2174\n",
      "purpose                0\n",
      "dtype: int64\n",
      "children            0\n",
      "days_employed       0\n",
      "dob_years           0\n",
      "education           0\n",
      "education_id        0\n",
      "family_status       0\n",
      "family_status_id    0\n",
      "gender              0\n",
      "income_type         0\n",
      "debt                0\n",
      "total_income        0\n",
      "purpose             0\n",
      "dtype: int64\n"
     ]
    }
   ],
   "source": [
    "print(df.isnull().sum())\n",
    "df['days_employed'] = df['days_employed'].fillna(0)\n",
    "df[\"total_income\"] = df.groupby(\"income_type\")['total_income'].transform(lambda x: x.fillna(x.median()))\n",
    "print(df.isnull().sum())"
   ]
  },
  {
   "cell_type": "markdown",
   "metadata": {},
   "source": [
    "<div class=\"alert alert-danger\">\n",
    "<b> Комментарий ревьюера <a class=\"tocSkip\"> </b>\n",
    "\n",
    "Ты почти справился. Можно использовать метод fillna(). И группировать не по доходу (там будет слишком много разных значений), а по виду занятости.\n",
    "    \n",
    "    bank['total_income']= bank['total_income'].fillna(bank.groupby('income_type')['total_income'].transform('median')) "
   ]
  },
  {
   "cell_type": "markdown",
   "metadata": {},
   "source": [
    "<div class=\"alert alert-danger\">\n",
    "<b> Комментарий ревьюера <a class=\"tocSkip\"> </b>\n",
    "\n",
    "Этот код и код дальше у меня не воспроизвёлся. Очевидно, ты не доделал проект до конца. Возможно, по ошибке была направлена не та версия файла.\n",
    "    \n",
    "Жду проект на повторную проверку!\n",
    "    \n",
    "<div class=\"alert alert-info\">\n",
    "Привет Миша. Я так понимаю что я сделал все тут правильно, если коментариев v2 нет? </div>    "
   ]
  },
  {
   "cell_type": "markdown",
   "metadata": {},
   "source": [
    "<div class=\"alert alert-success\">\n",
    "<b> Комментарий ревьюера v3<a class=\"tocSkip\"> </b>\n",
    "\n",
    "Заполнение пропусков получилось хорошим. Я заметил, что ты сделал немного по-своему, но суть та же, замечаний у меня нет. Дни можно заполнить нулями, как это сделал ты. Это допустимое решение.\n",
    "    \n",
    "А по дальнейшему исполнению проекта все замечания я расписал ниже."
   ]
  },
  {
   "cell_type": "markdown",
   "metadata": {},
   "source": [
    "**Вывод**"
   ]
  },
  {
   "cell_type": "markdown",
   "metadata": {},
   "source": [
    "Находим пропуски в столбцах days_employed(трудовой стаж) и total_income(ежемесячный доход). Делаем вывод что количество пропусков совпадает. Нет стажа и работы - нет заработной платы. Находим строку с пропуском, это пенсионеры. Меняем пропуски на 0."
   ]
  },
  {
   "cell_type": "markdown",
   "metadata": {},
   "source": [
    "### Замена типа данных"
   ]
  },
  {
   "cell_type": "code",
   "execution_count": 4,
   "metadata": {},
   "outputs": [
    {
     "name": "stdout",
     "output_type": "stream",
     "text": [
      "<class 'pandas.core.frame.DataFrame'>\n",
      "RangeIndex: 21525 entries, 0 to 21524\n",
      "Data columns (total 12 columns):\n",
      "children            21525 non-null int64\n",
      "days_employed       21525 non-null float64\n",
      "dob_years           21525 non-null int64\n",
      "education           21525 non-null object\n",
      "education_id        21525 non-null int64\n",
      "family_status       21525 non-null object\n",
      "family_status_id    21525 non-null int64\n",
      "gender              21525 non-null object\n",
      "income_type         21525 non-null object\n",
      "debt                21525 non-null int64\n",
      "total_income        21525 non-null float64\n",
      "purpose             21525 non-null object\n",
      "dtypes: float64(2), int64(5), object(5)\n",
      "memory usage: 2.0+ MB\n"
     ]
    },
    {
     "data": {
      "text/html": [
       "<div>\n",
       "<style scoped>\n",
       "    .dataframe tbody tr th:only-of-type {\n",
       "        vertical-align: middle;\n",
       "    }\n",
       "\n",
       "    .dataframe tbody tr th {\n",
       "        vertical-align: top;\n",
       "    }\n",
       "\n",
       "    .dataframe thead th {\n",
       "        text-align: right;\n",
       "    }\n",
       "</style>\n",
       "<table border=\"1\" class=\"dataframe\">\n",
       "  <thead>\n",
       "    <tr style=\"text-align: right;\">\n",
       "      <th></th>\n",
       "      <th>children</th>\n",
       "      <th>days_employed</th>\n",
       "      <th>dob_years</th>\n",
       "      <th>education</th>\n",
       "      <th>education_id</th>\n",
       "      <th>family_status</th>\n",
       "      <th>family_status_id</th>\n",
       "      <th>gender</th>\n",
       "      <th>income_type</th>\n",
       "      <th>debt</th>\n",
       "      <th>total_income</th>\n",
       "      <th>purpose</th>\n",
       "    </tr>\n",
       "  </thead>\n",
       "  <tbody>\n",
       "    <tr>\n",
       "      <td>0</td>\n",
       "      <td>1</td>\n",
       "      <td>8437</td>\n",
       "      <td>42</td>\n",
       "      <td>высшее</td>\n",
       "      <td>0</td>\n",
       "      <td>женат / замужем</td>\n",
       "      <td>0</td>\n",
       "      <td>F</td>\n",
       "      <td>сотрудник</td>\n",
       "      <td>0</td>\n",
       "      <td>253875</td>\n",
       "      <td>покупка жилья</td>\n",
       "    </tr>\n",
       "    <tr>\n",
       "      <td>1</td>\n",
       "      <td>1</td>\n",
       "      <td>4024</td>\n",
       "      <td>36</td>\n",
       "      <td>среднее</td>\n",
       "      <td>1</td>\n",
       "      <td>женат / замужем</td>\n",
       "      <td>0</td>\n",
       "      <td>F</td>\n",
       "      <td>сотрудник</td>\n",
       "      <td>0</td>\n",
       "      <td>112080</td>\n",
       "      <td>приобретение автомобиля</td>\n",
       "    </tr>\n",
       "    <tr>\n",
       "      <td>2</td>\n",
       "      <td>0</td>\n",
       "      <td>3465</td>\n",
       "      <td>33</td>\n",
       "      <td>среднее</td>\n",
       "      <td>1</td>\n",
       "      <td>женат / замужем</td>\n",
       "      <td>0</td>\n",
       "      <td>M</td>\n",
       "      <td>сотрудник</td>\n",
       "      <td>0</td>\n",
       "      <td>145885</td>\n",
       "      <td>покупка жилья</td>\n",
       "    </tr>\n",
       "    <tr>\n",
       "      <td>3</td>\n",
       "      <td>3</td>\n",
       "      <td>4124</td>\n",
       "      <td>32</td>\n",
       "      <td>среднее</td>\n",
       "      <td>1</td>\n",
       "      <td>женат / замужем</td>\n",
       "      <td>0</td>\n",
       "      <td>M</td>\n",
       "      <td>сотрудник</td>\n",
       "      <td>0</td>\n",
       "      <td>267628</td>\n",
       "      <td>дополнительное образование</td>\n",
       "    </tr>\n",
       "    <tr>\n",
       "      <td>4</td>\n",
       "      <td>0</td>\n",
       "      <td>8085</td>\n",
       "      <td>53</td>\n",
       "      <td>среднее</td>\n",
       "      <td>1</td>\n",
       "      <td>гражданский брак</td>\n",
       "      <td>1</td>\n",
       "      <td>F</td>\n",
       "      <td>пенсионер</td>\n",
       "      <td>0</td>\n",
       "      <td>158616</td>\n",
       "      <td>сыграть свадьбу</td>\n",
       "    </tr>\n",
       "    <tr>\n",
       "      <td>5</td>\n",
       "      <td>0</td>\n",
       "      <td>926</td>\n",
       "      <td>27</td>\n",
       "      <td>высшее</td>\n",
       "      <td>0</td>\n",
       "      <td>гражданский брак</td>\n",
       "      <td>1</td>\n",
       "      <td>M</td>\n",
       "      <td>компаньон</td>\n",
       "      <td>0</td>\n",
       "      <td>255763</td>\n",
       "      <td>покупка жилья</td>\n",
       "    </tr>\n",
       "    <tr>\n",
       "      <td>6</td>\n",
       "      <td>0</td>\n",
       "      <td>2879</td>\n",
       "      <td>43</td>\n",
       "      <td>высшее</td>\n",
       "      <td>0</td>\n",
       "      <td>женат / замужем</td>\n",
       "      <td>0</td>\n",
       "      <td>F</td>\n",
       "      <td>компаньон</td>\n",
       "      <td>0</td>\n",
       "      <td>240525</td>\n",
       "      <td>операции с жильем</td>\n",
       "    </tr>\n",
       "    <tr>\n",
       "      <td>7</td>\n",
       "      <td>0</td>\n",
       "      <td>152</td>\n",
       "      <td>50</td>\n",
       "      <td>среднее</td>\n",
       "      <td>1</td>\n",
       "      <td>женат / замужем</td>\n",
       "      <td>0</td>\n",
       "      <td>M</td>\n",
       "      <td>сотрудник</td>\n",
       "      <td>0</td>\n",
       "      <td>135823</td>\n",
       "      <td>образование</td>\n",
       "    </tr>\n",
       "    <tr>\n",
       "      <td>8</td>\n",
       "      <td>2</td>\n",
       "      <td>3927</td>\n",
       "      <td>35</td>\n",
       "      <td>высшее</td>\n",
       "      <td>0</td>\n",
       "      <td>гражданский брак</td>\n",
       "      <td>1</td>\n",
       "      <td>F</td>\n",
       "      <td>сотрудник</td>\n",
       "      <td>0</td>\n",
       "      <td>95856</td>\n",
       "      <td>на проведение свадьбы</td>\n",
       "    </tr>\n",
       "    <tr>\n",
       "      <td>9</td>\n",
       "      <td>0</td>\n",
       "      <td>2188</td>\n",
       "      <td>41</td>\n",
       "      <td>среднее</td>\n",
       "      <td>1</td>\n",
       "      <td>женат / замужем</td>\n",
       "      <td>0</td>\n",
       "      <td>M</td>\n",
       "      <td>сотрудник</td>\n",
       "      <td>0</td>\n",
       "      <td>144425</td>\n",
       "      <td>покупка жилья для семьи</td>\n",
       "    </tr>\n",
       "    <tr>\n",
       "      <td>10</td>\n",
       "      <td>2</td>\n",
       "      <td>4171</td>\n",
       "      <td>36</td>\n",
       "      <td>высшее</td>\n",
       "      <td>0</td>\n",
       "      <td>женат / замужем</td>\n",
       "      <td>0</td>\n",
       "      <td>M</td>\n",
       "      <td>компаньон</td>\n",
       "      <td>0</td>\n",
       "      <td>113943</td>\n",
       "      <td>покупка недвижимости</td>\n",
       "    </tr>\n",
       "    <tr>\n",
       "      <td>11</td>\n",
       "      <td>0</td>\n",
       "      <td>792</td>\n",
       "      <td>40</td>\n",
       "      <td>среднее</td>\n",
       "      <td>1</td>\n",
       "      <td>женат / замужем</td>\n",
       "      <td>0</td>\n",
       "      <td>F</td>\n",
       "      <td>сотрудник</td>\n",
       "      <td>0</td>\n",
       "      <td>77069</td>\n",
       "      <td>покупка коммерческой недвижимости</td>\n",
       "    </tr>\n",
       "    <tr>\n",
       "      <td>12</td>\n",
       "      <td>0</td>\n",
       "      <td>0</td>\n",
       "      <td>65</td>\n",
       "      <td>среднее</td>\n",
       "      <td>1</td>\n",
       "      <td>гражданский брак</td>\n",
       "      <td>1</td>\n",
       "      <td>M</td>\n",
       "      <td>пенсионер</td>\n",
       "      <td>0</td>\n",
       "      <td>118514</td>\n",
       "      <td>сыграть свадьбу</td>\n",
       "    </tr>\n",
       "    <tr>\n",
       "      <td>13</td>\n",
       "      <td>0</td>\n",
       "      <td>1846</td>\n",
       "      <td>54</td>\n",
       "      <td>неоконченное высшее</td>\n",
       "      <td>2</td>\n",
       "      <td>женат / замужем</td>\n",
       "      <td>0</td>\n",
       "      <td>F</td>\n",
       "      <td>сотрудник</td>\n",
       "      <td>0</td>\n",
       "      <td>130458</td>\n",
       "      <td>приобретение автомобиля</td>\n",
       "    </tr>\n",
       "    <tr>\n",
       "      <td>14</td>\n",
       "      <td>0</td>\n",
       "      <td>1844</td>\n",
       "      <td>56</td>\n",
       "      <td>высшее</td>\n",
       "      <td>0</td>\n",
       "      <td>гражданский брак</td>\n",
       "      <td>1</td>\n",
       "      <td>F</td>\n",
       "      <td>компаньон</td>\n",
       "      <td>1</td>\n",
       "      <td>165127</td>\n",
       "      <td>покупка жилой недвижимости</td>\n",
       "    </tr>\n",
       "    <tr>\n",
       "      <td>15</td>\n",
       "      <td>1</td>\n",
       "      <td>972</td>\n",
       "      <td>26</td>\n",
       "      <td>среднее</td>\n",
       "      <td>1</td>\n",
       "      <td>женат / замужем</td>\n",
       "      <td>0</td>\n",
       "      <td>F</td>\n",
       "      <td>сотрудник</td>\n",
       "      <td>0</td>\n",
       "      <td>116820</td>\n",
       "      <td>строительство собственной недвижимости</td>\n",
       "    </tr>\n",
       "    <tr>\n",
       "      <td>16</td>\n",
       "      <td>0</td>\n",
       "      <td>1719</td>\n",
       "      <td>35</td>\n",
       "      <td>среднее</td>\n",
       "      <td>1</td>\n",
       "      <td>женат / замужем</td>\n",
       "      <td>0</td>\n",
       "      <td>F</td>\n",
       "      <td>сотрудник</td>\n",
       "      <td>0</td>\n",
       "      <td>289202</td>\n",
       "      <td>недвижимость</td>\n",
       "    </tr>\n",
       "    <tr>\n",
       "      <td>17</td>\n",
       "      <td>0</td>\n",
       "      <td>2369</td>\n",
       "      <td>33</td>\n",
       "      <td>высшее</td>\n",
       "      <td>0</td>\n",
       "      <td>гражданский брак</td>\n",
       "      <td>1</td>\n",
       "      <td>M</td>\n",
       "      <td>сотрудник</td>\n",
       "      <td>0</td>\n",
       "      <td>90410</td>\n",
       "      <td>строительство недвижимости</td>\n",
       "    </tr>\n",
       "    <tr>\n",
       "      <td>18</td>\n",
       "      <td>0</td>\n",
       "      <td>8085</td>\n",
       "      <td>53</td>\n",
       "      <td>среднее</td>\n",
       "      <td>1</td>\n",
       "      <td>вдовец / вдова</td>\n",
       "      <td>2</td>\n",
       "      <td>F</td>\n",
       "      <td>пенсионер</td>\n",
       "      <td>0</td>\n",
       "      <td>56823</td>\n",
       "      <td>на покупку подержанного автомобиля</td>\n",
       "    </tr>\n",
       "    <tr>\n",
       "      <td>19</td>\n",
       "      <td>0</td>\n",
       "      <td>10038</td>\n",
       "      <td>48</td>\n",
       "      <td>среднее</td>\n",
       "      <td>1</td>\n",
       "      <td>в разводе</td>\n",
       "      <td>3</td>\n",
       "      <td>F</td>\n",
       "      <td>сотрудник</td>\n",
       "      <td>0</td>\n",
       "      <td>242831</td>\n",
       "      <td>на покупку своего автомобиля</td>\n",
       "    </tr>\n",
       "  </tbody>\n",
       "</table>\n",
       "</div>"
      ],
      "text/plain": [
       "    children  days_employed  dob_years            education  education_id  \\\n",
       "0          1           8437         42               высшее             0   \n",
       "1          1           4024         36              среднее             1   \n",
       "2          0           3465         33              среднее             1   \n",
       "3          3           4124         32              среднее             1   \n",
       "4          0           8085         53              среднее             1   \n",
       "5          0            926         27               высшее             0   \n",
       "6          0           2879         43               высшее             0   \n",
       "7          0            152         50              среднее             1   \n",
       "8          2           3927         35               высшее             0   \n",
       "9          0           2188         41              среднее             1   \n",
       "10         2           4171         36               высшее             0   \n",
       "11         0            792         40              среднее             1   \n",
       "12         0              0         65              среднее             1   \n",
       "13         0           1846         54  неоконченное высшее             2   \n",
       "14         0           1844         56               высшее             0   \n",
       "15         1            972         26              среднее             1   \n",
       "16         0           1719         35              среднее             1   \n",
       "17         0           2369         33               высшее             0   \n",
       "18         0           8085         53              среднее             1   \n",
       "19         0          10038         48              среднее             1   \n",
       "\n",
       "       family_status  family_status_id gender income_type  debt  total_income  \\\n",
       "0    женат / замужем                 0      F   сотрудник     0        253875   \n",
       "1    женат / замужем                 0      F   сотрудник     0        112080   \n",
       "2    женат / замужем                 0      M   сотрудник     0        145885   \n",
       "3    женат / замужем                 0      M   сотрудник     0        267628   \n",
       "4   гражданский брак                 1      F   пенсионер     0        158616   \n",
       "5   гражданский брак                 1      M   компаньон     0        255763   \n",
       "6    женат / замужем                 0      F   компаньон     0        240525   \n",
       "7    женат / замужем                 0      M   сотрудник     0        135823   \n",
       "8   гражданский брак                 1      F   сотрудник     0         95856   \n",
       "9    женат / замужем                 0      M   сотрудник     0        144425   \n",
       "10   женат / замужем                 0      M   компаньон     0        113943   \n",
       "11   женат / замужем                 0      F   сотрудник     0         77069   \n",
       "12  гражданский брак                 1      M   пенсионер     0        118514   \n",
       "13   женат / замужем                 0      F   сотрудник     0        130458   \n",
       "14  гражданский брак                 1      F   компаньон     1        165127   \n",
       "15   женат / замужем                 0      F   сотрудник     0        116820   \n",
       "16   женат / замужем                 0      F   сотрудник     0        289202   \n",
       "17  гражданский брак                 1      M   сотрудник     0         90410   \n",
       "18    вдовец / вдова                 2      F   пенсионер     0         56823   \n",
       "19         в разводе                 3      F   сотрудник     0        242831   \n",
       "\n",
       "                                   purpose  \n",
       "0                            покупка жилья  \n",
       "1                  приобретение автомобиля  \n",
       "2                            покупка жилья  \n",
       "3               дополнительное образование  \n",
       "4                          сыграть свадьбу  \n",
       "5                            покупка жилья  \n",
       "6                        операции с жильем  \n",
       "7                              образование  \n",
       "8                    на проведение свадьбы  \n",
       "9                  покупка жилья для семьи  \n",
       "10                    покупка недвижимости  \n",
       "11       покупка коммерческой недвижимости  \n",
       "12                         сыграть свадьбу  \n",
       "13                 приобретение автомобиля  \n",
       "14              покупка жилой недвижимости  \n",
       "15  строительство собственной недвижимости  \n",
       "16                            недвижимость  \n",
       "17              строительство недвижимости  \n",
       "18      на покупку подержанного автомобиля  \n",
       "19            на покупку своего автомобиля  "
      ]
     },
     "execution_count": 4,
     "metadata": {},
     "output_type": "execute_result"
    }
   ],
   "source": [
    "df.info()\n",
    "df['days_employed'] = df['days_employed'].abs() #меняем знак на положительный\n",
    "df['days_employed'] = df['days_employed'].astype('int') #меняем на целые числа\n",
    "df['total_income'] = df['total_income'].astype('int') #меняем на целые числа\n",
    "df['education'].value_counts()\n",
    "df['education']=df['education'].astype(str).str.lower() #делаем все слова строчными буквами\n",
    "df['family_status']=df['family_status'].astype(str).str.lower() #делаем все слова строчными буквами\n",
    "df.loc[df['days_employed'] > ((df['dob_years']-18)*365), 'days_employed'] =  ((df['dob_years']-18)*21*11)\n",
    "df['education'].value_counts()\n",
    "df.head(20)\n",
    "\n",
    "\n"
   ]
  },
  {
   "cell_type": "code",
   "execution_count": 5,
   "metadata": {},
   "outputs": [
    {
     "data": {
      "text/plain": [
       "0    14149\n",
       "1     4865\n",
       "2     2131\n",
       "3      330\n",
       "4       41\n",
       "5        9\n",
       "Name: children, dtype: int64"
      ]
     },
     "execution_count": 5,
     "metadata": {},
     "output_type": "execute_result"
    }
   ],
   "source": [
    "df['children'].value_counts()\n",
    "df['children'] = df['children'].abs()\n",
    "df.loc[df['children'] == 20, 'children'] = 2\n",
    "df['children'].value_counts()"
   ]
  },
  {
   "cell_type": "markdown",
   "metadata": {},
   "source": [
    "<div class=\"alert alert-success\">\n",
    "<b> Комментарий ревьюера v3<a class=\"tocSkip\"> </b>\n",
    "\n",
    "Согласен с исправлением ошибок."
   ]
  },
  {
   "cell_type": "code",
   "execution_count": 6,
   "metadata": {},
   "outputs": [
    {
     "data": {
      "text/plain": [
       "35    617\n",
       "43    614\n",
       "40    609\n",
       "41    607\n",
       "34    603\n",
       "38    598\n",
       "42    597\n",
       "33    581\n",
       "39    573\n",
       "31    560\n",
       "36    555\n",
       "44    547\n",
       "29    545\n",
       "30    540\n",
       "48    538\n",
       "37    537\n",
       "50    514\n",
       "32    510\n",
       "49    508\n",
       "28    503\n",
       "45    497\n",
       "27    493\n",
       "56    487\n",
       "52    484\n",
       "47    480\n",
       "54    479\n",
       "46    475\n",
       "58    461\n",
       "57    460\n",
       "53    459\n",
       "51    448\n",
       "59    444\n",
       "55    443\n",
       "26    408\n",
       "60    377\n",
       "25    357\n",
       "61    355\n",
       "62    352\n",
       "63    269\n",
       "64    265\n",
       "24    264\n",
       "23    254\n",
       "65    194\n",
       "66    183\n",
       "22    183\n",
       "67    167\n",
       "21    111\n",
       "68     99\n",
       "69     85\n",
       "70     65\n",
       "71     58\n",
       "20     51\n",
       "72     33\n",
       "19     14\n",
       "73      8\n",
       "74      6\n",
       "75      1\n",
       "Name: dob_years, dtype: int64"
      ]
     },
     "execution_count": 6,
     "metadata": {},
     "output_type": "execute_result"
    }
   ],
   "source": [
    "df['dob_years'].value_counts() #нашли возраст 0\n",
    "df['dob_years'].mean() #средний возраст\n",
    "df.loc[df['dob_years'] == 0, 'dob_years'] = 43 #меняем 0 на средний возраст\n",
    "df['dob_years'].value_counts()"
   ]
  },
  {
   "cell_type": "markdown",
   "metadata": {},
   "source": [
    "<div class=\"alert alert-success\">\n",
    "<b> Комментарий ревьюера v3<a class=\"tocSkip\"> </b>\n",
    "\n",
    "43 - это грубовато. Можно было бы взять средний возраст по типу занятости, например =) Но в целом, твоё решение принимается."
   ]
  },
  {
   "cell_type": "code",
   "execution_count": 7,
   "metadata": {},
   "outputs": [
    {
     "data": {
      "text/plain": [
       "F    14236\n",
       "M     7288\n",
       "Name: gender, dtype: int64"
      ]
     },
     "execution_count": 7,
     "metadata": {},
     "output_type": "execute_result"
    }
   ],
   "source": [
    "df['gender'].value_counts()\n",
    "df = df[df['gender'] != 'XNA'] #так как выбивается одно значение, удаляем строку.\n",
    "df['gender'].value_counts()"
   ]
  },
  {
   "cell_type": "markdown",
   "metadata": {},
   "source": [
    "<div class=\"alert alert-success\">\n",
    "<b> Комментарий ревьюера v3<a class=\"tocSkip\"> </b>\n",
    "\n",
    "Согласен, можно удалить."
   ]
  },
  {
   "cell_type": "markdown",
   "metadata": {},
   "source": [
    "**Вывод**"
   ]
  },
  {
   "cell_type": "markdown",
   "metadata": {},
   "source": [
    "В столбце days_employed мы убираем отрицательные значения и числа делаем целыми. Видим что у нас некоторые значения рабочих дней привышают жизнь людей. Меняем значение: их вохраст - 18 лет * 21 день в месяц * 11 месяцев. Так же делаем целые числа в столбце total_income. В столбцах где потребовалось, делаем все буквы строчными буквами."
   ]
  },
  {
   "cell_type": "markdown",
   "metadata": {},
   "source": [
    "<div class=\"alert alert-success\">\n",
    "<b> Комментарий ревьюера v2<a class=\"tocSkip\"> </b>\n",
    "\n",
    "Метод str.lower() для проверки на дубликаты - отличный. "
   ]
  },
  {
   "cell_type": "markdown",
   "metadata": {},
   "source": [
    "<div class=\"alert alert-warning\">\n",
    "<b> Комментарий ревьюера v2<a class=\"tocSkip\"> </b>\n",
    "\n",
    "Не стесняйся дробить свой код на отдельные ячейки. Чем больше таких ячеек с промежуточным выводом результата , тем понятнее проект заказчику. Дальше в проекте также рекомендую все подзадачи выполнить в отдельных ячейках.   \n",
    "    \n",
    "(вручную переписывать получившийся результат под кодом не стоит)\n",
    "    "
   ]
  },
  {
   "cell_type": "markdown",
   "metadata": {},
   "source": [
    "<div class=\"alert alert-danger\">\n",
    "<b> Комментарий ревьюера v2<a class=\"tocSkip\"> </b>\n",
    "\n",
    "Тут еще имеет смысл пройтись по всем колонкам датасэта и посмотреть там уникальные значения, чтобы найти ошибки в данных. Для этого используй методы .value_counts() и .unique()\n",
    "    \n",
    "Подсказка: есть странные значения возраста, количества детей и пола"
   ]
  },
  {
   "cell_type": "markdown",
   "metadata": {},
   "source": [
    "<div class=\"alert alert-success\">\n",
    "<b> Комментарий ревьюера v3<a class=\"tocSkip\"> </b>\n",
    "\n",
    "Ок, вижу, что ты это сделал. Молодец!"
   ]
  },
  {
   "cell_type": "markdown",
   "metadata": {},
   "source": [
    "### Обработка дубликатов"
   ]
  },
  {
   "cell_type": "code",
   "execution_count": 8,
   "metadata": {},
   "outputs": [
    {
     "name": "stdout",
     "output_type": "stream",
     "text": [
      "71\n",
      "0\n"
     ]
    }
   ],
   "source": [
    "print(df.duplicated().sum())\n",
    "df = df.drop_duplicates().reset_index(drop = True)\n",
    "print(df.duplicated().sum())\n"
   ]
  },
  {
   "cell_type": "markdown",
   "metadata": {},
   "source": [
    "<div class=\"alert alert-success\">\n",
    "<b> Комментарий ревьюера v2<a class=\"tocSkip\"> </b>\n",
    "\n",
    "Здорово, что проверка на дубликаты выполнена после приведения всех сведений об образовании к одному регистру. Иначе было бы гораздо меньше дубликатов."
   ]
  },
  {
   "cell_type": "markdown",
   "metadata": {},
   "source": [
    "**Вывод**"
   ]
  },
  {
   "cell_type": "markdown",
   "metadata": {},
   "source": [
    "Мы убрали все дубликаты."
   ]
  },
  {
   "cell_type": "markdown",
   "metadata": {},
   "source": [
    "### Лемматизация"
   ]
  },
  {
   "cell_type": "code",
   "execution_count": 9,
   "metadata": {
    "scrolled": true
   },
   "outputs": [
    {
     "name": "stdout",
     "output_type": "stream",
     "text": [
      "недвижимость    10810\n",
      "автомобиль       4306\n",
      "образование      4013\n",
      "свадьба          2324\n",
      "Name: purpose_cat, dtype: int64\n"
     ]
    }
   ],
   "source": [
    "from pymystem3 import Mystem\n",
    "from collections import Counter\n",
    "m = Mystem()\n",
    "\n",
    "\n",
    "#purpose_df = ' '.join(df['purpose'])\n",
    "#lemmas = m.lemmatize(purpose_df)\n",
    "#print(lemmas)\n",
    "#from collections import Counter\n",
    "#Counter(lemmas)\n",
    "\n",
    "def add_purpose(row):\n",
    "    try:\n",
    "        lemma = m.lemmatize(row['purpose'])\n",
    "        if 'автомобиль' in lemma:\n",
    "            return 'автомобиль'\n",
    "        if 'свадьба' in lemma:\n",
    "            return 'свадьба'\n",
    "        if 'жилье' in lemma:\n",
    "            return 'недвижимость'\n",
    "        if 'образование' in lemma:\n",
    "            return 'образование'\n",
    "        if 'недвижимость' in lemma:\n",
    "            return 'недвижимость'\n",
    "    except:\n",
    "        return 'ошибка'\n",
    "    \n",
    "df['purpose_cat'] = df.apply(add_purpose, axis = 1)\n",
    "\n",
    "print(df['purpose_cat'].value_counts())"
   ]
  },
  {
   "cell_type": "markdown",
   "metadata": {},
   "source": [
    "**Вывод**"
   ]
  },
  {
   "cell_type": "markdown",
   "metadata": {},
   "source": [
    "Обеденил весь столбец в список и провел Лематизацию."
   ]
  },
  {
   "cell_type": "markdown",
   "metadata": {},
   "source": [
    "<div class=\"alert alert-danger\">\n",
    "<b> Комментарий ревьюера v2<a class=\"tocSkip\"> </b>\n",
    "\n",
    "Тут можно написать функцию, которая будет проверять лемматизированный текст, в зависимости от того, какие в этом тексте есть слова. А затем можно эту функцию применить к датафрейму. Тогда получится новый столбец с категориями целей. Подсказка: можно выделить 4-5 целей. После проведения категоризации по леммам проверь результат, используя .value_counts()\n",
    "\n",
    "    def add_purpose(row):\n",
    "        try:\n",
    "            lemma = m.lemmatize(row['purpose'])\n",
    "            if 'автомобиль' in lemma:\n",
    "                return 'автомобиль'\n",
    "            if 'свадьба' in lemma:\n",
    "                return 'свадьба'\n",
    "        ... ещё категории, которые ты выделишь ...   \n",
    "        \n",
    "            if 'жилье' in lemma:\n",
    "                return 'недвижимость'\n",
    "        except:\n",
    "            return 'ошибка'\n",
    "    \n",
    "    data['purpose_cat'] = data.apply(add_purpose, axis = 1)\n",
    "    "
   ]
  },
  {
   "cell_type": "markdown",
   "metadata": {},
   "source": [
    "<div class=\"alert alert-success\">\n",
    "<b> Комментарий ревьюера v3<a class=\"tocSkip\"> </b>\n",
    "\n",
    "Лемматизация теперь принята."
   ]
  },
  {
   "cell_type": "markdown",
   "metadata": {},
   "source": [
    "### Категоризация данных"
   ]
  },
  {
   "cell_type": "code",
   "execution_count": 10,
   "metadata": {},
   "outputs": [
    {
     "data": {
      "text/html": [
       "<div>\n",
       "<style scoped>\n",
       "    .dataframe tbody tr th:only-of-type {\n",
       "        vertical-align: middle;\n",
       "    }\n",
       "\n",
       "    .dataframe tbody tr th {\n",
       "        vertical-align: top;\n",
       "    }\n",
       "\n",
       "    .dataframe thead th {\n",
       "        text-align: right;\n",
       "    }\n",
       "</style>\n",
       "<table border=\"1\" class=\"dataframe\">\n",
       "  <thead>\n",
       "    <tr style=\"text-align: right;\">\n",
       "      <th></th>\n",
       "      <th>education</th>\n",
       "      <th>education_id</th>\n",
       "    </tr>\n",
       "  </thead>\n",
       "  <tbody>\n",
       "    <tr>\n",
       "      <td>0</td>\n",
       "      <td>высшее</td>\n",
       "      <td>0</td>\n",
       "    </tr>\n",
       "    <tr>\n",
       "      <td>1</td>\n",
       "      <td>среднее</td>\n",
       "      <td>1</td>\n",
       "    </tr>\n",
       "    <tr>\n",
       "      <td>2</td>\n",
       "      <td>неоконченное высшее</td>\n",
       "      <td>2</td>\n",
       "    </tr>\n",
       "    <tr>\n",
       "      <td>3</td>\n",
       "      <td>начальное</td>\n",
       "      <td>3</td>\n",
       "    </tr>\n",
       "    <tr>\n",
       "      <td>4</td>\n",
       "      <td>ученая степень</td>\n",
       "      <td>4</td>\n",
       "    </tr>\n",
       "  </tbody>\n",
       "</table>\n",
       "</div>"
      ],
      "text/plain": [
       "             education  education_id\n",
       "0               высшее             0\n",
       "1              среднее             1\n",
       "2  неоконченное высшее             2\n",
       "3            начальное             3\n",
       "4       ученая степень             4"
      ]
     },
     "execution_count": 10,
     "metadata": {},
     "output_type": "execute_result"
    }
   ],
   "source": [
    "education_df = df[['education','education_id']]\n",
    "education_df = education_df.drop_duplicates().reset_index(drop=True)\n",
    "education_df"
   ]
  },
  {
   "cell_type": "code",
   "execution_count": 11,
   "metadata": {},
   "outputs": [
    {
     "data": {
      "text/html": [
       "<div>\n",
       "<style scoped>\n",
       "    .dataframe tbody tr th:only-of-type {\n",
       "        vertical-align: middle;\n",
       "    }\n",
       "\n",
       "    .dataframe tbody tr th {\n",
       "        vertical-align: top;\n",
       "    }\n",
       "\n",
       "    .dataframe thead th {\n",
       "        text-align: right;\n",
       "    }\n",
       "</style>\n",
       "<table border=\"1\" class=\"dataframe\">\n",
       "  <thead>\n",
       "    <tr style=\"text-align: right;\">\n",
       "      <th></th>\n",
       "      <th>family_status</th>\n",
       "      <th>family_status_id</th>\n",
       "    </tr>\n",
       "  </thead>\n",
       "  <tbody>\n",
       "    <tr>\n",
       "      <td>0</td>\n",
       "      <td>женат / замужем</td>\n",
       "      <td>0</td>\n",
       "    </tr>\n",
       "    <tr>\n",
       "      <td>1</td>\n",
       "      <td>гражданский брак</td>\n",
       "      <td>1</td>\n",
       "    </tr>\n",
       "    <tr>\n",
       "      <td>2</td>\n",
       "      <td>вдовец / вдова</td>\n",
       "      <td>2</td>\n",
       "    </tr>\n",
       "    <tr>\n",
       "      <td>3</td>\n",
       "      <td>в разводе</td>\n",
       "      <td>3</td>\n",
       "    </tr>\n",
       "    <tr>\n",
       "      <td>4</td>\n",
       "      <td>не женат / не замужем</td>\n",
       "      <td>4</td>\n",
       "    </tr>\n",
       "  </tbody>\n",
       "</table>\n",
       "</div>"
      ],
      "text/plain": [
       "           family_status  family_status_id\n",
       "0        женат / замужем                 0\n",
       "1       гражданский брак                 1\n",
       "2         вдовец / вдова                 2\n",
       "3              в разводе                 3\n",
       "4  не женат / не замужем                 4"
      ]
     },
     "execution_count": 11,
     "metadata": {},
     "output_type": "execute_result"
    }
   ],
   "source": [
    "family_df = df[['family_status','family_status_id']]\n",
    "family_df = family_df.drop_duplicates().reset_index(drop=True)\n",
    "family_df"
   ]
  },
  {
   "cell_type": "code",
   "execution_count": 12,
   "metadata": {},
   "outputs": [
    {
     "data": {
      "text/plain": [
       "(119260.667, 172357.0]     7286\n",
       "(20666.999, 119260.667]    7151\n",
       "(172357.0, 2265604.0]      7016\n",
       "Name: total_income, dtype: int64"
      ]
     },
     "execution_count": 12,
     "metadata": {},
     "output_type": "execute_result"
    }
   ],
   "source": [
    "total_income_df = pd.qcut(df['total_income'], q=3)\n",
    "total_income_df = total_income_df.value_counts()\n",
    "total_income_df"
   ]
  },
  {
   "cell_type": "markdown",
   "metadata": {},
   "source": [
    "<div class=\"alert alert-success\">\n",
    "<b> Комментарий ревьюера v3<a class=\"tocSkip\"> </b>\n",
    "\n",
    "Молодец, что решил попробовать qcut. Теперь три эти категории доходов можно вставить в новый столбец категорий. Ниже, в ответе на вопросы привёл пример реализации."
   ]
  },
  {
   "cell_type": "code",
   "execution_count": 13,
   "metadata": {},
   "outputs": [
    {
     "data": {
      "text/html": [
       "<style  type=\"text/css\" >\n",
       "</style><table id=\"T_dfe51318_294d_11ec_8162_02420a39587b\" ><thead>    <tr>        <th class=\"blank level0\" ></th>        <th class=\"col_heading level0 col0\" >Кол-во пользователей</th>        <th class=\"col_heading level0 col1\" >Кол-во должников</th>        <th class=\"col_heading level0 col2\" >% должников</th>        <th class=\"col_heading level0 col3\" >% НЕдолжников</th>    </tr>    <tr>        <th class=\"index_name level0\" >child</th>        <th class=\"blank\" ></th>        <th class=\"blank\" ></th>        <th class=\"blank\" ></th>        <th class=\"blank\" ></th>    </tr></thead><tbody>\n",
       "                <tr>\n",
       "                        <th id=\"T_dfe51318_294d_11ec_8162_02420a39587blevel0_row0\" class=\"row_heading level0 row0\" >без детей</th>\n",
       "                        <td id=\"T_dfe51318_294d_11ec_8162_02420a39587brow0_col0\" class=\"data row0 col0\" >14090</td>\n",
       "                        <td id=\"T_dfe51318_294d_11ec_8162_02420a39587brow0_col1\" class=\"data row0 col1\" >1063</td>\n",
       "                        <td id=\"T_dfe51318_294d_11ec_8162_02420a39587brow0_col2\" class=\"data row0 col2\" >7.54%</td>\n",
       "                        <td id=\"T_dfe51318_294d_11ec_8162_02420a39587brow0_col3\" class=\"data row0 col3\" >92.46%</td>\n",
       "            </tr>\n",
       "            <tr>\n",
       "                        <th id=\"T_dfe51318_294d_11ec_8162_02420a39587blevel0_row1\" class=\"row_heading level0 row1\" >с детьми</th>\n",
       "                        <td id=\"T_dfe51318_294d_11ec_8162_02420a39587brow1_col0\" class=\"data row1 col0\" >7363</td>\n",
       "                        <td id=\"T_dfe51318_294d_11ec_8162_02420a39587brow1_col1\" class=\"data row1 col1\" >678</td>\n",
       "                        <td id=\"T_dfe51318_294d_11ec_8162_02420a39587brow1_col2\" class=\"data row1 col2\" >9.21%</td>\n",
       "                        <td id=\"T_dfe51318_294d_11ec_8162_02420a39587brow1_col3\" class=\"data row1 col3\" >90.79%</td>\n",
       "            </tr>\n",
       "    </tbody></table>"
      ],
      "text/plain": [
       "<pandas.io.formats.style.Styler at 0x7f4ac847c8d0>"
      ]
     },
     "execution_count": 13,
     "metadata": {},
     "output_type": "execute_result"
    }
   ],
   "source": [
    "def children_stat(row):\n",
    "    children_lvl = row['children']\n",
    "    \n",
    "    \n",
    "    if children_lvl == 0:\n",
    "        return 'без детей'\n",
    "    if children_lvl > 0:\n",
    "        return 'с детьми'\n",
    "\n",
    "df['child'] = df.apply(children_stat, axis =1)\n",
    "\n",
    "df_child = df.groupby('child')['debt'].agg(['count', 'sum', 'mean', lambda x: 1 - x.mean()])\n",
    "df_child.columns = ['Кол-во пользователей', 'Кол-во должников', '% должников', '% НЕдолжников']\n",
    "df_child.style.format({'% должников': '{:.2%}', '% НЕдолжников': '{:.2%}'})"
   ]
  },
  {
   "cell_type": "markdown",
   "metadata": {},
   "source": [
    "**Вывод**"
   ]
  },
  {
   "cell_type": "markdown",
   "metadata": {},
   "source": [
    "Есть 5 категорий образования и 5 категорий семейного статуса."
   ]
  },
  {
   "cell_type": "markdown",
   "metadata": {},
   "source": [
    "<div class=\"alert alert-danger\">\n",
    "<b> Комментарий ревьюера v2<a class=\"tocSkip\"> </b>\n",
    "\n",
    "Тут еще стоит добавить категоризацию по доходу. Можно разделить всех клиентов на 3-4 группы по уровню дохода, например, низкий-средний-высокий. Для этого можно использовать методы  [cut](https://pandas.pydata.org/pandas-docs/stable/reference/api/pandas.cut.html) или [qcut](https://pandas.pydata.org/pandas-docs/stable/reference/api/pandas.qcut.html) (в этом случае деление будет проводиться по процентилям). "
   ]
  },
  {
   "cell_type": "markdown",
   "metadata": {},
   "source": [
    "<div class=\"alert alert-warning\">\n",
    "<b> Комментарий ревьюера v2<a class=\"tocSkip\"></b>\n",
    "\n",
    "Рекомендую здесь же выполнить категоризацию по наличию детей. Можно написать функцию наподобие той, что у тебя написана ниже, только выделить две категории клиентов: с детьми и без детей. И эту категорию присвоить новому столбцу. А при ответе на вопрос \"Есть ли зависимость между наличием детей и возвратом кредита в срок?\" осуществить группировку по этому новому столбцу.  "
   ]
  },
  {
   "cell_type": "markdown",
   "metadata": {},
   "source": [
    "<div class=\"alert alert-success\">\n",
    "<b> Комментарий ревьюера v3<a class=\"tocSkip\"> </b>\n",
    "\n",
    "Ок, вижу, что основные замечания устранены."
   ]
  },
  {
   "cell_type": "markdown",
   "metadata": {},
   "source": [
    "## Шаг 3. Ответьте на вопросы"
   ]
  },
  {
   "cell_type": "markdown",
   "metadata": {},
   "source": [
    "- Есть ли зависимость между наличием детей и возвратом кредита в срок?"
   ]
  },
  {
   "cell_type": "code",
   "execution_count": 14,
   "metadata": {},
   "outputs": [
    {
     "name": "stdout",
     "output_type": "stream",
     "text": [
      "нет детей и нет долгов    13027\n",
      "есть дети и нет долгов     6685\n",
      "нет детей но с долгами     1063\n",
      "есть дети и есть долги      678\n",
      "Name: lvl1, dtype: int64\n"
     ]
    }
   ],
   "source": [
    "def children_df(row):\n",
    "    children_group = row['children']\n",
    "    debt_group = row['debt']\n",
    "    \n",
    "    if children_group == 0:\n",
    "        if debt_group == 0:\n",
    "            return 'нет детей и нет долгов'\n",
    "    if children_group == 0:\n",
    "        if debt_group == 1:\n",
    "            return 'нет детей но с долгами'\n",
    "    if children_group > 0:\n",
    "        if debt_group == 1:\n",
    "            return 'есть дети и есть долги'\n",
    "    if children_group > 0:\n",
    "        if debt_group == 0:\n",
    "            return 'есть дети и нет долгов'    \n",
    "        return 'ничего нет'\n",
    "\n",
    "df['lvl1'] = df.apply(children_df, axis =1)\n",
    "print(df['lvl1'].value_counts())"
   ]
  },
  {
   "cell_type": "markdown",
   "metadata": {},
   "source": [
    "<div class=\"alert alert-warning\">\n",
    "<b> Комментарий ревьюера v2<a class=\"tocSkip\"> </b>\n",
    "\n",
    "В целом, ответы на вопросы сделаны хорошо, но решение (это и следующие) можно написать короче, используя groupby и не используя функции. Примеры ниже. Обрати внимание на странные значения в количестве детей."
   ]
  },
  {
   "cell_type": "code",
   "execution_count": 15,
   "metadata": {},
   "outputs": [
    {
     "data": {
      "text/html": [
       "<style  type=\"text/css\" >\n",
       "</style><table id=\"T_e01f8c00_294d_11ec_8162_02420a39587b\" ><thead>    <tr>        <th class=\"blank level0\" ></th>        <th class=\"col_heading level0 col0\" >Кол-во пользователей</th>        <th class=\"col_heading level0 col1\" >Кол-во должников</th>        <th class=\"col_heading level0 col2\" >% должников</th>        <th class=\"col_heading level0 col3\" >% НЕдолжников</th>    </tr>    <tr>        <th class=\"index_name level0\" >children</th>        <th class=\"blank\" ></th>        <th class=\"blank\" ></th>        <th class=\"blank\" ></th>        <th class=\"blank\" ></th>    </tr></thead><tbody>\n",
       "                <tr>\n",
       "                        <th id=\"T_e01f8c00_294d_11ec_8162_02420a39587blevel0_row0\" class=\"row_heading level0 row0\" >0</th>\n",
       "                        <td id=\"T_e01f8c00_294d_11ec_8162_02420a39587brow0_col0\" class=\"data row0 col0\" >14090</td>\n",
       "                        <td id=\"T_e01f8c00_294d_11ec_8162_02420a39587brow0_col1\" class=\"data row0 col1\" >1063</td>\n",
       "                        <td id=\"T_e01f8c00_294d_11ec_8162_02420a39587brow0_col2\" class=\"data row0 col2\" >7.54%</td>\n",
       "                        <td id=\"T_e01f8c00_294d_11ec_8162_02420a39587brow0_col3\" class=\"data row0 col3\" >92.46%</td>\n",
       "            </tr>\n",
       "            <tr>\n",
       "                        <th id=\"T_e01f8c00_294d_11ec_8162_02420a39587blevel0_row1\" class=\"row_heading level0 row1\" >1</th>\n",
       "                        <td id=\"T_e01f8c00_294d_11ec_8162_02420a39587brow1_col0\" class=\"data row1 col0\" >4855</td>\n",
       "                        <td id=\"T_e01f8c00_294d_11ec_8162_02420a39587brow1_col1\" class=\"data row1 col1\" >445</td>\n",
       "                        <td id=\"T_e01f8c00_294d_11ec_8162_02420a39587brow1_col2\" class=\"data row1 col2\" >9.17%</td>\n",
       "                        <td id=\"T_e01f8c00_294d_11ec_8162_02420a39587brow1_col3\" class=\"data row1 col3\" >90.83%</td>\n",
       "            </tr>\n",
       "            <tr>\n",
       "                        <th id=\"T_e01f8c00_294d_11ec_8162_02420a39587blevel0_row2\" class=\"row_heading level0 row2\" >2</th>\n",
       "                        <td id=\"T_e01f8c00_294d_11ec_8162_02420a39587brow2_col0\" class=\"data row2 col0\" >2128</td>\n",
       "                        <td id=\"T_e01f8c00_294d_11ec_8162_02420a39587brow2_col1\" class=\"data row2 col1\" >202</td>\n",
       "                        <td id=\"T_e01f8c00_294d_11ec_8162_02420a39587brow2_col2\" class=\"data row2 col2\" >9.49%</td>\n",
       "                        <td id=\"T_e01f8c00_294d_11ec_8162_02420a39587brow2_col3\" class=\"data row2 col3\" >90.51%</td>\n",
       "            </tr>\n",
       "            <tr>\n",
       "                        <th id=\"T_e01f8c00_294d_11ec_8162_02420a39587blevel0_row3\" class=\"row_heading level0 row3\" >3</th>\n",
       "                        <td id=\"T_e01f8c00_294d_11ec_8162_02420a39587brow3_col0\" class=\"data row3 col0\" >330</td>\n",
       "                        <td id=\"T_e01f8c00_294d_11ec_8162_02420a39587brow3_col1\" class=\"data row3 col1\" >27</td>\n",
       "                        <td id=\"T_e01f8c00_294d_11ec_8162_02420a39587brow3_col2\" class=\"data row3 col2\" >8.18%</td>\n",
       "                        <td id=\"T_e01f8c00_294d_11ec_8162_02420a39587brow3_col3\" class=\"data row3 col3\" >91.82%</td>\n",
       "            </tr>\n",
       "            <tr>\n",
       "                        <th id=\"T_e01f8c00_294d_11ec_8162_02420a39587blevel0_row4\" class=\"row_heading level0 row4\" >4</th>\n",
       "                        <td id=\"T_e01f8c00_294d_11ec_8162_02420a39587brow4_col0\" class=\"data row4 col0\" >41</td>\n",
       "                        <td id=\"T_e01f8c00_294d_11ec_8162_02420a39587brow4_col1\" class=\"data row4 col1\" >4</td>\n",
       "                        <td id=\"T_e01f8c00_294d_11ec_8162_02420a39587brow4_col2\" class=\"data row4 col2\" >9.76%</td>\n",
       "                        <td id=\"T_e01f8c00_294d_11ec_8162_02420a39587brow4_col3\" class=\"data row4 col3\" >90.24%</td>\n",
       "            </tr>\n",
       "            <tr>\n",
       "                        <th id=\"T_e01f8c00_294d_11ec_8162_02420a39587blevel0_row5\" class=\"row_heading level0 row5\" >5</th>\n",
       "                        <td id=\"T_e01f8c00_294d_11ec_8162_02420a39587brow5_col0\" class=\"data row5 col0\" >9</td>\n",
       "                        <td id=\"T_e01f8c00_294d_11ec_8162_02420a39587brow5_col1\" class=\"data row5 col1\" >0</td>\n",
       "                        <td id=\"T_e01f8c00_294d_11ec_8162_02420a39587brow5_col2\" class=\"data row5 col2\" >0.00%</td>\n",
       "                        <td id=\"T_e01f8c00_294d_11ec_8162_02420a39587brow5_col3\" class=\"data row5 col3\" >100.00%</td>\n",
       "            </tr>\n",
       "    </tbody></table>"
      ],
      "text/plain": [
       "<pandas.io.formats.style.Styler at 0x7f4b297e1610>"
      ]
     },
     "execution_count": 15,
     "metadata": {},
     "output_type": "execute_result"
    }
   ],
   "source": [
    "df_example2 = df.groupby('children')['debt'].agg(['count', 'sum', 'mean', lambda x: 1 - x.mean()])\n",
    "df_example2.columns = ['Кол-во пользователей', 'Кол-во должников', '% должников', '% НЕдолжников']\n",
    "df_example2.style.format({'% должников': '{:.2%}', '% НЕдолжников': '{:.2%}'})"
   ]
  },
  {
   "cell_type": "code",
   "execution_count": 16,
   "metadata": {},
   "outputs": [
    {
     "data": {
      "text/html": [
       "<style  type=\"text/css\" >\n",
       "</style><table id=\"T_e021fa4e_294d_11ec_8162_02420a39587b\" ><thead>    <tr>        <th class=\"blank level0\" ></th>        <th class=\"col_heading level0 col0\" >Кол-во пользователей</th>        <th class=\"col_heading level0 col1\" >Кол-во должников</th>        <th class=\"col_heading level0 col2\" >% должников</th>        <th class=\"col_heading level0 col3\" >% НЕдолжников</th>    </tr>    <tr>        <th class=\"index_name level0\" >lvl1</th>        <th class=\"blank\" ></th>        <th class=\"blank\" ></th>        <th class=\"blank\" ></th>        <th class=\"blank\" ></th>    </tr></thead><tbody>\n",
       "                <tr>\n",
       "                        <th id=\"T_e021fa4e_294d_11ec_8162_02420a39587blevel0_row0\" class=\"row_heading level0 row0\" >есть дети и есть долги</th>\n",
       "                        <td id=\"T_e021fa4e_294d_11ec_8162_02420a39587brow0_col0\" class=\"data row0 col0\" >678</td>\n",
       "                        <td id=\"T_e021fa4e_294d_11ec_8162_02420a39587brow0_col1\" class=\"data row0 col1\" >678</td>\n",
       "                        <td id=\"T_e021fa4e_294d_11ec_8162_02420a39587brow0_col2\" class=\"data row0 col2\" >100.00%</td>\n",
       "                        <td id=\"T_e021fa4e_294d_11ec_8162_02420a39587brow0_col3\" class=\"data row0 col3\" >0.00%</td>\n",
       "            </tr>\n",
       "            <tr>\n",
       "                        <th id=\"T_e021fa4e_294d_11ec_8162_02420a39587blevel0_row1\" class=\"row_heading level0 row1\" >есть дети и нет долгов</th>\n",
       "                        <td id=\"T_e021fa4e_294d_11ec_8162_02420a39587brow1_col0\" class=\"data row1 col0\" >6685</td>\n",
       "                        <td id=\"T_e021fa4e_294d_11ec_8162_02420a39587brow1_col1\" class=\"data row1 col1\" >0</td>\n",
       "                        <td id=\"T_e021fa4e_294d_11ec_8162_02420a39587brow1_col2\" class=\"data row1 col2\" >0.00%</td>\n",
       "                        <td id=\"T_e021fa4e_294d_11ec_8162_02420a39587brow1_col3\" class=\"data row1 col3\" >100.00%</td>\n",
       "            </tr>\n",
       "            <tr>\n",
       "                        <th id=\"T_e021fa4e_294d_11ec_8162_02420a39587blevel0_row2\" class=\"row_heading level0 row2\" >нет детей и нет долгов</th>\n",
       "                        <td id=\"T_e021fa4e_294d_11ec_8162_02420a39587brow2_col0\" class=\"data row2 col0\" >13027</td>\n",
       "                        <td id=\"T_e021fa4e_294d_11ec_8162_02420a39587brow2_col1\" class=\"data row2 col1\" >0</td>\n",
       "                        <td id=\"T_e021fa4e_294d_11ec_8162_02420a39587brow2_col2\" class=\"data row2 col2\" >0.00%</td>\n",
       "                        <td id=\"T_e021fa4e_294d_11ec_8162_02420a39587brow2_col3\" class=\"data row2 col3\" >100.00%</td>\n",
       "            </tr>\n",
       "            <tr>\n",
       "                        <th id=\"T_e021fa4e_294d_11ec_8162_02420a39587blevel0_row3\" class=\"row_heading level0 row3\" >нет детей но с долгами</th>\n",
       "                        <td id=\"T_e021fa4e_294d_11ec_8162_02420a39587brow3_col0\" class=\"data row3 col0\" >1063</td>\n",
       "                        <td id=\"T_e021fa4e_294d_11ec_8162_02420a39587brow3_col1\" class=\"data row3 col1\" >1063</td>\n",
       "                        <td id=\"T_e021fa4e_294d_11ec_8162_02420a39587brow3_col2\" class=\"data row3 col2\" >100.00%</td>\n",
       "                        <td id=\"T_e021fa4e_294d_11ec_8162_02420a39587brow3_col3\" class=\"data row3 col3\" >0.00%</td>\n",
       "            </tr>\n",
       "    </tbody></table>"
      ],
      "text/plain": [
       "<pandas.io.formats.style.Styler at 0x7f4b10c9ff50>"
      ]
     },
     "execution_count": 16,
     "metadata": {},
     "output_type": "execute_result"
    }
   ],
   "source": [
    "df_example = df.groupby('lvl1')['debt'].agg(['count', 'sum', 'mean', lambda x: 1 - x.mean()])\n",
    "df_example.columns = ['Кол-во пользователей', 'Кол-во должников', '% должников', '% НЕдолжников']\n",
    "df_example.style.format({'% должников': '{:.2%}', '% НЕдолжников': '{:.2%}'})"
   ]
  },
  {
   "cell_type": "markdown",
   "metadata": {},
   "source": [
    "**Вывод**"
   ]
  },
  {
   "cell_type": "markdown",
   "metadata": {},
   "source": [
    "Когда есть дети всего 10% не платят в срок. Когда нет детей 8% не платят в срок."
   ]
  },
  {
   "cell_type": "markdown",
   "metadata": {},
   "source": [
    "- Есть ли зависимость между семейным положением и возвратом кредита в срок?"
   ]
  },
  {
   "cell_type": "code",
   "execution_count": 17,
   "metadata": {},
   "outputs": [
    {
     "data": {
      "text/html": [
       "<style  type=\"text/css\" >\n",
       "</style><table id=\"T_e0273bda_294d_11ec_8162_02420a39587b\" ><thead>    <tr>        <th class=\"blank level0\" ></th>        <th class=\"col_heading level0 col0\" >Кол-во пользователей</th>        <th class=\"col_heading level0 col1\" >Кол-во должников</th>        <th class=\"col_heading level0 col2\" >% должников</th>        <th class=\"col_heading level0 col3\" >% НЕдолжников</th>    </tr>    <tr>        <th class=\"index_name level0\" >family_status</th>        <th class=\"blank\" ></th>        <th class=\"blank\" ></th>        <th class=\"blank\" ></th>        <th class=\"blank\" ></th>    </tr></thead><tbody>\n",
       "                <tr>\n",
       "                        <th id=\"T_e0273bda_294d_11ec_8162_02420a39587blevel0_row0\" class=\"row_heading level0 row0\" >в разводе</th>\n",
       "                        <td id=\"T_e0273bda_294d_11ec_8162_02420a39587brow0_col0\" class=\"data row0 col0\" >1195</td>\n",
       "                        <td id=\"T_e0273bda_294d_11ec_8162_02420a39587brow0_col1\" class=\"data row0 col1\" >85</td>\n",
       "                        <td id=\"T_e0273bda_294d_11ec_8162_02420a39587brow0_col2\" class=\"data row0 col2\" >7.11%</td>\n",
       "                        <td id=\"T_e0273bda_294d_11ec_8162_02420a39587brow0_col3\" class=\"data row0 col3\" >92.89%</td>\n",
       "            </tr>\n",
       "            <tr>\n",
       "                        <th id=\"T_e0273bda_294d_11ec_8162_02420a39587blevel0_row1\" class=\"row_heading level0 row1\" >вдовец / вдова</th>\n",
       "                        <td id=\"T_e0273bda_294d_11ec_8162_02420a39587brow1_col0\" class=\"data row1 col0\" >959</td>\n",
       "                        <td id=\"T_e0273bda_294d_11ec_8162_02420a39587brow1_col1\" class=\"data row1 col1\" >63</td>\n",
       "                        <td id=\"T_e0273bda_294d_11ec_8162_02420a39587brow1_col2\" class=\"data row1 col2\" >6.57%</td>\n",
       "                        <td id=\"T_e0273bda_294d_11ec_8162_02420a39587brow1_col3\" class=\"data row1 col3\" >93.43%</td>\n",
       "            </tr>\n",
       "            <tr>\n",
       "                        <th id=\"T_e0273bda_294d_11ec_8162_02420a39587blevel0_row2\" class=\"row_heading level0 row2\" >гражданский брак</th>\n",
       "                        <td id=\"T_e0273bda_294d_11ec_8162_02420a39587brow2_col0\" class=\"data row2 col0\" >4150</td>\n",
       "                        <td id=\"T_e0273bda_294d_11ec_8162_02420a39587brow2_col1\" class=\"data row2 col1\" >388</td>\n",
       "                        <td id=\"T_e0273bda_294d_11ec_8162_02420a39587brow2_col2\" class=\"data row2 col2\" >9.35%</td>\n",
       "                        <td id=\"T_e0273bda_294d_11ec_8162_02420a39587brow2_col3\" class=\"data row2 col3\" >90.65%</td>\n",
       "            </tr>\n",
       "            <tr>\n",
       "                        <th id=\"T_e0273bda_294d_11ec_8162_02420a39587blevel0_row3\" class=\"row_heading level0 row3\" >женат / замужем</th>\n",
       "                        <td id=\"T_e0273bda_294d_11ec_8162_02420a39587brow3_col0\" class=\"data row3 col0\" >12339</td>\n",
       "                        <td id=\"T_e0273bda_294d_11ec_8162_02420a39587brow3_col1\" class=\"data row3 col1\" >931</td>\n",
       "                        <td id=\"T_e0273bda_294d_11ec_8162_02420a39587brow3_col2\" class=\"data row3 col2\" >7.55%</td>\n",
       "                        <td id=\"T_e0273bda_294d_11ec_8162_02420a39587brow3_col3\" class=\"data row3 col3\" >92.45%</td>\n",
       "            </tr>\n",
       "            <tr>\n",
       "                        <th id=\"T_e0273bda_294d_11ec_8162_02420a39587blevel0_row4\" class=\"row_heading level0 row4\" >не женат / не замужем</th>\n",
       "                        <td id=\"T_e0273bda_294d_11ec_8162_02420a39587brow4_col0\" class=\"data row4 col0\" >2810</td>\n",
       "                        <td id=\"T_e0273bda_294d_11ec_8162_02420a39587brow4_col1\" class=\"data row4 col1\" >274</td>\n",
       "                        <td id=\"T_e0273bda_294d_11ec_8162_02420a39587brow4_col2\" class=\"data row4 col2\" >9.75%</td>\n",
       "                        <td id=\"T_e0273bda_294d_11ec_8162_02420a39587brow4_col3\" class=\"data row4 col3\" >90.25%</td>\n",
       "            </tr>\n",
       "    </tbody></table>"
      ],
      "text/plain": [
       "<pandas.io.formats.style.Styler at 0x7f4b10ca4690>"
      ]
     },
     "execution_count": 17,
     "metadata": {},
     "output_type": "execute_result"
    }
   ],
   "source": [
    "df_example3 = df.groupby('family_status')['debt'].agg(['count', 'sum', 'mean', lambda x: 1 - x.mean()])\n",
    "df_example3.columns = ['Кол-во пользователей', 'Кол-во должников', '% должников', '% НЕдолжников']\n",
    "df_example3.style.format({'% должников': '{:.2%}', '% НЕдолжников': '{:.2%}'})"
   ]
  },
  {
   "cell_type": "markdown",
   "metadata": {},
   "source": [
    "**Вывод**"
   ]
  },
  {
   "cell_type": "markdown",
   "metadata": {},
   "source": [
    "Когда женат / замужем вовремя не платят 8%.\n",
    "Гражданский брак вовремя не платят 10%.\n",
    "Не женат / не замужем не платят вовремя 11%.\n",
    "В разводе не платят вовремя 8%.\n",
    "Вдовец / вдова не платят вовремя 7%."
   ]
  },
  {
   "cell_type": "markdown",
   "metadata": {},
   "source": [
    "- Есть ли зависимость между уровнем дохода и возвратом кредита в срок?"
   ]
  },
  {
   "cell_type": "code",
   "execution_count": 18,
   "metadata": {},
   "outputs": [
    {
     "name": "stdout",
     "output_type": "stream",
     "text": [
      "высокий доход    7518\n",
      "низкий доход     7151\n",
      "средний доход    6784\n",
      "Name: lvl3, dtype: int64\n"
     ]
    }
   ],
   "source": [
    "def income_df(row):\n",
    "    income_group = row['total_income']\n",
    "    debt_group = row['debt']\n",
    "    \n",
    "    if 20666.999 <= income_group < 119260.667:\n",
    "        return 'низкий доход'\n",
    "    if 119260.667 <= income_group < 172357:\n",
    "        return 'средний доход'\n",
    "    if income_group >= 172357 :\n",
    "        return 'высокий доход'   \n",
    "    return 'ничего нет'\n",
    "\n",
    "df['lvl3'] = df.apply(income_df, axis =1)\n",
    "print(df['lvl3'].value_counts())"
   ]
  },
  {
   "cell_type": "markdown",
   "metadata": {},
   "source": [
    "<div class=\"alert alert-warning\">\n",
    "<b> Комментарий ревьюера v3<a class=\"tocSkip\"> </b>\n",
    "\n",
    "Тут, вижу, ты \"захардкодил\" граничные значения после использования метода qcut. Можно было бы этого избежать:\n",
    "    \n",
    "    df['income_category']= pd.qcut(df['total_income'], q = 3, labels=['низкий доход', 'средний доход', 'высокий доход']) \n",
    "    \n",
    "Тогда не нужна функция по присваиванию категории. Категоризация и формирование новой колонки с категориями уместились в одну строку."
   ]
  },
  {
   "cell_type": "code",
   "execution_count": 19,
   "metadata": {},
   "outputs": [
    {
     "data": {
      "text/html": [
       "<style  type=\"text/css\" >\n",
       "</style><table id=\"T_e065b0a4_294d_11ec_8162_02420a39587b\" ><thead>    <tr>        <th class=\"blank level0\" ></th>        <th class=\"col_heading level0 col0\" >Кол-во пользователей</th>        <th class=\"col_heading level0 col1\" >Кол-во должников</th>        <th class=\"col_heading level0 col2\" >% должников</th>        <th class=\"col_heading level0 col3\" >% НЕдолжников</th>    </tr>    <tr>        <th class=\"index_name level0\" >lvl3</th>        <th class=\"blank\" ></th>        <th class=\"blank\" ></th>        <th class=\"blank\" ></th>        <th class=\"blank\" ></th>    </tr></thead><tbody>\n",
       "                <tr>\n",
       "                        <th id=\"T_e065b0a4_294d_11ec_8162_02420a39587blevel0_row0\" class=\"row_heading level0 row0\" >высокий доход</th>\n",
       "                        <td id=\"T_e065b0a4_294d_11ec_8162_02420a39587brow0_col0\" class=\"data row0 col0\" >7518</td>\n",
       "                        <td id=\"T_e065b0a4_294d_11ec_8162_02420a39587brow0_col1\" class=\"data row0 col1\" >558</td>\n",
       "                        <td id=\"T_e065b0a4_294d_11ec_8162_02420a39587brow0_col2\" class=\"data row0 col2\" >7.42%</td>\n",
       "                        <td id=\"T_e065b0a4_294d_11ec_8162_02420a39587brow0_col3\" class=\"data row0 col3\" >92.58%</td>\n",
       "            </tr>\n",
       "            <tr>\n",
       "                        <th id=\"T_e065b0a4_294d_11ec_8162_02420a39587blevel0_row1\" class=\"row_heading level0 row1\" >низкий доход</th>\n",
       "                        <td id=\"T_e065b0a4_294d_11ec_8162_02420a39587brow1_col0\" class=\"data row1 col0\" >7151</td>\n",
       "                        <td id=\"T_e065b0a4_294d_11ec_8162_02420a39587brow1_col1\" class=\"data row1 col1\" >581</td>\n",
       "                        <td id=\"T_e065b0a4_294d_11ec_8162_02420a39587brow1_col2\" class=\"data row1 col2\" >8.12%</td>\n",
       "                        <td id=\"T_e065b0a4_294d_11ec_8162_02420a39587brow1_col3\" class=\"data row1 col3\" >91.88%</td>\n",
       "            </tr>\n",
       "            <tr>\n",
       "                        <th id=\"T_e065b0a4_294d_11ec_8162_02420a39587blevel0_row2\" class=\"row_heading level0 row2\" >средний доход</th>\n",
       "                        <td id=\"T_e065b0a4_294d_11ec_8162_02420a39587brow2_col0\" class=\"data row2 col0\" >6784</td>\n",
       "                        <td id=\"T_e065b0a4_294d_11ec_8162_02420a39587brow2_col1\" class=\"data row2 col1\" >602</td>\n",
       "                        <td id=\"T_e065b0a4_294d_11ec_8162_02420a39587brow2_col2\" class=\"data row2 col2\" >8.87%</td>\n",
       "                        <td id=\"T_e065b0a4_294d_11ec_8162_02420a39587brow2_col3\" class=\"data row2 col3\" >91.13%</td>\n",
       "            </tr>\n",
       "    </tbody></table>"
      ],
      "text/plain": [
       "<pandas.io.formats.style.Styler at 0x7f4ac8175810>"
      ]
     },
     "execution_count": 19,
     "metadata": {},
     "output_type": "execute_result"
    }
   ],
   "source": [
    "df_example3 = df.groupby('lvl3')['debt'].agg(['count', 'sum', 'mean', lambda x: 1 - x.mean()])\n",
    "df_example3.columns = ['Кол-во пользователей', 'Кол-во должников', '% должников', '% НЕдолжников']\n",
    "df_example3.style.format({'% должников': '{:.2%}', '% НЕдолжников': '{:.2%}'})"
   ]
  },
  {
   "cell_type": "markdown",
   "metadata": {},
   "source": [
    "**Вывод**"
   ]
  },
  {
   "cell_type": "markdown",
   "metadata": {},
   "source": [
    "Когда очень высокий доход вовремя не платят 8%.\n",
    "Высокий доход вовремя не платят 9%.\n",
    "Средний доход вовремя не платят 9%.\n",
    "Низкий доход вовремя не платят 7%."
   ]
  },
  {
   "cell_type": "markdown",
   "metadata": {},
   "source": [
    "- Как разные цели кредита влияют на его возврат в срок?"
   ]
  },
  {
   "cell_type": "code",
   "execution_count": 20,
   "metadata": {},
   "outputs": [
    {
     "data": {
      "text/html": [
       "<style  type=\"text/css\" >\n",
       "</style><table id=\"T_e0682820_294d_11ec_8162_02420a39587b\" ><thead>    <tr>        <th class=\"blank level0\" ></th>        <th class=\"col_heading level0 col0\" >Кол-во пользователей</th>        <th class=\"col_heading level0 col1\" >Кол-во должников</th>        <th class=\"col_heading level0 col2\" >% должников</th>        <th class=\"col_heading level0 col3\" >% НЕдолжников</th>    </tr>    <tr>        <th class=\"index_name level0\" >purpose_cat</th>        <th class=\"blank\" ></th>        <th class=\"blank\" ></th>        <th class=\"blank\" ></th>        <th class=\"blank\" ></th>    </tr></thead><tbody>\n",
       "                <tr>\n",
       "                        <th id=\"T_e0682820_294d_11ec_8162_02420a39587blevel0_row0\" class=\"row_heading level0 row0\" >автомобиль</th>\n",
       "                        <td id=\"T_e0682820_294d_11ec_8162_02420a39587brow0_col0\" class=\"data row0 col0\" >4306</td>\n",
       "                        <td id=\"T_e0682820_294d_11ec_8162_02420a39587brow0_col1\" class=\"data row0 col1\" >403</td>\n",
       "                        <td id=\"T_e0682820_294d_11ec_8162_02420a39587brow0_col2\" class=\"data row0 col2\" >9.36%</td>\n",
       "                        <td id=\"T_e0682820_294d_11ec_8162_02420a39587brow0_col3\" class=\"data row0 col3\" >90.64%</td>\n",
       "            </tr>\n",
       "            <tr>\n",
       "                        <th id=\"T_e0682820_294d_11ec_8162_02420a39587blevel0_row1\" class=\"row_heading level0 row1\" >недвижимость</th>\n",
       "                        <td id=\"T_e0682820_294d_11ec_8162_02420a39587brow1_col0\" class=\"data row1 col0\" >10810</td>\n",
       "                        <td id=\"T_e0682820_294d_11ec_8162_02420a39587brow1_col1\" class=\"data row1 col1\" >782</td>\n",
       "                        <td id=\"T_e0682820_294d_11ec_8162_02420a39587brow1_col2\" class=\"data row1 col2\" >7.23%</td>\n",
       "                        <td id=\"T_e0682820_294d_11ec_8162_02420a39587brow1_col3\" class=\"data row1 col3\" >92.77%</td>\n",
       "            </tr>\n",
       "            <tr>\n",
       "                        <th id=\"T_e0682820_294d_11ec_8162_02420a39587blevel0_row2\" class=\"row_heading level0 row2\" >образование</th>\n",
       "                        <td id=\"T_e0682820_294d_11ec_8162_02420a39587brow2_col0\" class=\"data row2 col0\" >4013</td>\n",
       "                        <td id=\"T_e0682820_294d_11ec_8162_02420a39587brow2_col1\" class=\"data row2 col1\" >370</td>\n",
       "                        <td id=\"T_e0682820_294d_11ec_8162_02420a39587brow2_col2\" class=\"data row2 col2\" >9.22%</td>\n",
       "                        <td id=\"T_e0682820_294d_11ec_8162_02420a39587brow2_col3\" class=\"data row2 col3\" >90.78%</td>\n",
       "            </tr>\n",
       "            <tr>\n",
       "                        <th id=\"T_e0682820_294d_11ec_8162_02420a39587blevel0_row3\" class=\"row_heading level0 row3\" >свадьба</th>\n",
       "                        <td id=\"T_e0682820_294d_11ec_8162_02420a39587brow3_col0\" class=\"data row3 col0\" >2324</td>\n",
       "                        <td id=\"T_e0682820_294d_11ec_8162_02420a39587brow3_col1\" class=\"data row3 col1\" >186</td>\n",
       "                        <td id=\"T_e0682820_294d_11ec_8162_02420a39587brow3_col2\" class=\"data row3 col2\" >8.00%</td>\n",
       "                        <td id=\"T_e0682820_294d_11ec_8162_02420a39587brow3_col3\" class=\"data row3 col3\" >92.00%</td>\n",
       "            </tr>\n",
       "    </tbody></table>"
      ],
      "text/plain": [
       "<pandas.io.formats.style.Styler at 0x7f4b10c9f2d0>"
      ]
     },
     "execution_count": 20,
     "metadata": {},
     "output_type": "execute_result"
    }
   ],
   "source": [
    "df_example3 = df.groupby('purpose_cat')['debt'].agg(['count', 'sum', 'mean', lambda x: 1 - x.mean()])\n",
    "df_example3.columns = ['Кол-во пользователей', 'Кол-во должников', '% должников', '% НЕдолжников']\n",
    "df_example3.style.format({'% должников': '{:.2%}', '% НЕдолжников': '{:.2%}'})"
   ]
  },
  {
   "cell_type": "markdown",
   "metadata": {},
   "source": [
    "**Вывод**"
   ]
  },
  {
   "cell_type": "markdown",
   "metadata": {},
   "source": [
    "Чаще возвращают в срок кредиты на недвижимость. Чаще всего просрочкой платят кредит на покупку автомобиля."
   ]
  },
  {
   "cell_type": "markdown",
   "metadata": {},
   "source": [
    "<div class=\"alert alert-danger\">\n",
    "<b> Комментарий ревьюера v2<a class=\"tocSkip\"> </b>\n",
    "\n",
    "Для ответа на последний вопрос надо завершить категоризацию по леммам. И рекомендую использовать группировку / сводные таблицы для более быстрых результатов."
   ]
  },
  {
   "cell_type": "markdown",
   "metadata": {},
   "source": [
    "<div class=\"alert alert-success\">\n",
    "<b> Комментарий ревьюера v3<a class=\"tocSkip\"> </b>\n",
    "\n",
    "Всё отлично переделано! Браво!"
   ]
  },
  {
   "cell_type": "markdown",
   "metadata": {},
   "source": [
    "## Шаг 4. Общий вывод"
   ]
  },
  {
   "cell_type": "markdown",
   "metadata": {},
   "source": [
    "Мы узнали, что замые популярные категории для взятия кредиты это недвижимость, автомобиль, образование, покупка автомобиля и свадьба. Уровень дохода не всегда влияет на возврат кредита в срок. С низким уровнем дохода в срок не платили всего 7%. А вот когда есть дети в срок не платят больше 10%, а когда нет детей 8%. Самые просрочники это люди в статусе не женат не / не замужем это 11%, а вот вдова / вдовец показали самый низкий показатель 7%."
   ]
  },
  {
   "cell_type": "markdown",
   "metadata": {},
   "source": [
    "## Чек-лист готовности проекта\n",
    "\n",
    "Поставьте 'x' в выполненных пунктах. Далее нажмите Shift+Enter."
   ]
  },
  {
   "cell_type": "markdown",
   "metadata": {},
   "source": [
    "- [x]  открыт файл;\n",
    "- [ ]  файл изучен;\n",
    "- [ ]  определены пропущенные значения;\n",
    "- [ ]  заполнены пропущенные значения;\n",
    "- [ ]  есть пояснение, какие пропущенные значения обнаружены;\n",
    "- [ ]  описаны возможные причины появления пропусков в данных;\n",
    "- [ ]  объяснено, по какому принципу заполнены пропуски;\n",
    "- [ ]  заменен вещественный тип данных на целочисленный;\n",
    "- [ ]  есть пояснение, какой метод используется для изменения типа данных и почему;\n",
    "- [ ]  удалены дубликаты;\n",
    "- [ ]  есть пояснение, какой метод используется для поиска и удаления дубликатов;\n",
    "- [ ]  описаны возможные причины появления дубликатов в данных;\n",
    "- [ ]  выделены леммы в значениях столбца с целями получения кредита;\n",
    "- [ ]  описан процесс лемматизации;\n",
    "- [ ]  данные категоризированы;\n",
    "- [ ]  есть объяснение принципа категоризации данных;\n",
    "- [ ]  есть ответ на вопрос: \"Есть ли зависимость между наличием детей и возвратом кредита в срок?\";\n",
    "- [ ]  есть ответ на вопрос: \"Есть ли зависимость между семейным положением и возвратом кредита в срок?\";\n",
    "- [ ]  есть ответ на вопрос: \"Есть ли зависимость между уровнем дохода и возвратом кредита в срок?\";\n",
    "- [ ]  есть ответ на вопрос: \"Как разные цели кредита влияют на его возврат в срок?\";\n",
    "- [ ]  в каждом этапе есть выводы;\n",
    "- [ ]  есть общий вывод."
   ]
  },
  {
   "cell_type": "markdown",
   "metadata": {},
   "source": [
    "<div class=\"alert alert-success\"><b> Комментарий от ревьюера v2</b>\n",
    "\n",
    "Антон, поздравляю с выполнением первого проекта. В целом, всё сделано хорошо! \n",
    "\n",
    "Основные замечания связаны с обнаружением ошибок в данных и с категоризацией. (см. мои комментарии в красных ячейках с индексом v2). \n",
    "    \n",
    "Если будут вопросы - смело задавай их мне в следующей итерации проекта. Я постараюсь оперативно на всё ответить и подсказать. \n",
    "    \n",
    "Жду работу на повторную проверку.\n"
   ]
  },
  {
   "cell_type": "markdown",
   "metadata": {},
   "source": [
    "<div class=\"alert alert-success\">\n",
    "<b> Комментарий ревьюера v3<a class=\"tocSkip\"> </b>\n",
    "\n",
    "Антон, спасибо за устранение замечаний. Теперь проект суперский. \n",
    "Единственный важный нюанс, который можно упростить, и где я хотел бы заострить твоё внимание - категоризация по доходу и qcut. В проекте в жёлтой ячейке я привёл свою реализацию, полагаю, она тебе может пригодиться в будущем."
   ]
  },
  {
   "cell_type": "code",
   "execution_count": null,
   "metadata": {},
   "outputs": [],
   "source": []
  }
 ],
 "metadata": {
  "ExecuteTimeLog": [
   {
    "duration": 689,
    "start_time": "2021-09-27T08:07:54.710Z"
   },
   {
    "duration": 75,
    "start_time": "2021-09-27T08:13:34.921Z"
   },
   {
    "duration": 441,
    "start_time": "2021-09-27T08:16:52.149Z"
   },
   {
    "duration": 65,
    "start_time": "2021-09-27T08:17:06.006Z"
   },
   {
    "duration": 16,
    "start_time": "2021-09-27T08:25:23.177Z"
   },
   {
    "duration": 5,
    "start_time": "2021-09-27T08:25:47.231Z"
   },
   {
    "duration": 6,
    "start_time": "2021-09-27T08:26:25.486Z"
   },
   {
    "duration": 13,
    "start_time": "2021-09-27T08:43:29.652Z"
   },
   {
    "duration": 11,
    "start_time": "2021-09-27T08:43:51.058Z"
   },
   {
    "duration": 16,
    "start_time": "2021-09-27T08:55:48.404Z"
   },
   {
    "duration": 7650,
    "start_time": "2021-09-27T08:56:31.346Z"
   },
   {
    "duration": 8698,
    "start_time": "2021-09-27T08:56:39.186Z"
   },
   {
    "duration": 3765,
    "start_time": "2021-09-27T08:57:17.457Z"
   },
   {
    "duration": 4104,
    "start_time": "2021-09-27T08:57:23.786Z"
   },
   {
    "duration": 15,
    "start_time": "2021-09-27T08:57:55.641Z"
   },
   {
    "duration": 62,
    "start_time": "2021-09-27T08:58:05.640Z"
   },
   {
    "duration": 16,
    "start_time": "2021-09-27T08:58:11.145Z"
   },
   {
    "duration": 80,
    "start_time": "2021-09-27T09:02:03.110Z"
   },
   {
    "duration": 26,
    "start_time": "2021-09-27T09:02:06.989Z"
   },
   {
    "duration": 11,
    "start_time": "2021-09-27T09:02:33.237Z"
   },
   {
    "duration": 835,
    "start_time": "2021-09-28T11:13:43.066Z"
   },
   {
    "duration": 72,
    "start_time": "2021-09-28T11:13:56.865Z"
   },
   {
    "duration": 410,
    "start_time": "2021-09-28T11:52:31.372Z"
   },
   {
    "duration": 299,
    "start_time": "2021-09-28T11:52:56.787Z"
   },
   {
    "duration": 316,
    "start_time": "2021-09-28T12:14:39.780Z"
   },
   {
    "duration": 350,
    "start_time": "2021-09-28T12:15:07.617Z"
   },
   {
    "duration": 290,
    "start_time": "2021-09-28T12:15:42.889Z"
   },
   {
    "duration": 271,
    "start_time": "2021-09-28T12:15:52.665Z"
   },
   {
    "duration": 323,
    "start_time": "2021-09-28T12:16:13.360Z"
   },
   {
    "duration": 382,
    "start_time": "2021-09-28T12:17:20.095Z"
   },
   {
    "duration": 801,
    "start_time": "2021-09-28T12:20:08.150Z"
   },
   {
    "duration": 351,
    "start_time": "2021-09-28T12:20:21.566Z"
   },
   {
    "duration": 366,
    "start_time": "2021-09-28T12:20:36.237Z"
   },
   {
    "duration": 365,
    "start_time": "2021-09-28T12:20:51.253Z"
   },
   {
    "duration": 372,
    "start_time": "2021-09-28T12:22:01.589Z"
   },
   {
    "duration": 34,
    "start_time": "2021-09-28T12:23:11.516Z"
   },
   {
    "duration": 25,
    "start_time": "2021-09-28T12:24:08.523Z"
   },
   {
    "duration": 25,
    "start_time": "2021-09-28T12:24:42.354Z"
   },
   {
    "duration": 25,
    "start_time": "2021-09-28T12:30:31.992Z"
   },
   {
    "duration": 27,
    "start_time": "2021-09-28T12:31:04.749Z"
   },
   {
    "duration": 26,
    "start_time": "2021-09-28T12:31:24.357Z"
   },
   {
    "duration": 23,
    "start_time": "2021-09-28T12:31:32.157Z"
   },
   {
    "duration": 25,
    "start_time": "2021-09-28T12:31:59.924Z"
   },
   {
    "duration": 328,
    "start_time": "2021-09-28T12:39:40.012Z"
   },
   {
    "duration": 21,
    "start_time": "2021-09-28T12:41:29.500Z"
   },
   {
    "duration": 338,
    "start_time": "2021-09-28T12:46:20.545Z"
   },
   {
    "duration": 61,
    "start_time": "2021-09-28T12:46:39.473Z"
   },
   {
    "duration": 51,
    "start_time": "2021-09-28T12:47:06.825Z"
   },
   {
    "duration": 330,
    "start_time": "2021-09-28T12:50:15.985Z"
   },
   {
    "duration": 581,
    "start_time": "2021-09-28T12:53:57.446Z"
   },
   {
    "duration": 1169,
    "start_time": "2021-09-28T12:57:33.961Z"
   },
   {
    "duration": 339,
    "start_time": "2021-09-28T12:57:40.737Z"
   },
   {
    "duration": 297,
    "start_time": "2021-09-28T12:57:48.073Z"
   },
   {
    "duration": 1210,
    "start_time": "2021-09-28T12:57:59.552Z"
   },
   {
    "duration": 773,
    "start_time": "2021-09-28T13:22:57.493Z"
   },
   {
    "duration": 295,
    "start_time": "2021-09-28T13:23:22.421Z"
   },
   {
    "duration": 290,
    "start_time": "2021-09-28T13:23:32.213Z"
   },
   {
    "duration": 76,
    "start_time": "2021-09-28T13:23:47.556Z"
   },
   {
    "duration": 31,
    "start_time": "2021-09-28T13:23:51.820Z"
   },
   {
    "duration": 29,
    "start_time": "2021-09-28T13:23:56.013Z"
   },
   {
    "duration": 37,
    "start_time": "2021-09-28T13:24:00.541Z"
   },
   {
    "duration": 299,
    "start_time": "2021-09-28T13:25:58.755Z"
   },
   {
    "duration": 38,
    "start_time": "2021-09-28T13:26:54.291Z"
   },
   {
    "duration": 48,
    "start_time": "2021-09-28T13:27:24.675Z"
   },
   {
    "duration": 41,
    "start_time": "2021-09-28T13:28:15.393Z"
   },
   {
    "duration": 37,
    "start_time": "2021-09-28T13:29:30.809Z"
   },
   {
    "duration": 99,
    "start_time": "2021-09-28T15:45:51.589Z"
   },
   {
    "duration": 420,
    "start_time": "2021-09-28T15:46:16.843Z"
   },
   {
    "duration": 370,
    "start_time": "2021-09-28T15:47:14.394Z"
   },
   {
    "duration": 46,
    "start_time": "2021-09-28T15:47:48.132Z"
   },
   {
    "duration": 61,
    "start_time": "2021-09-28T15:48:17.713Z"
   },
   {
    "duration": 67,
    "start_time": "2021-09-28T16:00:40.922Z"
   },
   {
    "duration": 64,
    "start_time": "2021-09-28T16:02:27.831Z"
   },
   {
    "duration": 56,
    "start_time": "2021-09-28T16:02:46.871Z"
   },
   {
    "duration": 396,
    "start_time": "2021-09-28T16:05:34.084Z"
   },
   {
    "duration": 68,
    "start_time": "2021-09-28T16:05:58.300Z"
   },
   {
    "duration": 78,
    "start_time": "2021-09-28T16:08:01.530Z"
   },
   {
    "duration": 73,
    "start_time": "2021-09-28T16:08:39.554Z"
   },
   {
    "duration": 65,
    "start_time": "2021-09-28T16:09:16.202Z"
   },
   {
    "duration": 74,
    "start_time": "2021-09-28T17:01:02.530Z"
   },
   {
    "duration": 303,
    "start_time": "2021-09-28T17:09:24.643Z"
   },
   {
    "duration": 28,
    "start_time": "2021-09-28T17:09:42.177Z"
   },
   {
    "duration": 25,
    "start_time": "2021-09-28T17:09:55.881Z"
   },
   {
    "duration": 20,
    "start_time": "2021-09-28T17:10:40.968Z"
   },
   {
    "duration": 21,
    "start_time": "2021-09-28T17:10:53.851Z"
   },
   {
    "duration": 345,
    "start_time": "2021-09-28T17:11:54.871Z"
   },
   {
    "duration": 8,
    "start_time": "2021-09-28T17:12:22.415Z"
   },
   {
    "duration": 31,
    "start_time": "2021-09-28T17:13:18.663Z"
   },
   {
    "duration": 23,
    "start_time": "2021-09-28T17:13:45.102Z"
   },
   {
    "duration": 30,
    "start_time": "2021-09-28T17:14:01.621Z"
   },
   {
    "duration": 57,
    "start_time": "2021-09-28T17:15:23.996Z"
   },
   {
    "duration": 7,
    "start_time": "2021-09-28T17:25:31.438Z"
   },
   {
    "duration": 359,
    "start_time": "2021-09-28T17:28:16.970Z"
   },
   {
    "duration": 297,
    "start_time": "2021-09-28T17:28:26.289Z"
   },
   {
    "duration": 361,
    "start_time": "2021-09-28T17:28:55.177Z"
   },
   {
    "duration": 342,
    "start_time": "2021-09-28T17:29:36.258Z"
   },
   {
    "duration": 318,
    "start_time": "2021-09-28T17:29:49.169Z"
   },
   {
    "duration": 290,
    "start_time": "2021-09-28T17:30:05.641Z"
   },
   {
    "duration": 2025,
    "start_time": "2021-09-28T17:30:28.896Z"
   },
   {
    "duration": 294,
    "start_time": "2021-09-28T17:30:54.416Z"
   },
   {
    "duration": 309,
    "start_time": "2021-09-28T17:31:11.562Z"
   },
   {
    "duration": 312,
    "start_time": "2021-09-28T17:31:31.472Z"
   },
   {
    "duration": 303,
    "start_time": "2021-09-28T17:31:44.521Z"
   },
   {
    "duration": 29,
    "start_time": "2021-09-28T17:34:19.670Z"
   },
   {
    "duration": 112,
    "start_time": "2021-09-28T17:34:23.669Z"
   },
   {
    "duration": 100,
    "start_time": "2021-09-28T17:34:30.405Z"
   },
   {
    "duration": 354,
    "start_time": "2021-09-28T17:34:37.813Z"
   },
   {
    "duration": 85,
    "start_time": "2021-09-28T17:35:20.012Z"
   },
   {
    "duration": 30,
    "start_time": "2021-09-28T17:35:23.491Z"
   },
   {
    "duration": 22,
    "start_time": "2021-09-28T17:38:43.642Z"
   },
   {
    "duration": 71,
    "start_time": "2021-09-28T17:42:49.318Z"
   },
   {
    "duration": 110,
    "start_time": "2021-09-28T17:42:55.311Z"
   },
   {
    "duration": 37,
    "start_time": "2021-09-28T17:42:57.238Z"
   },
   {
    "duration": 70,
    "start_time": "2021-09-28T17:42:59.126Z"
   },
   {
    "duration": 71,
    "start_time": "2021-09-28T17:43:03.005Z"
   },
   {
    "duration": 310,
    "start_time": "2021-09-28T17:46:31.956Z"
   },
   {
    "duration": 22,
    "start_time": "2021-09-28T17:46:40.147Z"
   },
   {
    "duration": 13,
    "start_time": "2021-09-28T17:47:03.460Z"
   },
   {
    "duration": 10,
    "start_time": "2021-09-28T17:48:15.818Z"
   },
   {
    "duration": 86,
    "start_time": "2021-09-28T17:50:57.896Z"
   },
   {
    "duration": 15,
    "start_time": "2021-09-28T17:51:07.049Z"
   },
   {
    "duration": 19,
    "start_time": "2021-09-28T17:53:30.518Z"
   },
   {
    "duration": 23,
    "start_time": "2021-09-28T17:54:45.605Z"
   },
   {
    "duration": 21,
    "start_time": "2021-09-28T17:55:12.974Z"
   },
   {
    "duration": 23,
    "start_time": "2021-09-28T17:55:20.796Z"
   },
   {
    "duration": 26,
    "start_time": "2021-09-28T17:55:41.566Z"
   },
   {
    "duration": 24,
    "start_time": "2021-09-28T17:56:30.484Z"
   },
   {
    "duration": 26,
    "start_time": "2021-09-28T17:56:39.203Z"
   },
   {
    "duration": 11,
    "start_time": "2021-09-28T18:00:13.881Z"
   },
   {
    "duration": 118,
    "start_time": "2021-09-28T18:03:16.383Z"
   },
   {
    "duration": 128,
    "start_time": "2021-09-28T18:03:28.910Z"
   },
   {
    "duration": 124,
    "start_time": "2021-09-28T18:06:10.212Z"
   },
   {
    "duration": 62,
    "start_time": "2021-09-28T18:06:23.819Z"
   },
   {
    "duration": 77,
    "start_time": "2021-09-28T18:07:14.403Z"
   },
   {
    "duration": 203,
    "start_time": "2021-09-28T18:07:15.531Z"
   },
   {
    "duration": 70,
    "start_time": "2021-09-28T18:07:16.379Z"
   },
   {
    "duration": 68,
    "start_time": "2021-09-28T18:07:18.954Z"
   },
   {
    "duration": 592,
    "start_time": "2021-09-29T10:56:17.663Z"
   },
   {
    "duration": 81,
    "start_time": "2021-09-29T10:56:18.830Z"
   },
   {
    "duration": 284,
    "start_time": "2021-09-29T10:56:19.717Z"
   },
   {
    "duration": 39,
    "start_time": "2021-09-29T10:56:20.725Z"
   },
   {
    "duration": 52,
    "start_time": "2021-09-29T10:56:34.006Z"
   },
   {
    "duration": 80,
    "start_time": "2021-09-29T10:56:35.366Z"
   },
   {
    "duration": 205,
    "start_time": "2021-09-29T10:56:36.422Z"
   },
   {
    "duration": 37,
    "start_time": "2021-09-29T10:56:37.613Z"
   },
   {
    "duration": 236,
    "start_time": "2021-09-29T10:56:42.310Z"
   },
   {
    "duration": 71,
    "start_time": "2021-09-29T10:58:35.078Z"
   },
   {
    "duration": 71,
    "start_time": "2021-09-29T10:58:48.500Z"
   },
   {
    "duration": 189,
    "start_time": "2021-09-29T10:59:03.653Z"
   },
   {
    "duration": 54,
    "start_time": "2021-09-29T11:00:46.099Z"
   },
   {
    "duration": 80,
    "start_time": "2021-09-29T11:00:47.306Z"
   },
   {
    "duration": 238,
    "start_time": "2021-09-29T11:00:48.675Z"
   },
   {
    "duration": 54,
    "start_time": "2021-09-29T11:02:17.161Z"
   },
   {
    "duration": 77,
    "start_time": "2021-09-29T11:02:20.481Z"
   },
   {
    "duration": 47,
    "start_time": "2021-09-29T11:03:31.938Z"
   },
   {
    "duration": 58,
    "start_time": "2021-09-29T11:03:58.569Z"
   },
   {
    "duration": 76,
    "start_time": "2021-09-29T11:03:59.832Z"
   },
   {
    "duration": 42,
    "start_time": "2021-09-29T11:04:00.960Z"
   },
   {
    "duration": 58,
    "start_time": "2021-09-29T11:05:12.887Z"
   },
   {
    "duration": 54687,
    "start_time": "2021-09-29T11:05:14.215Z"
   },
   {
    "duration": -2062,
    "start_time": "2021-09-29T11:06:10.967Z"
   },
   {
    "duration": -2063,
    "start_time": "2021-09-29T11:06:10.970Z"
   },
   {
    "duration": 55,
    "start_time": "2021-09-29T11:13:50.124Z"
   },
   {
    "duration": 55,
    "start_time": "2021-09-29T11:14:24.752Z"
   },
   {
    "duration": -2049,
    "start_time": "2021-09-29T11:15:20.220Z"
   },
   {
    "duration": -2052,
    "start_time": "2021-09-29T11:15:20.224Z"
   },
   {
    "duration": -2053,
    "start_time": "2021-09-29T11:15:20.226Z"
   },
   {
    "duration": -2055,
    "start_time": "2021-09-29T11:15:20.229Z"
   },
   {
    "duration": 55,
    "start_time": "2021-09-29T11:15:31.146Z"
   },
   {
    "duration": -2034,
    "start_time": "2021-09-29T11:16:27.484Z"
   },
   {
    "duration": -2035,
    "start_time": "2021-09-29T11:16:27.487Z"
   },
   {
    "duration": -2035,
    "start_time": "2021-09-29T11:16:27.488Z"
   },
   {
    "duration": -2035,
    "start_time": "2021-09-29T11:16:27.490Z"
   },
   {
    "duration": -2034,
    "start_time": "2021-09-29T11:16:27.493Z"
   },
   {
    "duration": 51398,
    "start_time": "2021-09-29T11:16:26.322Z"
   },
   {
    "duration": -2091,
    "start_time": "2021-09-29T11:17:19.812Z"
   },
   {
    "duration": 55,
    "start_time": "2021-09-29T11:17:33.001Z"
   },
   {
    "duration": 51352,
    "start_time": "2021-09-29T11:17:36.794Z"
   },
   {
    "duration": 54,
    "start_time": "2021-09-29T11:20:30.200Z"
   },
   {
    "duration": 51394,
    "start_time": "2021-09-29T11:20:36.864Z"
   },
   {
    "duration": -2070,
    "start_time": "2021-09-29T11:21:30.330Z"
   },
   {
    "duration": 55,
    "start_time": "2021-09-29T11:59:42.434Z"
   },
   {
    "duration": 51752,
    "start_time": "2021-09-29T11:59:46.274Z"
   },
   {
    "duration": -2042,
    "start_time": "2021-09-29T12:00:40.070Z"
   },
   {
    "duration": -2045,
    "start_time": "2021-09-29T12:00:40.074Z"
   },
   {
    "duration": -2047,
    "start_time": "2021-09-29T12:00:40.077Z"
   },
   {
    "duration": 130,
    "start_time": "2021-10-02T22:20:13.191Z"
   },
   {
    "duration": 723,
    "start_time": "2021-10-02T22:20:40.592Z"
   },
   {
    "duration": 117,
    "start_time": "2021-10-02T22:21:00.489Z"
   },
   {
    "duration": 809,
    "start_time": "2021-10-02T22:21:25.528Z"
   },
   {
    "duration": 95021,
    "start_time": "2021-10-02T22:21:26.339Z"
   },
   {
    "duration": -473,
    "start_time": "2021-10-02T22:23:01.836Z"
   },
   {
    "duration": -473,
    "start_time": "2021-10-02T22:23:01.838Z"
   },
   {
    "duration": -473,
    "start_time": "2021-10-02T22:23:01.839Z"
   },
   {
    "duration": 381,
    "start_time": "2021-10-02T22:24:42.583Z"
   },
   {
    "duration": 840,
    "start_time": "2021-10-04T09:53:47.944Z"
   },
   {
    "duration": 437,
    "start_time": "2021-10-04T09:55:54.472Z"
   },
   {
    "duration": 109,
    "start_time": "2021-10-04T09:56:06.083Z"
   },
   {
    "duration": 107,
    "start_time": "2021-10-04T09:57:11.893Z"
   },
   {
    "duration": 105,
    "start_time": "2021-10-04T09:57:20.131Z"
   },
   {
    "duration": 103,
    "start_time": "2021-10-04T09:57:50.239Z"
   },
   {
    "duration": 103,
    "start_time": "2021-10-04T09:58:19.859Z"
   },
   {
    "duration": 96372,
    "start_time": "2021-10-04T09:59:09.634Z"
   },
   {
    "duration": -387,
    "start_time": "2021-10-04T10:00:46.395Z"
   },
   {
    "duration": 93212,
    "start_time": "2021-10-04T10:02:44.760Z"
   },
   {
    "duration": 99,
    "start_time": "2021-10-04T11:14:41.187Z"
   },
   {
    "duration": 99,
    "start_time": "2021-10-04T11:15:07.882Z"
   },
   {
    "duration": 76,
    "start_time": "2021-10-04T11:15:43.152Z"
   },
   {
    "duration": 98,
    "start_time": "2021-10-04T11:17:19.821Z"
   },
   {
    "duration": 77,
    "start_time": "2021-10-04T11:17:47.980Z"
   },
   {
    "duration": 92,
    "start_time": "2021-10-04T11:17:53.072Z"
   },
   {
    "duration": 27,
    "start_time": "2021-10-04T11:18:02.879Z"
   },
   {
    "duration": 70,
    "start_time": "2021-10-04T11:18:13.797Z"
   },
   {
    "duration": 69,
    "start_time": "2021-10-04T11:18:32.695Z"
   },
   {
    "duration": 64,
    "start_time": "2021-10-04T11:18:43.112Z"
   },
   {
    "duration": 306,
    "start_time": "2021-10-04T11:18:49.764Z"
   },
   {
    "duration": 881,
    "start_time": "2021-10-06T08:24:03.334Z"
   },
   {
    "duration": 411,
    "start_time": "2021-10-06T08:24:43.015Z"
   },
   {
    "duration": 114,
    "start_time": "2021-10-06T08:25:03.212Z"
   },
   {
    "duration": 40,
    "start_time": "2021-10-06T08:25:07.629Z"
   },
   {
    "duration": 110,
    "start_time": "2021-10-06T08:33:48.150Z"
   },
   {
    "duration": 38,
    "start_time": "2021-10-06T08:33:54.220Z"
   },
   {
    "duration": 92,
    "start_time": "2021-10-06T08:34:03.373Z"
   },
   {
    "duration": 70,
    "start_time": "2021-10-06T08:34:19.405Z"
   },
   {
    "duration": 3386,
    "start_time": "2021-10-06T08:34:23.924Z"
   },
   {
    "duration": 26,
    "start_time": "2021-10-06T08:35:06.915Z"
   },
   {
    "duration": 649,
    "start_time": "2021-10-06T08:35:15.452Z"
   },
   {
    "duration": 706,
    "start_time": "2021-10-06T08:35:23.915Z"
   },
   {
    "duration": 682,
    "start_time": "2021-10-06T08:35:25.363Z"
   },
   {
    "duration": 683,
    "start_time": "2021-10-06T08:35:26.547Z"
   },
   {
    "duration": 103,
    "start_time": "2021-10-08T08:23:19.165Z"
   },
   {
    "duration": 675,
    "start_time": "2021-10-08T08:30:01.214Z"
   },
   {
    "duration": 27,
    "start_time": "2021-10-08T08:30:01.891Z"
   },
   {
    "duration": 65,
    "start_time": "2021-10-08T08:30:01.921Z"
   },
   {
    "duration": 47,
    "start_time": "2021-10-08T08:30:01.988Z"
   },
   {
    "duration": 2498,
    "start_time": "2021-10-08T08:30:02.037Z"
   },
   {
    "duration": 19,
    "start_time": "2021-10-08T08:30:04.537Z"
   },
   {
    "duration": 353,
    "start_time": "2021-10-08T08:30:04.557Z"
   },
   {
    "duration": 351,
    "start_time": "2021-10-08T08:30:04.912Z"
   },
   {
    "duration": -490,
    "start_time": "2021-10-08T08:30:05.756Z"
   },
   {
    "duration": -501,
    "start_time": "2021-10-08T08:30:05.768Z"
   },
   {
    "duration": -502,
    "start_time": "2021-10-08T08:30:05.771Z"
   },
   {
    "duration": 703,
    "start_time": "2021-10-08T08:30:18.148Z"
   },
   {
    "duration": 20,
    "start_time": "2021-10-08T08:36:13.756Z"
   },
   {
    "duration": 14,
    "start_time": "2021-10-08T08:36:32.328Z"
   },
   {
    "duration": 819,
    "start_time": "2021-10-08T08:38:43.768Z"
   },
   {
    "duration": 26,
    "start_time": "2021-10-08T08:38:44.589Z"
   },
   {
    "duration": 71,
    "start_time": "2021-10-08T08:38:44.617Z"
   },
   {
    "duration": 48,
    "start_time": "2021-10-08T08:38:44.690Z"
   },
   {
    "duration": 2602,
    "start_time": "2021-10-08T08:38:44.741Z"
   },
   {
    "duration": 19,
    "start_time": "2021-10-08T08:38:47.345Z"
   },
   {
    "duration": 382,
    "start_time": "2021-10-08T08:38:47.377Z"
   },
   {
    "duration": 890,
    "start_time": "2021-10-08T08:38:47.762Z"
   },
   {
    "duration": 17,
    "start_time": "2021-10-08T08:38:48.654Z"
   },
   {
    "duration": 375,
    "start_time": "2021-10-08T08:38:48.672Z"
   },
   {
    "duration": 379,
    "start_time": "2021-10-08T08:38:49.049Z"
   },
   {
    "duration": 357,
    "start_time": "2021-10-08T08:38:49.429Z"
   },
   {
    "duration": 114,
    "start_time": "2021-10-08T14:00:21.785Z"
   },
   {
    "duration": 789,
    "start_time": "2021-10-08T15:18:07.173Z"
   },
   {
    "duration": 29,
    "start_time": "2021-10-08T15:18:10.004Z"
   },
   {
    "duration": 84,
    "start_time": "2021-10-08T15:18:18.164Z"
   },
   {
    "duration": 15,
    "start_time": "2021-10-08T15:18:19.603Z"
   },
   {
    "duration": 68,
    "start_time": "2021-10-08T15:18:33.980Z"
   },
   {
    "duration": 2714,
    "start_time": "2021-10-08T15:18:35.115Z"
   },
   {
    "duration": 19,
    "start_time": "2021-10-08T15:18:37.831Z"
   },
   {
    "duration": 406,
    "start_time": "2021-10-08T15:18:40.075Z"
   },
   {
    "duration": 708,
    "start_time": "2021-10-08T15:18:40.499Z"
   },
   {
    "duration": 18,
    "start_time": "2021-10-08T15:18:41.210Z"
   },
   {
    "duration": 413,
    "start_time": "2021-10-08T15:18:41.579Z"
   },
   {
    "duration": 412,
    "start_time": "2021-10-08T15:18:42.419Z"
   },
   {
    "duration": 368,
    "start_time": "2021-10-08T15:18:43.219Z"
   },
   {
    "duration": 6,
    "start_time": "2021-10-08T15:19:33.836Z"
   },
   {
    "duration": 6,
    "start_time": "2021-10-08T15:21:12.618Z"
   },
   {
    "duration": 6,
    "start_time": "2021-10-08T15:21:23.049Z"
   },
   {
    "duration": 8,
    "start_time": "2021-10-08T15:21:40.457Z"
   },
   {
    "duration": 28,
    "start_time": "2021-10-08T15:23:35.392Z"
   },
   {
    "duration": 19,
    "start_time": "2021-10-08T15:23:50.872Z"
   },
   {
    "duration": 26,
    "start_time": "2021-10-08T15:23:56.792Z"
   },
   {
    "duration": 98,
    "start_time": "2021-10-08T15:24:48.573Z"
   },
   {
    "duration": 39,
    "start_time": "2021-10-08T15:24:48.673Z"
   },
   {
    "duration": 75,
    "start_time": "2021-10-08T15:24:48.714Z"
   },
   {
    "duration": 18,
    "start_time": "2021-10-08T15:24:48.799Z"
   },
   {
    "duration": 85,
    "start_time": "2021-10-08T15:24:48.819Z"
   },
   {
    "duration": 2843,
    "start_time": "2021-10-08T15:24:48.906Z"
   },
   {
    "duration": 38,
    "start_time": "2021-10-08T15:24:51.752Z"
   },
   {
    "duration": 573,
    "start_time": "2021-10-08T15:24:51.798Z"
   },
   {
    "duration": 35,
    "start_time": "2021-10-08T15:24:52.373Z"
   },
   {
    "duration": 27,
    "start_time": "2021-10-08T15:24:52.410Z"
   },
   {
    "duration": 589,
    "start_time": "2021-10-08T15:24:52.440Z"
   },
   {
    "duration": 602,
    "start_time": "2021-10-08T15:24:53.032Z"
   },
   {
    "duration": 553,
    "start_time": "2021-10-08T15:24:53.636Z"
   },
   {
    "duration": 14,
    "start_time": "2021-10-08T15:26:21.902Z"
   },
   {
    "duration": 8,
    "start_time": "2021-10-08T15:26:36.621Z"
   },
   {
    "duration": 10,
    "start_time": "2021-10-08T15:30:48.108Z"
   },
   {
    "duration": 7,
    "start_time": "2021-10-08T15:32:27.762Z"
   },
   {
    "duration": 6,
    "start_time": "2021-10-08T15:33:48.673Z"
   },
   {
    "duration": 9,
    "start_time": "2021-10-08T15:33:57.376Z"
   },
   {
    "duration": 899,
    "start_time": "2021-10-08T18:03:49.345Z"
   },
   {
    "duration": 41,
    "start_time": "2021-10-08T18:03:50.247Z"
   },
   {
    "duration": 98,
    "start_time": "2021-10-08T18:03:50.291Z"
   },
   {
    "duration": 15,
    "start_time": "2021-10-08T18:03:50.392Z"
   },
   {
    "duration": 8,
    "start_time": "2021-10-08T18:03:50.409Z"
   },
   {
    "duration": 98,
    "start_time": "2021-10-08T18:03:50.420Z"
   },
   {
    "duration": 3324,
    "start_time": "2021-10-08T18:03:50.520Z"
   },
   {
    "duration": 31,
    "start_time": "2021-10-08T18:03:53.848Z"
   },
   {
    "duration": 617,
    "start_time": "2021-10-08T18:03:53.882Z"
   },
   {
    "duration": 720,
    "start_time": "2021-10-08T18:03:54.501Z"
   },
   {
    "duration": 23,
    "start_time": "2021-10-08T18:03:55.224Z"
   },
   {
    "duration": 631,
    "start_time": "2021-10-08T18:03:55.249Z"
   },
   {
    "duration": 628,
    "start_time": "2021-10-08T18:03:55.883Z"
   },
   {
    "duration": 564,
    "start_time": "2021-10-08T18:03:56.513Z"
   },
   {
    "duration": 8,
    "start_time": "2021-10-08T18:04:52.256Z"
   },
   {
    "duration": 9,
    "start_time": "2021-10-08T18:05:24.279Z"
   },
   {
    "duration": 8,
    "start_time": "2021-10-08T18:06:05.791Z"
   },
   {
    "duration": 15,
    "start_time": "2021-10-08T18:08:03.573Z"
   },
   {
    "duration": 8,
    "start_time": "2021-10-08T18:09:11.099Z"
   },
   {
    "duration": 8,
    "start_time": "2021-10-08T18:09:32.124Z"
   },
   {
    "duration": 10,
    "start_time": "2021-10-08T18:09:42.474Z"
   },
   {
    "duration": 406,
    "start_time": "2021-10-08T18:17:39.013Z"
   },
   {
    "duration": 10,
    "start_time": "2021-10-08T18:19:00.172Z"
   },
   {
    "duration": 287,
    "start_time": "2021-10-08T18:19:12.604Z"
   },
   {
    "duration": 20,
    "start_time": "2021-10-08T18:26:16.737Z"
   },
   {
    "duration": 1956,
    "start_time": "2021-10-08T18:30:41.966Z"
   },
   {
    "duration": 378,
    "start_time": "2021-10-08T22:14:15.021Z"
   },
   {
    "duration": 277,
    "start_time": "2021-10-08T22:15:19.677Z"
   },
   {
    "duration": 351,
    "start_time": "2021-10-08T22:16:20.409Z"
   },
   {
    "duration": 312,
    "start_time": "2021-10-08T22:17:22.568Z"
   },
   {
    "duration": 309,
    "start_time": "2021-10-08T22:18:35.318Z"
   },
   {
    "duration": 268,
    "start_time": "2021-10-08T22:18:52.925Z"
   },
   {
    "duration": 279,
    "start_time": "2021-10-08T22:19:19.485Z"
   },
   {
    "duration": 281,
    "start_time": "2021-10-08T22:20:38.388Z"
   },
   {
    "duration": 101,
    "start_time": "2021-10-08T22:27:43.104Z"
   },
   {
    "duration": 283,
    "start_time": "2021-10-08T22:28:01.798Z"
   },
   {
    "duration": 280,
    "start_time": "2021-10-08T22:31:39.756Z"
   },
   {
    "duration": 848,
    "start_time": "2021-10-08T22:31:47.904Z"
   },
   {
    "duration": 43,
    "start_time": "2021-10-08T22:31:48.755Z"
   },
   {
    "duration": 90,
    "start_time": "2021-10-08T22:31:48.801Z"
   },
   {
    "duration": 15,
    "start_time": "2021-10-08T22:31:48.894Z"
   },
   {
    "duration": 15,
    "start_time": "2021-10-08T22:31:48.911Z"
   },
   {
    "duration": 56,
    "start_time": "2021-10-08T22:31:48.928Z"
   },
   {
    "duration": 69,
    "start_time": "2021-10-08T22:31:48.987Z"
   },
   {
    "duration": 821,
    "start_time": "2021-10-09T08:30:23.279Z"
   },
   {
    "duration": 39,
    "start_time": "2021-10-09T08:30:31.437Z"
   },
   {
    "duration": 89,
    "start_time": "2021-10-09T08:30:44.702Z"
   },
   {
    "duration": 14,
    "start_time": "2021-10-09T08:30:50.398Z"
   },
   {
    "duration": 16,
    "start_time": "2021-10-09T08:30:57.668Z"
   },
   {
    "duration": 18,
    "start_time": "2021-10-09T08:31:04.597Z"
   },
   {
    "duration": 64,
    "start_time": "2021-10-09T08:31:11.548Z"
   },
   {
    "duration": 5525,
    "start_time": "2021-10-09T08:31:25.556Z"
   },
   {
    "duration": 6054,
    "start_time": "2021-10-09T08:32:00.908Z"
   },
   {
    "duration": 5761,
    "start_time": "2021-10-09T08:32:42.388Z"
   },
   {
    "duration": 89,
    "start_time": "2021-10-09T08:33:14.308Z"
   },
   {
    "duration": 5500,
    "start_time": "2021-10-09T08:33:22.411Z"
   },
   {
    "duration": 5516,
    "start_time": "2021-10-09T08:34:22.362Z"
   },
   {
    "duration": 17,
    "start_time": "2021-10-09T08:37:24.809Z"
   },
   {
    "duration": 16,
    "start_time": "2021-10-09T08:37:30.463Z"
   },
   {
    "duration": 21,
    "start_time": "2021-10-09T08:41:52.477Z"
   },
   {
    "duration": 17,
    "start_time": "2021-10-09T08:43:40.515Z"
   },
   {
    "duration": 17,
    "start_time": "2021-10-09T08:51:23.846Z"
   },
   {
    "duration": 579,
    "start_time": "2021-10-09T09:17:17.650Z"
   },
   {
    "duration": 686,
    "start_time": "2021-10-09T09:17:21.696Z"
   },
   {
    "duration": 24,
    "start_time": "2021-10-09T09:17:47.560Z"
   },
   {
    "duration": 401,
    "start_time": "2021-10-09T09:27:15.841Z"
   },
   {
    "duration": 370,
    "start_time": "2021-10-09T09:28:00.728Z"
   },
   {
    "duration": 393,
    "start_time": "2021-10-09T09:29:24.943Z"
   },
   {
    "duration": 380,
    "start_time": "2021-10-09T09:31:01.096Z"
   },
   {
    "duration": 20,
    "start_time": "2021-10-09T09:31:50.813Z"
   },
   {
    "duration": 21,
    "start_time": "2021-10-09T09:31:54.916Z"
   },
   {
    "duration": 270,
    "start_time": "2021-10-09T10:40:59.114Z"
   },
   {
    "duration": 585,
    "start_time": "2021-10-09T10:41:04.488Z"
   },
   {
    "duration": 33,
    "start_time": "2021-10-09T10:41:09.849Z"
   },
   {
    "duration": 23,
    "start_time": "2021-10-09T10:41:56.487Z"
   },
   {
    "duration": 21,
    "start_time": "2021-10-09T10:42:19.663Z"
   },
   {
    "duration": 590,
    "start_time": "2021-10-09T10:42:36.823Z"
   },
   {
    "duration": 619,
    "start_time": "2021-10-09T10:43:57.559Z"
   },
   {
    "duration": 22,
    "start_time": "2021-10-09T10:44:29.925Z"
   },
   {
    "duration": 21,
    "start_time": "2021-10-09T10:46:28.389Z"
   },
   {
    "duration": 277,
    "start_time": "2021-10-09T22:11:26.668Z"
   },
   {
    "duration": 674,
    "start_time": "2021-10-09T22:11:32.610Z"
   },
   {
    "duration": 26,
    "start_time": "2021-10-09T22:11:33.286Z"
   },
   {
    "duration": 5,
    "start_time": "2021-10-09T22:11:33.314Z"
   },
   {
    "duration": 73,
    "start_time": "2021-10-09T22:11:33.321Z"
   },
   {
    "duration": 10,
    "start_time": "2021-10-09T22:11:33.395Z"
   },
   {
    "duration": 12,
    "start_time": "2021-10-09T22:11:33.407Z"
   },
   {
    "duration": 34,
    "start_time": "2021-10-09T22:11:33.421Z"
   },
   {
    "duration": 45,
    "start_time": "2021-10-09T22:11:33.457Z"
   },
   {
    "duration": 4267,
    "start_time": "2021-10-09T22:11:33.504Z"
   },
   {
    "duration": 14,
    "start_time": "2021-10-09T22:11:37.773Z"
   },
   {
    "duration": 11,
    "start_time": "2021-10-09T22:11:37.789Z"
   },
   {
    "duration": 13,
    "start_time": "2021-10-09T22:11:37.801Z"
   },
   {
    "duration": 909,
    "start_time": "2021-10-09T22:11:37.816Z"
   },
   {
    "duration": 360,
    "start_time": "2021-10-09T22:11:38.726Z"
   },
   {
    "duration": 19,
    "start_time": "2021-10-09T22:11:39.087Z"
   },
   {
    "duration": 14,
    "start_time": "2021-10-09T22:11:39.108Z"
   },
   {
    "duration": 34,
    "start_time": "2021-10-09T22:11:39.124Z"
   },
   {
    "duration": 384,
    "start_time": "2021-10-09T22:11:39.160Z"
   },
   {
    "duration": 19,
    "start_time": "2021-10-09T22:11:39.546Z"
   },
   {
    "duration": 15,
    "start_time": "2021-10-09T22:11:39.567Z"
   },
   {
    "duration": 176,
    "start_time": "2021-10-09T22:12:36.184Z"
   },
   {
    "duration": 78,
    "start_time": "2021-10-09T22:16:24.771Z"
   },
   {
    "duration": 103,
    "start_time": "2021-10-09T22:18:13.140Z"
   },
   {
    "duration": 83,
    "start_time": "2021-10-09T22:18:49.806Z"
   },
   {
    "duration": 101,
    "start_time": "2021-10-09T22:20:01.645Z"
   },
   {
    "duration": 108,
    "start_time": "2021-10-09T22:20:54.595Z"
   },
   {
    "duration": 75,
    "start_time": "2021-10-09T22:22:38.034Z"
   },
   {
    "duration": 8,
    "start_time": "2021-10-09T22:26:59.754Z"
   },
   {
    "duration": 11,
    "start_time": "2021-10-09T22:27:19.835Z"
   }
  ],
  "kernelspec": {
   "display_name": "Python 3",
   "language": "python",
   "name": "python3"
  },
  "language_info": {
   "codemirror_mode": {
    "name": "ipython",
    "version": 3
   },
   "file_extension": ".py",
   "mimetype": "text/x-python",
   "name": "python",
   "nbconvert_exporter": "python",
   "pygments_lexer": "ipython3",
   "version": "3.7.8"
  },
  "toc": {
   "base_numbering": 1,
   "nav_menu": {},
   "number_sections": true,
   "sideBar": true,
   "skip_h1_title": true,
   "title_cell": "Table of Contents",
   "title_sidebar": "Contents",
   "toc_cell": false,
   "toc_position": {},
   "toc_section_display": true,
   "toc_window_display": false
  }
 },
 "nbformat": 4,
 "nbformat_minor": 2
}
