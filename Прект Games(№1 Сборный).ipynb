{
 "cells": [
  {
   "cell_type": "markdown",
   "metadata": {},
   "source": [
    "# Выявить определяющие успешность игры закономерности"
   ]
  },
  {
   "cell_type": "markdown",
   "metadata": {},
   "source": [
    "Шаг 1. Открыть файл с данными и изучить общую информацию\n",
    "Путь к файлу: /datasets/games.csv. Скачать датасет\n",
    "\n",
    "Шаг 2. Подготовьте данные\n",
    "- Заменить названия столбцов (привести к нижнему регистру);\n",
    "- Преобразовать данные в нужные типы. Описать, в каких столбцах заменили тип данных и почему;\n",
    "\n",
    "Обработать пропуски при необходимости:\n",
    "- Объяснить, почему заполнили пропуски определённым образом или почему не стали это делать;\n",
    "- Описать причины, которые могли привести к пропускам;\n",
    "- Обратите внимание на аббревиатуру 'tbd' в столбцах с рейтингом. Отдельно разберите это значение и опишите, как его обработать;\n",
    "- Посчитать суммарные продажи во всех регионах и запишите их в отдельный столбец.\n",
    "\n",
    "Шаг 3. Проведите исследовательский анализ данных\n",
    "- Посмотрите, сколько игр выпускалось в разные годы. Важны ли данные за все периоды?\n",
    "- Посмотрите, как менялись продажи по платформам. Выберите платформы с наибольшими суммарными продажами и постройте распределение по годам. За какой характерный срок появляются новые и исчезают старые платформы?\n",
    "- Возьмите данные за соответствующий актуальный период. Актуальный период определите самостоятельно в результате исследования предыдущих вопросов. Основной фактор — эти данные помогут построить прогноз на 2017 год.\n",
    "Не учитывайте в работе данные за предыдущие годы.\n",
    "- Какие платформы лидируют по продажам, растут или падают? Выберите несколько потенциально прибыльных платформ.\n",
    "- Постройте график «ящик с усами» по глобальным продажам игр в разбивке по платформам. Опишите результат.\n",
    "- Посмотрите, как влияют на продажи внутри одной популярной платформы отзывы пользователей и критиков. Постройте диаграмму рассеяния и посчитайте корреляцию между отзывами и продажами. Сформулируйте выводы.\n",
    "- Соотнесите выводы с продажами игр на других платформах.\n",
    "- Посмотрите на общее распределение игр по жанрам. Что можно сказать о самых прибыльных жанрах? Выделяются ли жанры с высокими и низкими продажами?\n",
    "\n",
    "Шаг 4. Составьте портрет пользователя каждого региона\n",
    "- Определите для пользователя каждого региона (NA, EU, JP):\n",
    "- Самые популярные платформы (топ-5). Опишите различия в долях продаж.\n",
    "- Самые популярные жанры (топ-5). Поясните разницу.\n",
    "- Влияет ли рейтинг ESRB на продажи в отдельном регионе?\n",
    "\n",
    "Шаг 5. Проверьте гипотезы\n",
    "- Средние пользовательские рейтинги платформ Xbox One и PC одинаковые;\n",
    "- Средние пользовательские рейтинги жанров Action (англ. «действие», экшен-игры) и Sports (англ. «спортивные соревнования») разные.\n",
    "- Задайте самостоятельно пороговое значение alpha.\n",
    "Поясните:\n",
    "- Как вы сформулировали нулевую и альтернативную гипотезы;\n",
    "- Какой критерий применили для проверки гипотез и почему.\n",
    "\n",
    "Шаг 6. Общий вывод\n",
    "Оформление: Выполните задание в Jupyter Notebook. Заполните программный код в ячейках типа code, текстовые пояснения — в ячейках типа markdown. Примените форматирование и заголовки."
   ]
  },
  {
   "cell_type": "markdown",
   "metadata": {},
   "source": [
    "## Открыть файл с данными и изучить общую информацию"
   ]
  },
  {
   "cell_type": "code",
   "execution_count": 1,
   "metadata": {},
   "outputs": [
    {
     "data": {
      "text/html": [
       "<div>\n",
       "<style scoped>\n",
       "    .dataframe tbody tr th:only-of-type {\n",
       "        vertical-align: middle;\n",
       "    }\n",
       "\n",
       "    .dataframe tbody tr th {\n",
       "        vertical-align: top;\n",
       "    }\n",
       "\n",
       "    .dataframe thead th {\n",
       "        text-align: right;\n",
       "    }\n",
       "</style>\n",
       "<table border=\"1\" class=\"dataframe\">\n",
       "  <thead>\n",
       "    <tr style=\"text-align: right;\">\n",
       "      <th></th>\n",
       "      <th>Name</th>\n",
       "      <th>Platform</th>\n",
       "      <th>Year_of_Release</th>\n",
       "      <th>Genre</th>\n",
       "      <th>NA_sales</th>\n",
       "      <th>EU_sales</th>\n",
       "      <th>JP_sales</th>\n",
       "      <th>Other_sales</th>\n",
       "      <th>Critic_Score</th>\n",
       "      <th>User_Score</th>\n",
       "      <th>Rating</th>\n",
       "    </tr>\n",
       "  </thead>\n",
       "  <tbody>\n",
       "    <tr>\n",
       "      <td>16665</td>\n",
       "      <td>Sweet Honey Coming</td>\n",
       "      <td>PS2</td>\n",
       "      <td>2009.0</td>\n",
       "      <td>Adventure</td>\n",
       "      <td>0.00</td>\n",
       "      <td>0.00</td>\n",
       "      <td>0.01</td>\n",
       "      <td>0.0</td>\n",
       "      <td>NaN</td>\n",
       "      <td>NaN</td>\n",
       "      <td>NaN</td>\n",
       "    </tr>\n",
       "    <tr>\n",
       "      <td>16666</td>\n",
       "      <td>Psychic Detective</td>\n",
       "      <td>PS</td>\n",
       "      <td>1995.0</td>\n",
       "      <td>Adventure</td>\n",
       "      <td>0.01</td>\n",
       "      <td>0.00</td>\n",
       "      <td>0.00</td>\n",
       "      <td>0.0</td>\n",
       "      <td>NaN</td>\n",
       "      <td>NaN</td>\n",
       "      <td>NaN</td>\n",
       "    </tr>\n",
       "    <tr>\n",
       "      <td>16667</td>\n",
       "      <td>Hanasaku Manimani</td>\n",
       "      <td>PSV</td>\n",
       "      <td>2014.0</td>\n",
       "      <td>Adventure</td>\n",
       "      <td>0.00</td>\n",
       "      <td>0.00</td>\n",
       "      <td>0.01</td>\n",
       "      <td>0.0</td>\n",
       "      <td>NaN</td>\n",
       "      <td>NaN</td>\n",
       "      <td>NaN</td>\n",
       "    </tr>\n",
       "    <tr>\n",
       "      <td>16668</td>\n",
       "      <td>Fujiko F. Fujio Characters: Great Assembly! Sl...</td>\n",
       "      <td>3DS</td>\n",
       "      <td>2014.0</td>\n",
       "      <td>Action</td>\n",
       "      <td>0.00</td>\n",
       "      <td>0.00</td>\n",
       "      <td>0.01</td>\n",
       "      <td>0.0</td>\n",
       "      <td>NaN</td>\n",
       "      <td>NaN</td>\n",
       "      <td>NaN</td>\n",
       "    </tr>\n",
       "    <tr>\n",
       "      <td>16669</td>\n",
       "      <td>Super Robot Taisen: Original Generation</td>\n",
       "      <td>GBA</td>\n",
       "      <td>2002.0</td>\n",
       "      <td>Role-Playing</td>\n",
       "      <td>0.01</td>\n",
       "      <td>0.00</td>\n",
       "      <td>0.00</td>\n",
       "      <td>0.0</td>\n",
       "      <td>72.0</td>\n",
       "      <td>tbd</td>\n",
       "      <td>T</td>\n",
       "    </tr>\n",
       "    <tr>\n",
       "      <td>16670</td>\n",
       "      <td>Sugar + Spice! Anoko no Suteki na Nanimokamo</td>\n",
       "      <td>PS2</td>\n",
       "      <td>2008.0</td>\n",
       "      <td>Adventure</td>\n",
       "      <td>0.00</td>\n",
       "      <td>0.00</td>\n",
       "      <td>0.01</td>\n",
       "      <td>0.0</td>\n",
       "      <td>NaN</td>\n",
       "      <td>NaN</td>\n",
       "      <td>NaN</td>\n",
       "    </tr>\n",
       "    <tr>\n",
       "      <td>16671</td>\n",
       "      <td>Kanokon: Esuii</td>\n",
       "      <td>PS2</td>\n",
       "      <td>2008.0</td>\n",
       "      <td>Adventure</td>\n",
       "      <td>0.00</td>\n",
       "      <td>0.00</td>\n",
       "      <td>0.01</td>\n",
       "      <td>0.0</td>\n",
       "      <td>NaN</td>\n",
       "      <td>NaN</td>\n",
       "      <td>NaN</td>\n",
       "    </tr>\n",
       "    <tr>\n",
       "      <td>16672</td>\n",
       "      <td>Metal Gear Solid V: The Definitive Experience</td>\n",
       "      <td>XOne</td>\n",
       "      <td>2016.0</td>\n",
       "      <td>Action</td>\n",
       "      <td>0.01</td>\n",
       "      <td>0.00</td>\n",
       "      <td>0.00</td>\n",
       "      <td>0.0</td>\n",
       "      <td>NaN</td>\n",
       "      <td>tbd</td>\n",
       "      <td>M</td>\n",
       "    </tr>\n",
       "    <tr>\n",
       "      <td>16673</td>\n",
       "      <td>Mortal Kombat: Deadly Alliance</td>\n",
       "      <td>GBA</td>\n",
       "      <td>2002.0</td>\n",
       "      <td>Fighting</td>\n",
       "      <td>0.01</td>\n",
       "      <td>0.00</td>\n",
       "      <td>0.00</td>\n",
       "      <td>0.0</td>\n",
       "      <td>81.0</td>\n",
       "      <td>8.8</td>\n",
       "      <td>M</td>\n",
       "    </tr>\n",
       "    <tr>\n",
       "      <td>16674</td>\n",
       "      <td>Tsukigime Ranko's Longest Day</td>\n",
       "      <td>PS3</td>\n",
       "      <td>2014.0</td>\n",
       "      <td>Action</td>\n",
       "      <td>0.00</td>\n",
       "      <td>0.01</td>\n",
       "      <td>0.00</td>\n",
       "      <td>0.0</td>\n",
       "      <td>NaN</td>\n",
       "      <td>NaN</td>\n",
       "      <td>NaN</td>\n",
       "    </tr>\n",
       "    <tr>\n",
       "      <td>16675</td>\n",
       "      <td>Original Frisbee Disc Sports: Ultimate &amp; Golf</td>\n",
       "      <td>DS</td>\n",
       "      <td>2007.0</td>\n",
       "      <td>Action</td>\n",
       "      <td>0.01</td>\n",
       "      <td>0.00</td>\n",
       "      <td>0.00</td>\n",
       "      <td>0.0</td>\n",
       "      <td>NaN</td>\n",
       "      <td>NaN</td>\n",
       "      <td>NaN</td>\n",
       "    </tr>\n",
       "    <tr>\n",
       "      <td>16676</td>\n",
       "      <td>G1 Jockey 4 2008</td>\n",
       "      <td>PS3</td>\n",
       "      <td>2008.0</td>\n",
       "      <td>Sports</td>\n",
       "      <td>0.00</td>\n",
       "      <td>0.00</td>\n",
       "      <td>0.00</td>\n",
       "      <td>0.0</td>\n",
       "      <td>NaN</td>\n",
       "      <td>NaN</td>\n",
       "      <td>NaN</td>\n",
       "    </tr>\n",
       "    <tr>\n",
       "      <td>16677</td>\n",
       "      <td>Aikatsu Stars! My Special Appeal</td>\n",
       "      <td>3DS</td>\n",
       "      <td>2016.0</td>\n",
       "      <td>Action</td>\n",
       "      <td>0.00</td>\n",
       "      <td>0.00</td>\n",
       "      <td>0.01</td>\n",
       "      <td>0.0</td>\n",
       "      <td>NaN</td>\n",
       "      <td>NaN</td>\n",
       "      <td>NaN</td>\n",
       "    </tr>\n",
       "    <tr>\n",
       "      <td>16678</td>\n",
       "      <td>End of Nations</td>\n",
       "      <td>PC</td>\n",
       "      <td>2012.0</td>\n",
       "      <td>Strategy</td>\n",
       "      <td>0.01</td>\n",
       "      <td>0.00</td>\n",
       "      <td>0.00</td>\n",
       "      <td>0.0</td>\n",
       "      <td>NaN</td>\n",
       "      <td>NaN</td>\n",
       "      <td>T</td>\n",
       "    </tr>\n",
       "    <tr>\n",
       "      <td>16679</td>\n",
       "      <td>XI Coliseum</td>\n",
       "      <td>PSP</td>\n",
       "      <td>2006.0</td>\n",
       "      <td>Puzzle</td>\n",
       "      <td>0.00</td>\n",
       "      <td>0.00</td>\n",
       "      <td>0.01</td>\n",
       "      <td>0.0</td>\n",
       "      <td>NaN</td>\n",
       "      <td>NaN</td>\n",
       "      <td>NaN</td>\n",
       "    </tr>\n",
       "    <tr>\n",
       "      <td>16680</td>\n",
       "      <td>Kyoukai no Shirayuki</td>\n",
       "      <td>PSV</td>\n",
       "      <td>2016.0</td>\n",
       "      <td>Action</td>\n",
       "      <td>0.00</td>\n",
       "      <td>0.00</td>\n",
       "      <td>0.01</td>\n",
       "      <td>0.0</td>\n",
       "      <td>NaN</td>\n",
       "      <td>NaN</td>\n",
       "      <td>NaN</td>\n",
       "    </tr>\n",
       "    <tr>\n",
       "      <td>16681</td>\n",
       "      <td>Worms 2</td>\n",
       "      <td>PC</td>\n",
       "      <td>1997.0</td>\n",
       "      <td>Strategy</td>\n",
       "      <td>0.00</td>\n",
       "      <td>0.01</td>\n",
       "      <td>0.00</td>\n",
       "      <td>0.0</td>\n",
       "      <td>NaN</td>\n",
       "      <td>8.1</td>\n",
       "      <td>K-A</td>\n",
       "    </tr>\n",
       "    <tr>\n",
       "      <td>16682</td>\n",
       "      <td>Grisaia no Kajitsu: La Fruit de la Grisaia</td>\n",
       "      <td>PSP</td>\n",
       "      <td>2013.0</td>\n",
       "      <td>Adventure</td>\n",
       "      <td>0.00</td>\n",
       "      <td>0.00</td>\n",
       "      <td>0.01</td>\n",
       "      <td>0.0</td>\n",
       "      <td>NaN</td>\n",
       "      <td>NaN</td>\n",
       "      <td>NaN</td>\n",
       "    </tr>\n",
       "    <tr>\n",
       "      <td>16683</td>\n",
       "      <td>Scarlett: Nichijou no Kyoukaisen</td>\n",
       "      <td>PS2</td>\n",
       "      <td>2008.0</td>\n",
       "      <td>Adventure</td>\n",
       "      <td>0.00</td>\n",
       "      <td>0.00</td>\n",
       "      <td>0.01</td>\n",
       "      <td>0.0</td>\n",
       "      <td>NaN</td>\n",
       "      <td>NaN</td>\n",
       "      <td>NaN</td>\n",
       "    </tr>\n",
       "    <tr>\n",
       "      <td>16684</td>\n",
       "      <td>7'scarlet</td>\n",
       "      <td>PSV</td>\n",
       "      <td>2016.0</td>\n",
       "      <td>Adventure</td>\n",
       "      <td>0.00</td>\n",
       "      <td>0.00</td>\n",
       "      <td>0.01</td>\n",
       "      <td>0.0</td>\n",
       "      <td>NaN</td>\n",
       "      <td>NaN</td>\n",
       "      <td>NaN</td>\n",
       "    </tr>\n",
       "    <tr>\n",
       "      <td>16685</td>\n",
       "      <td>Help Wanted: 50 Wacky Jobs (jp sales)</td>\n",
       "      <td>Wii</td>\n",
       "      <td>2008.0</td>\n",
       "      <td>Simulation</td>\n",
       "      <td>0.00</td>\n",
       "      <td>0.00</td>\n",
       "      <td>0.01</td>\n",
       "      <td>0.0</td>\n",
       "      <td>NaN</td>\n",
       "      <td>NaN</td>\n",
       "      <td>NaN</td>\n",
       "    </tr>\n",
       "    <tr>\n",
       "      <td>16686</td>\n",
       "      <td>Yattaman Wii: BikkuriDokkiri Machine de Mou Ra...</td>\n",
       "      <td>Wii</td>\n",
       "      <td>2008.0</td>\n",
       "      <td>Racing</td>\n",
       "      <td>0.00</td>\n",
       "      <td>0.00</td>\n",
       "      <td>0.01</td>\n",
       "      <td>0.0</td>\n",
       "      <td>NaN</td>\n",
       "      <td>NaN</td>\n",
       "      <td>NaN</td>\n",
       "    </tr>\n",
       "    <tr>\n",
       "      <td>16687</td>\n",
       "      <td>Neo Angelique Special</td>\n",
       "      <td>PSP</td>\n",
       "      <td>2008.0</td>\n",
       "      <td>Adventure</td>\n",
       "      <td>0.00</td>\n",
       "      <td>0.00</td>\n",
       "      <td>0.01</td>\n",
       "      <td>0.0</td>\n",
       "      <td>NaN</td>\n",
       "      <td>NaN</td>\n",
       "      <td>NaN</td>\n",
       "    </tr>\n",
       "    <tr>\n",
       "      <td>16688</td>\n",
       "      <td>Outdoors Unleashed: Africa 3D</td>\n",
       "      <td>3DS</td>\n",
       "      <td>2011.0</td>\n",
       "      <td>Sports</td>\n",
       "      <td>0.01</td>\n",
       "      <td>0.00</td>\n",
       "      <td>0.00</td>\n",
       "      <td>0.0</td>\n",
       "      <td>NaN</td>\n",
       "      <td>tbd</td>\n",
       "      <td>T</td>\n",
       "    </tr>\n",
       "    <tr>\n",
       "      <td>16689</td>\n",
       "      <td>Real Rode</td>\n",
       "      <td>PS2</td>\n",
       "      <td>2008.0</td>\n",
       "      <td>Adventure</td>\n",
       "      <td>0.00</td>\n",
       "      <td>0.00</td>\n",
       "      <td>0.01</td>\n",
       "      <td>0.0</td>\n",
       "      <td>NaN</td>\n",
       "      <td>NaN</td>\n",
       "      <td>NaN</td>\n",
       "    </tr>\n",
       "    <tr>\n",
       "      <td>16690</td>\n",
       "      <td>Pony Friends 2</td>\n",
       "      <td>PC</td>\n",
       "      <td>2009.0</td>\n",
       "      <td>Simulation</td>\n",
       "      <td>0.00</td>\n",
       "      <td>0.01</td>\n",
       "      <td>0.00</td>\n",
       "      <td>0.0</td>\n",
       "      <td>NaN</td>\n",
       "      <td>NaN</td>\n",
       "      <td>NaN</td>\n",
       "    </tr>\n",
       "    <tr>\n",
       "      <td>16691</td>\n",
       "      <td>Dynasty Warriors: Eiketsuden</td>\n",
       "      <td>PS3</td>\n",
       "      <td>2016.0</td>\n",
       "      <td>Action</td>\n",
       "      <td>0.00</td>\n",
       "      <td>0.00</td>\n",
       "      <td>0.01</td>\n",
       "      <td>0.0</td>\n",
       "      <td>NaN</td>\n",
       "      <td>NaN</td>\n",
       "      <td>NaN</td>\n",
       "    </tr>\n",
       "    <tr>\n",
       "      <td>16692</td>\n",
       "      <td>Metal Gear Solid V: Ground Zeroes</td>\n",
       "      <td>PC</td>\n",
       "      <td>2014.0</td>\n",
       "      <td>Action</td>\n",
       "      <td>0.00</td>\n",
       "      <td>0.01</td>\n",
       "      <td>0.00</td>\n",
       "      <td>0.0</td>\n",
       "      <td>80.0</td>\n",
       "      <td>7.6</td>\n",
       "      <td>M</td>\n",
       "    </tr>\n",
       "    <tr>\n",
       "      <td>16693</td>\n",
       "      <td>PGA European Tour</td>\n",
       "      <td>N64</td>\n",
       "      <td>2000.0</td>\n",
       "      <td>Sports</td>\n",
       "      <td>0.01</td>\n",
       "      <td>0.00</td>\n",
       "      <td>0.00</td>\n",
       "      <td>0.0</td>\n",
       "      <td>NaN</td>\n",
       "      <td>NaN</td>\n",
       "      <td>NaN</td>\n",
       "    </tr>\n",
       "    <tr>\n",
       "      <td>16694</td>\n",
       "      <td>Carmageddon 64</td>\n",
       "      <td>N64</td>\n",
       "      <td>1999.0</td>\n",
       "      <td>Action</td>\n",
       "      <td>0.01</td>\n",
       "      <td>0.00</td>\n",
       "      <td>0.00</td>\n",
       "      <td>0.0</td>\n",
       "      <td>NaN</td>\n",
       "      <td>NaN</td>\n",
       "      <td>NaN</td>\n",
       "    </tr>\n",
       "    <tr>\n",
       "      <td>16695</td>\n",
       "      <td>Planet Monsters</td>\n",
       "      <td>GBA</td>\n",
       "      <td>2001.0</td>\n",
       "      <td>Action</td>\n",
       "      <td>0.01</td>\n",
       "      <td>0.00</td>\n",
       "      <td>0.00</td>\n",
       "      <td>0.0</td>\n",
       "      <td>67.0</td>\n",
       "      <td>tbd</td>\n",
       "      <td>E</td>\n",
       "    </tr>\n",
       "    <tr>\n",
       "      <td>16696</td>\n",
       "      <td>Breach</td>\n",
       "      <td>PC</td>\n",
       "      <td>2011.0</td>\n",
       "      <td>Shooter</td>\n",
       "      <td>0.01</td>\n",
       "      <td>0.00</td>\n",
       "      <td>0.00</td>\n",
       "      <td>0.0</td>\n",
       "      <td>61.0</td>\n",
       "      <td>5.8</td>\n",
       "      <td>T</td>\n",
       "    </tr>\n",
       "    <tr>\n",
       "      <td>16697</td>\n",
       "      <td>Bust-A-Move 3000</td>\n",
       "      <td>GC</td>\n",
       "      <td>2003.0</td>\n",
       "      <td>Puzzle</td>\n",
       "      <td>0.01</td>\n",
       "      <td>0.00</td>\n",
       "      <td>0.00</td>\n",
       "      <td>0.0</td>\n",
       "      <td>53.0</td>\n",
       "      <td>tbd</td>\n",
       "      <td>E</td>\n",
       "    </tr>\n",
       "    <tr>\n",
       "      <td>16698</td>\n",
       "      <td>Mega Brain Boost</td>\n",
       "      <td>DS</td>\n",
       "      <td>2008.0</td>\n",
       "      <td>Puzzle</td>\n",
       "      <td>0.01</td>\n",
       "      <td>0.00</td>\n",
       "      <td>0.00</td>\n",
       "      <td>0.0</td>\n",
       "      <td>48.0</td>\n",
       "      <td>tbd</td>\n",
       "      <td>E</td>\n",
       "    </tr>\n",
       "    <tr>\n",
       "      <td>16699</td>\n",
       "      <td>The Longest 5 Minutes</td>\n",
       "      <td>PSV</td>\n",
       "      <td>2016.0</td>\n",
       "      <td>Action</td>\n",
       "      <td>0.00</td>\n",
       "      <td>0.00</td>\n",
       "      <td>0.01</td>\n",
       "      <td>0.0</td>\n",
       "      <td>NaN</td>\n",
       "      <td>NaN</td>\n",
       "      <td>NaN</td>\n",
       "    </tr>\n",
       "    <tr>\n",
       "      <td>16700</td>\n",
       "      <td>Mezase!! Tsuri Master DS</td>\n",
       "      <td>DS</td>\n",
       "      <td>2009.0</td>\n",
       "      <td>Sports</td>\n",
       "      <td>0.00</td>\n",
       "      <td>0.00</td>\n",
       "      <td>0.01</td>\n",
       "      <td>0.0</td>\n",
       "      <td>NaN</td>\n",
       "      <td>NaN</td>\n",
       "      <td>NaN</td>\n",
       "    </tr>\n",
       "    <tr>\n",
       "      <td>16701</td>\n",
       "      <td>Eiyuu Densetsu: Sora no Kiseki Material Collec...</td>\n",
       "      <td>PSP</td>\n",
       "      <td>2007.0</td>\n",
       "      <td>Role-Playing</td>\n",
       "      <td>0.00</td>\n",
       "      <td>0.00</td>\n",
       "      <td>0.01</td>\n",
       "      <td>0.0</td>\n",
       "      <td>NaN</td>\n",
       "      <td>NaN</td>\n",
       "      <td>NaN</td>\n",
       "    </tr>\n",
       "    <tr>\n",
       "      <td>16702</td>\n",
       "      <td>STORM: Frontline Nation</td>\n",
       "      <td>PC</td>\n",
       "      <td>2011.0</td>\n",
       "      <td>Strategy</td>\n",
       "      <td>0.00</td>\n",
       "      <td>0.01</td>\n",
       "      <td>0.00</td>\n",
       "      <td>0.0</td>\n",
       "      <td>60.0</td>\n",
       "      <td>7.2</td>\n",
       "      <td>E10+</td>\n",
       "    </tr>\n",
       "    <tr>\n",
       "      <td>16703</td>\n",
       "      <td>Strawberry Nauts</td>\n",
       "      <td>PSV</td>\n",
       "      <td>2016.0</td>\n",
       "      <td>Adventure</td>\n",
       "      <td>0.00</td>\n",
       "      <td>0.00</td>\n",
       "      <td>0.01</td>\n",
       "      <td>0.0</td>\n",
       "      <td>NaN</td>\n",
       "      <td>NaN</td>\n",
       "      <td>NaN</td>\n",
       "    </tr>\n",
       "    <tr>\n",
       "      <td>16704</td>\n",
       "      <td>Plushees</td>\n",
       "      <td>DS</td>\n",
       "      <td>2008.0</td>\n",
       "      <td>Simulation</td>\n",
       "      <td>0.01</td>\n",
       "      <td>0.00</td>\n",
       "      <td>0.00</td>\n",
       "      <td>0.0</td>\n",
       "      <td>NaN</td>\n",
       "      <td>tbd</td>\n",
       "      <td>E</td>\n",
       "    </tr>\n",
       "    <tr>\n",
       "      <td>16705</td>\n",
       "      <td>15 Days</td>\n",
       "      <td>PC</td>\n",
       "      <td>2009.0</td>\n",
       "      <td>Adventure</td>\n",
       "      <td>0.00</td>\n",
       "      <td>0.01</td>\n",
       "      <td>0.00</td>\n",
       "      <td>0.0</td>\n",
       "      <td>63.0</td>\n",
       "      <td>5.8</td>\n",
       "      <td>NaN</td>\n",
       "    </tr>\n",
       "    <tr>\n",
       "      <td>16706</td>\n",
       "      <td>Men in Black II: Alien Escape</td>\n",
       "      <td>GC</td>\n",
       "      <td>2003.0</td>\n",
       "      <td>Shooter</td>\n",
       "      <td>0.01</td>\n",
       "      <td>0.00</td>\n",
       "      <td>0.00</td>\n",
       "      <td>0.0</td>\n",
       "      <td>NaN</td>\n",
       "      <td>tbd</td>\n",
       "      <td>T</td>\n",
       "    </tr>\n",
       "    <tr>\n",
       "      <td>16707</td>\n",
       "      <td>Aiyoku no Eustia</td>\n",
       "      <td>PSV</td>\n",
       "      <td>2014.0</td>\n",
       "      <td>Misc</td>\n",
       "      <td>0.00</td>\n",
       "      <td>0.00</td>\n",
       "      <td>0.01</td>\n",
       "      <td>0.0</td>\n",
       "      <td>NaN</td>\n",
       "      <td>NaN</td>\n",
       "      <td>NaN</td>\n",
       "    </tr>\n",
       "    <tr>\n",
       "      <td>16708</td>\n",
       "      <td>Woody Woodpecker in Crazy Castle 5</td>\n",
       "      <td>GBA</td>\n",
       "      <td>2002.0</td>\n",
       "      <td>Platform</td>\n",
       "      <td>0.01</td>\n",
       "      <td>0.00</td>\n",
       "      <td>0.00</td>\n",
       "      <td>0.0</td>\n",
       "      <td>NaN</td>\n",
       "      <td>NaN</td>\n",
       "      <td>NaN</td>\n",
       "    </tr>\n",
       "    <tr>\n",
       "      <td>16709</td>\n",
       "      <td>SCORE International Baja 1000: The Official Game</td>\n",
       "      <td>PS2</td>\n",
       "      <td>2008.0</td>\n",
       "      <td>Racing</td>\n",
       "      <td>0.00</td>\n",
       "      <td>0.00</td>\n",
       "      <td>0.00</td>\n",
       "      <td>0.0</td>\n",
       "      <td>NaN</td>\n",
       "      <td>NaN</td>\n",
       "      <td>NaN</td>\n",
       "    </tr>\n",
       "    <tr>\n",
       "      <td>16710</td>\n",
       "      <td>Samurai Warriors: Sanada Maru</td>\n",
       "      <td>PS3</td>\n",
       "      <td>2016.0</td>\n",
       "      <td>Action</td>\n",
       "      <td>0.00</td>\n",
       "      <td>0.00</td>\n",
       "      <td>0.01</td>\n",
       "      <td>0.0</td>\n",
       "      <td>NaN</td>\n",
       "      <td>NaN</td>\n",
       "      <td>NaN</td>\n",
       "    </tr>\n",
       "    <tr>\n",
       "      <td>16711</td>\n",
       "      <td>LMA Manager 2007</td>\n",
       "      <td>X360</td>\n",
       "      <td>2006.0</td>\n",
       "      <td>Sports</td>\n",
       "      <td>0.00</td>\n",
       "      <td>0.01</td>\n",
       "      <td>0.00</td>\n",
       "      <td>0.0</td>\n",
       "      <td>NaN</td>\n",
       "      <td>NaN</td>\n",
       "      <td>NaN</td>\n",
       "    </tr>\n",
       "    <tr>\n",
       "      <td>16712</td>\n",
       "      <td>Haitaka no Psychedelica</td>\n",
       "      <td>PSV</td>\n",
       "      <td>2016.0</td>\n",
       "      <td>Adventure</td>\n",
       "      <td>0.00</td>\n",
       "      <td>0.00</td>\n",
       "      <td>0.01</td>\n",
       "      <td>0.0</td>\n",
       "      <td>NaN</td>\n",
       "      <td>NaN</td>\n",
       "      <td>NaN</td>\n",
       "    </tr>\n",
       "    <tr>\n",
       "      <td>16713</td>\n",
       "      <td>Spirits &amp; Spells</td>\n",
       "      <td>GBA</td>\n",
       "      <td>2003.0</td>\n",
       "      <td>Platform</td>\n",
       "      <td>0.01</td>\n",
       "      <td>0.00</td>\n",
       "      <td>0.00</td>\n",
       "      <td>0.0</td>\n",
       "      <td>NaN</td>\n",
       "      <td>NaN</td>\n",
       "      <td>NaN</td>\n",
       "    </tr>\n",
       "    <tr>\n",
       "      <td>16714</td>\n",
       "      <td>Winning Post 8 2016</td>\n",
       "      <td>PSV</td>\n",
       "      <td>2016.0</td>\n",
       "      <td>Simulation</td>\n",
       "      <td>0.00</td>\n",
       "      <td>0.00</td>\n",
       "      <td>0.01</td>\n",
       "      <td>0.0</td>\n",
       "      <td>NaN</td>\n",
       "      <td>NaN</td>\n",
       "      <td>NaN</td>\n",
       "    </tr>\n",
       "  </tbody>\n",
       "</table>\n",
       "</div>"
      ],
      "text/plain": [
       "                                                    Name Platform  \\\n",
       "16665                                 Sweet Honey Coming      PS2   \n",
       "16666                                  Psychic Detective       PS   \n",
       "16667                                  Hanasaku Manimani      PSV   \n",
       "16668  Fujiko F. Fujio Characters: Great Assembly! Sl...      3DS   \n",
       "16669            Super Robot Taisen: Original Generation      GBA   \n",
       "16670       Sugar + Spice! Anoko no Suteki na Nanimokamo      PS2   \n",
       "16671                                     Kanokon: Esuii      PS2   \n",
       "16672      Metal Gear Solid V: The Definitive Experience     XOne   \n",
       "16673                     Mortal Kombat: Deadly Alliance      GBA   \n",
       "16674                      Tsukigime Ranko's Longest Day      PS3   \n",
       "16675      Original Frisbee Disc Sports: Ultimate & Golf       DS   \n",
       "16676                                   G1 Jockey 4 2008      PS3   \n",
       "16677                   Aikatsu Stars! My Special Appeal      3DS   \n",
       "16678                                     End of Nations       PC   \n",
       "16679                                        XI Coliseum      PSP   \n",
       "16680                               Kyoukai no Shirayuki      PSV   \n",
       "16681                                            Worms 2       PC   \n",
       "16682         Grisaia no Kajitsu: La Fruit de la Grisaia      PSP   \n",
       "16683                   Scarlett: Nichijou no Kyoukaisen      PS2   \n",
       "16684                                          7'scarlet      PSV   \n",
       "16685              Help Wanted: 50 Wacky Jobs (jp sales)      Wii   \n",
       "16686  Yattaman Wii: BikkuriDokkiri Machine de Mou Ra...      Wii   \n",
       "16687                              Neo Angelique Special      PSP   \n",
       "16688                      Outdoors Unleashed: Africa 3D      3DS   \n",
       "16689                                          Real Rode      PS2   \n",
       "16690                                     Pony Friends 2       PC   \n",
       "16691                       Dynasty Warriors: Eiketsuden      PS3   \n",
       "16692                  Metal Gear Solid V: Ground Zeroes       PC   \n",
       "16693                                  PGA European Tour      N64   \n",
       "16694                                     Carmageddon 64      N64   \n",
       "16695                                    Planet Monsters      GBA   \n",
       "16696                                             Breach       PC   \n",
       "16697                                   Bust-A-Move 3000       GC   \n",
       "16698                                   Mega Brain Boost       DS   \n",
       "16699                              The Longest 5 Minutes      PSV   \n",
       "16700                           Mezase!! Tsuri Master DS       DS   \n",
       "16701  Eiyuu Densetsu: Sora no Kiseki Material Collec...      PSP   \n",
       "16702                            STORM: Frontline Nation       PC   \n",
       "16703                                   Strawberry Nauts      PSV   \n",
       "16704                                           Plushees       DS   \n",
       "16705                                            15 Days       PC   \n",
       "16706                      Men in Black II: Alien Escape       GC   \n",
       "16707                                   Aiyoku no Eustia      PSV   \n",
       "16708                 Woody Woodpecker in Crazy Castle 5      GBA   \n",
       "16709   SCORE International Baja 1000: The Official Game      PS2   \n",
       "16710                      Samurai Warriors: Sanada Maru      PS3   \n",
       "16711                                   LMA Manager 2007     X360   \n",
       "16712                            Haitaka no Psychedelica      PSV   \n",
       "16713                                   Spirits & Spells      GBA   \n",
       "16714                                Winning Post 8 2016      PSV   \n",
       "\n",
       "       Year_of_Release         Genre  NA_sales  EU_sales  JP_sales  \\\n",
       "16665           2009.0     Adventure      0.00      0.00      0.01   \n",
       "16666           1995.0     Adventure      0.01      0.00      0.00   \n",
       "16667           2014.0     Adventure      0.00      0.00      0.01   \n",
       "16668           2014.0        Action      0.00      0.00      0.01   \n",
       "16669           2002.0  Role-Playing      0.01      0.00      0.00   \n",
       "16670           2008.0     Adventure      0.00      0.00      0.01   \n",
       "16671           2008.0     Adventure      0.00      0.00      0.01   \n",
       "16672           2016.0        Action      0.01      0.00      0.00   \n",
       "16673           2002.0      Fighting      0.01      0.00      0.00   \n",
       "16674           2014.0        Action      0.00      0.01      0.00   \n",
       "16675           2007.0        Action      0.01      0.00      0.00   \n",
       "16676           2008.0        Sports      0.00      0.00      0.00   \n",
       "16677           2016.0        Action      0.00      0.00      0.01   \n",
       "16678           2012.0      Strategy      0.01      0.00      0.00   \n",
       "16679           2006.0        Puzzle      0.00      0.00      0.01   \n",
       "16680           2016.0        Action      0.00      0.00      0.01   \n",
       "16681           1997.0      Strategy      0.00      0.01      0.00   \n",
       "16682           2013.0     Adventure      0.00      0.00      0.01   \n",
       "16683           2008.0     Adventure      0.00      0.00      0.01   \n",
       "16684           2016.0     Adventure      0.00      0.00      0.01   \n",
       "16685           2008.0    Simulation      0.00      0.00      0.01   \n",
       "16686           2008.0        Racing      0.00      0.00      0.01   \n",
       "16687           2008.0     Adventure      0.00      0.00      0.01   \n",
       "16688           2011.0        Sports      0.01      0.00      0.00   \n",
       "16689           2008.0     Adventure      0.00      0.00      0.01   \n",
       "16690           2009.0    Simulation      0.00      0.01      0.00   \n",
       "16691           2016.0        Action      0.00      0.00      0.01   \n",
       "16692           2014.0        Action      0.00      0.01      0.00   \n",
       "16693           2000.0        Sports      0.01      0.00      0.00   \n",
       "16694           1999.0        Action      0.01      0.00      0.00   \n",
       "16695           2001.0        Action      0.01      0.00      0.00   \n",
       "16696           2011.0       Shooter      0.01      0.00      0.00   \n",
       "16697           2003.0        Puzzle      0.01      0.00      0.00   \n",
       "16698           2008.0        Puzzle      0.01      0.00      0.00   \n",
       "16699           2016.0        Action      0.00      0.00      0.01   \n",
       "16700           2009.0        Sports      0.00      0.00      0.01   \n",
       "16701           2007.0  Role-Playing      0.00      0.00      0.01   \n",
       "16702           2011.0      Strategy      0.00      0.01      0.00   \n",
       "16703           2016.0     Adventure      0.00      0.00      0.01   \n",
       "16704           2008.0    Simulation      0.01      0.00      0.00   \n",
       "16705           2009.0     Adventure      0.00      0.01      0.00   \n",
       "16706           2003.0       Shooter      0.01      0.00      0.00   \n",
       "16707           2014.0          Misc      0.00      0.00      0.01   \n",
       "16708           2002.0      Platform      0.01      0.00      0.00   \n",
       "16709           2008.0        Racing      0.00      0.00      0.00   \n",
       "16710           2016.0        Action      0.00      0.00      0.01   \n",
       "16711           2006.0        Sports      0.00      0.01      0.00   \n",
       "16712           2016.0     Adventure      0.00      0.00      0.01   \n",
       "16713           2003.0      Platform      0.01      0.00      0.00   \n",
       "16714           2016.0    Simulation      0.00      0.00      0.01   \n",
       "\n",
       "       Other_sales  Critic_Score User_Score Rating  \n",
       "16665          0.0           NaN        NaN    NaN  \n",
       "16666          0.0           NaN        NaN    NaN  \n",
       "16667          0.0           NaN        NaN    NaN  \n",
       "16668          0.0           NaN        NaN    NaN  \n",
       "16669          0.0          72.0        tbd      T  \n",
       "16670          0.0           NaN        NaN    NaN  \n",
       "16671          0.0           NaN        NaN    NaN  \n",
       "16672          0.0           NaN        tbd      M  \n",
       "16673          0.0          81.0        8.8      M  \n",
       "16674          0.0           NaN        NaN    NaN  \n",
       "16675          0.0           NaN        NaN    NaN  \n",
       "16676          0.0           NaN        NaN    NaN  \n",
       "16677          0.0           NaN        NaN    NaN  \n",
       "16678          0.0           NaN        NaN      T  \n",
       "16679          0.0           NaN        NaN    NaN  \n",
       "16680          0.0           NaN        NaN    NaN  \n",
       "16681          0.0           NaN        8.1    K-A  \n",
       "16682          0.0           NaN        NaN    NaN  \n",
       "16683          0.0           NaN        NaN    NaN  \n",
       "16684          0.0           NaN        NaN    NaN  \n",
       "16685          0.0           NaN        NaN    NaN  \n",
       "16686          0.0           NaN        NaN    NaN  \n",
       "16687          0.0           NaN        NaN    NaN  \n",
       "16688          0.0           NaN        tbd      T  \n",
       "16689          0.0           NaN        NaN    NaN  \n",
       "16690          0.0           NaN        NaN    NaN  \n",
       "16691          0.0           NaN        NaN    NaN  \n",
       "16692          0.0          80.0        7.6      M  \n",
       "16693          0.0           NaN        NaN    NaN  \n",
       "16694          0.0           NaN        NaN    NaN  \n",
       "16695          0.0          67.0        tbd      E  \n",
       "16696          0.0          61.0        5.8      T  \n",
       "16697          0.0          53.0        tbd      E  \n",
       "16698          0.0          48.0        tbd      E  \n",
       "16699          0.0           NaN        NaN    NaN  \n",
       "16700          0.0           NaN        NaN    NaN  \n",
       "16701          0.0           NaN        NaN    NaN  \n",
       "16702          0.0          60.0        7.2   E10+  \n",
       "16703          0.0           NaN        NaN    NaN  \n",
       "16704          0.0           NaN        tbd      E  \n",
       "16705          0.0          63.0        5.8    NaN  \n",
       "16706          0.0           NaN        tbd      T  \n",
       "16707          0.0           NaN        NaN    NaN  \n",
       "16708          0.0           NaN        NaN    NaN  \n",
       "16709          0.0           NaN        NaN    NaN  \n",
       "16710          0.0           NaN        NaN    NaN  \n",
       "16711          0.0           NaN        NaN    NaN  \n",
       "16712          0.0           NaN        NaN    NaN  \n",
       "16713          0.0           NaN        NaN    NaN  \n",
       "16714          0.0           NaN        NaN    NaN  "
      ]
     },
     "execution_count": 1,
     "metadata": {},
     "output_type": "execute_result"
    }
   ],
   "source": [
    "import pandas as pd\n",
    "import math\n",
    "import numpy as np\n",
    "\n",
    "df = pd.read_csv('/datasets/games.csv')\n",
    "df.tail(50)"
   ]
  },
  {
   "cell_type": "code",
   "execution_count": 2,
   "metadata": {},
   "outputs": [
    {
     "name": "stdout",
     "output_type": "stream",
     "text": [
      "Defaulting to user installation because normal site-packages is not writeable\n",
      "Requirement already up-to-date: seaborn in /home/jovyan/.local/lib/python3.7/site-packages (0.11.2)\n",
      "Requirement already satisfied, skipping upgrade: matplotlib>=2.2 in /opt/conda/lib/python3.7/site-packages (from seaborn) (3.1.0)\n",
      "Requirement already satisfied, skipping upgrade: pandas>=0.23 in /opt/conda/lib/python3.7/site-packages (from seaborn) (0.25.1)\n",
      "Requirement already satisfied, skipping upgrade: numpy>=1.15 in /opt/conda/lib/python3.7/site-packages (from seaborn) (1.19.5)\n",
      "Requirement already satisfied, skipping upgrade: scipy>=1.0 in /opt/conda/lib/python3.7/site-packages (from seaborn) (1.4.1)\n",
      "Requirement already satisfied, skipping upgrade: cycler>=0.10 in /opt/conda/lib/python3.7/site-packages (from matplotlib>=2.2->seaborn) (0.10.0)\n",
      "Requirement already satisfied, skipping upgrade: kiwisolver>=1.0.1 in /opt/conda/lib/python3.7/site-packages (from matplotlib>=2.2->seaborn) (1.3.1)\n",
      "Requirement already satisfied, skipping upgrade: python-dateutil>=2.1 in /opt/conda/lib/python3.7/site-packages (from matplotlib>=2.2->seaborn) (2.8.1)\n",
      "Requirement already satisfied, skipping upgrade: pyparsing!=2.0.4,!=2.1.2,!=2.1.6,>=2.0.1 in /opt/conda/lib/python3.7/site-packages (from matplotlib>=2.2->seaborn) (2.4.7)\n",
      "Requirement already satisfied, skipping upgrade: pytz>=2017.2 in /opt/conda/lib/python3.7/site-packages (from pandas>=0.23->seaborn) (2021.1)\n",
      "Requirement already satisfied, skipping upgrade: six in /opt/conda/lib/python3.7/site-packages (from cycler>=0.10->matplotlib>=2.2->seaborn) (1.15.0)\n"
     ]
    },
    {
     "data": {
      "text/plain": [
       "<module 'seaborn' from '/home/jovyan/.local/lib/python3.7/site-packages/seaborn/__init__.py'>"
      ]
     },
     "execution_count": 2,
     "metadata": {},
     "output_type": "execute_result"
    }
   ],
   "source": [
    "!pip install -U seaborn\n",
    "import seaborn as sns\n",
    "import matplotlib.pyplot as plt\n",
    "\n",
    "sns.set(style=\"darkgrid\")\n",
    "sns"
   ]
  },
  {
   "cell_type": "code",
   "execution_count": 3,
   "metadata": {},
   "outputs": [],
   "source": [
    "import warnings\n",
    "warnings.simplefilter('ignore')"
   ]
  },
  {
   "cell_type": "markdown",
   "metadata": {},
   "source": [
    "Открываем файл, и смотрим на первые 20 строчек датасета."
   ]
  },
  {
   "cell_type": "code",
   "execution_count": 4,
   "metadata": {},
   "outputs": [
    {
     "data": {
      "text/html": [
       "<div>\n",
       "<style scoped>\n",
       "    .dataframe tbody tr th:only-of-type {\n",
       "        vertical-align: middle;\n",
       "    }\n",
       "\n",
       "    .dataframe tbody tr th {\n",
       "        vertical-align: top;\n",
       "    }\n",
       "\n",
       "    .dataframe thead th {\n",
       "        text-align: right;\n",
       "    }\n",
       "</style>\n",
       "<table border=\"1\" class=\"dataframe\">\n",
       "  <thead>\n",
       "    <tr style=\"text-align: right;\">\n",
       "      <th></th>\n",
       "      <th>Year_of_Release</th>\n",
       "      <th>NA_sales</th>\n",
       "      <th>EU_sales</th>\n",
       "      <th>JP_sales</th>\n",
       "      <th>Other_sales</th>\n",
       "      <th>Critic_Score</th>\n",
       "    </tr>\n",
       "  </thead>\n",
       "  <tbody>\n",
       "    <tr>\n",
       "      <td>count</td>\n",
       "      <td>16446.000000</td>\n",
       "      <td>16715.000000</td>\n",
       "      <td>16715.000000</td>\n",
       "      <td>16715.000000</td>\n",
       "      <td>16715.000000</td>\n",
       "      <td>8137.000000</td>\n",
       "    </tr>\n",
       "    <tr>\n",
       "      <td>mean</td>\n",
       "      <td>2006.484616</td>\n",
       "      <td>0.263377</td>\n",
       "      <td>0.145060</td>\n",
       "      <td>0.077617</td>\n",
       "      <td>0.047342</td>\n",
       "      <td>68.967679</td>\n",
       "    </tr>\n",
       "    <tr>\n",
       "      <td>std</td>\n",
       "      <td>5.877050</td>\n",
       "      <td>0.813604</td>\n",
       "      <td>0.503339</td>\n",
       "      <td>0.308853</td>\n",
       "      <td>0.186731</td>\n",
       "      <td>13.938165</td>\n",
       "    </tr>\n",
       "    <tr>\n",
       "      <td>min</td>\n",
       "      <td>1980.000000</td>\n",
       "      <td>0.000000</td>\n",
       "      <td>0.000000</td>\n",
       "      <td>0.000000</td>\n",
       "      <td>0.000000</td>\n",
       "      <td>13.000000</td>\n",
       "    </tr>\n",
       "    <tr>\n",
       "      <td>25%</td>\n",
       "      <td>2003.000000</td>\n",
       "      <td>0.000000</td>\n",
       "      <td>0.000000</td>\n",
       "      <td>0.000000</td>\n",
       "      <td>0.000000</td>\n",
       "      <td>60.000000</td>\n",
       "    </tr>\n",
       "    <tr>\n",
       "      <td>50%</td>\n",
       "      <td>2007.000000</td>\n",
       "      <td>0.080000</td>\n",
       "      <td>0.020000</td>\n",
       "      <td>0.000000</td>\n",
       "      <td>0.010000</td>\n",
       "      <td>71.000000</td>\n",
       "    </tr>\n",
       "    <tr>\n",
       "      <td>75%</td>\n",
       "      <td>2010.000000</td>\n",
       "      <td>0.240000</td>\n",
       "      <td>0.110000</td>\n",
       "      <td>0.040000</td>\n",
       "      <td>0.030000</td>\n",
       "      <td>79.000000</td>\n",
       "    </tr>\n",
       "    <tr>\n",
       "      <td>max</td>\n",
       "      <td>2016.000000</td>\n",
       "      <td>41.360000</td>\n",
       "      <td>28.960000</td>\n",
       "      <td>10.220000</td>\n",
       "      <td>10.570000</td>\n",
       "      <td>98.000000</td>\n",
       "    </tr>\n",
       "  </tbody>\n",
       "</table>\n",
       "</div>"
      ],
      "text/plain": [
       "       Year_of_Release      NA_sales      EU_sales      JP_sales  \\\n",
       "count     16446.000000  16715.000000  16715.000000  16715.000000   \n",
       "mean       2006.484616      0.263377      0.145060      0.077617   \n",
       "std           5.877050      0.813604      0.503339      0.308853   \n",
       "min        1980.000000      0.000000      0.000000      0.000000   \n",
       "25%        2003.000000      0.000000      0.000000      0.000000   \n",
       "50%        2007.000000      0.080000      0.020000      0.000000   \n",
       "75%        2010.000000      0.240000      0.110000      0.040000   \n",
       "max        2016.000000     41.360000     28.960000     10.220000   \n",
       "\n",
       "        Other_sales  Critic_Score  \n",
       "count  16715.000000   8137.000000  \n",
       "mean       0.047342     68.967679  \n",
       "std        0.186731     13.938165  \n",
       "min        0.000000     13.000000  \n",
       "25%        0.000000     60.000000  \n",
       "50%        0.010000     71.000000  \n",
       "75%        0.030000     79.000000  \n",
       "max       10.570000     98.000000  "
      ]
     },
     "execution_count": 4,
     "metadata": {},
     "output_type": "execute_result"
    }
   ],
   "source": [
    "df.describe()"
   ]
  },
  {
   "cell_type": "markdown",
   "metadata": {},
   "source": [
    "Просматриваем файл функцией discrabe, которая сразу выдает основные числовые параметры."
   ]
  },
  {
   "cell_type": "code",
   "execution_count": 5,
   "metadata": {},
   "outputs": [
    {
     "name": "stdout",
     "output_type": "stream",
     "text": [
      "<class 'pandas.core.frame.DataFrame'>\n",
      "RangeIndex: 16715 entries, 0 to 16714\n",
      "Data columns (total 11 columns):\n",
      "Name               16713 non-null object\n",
      "Platform           16715 non-null object\n",
      "Year_of_Release    16446 non-null float64\n",
      "Genre              16713 non-null object\n",
      "NA_sales           16715 non-null float64\n",
      "EU_sales           16715 non-null float64\n",
      "JP_sales           16715 non-null float64\n",
      "Other_sales        16715 non-null float64\n",
      "Critic_Score       8137 non-null float64\n",
      "User_Score         10014 non-null object\n",
      "Rating             9949 non-null object\n",
      "dtypes: float64(6), object(5)\n",
      "memory usage: 1.4+ MB\n"
     ]
    }
   ],
   "source": [
    "df.info()"
   ]
  },
  {
   "cell_type": "markdown",
   "metadata": {},
   "source": [
    "Просматриваем типы данных для каждого столбца."
   ]
  },
  {
   "cell_type": "code",
   "execution_count": 6,
   "metadata": {},
   "outputs": [
    {
     "data": {
      "text/plain": [
       "Name                  2\n",
       "Platform              0\n",
       "Year_of_Release     269\n",
       "Genre                 2\n",
       "NA_sales              0\n",
       "EU_sales              0\n",
       "JP_sales              0\n",
       "Other_sales           0\n",
       "Critic_Score       8578\n",
       "User_Score         6701\n",
       "Rating             6766\n",
       "dtype: int64"
      ]
     },
     "execution_count": 6,
     "metadata": {},
     "output_type": "execute_result"
    }
   ],
   "source": [
    "df.isna().sum()"
   ]
  },
  {
   "cell_type": "markdown",
   "metadata": {},
   "source": [
    "Просматриваем какие есть пропуски в столбцах."
   ]
  },
  {
   "cell_type": "markdown",
   "metadata": {},
   "source": [
    "Проверяем есть ли дубликаты."
   ]
  },
  {
   "cell_type": "markdown",
   "metadata": {},
   "source": [
    "##   Подготовьте данные"
   ]
  },
  {
   "cell_type": "code",
   "execution_count": 7,
   "metadata": {},
   "outputs": [],
   "source": [
    "df.columns = map(str.lower, df.columns)"
   ]
  },
  {
   "cell_type": "markdown",
   "metadata": {},
   "source": [
    "Меняем все буквы в названиях столбцов на строчные."
   ]
  },
  {
   "cell_type": "code",
   "execution_count": 8,
   "metadata": {},
   "outputs": [],
   "source": [
    "df['year_of_release'] = df['year_of_release'].fillna(0)\n",
    "df['year_of_release'] = df['year_of_release'].astype('int')"
   ]
  },
  {
   "cell_type": "markdown",
   "metadata": {},
   "source": [
    "Меняем пропуски в столбце год выпуска игры на 0. Считаем что 0 либо год не указан либо не известен. Года меняем на целое число."
   ]
  },
  {
   "cell_type": "code",
   "execution_count": 9,
   "metadata": {},
   "outputs": [
    {
     "data": {
      "text/html": [
       "<div>\n",
       "<style scoped>\n",
       "    .dataframe tbody tr th:only-of-type {\n",
       "        vertical-align: middle;\n",
       "    }\n",
       "\n",
       "    .dataframe tbody tr th {\n",
       "        vertical-align: top;\n",
       "    }\n",
       "\n",
       "    .dataframe thead th {\n",
       "        text-align: right;\n",
       "    }\n",
       "</style>\n",
       "<table border=\"1\" class=\"dataframe\">\n",
       "  <thead>\n",
       "    <tr style=\"text-align: right;\">\n",
       "      <th></th>\n",
       "      <th>name</th>\n",
       "      <th>platform</th>\n",
       "      <th>year_of_release</th>\n",
       "      <th>genre</th>\n",
       "      <th>na_sales</th>\n",
       "      <th>eu_sales</th>\n",
       "      <th>jp_sales</th>\n",
       "      <th>other_sales</th>\n",
       "      <th>critic_score</th>\n",
       "      <th>user_score</th>\n",
       "      <th>rating</th>\n",
       "    </tr>\n",
       "  </thead>\n",
       "  <tbody>\n",
       "    <tr>\n",
       "      <td>0</td>\n",
       "      <td>Wii Sports</td>\n",
       "      <td>Wii</td>\n",
       "      <td>2006</td>\n",
       "      <td>Sports</td>\n",
       "      <td>41.36</td>\n",
       "      <td>28.96</td>\n",
       "      <td>3.77</td>\n",
       "      <td>8.45</td>\n",
       "      <td>76.0</td>\n",
       "      <td>8</td>\n",
       "      <td>E</td>\n",
       "    </tr>\n",
       "    <tr>\n",
       "      <td>1</td>\n",
       "      <td>Super Mario Bros.</td>\n",
       "      <td>NES</td>\n",
       "      <td>1985</td>\n",
       "      <td>Platform</td>\n",
       "      <td>29.08</td>\n",
       "      <td>3.58</td>\n",
       "      <td>6.81</td>\n",
       "      <td>0.77</td>\n",
       "      <td>NaN</td>\n",
       "      <td>NaN</td>\n",
       "      <td>NaN</td>\n",
       "    </tr>\n",
       "    <tr>\n",
       "      <td>2</td>\n",
       "      <td>Mario Kart Wii</td>\n",
       "      <td>Wii</td>\n",
       "      <td>2008</td>\n",
       "      <td>Racing</td>\n",
       "      <td>15.68</td>\n",
       "      <td>12.76</td>\n",
       "      <td>3.79</td>\n",
       "      <td>3.29</td>\n",
       "      <td>82.0</td>\n",
       "      <td>8.3</td>\n",
       "      <td>E</td>\n",
       "    </tr>\n",
       "    <tr>\n",
       "      <td>3</td>\n",
       "      <td>Wii Sports Resort</td>\n",
       "      <td>Wii</td>\n",
       "      <td>2009</td>\n",
       "      <td>Sports</td>\n",
       "      <td>15.61</td>\n",
       "      <td>10.93</td>\n",
       "      <td>3.28</td>\n",
       "      <td>2.95</td>\n",
       "      <td>80.0</td>\n",
       "      <td>8</td>\n",
       "      <td>E</td>\n",
       "    </tr>\n",
       "    <tr>\n",
       "      <td>4</td>\n",
       "      <td>Pokemon Red/Pokemon Blue</td>\n",
       "      <td>GB</td>\n",
       "      <td>1996</td>\n",
       "      <td>Role-Playing</td>\n",
       "      <td>11.27</td>\n",
       "      <td>8.89</td>\n",
       "      <td>10.22</td>\n",
       "      <td>1.00</td>\n",
       "      <td>NaN</td>\n",
       "      <td>NaN</td>\n",
       "      <td>NaN</td>\n",
       "    </tr>\n",
       "    <tr>\n",
       "      <td>...</td>\n",
       "      <td>...</td>\n",
       "      <td>...</td>\n",
       "      <td>...</td>\n",
       "      <td>...</td>\n",
       "      <td>...</td>\n",
       "      <td>...</td>\n",
       "      <td>...</td>\n",
       "      <td>...</td>\n",
       "      <td>...</td>\n",
       "      <td>...</td>\n",
       "      <td>...</td>\n",
       "    </tr>\n",
       "    <tr>\n",
       "      <td>16710</td>\n",
       "      <td>Samurai Warriors: Sanada Maru</td>\n",
       "      <td>PS3</td>\n",
       "      <td>2016</td>\n",
       "      <td>Action</td>\n",
       "      <td>0.00</td>\n",
       "      <td>0.00</td>\n",
       "      <td>0.01</td>\n",
       "      <td>0.00</td>\n",
       "      <td>NaN</td>\n",
       "      <td>NaN</td>\n",
       "      <td>NaN</td>\n",
       "    </tr>\n",
       "    <tr>\n",
       "      <td>16711</td>\n",
       "      <td>LMA Manager 2007</td>\n",
       "      <td>X360</td>\n",
       "      <td>2006</td>\n",
       "      <td>Sports</td>\n",
       "      <td>0.00</td>\n",
       "      <td>0.01</td>\n",
       "      <td>0.00</td>\n",
       "      <td>0.00</td>\n",
       "      <td>NaN</td>\n",
       "      <td>NaN</td>\n",
       "      <td>NaN</td>\n",
       "    </tr>\n",
       "    <tr>\n",
       "      <td>16712</td>\n",
       "      <td>Haitaka no Psychedelica</td>\n",
       "      <td>PSV</td>\n",
       "      <td>2016</td>\n",
       "      <td>Adventure</td>\n",
       "      <td>0.00</td>\n",
       "      <td>0.00</td>\n",
       "      <td>0.01</td>\n",
       "      <td>0.00</td>\n",
       "      <td>NaN</td>\n",
       "      <td>NaN</td>\n",
       "      <td>NaN</td>\n",
       "    </tr>\n",
       "    <tr>\n",
       "      <td>16713</td>\n",
       "      <td>Spirits &amp; Spells</td>\n",
       "      <td>GBA</td>\n",
       "      <td>2003</td>\n",
       "      <td>Platform</td>\n",
       "      <td>0.01</td>\n",
       "      <td>0.00</td>\n",
       "      <td>0.00</td>\n",
       "      <td>0.00</td>\n",
       "      <td>NaN</td>\n",
       "      <td>NaN</td>\n",
       "      <td>NaN</td>\n",
       "    </tr>\n",
       "    <tr>\n",
       "      <td>16714</td>\n",
       "      <td>Winning Post 8 2016</td>\n",
       "      <td>PSV</td>\n",
       "      <td>2016</td>\n",
       "      <td>Simulation</td>\n",
       "      <td>0.00</td>\n",
       "      <td>0.00</td>\n",
       "      <td>0.01</td>\n",
       "      <td>0.00</td>\n",
       "      <td>NaN</td>\n",
       "      <td>NaN</td>\n",
       "      <td>NaN</td>\n",
       "    </tr>\n",
       "  </tbody>\n",
       "</table>\n",
       "<p>16715 rows × 11 columns</p>\n",
       "</div>"
      ],
      "text/plain": [
       "                                name platform  year_of_release         genre  \\\n",
       "0                         Wii Sports      Wii             2006        Sports   \n",
       "1                  Super Mario Bros.      NES             1985      Platform   \n",
       "2                     Mario Kart Wii      Wii             2008        Racing   \n",
       "3                  Wii Sports Resort      Wii             2009        Sports   \n",
       "4           Pokemon Red/Pokemon Blue       GB             1996  Role-Playing   \n",
       "...                              ...      ...              ...           ...   \n",
       "16710  Samurai Warriors: Sanada Maru      PS3             2016        Action   \n",
       "16711               LMA Manager 2007     X360             2006        Sports   \n",
       "16712        Haitaka no Psychedelica      PSV             2016     Adventure   \n",
       "16713               Spirits & Spells      GBA             2003      Platform   \n",
       "16714            Winning Post 8 2016      PSV             2016    Simulation   \n",
       "\n",
       "       na_sales  eu_sales  jp_sales  other_sales  critic_score user_score  \\\n",
       "0         41.36     28.96      3.77         8.45          76.0          8   \n",
       "1         29.08      3.58      6.81         0.77           NaN        NaN   \n",
       "2         15.68     12.76      3.79         3.29          82.0        8.3   \n",
       "3         15.61     10.93      3.28         2.95          80.0          8   \n",
       "4         11.27      8.89     10.22         1.00           NaN        NaN   \n",
       "...         ...       ...       ...          ...           ...        ...   \n",
       "16710      0.00      0.00      0.01         0.00           NaN        NaN   \n",
       "16711      0.00      0.01      0.00         0.00           NaN        NaN   \n",
       "16712      0.00      0.00      0.01         0.00           NaN        NaN   \n",
       "16713      0.01      0.00      0.00         0.00           NaN        NaN   \n",
       "16714      0.00      0.00      0.01         0.00           NaN        NaN   \n",
       "\n",
       "      rating  \n",
       "0          E  \n",
       "1        NaN  \n",
       "2          E  \n",
       "3          E  \n",
       "4        NaN  \n",
       "...      ...  \n",
       "16710    NaN  \n",
       "16711    NaN  \n",
       "16712    NaN  \n",
       "16713    NaN  \n",
       "16714    NaN  \n",
       "\n",
       "[16715 rows x 11 columns]"
      ]
     },
     "execution_count": 9,
     "metadata": {},
     "output_type": "execute_result"
    }
   ],
   "source": [
    "df"
   ]
  },
  {
   "cell_type": "code",
   "execution_count": 10,
   "metadata": {},
   "outputs": [],
   "source": [
    "df['critic_score'] = df['critic_score'].fillna(-10)\n",
    "df['critic_score'] = df['critic_score'].astype('int')\n"
   ]
  },
  {
   "cell_type": "markdown",
   "metadata": {},
   "source": [
    "Меняем пропуски в столбце оценки критиков на заглушку -10. Округляем до целого числа, так как оченки выставляются целыми числами."
   ]
  },
  {
   "cell_type": "code",
   "execution_count": 11,
   "metadata": {},
   "outputs": [],
   "source": [
    "df['user_score'] = df['user_score'].replace('tbd',np.nan)\n",
    "df['user_score'] = df['user_score'].fillna(-100) \n"
   ]
  },
  {
   "cell_type": "code",
   "execution_count": 12,
   "metadata": {},
   "outputs": [
    {
     "data": {
      "text/plain": [
       "no_rating    6766\n",
       "E            3990\n",
       "T            2961\n",
       "M            1563\n",
       "E10+         1420\n",
       "EC              8\n",
       "RP              3\n",
       "K-A             3\n",
       "AO              1\n",
       "Name: rating, dtype: int64"
      ]
     },
     "execution_count": 12,
     "metadata": {},
     "output_type": "execute_result"
    }
   ],
   "source": [
    "df['user_score'] = df['user_score'].fillna(-100) \n",
    "df['rating'] = df['rating'].fillna('no_rating') \n",
    "df['rating'].value_counts()"
   ]
  },
  {
   "cell_type": "markdown",
   "metadata": {},
   "source": [
    "Мняем в столбце оценок игроков пропуски на заглушку no_rating. tbd - это значение которое будет определено в будующем. Заменяем его пропусками.\n",
    "\n",
    "В столбце рейтинг от организации ESRB пропуски нти игры не оценены этой оргинизацией либо выпущены до 1994 года(год основания организации ESRB)."
   ]
  },
  {
   "cell_type": "code",
   "execution_count": 13,
   "metadata": {},
   "outputs": [
    {
     "data": {
      "text/plain": [
       "name               2\n",
       "platform           0\n",
       "year_of_release    0\n",
       "genre              2\n",
       "na_sales           0\n",
       "eu_sales           0\n",
       "jp_sales           0\n",
       "other_sales        0\n",
       "critic_score       0\n",
       "user_score         0\n",
       "rating             0\n",
       "dtype: int64"
      ]
     },
     "execution_count": 13,
     "metadata": {},
     "output_type": "execute_result"
    }
   ],
   "source": [
    "df.isna().sum()"
   ]
  },
  {
   "cell_type": "code",
   "execution_count": 14,
   "metadata": {},
   "outputs": [],
   "source": [
    "df = df.dropna(subset = ['genre'])"
   ]
  },
  {
   "cell_type": "code",
   "execution_count": 15,
   "metadata": {},
   "outputs": [
    {
     "data": {
      "text/plain": [
       "name               0\n",
       "platform           0\n",
       "year_of_release    0\n",
       "genre              0\n",
       "na_sales           0\n",
       "eu_sales           0\n",
       "jp_sales           0\n",
       "other_sales        0\n",
       "critic_score       0\n",
       "user_score         0\n",
       "rating             0\n",
       "dtype: int64"
      ]
     },
     "execution_count": 15,
     "metadata": {},
     "output_type": "execute_result"
    }
   ],
   "source": [
    "df.isna().sum()"
   ]
  },
  {
   "cell_type": "code",
   "execution_count": 16,
   "metadata": {},
   "outputs": [
    {
     "data": {
      "text/html": [
       "<div>\n",
       "<style scoped>\n",
       "    .dataframe tbody tr th:only-of-type {\n",
       "        vertical-align: middle;\n",
       "    }\n",
       "\n",
       "    .dataframe tbody tr th {\n",
       "        vertical-align: top;\n",
       "    }\n",
       "\n",
       "    .dataframe thead th {\n",
       "        text-align: right;\n",
       "    }\n",
       "</style>\n",
       "<table border=\"1\" class=\"dataframe\">\n",
       "  <thead>\n",
       "    <tr style=\"text-align: right;\">\n",
       "      <th></th>\n",
       "      <th>name</th>\n",
       "      <th>platform</th>\n",
       "      <th>year_of_release</th>\n",
       "      <th>genre</th>\n",
       "      <th>na_sales</th>\n",
       "      <th>eu_sales</th>\n",
       "      <th>jp_sales</th>\n",
       "      <th>other_sales</th>\n",
       "      <th>critic_score</th>\n",
       "      <th>user_score</th>\n",
       "      <th>rating</th>\n",
       "    </tr>\n",
       "  </thead>\n",
       "  <tbody>\n",
       "    <tr>\n",
       "      <td>0</td>\n",
       "      <td>Wii Sports</td>\n",
       "      <td>Wii</td>\n",
       "      <td>2006</td>\n",
       "      <td>Sports</td>\n",
       "      <td>41.36</td>\n",
       "      <td>28.96</td>\n",
       "      <td>3.77</td>\n",
       "      <td>8.45</td>\n",
       "      <td>76</td>\n",
       "      <td>8</td>\n",
       "      <td>E</td>\n",
       "    </tr>\n",
       "    <tr>\n",
       "      <td>1</td>\n",
       "      <td>Super Mario Bros.</td>\n",
       "      <td>NES</td>\n",
       "      <td>1985</td>\n",
       "      <td>Platform</td>\n",
       "      <td>29.08</td>\n",
       "      <td>3.58</td>\n",
       "      <td>6.81</td>\n",
       "      <td>0.77</td>\n",
       "      <td>-10</td>\n",
       "      <td>-100</td>\n",
       "      <td>no_rating</td>\n",
       "    </tr>\n",
       "    <tr>\n",
       "      <td>2</td>\n",
       "      <td>Mario Kart Wii</td>\n",
       "      <td>Wii</td>\n",
       "      <td>2008</td>\n",
       "      <td>Racing</td>\n",
       "      <td>15.68</td>\n",
       "      <td>12.76</td>\n",
       "      <td>3.79</td>\n",
       "      <td>3.29</td>\n",
       "      <td>82</td>\n",
       "      <td>8.3</td>\n",
       "      <td>E</td>\n",
       "    </tr>\n",
       "    <tr>\n",
       "      <td>3</td>\n",
       "      <td>Wii Sports Resort</td>\n",
       "      <td>Wii</td>\n",
       "      <td>2009</td>\n",
       "      <td>Sports</td>\n",
       "      <td>15.61</td>\n",
       "      <td>10.93</td>\n",
       "      <td>3.28</td>\n",
       "      <td>2.95</td>\n",
       "      <td>80</td>\n",
       "      <td>8</td>\n",
       "      <td>E</td>\n",
       "    </tr>\n",
       "    <tr>\n",
       "      <td>4</td>\n",
       "      <td>Pokemon Red/Pokemon Blue</td>\n",
       "      <td>GB</td>\n",
       "      <td>1996</td>\n",
       "      <td>Role-Playing</td>\n",
       "      <td>11.27</td>\n",
       "      <td>8.89</td>\n",
       "      <td>10.22</td>\n",
       "      <td>1.00</td>\n",
       "      <td>-10</td>\n",
       "      <td>-100</td>\n",
       "      <td>no_rating</td>\n",
       "    </tr>\n",
       "    <tr>\n",
       "      <td>...</td>\n",
       "      <td>...</td>\n",
       "      <td>...</td>\n",
       "      <td>...</td>\n",
       "      <td>...</td>\n",
       "      <td>...</td>\n",
       "      <td>...</td>\n",
       "      <td>...</td>\n",
       "      <td>...</td>\n",
       "      <td>...</td>\n",
       "      <td>...</td>\n",
       "      <td>...</td>\n",
       "    </tr>\n",
       "    <tr>\n",
       "      <td>16710</td>\n",
       "      <td>Samurai Warriors: Sanada Maru</td>\n",
       "      <td>PS3</td>\n",
       "      <td>2016</td>\n",
       "      <td>Action</td>\n",
       "      <td>0.00</td>\n",
       "      <td>0.00</td>\n",
       "      <td>0.01</td>\n",
       "      <td>0.00</td>\n",
       "      <td>-10</td>\n",
       "      <td>-100</td>\n",
       "      <td>no_rating</td>\n",
       "    </tr>\n",
       "    <tr>\n",
       "      <td>16711</td>\n",
       "      <td>LMA Manager 2007</td>\n",
       "      <td>X360</td>\n",
       "      <td>2006</td>\n",
       "      <td>Sports</td>\n",
       "      <td>0.00</td>\n",
       "      <td>0.01</td>\n",
       "      <td>0.00</td>\n",
       "      <td>0.00</td>\n",
       "      <td>-10</td>\n",
       "      <td>-100</td>\n",
       "      <td>no_rating</td>\n",
       "    </tr>\n",
       "    <tr>\n",
       "      <td>16712</td>\n",
       "      <td>Haitaka no Psychedelica</td>\n",
       "      <td>PSV</td>\n",
       "      <td>2016</td>\n",
       "      <td>Adventure</td>\n",
       "      <td>0.00</td>\n",
       "      <td>0.00</td>\n",
       "      <td>0.01</td>\n",
       "      <td>0.00</td>\n",
       "      <td>-10</td>\n",
       "      <td>-100</td>\n",
       "      <td>no_rating</td>\n",
       "    </tr>\n",
       "    <tr>\n",
       "      <td>16713</td>\n",
       "      <td>Spirits &amp; Spells</td>\n",
       "      <td>GBA</td>\n",
       "      <td>2003</td>\n",
       "      <td>Platform</td>\n",
       "      <td>0.01</td>\n",
       "      <td>0.00</td>\n",
       "      <td>0.00</td>\n",
       "      <td>0.00</td>\n",
       "      <td>-10</td>\n",
       "      <td>-100</td>\n",
       "      <td>no_rating</td>\n",
       "    </tr>\n",
       "    <tr>\n",
       "      <td>16714</td>\n",
       "      <td>Winning Post 8 2016</td>\n",
       "      <td>PSV</td>\n",
       "      <td>2016</td>\n",
       "      <td>Simulation</td>\n",
       "      <td>0.00</td>\n",
       "      <td>0.00</td>\n",
       "      <td>0.01</td>\n",
       "      <td>0.00</td>\n",
       "      <td>-10</td>\n",
       "      <td>-100</td>\n",
       "      <td>no_rating</td>\n",
       "    </tr>\n",
       "  </tbody>\n",
       "</table>\n",
       "<p>16713 rows × 11 columns</p>\n",
       "</div>"
      ],
      "text/plain": [
       "                                name platform  year_of_release         genre  \\\n",
       "0                         Wii Sports      Wii             2006        Sports   \n",
       "1                  Super Mario Bros.      NES             1985      Platform   \n",
       "2                     Mario Kart Wii      Wii             2008        Racing   \n",
       "3                  Wii Sports Resort      Wii             2009        Sports   \n",
       "4           Pokemon Red/Pokemon Blue       GB             1996  Role-Playing   \n",
       "...                              ...      ...              ...           ...   \n",
       "16710  Samurai Warriors: Sanada Maru      PS3             2016        Action   \n",
       "16711               LMA Manager 2007     X360             2006        Sports   \n",
       "16712        Haitaka no Psychedelica      PSV             2016     Adventure   \n",
       "16713               Spirits & Spells      GBA             2003      Platform   \n",
       "16714            Winning Post 8 2016      PSV             2016    Simulation   \n",
       "\n",
       "       na_sales  eu_sales  jp_sales  other_sales  critic_score user_score  \\\n",
       "0         41.36     28.96      3.77         8.45            76          8   \n",
       "1         29.08      3.58      6.81         0.77           -10       -100   \n",
       "2         15.68     12.76      3.79         3.29            82        8.3   \n",
       "3         15.61     10.93      3.28         2.95            80          8   \n",
       "4         11.27      8.89     10.22         1.00           -10       -100   \n",
       "...         ...       ...       ...          ...           ...        ...   \n",
       "16710      0.00      0.00      0.01         0.00           -10       -100   \n",
       "16711      0.00      0.01      0.00         0.00           -10       -100   \n",
       "16712      0.00      0.00      0.01         0.00           -10       -100   \n",
       "16713      0.01      0.00      0.00         0.00           -10       -100   \n",
       "16714      0.00      0.00      0.01         0.00           -10       -100   \n",
       "\n",
       "          rating  \n",
       "0              E  \n",
       "1      no_rating  \n",
       "2              E  \n",
       "3              E  \n",
       "4      no_rating  \n",
       "...          ...  \n",
       "16710  no_rating  \n",
       "16711  no_rating  \n",
       "16712  no_rating  \n",
       "16713  no_rating  \n",
       "16714  no_rating  \n",
       "\n",
       "[16713 rows x 11 columns]"
      ]
     },
     "execution_count": 16,
     "metadata": {},
     "output_type": "execute_result"
    }
   ],
   "source": [
    "df"
   ]
  },
  {
   "cell_type": "markdown",
   "metadata": {},
   "source": [
    "Удвляем строки где отсутвует название жанра. Удалилось всего две строки где отсутвовали и названия игр."
   ]
  },
  {
   "cell_type": "code",
   "execution_count": 17,
   "metadata": {},
   "outputs": [],
   "source": [
    "df['sum_sales'] = df['na_sales'] + df['eu_sales'] + df['jp_sales'] + df['other_sales'] "
   ]
  },
  {
   "cell_type": "code",
   "execution_count": 18,
   "metadata": {},
   "outputs": [
    {
     "data": {
      "text/html": [
       "<div>\n",
       "<style scoped>\n",
       "    .dataframe tbody tr th:only-of-type {\n",
       "        vertical-align: middle;\n",
       "    }\n",
       "\n",
       "    .dataframe tbody tr th {\n",
       "        vertical-align: top;\n",
       "    }\n",
       "\n",
       "    .dataframe thead th {\n",
       "        text-align: right;\n",
       "    }\n",
       "</style>\n",
       "<table border=\"1\" class=\"dataframe\">\n",
       "  <thead>\n",
       "    <tr style=\"text-align: right;\">\n",
       "      <th></th>\n",
       "      <th>name</th>\n",
       "      <th>platform</th>\n",
       "      <th>year_of_release</th>\n",
       "      <th>genre</th>\n",
       "      <th>na_sales</th>\n",
       "      <th>eu_sales</th>\n",
       "      <th>jp_sales</th>\n",
       "      <th>other_sales</th>\n",
       "      <th>critic_score</th>\n",
       "      <th>user_score</th>\n",
       "      <th>rating</th>\n",
       "      <th>sum_sales</th>\n",
       "    </tr>\n",
       "  </thead>\n",
       "  <tbody>\n",
       "    <tr>\n",
       "      <td>0</td>\n",
       "      <td>Wii Sports</td>\n",
       "      <td>Wii</td>\n",
       "      <td>2006</td>\n",
       "      <td>Sports</td>\n",
       "      <td>41.36</td>\n",
       "      <td>28.96</td>\n",
       "      <td>3.77</td>\n",
       "      <td>8.45</td>\n",
       "      <td>76</td>\n",
       "      <td>8</td>\n",
       "      <td>E</td>\n",
       "      <td>82.54</td>\n",
       "    </tr>\n",
       "    <tr>\n",
       "      <td>1</td>\n",
       "      <td>Super Mario Bros.</td>\n",
       "      <td>NES</td>\n",
       "      <td>1985</td>\n",
       "      <td>Platform</td>\n",
       "      <td>29.08</td>\n",
       "      <td>3.58</td>\n",
       "      <td>6.81</td>\n",
       "      <td>0.77</td>\n",
       "      <td>-10</td>\n",
       "      <td>-100</td>\n",
       "      <td>no_rating</td>\n",
       "      <td>40.24</td>\n",
       "    </tr>\n",
       "    <tr>\n",
       "      <td>2</td>\n",
       "      <td>Mario Kart Wii</td>\n",
       "      <td>Wii</td>\n",
       "      <td>2008</td>\n",
       "      <td>Racing</td>\n",
       "      <td>15.68</td>\n",
       "      <td>12.76</td>\n",
       "      <td>3.79</td>\n",
       "      <td>3.29</td>\n",
       "      <td>82</td>\n",
       "      <td>8.3</td>\n",
       "      <td>E</td>\n",
       "      <td>35.52</td>\n",
       "    </tr>\n",
       "    <tr>\n",
       "      <td>3</td>\n",
       "      <td>Wii Sports Resort</td>\n",
       "      <td>Wii</td>\n",
       "      <td>2009</td>\n",
       "      <td>Sports</td>\n",
       "      <td>15.61</td>\n",
       "      <td>10.93</td>\n",
       "      <td>3.28</td>\n",
       "      <td>2.95</td>\n",
       "      <td>80</td>\n",
       "      <td>8</td>\n",
       "      <td>E</td>\n",
       "      <td>32.77</td>\n",
       "    </tr>\n",
       "    <tr>\n",
       "      <td>4</td>\n",
       "      <td>Pokemon Red/Pokemon Blue</td>\n",
       "      <td>GB</td>\n",
       "      <td>1996</td>\n",
       "      <td>Role-Playing</td>\n",
       "      <td>11.27</td>\n",
       "      <td>8.89</td>\n",
       "      <td>10.22</td>\n",
       "      <td>1.00</td>\n",
       "      <td>-10</td>\n",
       "      <td>-100</td>\n",
       "      <td>no_rating</td>\n",
       "      <td>31.38</td>\n",
       "    </tr>\n",
       "    <tr>\n",
       "      <td>...</td>\n",
       "      <td>...</td>\n",
       "      <td>...</td>\n",
       "      <td>...</td>\n",
       "      <td>...</td>\n",
       "      <td>...</td>\n",
       "      <td>...</td>\n",
       "      <td>...</td>\n",
       "      <td>...</td>\n",
       "      <td>...</td>\n",
       "      <td>...</td>\n",
       "      <td>...</td>\n",
       "      <td>...</td>\n",
       "    </tr>\n",
       "    <tr>\n",
       "      <td>16710</td>\n",
       "      <td>Samurai Warriors: Sanada Maru</td>\n",
       "      <td>PS3</td>\n",
       "      <td>2016</td>\n",
       "      <td>Action</td>\n",
       "      <td>0.00</td>\n",
       "      <td>0.00</td>\n",
       "      <td>0.01</td>\n",
       "      <td>0.00</td>\n",
       "      <td>-10</td>\n",
       "      <td>-100</td>\n",
       "      <td>no_rating</td>\n",
       "      <td>0.01</td>\n",
       "    </tr>\n",
       "    <tr>\n",
       "      <td>16711</td>\n",
       "      <td>LMA Manager 2007</td>\n",
       "      <td>X360</td>\n",
       "      <td>2006</td>\n",
       "      <td>Sports</td>\n",
       "      <td>0.00</td>\n",
       "      <td>0.01</td>\n",
       "      <td>0.00</td>\n",
       "      <td>0.00</td>\n",
       "      <td>-10</td>\n",
       "      <td>-100</td>\n",
       "      <td>no_rating</td>\n",
       "      <td>0.01</td>\n",
       "    </tr>\n",
       "    <tr>\n",
       "      <td>16712</td>\n",
       "      <td>Haitaka no Psychedelica</td>\n",
       "      <td>PSV</td>\n",
       "      <td>2016</td>\n",
       "      <td>Adventure</td>\n",
       "      <td>0.00</td>\n",
       "      <td>0.00</td>\n",
       "      <td>0.01</td>\n",
       "      <td>0.00</td>\n",
       "      <td>-10</td>\n",
       "      <td>-100</td>\n",
       "      <td>no_rating</td>\n",
       "      <td>0.01</td>\n",
       "    </tr>\n",
       "    <tr>\n",
       "      <td>16713</td>\n",
       "      <td>Spirits &amp; Spells</td>\n",
       "      <td>GBA</td>\n",
       "      <td>2003</td>\n",
       "      <td>Platform</td>\n",
       "      <td>0.01</td>\n",
       "      <td>0.00</td>\n",
       "      <td>0.00</td>\n",
       "      <td>0.00</td>\n",
       "      <td>-10</td>\n",
       "      <td>-100</td>\n",
       "      <td>no_rating</td>\n",
       "      <td>0.01</td>\n",
       "    </tr>\n",
       "    <tr>\n",
       "      <td>16714</td>\n",
       "      <td>Winning Post 8 2016</td>\n",
       "      <td>PSV</td>\n",
       "      <td>2016</td>\n",
       "      <td>Simulation</td>\n",
       "      <td>0.00</td>\n",
       "      <td>0.00</td>\n",
       "      <td>0.01</td>\n",
       "      <td>0.00</td>\n",
       "      <td>-10</td>\n",
       "      <td>-100</td>\n",
       "      <td>no_rating</td>\n",
       "      <td>0.01</td>\n",
       "    </tr>\n",
       "  </tbody>\n",
       "</table>\n",
       "<p>16713 rows × 12 columns</p>\n",
       "</div>"
      ],
      "text/plain": [
       "                                name platform  year_of_release         genre  \\\n",
       "0                         Wii Sports      Wii             2006        Sports   \n",
       "1                  Super Mario Bros.      NES             1985      Platform   \n",
       "2                     Mario Kart Wii      Wii             2008        Racing   \n",
       "3                  Wii Sports Resort      Wii             2009        Sports   \n",
       "4           Pokemon Red/Pokemon Blue       GB             1996  Role-Playing   \n",
       "...                              ...      ...              ...           ...   \n",
       "16710  Samurai Warriors: Sanada Maru      PS3             2016        Action   \n",
       "16711               LMA Manager 2007     X360             2006        Sports   \n",
       "16712        Haitaka no Psychedelica      PSV             2016     Adventure   \n",
       "16713               Spirits & Spells      GBA             2003      Platform   \n",
       "16714            Winning Post 8 2016      PSV             2016    Simulation   \n",
       "\n",
       "       na_sales  eu_sales  jp_sales  other_sales  critic_score user_score  \\\n",
       "0         41.36     28.96      3.77         8.45            76          8   \n",
       "1         29.08      3.58      6.81         0.77           -10       -100   \n",
       "2         15.68     12.76      3.79         3.29            82        8.3   \n",
       "3         15.61     10.93      3.28         2.95            80          8   \n",
       "4         11.27      8.89     10.22         1.00           -10       -100   \n",
       "...         ...       ...       ...          ...           ...        ...   \n",
       "16710      0.00      0.00      0.01         0.00           -10       -100   \n",
       "16711      0.00      0.01      0.00         0.00           -10       -100   \n",
       "16712      0.00      0.00      0.01         0.00           -10       -100   \n",
       "16713      0.01      0.00      0.00         0.00           -10       -100   \n",
       "16714      0.00      0.00      0.01         0.00           -10       -100   \n",
       "\n",
       "          rating  sum_sales  \n",
       "0              E      82.54  \n",
       "1      no_rating      40.24  \n",
       "2              E      35.52  \n",
       "3              E      32.77  \n",
       "4      no_rating      31.38  \n",
       "...          ...        ...  \n",
       "16710  no_rating       0.01  \n",
       "16711  no_rating       0.01  \n",
       "16712  no_rating       0.01  \n",
       "16713  no_rating       0.01  \n",
       "16714  no_rating       0.01  \n",
       "\n",
       "[16713 rows x 12 columns]"
      ]
     },
     "execution_count": 18,
     "metadata": {},
     "output_type": "execute_result"
    }
   ],
   "source": [
    "df"
   ]
  },
  {
   "cell_type": "code",
   "execution_count": 19,
   "metadata": {},
   "outputs": [],
   "source": [
    "df['user_score'] = df['user_score'].astype('float')"
   ]
  },
  {
   "cell_type": "code",
   "execution_count": 20,
   "metadata": {},
   "outputs": [
    {
     "name": "stdout",
     "output_type": "stream",
     "text": [
      "<class 'pandas.core.frame.DataFrame'>\n",
      "Int64Index: 16713 entries, 0 to 16714\n",
      "Data columns (total 12 columns):\n",
      "name               16713 non-null object\n",
      "platform           16713 non-null object\n",
      "year_of_release    16713 non-null int64\n",
      "genre              16713 non-null object\n",
      "na_sales           16713 non-null float64\n",
      "eu_sales           16713 non-null float64\n",
      "jp_sales           16713 non-null float64\n",
      "other_sales        16713 non-null float64\n",
      "critic_score       16713 non-null int64\n",
      "user_score         16713 non-null float64\n",
      "rating             16713 non-null object\n",
      "sum_sales          16713 non-null float64\n",
      "dtypes: float64(6), int64(2), object(4)\n",
      "memory usage: 1.7+ MB\n"
     ]
    }
   ],
   "source": [
    "df.info()"
   ]
  },
  {
   "cell_type": "markdown",
   "metadata": {},
   "source": [
    "Сделали столбец с общей суммой продаж всех регионов."
   ]
  },
  {
   "cell_type": "markdown",
   "metadata": {},
   "source": [
    "##  Проводим исследовательский анализ данных"
   ]
  },
  {
   "cell_type": "code",
   "execution_count": 21,
   "metadata": {},
   "outputs": [
    {
     "data": {
      "image/png": "[encoded data removed]",
      "text/plain": [
       "<Figure size 432x288 with 1 Axes>"
      ]
     },
     "metadata": {},
     "output_type": "display_data"
    }
   ],
   "source": [
    "df.pivot_table(index = 'year_of_release', values = 'name', aggfunc = 'count').query('year_of_release != 0').plot()\n",
    "plt.title('Количество общих продаж по годам')\n",
    "plt.ylabel('count')\n",
    "plt.show()"
   ]
  },
  {
   "cell_type": "markdown",
   "metadata": {},
   "source": [
    "До 1994 года выпускалось достаточно мало игр в год. "
   ]
  },
  {
   "cell_type": "code",
   "execution_count": 22,
   "metadata": {},
   "outputs": [
    {
     "data": {
      "text/html": [
       "<div>\n",
       "<style scoped>\n",
       "    .dataframe tbody tr th:only-of-type {\n",
       "        vertical-align: middle;\n",
       "    }\n",
       "\n",
       "    .dataframe tbody tr th {\n",
       "        vertical-align: top;\n",
       "    }\n",
       "\n",
       "    .dataframe thead th {\n",
       "        text-align: right;\n",
       "    }\n",
       "</style>\n",
       "<table border=\"1\" class=\"dataframe\">\n",
       "  <thead>\n",
       "    <tr style=\"text-align: right;\">\n",
       "      <th></th>\n",
       "      <th></th>\n",
       "      <th>sum_sales</th>\n",
       "    </tr>\n",
       "    <tr>\n",
       "      <th>platform</th>\n",
       "      <th>year_of_release</th>\n",
       "      <th></th>\n",
       "    </tr>\n",
       "  </thead>\n",
       "  <tbody>\n",
       "    <tr>\n",
       "      <td rowspan=\"2\" valign=\"top\">SCD</td>\n",
       "      <td>1993</td>\n",
       "      <td>1.50</td>\n",
       "    </tr>\n",
       "    <tr>\n",
       "      <td>1994</td>\n",
       "      <td>0.36</td>\n",
       "    </tr>\n",
       "    <tr>\n",
       "      <td rowspan=\"10\" valign=\"top\">SNES</td>\n",
       "      <td>1990</td>\n",
       "      <td>26.15</td>\n",
       "    </tr>\n",
       "    <tr>\n",
       "      <td>1991</td>\n",
       "      <td>16.22</td>\n",
       "    </tr>\n",
       "    <tr>\n",
       "      <td>1992</td>\n",
       "      <td>32.98</td>\n",
       "    </tr>\n",
       "    <tr>\n",
       "      <td>1993</td>\n",
       "      <td>40.02</td>\n",
       "    </tr>\n",
       "    <tr>\n",
       "      <td>1994</td>\n",
       "      <td>35.08</td>\n",
       "    </tr>\n",
       "    <tr>\n",
       "      <td>1995</td>\n",
       "      <td>32.20</td>\n",
       "    </tr>\n",
       "    <tr>\n",
       "      <td>1996</td>\n",
       "      <td>15.92</td>\n",
       "    </tr>\n",
       "    <tr>\n",
       "      <td>1997</td>\n",
       "      <td>0.99</td>\n",
       "    </tr>\n",
       "    <tr>\n",
       "      <td>1998</td>\n",
       "      <td>0.22</td>\n",
       "    </tr>\n",
       "    <tr>\n",
       "      <td>1999</td>\n",
       "      <td>0.26</td>\n",
       "    </tr>\n",
       "    <tr>\n",
       "      <td>TG16</td>\n",
       "      <td>1995</td>\n",
       "      <td>0.16</td>\n",
       "    </tr>\n",
       "    <tr>\n",
       "      <td rowspan=\"3\" valign=\"top\">WS</td>\n",
       "      <td>1999</td>\n",
       "      <td>0.46</td>\n",
       "    </tr>\n",
       "    <tr>\n",
       "      <td>2000</td>\n",
       "      <td>0.68</td>\n",
       "    </tr>\n",
       "    <tr>\n",
       "      <td>2001</td>\n",
       "      <td>0.28</td>\n",
       "    </tr>\n",
       "    <tr>\n",
       "      <td rowspan=\"12\" valign=\"top\">Wii</td>\n",
       "      <td>0</td>\n",
       "      <td>16.33</td>\n",
       "    </tr>\n",
       "    <tr>\n",
       "      <td>2006</td>\n",
       "      <td>137.15</td>\n",
       "    </tr>\n",
       "    <tr>\n",
       "      <td>2007</td>\n",
       "      <td>152.77</td>\n",
       "    </tr>\n",
       "    <tr>\n",
       "      <td>2008</td>\n",
       "      <td>171.32</td>\n",
       "    </tr>\n",
       "    <tr>\n",
       "      <td>2009</td>\n",
       "      <td>206.97</td>\n",
       "    </tr>\n",
       "    <tr>\n",
       "      <td>2010</td>\n",
       "      <td>127.95</td>\n",
       "    </tr>\n",
       "    <tr>\n",
       "      <td>2011</td>\n",
       "      <td>59.65</td>\n",
       "    </tr>\n",
       "    <tr>\n",
       "      <td>2012</td>\n",
       "      <td>21.71</td>\n",
       "    </tr>\n",
       "    <tr>\n",
       "      <td>2013</td>\n",
       "      <td>8.59</td>\n",
       "    </tr>\n",
       "    <tr>\n",
       "      <td>2014</td>\n",
       "      <td>3.75</td>\n",
       "    </tr>\n",
       "    <tr>\n",
       "      <td>2015</td>\n",
       "      <td>1.14</td>\n",
       "    </tr>\n",
       "    <tr>\n",
       "      <td>2016</td>\n",
       "      <td>0.18</td>\n",
       "    </tr>\n",
       "    <tr>\n",
       "      <td rowspan=\"5\" valign=\"top\">WiiU</td>\n",
       "      <td>2012</td>\n",
       "      <td>17.56</td>\n",
       "    </tr>\n",
       "    <tr>\n",
       "      <td>2013</td>\n",
       "      <td>21.65</td>\n",
       "    </tr>\n",
       "    <tr>\n",
       "      <td>2014</td>\n",
       "      <td>22.03</td>\n",
       "    </tr>\n",
       "    <tr>\n",
       "      <td>2015</td>\n",
       "      <td>16.35</td>\n",
       "    </tr>\n",
       "    <tr>\n",
       "      <td>2016</td>\n",
       "      <td>4.60</td>\n",
       "    </tr>\n",
       "    <tr>\n",
       "      <td rowspan=\"13\" valign=\"top\">X360</td>\n",
       "      <td>0</td>\n",
       "      <td>10.18</td>\n",
       "    </tr>\n",
       "    <tr>\n",
       "      <td>2005</td>\n",
       "      <td>8.25</td>\n",
       "    </tr>\n",
       "    <tr>\n",
       "      <td>2006</td>\n",
       "      <td>51.62</td>\n",
       "    </tr>\n",
       "    <tr>\n",
       "      <td>2007</td>\n",
       "      <td>95.41</td>\n",
       "    </tr>\n",
       "    <tr>\n",
       "      <td>2008</td>\n",
       "      <td>135.26</td>\n",
       "    </tr>\n",
       "    <tr>\n",
       "      <td>2009</td>\n",
       "      <td>120.29</td>\n",
       "    </tr>\n",
       "    <tr>\n",
       "      <td>2010</td>\n",
       "      <td>170.03</td>\n",
       "    </tr>\n",
       "    <tr>\n",
       "      <td>2011</td>\n",
       "      <td>143.84</td>\n",
       "    </tr>\n",
       "    <tr>\n",
       "      <td>2012</td>\n",
       "      <td>99.74</td>\n",
       "    </tr>\n",
       "    <tr>\n",
       "      <td>2013</td>\n",
       "      <td>88.58</td>\n",
       "    </tr>\n",
       "    <tr>\n",
       "      <td>2014</td>\n",
       "      <td>34.74</td>\n",
       "    </tr>\n",
       "    <tr>\n",
       "      <td>2015</td>\n",
       "      <td>11.96</td>\n",
       "    </tr>\n",
       "    <tr>\n",
       "      <td>2016</td>\n",
       "      <td>1.52</td>\n",
       "    </tr>\n",
       "    <tr>\n",
       "      <td rowspan=\"10\" valign=\"top\">XB</td>\n",
       "      <td>0</td>\n",
       "      <td>6.17</td>\n",
       "    </tr>\n",
       "    <tr>\n",
       "      <td>2000</td>\n",
       "      <td>0.99</td>\n",
       "    </tr>\n",
       "    <tr>\n",
       "      <td>2001</td>\n",
       "      <td>22.26</td>\n",
       "    </tr>\n",
       "    <tr>\n",
       "      <td>2002</td>\n",
       "      <td>48.01</td>\n",
       "    </tr>\n",
       "    <tr>\n",
       "      <td>2003</td>\n",
       "      <td>55.04</td>\n",
       "    </tr>\n",
       "    <tr>\n",
       "      <td>2004</td>\n",
       "      <td>65.42</td>\n",
       "    </tr>\n",
       "    <tr>\n",
       "      <td>2005</td>\n",
       "      <td>49.08</td>\n",
       "    </tr>\n",
       "    <tr>\n",
       "      <td>2006</td>\n",
       "      <td>10.04</td>\n",
       "    </tr>\n",
       "    <tr>\n",
       "      <td>2007</td>\n",
       "      <td>0.55</td>\n",
       "    </tr>\n",
       "    <tr>\n",
       "      <td>2008</td>\n",
       "      <td>0.18</td>\n",
       "    </tr>\n",
       "    <tr>\n",
       "      <td rowspan=\"4\" valign=\"top\">XOne</td>\n",
       "      <td>2013</td>\n",
       "      <td>18.96</td>\n",
       "    </tr>\n",
       "    <tr>\n",
       "      <td>2014</td>\n",
       "      <td>54.07</td>\n",
       "    </tr>\n",
       "    <tr>\n",
       "      <td>2015</td>\n",
       "      <td>60.14</td>\n",
       "    </tr>\n",
       "    <tr>\n",
       "      <td>2016</td>\n",
       "      <td>26.15</td>\n",
       "    </tr>\n",
       "  </tbody>\n",
       "</table>\n",
       "</div>"
      ],
      "text/plain": [
       "                          sum_sales\n",
       "platform year_of_release           \n",
       "SCD      1993                  1.50\n",
       "         1994                  0.36\n",
       "SNES     1990                 26.15\n",
       "         1991                 16.22\n",
       "         1992                 32.98\n",
       "         1993                 40.02\n",
       "         1994                 35.08\n",
       "         1995                 32.20\n",
       "         1996                 15.92\n",
       "         1997                  0.99\n",
       "         1998                  0.22\n",
       "         1999                  0.26\n",
       "TG16     1995                  0.16\n",
       "WS       1999                  0.46\n",
       "         2000                  0.68\n",
       "         2001                  0.28\n",
       "Wii      0                    16.33\n",
       "         2006                137.15\n",
       "         2007                152.77\n",
       "         2008                171.32\n",
       "         2009                206.97\n",
       "         2010                127.95\n",
       "         2011                 59.65\n",
       "         2012                 21.71\n",
       "         2013                  8.59\n",
       "         2014                  3.75\n",
       "         2015                  1.14\n",
       "         2016                  0.18\n",
       "WiiU     2012                 17.56\n",
       "         2013                 21.65\n",
       "         2014                 22.03\n",
       "         2015                 16.35\n",
       "         2016                  4.60\n",
       "X360     0                    10.18\n",
       "         2005                  8.25\n",
       "         2006                 51.62\n",
       "         2007                 95.41\n",
       "         2008                135.26\n",
       "         2009                120.29\n",
       "         2010                170.03\n",
       "         2011                143.84\n",
       "         2012                 99.74\n",
       "         2013                 88.58\n",
       "         2014                 34.74\n",
       "         2015                 11.96\n",
       "         2016                  1.52\n",
       "XB       0                     6.17\n",
       "         2000                  0.99\n",
       "         2001                 22.26\n",
       "         2002                 48.01\n",
       "         2003                 55.04\n",
       "         2004                 65.42\n",
       "         2005                 49.08\n",
       "         2006                 10.04\n",
       "         2007                  0.55\n",
       "         2008                  0.18\n",
       "XOne     2013                 18.96\n",
       "         2014                 54.07\n",
       "         2015                 60.14\n",
       "         2016                 26.15"
      ]
     },
     "execution_count": 22,
     "metadata": {},
     "output_type": "execute_result"
    }
   ],
   "source": [
    "df.pivot_table(index =['platform','year_of_release'], values = 'sum_sales', aggfunc = 'sum').tail(60)"
   ]
  },
  {
   "cell_type": "markdown",
   "metadata": {},
   "source": [
    "В частом случае хорошая платформа живет около 10 лет. По показателя продаж видно что самые продажи происходят на 3-6 год после появдения платформы."
   ]
  },
  {
   "cell_type": "markdown",
   "metadata": {},
   "source": [
    "Считаю что самое оптимальное учитывать игры с 2013 года."
   ]
  },
  {
   "cell_type": "code",
   "execution_count": 23,
   "metadata": {},
   "outputs": [],
   "source": [
    "df1 = df.query('year_of_release >= 2013 or year_of_release == 0')"
   ]
  },
  {
   "cell_type": "code",
   "execution_count": 24,
   "metadata": {},
   "outputs": [
    {
     "data": {
      "text/html": [
       "<div>\n",
       "<style scoped>\n",
       "    .dataframe tbody tr th:only-of-type {\n",
       "        vertical-align: middle;\n",
       "    }\n",
       "\n",
       "    .dataframe tbody tr th {\n",
       "        vertical-align: top;\n",
       "    }\n",
       "\n",
       "    .dataframe thead th {\n",
       "        text-align: right;\n",
       "    }\n",
       "</style>\n",
       "<table border=\"1\" class=\"dataframe\">\n",
       "  <thead>\n",
       "    <tr style=\"text-align: right;\">\n",
       "      <th></th>\n",
       "      <th></th>\n",
       "      <th>sum_sales</th>\n",
       "    </tr>\n",
       "    <tr>\n",
       "      <th>platform</th>\n",
       "      <th>year_of_release</th>\n",
       "      <th></th>\n",
       "    </tr>\n",
       "  </thead>\n",
       "  <tbody>\n",
       "    <tr>\n",
       "      <td>2600</td>\n",
       "      <td>0</td>\n",
       "      <td>10.50</td>\n",
       "    </tr>\n",
       "    <tr>\n",
       "      <td rowspan=\"5\" valign=\"top\">3DS</td>\n",
       "      <td>0</td>\n",
       "      <td>1.19</td>\n",
       "    </tr>\n",
       "    <tr>\n",
       "      <td>2013</td>\n",
       "      <td>56.57</td>\n",
       "    </tr>\n",
       "    <tr>\n",
       "      <td>2014</td>\n",
       "      <td>43.76</td>\n",
       "    </tr>\n",
       "    <tr>\n",
       "      <td>2015</td>\n",
       "      <td>27.78</td>\n",
       "    </tr>\n",
       "    <tr>\n",
       "      <td>2016</td>\n",
       "      <td>15.14</td>\n",
       "    </tr>\n",
       "    <tr>\n",
       "      <td rowspan=\"2\" valign=\"top\">DS</td>\n",
       "      <td>0</td>\n",
       "      <td>3.34</td>\n",
       "    </tr>\n",
       "    <tr>\n",
       "      <td>2013</td>\n",
       "      <td>1.54</td>\n",
       "    </tr>\n",
       "    <tr>\n",
       "      <td>GB</td>\n",
       "      <td>0</td>\n",
       "      <td>1.03</td>\n",
       "    </tr>\n",
       "    <tr>\n",
       "      <td>GBA</td>\n",
       "      <td>0</td>\n",
       "      <td>4.97</td>\n",
       "    </tr>\n",
       "    <tr>\n",
       "      <td>GC</td>\n",
       "      <td>0</td>\n",
       "      <td>2.20</td>\n",
       "    </tr>\n",
       "    <tr>\n",
       "      <td>N64</td>\n",
       "      <td>0</td>\n",
       "      <td>0.67</td>\n",
       "    </tr>\n",
       "    <tr>\n",
       "      <td rowspan=\"5\" valign=\"top\">PC</td>\n",
       "      <td>0</td>\n",
       "      <td>3.76</td>\n",
       "    </tr>\n",
       "    <tr>\n",
       "      <td>2013</td>\n",
       "      <td>12.38</td>\n",
       "    </tr>\n",
       "    <tr>\n",
       "      <td>2014</td>\n",
       "      <td>13.28</td>\n",
       "    </tr>\n",
       "    <tr>\n",
       "      <td>2015</td>\n",
       "      <td>8.52</td>\n",
       "    </tr>\n",
       "    <tr>\n",
       "      <td>2016</td>\n",
       "      <td>5.25</td>\n",
       "    </tr>\n",
       "    <tr>\n",
       "      <td>PS</td>\n",
       "      <td>0</td>\n",
       "      <td>3.28</td>\n",
       "    </tr>\n",
       "    <tr>\n",
       "      <td>PS2</td>\n",
       "      <td>0</td>\n",
       "      <td>22.21</td>\n",
       "    </tr>\n",
       "    <tr>\n",
       "      <td rowspan=\"5\" valign=\"top\">PS3</td>\n",
       "      <td>0</td>\n",
       "      <td>8.31</td>\n",
       "    </tr>\n",
       "    <tr>\n",
       "      <td>2013</td>\n",
       "      <td>113.25</td>\n",
       "    </tr>\n",
       "    <tr>\n",
       "      <td>2014</td>\n",
       "      <td>47.76</td>\n",
       "    </tr>\n",
       "    <tr>\n",
       "      <td>2015</td>\n",
       "      <td>16.82</td>\n",
       "    </tr>\n",
       "    <tr>\n",
       "      <td>2016</td>\n",
       "      <td>3.60</td>\n",
       "    </tr>\n",
       "    <tr>\n",
       "      <td rowspan=\"4\" valign=\"top\">PS4</td>\n",
       "      <td>2013</td>\n",
       "      <td>25.99</td>\n",
       "    </tr>\n",
       "    <tr>\n",
       "      <td>2014</td>\n",
       "      <td>100.00</td>\n",
       "    </tr>\n",
       "    <tr>\n",
       "      <td>2015</td>\n",
       "      <td>118.90</td>\n",
       "    </tr>\n",
       "    <tr>\n",
       "      <td>2016</td>\n",
       "      <td>69.25</td>\n",
       "    </tr>\n",
       "    <tr>\n",
       "      <td rowspan=\"4\" valign=\"top\">PSP</td>\n",
       "      <td>0</td>\n",
       "      <td>4.52</td>\n",
       "    </tr>\n",
       "    <tr>\n",
       "      <td>2013</td>\n",
       "      <td>3.14</td>\n",
       "    </tr>\n",
       "    <tr>\n",
       "      <td>2014</td>\n",
       "      <td>0.24</td>\n",
       "    </tr>\n",
       "    <tr>\n",
       "      <td>2015</td>\n",
       "      <td>0.12</td>\n",
       "    </tr>\n",
       "    <tr>\n",
       "      <td rowspan=\"5\" valign=\"top\">PSV</td>\n",
       "      <td>0</td>\n",
       "      <td>0.26</td>\n",
       "    </tr>\n",
       "    <tr>\n",
       "      <td>2013</td>\n",
       "      <td>10.59</td>\n",
       "    </tr>\n",
       "    <tr>\n",
       "      <td>2014</td>\n",
       "      <td>11.90</td>\n",
       "    </tr>\n",
       "    <tr>\n",
       "      <td>2015</td>\n",
       "      <td>6.25</td>\n",
       "    </tr>\n",
       "    <tr>\n",
       "      <td>2016</td>\n",
       "      <td>4.25</td>\n",
       "    </tr>\n",
       "    <tr>\n",
       "      <td rowspan=\"5\" valign=\"top\">Wii</td>\n",
       "      <td>0</td>\n",
       "      <td>16.33</td>\n",
       "    </tr>\n",
       "    <tr>\n",
       "      <td>2013</td>\n",
       "      <td>8.59</td>\n",
       "    </tr>\n",
       "    <tr>\n",
       "      <td>2014</td>\n",
       "      <td>3.75</td>\n",
       "    </tr>\n",
       "    <tr>\n",
       "      <td>2015</td>\n",
       "      <td>1.14</td>\n",
       "    </tr>\n",
       "    <tr>\n",
       "      <td>2016</td>\n",
       "      <td>0.18</td>\n",
       "    </tr>\n",
       "    <tr>\n",
       "      <td rowspan=\"4\" valign=\"top\">WiiU</td>\n",
       "      <td>2013</td>\n",
       "      <td>21.65</td>\n",
       "    </tr>\n",
       "    <tr>\n",
       "      <td>2014</td>\n",
       "      <td>22.03</td>\n",
       "    </tr>\n",
       "    <tr>\n",
       "      <td>2015</td>\n",
       "      <td>16.35</td>\n",
       "    </tr>\n",
       "    <tr>\n",
       "      <td>2016</td>\n",
       "      <td>4.60</td>\n",
       "    </tr>\n",
       "    <tr>\n",
       "      <td rowspan=\"5\" valign=\"top\">X360</td>\n",
       "      <td>0</td>\n",
       "      <td>10.18</td>\n",
       "    </tr>\n",
       "    <tr>\n",
       "      <td>2013</td>\n",
       "      <td>88.58</td>\n",
       "    </tr>\n",
       "    <tr>\n",
       "      <td>2014</td>\n",
       "      <td>34.74</td>\n",
       "    </tr>\n",
       "    <tr>\n",
       "      <td>2015</td>\n",
       "      <td>11.96</td>\n",
       "    </tr>\n",
       "    <tr>\n",
       "      <td>2016</td>\n",
       "      <td>1.52</td>\n",
       "    </tr>\n",
       "    <tr>\n",
       "      <td>XB</td>\n",
       "      <td>0</td>\n",
       "      <td>6.17</td>\n",
       "    </tr>\n",
       "    <tr>\n",
       "      <td rowspan=\"4\" valign=\"top\">XOne</td>\n",
       "      <td>2013</td>\n",
       "      <td>18.96</td>\n",
       "    </tr>\n",
       "    <tr>\n",
       "      <td>2014</td>\n",
       "      <td>54.07</td>\n",
       "    </tr>\n",
       "    <tr>\n",
       "      <td>2015</td>\n",
       "      <td>60.14</td>\n",
       "    </tr>\n",
       "    <tr>\n",
       "      <td>2016</td>\n",
       "      <td>26.15</td>\n",
       "    </tr>\n",
       "  </tbody>\n",
       "</table>\n",
       "</div>"
      ],
      "text/plain": [
       "                          sum_sales\n",
       "platform year_of_release           \n",
       "2600     0                    10.50\n",
       "3DS      0                     1.19\n",
       "         2013                 56.57\n",
       "         2014                 43.76\n",
       "         2015                 27.78\n",
       "         2016                 15.14\n",
       "DS       0                     3.34\n",
       "         2013                  1.54\n",
       "GB       0                     1.03\n",
       "GBA      0                     4.97\n",
       "GC       0                     2.20\n",
       "N64      0                     0.67\n",
       "PC       0                     3.76\n",
       "         2013                 12.38\n",
       "         2014                 13.28\n",
       "         2015                  8.52\n",
       "         2016                  5.25\n",
       "PS       0                     3.28\n",
       "PS2      0                    22.21\n",
       "PS3      0                     8.31\n",
       "         2013                113.25\n",
       "         2014                 47.76\n",
       "         2015                 16.82\n",
       "         2016                  3.60\n",
       "PS4      2013                 25.99\n",
       "         2014                100.00\n",
       "         2015                118.90\n",
       "         2016                 69.25\n",
       "PSP      0                     4.52\n",
       "         2013                  3.14\n",
       "         2014                  0.24\n",
       "         2015                  0.12\n",
       "PSV      0                     0.26\n",
       "         2013                 10.59\n",
       "         2014                 11.90\n",
       "         2015                  6.25\n",
       "         2016                  4.25\n",
       "Wii      0                    16.33\n",
       "         2013                  8.59\n",
       "         2014                  3.75\n",
       "         2015                  1.14\n",
       "         2016                  0.18\n",
       "WiiU     2013                 21.65\n",
       "         2014                 22.03\n",
       "         2015                 16.35\n",
       "         2016                  4.60\n",
       "X360     0                    10.18\n",
       "         2013                 88.58\n",
       "         2014                 34.74\n",
       "         2015                 11.96\n",
       "         2016                  1.52\n",
       "XB       0                     6.17\n",
       "XOne     2013                 18.96\n",
       "         2014                 54.07\n",
       "         2015                 60.14\n",
       "         2016                 26.15"
      ]
     },
     "execution_count": 24,
     "metadata": {},
     "output_type": "execute_result"
    }
   ],
   "source": [
    "df1.pivot_table(index =['platform','year_of_release'], values = 'sum_sales', aggfunc = 'sum')"
   ]
  },
  {
   "cell_type": "markdown",
   "metadata": {},
   "source": [
    "Перспективные платформы: 3DS, PC, PS4, PSV, WiiU, XOne."
   ]
  },
  {
   "cell_type": "code",
   "execution_count": 25,
   "metadata": {},
   "outputs": [
    {
     "data": {
      "image/png": "[encoded data removed]",
      "text/plain": [
       "<Figure size 432x288 with 1 Axes>"
      ]
     },
     "metadata": {},
     "output_type": "display_data"
    }
   ],
   "source": [
    "top = ['3DS','PC', 'PS4','PSV', 'WiiU', 'XOne']\n",
    "df2 = df1.query('platform == @top and year_of_release > 0')\n",
    "df2.pivot_table(columns = 'platform', index = 'year_of_release', values = 'sum_sales').plot()\n",
    "plt.title('Количество общих продаж по платформам и по годам')\n",
    "plt.ylabel('million')\n",
    "plt.show()"
   ]
  },
  {
   "cell_type": "code",
   "execution_count": 26,
   "metadata": {},
   "outputs": [
    {
     "data": {
      "text/plain": [
       "PS4     392\n",
       "PSV     358\n",
       "3DS     303\n",
       "XOne    247\n",
       "PC      189\n",
       "WiiU    115\n",
       "Name: platform, dtype: int64"
      ]
     },
     "execution_count": 26,
     "metadata": {},
     "output_type": "execute_result"
    }
   ],
   "source": [
    "df2['platform'].value_counts()"
   ]
  },
  {
   "cell_type": "code",
   "execution_count": 27,
   "metadata": {},
   "outputs": [
    {
     "data": {
      "image/png": "[encoded data removed]",
      "text/plain": [
       "<Figure size 432x288 with 1 Axes>"
      ]
     },
     "metadata": {},
     "output_type": "display_data"
    }
   ],
   "source": [
    "df2.pivot_table(columns = 'platform', index = 'year_of_release', values = 'sum_sales').plot.box()\n",
    "plt.title('\"Усатый ящик\" по глобалным продажам и по платформам')\n",
    "plt.ylabel('million')\n",
    "plt.show()"
   ]
  },
  {
   "cell_type": "markdown",
   "metadata": {},
   "source": [
    "Самая перспективная алвтформа это PS4."
   ]
  },
  {
   "cell_type": "code",
   "execution_count": 57,
   "metadata": {},
   "outputs": [
    {
     "name": "stderr",
     "output_type": "stream",
     "text": [
      "'c' argument looks like a single numeric RGB or RGBA sequence, which should be avoided as value-mapping will have precedence in case its length matches with 'x' & 'y'.  Please use a 2-D array with a single row if you really want to specify the same RGB or RGBA value for all points.\n"
     ]
    },
    {
     "data": {
      "image/png": "[encoded data removed]",
      "text/plain": [
       "<Figure size 432x288 with 1 Axes>"
      ]
     },
     "metadata": {},
     "output_type": "display_data"
    }
   ],
   "source": [
    "df2.query('platform == \"PS4\" and critic_score != -10').plot(x='sum_sales', y='critic_score', kind ='scatter', grid =True)\n",
    "plt.title('Зависимость общих продаж от отзывов критиков PS4')\n",
    "plt.show()"
   ]
  },
  {
   "cell_type": "code",
   "execution_count": 29,
   "metadata": {},
   "outputs": [
    {
     "name": "stderr",
     "output_type": "stream",
     "text": [
      "'c' argument looks like a single numeric RGB or RGBA sequence, which should be avoided as value-mapping will have precedence in case its length matches with 'x' & 'y'.  Please use a 2-D array with a single row if you really want to specify the same RGB or RGBA value for all points.\n"
     ]
    },
    {
     "data": {
      "image/png": "[encoded data removed]",
      "text/plain": [
       "<Figure size 432x288 with 1 Axes>"
      ]
     },
     "metadata": {},
     "output_type": "display_data"
    }
   ],
   "source": [
    "df2.query('platform == \"PS4\" and user_score != -100').plot(x='sum_sales', y='user_score', kind ='scatter', grid =True)\n",
    "plt.title('Зависимость общих продаж от отзывов пользователей PS4')\n",
    "plt.show()"
   ]
  },
  {
   "cell_type": "markdown",
   "metadata": {},
   "source": [
    "От оценки экспертов зависият продажи больше чем от оценок пользователей."
   ]
  },
  {
   "cell_type": "code",
   "execution_count": 30,
   "metadata": {},
   "outputs": [
    {
     "data": {
      "text/html": [
       "<div>\n",
       "<style scoped>\n",
       "    .dataframe tbody tr th:only-of-type {\n",
       "        vertical-align: middle;\n",
       "    }\n",
       "\n",
       "    .dataframe tbody tr th {\n",
       "        vertical-align: top;\n",
       "    }\n",
       "\n",
       "    .dataframe thead th {\n",
       "        text-align: right;\n",
       "    }\n",
       "</style>\n",
       "<table border=\"1\" class=\"dataframe\">\n",
       "  <thead>\n",
       "    <tr style=\"text-align: right;\">\n",
       "      <th></th>\n",
       "      <th>year_of_release</th>\n",
       "      <th>na_sales</th>\n",
       "      <th>eu_sales</th>\n",
       "      <th>jp_sales</th>\n",
       "      <th>other_sales</th>\n",
       "      <th>critic_score</th>\n",
       "      <th>user_score</th>\n",
       "      <th>sum_sales</th>\n",
       "    </tr>\n",
       "  </thead>\n",
       "  <tbody>\n",
       "    <tr>\n",
       "      <td>year_of_release</td>\n",
       "      <td>1.000000</td>\n",
       "      <td>-0.261760</td>\n",
       "      <td>-0.191355</td>\n",
       "      <td>-0.122830</td>\n",
       "      <td>-0.232177</td>\n",
       "      <td>-0.019983</td>\n",
       "      <td>0.150315</td>\n",
       "      <td>-0.234400</td>\n",
       "    </tr>\n",
       "    <tr>\n",
       "      <td>na_sales</td>\n",
       "      <td>-0.261760</td>\n",
       "      <td>1.000000</td>\n",
       "      <td>0.714988</td>\n",
       "      <td>0.530480</td>\n",
       "      <td>0.915292</td>\n",
       "      <td>0.414241</td>\n",
       "      <td>-0.022577</td>\n",
       "      <td>0.893807</td>\n",
       "    </tr>\n",
       "    <tr>\n",
       "      <td>eu_sales</td>\n",
       "      <td>-0.191355</td>\n",
       "      <td>0.714988</td>\n",
       "      <td>1.000000</td>\n",
       "      <td>0.519826</td>\n",
       "      <td>0.935136</td>\n",
       "      <td>0.346044</td>\n",
       "      <td>-0.050671</td>\n",
       "      <td>0.951656</td>\n",
       "    </tr>\n",
       "    <tr>\n",
       "      <td>jp_sales</td>\n",
       "      <td>-0.122830</td>\n",
       "      <td>0.530480</td>\n",
       "      <td>0.519826</td>\n",
       "      <td>1.000000</td>\n",
       "      <td>0.566734</td>\n",
       "      <td>0.322057</td>\n",
       "      <td>0.174512</td>\n",
       "      <td>0.592214</td>\n",
       "    </tr>\n",
       "    <tr>\n",
       "      <td>other_sales</td>\n",
       "      <td>-0.232177</td>\n",
       "      <td>0.915292</td>\n",
       "      <td>0.935136</td>\n",
       "      <td>0.566734</td>\n",
       "      <td>1.000000</td>\n",
       "      <td>0.408465</td>\n",
       "      <td>-0.037332</td>\n",
       "      <td>0.997798</td>\n",
       "    </tr>\n",
       "    <tr>\n",
       "      <td>critic_score</td>\n",
       "      <td>-0.019983</td>\n",
       "      <td>0.414241</td>\n",
       "      <td>0.346044</td>\n",
       "      <td>0.322057</td>\n",
       "      <td>0.408465</td>\n",
       "      <td>1.000000</td>\n",
       "      <td>0.557654</td>\n",
       "      <td>0.405895</td>\n",
       "    </tr>\n",
       "    <tr>\n",
       "      <td>user_score</td>\n",
       "      <td>0.150315</td>\n",
       "      <td>-0.022577</td>\n",
       "      <td>-0.050671</td>\n",
       "      <td>0.174512</td>\n",
       "      <td>-0.037332</td>\n",
       "      <td>0.557654</td>\n",
       "      <td>1.000000</td>\n",
       "      <td>-0.033625</td>\n",
       "    </tr>\n",
       "    <tr>\n",
       "      <td>sum_sales</td>\n",
       "      <td>-0.234400</td>\n",
       "      <td>0.893807</td>\n",
       "      <td>0.951656</td>\n",
       "      <td>0.592214</td>\n",
       "      <td>0.997798</td>\n",
       "      <td>0.405895</td>\n",
       "      <td>-0.033625</td>\n",
       "      <td>1.000000</td>\n",
       "    </tr>\n",
       "  </tbody>\n",
       "</table>\n",
       "</div>"
      ],
      "text/plain": [
       "                 year_of_release  na_sales  eu_sales  jp_sales  other_sales  \\\n",
       "year_of_release         1.000000 -0.261760 -0.191355 -0.122830    -0.232177   \n",
       "na_sales               -0.261760  1.000000  0.714988  0.530480     0.915292   \n",
       "eu_sales               -0.191355  0.714988  1.000000  0.519826     0.935136   \n",
       "jp_sales               -0.122830  0.530480  0.519826  1.000000     0.566734   \n",
       "other_sales            -0.232177  0.915292  0.935136  0.566734     1.000000   \n",
       "critic_score           -0.019983  0.414241  0.346044  0.322057     0.408465   \n",
       "user_score              0.150315 -0.022577 -0.050671  0.174512    -0.037332   \n",
       "sum_sales              -0.234400  0.893807  0.951656  0.592214     0.997798   \n",
       "\n",
       "                 critic_score  user_score  sum_sales  \n",
       "year_of_release     -0.019983    0.150315  -0.234400  \n",
       "na_sales             0.414241   -0.022577   0.893807  \n",
       "eu_sales             0.346044   -0.050671   0.951656  \n",
       "jp_sales             0.322057    0.174512   0.592214  \n",
       "other_sales          0.408465   -0.037332   0.997798  \n",
       "critic_score         1.000000    0.557654   0.405895  \n",
       "user_score           0.557654    1.000000  -0.033625  \n",
       "sum_sales            0.405895   -0.033625   1.000000  "
      ]
     },
     "execution_count": 30,
     "metadata": {},
     "output_type": "execute_result"
    }
   ],
   "source": [
    "df2.query('platform == \"PS4\" and user_score != -100 and critic_score != -10').corr(method ='pearson')"
   ]
  },
  {
   "cell_type": "markdown",
   "metadata": {},
   "source": [
    "Для PS4 зависимость оценки критикрв и продаж стоставляет 0.4. Отзыв эксперта решает больше."
   ]
  },
  {
   "cell_type": "code",
   "execution_count": 31,
   "metadata": {},
   "outputs": [
    {
     "name": "stderr",
     "output_type": "stream",
     "text": [
      "'c' argument looks like a single numeric RGB or RGBA sequence, which should be avoided as value-mapping will have precedence in case its length matches with 'x' & 'y'.  Please use a 2-D array with a single row if you really want to specify the same RGB or RGBA value for all points.\n"
     ]
    },
    {
     "data": {
      "image/png": "[encoded data removed]",
      "text/plain": [
       "<Figure size 432x288 with 1 Axes>"
      ]
     },
     "metadata": {},
     "output_type": "display_data"
    }
   ],
   "source": [
    "df2.query('platform == \"PSV\" and critic_score != -10').plot(x='sum_sales', y='critic_score', kind ='scatter', grid =True)\n",
    "plt.title('Зависимость общих продаж от отзывов критиков PSV')\n",
    "plt.show()"
   ]
  },
  {
   "cell_type": "code",
   "execution_count": 32,
   "metadata": {},
   "outputs": [
    {
     "name": "stderr",
     "output_type": "stream",
     "text": [
      "'c' argument looks like a single numeric RGB or RGBA sequence, which should be avoided as value-mapping will have precedence in case its length matches with 'x' & 'y'.  Please use a 2-D array with a single row if you really want to specify the same RGB or RGBA value for all points.\n"
     ]
    },
    {
     "data": {
      "image/png": "[encoded data removed]",
      "text/plain": [
       "<Figure size 432x288 with 1 Axes>"
      ]
     },
     "metadata": {},
     "output_type": "display_data"
    }
   ],
   "source": [
    "df2.query('platform == \"PSV\" and user_score != -100').plot(x='sum_sales', y='user_score', kind ='scatter', grid =True)\n",
    "plt.title('Зависимость общих продаж от отзывов пользователей PSV')\n",
    "plt.show()"
   ]
  },
  {
   "cell_type": "code",
   "execution_count": 33,
   "metadata": {},
   "outputs": [
    {
     "data": {
      "text/html": [
       "<div>\n",
       "<style scoped>\n",
       "    .dataframe tbody tr th:only-of-type {\n",
       "        vertical-align: middle;\n",
       "    }\n",
       "\n",
       "    .dataframe tbody tr th {\n",
       "        vertical-align: top;\n",
       "    }\n",
       "\n",
       "    .dataframe thead th {\n",
       "        text-align: right;\n",
       "    }\n",
       "</style>\n",
       "<table border=\"1\" class=\"dataframe\">\n",
       "  <thead>\n",
       "    <tr style=\"text-align: right;\">\n",
       "      <th></th>\n",
       "      <th>year_of_release</th>\n",
       "      <th>na_sales</th>\n",
       "      <th>eu_sales</th>\n",
       "      <th>jp_sales</th>\n",
       "      <th>other_sales</th>\n",
       "      <th>critic_score</th>\n",
       "      <th>user_score</th>\n",
       "      <th>sum_sales</th>\n",
       "    </tr>\n",
       "  </thead>\n",
       "  <tbody>\n",
       "    <tr>\n",
       "      <td>year_of_release</td>\n",
       "      <td>1.000000</td>\n",
       "      <td>-0.374415</td>\n",
       "      <td>-0.270614</td>\n",
       "      <td>-0.054588</td>\n",
       "      <td>-0.340779</td>\n",
       "      <td>0.127863</td>\n",
       "      <td>0.166081</td>\n",
       "      <td>-0.325350</td>\n",
       "    </tr>\n",
       "    <tr>\n",
       "      <td>na_sales</td>\n",
       "      <td>-0.374415</td>\n",
       "      <td>1.000000</td>\n",
       "      <td>0.648733</td>\n",
       "      <td>0.112997</td>\n",
       "      <td>0.898539</td>\n",
       "      <td>0.097585</td>\n",
       "      <td>0.164488</td>\n",
       "      <td>0.822975</td>\n",
       "    </tr>\n",
       "    <tr>\n",
       "      <td>eu_sales</td>\n",
       "      <td>-0.270614</td>\n",
       "      <td>0.648733</td>\n",
       "      <td>1.000000</td>\n",
       "      <td>0.038520</td>\n",
       "      <td>0.908095</td>\n",
       "      <td>0.275317</td>\n",
       "      <td>0.271400</td>\n",
       "      <td>0.811642</td>\n",
       "    </tr>\n",
       "    <tr>\n",
       "      <td>jp_sales</td>\n",
       "      <td>-0.054588</td>\n",
       "      <td>0.112997</td>\n",
       "      <td>0.038520</td>\n",
       "      <td>1.000000</td>\n",
       "      <td>0.067262</td>\n",
       "      <td>0.165953</td>\n",
       "      <td>0.128654</td>\n",
       "      <td>0.507946</td>\n",
       "    </tr>\n",
       "    <tr>\n",
       "      <td>other_sales</td>\n",
       "      <td>-0.340779</td>\n",
       "      <td>0.898539</td>\n",
       "      <td>0.908095</td>\n",
       "      <td>0.067262</td>\n",
       "      <td>1.000000</td>\n",
       "      <td>0.197440</td>\n",
       "      <td>0.231261</td>\n",
       "      <td>0.890923</td>\n",
       "    </tr>\n",
       "    <tr>\n",
       "      <td>critic_score</td>\n",
       "      <td>0.127863</td>\n",
       "      <td>0.097585</td>\n",
       "      <td>0.275317</td>\n",
       "      <td>0.165953</td>\n",
       "      <td>0.197440</td>\n",
       "      <td>1.000000</td>\n",
       "      <td>0.611521</td>\n",
       "      <td>0.254100</td>\n",
       "    </tr>\n",
       "    <tr>\n",
       "      <td>user_score</td>\n",
       "      <td>0.166081</td>\n",
       "      <td>0.164488</td>\n",
       "      <td>0.271400</td>\n",
       "      <td>0.128654</td>\n",
       "      <td>0.231261</td>\n",
       "      <td>0.611521</td>\n",
       "      <td>1.000000</td>\n",
       "      <td>0.265478</td>\n",
       "    </tr>\n",
       "    <tr>\n",
       "      <td>sum_sales</td>\n",
       "      <td>-0.325350</td>\n",
       "      <td>0.822975</td>\n",
       "      <td>0.811642</td>\n",
       "      <td>0.507946</td>\n",
       "      <td>0.890923</td>\n",
       "      <td>0.254100</td>\n",
       "      <td>0.265478</td>\n",
       "      <td>1.000000</td>\n",
       "    </tr>\n",
       "  </tbody>\n",
       "</table>\n",
       "</div>"
      ],
      "text/plain": [
       "                 year_of_release  na_sales  eu_sales  jp_sales  other_sales  \\\n",
       "year_of_release         1.000000 -0.374415 -0.270614 -0.054588    -0.340779   \n",
       "na_sales               -0.374415  1.000000  0.648733  0.112997     0.898539   \n",
       "eu_sales               -0.270614  0.648733  1.000000  0.038520     0.908095   \n",
       "jp_sales               -0.054588  0.112997  0.038520  1.000000     0.067262   \n",
       "other_sales            -0.340779  0.898539  0.908095  0.067262     1.000000   \n",
       "critic_score            0.127863  0.097585  0.275317  0.165953     0.197440   \n",
       "user_score              0.166081  0.164488  0.271400  0.128654     0.231261   \n",
       "sum_sales              -0.325350  0.822975  0.811642  0.507946     0.890923   \n",
       "\n",
       "                 critic_score  user_score  sum_sales  \n",
       "year_of_release      0.127863    0.166081  -0.325350  \n",
       "na_sales             0.097585    0.164488   0.822975  \n",
       "eu_sales             0.275317    0.271400   0.811642  \n",
       "jp_sales             0.165953    0.128654   0.507946  \n",
       "other_sales          0.197440    0.231261   0.890923  \n",
       "critic_score         1.000000    0.611521   0.254100  \n",
       "user_score           0.611521    1.000000   0.265478  \n",
       "sum_sales            0.254100    0.265478   1.000000  "
      ]
     },
     "execution_count": 33,
     "metadata": {},
     "output_type": "execute_result"
    }
   ],
   "source": [
    "df2.query('platform == \"PSV\" and user_score != -100 and critic_score != -10').corr(method ='pearson')"
   ]
  },
  {
   "cell_type": "markdown",
   "metadata": {},
   "source": [
    "У платформы PSV зависимость отзывов пользователей и экспертов почти одинакова 0.25 и 0.26"
   ]
  },
  {
   "cell_type": "code",
   "execution_count": 34,
   "metadata": {},
   "outputs": [
    {
     "name": "stderr",
     "output_type": "stream",
     "text": [
      "'c' argument looks like a single numeric RGB or RGBA sequence, which should be avoided as value-mapping will have precedence in case its length matches with 'x' & 'y'.  Please use a 2-D array with a single row if you really want to specify the same RGB or RGBA value for all points.\n"
     ]
    },
    {
     "data": {
      "image/png": "[encoded data removed]",
      "text/plain": [
       "<Figure size 432x288 with 1 Axes>"
      ]
     },
     "metadata": {},
     "output_type": "display_data"
    }
   ],
   "source": [
    "df2.query('platform == \"3DS\" and critic_score != -10').plot(x='sum_sales', y='critic_score', kind ='scatter', grid =True)\n",
    "plt.title('Зависимость общих продаж от отзывов критиков 3DS')\n",
    "plt.show()"
   ]
  },
  {
   "cell_type": "code",
   "execution_count": 35,
   "metadata": {},
   "outputs": [
    {
     "name": "stderr",
     "output_type": "stream",
     "text": [
      "'c' argument looks like a single numeric RGB or RGBA sequence, which should be avoided as value-mapping will have precedence in case its length matches with 'x' & 'y'.  Please use a 2-D array with a single row if you really want to specify the same RGB or RGBA value for all points.\n"
     ]
    },
    {
     "data": {
      "image/png": "[encoded data removed]",
      "text/plain": [
       "<Figure size 432x288 with 1 Axes>"
      ]
     },
     "metadata": {},
     "output_type": "display_data"
    }
   ],
   "source": [
    "df2.query('platform == \"3DS\" and user_score != -100').plot(x='sum_sales', y='user_score', kind ='scatter', grid =True)\n",
    "plt.title('Зависимость общих продаж от отзывов пользователей 3DS')\n",
    "plt.show()"
   ]
  },
  {
   "cell_type": "code",
   "execution_count": 36,
   "metadata": {},
   "outputs": [
    {
     "data": {
      "text/html": [
       "<div>\n",
       "<style scoped>\n",
       "    .dataframe tbody tr th:only-of-type {\n",
       "        vertical-align: middle;\n",
       "    }\n",
       "\n",
       "    .dataframe tbody tr th {\n",
       "        vertical-align: top;\n",
       "    }\n",
       "\n",
       "    .dataframe thead th {\n",
       "        text-align: right;\n",
       "    }\n",
       "</style>\n",
       "<table border=\"1\" class=\"dataframe\">\n",
       "  <thead>\n",
       "    <tr style=\"text-align: right;\">\n",
       "      <th></th>\n",
       "      <th>year_of_release</th>\n",
       "      <th>na_sales</th>\n",
       "      <th>eu_sales</th>\n",
       "      <th>jp_sales</th>\n",
       "      <th>other_sales</th>\n",
       "      <th>critic_score</th>\n",
       "      <th>user_score</th>\n",
       "      <th>sum_sales</th>\n",
       "    </tr>\n",
       "  </thead>\n",
       "  <tbody>\n",
       "    <tr>\n",
       "      <td>year_of_release</td>\n",
       "      <td>1.000000</td>\n",
       "      <td>-0.203256</td>\n",
       "      <td>-0.225719</td>\n",
       "      <td>-0.102393</td>\n",
       "      <td>-0.211240</td>\n",
       "      <td>0.157359</td>\n",
       "      <td>0.157464</td>\n",
       "      <td>-0.193118</td>\n",
       "    </tr>\n",
       "    <tr>\n",
       "      <td>na_sales</td>\n",
       "      <td>-0.203256</td>\n",
       "      <td>1.000000</td>\n",
       "      <td>0.884865</td>\n",
       "      <td>0.562605</td>\n",
       "      <td>0.988644</td>\n",
       "      <td>0.352655</td>\n",
       "      <td>0.280116</td>\n",
       "      <td>0.906798</td>\n",
       "    </tr>\n",
       "    <tr>\n",
       "      <td>eu_sales</td>\n",
       "      <td>-0.225719</td>\n",
       "      <td>0.884865</td>\n",
       "      <td>1.000000</td>\n",
       "      <td>0.623985</td>\n",
       "      <td>0.940184</td>\n",
       "      <td>0.254784</td>\n",
       "      <td>0.184515</td>\n",
       "      <td>0.922901</td>\n",
       "    </tr>\n",
       "    <tr>\n",
       "      <td>jp_sales</td>\n",
       "      <td>-0.102393</td>\n",
       "      <td>0.562605</td>\n",
       "      <td>0.623985</td>\n",
       "      <td>1.000000</td>\n",
       "      <td>0.593697</td>\n",
       "      <td>0.284584</td>\n",
       "      <td>0.247439</td>\n",
       "      <td>0.840218</td>\n",
       "    </tr>\n",
       "    <tr>\n",
       "      <td>other_sales</td>\n",
       "      <td>-0.211240</td>\n",
       "      <td>0.988644</td>\n",
       "      <td>0.940184</td>\n",
       "      <td>0.593697</td>\n",
       "      <td>1.000000</td>\n",
       "      <td>0.337180</td>\n",
       "      <td>0.260898</td>\n",
       "      <td>0.932745</td>\n",
       "    </tr>\n",
       "    <tr>\n",
       "      <td>critic_score</td>\n",
       "      <td>0.157359</td>\n",
       "      <td>0.352655</td>\n",
       "      <td>0.254784</td>\n",
       "      <td>0.284584</td>\n",
       "      <td>0.337180</td>\n",
       "      <td>1.000000</td>\n",
       "      <td>0.769536</td>\n",
       "      <td>0.339235</td>\n",
       "    </tr>\n",
       "    <tr>\n",
       "      <td>user_score</td>\n",
       "      <td>0.157464</td>\n",
       "      <td>0.280116</td>\n",
       "      <td>0.184515</td>\n",
       "      <td>0.247439</td>\n",
       "      <td>0.260898</td>\n",
       "      <td>0.769536</td>\n",
       "      <td>1.000000</td>\n",
       "      <td>0.272990</td>\n",
       "    </tr>\n",
       "    <tr>\n",
       "      <td>sum_sales</td>\n",
       "      <td>-0.193118</td>\n",
       "      <td>0.906798</td>\n",
       "      <td>0.922901</td>\n",
       "      <td>0.840218</td>\n",
       "      <td>0.932745</td>\n",
       "      <td>0.339235</td>\n",
       "      <td>0.272990</td>\n",
       "      <td>1.000000</td>\n",
       "    </tr>\n",
       "  </tbody>\n",
       "</table>\n",
       "</div>"
      ],
      "text/plain": [
       "                 year_of_release  na_sales  eu_sales  jp_sales  other_sales  \\\n",
       "year_of_release         1.000000 -0.203256 -0.225719 -0.102393    -0.211240   \n",
       "na_sales               -0.203256  1.000000  0.884865  0.562605     0.988644   \n",
       "eu_sales               -0.225719  0.884865  1.000000  0.623985     0.940184   \n",
       "jp_sales               -0.102393  0.562605  0.623985  1.000000     0.593697   \n",
       "other_sales            -0.211240  0.988644  0.940184  0.593697     1.000000   \n",
       "critic_score            0.157359  0.352655  0.254784  0.284584     0.337180   \n",
       "user_score              0.157464  0.280116  0.184515  0.247439     0.260898   \n",
       "sum_sales              -0.193118  0.906798  0.922901  0.840218     0.932745   \n",
       "\n",
       "                 critic_score  user_score  sum_sales  \n",
       "year_of_release      0.157359    0.157464  -0.193118  \n",
       "na_sales             0.352655    0.280116   0.906798  \n",
       "eu_sales             0.254784    0.184515   0.922901  \n",
       "jp_sales             0.284584    0.247439   0.840218  \n",
       "other_sales          0.337180    0.260898   0.932745  \n",
       "critic_score         1.000000    0.769536   0.339235  \n",
       "user_score           0.769536    1.000000   0.272990  \n",
       "sum_sales            0.339235    0.272990   1.000000  "
      ]
     },
     "execution_count": 36,
     "metadata": {},
     "output_type": "execute_result"
    }
   ],
   "source": [
    "df2.query('platform == \"3DS\" and user_score != -100 and critic_score != -10').corr(method ='pearson')"
   ]
  },
  {
   "cell_type": "code",
   "execution_count": 37,
   "metadata": {},
   "outputs": [
    {
     "name": "stderr",
     "output_type": "stream",
     "text": [
      "'c' argument looks like a single numeric RGB or RGBA sequence, which should be avoided as value-mapping will have precedence in case its length matches with 'x' & 'y'.  Please use a 2-D array with a single row if you really want to specify the same RGB or RGBA value for all points.\n"
     ]
    },
    {
     "data": {
      "image/png": "[encoded data removed]",
      "text/plain": [
       "<Figure size 432x288 with 1 Axes>"
      ]
     },
     "metadata": {},
     "output_type": "display_data"
    }
   ],
   "source": [
    "df2.query('platform == \"XOne\" and critic_score != -10').plot(x='sum_sales', y='critic_score', kind ='scatter', grid =True)\n",
    "plt.title('Зависимость общих продаж от отзывов критиков XOne')\n",
    "plt.show()"
   ]
  },
  {
   "cell_type": "code",
   "execution_count": 38,
   "metadata": {},
   "outputs": [
    {
     "name": "stderr",
     "output_type": "stream",
     "text": [
      "'c' argument looks like a single numeric RGB or RGBA sequence, which should be avoided as value-mapping will have precedence in case its length matches with 'x' & 'y'.  Please use a 2-D array with a single row if you really want to specify the same RGB or RGBA value for all points.\n"
     ]
    },
    {
     "data": {
      "image/png": "[encoded data removed]",
      "text/plain": [
       "<Figure size 432x288 with 1 Axes>"
      ]
     },
     "metadata": {},
     "output_type": "display_data"
    }
   ],
   "source": [
    "df2.query('platform == \"XOne\" and user_score != -100').plot(x='sum_sales', y='user_score', kind ='scatter', grid =True)\n",
    "plt.title('Зависимость общих продаж от отзывов пользователей XOne')\n",
    "plt.show()"
   ]
  },
  {
   "cell_type": "code",
   "execution_count": 39,
   "metadata": {},
   "outputs": [
    {
     "data": {
      "text/html": [
       "<div>\n",
       "<style scoped>\n",
       "    .dataframe tbody tr th:only-of-type {\n",
       "        vertical-align: middle;\n",
       "    }\n",
       "\n",
       "    .dataframe tbody tr th {\n",
       "        vertical-align: top;\n",
       "    }\n",
       "\n",
       "    .dataframe thead th {\n",
       "        text-align: right;\n",
       "    }\n",
       "</style>\n",
       "<table border=\"1\" class=\"dataframe\">\n",
       "  <thead>\n",
       "    <tr style=\"text-align: right;\">\n",
       "      <th></th>\n",
       "      <th>year_of_release</th>\n",
       "      <th>na_sales</th>\n",
       "      <th>eu_sales</th>\n",
       "      <th>jp_sales</th>\n",
       "      <th>other_sales</th>\n",
       "      <th>critic_score</th>\n",
       "      <th>user_score</th>\n",
       "      <th>sum_sales</th>\n",
       "    </tr>\n",
       "  </thead>\n",
       "  <tbody>\n",
       "    <tr>\n",
       "      <td>year_of_release</td>\n",
       "      <td>1.000000</td>\n",
       "      <td>-0.262722</td>\n",
       "      <td>-0.194533</td>\n",
       "      <td>-0.144318</td>\n",
       "      <td>-0.263305</td>\n",
       "      <td>0.072812</td>\n",
       "      <td>0.117074</td>\n",
       "      <td>-0.257674</td>\n",
       "    </tr>\n",
       "    <tr>\n",
       "      <td>na_sales</td>\n",
       "      <td>-0.262722</td>\n",
       "      <td>1.000000</td>\n",
       "      <td>0.683604</td>\n",
       "      <td>0.400585</td>\n",
       "      <td>0.982840</td>\n",
       "      <td>0.381859</td>\n",
       "      <td>-0.094047</td>\n",
       "      <td>0.956913</td>\n",
       "    </tr>\n",
       "    <tr>\n",
       "      <td>eu_sales</td>\n",
       "      <td>-0.194533</td>\n",
       "      <td>0.683604</td>\n",
       "      <td>1.000000</td>\n",
       "      <td>0.381617</td>\n",
       "      <td>0.804073</td>\n",
       "      <td>0.373454</td>\n",
       "      <td>-0.075822</td>\n",
       "      <td>0.866036</td>\n",
       "    </tr>\n",
       "    <tr>\n",
       "      <td>jp_sales</td>\n",
       "      <td>-0.144318</td>\n",
       "      <td>0.400585</td>\n",
       "      <td>0.381617</td>\n",
       "      <td>1.000000</td>\n",
       "      <td>0.419054</td>\n",
       "      <td>0.199978</td>\n",
       "      <td>0.071915</td>\n",
       "      <td>0.430736</td>\n",
       "    </tr>\n",
       "    <tr>\n",
       "      <td>other_sales</td>\n",
       "      <td>-0.263305</td>\n",
       "      <td>0.982840</td>\n",
       "      <td>0.804073</td>\n",
       "      <td>0.419054</td>\n",
       "      <td>1.000000</td>\n",
       "      <td>0.404996</td>\n",
       "      <td>-0.095963</td>\n",
       "      <td>0.993180</td>\n",
       "    </tr>\n",
       "    <tr>\n",
       "      <td>critic_score</td>\n",
       "      <td>0.072812</td>\n",
       "      <td>0.381859</td>\n",
       "      <td>0.373454</td>\n",
       "      <td>0.199978</td>\n",
       "      <td>0.404996</td>\n",
       "      <td>1.000000</td>\n",
       "      <td>0.472462</td>\n",
       "      <td>0.410422</td>\n",
       "    </tr>\n",
       "    <tr>\n",
       "      <td>user_score</td>\n",
       "      <td>0.117074</td>\n",
       "      <td>-0.094047</td>\n",
       "      <td>-0.075822</td>\n",
       "      <td>0.071915</td>\n",
       "      <td>-0.095963</td>\n",
       "      <td>0.472462</td>\n",
       "      <td>1.000000</td>\n",
       "      <td>-0.094003</td>\n",
       "    </tr>\n",
       "    <tr>\n",
       "      <td>sum_sales</td>\n",
       "      <td>-0.257674</td>\n",
       "      <td>0.956913</td>\n",
       "      <td>0.866036</td>\n",
       "      <td>0.430736</td>\n",
       "      <td>0.993180</td>\n",
       "      <td>0.410422</td>\n",
       "      <td>-0.094003</td>\n",
       "      <td>1.000000</td>\n",
       "    </tr>\n",
       "  </tbody>\n",
       "</table>\n",
       "</div>"
      ],
      "text/plain": [
       "                 year_of_release  na_sales  eu_sales  jp_sales  other_sales  \\\n",
       "year_of_release         1.000000 -0.262722 -0.194533 -0.144318    -0.263305   \n",
       "na_sales               -0.262722  1.000000  0.683604  0.400585     0.982840   \n",
       "eu_sales               -0.194533  0.683604  1.000000  0.381617     0.804073   \n",
       "jp_sales               -0.144318  0.400585  0.381617  1.000000     0.419054   \n",
       "other_sales            -0.263305  0.982840  0.804073  0.419054     1.000000   \n",
       "critic_score            0.072812  0.381859  0.373454  0.199978     0.404996   \n",
       "user_score              0.117074 -0.094047 -0.075822  0.071915    -0.095963   \n",
       "sum_sales              -0.257674  0.956913  0.866036  0.430736     0.993180   \n",
       "\n",
       "                 critic_score  user_score  sum_sales  \n",
       "year_of_release      0.072812    0.117074  -0.257674  \n",
       "na_sales             0.381859   -0.094047   0.956913  \n",
       "eu_sales             0.373454   -0.075822   0.866036  \n",
       "jp_sales             0.199978    0.071915   0.430736  \n",
       "other_sales          0.404996   -0.095963   0.993180  \n",
       "critic_score         1.000000    0.472462   0.410422  \n",
       "user_score           0.472462    1.000000  -0.094003  \n",
       "sum_sales            0.410422   -0.094003   1.000000  "
      ]
     },
     "execution_count": 39,
     "metadata": {},
     "output_type": "execute_result"
    }
   ],
   "source": [
    "df2.query('platform == \"XOne\" and user_score != -100 and critic_score != -10').corr(method ='pearson')"
   ]
  },
  {
   "cell_type": "code",
   "execution_count": null,
   "metadata": {},
   "outputs": [],
   "source": []
  },
  {
   "cell_type": "markdown",
   "metadata": {},
   "source": [
    "Зависимость оценки критика составляет 0.41 а пользователей -0.094. Результаты похожи с платформой PS4."
   ]
  },
  {
   "cell_type": "code",
   "execution_count": 40,
   "metadata": {},
   "outputs": [
    {
     "name": "stderr",
     "output_type": "stream",
     "text": [
      "'c' argument looks like a single numeric RGB or RGBA sequence, which should be avoided as value-mapping will have precedence in case its length matches with 'x' & 'y'.  Please use a 2-D array with a single row if you really want to specify the same RGB or RGBA value for all points.\n"
     ]
    },
    {
     "data": {
      "image/png": "[encoded data removed]",
      "text/plain": [
       "<Figure size 432x288 with 1 Axes>"
      ]
     },
     "metadata": {},
     "output_type": "display_data"
    }
   ],
   "source": [
    "df2.query('platform == \"PC\" and critic_score != -10').plot(x='sum_sales', y='critic_score', kind ='scatter', grid =True)\n",
    "plt.title('Зависимость общих продаж от отзывов критиков PC')\n",
    "plt.show()"
   ]
  },
  {
   "cell_type": "code",
   "execution_count": 41,
   "metadata": {},
   "outputs": [
    {
     "name": "stderr",
     "output_type": "stream",
     "text": [
      "'c' argument looks like a single numeric RGB or RGBA sequence, which should be avoided as value-mapping will have precedence in case its length matches with 'x' & 'y'.  Please use a 2-D array with a single row if you really want to specify the same RGB or RGBA value for all points.\n"
     ]
    },
    {
     "data": {
      "image/png": "[encoded data removed]",
      "text/plain": [
       "<Figure size 432x288 with 1 Axes>"
      ]
     },
     "metadata": {},
     "output_type": "display_data"
    }
   ],
   "source": [
    "df2.query('platform == \"PC\" and user_score != -100').plot(x='sum_sales', y='user_score', kind ='scatter', grid =True)\n",
    "plt.title('Зависимость общих продаж от отзывов пользователей PC')\n",
    "plt.show()"
   ]
  },
  {
   "cell_type": "code",
   "execution_count": 42,
   "metadata": {},
   "outputs": [
    {
     "data": {
      "text/html": [
       "<div>\n",
       "<style scoped>\n",
       "    .dataframe tbody tr th:only-of-type {\n",
       "        vertical-align: middle;\n",
       "    }\n",
       "\n",
       "    .dataframe tbody tr th {\n",
       "        vertical-align: top;\n",
       "    }\n",
       "\n",
       "    .dataframe thead th {\n",
       "        text-align: right;\n",
       "    }\n",
       "</style>\n",
       "<table border=\"1\" class=\"dataframe\">\n",
       "  <thead>\n",
       "    <tr style=\"text-align: right;\">\n",
       "      <th></th>\n",
       "      <th>year_of_release</th>\n",
       "      <th>na_sales</th>\n",
       "      <th>eu_sales</th>\n",
       "      <th>jp_sales</th>\n",
       "      <th>other_sales</th>\n",
       "      <th>critic_score</th>\n",
       "      <th>user_score</th>\n",
       "      <th>sum_sales</th>\n",
       "    </tr>\n",
       "  </thead>\n",
       "  <tbody>\n",
       "    <tr>\n",
       "      <td>year_of_release</td>\n",
       "      <td>1.000000</td>\n",
       "      <td>-0.204423</td>\n",
       "      <td>-0.245596</td>\n",
       "      <td>NaN</td>\n",
       "      <td>-0.261848</td>\n",
       "      <td>0.071885</td>\n",
       "      <td>0.032798</td>\n",
       "      <td>-0.241890</td>\n",
       "    </tr>\n",
       "    <tr>\n",
       "      <td>na_sales</td>\n",
       "      <td>-0.204423</td>\n",
       "      <td>1.000000</td>\n",
       "      <td>0.833156</td>\n",
       "      <td>NaN</td>\n",
       "      <td>0.950696</td>\n",
       "      <td>0.185838</td>\n",
       "      <td>-0.067004</td>\n",
       "      <td>0.939313</td>\n",
       "    </tr>\n",
       "    <tr>\n",
       "      <td>eu_sales</td>\n",
       "      <td>-0.245596</td>\n",
       "      <td>0.833156</td>\n",
       "      <td>1.000000</td>\n",
       "      <td>NaN</td>\n",
       "      <td>0.914786</td>\n",
       "      <td>0.188020</td>\n",
       "      <td>-0.125405</td>\n",
       "      <td>0.972033</td>\n",
       "    </tr>\n",
       "    <tr>\n",
       "      <td>jp_sales</td>\n",
       "      <td>NaN</td>\n",
       "      <td>NaN</td>\n",
       "      <td>NaN</td>\n",
       "      <td>NaN</td>\n",
       "      <td>NaN</td>\n",
       "      <td>NaN</td>\n",
       "      <td>NaN</td>\n",
       "      <td>NaN</td>\n",
       "    </tr>\n",
       "    <tr>\n",
       "      <td>other_sales</td>\n",
       "      <td>-0.261848</td>\n",
       "      <td>0.950696</td>\n",
       "      <td>0.914786</td>\n",
       "      <td>NaN</td>\n",
       "      <td>1.000000</td>\n",
       "      <td>0.178589</td>\n",
       "      <td>-0.128392</td>\n",
       "      <td>0.973090</td>\n",
       "    </tr>\n",
       "    <tr>\n",
       "      <td>critic_score</td>\n",
       "      <td>0.071885</td>\n",
       "      <td>0.185838</td>\n",
       "      <td>0.188020</td>\n",
       "      <td>NaN</td>\n",
       "      <td>0.178589</td>\n",
       "      <td>1.000000</td>\n",
       "      <td>0.429562</td>\n",
       "      <td>0.194124</td>\n",
       "    </tr>\n",
       "    <tr>\n",
       "      <td>user_score</td>\n",
       "      <td>0.032798</td>\n",
       "      <td>-0.067004</td>\n",
       "      <td>-0.125405</td>\n",
       "      <td>NaN</td>\n",
       "      <td>-0.128392</td>\n",
       "      <td>0.429562</td>\n",
       "      <td>1.000000</td>\n",
       "      <td>-0.109235</td>\n",
       "    </tr>\n",
       "    <tr>\n",
       "      <td>sum_sales</td>\n",
       "      <td>-0.241890</td>\n",
       "      <td>0.939313</td>\n",
       "      <td>0.972033</td>\n",
       "      <td>NaN</td>\n",
       "      <td>0.973090</td>\n",
       "      <td>0.194124</td>\n",
       "      <td>-0.109235</td>\n",
       "      <td>1.000000</td>\n",
       "    </tr>\n",
       "  </tbody>\n",
       "</table>\n",
       "</div>"
      ],
      "text/plain": [
       "                 year_of_release  na_sales  eu_sales  jp_sales  other_sales  \\\n",
       "year_of_release         1.000000 -0.204423 -0.245596       NaN    -0.261848   \n",
       "na_sales               -0.204423  1.000000  0.833156       NaN     0.950696   \n",
       "eu_sales               -0.245596  0.833156  1.000000       NaN     0.914786   \n",
       "jp_sales                     NaN       NaN       NaN       NaN          NaN   \n",
       "other_sales            -0.261848  0.950696  0.914786       NaN     1.000000   \n",
       "critic_score            0.071885  0.185838  0.188020       NaN     0.178589   \n",
       "user_score              0.032798 -0.067004 -0.125405       NaN    -0.128392   \n",
       "sum_sales              -0.241890  0.939313  0.972033       NaN     0.973090   \n",
       "\n",
       "                 critic_score  user_score  sum_sales  \n",
       "year_of_release      0.071885    0.032798  -0.241890  \n",
       "na_sales             0.185838   -0.067004   0.939313  \n",
       "eu_sales             0.188020   -0.125405   0.972033  \n",
       "jp_sales                  NaN         NaN        NaN  \n",
       "other_sales          0.178589   -0.128392   0.973090  \n",
       "critic_score         1.000000    0.429562   0.194124  \n",
       "user_score           0.429562    1.000000  -0.109235  \n",
       "sum_sales            0.194124   -0.109235   1.000000  "
      ]
     },
     "execution_count": 42,
     "metadata": {},
     "output_type": "execute_result"
    }
   ],
   "source": [
    "df2.query('platform == \"PC\" and user_score != -100 and critic_score != -10').corr(method ='pearson')"
   ]
  },
  {
   "cell_type": "code",
   "execution_count": 43,
   "metadata": {},
   "outputs": [
    {
     "name": "stderr",
     "output_type": "stream",
     "text": [
      "'c' argument looks like a single numeric RGB or RGBA sequence, which should be avoided as value-mapping will have precedence in case its length matches with 'x' & 'y'.  Please use a 2-D array with a single row if you really want to specify the same RGB or RGBA value for all points.\n"
     ]
    },
    {
     "data": {
      "image/png": "[encoded data removed]",
      "text/plain": [
       "<Figure size 432x288 with 1 Axes>"
      ]
     },
     "metadata": {},
     "output_type": "display_data"
    }
   ],
   "source": [
    "df2.query('platform == \"WiiU\" and critic_score != -10').plot(x='sum_sales', y='critic_score', kind ='scatter', grid =True)\n",
    "plt.title('Зависимость общих продаж от отзывов критиков WiiU')\n",
    "plt.show()"
   ]
  },
  {
   "cell_type": "code",
   "execution_count": 44,
   "metadata": {},
   "outputs": [
    {
     "name": "stderr",
     "output_type": "stream",
     "text": [
      "'c' argument looks like a single numeric RGB or RGBA sequence, which should be avoided as value-mapping will have precedence in case its length matches with 'x' & 'y'.  Please use a 2-D array with a single row if you really want to specify the same RGB or RGBA value for all points.\n"
     ]
    },
    {
     "data": {
      "image/png": "[encoded data removed]",
      "text/plain": [
       "<Figure size 432x288 with 1 Axes>"
      ]
     },
     "metadata": {},
     "output_type": "display_data"
    }
   ],
   "source": [
    "df2.query('platform == \"WiiU\" and user_score != -100').plot(x='sum_sales', y='user_score', kind ='scatter', grid =True)\n",
    "plt.title('Зависимость общих продаж от отзывов пользователей WiiU')\n",
    "plt.show()"
   ]
  },
  {
   "cell_type": "code",
   "execution_count": 45,
   "metadata": {},
   "outputs": [
    {
     "data": {
      "text/html": [
       "<div>\n",
       "<style scoped>\n",
       "    .dataframe tbody tr th:only-of-type {\n",
       "        vertical-align: middle;\n",
       "    }\n",
       "\n",
       "    .dataframe tbody tr th {\n",
       "        vertical-align: top;\n",
       "    }\n",
       "\n",
       "    .dataframe thead th {\n",
       "        text-align: right;\n",
       "    }\n",
       "</style>\n",
       "<table border=\"1\" class=\"dataframe\">\n",
       "  <thead>\n",
       "    <tr style=\"text-align: right;\">\n",
       "      <th></th>\n",
       "      <th>year_of_release</th>\n",
       "      <th>na_sales</th>\n",
       "      <th>eu_sales</th>\n",
       "      <th>jp_sales</th>\n",
       "      <th>other_sales</th>\n",
       "      <th>critic_score</th>\n",
       "      <th>user_score</th>\n",
       "      <th>sum_sales</th>\n",
       "    </tr>\n",
       "  </thead>\n",
       "  <tbody>\n",
       "    <tr>\n",
       "      <td>year_of_release</td>\n",
       "      <td>1.000000</td>\n",
       "      <td>-0.033025</td>\n",
       "      <td>-0.026782</td>\n",
       "      <td>0.024670</td>\n",
       "      <td>-0.019280</td>\n",
       "      <td>-0.024517</td>\n",
       "      <td>0.012796</td>\n",
       "      <td>-0.017480</td>\n",
       "    </tr>\n",
       "    <tr>\n",
       "      <td>na_sales</td>\n",
       "      <td>-0.033025</td>\n",
       "      <td>1.000000</td>\n",
       "      <td>0.972678</td>\n",
       "      <td>0.810899</td>\n",
       "      <td>0.997533</td>\n",
       "      <td>0.391375</td>\n",
       "      <td>0.400063</td>\n",
       "      <td>0.981238</td>\n",
       "    </tr>\n",
       "    <tr>\n",
       "      <td>eu_sales</td>\n",
       "      <td>-0.026782</td>\n",
       "      <td>0.972678</td>\n",
       "      <td>1.000000</td>\n",
       "      <td>0.871059</td>\n",
       "      <td>0.982232</td>\n",
       "      <td>0.400942</td>\n",
       "      <td>0.427320</td>\n",
       "      <td>0.990846</td>\n",
       "    </tr>\n",
       "    <tr>\n",
       "      <td>jp_sales</td>\n",
       "      <td>0.024670</td>\n",
       "      <td>0.810899</td>\n",
       "      <td>0.871059</td>\n",
       "      <td>1.000000</td>\n",
       "      <td>0.824918</td>\n",
       "      <td>0.271889</td>\n",
       "      <td>0.340842</td>\n",
       "      <td>0.903467</td>\n",
       "    </tr>\n",
       "    <tr>\n",
       "      <td>other_sales</td>\n",
       "      <td>-0.019280</td>\n",
       "      <td>0.997533</td>\n",
       "      <td>0.982232</td>\n",
       "      <td>0.824918</td>\n",
       "      <td>1.000000</td>\n",
       "      <td>0.398232</td>\n",
       "      <td>0.413955</td>\n",
       "      <td>0.986512</td>\n",
       "    </tr>\n",
       "    <tr>\n",
       "      <td>critic_score</td>\n",
       "      <td>-0.024517</td>\n",
       "      <td>0.391375</td>\n",
       "      <td>0.400942</td>\n",
       "      <td>0.271889</td>\n",
       "      <td>0.398232</td>\n",
       "      <td>1.000000</td>\n",
       "      <td>0.721313</td>\n",
       "      <td>0.379504</td>\n",
       "    </tr>\n",
       "    <tr>\n",
       "      <td>user_score</td>\n",
       "      <td>0.012796</td>\n",
       "      <td>0.400063</td>\n",
       "      <td>0.427320</td>\n",
       "      <td>0.340842</td>\n",
       "      <td>0.413955</td>\n",
       "      <td>0.721313</td>\n",
       "      <td>1.000000</td>\n",
       "      <td>0.408692</td>\n",
       "    </tr>\n",
       "    <tr>\n",
       "      <td>sum_sales</td>\n",
       "      <td>-0.017480</td>\n",
       "      <td>0.981238</td>\n",
       "      <td>0.990846</td>\n",
       "      <td>0.903467</td>\n",
       "      <td>0.986512</td>\n",
       "      <td>0.379504</td>\n",
       "      <td>0.408692</td>\n",
       "      <td>1.000000</td>\n",
       "    </tr>\n",
       "  </tbody>\n",
       "</table>\n",
       "</div>"
      ],
      "text/plain": [
       "                 year_of_release  na_sales  eu_sales  jp_sales  other_sales  \\\n",
       "year_of_release         1.000000 -0.033025 -0.026782  0.024670    -0.019280   \n",
       "na_sales               -0.033025  1.000000  0.972678  0.810899     0.997533   \n",
       "eu_sales               -0.026782  0.972678  1.000000  0.871059     0.982232   \n",
       "jp_sales                0.024670  0.810899  0.871059  1.000000     0.824918   \n",
       "other_sales            -0.019280  0.997533  0.982232  0.824918     1.000000   \n",
       "critic_score           -0.024517  0.391375  0.400942  0.271889     0.398232   \n",
       "user_score              0.012796  0.400063  0.427320  0.340842     0.413955   \n",
       "sum_sales              -0.017480  0.981238  0.990846  0.903467     0.986512   \n",
       "\n",
       "                 critic_score  user_score  sum_sales  \n",
       "year_of_release     -0.024517    0.012796  -0.017480  \n",
       "na_sales             0.391375    0.400063   0.981238  \n",
       "eu_sales             0.400942    0.427320   0.990846  \n",
       "jp_sales             0.271889    0.340842   0.903467  \n",
       "other_sales          0.398232    0.413955   0.986512  \n",
       "critic_score         1.000000    0.721313   0.379504  \n",
       "user_score           0.721313    1.000000   0.408692  \n",
       "sum_sales            0.379504    0.408692   1.000000  "
      ]
     },
     "execution_count": 45,
     "metadata": {},
     "output_type": "execute_result"
    }
   ],
   "source": [
    "df2.query('platform == \"WiiU\" and user_score != -100 and critic_score != -10').corr(method ='pearson')"
   ]
  },
  {
   "cell_type": "markdown",
   "metadata": {},
   "source": [
    "Чаще всего оценка критика влияет больше чем оценки пользователей. У единственной платформы WiiU корреляция оценки пользователей немного выше чем критиков."
   ]
  },
  {
   "cell_type": "code",
   "execution_count": 46,
   "metadata": {},
   "outputs": [
    {
     "data": {
      "text/html": [
       "<div>\n",
       "<style scoped>\n",
       "    .dataframe tbody tr th:only-of-type {\n",
       "        vertical-align: middle;\n",
       "    }\n",
       "\n",
       "    .dataframe tbody tr th {\n",
       "        vertical-align: top;\n",
       "    }\n",
       "\n",
       "    .dataframe thead tr th {\n",
       "        text-align: left;\n",
       "    }\n",
       "\n",
       "    .dataframe thead tr:last-of-type th {\n",
       "        text-align: right;\n",
       "    }\n",
       "</style>\n",
       "<table border=\"1\" class=\"dataframe\">\n",
       "  <thead>\n",
       "    <tr>\n",
       "      <th></th>\n",
       "      <th>sum</th>\n",
       "      <th>count</th>\n",
       "      <th>mean</th>\n",
       "      <th>median</th>\n",
       "    </tr>\n",
       "    <tr>\n",
       "      <th></th>\n",
       "      <th>sum_sales</th>\n",
       "      <th>sum_sales</th>\n",
       "      <th>sum_sales</th>\n",
       "      <th>sum_sales</th>\n",
       "    </tr>\n",
       "    <tr>\n",
       "      <th>genre</th>\n",
       "      <th></th>\n",
       "      <th></th>\n",
       "      <th></th>\n",
       "      <th></th>\n",
       "    </tr>\n",
       "  </thead>\n",
       "  <tbody>\n",
       "    <tr>\n",
       "      <td>Action</td>\n",
       "      <td>199.18</td>\n",
       "      <td>568</td>\n",
       "      <td>0.350669</td>\n",
       "      <td>0.090</td>\n",
       "    </tr>\n",
       "    <tr>\n",
       "      <td>Adventure</td>\n",
       "      <td>16.48</td>\n",
       "      <td>169</td>\n",
       "      <td>0.097515</td>\n",
       "      <td>0.030</td>\n",
       "    </tr>\n",
       "    <tr>\n",
       "      <td>Fighting</td>\n",
       "      <td>26.69</td>\n",
       "      <td>48</td>\n",
       "      <td>0.556042</td>\n",
       "      <td>0.120</td>\n",
       "    </tr>\n",
       "    <tr>\n",
       "      <td>Misc</td>\n",
       "      <td>34.66</td>\n",
       "      <td>112</td>\n",
       "      <td>0.309464</td>\n",
       "      <td>0.105</td>\n",
       "    </tr>\n",
       "    <tr>\n",
       "      <td>Platform</td>\n",
       "      <td>34.22</td>\n",
       "      <td>55</td>\n",
       "      <td>0.622182</td>\n",
       "      <td>0.240</td>\n",
       "    </tr>\n",
       "    <tr>\n",
       "      <td>Puzzle</td>\n",
       "      <td>3.13</td>\n",
       "      <td>16</td>\n",
       "      <td>0.195625</td>\n",
       "      <td>0.065</td>\n",
       "    </tr>\n",
       "    <tr>\n",
       "      <td>Racing</td>\n",
       "      <td>30.36</td>\n",
       "      <td>60</td>\n",
       "      <td>0.506000</td>\n",
       "      <td>0.100</td>\n",
       "    </tr>\n",
       "    <tr>\n",
       "      <td>Role-Playing</td>\n",
       "      <td>123.94</td>\n",
       "      <td>228</td>\n",
       "      <td>0.543596</td>\n",
       "      <td>0.120</td>\n",
       "    </tr>\n",
       "    <tr>\n",
       "      <td>Shooter</td>\n",
       "      <td>165.71</td>\n",
       "      <td>122</td>\n",
       "      <td>1.358279</td>\n",
       "      <td>0.515</td>\n",
       "    </tr>\n",
       "    <tr>\n",
       "      <td>Simulation</td>\n",
       "      <td>19.81</td>\n",
       "      <td>50</td>\n",
       "      <td>0.396200</td>\n",
       "      <td>0.090</td>\n",
       "    </tr>\n",
       "    <tr>\n",
       "      <td>Sports</td>\n",
       "      <td>90.67</td>\n",
       "      <td>127</td>\n",
       "      <td>0.713937</td>\n",
       "      <td>0.230</td>\n",
       "    </tr>\n",
       "    <tr>\n",
       "      <td>Strategy</td>\n",
       "      <td>8.91</td>\n",
       "      <td>49</td>\n",
       "      <td>0.181837</td>\n",
       "      <td>0.080</td>\n",
       "    </tr>\n",
       "  </tbody>\n",
       "</table>\n",
       "</div>"
      ],
      "text/plain": [
       "                   sum     count      mean    median\n",
       "             sum_sales sum_sales sum_sales sum_sales\n",
       "genre                                               \n",
       "Action          199.18       568  0.350669     0.090\n",
       "Adventure        16.48       169  0.097515     0.030\n",
       "Fighting         26.69        48  0.556042     0.120\n",
       "Misc             34.66       112  0.309464     0.105\n",
       "Platform         34.22        55  0.622182     0.240\n",
       "Puzzle            3.13        16  0.195625     0.065\n",
       "Racing           30.36        60  0.506000     0.100\n",
       "Role-Playing    123.94       228  0.543596     0.120\n",
       "Shooter         165.71       122  1.358279     0.515\n",
       "Simulation       19.81        50  0.396200     0.090\n",
       "Sports           90.67       127  0.713937     0.230\n",
       "Strategy          8.91        49  0.181837     0.080"
      ]
     },
     "execution_count": 46,
     "metadata": {},
     "output_type": "execute_result"
    }
   ],
   "source": [
    "df2.pivot_table(index = 'genre', values = 'sum_sales', aggfunc = ['sum', 'count', 'mean', 'median'])"
   ]
  },
  {
   "cell_type": "markdown",
   "metadata": {},
   "source": [
    "Жанр игр приносящих больше всего прибыли это Action, Shooter, Role - Playing. Самый низкий доход у Pazzle. Самое большое количество продаж у Action, но вот среднее и медианное значение достаточно маленькие. Берёт количеством. А вот у Shooter количество всего 122 а вот медианное и среднее значение самое большое."
   ]
  },
  {
   "cell_type": "markdown",
   "metadata": {},
   "source": [
    "## Составить портрет пользователя каждого региона"
   ]
  },
  {
   "cell_type": "code",
   "execution_count": 47,
   "metadata": {},
   "outputs": [
    {
     "data": {
      "text/html": [
       "<div>\n",
       "<style scoped>\n",
       "    .dataframe tbody tr th:only-of-type {\n",
       "        vertical-align: middle;\n",
       "    }\n",
       "\n",
       "    .dataframe tbody tr th {\n",
       "        vertical-align: top;\n",
       "    }\n",
       "\n",
       "    .dataframe thead th {\n",
       "        text-align: right;\n",
       "    }\n",
       "</style>\n",
       "<table border=\"1\" class=\"dataframe\">\n",
       "  <thead>\n",
       "    <tr style=\"text-align: right;\">\n",
       "      <th></th>\n",
       "      <th>name</th>\n",
       "      <th>platform</th>\n",
       "      <th>year_of_release</th>\n",
       "      <th>genre</th>\n",
       "      <th>na_sales</th>\n",
       "      <th>eu_sales</th>\n",
       "      <th>jp_sales</th>\n",
       "      <th>other_sales</th>\n",
       "      <th>critic_score</th>\n",
       "      <th>user_score</th>\n",
       "      <th>rating</th>\n",
       "      <th>sum_sales</th>\n",
       "    </tr>\n",
       "  </thead>\n",
       "  <tbody>\n",
       "    <tr>\n",
       "      <td>31</td>\n",
       "      <td>Call of Duty: Black Ops 3</td>\n",
       "      <td>PS4</td>\n",
       "      <td>2015</td>\n",
       "      <td>Shooter</td>\n",
       "      <td>6.03</td>\n",
       "      <td>5.86</td>\n",
       "      <td>0.36</td>\n",
       "      <td>2.38</td>\n",
       "      <td>-10</td>\n",
       "      <td>-100.0</td>\n",
       "      <td>no_rating</td>\n",
       "      <td>14.63</td>\n",
       "    </tr>\n",
       "    <tr>\n",
       "      <td>33</td>\n",
       "      <td>Pokemon X/Pokemon Y</td>\n",
       "      <td>3DS</td>\n",
       "      <td>2013</td>\n",
       "      <td>Role-Playing</td>\n",
       "      <td>5.28</td>\n",
       "      <td>4.19</td>\n",
       "      <td>4.35</td>\n",
       "      <td>0.78</td>\n",
       "      <td>-10</td>\n",
       "      <td>-100.0</td>\n",
       "      <td>no_rating</td>\n",
       "      <td>14.60</td>\n",
       "    </tr>\n",
       "    <tr>\n",
       "      <td>42</td>\n",
       "      <td>Grand Theft Auto V</td>\n",
       "      <td>PS4</td>\n",
       "      <td>2014</td>\n",
       "      <td>Action</td>\n",
       "      <td>3.96</td>\n",
       "      <td>6.31</td>\n",
       "      <td>0.38</td>\n",
       "      <td>1.97</td>\n",
       "      <td>97</td>\n",
       "      <td>8.3</td>\n",
       "      <td>M</td>\n",
       "      <td>12.62</td>\n",
       "    </tr>\n",
       "    <tr>\n",
       "      <td>47</td>\n",
       "      <td>Pokemon Omega Ruby/Pokemon Alpha Sapphire</td>\n",
       "      <td>3DS</td>\n",
       "      <td>2014</td>\n",
       "      <td>Role-Playing</td>\n",
       "      <td>4.35</td>\n",
       "      <td>3.49</td>\n",
       "      <td>3.10</td>\n",
       "      <td>0.74</td>\n",
       "      <td>-10</td>\n",
       "      <td>-100.0</td>\n",
       "      <td>no_rating</td>\n",
       "      <td>11.68</td>\n",
       "    </tr>\n",
       "    <tr>\n",
       "      <td>77</td>\n",
       "      <td>FIFA 16</td>\n",
       "      <td>PS4</td>\n",
       "      <td>2015</td>\n",
       "      <td>Sports</td>\n",
       "      <td>1.12</td>\n",
       "      <td>6.12</td>\n",
       "      <td>0.06</td>\n",
       "      <td>1.28</td>\n",
       "      <td>82</td>\n",
       "      <td>4.3</td>\n",
       "      <td>E</td>\n",
       "      <td>8.58</td>\n",
       "    </tr>\n",
       "    <tr>\n",
       "      <td>...</td>\n",
       "      <td>...</td>\n",
       "      <td>...</td>\n",
       "      <td>...</td>\n",
       "      <td>...</td>\n",
       "      <td>...</td>\n",
       "      <td>...</td>\n",
       "      <td>...</td>\n",
       "      <td>...</td>\n",
       "      <td>...</td>\n",
       "      <td>...</td>\n",
       "      <td>...</td>\n",
       "      <td>...</td>\n",
       "    </tr>\n",
       "    <tr>\n",
       "      <td>16699</td>\n",
       "      <td>The Longest 5 Minutes</td>\n",
       "      <td>PSV</td>\n",
       "      <td>2016</td>\n",
       "      <td>Action</td>\n",
       "      <td>0.00</td>\n",
       "      <td>0.00</td>\n",
       "      <td>0.01</td>\n",
       "      <td>0.00</td>\n",
       "      <td>-10</td>\n",
       "      <td>-100.0</td>\n",
       "      <td>no_rating</td>\n",
       "      <td>0.01</td>\n",
       "    </tr>\n",
       "    <tr>\n",
       "      <td>16703</td>\n",
       "      <td>Strawberry Nauts</td>\n",
       "      <td>PSV</td>\n",
       "      <td>2016</td>\n",
       "      <td>Adventure</td>\n",
       "      <td>0.00</td>\n",
       "      <td>0.00</td>\n",
       "      <td>0.01</td>\n",
       "      <td>0.00</td>\n",
       "      <td>-10</td>\n",
       "      <td>-100.0</td>\n",
       "      <td>no_rating</td>\n",
       "      <td>0.01</td>\n",
       "    </tr>\n",
       "    <tr>\n",
       "      <td>16707</td>\n",
       "      <td>Aiyoku no Eustia</td>\n",
       "      <td>PSV</td>\n",
       "      <td>2014</td>\n",
       "      <td>Misc</td>\n",
       "      <td>0.00</td>\n",
       "      <td>0.00</td>\n",
       "      <td>0.01</td>\n",
       "      <td>0.00</td>\n",
       "      <td>-10</td>\n",
       "      <td>-100.0</td>\n",
       "      <td>no_rating</td>\n",
       "      <td>0.01</td>\n",
       "    </tr>\n",
       "    <tr>\n",
       "      <td>16712</td>\n",
       "      <td>Haitaka no Psychedelica</td>\n",
       "      <td>PSV</td>\n",
       "      <td>2016</td>\n",
       "      <td>Adventure</td>\n",
       "      <td>0.00</td>\n",
       "      <td>0.00</td>\n",
       "      <td>0.01</td>\n",
       "      <td>0.00</td>\n",
       "      <td>-10</td>\n",
       "      <td>-100.0</td>\n",
       "      <td>no_rating</td>\n",
       "      <td>0.01</td>\n",
       "    </tr>\n",
       "    <tr>\n",
       "      <td>16714</td>\n",
       "      <td>Winning Post 8 2016</td>\n",
       "      <td>PSV</td>\n",
       "      <td>2016</td>\n",
       "      <td>Simulation</td>\n",
       "      <td>0.00</td>\n",
       "      <td>0.00</td>\n",
       "      <td>0.01</td>\n",
       "      <td>0.00</td>\n",
       "      <td>-10</td>\n",
       "      <td>-100.0</td>\n",
       "      <td>no_rating</td>\n",
       "      <td>0.01</td>\n",
       "    </tr>\n",
       "  </tbody>\n",
       "</table>\n",
       "<p>1604 rows × 12 columns</p>\n",
       "</div>"
      ],
      "text/plain": [
       "                                            name platform  year_of_release  \\\n",
       "31                     Call of Duty: Black Ops 3      PS4             2015   \n",
       "33                           Pokemon X/Pokemon Y      3DS             2013   \n",
       "42                            Grand Theft Auto V      PS4             2014   \n",
       "47     Pokemon Omega Ruby/Pokemon Alpha Sapphire      3DS             2014   \n",
       "77                                       FIFA 16      PS4             2015   \n",
       "...                                          ...      ...              ...   \n",
       "16699                      The Longest 5 Minutes      PSV             2016   \n",
       "16703                           Strawberry Nauts      PSV             2016   \n",
       "16707                           Aiyoku no Eustia      PSV             2014   \n",
       "16712                    Haitaka no Psychedelica      PSV             2016   \n",
       "16714                        Winning Post 8 2016      PSV             2016   \n",
       "\n",
       "              genre  na_sales  eu_sales  jp_sales  other_sales  critic_score  \\\n",
       "31          Shooter      6.03      5.86      0.36         2.38           -10   \n",
       "33     Role-Playing      5.28      4.19      4.35         0.78           -10   \n",
       "42           Action      3.96      6.31      0.38         1.97            97   \n",
       "47     Role-Playing      4.35      3.49      3.10         0.74           -10   \n",
       "77           Sports      1.12      6.12      0.06         1.28            82   \n",
       "...             ...       ...       ...       ...          ...           ...   \n",
       "16699        Action      0.00      0.00      0.01         0.00           -10   \n",
       "16703     Adventure      0.00      0.00      0.01         0.00           -10   \n",
       "16707          Misc      0.00      0.00      0.01         0.00           -10   \n",
       "16712     Adventure      0.00      0.00      0.01         0.00           -10   \n",
       "16714    Simulation      0.00      0.00      0.01         0.00           -10   \n",
       "\n",
       "       user_score     rating  sum_sales  \n",
       "31         -100.0  no_rating      14.63  \n",
       "33         -100.0  no_rating      14.60  \n",
       "42            8.3          M      12.62  \n",
       "47         -100.0  no_rating      11.68  \n",
       "77            4.3          E       8.58  \n",
       "...           ...        ...        ...  \n",
       "16699      -100.0  no_rating       0.01  \n",
       "16703      -100.0  no_rating       0.01  \n",
       "16707      -100.0  no_rating       0.01  \n",
       "16712      -100.0  no_rating       0.01  \n",
       "16714      -100.0  no_rating       0.01  \n",
       "\n",
       "[1604 rows x 12 columns]"
      ]
     },
     "execution_count": 47,
     "metadata": {},
     "output_type": "execute_result"
    }
   ],
   "source": [
    "df2"
   ]
  },
  {
   "cell_type": "code",
   "execution_count": 48,
   "metadata": {},
   "outputs": [
    {
     "data": {
      "text/html": [
       "<div>\n",
       "<style scoped>\n",
       "    .dataframe tbody tr th:only-of-type {\n",
       "        vertical-align: middle;\n",
       "    }\n",
       "\n",
       "    .dataframe tbody tr th {\n",
       "        vertical-align: top;\n",
       "    }\n",
       "\n",
       "    .dataframe thead th {\n",
       "        text-align: right;\n",
       "    }\n",
       "</style>\n",
       "<table border=\"1\" class=\"dataframe\">\n",
       "  <thead>\n",
       "    <tr style=\"text-align: right;\">\n",
       "      <th></th>\n",
       "      <th>eu_sales</th>\n",
       "      <th>jp_sales</th>\n",
       "      <th>na_sales</th>\n",
       "      <th>sum_sales</th>\n",
       "    </tr>\n",
       "    <tr>\n",
       "      <th>platform</th>\n",
       "      <th></th>\n",
       "      <th></th>\n",
       "      <th></th>\n",
       "      <th></th>\n",
       "    </tr>\n",
       "  </thead>\n",
       "  <tbody>\n",
       "    <tr>\n",
       "      <td>3DS</td>\n",
       "      <td>30.96</td>\n",
       "      <td>67.81</td>\n",
       "      <td>38.20</td>\n",
       "      <td>143.25</td>\n",
       "    </tr>\n",
       "    <tr>\n",
       "      <td>PC</td>\n",
       "      <td>25.36</td>\n",
       "      <td>0.00</td>\n",
       "      <td>11.11</td>\n",
       "      <td>39.43</td>\n",
       "    </tr>\n",
       "    <tr>\n",
       "      <td>PS4</td>\n",
       "      <td>141.09</td>\n",
       "      <td>15.96</td>\n",
       "      <td>108.74</td>\n",
       "      <td>314.14</td>\n",
       "    </tr>\n",
       "    <tr>\n",
       "      <td>PSV</td>\n",
       "      <td>6.10</td>\n",
       "      <td>18.59</td>\n",
       "      <td>5.04</td>\n",
       "      <td>32.99</td>\n",
       "    </tr>\n",
       "    <tr>\n",
       "      <td>WiiU</td>\n",
       "      <td>19.85</td>\n",
       "      <td>10.88</td>\n",
       "      <td>29.21</td>\n",
       "      <td>64.63</td>\n",
       "    </tr>\n",
       "    <tr>\n",
       "      <td>XOne</td>\n",
       "      <td>51.59</td>\n",
       "      <td>0.34</td>\n",
       "      <td>93.12</td>\n",
       "      <td>159.32</td>\n",
       "    </tr>\n",
       "  </tbody>\n",
       "</table>\n",
       "</div>"
      ],
      "text/plain": [
       "          eu_sales  jp_sales  na_sales  sum_sales\n",
       "platform                                         \n",
       "3DS          30.96     67.81     38.20     143.25\n",
       "PC           25.36      0.00     11.11      39.43\n",
       "PS4         141.09     15.96    108.74     314.14\n",
       "PSV           6.10     18.59      5.04      32.99\n",
       "WiiU         19.85     10.88     29.21      64.63\n",
       "XOne         51.59      0.34     93.12     159.32"
      ]
     },
     "execution_count": 48,
     "metadata": {},
     "output_type": "execute_result"
    }
   ],
   "source": [
    "df2.pivot_table(index = 'platform', values = ['na_sales', 'eu_sales', 'jp_sales' , 'sum_sales'], aggfunc = 'sum')"
   ]
  },
  {
   "cell_type": "markdown",
   "metadata": {},
   "source": [
    "В европпе самая попоулярная платформа это PS4, и вообще у евроопы самые большие выручки. В японии же популярны портативная приставка 3DS(японская комания), но вообще не пользуются спросом PC и XOne. В северной Америке любят играть как на своих приставках XOne, так и на японских PS4 и 3DS."
   ]
  },
  {
   "cell_type": "code",
   "execution_count": 49,
   "metadata": {},
   "outputs": [
    {
     "data": {
      "text/html": [
       "<div>\n",
       "<style scoped>\n",
       "    .dataframe tbody tr th:only-of-type {\n",
       "        vertical-align: middle;\n",
       "    }\n",
       "\n",
       "    .dataframe tbody tr th {\n",
       "        vertical-align: top;\n",
       "    }\n",
       "\n",
       "    .dataframe thead th {\n",
       "        text-align: right;\n",
       "    }\n",
       "</style>\n",
       "<table border=\"1\" class=\"dataframe\">\n",
       "  <thead>\n",
       "    <tr style=\"text-align: right;\">\n",
       "      <th></th>\n",
       "      <th>eu_sales</th>\n",
       "      <th>jp_sales</th>\n",
       "      <th>na_sales</th>\n",
       "      <th>sum_sales</th>\n",
       "    </tr>\n",
       "    <tr>\n",
       "      <th>genre</th>\n",
       "      <th></th>\n",
       "      <th></th>\n",
       "      <th></th>\n",
       "      <th></th>\n",
       "    </tr>\n",
       "  </thead>\n",
       "  <tbody>\n",
       "    <tr>\n",
       "      <td>Role-Playing</td>\n",
       "      <td>32.00</td>\n",
       "      <td>44.84</td>\n",
       "      <td>37.92</td>\n",
       "      <td>123.94</td>\n",
       "    </tr>\n",
       "    <tr>\n",
       "      <td>Action</td>\n",
       "      <td>73.96</td>\n",
       "      <td>29.87</td>\n",
       "      <td>73.43</td>\n",
       "      <td>199.18</td>\n",
       "    </tr>\n",
       "    <tr>\n",
       "      <td>Misc</td>\n",
       "      <td>10.61</td>\n",
       "      <td>8.27</td>\n",
       "      <td>12.69</td>\n",
       "      <td>34.66</td>\n",
       "    </tr>\n",
       "    <tr>\n",
       "      <td>Fighting</td>\n",
       "      <td>6.58</td>\n",
       "      <td>5.33</td>\n",
       "      <td>12.10</td>\n",
       "      <td>26.69</td>\n",
       "    </tr>\n",
       "    <tr>\n",
       "      <td>Platform</td>\n",
       "      <td>12.16</td>\n",
       "      <td>4.75</td>\n",
       "      <td>14.18</td>\n",
       "      <td>34.22</td>\n",
       "    </tr>\n",
       "    <tr>\n",
       "      <td>Shooter</td>\n",
       "      <td>64.89</td>\n",
       "      <td>4.56</td>\n",
       "      <td>75.37</td>\n",
       "      <td>165.71</td>\n",
       "    </tr>\n",
       "    <tr>\n",
       "      <td>Adventure</td>\n",
       "      <td>5.88</td>\n",
       "      <td>4.37</td>\n",
       "      <td>4.57</td>\n",
       "      <td>16.48</td>\n",
       "    </tr>\n",
       "    <tr>\n",
       "      <td>Simulation</td>\n",
       "      <td>10.17</td>\n",
       "      <td>4.29</td>\n",
       "      <td>4.08</td>\n",
       "      <td>19.81</td>\n",
       "    </tr>\n",
       "    <tr>\n",
       "      <td>Sports</td>\n",
       "      <td>38.63</td>\n",
       "      <td>3.05</td>\n",
       "      <td>37.09</td>\n",
       "      <td>90.67</td>\n",
       "    </tr>\n",
       "    <tr>\n",
       "      <td>Racing</td>\n",
       "      <td>15.18</td>\n",
       "      <td>1.68</td>\n",
       "      <td>10.29</td>\n",
       "      <td>30.36</td>\n",
       "    </tr>\n",
       "    <tr>\n",
       "      <td>Strategy</td>\n",
       "      <td>3.89</td>\n",
       "      <td>1.43</td>\n",
       "      <td>2.87</td>\n",
       "      <td>8.91</td>\n",
       "    </tr>\n",
       "    <tr>\n",
       "      <td>Puzzle</td>\n",
       "      <td>1.00</td>\n",
       "      <td>1.14</td>\n",
       "      <td>0.83</td>\n",
       "      <td>3.13</td>\n",
       "    </tr>\n",
       "  </tbody>\n",
       "</table>\n",
       "</div>"
      ],
      "text/plain": [
       "              eu_sales  jp_sales  na_sales  sum_sales\n",
       "genre                                                \n",
       "Role-Playing     32.00     44.84     37.92     123.94\n",
       "Action           73.96     29.87     73.43     199.18\n",
       "Misc             10.61      8.27     12.69      34.66\n",
       "Fighting          6.58      5.33     12.10      26.69\n",
       "Platform         12.16      4.75     14.18      34.22\n",
       "Shooter          64.89      4.56     75.37     165.71\n",
       "Adventure         5.88      4.37      4.57      16.48\n",
       "Simulation       10.17      4.29      4.08      19.81\n",
       "Sports           38.63      3.05     37.09      90.67\n",
       "Racing           15.18      1.68     10.29      30.36\n",
       "Strategy          3.89      1.43      2.87       8.91\n",
       "Puzzle            1.00      1.14      0.83       3.13"
      ]
     },
     "execution_count": 49,
     "metadata": {},
     "output_type": "execute_result"
    }
   ],
   "source": [
    "df2.pivot_table(index = 'genre', values = ['na_sales', 'eu_sales', 'jp_sales' , 'sum_sales'], aggfunc = 'sum').sort_values(by = 'jp_sales', ascending = False)"
   ]
  },
  {
   "cell_type": "markdown",
   "metadata": {},
   "source": [
    "Как в европпе так и в северной Америке самые популярные игры это Action, Shooter, Role - Playing, Sports, Siulator.\n",
    "В японии же ситуация отличается и самый популярный жанр это Role-Playing. "
   ]
  },
  {
   "cell_type": "code",
   "execution_count": 50,
   "metadata": {},
   "outputs": [
    {
     "data": {
      "text/html": [
       "<div>\n",
       "<style scoped>\n",
       "    .dataframe tbody tr th:only-of-type {\n",
       "        vertical-align: middle;\n",
       "    }\n",
       "\n",
       "    .dataframe tbody tr th {\n",
       "        vertical-align: top;\n",
       "    }\n",
       "\n",
       "    .dataframe thead th {\n",
       "        text-align: right;\n",
       "    }\n",
       "</style>\n",
       "<table border=\"1\" class=\"dataframe\">\n",
       "  <thead>\n",
       "    <tr style=\"text-align: right;\">\n",
       "      <th></th>\n",
       "      <th>eu_sales</th>\n",
       "      <th>jp_sales</th>\n",
       "      <th>na_sales</th>\n",
       "      <th>sum_sales</th>\n",
       "    </tr>\n",
       "    <tr>\n",
       "      <th>rating</th>\n",
       "      <th></th>\n",
       "      <th></th>\n",
       "      <th></th>\n",
       "      <th></th>\n",
       "    </tr>\n",
       "  </thead>\n",
       "  <tbody>\n",
       "    <tr>\n",
       "      <td>no_rating</td>\n",
       "      <td>63.54</td>\n",
       "      <td>72.97</td>\n",
       "      <td>68.68</td>\n",
       "      <td>223.33</td>\n",
       "    </tr>\n",
       "    <tr>\n",
       "      <td>T</td>\n",
       "      <td>32.60</td>\n",
       "      <td>13.52</td>\n",
       "      <td>35.07</td>\n",
       "      <td>91.67</td>\n",
       "    </tr>\n",
       "    <tr>\n",
       "      <td>E</td>\n",
       "      <td>58.00</td>\n",
       "      <td>13.26</td>\n",
       "      <td>52.37</td>\n",
       "      <td>138.39</td>\n",
       "    </tr>\n",
       "    <tr>\n",
       "      <td>M</td>\n",
       "      <td>94.51</td>\n",
       "      <td>8.17</td>\n",
       "      <td>97.05</td>\n",
       "      <td>228.45</td>\n",
       "    </tr>\n",
       "    <tr>\n",
       "      <td>E10+</td>\n",
       "      <td>26.30</td>\n",
       "      <td>5.66</td>\n",
       "      <td>32.25</td>\n",
       "      <td>71.92</td>\n",
       "    </tr>\n",
       "  </tbody>\n",
       "</table>\n",
       "</div>"
      ],
      "text/plain": [
       "           eu_sales  jp_sales  na_sales  sum_sales\n",
       "rating                                            \n",
       "no_rating     63.54     72.97     68.68     223.33\n",
       "T             32.60     13.52     35.07      91.67\n",
       "E             58.00     13.26     52.37     138.39\n",
       "M             94.51      8.17     97.05     228.45\n",
       "E10+          26.30      5.66     32.25      71.92"
      ]
     },
     "execution_count": 50,
     "metadata": {},
     "output_type": "execute_result"
    }
   ],
   "source": [
    "df2.pivot_table(index = 'rating', values = ['na_sales', 'eu_sales', 'jp_sales' , 'sum_sales'], aggfunc = 'sum').sort_values(by = 'jp_sales', ascending = False)"
   ]
  },
  {
   "cell_type": "markdown",
   "metadata": {},
   "source": [
    "M - Mature. Игры с элементами насилия, кровью, черным юмором и крепкими выражениями. Возрастной ценз — 17 и более лет.\n",
    "E - Everyone. Рассчитано на игроков от 6 лет и старше.\n",
    "E10+ - Everyone 10+. Для детей от 10 лет и старше. Такие игры могут содержать элементы Cartoon Violence (мультяшной жестокости).\n",
    "T - Teen. Реалистичное насилие и грубая лексика, но в небольших количествах. Для игроков от 13 лет.\n",
    "EC - Early Childhood. Игра разрешена детям от 3 лет и старше.\n",
    "RP - Rating Pending. Данная иконка подтверждает, что игра уже принята на рассмотрение в ESRB, но итоговый рейтинг получить еще не успела.\n",
    "\n",
    "Самые попоулярные катигории в Европе и северной Америке это M, E, T. В японии же игры Everyone. \n",
    "В детские игры с 3х лет играют мало. \n",
    "Игры с еще не установленным рейтингом, их потчи таких нет."
   ]
  },
  {
   "cell_type": "markdown",
   "metadata": {},
   "source": [
    "## Проверьте гипотезы"
   ]
  },
  {
   "cell_type": "code",
   "execution_count": 51,
   "metadata": {},
   "outputs": [
    {
     "name": "stdout",
     "output_type": "stream",
     "text": [
      "H0:Средние пользовательские рейтинги платформ Xbox One и PC одинаковые\n",
      "H1:Средние пользовательские рейтинги платформ Xbox One и PC различаются\n",
      "p-значение: 0.14759594013430463\n",
      "Не получилось отвергнуть нулевую гипотезу H0\n"
     ]
    }
   ],
   "source": [
    "from scipy import stats as st\n",
    "\n",
    "sample1= df2.query('platform == \"XOne\" and user_score != -100')['user_score']\n",
    "sample2= df2.query('platform == \"PC\" and user_score != -100')['user_score']\n",
    "\n",
    "print('H0:Средние пользовательские рейтинги платформ Xbox One и PC одинаковые')\n",
    "print('H1:Средние пользовательские рейтинги платформ Xbox One и PC различаются')\n",
    "\n",
    "alpha = 0.05\n",
    "results = st.ttest_ind(sample1, sample2, equal_var = False)\n",
    "\n",
    "print('p-значение:', results.pvalue)\n",
    "\n",
    "if results.pvalue < alpha:\n",
    "    print('Отвергаем нулевую гипотезу H0')\n",
    "else:\n",
    "    print('Не получилось отвергнуть нулевую гипотезу H0') "
   ]
  },
  {
   "cell_type": "code",
   "execution_count": 52,
   "metadata": {},
   "outputs": [
    {
     "name": "stdout",
     "output_type": "stream",
     "text": [
      "H0:Средние пользовательские рейтинги жанров Action  и Sports одинаковые\n",
      "H1:Средние пользовательские рейтинги жанров Action  и Sports разные\n",
      "p-значение: 1.2678091455806196e-11\n",
      "Отвергаем нулевую гипотезу H0\n"
     ]
    }
   ],
   "source": [
    "sample3= df2.query('genre == \"Action\" and user_score != -100')['user_score']\n",
    "sample4= df2.query('genre == \"Sports\" and user_score != -100')['user_score']\n",
    "\n",
    "print('H0:Средние пользовательские рейтинги жанров Action  и Sports одинаковые')\n",
    "print('H1:Средние пользовательские рейтинги жанров Action  и Sports разные')\n",
    "\n",
    "\n",
    "alpha = 0.05\n",
    "results1 = st.ttest_ind(sample3, sample4, equal_var = False)\n",
    "\n",
    "print('p-значение:', results1.pvalue)\n",
    "\n",
    "if results1.pvalue < alpha:\n",
    "    print('Отвергаем нулевую гипотезу H0')\n",
    "else:\n",
    "    print('Не получилось отвергнуть нулевую гипотезу H0') "
   ]
  },
  {
   "cell_type": "markdown",
   "metadata": {},
   "source": [
    "Для проверки гипотез про пользовательский рейтинг платформ и жанров, мы выбираем методом \"О равенстве среднего двух генеральных совокупностей по взятым из них выборкам\", так как выборки не зависимы. Параметр equal_var = False потому что дисперсии выборок не равны. Альфу берем стандартную равную 0.05 это обозначает критическую область с каждой стороны по 2.5%.\n",
    "Нулевая гипотеза всегда проверяет равенство выборок (oтличий нет), а альтернативная отрицает нулевую (когда отличия есть)."
   ]
  },
  {
   "cell_type": "markdown",
   "metadata": {},
   "source": [
    "## Напишите общий вывод"
   ]
  },
  {
   "cell_type": "markdown",
   "metadata": {},
   "source": [
    "Мы определили что не стоит смотреть игры всех годов, а сделать выборку из 4х последних лет. Перспективные платформы это: 3DS, PC, PS4, PSV, WiiU, XOne. А самая прибыльная платформа это PS4. Чаще всего оценки экспертов влияют на продажи. Жанр игр приносящих больше всего прибыли это Action, Shooter, Role - Playing. Самый низкий доход у Pazzle. В европпе самая попоулярная платформа это PS4, и вообще у евроопы самые большие выручки. В японии же популярны портативная приставка 3DS(японская комания), но вообще не пользуются спросом PC и XOne. В северной Америке любят играть как на своих приставках XOne, так и на японских PS4 и 3DS. Как в европпе так и в северной Америке самые популярные игры это Action, Shooter, Role - Playing, Sports, Siulator.\n",
    "В японии же ситуация отличается и самый популярный жанр это Role-Playing. \n",
    "Самые попоулярные катигории в Европе и северной Америке это M, E, T. В японии же игры Everyone. \n",
    "В детские игры с 3х лет играют мало. \n",
    "Игры с еще не установленным рейтингом, их потчи таких нет.\n",
    "\n",
    "Проверили 2 гипотезы и поняли что:\n",
    "1. Средние пользовательские рейтинги платформ Xbox One и PC различаются\n",
    "2. Средние пользовательские рейтинги жанров Action  и Sports разные"
   ]
  }
 ],
 "metadata": {
  "ExecuteTimeLog": [
   {
    "duration": 645,
    "start_time": "2021-11-04T22:08:27.615Z"
   },
   {
    "duration": 28,
    "start_time": "2021-11-04T22:10:27.574Z"
   },
   {
    "duration": 11,
    "start_time": "2021-11-04T22:12:41.829Z"
   },
   {
    "duration": 81,
    "start_time": "2021-11-04T22:14:50.202Z"
   },
   {
    "duration": 9,
    "start_time": "2021-11-04T22:15:30.297Z"
   },
   {
    "duration": 19,
    "start_time": "2021-11-04T22:19:15.207Z"
   },
   {
    "duration": 346,
    "start_time": "2021-11-04T22:19:42.462Z"
   },
   {
    "duration": 18,
    "start_time": "2021-11-04T22:19:49.574Z"
   },
   {
    "duration": 250,
    "start_time": "2021-11-04T22:23:15.252Z"
   },
   {
    "duration": 249,
    "start_time": "2021-11-04T22:28:19.771Z"
   },
   {
    "duration": 865,
    "start_time": "2021-11-04T22:28:30.824Z"
   },
   {
    "duration": 254,
    "start_time": "2021-11-04T22:28:39.760Z"
   },
   {
    "duration": 993,
    "start_time": "2021-11-04T22:30:28.334Z"
   },
   {
    "duration": 3,
    "start_time": "2021-11-04T22:30:43.190Z"
   },
   {
    "duration": 19,
    "start_time": "2021-11-04T22:30:50.197Z"
   },
   {
    "duration": 18,
    "start_time": "2021-11-04T22:34:58.420Z"
   },
   {
    "duration": 10,
    "start_time": "2021-11-04T22:35:22.178Z"
   },
   {
    "duration": 18,
    "start_time": "2021-11-04T22:36:07.978Z"
   },
   {
    "duration": 18,
    "start_time": "2021-11-04T22:36:21.859Z"
   },
   {
    "duration": 272,
    "start_time": "2021-11-04T22:37:35.888Z"
   },
   {
    "duration": 261,
    "start_time": "2021-11-04T22:40:29.888Z"
   },
   {
    "duration": 5,
    "start_time": "2021-11-04T22:43:06.318Z"
   },
   {
    "duration": 17,
    "start_time": "2021-11-04T22:43:13.147Z"
   },
   {
    "duration": 6,
    "start_time": "2021-11-04T22:46:38.434Z"
   },
   {
    "duration": 5,
    "start_time": "2021-11-04T22:49:03.320Z"
   },
   {
    "duration": 19,
    "start_time": "2021-11-04T22:54:02.061Z"
   },
   {
    "duration": 19,
    "start_time": "2021-11-04T22:54:53.340Z"
   },
   {
    "duration": 20,
    "start_time": "2021-11-04T22:57:11.241Z"
   },
   {
    "duration": 7,
    "start_time": "2021-11-04T22:58:15.036Z"
   },
   {
    "duration": 6187,
    "start_time": "2021-11-04T22:59:21.935Z"
   },
   {
    "duration": 6162,
    "start_time": "2021-11-04T22:59:28.343Z"
   },
   {
    "duration": 8,
    "start_time": "2021-11-04T22:59:40.887Z"
   },
   {
    "duration": 8,
    "start_time": "2021-11-04T23:35:51.838Z"
   },
   {
    "duration": 7,
    "start_time": "2021-11-04T23:37:57.251Z"
   },
   {
    "duration": 9,
    "start_time": "2021-11-04T23:38:03.179Z"
   },
   {
    "duration": 10,
    "start_time": "2021-11-04T23:38:14.684Z"
   },
   {
    "duration": 554,
    "start_time": "2021-11-04T23:40:45.585Z"
   },
   {
    "duration": 265,
    "start_time": "2021-11-04T23:40:57.058Z"
   },
   {
    "duration": 15,
    "start_time": "2021-11-04T23:42:01.856Z"
   },
   {
    "duration": 9,
    "start_time": "2021-11-04T23:42:11.208Z"
   },
   {
    "duration": 17,
    "start_time": "2021-11-04T23:46:23.991Z"
   },
   {
    "duration": 9,
    "start_time": "2021-11-04T23:46:59.045Z"
   },
   {
    "duration": 19,
    "start_time": "2021-11-04T23:47:36.484Z"
   },
   {
    "duration": 114,
    "start_time": "2021-11-04T23:49:35.995Z"
   },
   {
    "duration": 120,
    "start_time": "2021-11-04T23:49:52.763Z"
   },
   {
    "duration": 3,
    "start_time": "2021-11-04T23:50:32.026Z"
   },
   {
    "duration": 52,
    "start_time": "2021-11-04T23:50:36.606Z"
   },
   {
    "duration": 2,
    "start_time": "2021-11-04T23:50:36.660Z"
   },
   {
    "duration": 32,
    "start_time": "2021-11-04T23:50:36.664Z"
   },
   {
    "duration": 11,
    "start_time": "2021-11-04T23:50:36.698Z"
   },
   {
    "duration": 10,
    "start_time": "2021-11-04T23:50:36.710Z"
   },
   {
    "duration": 42,
    "start_time": "2021-11-04T23:50:36.722Z"
   },
   {
    "duration": 3,
    "start_time": "2021-11-04T23:50:36.766Z"
   },
   {
    "duration": 7,
    "start_time": "2021-11-04T23:50:36.770Z"
   },
   {
    "duration": 4,
    "start_time": "2021-11-04T23:50:36.780Z"
   },
   {
    "duration": 6,
    "start_time": "2021-11-04T23:50:36.786Z"
   },
   {
    "duration": 13,
    "start_time": "2021-11-04T23:50:36.794Z"
   },
   {
    "duration": 13,
    "start_time": "2021-11-04T23:50:36.809Z"
   },
   {
    "duration": 16,
    "start_time": "2021-11-04T23:50:36.823Z"
   },
   {
    "duration": 26,
    "start_time": "2021-11-04T23:50:36.841Z"
   },
   {
    "duration": 22,
    "start_time": "2021-11-04T23:50:36.868Z"
   },
   {
    "duration": 9,
    "start_time": "2021-11-04T23:50:36.892Z"
   },
   {
    "duration": 31,
    "start_time": "2021-11-04T23:50:36.903Z"
   },
   {
    "duration": 6,
    "start_time": "2021-11-04T23:53:20.369Z"
   },
   {
    "duration": 262,
    "start_time": "2021-11-04T23:57:12.854Z"
   },
   {
    "duration": 7,
    "start_time": "2021-11-04T23:58:24.093Z"
   },
   {
    "duration": 16,
    "start_time": "2021-11-05T00:01:01.514Z"
   },
   {
    "duration": 21,
    "start_time": "2021-11-05T00:07:32.327Z"
   },
   {
    "duration": 22,
    "start_time": "2021-11-05T00:09:06.960Z"
   },
   {
    "duration": 20,
    "start_time": "2021-11-05T00:10:35.396Z"
   },
   {
    "duration": 20,
    "start_time": "2021-11-05T00:11:52.931Z"
   },
   {
    "duration": 29,
    "start_time": "2021-11-05T00:12:00.058Z"
   },
   {
    "duration": 8,
    "start_time": "2021-11-05T00:18:43.223Z"
   },
   {
    "duration": 13,
    "start_time": "2021-11-05T00:18:58.141Z"
   },
   {
    "duration": 20,
    "start_time": "2021-11-05T00:19:21.693Z"
   },
   {
    "duration": 7,
    "start_time": "2021-11-05T00:19:35.853Z"
   },
   {
    "duration": 7,
    "start_time": "2021-11-05T00:22:06.491Z"
   },
   {
    "duration": 18,
    "start_time": "2021-11-05T00:22:11.234Z"
   },
   {
    "duration": 20,
    "start_time": "2021-11-05T00:22:58.003Z"
   },
   {
    "duration": 21,
    "start_time": "2021-11-05T00:23:06.115Z"
   },
   {
    "duration": 19,
    "start_time": "2021-11-05T00:23:54.321Z"
   },
   {
    "duration": 8,
    "start_time": "2021-11-05T00:24:41.527Z"
   },
   {
    "duration": 20,
    "start_time": "2021-11-05T00:24:41.890Z"
   },
   {
    "duration": 30,
    "start_time": "2021-11-05T00:25:24.208Z"
   },
   {
    "duration": 29,
    "start_time": "2021-11-05T00:25:37.625Z"
   },
   {
    "duration": 7,
    "start_time": "2021-11-05T00:26:14.143Z"
   },
   {
    "duration": 29,
    "start_time": "2021-11-05T00:26:15.623Z"
   },
   {
    "duration": 19,
    "start_time": "2021-11-05T00:26:20.695Z"
   },
   {
    "duration": 18,
    "start_time": "2021-11-05T00:26:53.095Z"
   },
   {
    "duration": 18,
    "start_time": "2021-11-05T00:27:02.232Z"
   },
   {
    "duration": 19,
    "start_time": "2021-11-05T00:27:59.767Z"
   },
   {
    "duration": 3490,
    "start_time": "2021-11-05T01:01:19.966Z"
   },
   {
    "duration": 563,
    "start_time": "2021-11-05T01:01:36.188Z"
   },
   {
    "duration": 84,
    "start_time": "2021-11-05T01:05:20.043Z"
   },
   {
    "duration": 8,
    "start_time": "2021-11-05T01:06:36.714Z"
   },
   {
    "duration": 24,
    "start_time": "2021-11-05T01:06:44.312Z"
   },
   {
    "duration": 7,
    "start_time": "2021-11-05T01:07:46.887Z"
   },
   {
    "duration": 268,
    "start_time": "2021-11-05T01:09:10.871Z"
   },
   {
    "duration": 253,
    "start_time": "2021-11-05T01:09:24.839Z"
   },
   {
    "duration": 227,
    "start_time": "2021-11-05T01:09:45.935Z"
   },
   {
    "duration": 232,
    "start_time": "2021-11-05T01:10:02.086Z"
   },
   {
    "duration": 10,
    "start_time": "2021-11-05T01:13:20.245Z"
   },
   {
    "duration": 16,
    "start_time": "2021-11-05T01:13:25.307Z"
   },
   {
    "duration": 300,
    "start_time": "2021-11-05T01:13:39.555Z"
   },
   {
    "duration": 131,
    "start_time": "2021-11-05T01:13:55.964Z"
   },
   {
    "duration": 316,
    "start_time": "2021-11-05T01:15:04.996Z"
   },
   {
    "duration": 266,
    "start_time": "2021-11-05T01:15:35.547Z"
   },
   {
    "duration": 290,
    "start_time": "2021-11-05T01:27:40.396Z"
   },
   {
    "duration": 304,
    "start_time": "2021-11-05T01:28:54.967Z"
   },
   {
    "duration": 79,
    "start_time": "2021-11-05T01:29:37.623Z"
   },
   {
    "duration": 259,
    "start_time": "2021-11-05T01:29:47.663Z"
   },
   {
    "duration": 285,
    "start_time": "2021-11-05T01:30:33.862Z"
   },
   {
    "duration": 266,
    "start_time": "2021-11-05T01:30:44.310Z"
   },
   {
    "duration": 201,
    "start_time": "2021-11-05T01:31:03.806Z"
   },
   {
    "duration": 190,
    "start_time": "2021-11-05T01:31:26.573Z"
   },
   {
    "duration": 94,
    "start_time": "2021-11-05T01:31:58.189Z"
   },
   {
    "duration": 309,
    "start_time": "2021-11-05T01:32:05.133Z"
   },
   {
    "duration": 369,
    "start_time": "2021-11-05T01:32:50.605Z"
   },
   {
    "duration": 315,
    "start_time": "2021-11-05T01:33:12.292Z"
   },
   {
    "duration": 230,
    "start_time": "2021-11-05T01:36:10.851Z"
   },
   {
    "duration": 452,
    "start_time": "2021-11-05T01:48:27.844Z"
   },
   {
    "duration": 259,
    "start_time": "2021-11-05T01:49:22.512Z"
   },
   {
    "duration": 10,
    "start_time": "2021-11-05T01:50:13.191Z"
   },
   {
    "duration": 5,
    "start_time": "2021-11-05T01:51:16.351Z"
   },
   {
    "duration": 10,
    "start_time": "2021-11-05T01:51:18.120Z"
   },
   {
    "duration": 53,
    "start_time": "2021-11-05T01:51:29.028Z"
   },
   {
    "duration": 2,
    "start_time": "2021-11-05T01:51:29.083Z"
   },
   {
    "duration": 31,
    "start_time": "2021-11-05T01:51:29.087Z"
   },
   {
    "duration": 9,
    "start_time": "2021-11-05T01:51:29.120Z"
   },
   {
    "duration": 36,
    "start_time": "2021-11-05T01:51:29.130Z"
   },
   {
    "duration": 18,
    "start_time": "2021-11-05T01:51:29.167Z"
   },
   {
    "duration": 3,
    "start_time": "2021-11-05T01:51:29.187Z"
   },
   {
    "duration": 7,
    "start_time": "2021-11-05T01:51:29.192Z"
   },
   {
    "duration": 4,
    "start_time": "2021-11-05T01:51:29.200Z"
   },
   {
    "duration": 12,
    "start_time": "2021-11-05T01:51:29.206Z"
   },
   {
    "duration": 9,
    "start_time": "2021-11-05T01:51:29.220Z"
   },
   {
    "duration": 32,
    "start_time": "2021-11-05T01:51:29.231Z"
   },
   {
    "duration": 10,
    "start_time": "2021-11-05T01:51:29.265Z"
   },
   {
    "duration": 18,
    "start_time": "2021-11-05T01:51:29.276Z"
   },
   {
    "duration": 4,
    "start_time": "2021-11-05T01:51:29.296Z"
   },
   {
    "duration": 23,
    "start_time": "2021-11-05T01:51:29.301Z"
   },
   {
    "duration": 5,
    "start_time": "2021-11-05T01:51:29.326Z"
   },
   {
    "duration": 37,
    "start_time": "2021-11-05T01:51:29.333Z"
   },
   {
    "duration": 14,
    "start_time": "2021-11-05T01:51:29.371Z"
   },
   {
    "duration": 17,
    "start_time": "2021-11-05T01:51:29.387Z"
   },
   {
    "duration": 7,
    "start_time": "2021-11-05T01:51:29.406Z"
   },
   {
    "duration": 21,
    "start_time": "2021-11-05T01:51:29.414Z"
   },
   {
    "duration": 20,
    "start_time": "2021-11-05T01:51:29.462Z"
   },
   {
    "duration": 5529,
    "start_time": "2021-11-05T01:51:29.484Z"
   },
   {
    "duration": 338,
    "start_time": "2021-11-05T01:51:35.015Z"
   },
   {
    "duration": 13,
    "start_time": "2021-11-05T01:51:35.354Z"
   },
   {
    "duration": 10,
    "start_time": "2021-11-05T01:51:35.368Z"
   },
   {
    "duration": 353,
    "start_time": "2021-11-05T01:51:35.380Z"
   },
   {
    "duration": 452,
    "start_time": "2021-11-05T01:51:35.734Z"
   },
   {
    "duration": 366,
    "start_time": "2021-11-05T01:51:36.188Z"
   },
   {
    "duration": 13,
    "start_time": "2021-11-05T01:56:15.253Z"
   },
   {
    "duration": 15,
    "start_time": "2021-11-05T02:04:05.224Z"
   },
   {
    "duration": 350,
    "start_time": "2021-11-05T07:48:21.577Z"
   },
   {
    "duration": 829,
    "start_time": "2021-11-05T07:48:25.453Z"
   },
   {
    "duration": 3,
    "start_time": "2021-11-05T07:48:26.285Z"
   },
   {
    "duration": 44,
    "start_time": "2021-11-05T07:48:26.291Z"
   },
   {
    "duration": 13,
    "start_time": "2021-11-05T07:48:26.338Z"
   },
   {
    "duration": 35,
    "start_time": "2021-11-05T07:48:26.354Z"
   },
   {
    "duration": 25,
    "start_time": "2021-11-05T07:48:26.391Z"
   },
   {
    "duration": 3,
    "start_time": "2021-11-05T07:48:26.418Z"
   },
   {
    "duration": 5,
    "start_time": "2021-11-05T07:48:26.425Z"
   },
   {
    "duration": 49,
    "start_time": "2021-11-05T07:48:26.433Z"
   },
   {
    "duration": 8,
    "start_time": "2021-11-05T07:48:26.484Z"
   },
   {
    "duration": 14,
    "start_time": "2021-11-05T07:48:26.494Z"
   },
   {
    "duration": 10,
    "start_time": "2021-11-05T07:48:26.510Z"
   },
   {
    "duration": 13,
    "start_time": "2021-11-05T07:48:26.522Z"
   },
   {
    "duration": 60,
    "start_time": "2021-11-05T07:48:26.538Z"
   },
   {
    "duration": 11,
    "start_time": "2021-11-05T07:48:26.601Z"
   },
   {
    "duration": 32,
    "start_time": "2021-11-05T07:48:26.614Z"
   },
   {
    "duration": 34,
    "start_time": "2021-11-05T07:48:26.648Z"
   },
   {
    "duration": 14,
    "start_time": "2021-11-05T07:48:26.685Z"
   },
   {
    "duration": 22,
    "start_time": "2021-11-05T07:48:26.702Z"
   },
   {
    "duration": 63,
    "start_time": "2021-11-05T07:48:26.727Z"
   },
   {
    "duration": 8,
    "start_time": "2021-11-05T07:48:26.793Z"
   },
   {
    "duration": 30,
    "start_time": "2021-11-05T07:48:26.803Z"
   },
   {
    "duration": 53,
    "start_time": "2021-11-05T07:48:26.838Z"
   },
   {
    "duration": 4844,
    "start_time": "2021-11-05T07:48:26.893Z"
   },
   {
    "duration": 596,
    "start_time": "2021-11-05T07:48:31.739Z"
   },
   {
    "duration": 9,
    "start_time": "2021-11-05T07:48:32.338Z"
   },
   {
    "duration": 599,
    "start_time": "2021-11-05T07:48:32.350Z"
   },
   {
    "duration": 441,
    "start_time": "2021-11-05T07:48:32.952Z"
   },
   {
    "duration": 565,
    "start_time": "2021-11-05T07:48:33.396Z"
   },
   {
    "duration": 549,
    "start_time": "2021-11-05T07:48:33.964Z"
   },
   {
    "duration": 21,
    "start_time": "2021-11-05T07:48:34.515Z"
   },
   {
    "duration": 596,
    "start_time": "2021-11-05T07:48:34.538Z"
   },
   {
    "duration": 553,
    "start_time": "2021-11-05T07:49:01.711Z"
   },
   {
    "duration": 20,
    "start_time": "2021-11-05T07:49:39.051Z"
   },
   {
    "duration": 381,
    "start_time": "2021-11-05T07:51:09.398Z"
   },
   {
    "duration": 553,
    "start_time": "2021-11-05T07:51:25.520Z"
   },
   {
    "duration": 355,
    "start_time": "2021-11-05T07:51:30.142Z"
   },
   {
    "duration": 616,
    "start_time": "2021-11-05T07:51:39.820Z"
   },
   {
    "duration": 22,
    "start_time": "2021-11-05T07:51:43.686Z"
   },
   {
    "duration": 19,
    "start_time": "2021-11-05T07:55:35.117Z"
   },
   {
    "duration": 327,
    "start_time": "2021-11-05T07:56:59.226Z"
   },
   {
    "duration": 19,
    "start_time": "2021-11-05T07:57:08.257Z"
   },
   {
    "duration": 294,
    "start_time": "2021-11-05T07:58:26.448Z"
   },
   {
    "duration": 20,
    "start_time": "2021-11-05T07:59:01.960Z"
   },
   {
    "duration": 21,
    "start_time": "2021-11-05T07:59:20.032Z"
   },
   {
    "duration": 307,
    "start_time": "2021-11-05T07:59:39.935Z"
   },
   {
    "duration": 22,
    "start_time": "2021-11-05T07:59:54.775Z"
   },
   {
    "duration": 21,
    "start_time": "2021-11-05T08:00:04.023Z"
   },
   {
    "duration": 32,
    "start_time": "2021-11-05T08:09:20.297Z"
   },
   {
    "duration": 23,
    "start_time": "2021-11-05T08:11:04.166Z"
   },
   {
    "duration": 24,
    "start_time": "2021-11-05T08:20:51.537Z"
   },
   {
    "duration": 24,
    "start_time": "2021-11-05T08:21:25.488Z"
   },
   {
    "duration": 26,
    "start_time": "2021-11-05T08:21:55.039Z"
   },
   {
    "duration": 26,
    "start_time": "2021-11-05T08:24:45.639Z"
   },
   {
    "duration": 25,
    "start_time": "2021-11-05T08:28:48.858Z"
   },
   {
    "duration": 15,
    "start_time": "2021-11-05T08:46:25.639Z"
   },
   {
    "duration": 14,
    "start_time": "2021-11-05T08:46:42.052Z"
   },
   {
    "duration": 15,
    "start_time": "2021-11-05T08:49:48.042Z"
   },
   {
    "duration": 730,
    "start_time": "2021-11-05T19:10:08.417Z"
   },
   {
    "duration": 2,
    "start_time": "2021-11-05T19:10:09.149Z"
   },
   {
    "duration": 28,
    "start_time": "2021-11-05T19:10:09.153Z"
   },
   {
    "duration": 9,
    "start_time": "2021-11-05T19:10:09.182Z"
   },
   {
    "duration": 7,
    "start_time": "2021-11-05T19:10:09.193Z"
   },
   {
    "duration": 45,
    "start_time": "2021-11-05T19:10:09.202Z"
   },
   {
    "duration": 3,
    "start_time": "2021-11-05T19:10:09.248Z"
   },
   {
    "duration": 11,
    "start_time": "2021-11-05T19:10:09.252Z"
   },
   {
    "duration": 6,
    "start_time": "2021-11-05T19:10:09.266Z"
   },
   {
    "duration": 7,
    "start_time": "2021-11-05T19:10:09.274Z"
   },
   {
    "duration": 16,
    "start_time": "2021-11-05T19:10:09.282Z"
   },
   {
    "duration": 10,
    "start_time": "2021-11-05T19:10:09.300Z"
   },
   {
    "duration": 12,
    "start_time": "2021-11-05T19:10:09.312Z"
   },
   {
    "duration": 19,
    "start_time": "2021-11-05T19:10:09.353Z"
   },
   {
    "duration": 14,
    "start_time": "2021-11-05T19:10:09.374Z"
   },
   {
    "duration": 33,
    "start_time": "2021-11-05T19:10:09.390Z"
   },
   {
    "duration": 6,
    "start_time": "2021-11-05T19:10:09.425Z"
   },
   {
    "duration": 23,
    "start_time": "2021-11-05T19:10:09.433Z"
   },
   {
    "duration": 18,
    "start_time": "2021-11-05T19:10:09.458Z"
   },
   {
    "duration": 24,
    "start_time": "2021-11-05T19:10:09.478Z"
   },
   {
    "duration": 8,
    "start_time": "2021-11-05T19:10:09.505Z"
   },
   {
    "duration": 48,
    "start_time": "2021-11-05T19:10:09.515Z"
   },
   {
    "duration": 19,
    "start_time": "2021-11-05T19:10:09.565Z"
   },
   {
    "duration": 3622,
    "start_time": "2021-11-05T19:10:09.585Z"
   },
   {
    "duration": 301,
    "start_time": "2021-11-05T19:10:13.209Z"
   },
   {
    "duration": 7,
    "start_time": "2021-11-05T19:10:13.512Z"
   },
   {
    "duration": 471,
    "start_time": "2021-11-05T19:10:13.524Z"
   },
   {
    "duration": 247,
    "start_time": "2021-11-05T19:10:13.998Z"
   },
   {
    "duration": 417,
    "start_time": "2021-11-05T19:10:14.247Z"
   },
   {
    "duration": 372,
    "start_time": "2021-11-05T19:10:14.666Z"
   },
   {
    "duration": 16,
    "start_time": "2021-11-05T19:10:15.040Z"
   },
   {
    "duration": 388,
    "start_time": "2021-11-05T19:10:15.058Z"
   },
   {
    "duration": 408,
    "start_time": "2021-11-05T19:10:15.448Z"
   },
   {
    "duration": 15,
    "start_time": "2021-11-05T19:10:15.857Z"
   },
   {
    "duration": 13,
    "start_time": "2021-11-05T19:10:15.873Z"
   },
   {
    "duration": 21,
    "start_time": "2021-11-05T19:10:15.888Z"
   },
   {
    "duration": 40,
    "start_time": "2021-11-05T19:10:15.911Z"
   },
   {
    "duration": 15,
    "start_time": "2021-11-05T19:10:15.953Z"
   },
   {
    "duration": 15,
    "start_time": "2021-11-05T19:10:15.970Z"
   },
   {
    "duration": 14,
    "start_time": "2021-11-05T19:10:15.986Z"
   },
   {
    "duration": 15,
    "start_time": "2021-11-05T19:10:16.002Z"
   },
   {
    "duration": 6,
    "start_time": "2021-11-05T19:19:46.768Z"
   },
   {
    "duration": 6,
    "start_time": "2021-11-05T19:20:25.126Z"
   },
   {
    "duration": 633,
    "start_time": "2021-11-05T19:51:48.565Z"
   },
   {
    "duration": 3,
    "start_time": "2021-11-05T19:51:49.199Z"
   },
   {
    "duration": 29,
    "start_time": "2021-11-05T19:51:49.203Z"
   },
   {
    "duration": 11,
    "start_time": "2021-11-05T19:51:49.234Z"
   },
   {
    "duration": 11,
    "start_time": "2021-11-05T19:51:49.247Z"
   },
   {
    "duration": 16,
    "start_time": "2021-11-05T19:51:49.260Z"
   },
   {
    "duration": 2,
    "start_time": "2021-11-05T19:51:49.278Z"
   },
   {
    "duration": 5,
    "start_time": "2021-11-05T19:51:49.283Z"
   },
   {
    "duration": 9,
    "start_time": "2021-11-05T19:51:49.290Z"
   },
   {
    "duration": 7,
    "start_time": "2021-11-05T19:51:49.301Z"
   },
   {
    "duration": 45,
    "start_time": "2021-11-05T19:51:49.309Z"
   },
   {
    "duration": 9,
    "start_time": "2021-11-05T19:51:49.356Z"
   },
   {
    "duration": 12,
    "start_time": "2021-11-05T19:51:49.367Z"
   },
   {
    "duration": 24,
    "start_time": "2021-11-05T19:51:49.381Z"
   },
   {
    "duration": 6,
    "start_time": "2021-11-05T19:51:49.407Z"
   },
   {
    "duration": 44,
    "start_time": "2021-11-05T19:51:49.414Z"
   },
   {
    "duration": 7,
    "start_time": "2021-11-05T19:51:49.460Z"
   },
   {
    "duration": 13,
    "start_time": "2021-11-05T19:51:49.468Z"
   },
   {
    "duration": 14,
    "start_time": "2021-11-05T19:51:49.482Z"
   },
   {
    "duration": 18,
    "start_time": "2021-11-05T19:51:49.497Z"
   },
   {
    "duration": 7,
    "start_time": "2021-11-05T19:51:49.545Z"
   },
   {
    "duration": 18,
    "start_time": "2021-11-05T19:51:49.553Z"
   },
   {
    "duration": 17,
    "start_time": "2021-11-05T19:51:49.574Z"
   },
   {
    "duration": 2604,
    "start_time": "2021-11-05T19:51:49.593Z"
   },
   {
    "duration": 315,
    "start_time": "2021-11-05T19:51:52.199Z"
   },
   {
    "duration": 6,
    "start_time": "2021-11-05T19:51:52.516Z"
   },
   {
    "duration": 450,
    "start_time": "2021-11-05T19:51:52.524Z"
   },
   {
    "duration": 238,
    "start_time": "2021-11-05T19:51:52.976Z"
   },
   {
    "duration": 445,
    "start_time": "2021-11-05T19:51:53.215Z"
   },
   {
    "duration": 394,
    "start_time": "2021-11-05T19:51:53.662Z"
   },
   {
    "duration": 14,
    "start_time": "2021-11-05T19:51:54.058Z"
   },
   {
    "duration": 380,
    "start_time": "2021-11-05T19:51:54.074Z"
   },
   {
    "duration": 382,
    "start_time": "2021-11-05T19:51:54.456Z"
   },
   {
    "duration": 16,
    "start_time": "2021-11-05T19:51:54.840Z"
   },
   {
    "duration": 13,
    "start_time": "2021-11-05T19:51:54.857Z"
   },
   {
    "duration": 23,
    "start_time": "2021-11-05T19:51:54.871Z"
   },
   {
    "duration": 14,
    "start_time": "2021-11-05T19:51:54.896Z"
   },
   {
    "duration": 45,
    "start_time": "2021-11-05T19:51:54.912Z"
   },
   {
    "duration": 15,
    "start_time": "2021-11-05T19:51:54.959Z"
   },
   {
    "duration": 12,
    "start_time": "2021-11-05T19:51:54.976Z"
   },
   {
    "duration": 12,
    "start_time": "2021-11-05T19:51:54.989Z"
   },
   {
    "duration": 680,
    "start_time": "2021-11-05T20:36:11.449Z"
   },
   {
    "duration": 3,
    "start_time": "2021-11-05T20:36:12.858Z"
   },
   {
    "duration": 30,
    "start_time": "2021-11-05T20:36:14.679Z"
   },
   {
    "duration": 11,
    "start_time": "2021-11-05T20:36:16.081Z"
   },
   {
    "duration": 9,
    "start_time": "2021-11-05T20:36:17.881Z"
   },
   {
    "duration": 18,
    "start_time": "2021-11-05T20:36:20.945Z"
   },
   {
    "duration": 3,
    "start_time": "2021-11-05T20:36:22.425Z"
   },
   {
    "duration": 5,
    "start_time": "2021-11-05T20:36:25.515Z"
   },
   {
    "duration": 9,
    "start_time": "2021-11-05T20:37:54.817Z"
   },
   {
    "duration": 12,
    "start_time": "2021-11-05T20:38:13.033Z"
   },
   {
    "duration": 11,
    "start_time": "2021-11-05T20:39:09.560Z"
   },
   {
    "duration": 11,
    "start_time": "2021-11-05T20:39:20.992Z"
   },
   {
    "duration": 8,
    "start_time": "2021-11-05T20:39:32.600Z"
   },
   {
    "duration": 9,
    "start_time": "2021-11-05T20:39:42.560Z"
   },
   {
    "duration": 296,
    "start_time": "2021-11-05T20:41:49.986Z"
   },
   {
    "duration": 304,
    "start_time": "2021-11-05T20:41:56.976Z"
   },
   {
    "duration": 8,
    "start_time": "2021-11-05T20:42:01.950Z"
   },
   {
    "duration": 55,
    "start_time": "2021-11-05T20:42:24.888Z"
   },
   {
    "duration": 57,
    "start_time": "2021-11-05T20:42:35.320Z"
   },
   {
    "duration": 5808,
    "start_time": "2021-11-05T21:29:09.069Z"
   },
   {
    "duration": 6546,
    "start_time": "2021-11-05T21:29:35.856Z"
   },
   {
    "duration": 6588,
    "start_time": "2021-11-05T21:31:50.851Z"
   },
   {
    "duration": 56,
    "start_time": "2021-11-05T21:31:58.360Z"
   },
   {
    "duration": 3,
    "start_time": "2021-11-05T21:31:58.861Z"
   },
   {
    "duration": 28,
    "start_time": "2021-11-05T21:32:00.050Z"
   },
   {
    "duration": 11,
    "start_time": "2021-11-05T21:32:01.252Z"
   },
   {
    "duration": 10,
    "start_time": "2021-11-05T21:32:02.251Z"
   },
   {
    "duration": 21,
    "start_time": "2021-11-05T21:32:03.450Z"
   },
   {
    "duration": 3,
    "start_time": "2021-11-05T21:32:15.337Z"
   },
   {
    "duration": 5,
    "start_time": "2021-11-05T21:32:17.505Z"
   },
   {
    "duration": 18,
    "start_time": "2021-11-05T21:32:53.184Z"
   },
   {
    "duration": 5,
    "start_time": "2021-11-05T21:33:07.034Z"
   },
   {
    "duration": 7,
    "start_time": "2021-11-05T21:33:20.041Z"
   },
   {
    "duration": 241,
    "start_time": "2021-11-05T21:33:24.545Z"
   },
   {
    "duration": 11,
    "start_time": "2021-11-05T21:33:34.386Z"
   },
   {
    "duration": 10,
    "start_time": "2021-11-05T21:35:38.246Z"
   },
   {
    "duration": 55,
    "start_time": "2021-11-05T21:36:39.060Z"
   },
   {
    "duration": 2,
    "start_time": "2021-11-05T21:36:39.117Z"
   },
   {
    "duration": 29,
    "start_time": "2021-11-05T21:36:39.121Z"
   },
   {
    "duration": 9,
    "start_time": "2021-11-05T21:36:39.164Z"
   },
   {
    "duration": 8,
    "start_time": "2021-11-05T21:36:39.175Z"
   },
   {
    "duration": 3,
    "start_time": "2021-11-05T21:36:39.185Z"
   },
   {
    "duration": 8,
    "start_time": "2021-11-05T21:36:39.190Z"
   },
   {
    "duration": 18,
    "start_time": "2021-11-05T21:36:39.202Z"
   },
   {
    "duration": 41,
    "start_time": "2021-11-05T21:36:39.222Z"
   },
   {
    "duration": 9,
    "start_time": "2021-11-05T21:36:39.266Z"
   },
   {
    "duration": 12,
    "start_time": "2021-11-05T21:36:39.277Z"
   },
   {
    "duration": 10,
    "start_time": "2021-11-05T21:36:39.291Z"
   },
   {
    "duration": 9,
    "start_time": "2021-11-05T21:36:39.303Z"
   },
   {
    "duration": 54,
    "start_time": "2021-11-05T21:36:39.313Z"
   },
   {
    "duration": 18,
    "start_time": "2021-11-05T21:36:39.368Z"
   },
   {
    "duration": 10,
    "start_time": "2021-11-05T21:36:39.388Z"
   },
   {
    "duration": 18,
    "start_time": "2021-11-05T21:36:39.400Z"
   },
   {
    "duration": 5,
    "start_time": "2021-11-05T21:36:39.420Z"
   },
   {
    "duration": 37,
    "start_time": "2021-11-05T21:36:39.426Z"
   },
   {
    "duration": 15,
    "start_time": "2021-11-05T21:36:39.466Z"
   },
   {
    "duration": 19,
    "start_time": "2021-11-05T21:36:39.482Z"
   },
   {
    "duration": 6,
    "start_time": "2021-11-05T21:36:39.503Z"
   },
   {
    "duration": 18,
    "start_time": "2021-11-05T21:36:39.512Z"
   },
   {
    "duration": 46,
    "start_time": "2021-11-05T21:36:39.532Z"
   },
   {
    "duration": 3228,
    "start_time": "2021-11-05T21:36:39.579Z"
   },
   {
    "duration": 310,
    "start_time": "2021-11-05T21:36:42.809Z"
   },
   {
    "duration": 6,
    "start_time": "2021-11-05T21:36:43.121Z"
   },
   {
    "duration": 475,
    "start_time": "2021-11-05T21:36:43.128Z"
   },
   {
    "duration": 252,
    "start_time": "2021-11-05T21:36:43.605Z"
   },
   {
    "duration": 426,
    "start_time": "2021-11-05T21:36:43.858Z"
   },
   {
    "duration": 361,
    "start_time": "2021-11-05T21:36:44.286Z"
   },
   {
    "duration": 18,
    "start_time": "2021-11-05T21:36:44.649Z"
   },
   {
    "duration": 386,
    "start_time": "2021-11-05T21:36:44.669Z"
   },
   {
    "duration": 385,
    "start_time": "2021-11-05T21:36:45.057Z"
   },
   {
    "duration": 22,
    "start_time": "2021-11-05T21:36:45.444Z"
   },
   {
    "duration": 13,
    "start_time": "2021-11-05T21:36:45.468Z"
   },
   {
    "duration": 21,
    "start_time": "2021-11-05T21:36:45.483Z"
   },
   {
    "duration": 15,
    "start_time": "2021-11-05T21:36:45.506Z"
   },
   {
    "duration": 41,
    "start_time": "2021-11-05T21:36:45.523Z"
   },
   {
    "duration": 16,
    "start_time": "2021-11-05T21:36:45.566Z"
   },
   {
    "duration": 13,
    "start_time": "2021-11-05T21:36:45.584Z"
   },
   {
    "duration": 9,
    "start_time": "2021-11-05T21:36:45.599Z"
   },
   {
    "duration": 10,
    "start_time": "2021-11-05T21:40:18.172Z"
   },
   {
    "duration": 8,
    "start_time": "2021-11-05T21:40:22.346Z"
   },
   {
    "duration": 9,
    "start_time": "2021-11-05T21:40:25.251Z"
   },
   {
    "duration": 9,
    "start_time": "2021-11-05T21:40:25.546Z"
   },
   {
    "duration": 27,
    "start_time": "2021-11-05T21:40:33.612Z"
   },
   {
    "duration": 4,
    "start_time": "2021-11-05T21:40:37.082Z"
   },
   {
    "duration": 19,
    "start_time": "2021-11-05T21:40:39.955Z"
   },
   {
    "duration": 4,
    "start_time": "2021-11-05T21:40:43.546Z"
   },
   {
    "duration": 11,
    "start_time": "2021-11-05T21:40:45.617Z"
   },
   {
    "duration": 262,
    "start_time": "2021-11-05T21:41:50.690Z"
   },
   {
    "duration": 14,
    "start_time": "2021-11-05T21:42:25.450Z"
   },
   {
    "duration": 14,
    "start_time": "2021-11-05T21:42:30.058Z"
   },
   {
    "duration": 66,
    "start_time": "2021-11-05T21:42:33.444Z"
   },
   {
    "duration": 2,
    "start_time": "2021-11-05T21:42:33.512Z"
   },
   {
    "duration": 60,
    "start_time": "2021-11-05T21:42:33.516Z"
   },
   {
    "duration": 10,
    "start_time": "2021-11-05T21:42:33.578Z"
   },
   {
    "duration": 9,
    "start_time": "2021-11-05T21:42:33.590Z"
   },
   {
    "duration": 3,
    "start_time": "2021-11-05T21:42:33.601Z"
   },
   {
    "duration": 7,
    "start_time": "2021-11-05T21:42:33.605Z"
   },
   {
    "duration": 113,
    "start_time": "2021-11-05T21:42:33.615Z"
   },
   {
    "duration": 6,
    "start_time": "2021-11-05T21:42:33.730Z"
   },
   {
    "duration": 6,
    "start_time": "2021-11-05T21:42:33.738Z"
   },
   {
    "duration": 25,
    "start_time": "2021-11-05T21:42:33.746Z"
   },
   {
    "duration": 12,
    "start_time": "2021-11-05T21:42:33.773Z"
   },
   {
    "duration": 8,
    "start_time": "2021-11-05T21:42:33.786Z"
   },
   {
    "duration": 13,
    "start_time": "2021-11-05T21:42:33.795Z"
   },
   {
    "duration": 18,
    "start_time": "2021-11-05T21:42:33.810Z"
   },
   {
    "duration": 33,
    "start_time": "2021-11-05T21:42:33.830Z"
   },
   {
    "duration": 21,
    "start_time": "2021-11-05T21:42:33.865Z"
   },
   {
    "duration": 15,
    "start_time": "2021-11-05T21:42:33.888Z"
   },
   {
    "duration": 15,
    "start_time": "2021-11-05T21:42:33.905Z"
   },
   {
    "duration": 16,
    "start_time": "2021-11-05T21:42:33.922Z"
   },
   {
    "duration": 43,
    "start_time": "2021-11-05T21:42:33.940Z"
   },
   {
    "duration": 8,
    "start_time": "2021-11-05T21:42:33.986Z"
   },
   {
    "duration": 19,
    "start_time": "2021-11-05T21:42:33.998Z"
   },
   {
    "duration": 53,
    "start_time": "2021-11-05T21:42:34.020Z"
   },
   {
    "duration": 2364,
    "start_time": "2021-11-05T21:42:34.076Z"
   },
   {
    "duration": 324,
    "start_time": "2021-11-05T21:42:36.442Z"
   },
   {
    "duration": 6,
    "start_time": "2021-11-05T21:42:36.767Z"
   },
   {
    "duration": 16,
    "start_time": "2021-11-05T21:42:36.775Z"
   },
   {
    "duration": 302,
    "start_time": "2021-11-05T21:42:36.793Z"
   },
   {
    "duration": 507,
    "start_time": "2021-11-05T21:42:37.098Z"
   },
   {
    "duration": 381,
    "start_time": "2021-11-05T21:42:37.607Z"
   },
   {
    "duration": 13,
    "start_time": "2021-11-05T21:42:37.990Z"
   },
   {
    "duration": 379,
    "start_time": "2021-11-05T21:42:38.005Z"
   },
   {
    "duration": 372,
    "start_time": "2021-11-05T21:42:38.387Z"
   },
   {
    "duration": 15,
    "start_time": "2021-11-05T21:42:38.763Z"
   },
   {
    "duration": 14,
    "start_time": "2021-11-05T21:42:38.780Z"
   },
   {
    "duration": 24,
    "start_time": "2021-11-05T21:42:38.796Z"
   },
   {
    "duration": 16,
    "start_time": "2021-11-05T21:42:38.822Z"
   },
   {
    "duration": 40,
    "start_time": "2021-11-05T21:42:38.840Z"
   },
   {
    "duration": 24,
    "start_time": "2021-11-05T21:42:38.882Z"
   },
   {
    "duration": 9,
    "start_time": "2021-11-05T21:42:38.907Z"
   },
   {
    "duration": 17,
    "start_time": "2021-11-05T21:42:38.918Z"
   },
   {
    "duration": 270,
    "start_time": "2021-11-05T21:43:34.329Z"
   },
   {
    "duration": 21,
    "start_time": "2021-11-05T21:47:07.758Z"
   },
   {
    "duration": 19,
    "start_time": "2021-11-05T21:47:37.270Z"
   },
   {
    "duration": 57,
    "start_time": "2021-11-05T21:47:46.575Z"
   },
   {
    "duration": 3,
    "start_time": "2021-11-05T21:47:46.634Z"
   },
   {
    "duration": 32,
    "start_time": "2021-11-05T21:47:46.638Z"
   },
   {
    "duration": 10,
    "start_time": "2021-11-05T21:47:46.672Z"
   },
   {
    "duration": 9,
    "start_time": "2021-11-05T21:47:46.683Z"
   },
   {
    "duration": 6,
    "start_time": "2021-11-05T21:47:46.693Z"
   },
   {
    "duration": 9,
    "start_time": "2021-11-05T21:47:46.700Z"
   },
   {
    "duration": 15,
    "start_time": "2021-11-05T21:47:46.711Z"
   },
   {
    "duration": 38,
    "start_time": "2021-11-05T21:47:46.728Z"
   },
   {
    "duration": 6,
    "start_time": "2021-11-05T21:47:46.768Z"
   },
   {
    "duration": 11,
    "start_time": "2021-11-05T21:47:46.776Z"
   },
   {
    "duration": 9,
    "start_time": "2021-11-05T21:47:46.788Z"
   },
   {
    "duration": 9,
    "start_time": "2021-11-05T21:47:46.798Z"
   },
   {
    "duration": 11,
    "start_time": "2021-11-05T21:47:46.808Z"
   },
   {
    "duration": 18,
    "start_time": "2021-11-05T21:47:46.820Z"
   },
   {
    "duration": 4,
    "start_time": "2021-11-05T21:47:46.864Z"
   },
   {
    "duration": 22,
    "start_time": "2021-11-05T21:47:46.870Z"
   },
   {
    "duration": 6,
    "start_time": "2021-11-05T21:47:46.893Z"
   },
   {
    "duration": 16,
    "start_time": "2021-11-05T21:47:46.900Z"
   },
   {
    "duration": 289,
    "start_time": "2021-11-05T21:47:46.918Z"
   },
   {
    "duration": 20,
    "start_time": "2021-11-05T21:47:47.209Z"
   },
   {
    "duration": 7,
    "start_time": "2021-11-05T21:47:47.231Z"
   },
   {
    "duration": 18,
    "start_time": "2021-11-05T21:47:47.263Z"
   },
   {
    "duration": 17,
    "start_time": "2021-11-05T21:47:47.283Z"
   },
   {
    "duration": 2711,
    "start_time": "2021-11-05T21:47:47.302Z"
   },
   {
    "duration": 396,
    "start_time": "2021-11-05T21:47:50.016Z"
   },
   {
    "duration": 6,
    "start_time": "2021-11-05T21:47:50.414Z"
   },
   {
    "duration": 9,
    "start_time": "2021-11-05T21:47:50.422Z"
   },
   {
    "duration": 248,
    "start_time": "2021-11-05T21:47:50.432Z"
   },
   {
    "duration": 401,
    "start_time": "2021-11-05T21:47:50.682Z"
   },
   {
    "duration": 472,
    "start_time": "2021-11-05T21:47:51.085Z"
   },
   {
    "duration": 13,
    "start_time": "2021-11-05T21:47:51.563Z"
   },
   {
    "duration": 386,
    "start_time": "2021-11-05T21:47:51.577Z"
   },
   {
    "duration": 378,
    "start_time": "2021-11-05T21:47:51.965Z"
   },
   {
    "duration": 23,
    "start_time": "2021-11-05T21:47:52.345Z"
   },
   {
    "duration": 14,
    "start_time": "2021-11-05T21:47:52.370Z"
   },
   {
    "duration": 27,
    "start_time": "2021-11-05T21:47:52.386Z"
   },
   {
    "duration": 19,
    "start_time": "2021-11-05T21:47:52.415Z"
   },
   {
    "duration": 38,
    "start_time": "2021-11-05T21:47:52.436Z"
   },
   {
    "duration": 17,
    "start_time": "2021-11-05T21:47:52.476Z"
   },
   {
    "duration": 15,
    "start_time": "2021-11-05T21:47:52.495Z"
   },
   {
    "duration": 24,
    "start_time": "2021-11-05T21:47:52.512Z"
   },
   {
    "duration": 8,
    "start_time": "2021-11-05T21:49:10.332Z"
   },
   {
    "duration": 18,
    "start_time": "2021-11-05T21:49:10.997Z"
   },
   {
    "duration": 7,
    "start_time": "2021-11-05T21:49:27.140Z"
   },
   {
    "duration": 20,
    "start_time": "2021-11-05T21:49:27.430Z"
   },
   {
    "duration": 61,
    "start_time": "2021-11-05T21:49:31.652Z"
   },
   {
    "duration": 3,
    "start_time": "2021-11-05T21:49:31.715Z"
   },
   {
    "duration": 58,
    "start_time": "2021-11-05T21:49:31.720Z"
   },
   {
    "duration": 10,
    "start_time": "2021-11-05T21:49:31.780Z"
   },
   {
    "duration": 21,
    "start_time": "2021-11-05T21:49:31.792Z"
   },
   {
    "duration": 3,
    "start_time": "2021-11-05T21:49:31.815Z"
   },
   {
    "duration": 7,
    "start_time": "2021-11-05T21:49:31.820Z"
   },
   {
    "duration": 39,
    "start_time": "2021-11-05T21:49:31.830Z"
   },
   {
    "duration": 7,
    "start_time": "2021-11-05T21:49:31.872Z"
   },
   {
    "duration": 8,
    "start_time": "2021-11-05T21:49:31.881Z"
   },
   {
    "duration": 19,
    "start_time": "2021-11-05T21:49:31.891Z"
   },
   {
    "duration": 15,
    "start_time": "2021-11-05T21:49:31.912Z"
   },
   {
    "duration": 8,
    "start_time": "2021-11-05T21:49:31.929Z"
   },
   {
    "duration": 14,
    "start_time": "2021-11-05T21:49:31.966Z"
   },
   {
    "duration": 18,
    "start_time": "2021-11-05T21:49:31.982Z"
   },
   {
    "duration": 9,
    "start_time": "2021-11-05T21:49:32.001Z"
   },
   {
    "duration": 23,
    "start_time": "2021-11-05T21:49:32.012Z"
   },
   {
    "duration": 29,
    "start_time": "2021-11-05T21:49:32.037Z"
   },
   {
    "duration": 16,
    "start_time": "2021-11-05T21:49:32.068Z"
   },
   {
    "duration": 289,
    "start_time": "2021-11-05T21:49:32.086Z"
   },
   {
    "duration": 21,
    "start_time": "2021-11-05T21:49:32.377Z"
   },
   {
    "duration": 7,
    "start_time": "2021-11-05T21:49:32.400Z"
   },
   {
    "duration": 17,
    "start_time": "2021-11-05T21:49:32.411Z"
   },
   {
    "duration": 45,
    "start_time": "2021-11-05T21:49:32.430Z"
   },
   {
    "duration": 2897,
    "start_time": "2021-11-05T21:49:32.477Z"
   },
   {
    "duration": 319,
    "start_time": "2021-11-05T21:49:35.377Z"
   },
   {
    "duration": 8,
    "start_time": "2021-11-05T21:49:35.698Z"
   },
   {
    "duration": 7,
    "start_time": "2021-11-05T21:49:35.708Z"
   },
   {
    "duration": 267,
    "start_time": "2021-11-05T21:49:35.717Z"
   },
   {
    "duration": 458,
    "start_time": "2021-11-05T21:49:35.986Z"
   },
   {
    "duration": 389,
    "start_time": "2021-11-05T21:49:36.446Z"
   },
   {
    "duration": 14,
    "start_time": "2021-11-05T21:49:36.837Z"
   },
   {
    "duration": 396,
    "start_time": "2021-11-05T21:49:36.852Z"
   },
   {
    "duration": 390,
    "start_time": "2021-11-05T21:49:37.250Z"
   },
   {
    "duration": 22,
    "start_time": "2021-11-05T21:49:37.642Z"
   },
   {
    "duration": 14,
    "start_time": "2021-11-05T21:49:37.666Z"
   },
   {
    "duration": 21,
    "start_time": "2021-11-05T21:49:37.682Z"
   },
   {
    "duration": 20,
    "start_time": "2021-11-05T21:49:37.704Z"
   },
   {
    "duration": 50,
    "start_time": "2021-11-05T21:49:37.726Z"
   },
   {
    "duration": 17,
    "start_time": "2021-11-05T21:49:37.778Z"
   },
   {
    "duration": 11,
    "start_time": "2021-11-05T21:49:37.796Z"
   },
   {
    "duration": 10,
    "start_time": "2021-11-05T21:49:37.809Z"
   },
   {
    "duration": 19,
    "start_time": "2021-11-05T21:52:17.565Z"
   },
   {
    "duration": 65,
    "start_time": "2021-11-05T21:52:31.797Z"
   },
   {
    "duration": 3,
    "start_time": "2021-11-05T21:52:31.864Z"
   },
   {
    "duration": 30,
    "start_time": "2021-11-05T21:52:31.870Z"
   },
   {
    "duration": 11,
    "start_time": "2021-11-05T21:52:31.902Z"
   },
   {
    "duration": 9,
    "start_time": "2021-11-05T21:52:31.915Z"
   },
   {
    "duration": 38,
    "start_time": "2021-11-05T21:52:31.926Z"
   },
   {
    "duration": 9,
    "start_time": "2021-11-05T21:52:31.966Z"
   },
   {
    "duration": 18,
    "start_time": "2021-11-05T21:52:31.978Z"
   },
   {
    "duration": 11,
    "start_time": "2021-11-05T21:52:31.998Z"
   },
   {
    "duration": 11,
    "start_time": "2021-11-05T21:52:32.010Z"
   },
   {
    "duration": 19,
    "start_time": "2021-11-05T21:52:32.023Z"
   },
   {
    "duration": 21,
    "start_time": "2021-11-05T21:52:32.043Z"
   },
   {
    "duration": 7,
    "start_time": "2021-11-05T21:52:32.066Z"
   },
   {
    "duration": 11,
    "start_time": "2021-11-05T21:52:32.075Z"
   },
   {
    "duration": 20,
    "start_time": "2021-11-05T21:52:32.088Z"
   },
   {
    "duration": 12,
    "start_time": "2021-11-05T21:52:32.109Z"
   },
   {
    "duration": 25,
    "start_time": "2021-11-05T21:52:32.123Z"
   },
   {
    "duration": 6,
    "start_time": "2021-11-05T21:52:32.162Z"
   },
   {
    "duration": 18,
    "start_time": "2021-11-05T21:52:32.169Z"
   },
   {
    "duration": 285,
    "start_time": "2021-11-05T21:52:32.189Z"
   },
   {
    "duration": 19,
    "start_time": "2021-11-05T21:52:32.475Z"
   },
   {
    "duration": 7,
    "start_time": "2021-11-05T21:52:32.497Z"
   },
   {
    "duration": 21,
    "start_time": "2021-11-05T21:52:32.508Z"
   },
   {
    "duration": 43,
    "start_time": "2021-11-05T21:52:32.532Z"
   },
   {
    "duration": 2419,
    "start_time": "2021-11-05T21:52:32.577Z"
   },
   {
    "duration": 321,
    "start_time": "2021-11-05T21:52:34.998Z"
   },
   {
    "duration": 6,
    "start_time": "2021-11-05T21:52:35.320Z"
   },
   {
    "duration": 9,
    "start_time": "2021-11-05T21:52:35.328Z"
   },
   {
    "duration": 247,
    "start_time": "2021-11-05T21:52:35.338Z"
   },
   {
    "duration": 590,
    "start_time": "2021-11-05T21:52:35.587Z"
   },
   {
    "duration": 386,
    "start_time": "2021-11-05T21:52:36.179Z"
   },
   {
    "duration": 13,
    "start_time": "2021-11-05T21:52:36.567Z"
   },
   {
    "duration": 374,
    "start_time": "2021-11-05T21:52:36.582Z"
   },
   {
    "duration": 383,
    "start_time": "2021-11-05T21:52:36.958Z"
   },
   {
    "duration": 21,
    "start_time": "2021-11-05T21:52:37.343Z"
   },
   {
    "duration": 12,
    "start_time": "2021-11-05T21:52:37.365Z"
   },
   {
    "duration": 24,
    "start_time": "2021-11-05T21:52:37.379Z"
   },
   {
    "duration": 15,
    "start_time": "2021-11-05T21:52:37.404Z"
   },
   {
    "duration": 18,
    "start_time": "2021-11-05T21:52:37.420Z"
   },
   {
    "duration": 35,
    "start_time": "2021-11-05T21:52:37.439Z"
   },
   {
    "duration": 18,
    "start_time": "2021-11-05T21:52:37.476Z"
   },
   {
    "duration": 25,
    "start_time": "2021-11-05T21:52:37.496Z"
   },
   {
    "duration": 58,
    "start_time": "2021-11-05T22:06:20.450Z"
   },
   {
    "duration": 2461,
    "start_time": "2021-11-05T22:06:20.510Z"
   },
   {
    "duration": 3,
    "start_time": "2021-11-05T22:06:22.973Z"
   },
   {
    "duration": 37,
    "start_time": "2021-11-05T22:06:22.978Z"
   },
   {
    "duration": 12,
    "start_time": "2021-11-05T22:06:23.017Z"
   },
   {
    "duration": 9,
    "start_time": "2021-11-05T22:06:23.030Z"
   },
   {
    "duration": 23,
    "start_time": "2021-11-05T22:06:23.041Z"
   },
   {
    "duration": 6,
    "start_time": "2021-11-05T22:06:23.067Z"
   },
   {
    "duration": 19,
    "start_time": "2021-11-05T22:06:23.076Z"
   },
   {
    "duration": 4,
    "start_time": "2021-11-05T22:06:23.097Z"
   },
   {
    "duration": 11,
    "start_time": "2021-11-05T22:06:23.103Z"
   },
   {
    "duration": 14,
    "start_time": "2021-11-05T22:06:23.116Z"
   },
   {
    "duration": 32,
    "start_time": "2021-11-05T22:06:23.132Z"
   },
   {
    "duration": 9,
    "start_time": "2021-11-05T22:06:23.166Z"
   },
   {
    "duration": 10,
    "start_time": "2021-11-05T22:06:23.176Z"
   },
   {
    "duration": 20,
    "start_time": "2021-11-05T22:06:23.188Z"
   },
   {
    "duration": 5,
    "start_time": "2021-11-05T22:06:23.209Z"
   },
   {
    "duration": 49,
    "start_time": "2021-11-05T22:06:23.216Z"
   },
   {
    "duration": 6,
    "start_time": "2021-11-05T22:06:23.267Z"
   },
   {
    "duration": 17,
    "start_time": "2021-11-05T22:06:23.274Z"
   },
   {
    "duration": 293,
    "start_time": "2021-11-05T22:06:23.293Z"
   },
   {
    "duration": 21,
    "start_time": "2021-11-05T22:06:23.588Z"
   },
   {
    "duration": 7,
    "start_time": "2021-11-05T22:06:23.613Z"
   },
   {
    "duration": 42,
    "start_time": "2021-11-05T22:06:23.622Z"
   },
   {
    "duration": 321,
    "start_time": "2021-11-05T22:06:23.666Z"
   },
   {
    "duration": 7,
    "start_time": "2021-11-05T22:06:23.989Z"
   },
   {
    "duration": 9,
    "start_time": "2021-11-05T22:06:23.997Z"
   },
   {
    "duration": 252,
    "start_time": "2021-11-05T22:06:24.007Z"
   },
   {
    "duration": 426,
    "start_time": "2021-11-05T22:06:24.261Z"
   },
   {
    "duration": 381,
    "start_time": "2021-11-05T22:06:24.688Z"
   },
   {
    "duration": 13,
    "start_time": "2021-11-05T22:06:25.071Z"
   },
   {
    "duration": 381,
    "start_time": "2021-11-05T22:06:25.086Z"
   },
   {
    "duration": 400,
    "start_time": "2021-11-05T22:06:25.469Z"
   },
   {
    "duration": 13,
    "start_time": "2021-11-05T22:06:25.871Z"
   },
   {
    "duration": 13,
    "start_time": "2021-11-05T22:06:25.885Z"
   },
   {
    "duration": 24,
    "start_time": "2021-11-05T22:06:25.900Z"
   },
   {
    "duration": 37,
    "start_time": "2021-11-05T22:06:25.926Z"
   },
   {
    "duration": 15,
    "start_time": "2021-11-05T22:06:25.965Z"
   },
   {
    "duration": 17,
    "start_time": "2021-11-05T22:06:25.981Z"
   },
   {
    "duration": 9,
    "start_time": "2021-11-05T22:06:26.000Z"
   },
   {
    "duration": 10,
    "start_time": "2021-11-05T22:06:26.011Z"
   },
   {
    "duration": 376,
    "start_time": "2021-11-05T22:08:39.446Z"
   },
   {
    "duration": 6,
    "start_time": "2021-11-05T22:08:42.668Z"
   },
   {
    "duration": 5,
    "start_time": "2021-11-05T22:08:43.437Z"
   },
   {
    "duration": 244,
    "start_time": "2021-11-05T22:08:44.957Z"
   },
   {
    "duration": 370,
    "start_time": "2021-11-05T22:08:53.261Z"
   },
   {
    "duration": 568,
    "start_time": "2021-11-05T22:09:45.477Z"
   },
   {
    "duration": 462,
    "start_time": "2021-11-05T22:10:39.836Z"
   },
   {
    "duration": 59,
    "start_time": "2021-11-05T22:11:36.781Z"
   },
   {
    "duration": 2383,
    "start_time": "2021-11-05T22:11:36.842Z"
   },
   {
    "duration": 3,
    "start_time": "2021-11-05T22:11:39.227Z"
   },
   {
    "duration": 33,
    "start_time": "2021-11-05T22:11:39.231Z"
   },
   {
    "duration": 10,
    "start_time": "2021-11-05T22:11:39.265Z"
   },
   {
    "duration": 8,
    "start_time": "2021-11-05T22:11:39.277Z"
   },
   {
    "duration": 3,
    "start_time": "2021-11-05T22:11:39.287Z"
   },
   {
    "duration": 7,
    "start_time": "2021-11-05T22:11:39.292Z"
   },
   {
    "duration": 19,
    "start_time": "2021-11-05T22:11:39.301Z"
   },
   {
    "duration": 4,
    "start_time": "2021-11-05T22:11:39.322Z"
   },
   {
    "duration": 35,
    "start_time": "2021-11-05T22:11:39.328Z"
   },
   {
    "duration": 10,
    "start_time": "2021-11-05T22:11:39.365Z"
   },
   {
    "duration": 11,
    "start_time": "2021-11-05T22:11:39.377Z"
   },
   {
    "duration": 7,
    "start_time": "2021-11-05T22:11:39.390Z"
   },
   {
    "duration": 10,
    "start_time": "2021-11-05T22:11:39.398Z"
   },
   {
    "duration": 18,
    "start_time": "2021-11-05T22:11:39.410Z"
   },
   {
    "duration": 5,
    "start_time": "2021-11-05T22:11:39.429Z"
   },
   {
    "duration": 21,
    "start_time": "2021-11-05T22:11:39.465Z"
   },
   {
    "duration": 5,
    "start_time": "2021-11-05T22:11:39.488Z"
   },
   {
    "duration": 13,
    "start_time": "2021-11-05T22:11:39.495Z"
   },
   {
    "duration": 295,
    "start_time": "2021-11-05T22:11:39.510Z"
   },
   {
    "duration": 21,
    "start_time": "2021-11-05T22:11:39.807Z"
   },
   {
    "duration": 7,
    "start_time": "2021-11-05T22:11:39.832Z"
   },
   {
    "duration": 39,
    "start_time": "2021-11-05T22:11:39.842Z"
   },
   {
    "duration": 472,
    "start_time": "2021-11-05T22:11:39.883Z"
   },
   {
    "duration": 12,
    "start_time": "2021-11-05T22:11:40.357Z"
   },
   {
    "duration": 6,
    "start_time": "2021-11-05T22:11:40.371Z"
   },
   {
    "duration": 248,
    "start_time": "2021-11-05T22:11:40.379Z"
   },
   {
    "duration": 459,
    "start_time": "2021-11-05T22:11:40.630Z"
   },
   {
    "duration": 357,
    "start_time": "2021-11-05T22:11:41.091Z"
   },
   {
    "duration": 16,
    "start_time": "2021-11-05T22:11:41.450Z"
   },
   {
    "duration": 395,
    "start_time": "2021-11-05T22:11:41.468Z"
   },
   {
    "duration": 395,
    "start_time": "2021-11-05T22:11:41.864Z"
   },
   {
    "duration": 14,
    "start_time": "2021-11-05T22:11:42.260Z"
   },
   {
    "duration": 14,
    "start_time": "2021-11-05T22:11:42.276Z"
   },
   {
    "duration": 20,
    "start_time": "2021-11-05T22:11:42.292Z"
   },
   {
    "duration": 17,
    "start_time": "2021-11-05T22:11:42.313Z"
   },
   {
    "duration": 47,
    "start_time": "2021-11-05T22:11:42.331Z"
   },
   {
    "duration": 15,
    "start_time": "2021-11-05T22:11:42.380Z"
   },
   {
    "duration": 9,
    "start_time": "2021-11-05T22:11:42.396Z"
   },
   {
    "duration": 16,
    "start_time": "2021-11-05T22:11:42.407Z"
   },
   {
    "duration": 371,
    "start_time": "2021-11-05T22:13:37.994Z"
   },
   {
    "duration": 414,
    "start_time": "2021-11-05T22:14:21.753Z"
   },
   {
    "duration": 61,
    "start_time": "2021-11-05T22:14:30.354Z"
   },
   {
    "duration": 2446,
    "start_time": "2021-11-05T22:14:30.416Z"
   },
   {
    "duration": 2,
    "start_time": "2021-11-05T22:14:32.865Z"
   },
   {
    "duration": 36,
    "start_time": "2021-11-05T22:14:32.869Z"
   },
   {
    "duration": 11,
    "start_time": "2021-11-05T22:14:32.907Z"
   },
   {
    "duration": 13,
    "start_time": "2021-11-05T22:14:32.920Z"
   },
   {
    "duration": 3,
    "start_time": "2021-11-05T22:14:32.935Z"
   },
   {
    "duration": 6,
    "start_time": "2021-11-05T22:14:32.965Z"
   },
   {
    "duration": 19,
    "start_time": "2021-11-05T22:14:32.973Z"
   },
   {
    "duration": 6,
    "start_time": "2021-11-05T22:14:32.994Z"
   },
   {
    "duration": 8,
    "start_time": "2021-11-05T22:14:33.002Z"
   },
   {
    "duration": 18,
    "start_time": "2021-11-05T22:14:33.012Z"
   },
   {
    "duration": 36,
    "start_time": "2021-11-05T22:14:33.032Z"
   },
   {
    "duration": 7,
    "start_time": "2021-11-05T22:14:33.070Z"
   },
   {
    "duration": 14,
    "start_time": "2021-11-05T22:14:33.078Z"
   },
   {
    "duration": 20,
    "start_time": "2021-11-05T22:14:33.094Z"
   },
   {
    "duration": 10,
    "start_time": "2021-11-05T22:14:33.116Z"
   },
   {
    "duration": 39,
    "start_time": "2021-11-05T22:14:33.127Z"
   },
   {
    "duration": 6,
    "start_time": "2021-11-05T22:14:33.168Z"
   },
   {
    "duration": 14,
    "start_time": "2021-11-05T22:14:33.175Z"
   },
   {
    "duration": 306,
    "start_time": "2021-11-05T22:14:33.191Z"
   },
   {
    "duration": 19,
    "start_time": "2021-11-05T22:14:33.499Z"
   },
   {
    "duration": 7,
    "start_time": "2021-11-05T22:14:33.521Z"
   },
   {
    "duration": 40,
    "start_time": "2021-11-05T22:14:33.530Z"
   },
   {
    "duration": 325,
    "start_time": "2021-11-05T22:14:33.572Z"
   },
   {
    "duration": 6,
    "start_time": "2021-11-05T22:14:33.899Z"
   },
   {
    "duration": 7,
    "start_time": "2021-11-05T22:14:33.907Z"
   },
   {
    "duration": 268,
    "start_time": "2021-11-05T22:14:33.915Z"
   },
   {
    "duration": 412,
    "start_time": "2021-11-05T22:14:34.185Z"
   },
   {
    "duration": 365,
    "start_time": "2021-11-05T22:14:34.598Z"
   },
   {
    "duration": 13,
    "start_time": "2021-11-05T22:14:34.965Z"
   },
   {
    "duration": 384,
    "start_time": "2021-11-05T22:14:34.979Z"
   },
   {
    "duration": 375,
    "start_time": "2021-11-05T22:14:35.365Z"
   },
   {
    "duration": 23,
    "start_time": "2021-11-05T22:14:35.742Z"
   },
   {
    "duration": 13,
    "start_time": "2021-11-05T22:14:35.767Z"
   },
   {
    "duration": 25,
    "start_time": "2021-11-05T22:14:35.782Z"
   },
   {
    "duration": 15,
    "start_time": "2021-11-05T22:14:35.809Z"
   },
   {
    "duration": 38,
    "start_time": "2021-11-05T22:14:35.826Z"
   },
   {
    "duration": 18,
    "start_time": "2021-11-05T22:14:35.865Z"
   },
   {
    "duration": 17,
    "start_time": "2021-11-05T22:14:35.884Z"
   },
   {
    "duration": 10,
    "start_time": "2021-11-05T22:14:35.903Z"
   },
   {
    "duration": 396,
    "start_time": "2021-11-05T22:15:33.641Z"
   },
   {
    "duration": 57,
    "start_time": "2021-11-05T22:15:46.091Z"
   },
   {
    "duration": 2364,
    "start_time": "2021-11-05T22:15:46.151Z"
   },
   {
    "duration": 3,
    "start_time": "2021-11-05T22:15:48.517Z"
   },
   {
    "duration": 33,
    "start_time": "2021-11-05T22:15:48.522Z"
   },
   {
    "duration": 11,
    "start_time": "2021-11-05T22:15:48.557Z"
   },
   {
    "duration": 13,
    "start_time": "2021-11-05T22:15:48.570Z"
   },
   {
    "duration": 3,
    "start_time": "2021-11-05T22:15:48.585Z"
   },
   {
    "duration": 6,
    "start_time": "2021-11-05T22:15:48.591Z"
   },
   {
    "duration": 19,
    "start_time": "2021-11-05T22:15:48.599Z"
   },
   {
    "duration": 6,
    "start_time": "2021-11-05T22:15:48.620Z"
   },
   {
    "duration": 7,
    "start_time": "2021-11-05T22:15:48.627Z"
   },
   {
    "duration": 36,
    "start_time": "2021-11-05T22:15:48.635Z"
   },
   {
    "duration": 10,
    "start_time": "2021-11-05T22:15:48.674Z"
   },
   {
    "duration": 10,
    "start_time": "2021-11-05T22:15:48.686Z"
   },
   {
    "duration": 11,
    "start_time": "2021-11-05T22:15:48.698Z"
   },
   {
    "duration": 55,
    "start_time": "2021-11-05T22:15:48.711Z"
   },
   {
    "duration": 6,
    "start_time": "2021-11-05T22:15:48.768Z"
   },
   {
    "duration": 20,
    "start_time": "2021-11-05T22:15:48.776Z"
   },
   {
    "duration": 6,
    "start_time": "2021-11-05T22:15:48.799Z"
   },
   {
    "duration": 16,
    "start_time": "2021-11-05T22:15:48.806Z"
   },
   {
    "duration": 59,
    "start_time": "2021-11-05T22:17:35.759Z"
   },
   {
    "duration": 2288,
    "start_time": "2021-11-05T22:17:36.435Z"
   },
   {
    "duration": 2,
    "start_time": "2021-11-05T22:17:38.725Z"
   },
   {
    "duration": 30,
    "start_time": "2021-11-05T22:17:39.579Z"
   },
   {
    "duration": 10,
    "start_time": "2021-11-05T22:17:41.179Z"
   },
   {
    "duration": 28,
    "start_time": "2021-11-05T22:18:52.049Z"
   },
   {
    "duration": 10,
    "start_time": "2021-11-05T22:18:57.698Z"
   },
   {
    "duration": 11,
    "start_time": "2021-11-05T22:18:59.130Z"
   },
   {
    "duration": 4,
    "start_time": "2021-11-05T22:19:01.553Z"
   },
   {
    "duration": 6,
    "start_time": "2021-11-05T22:19:03.105Z"
   },
   {
    "duration": 18,
    "start_time": "2021-11-05T22:19:03.682Z"
   },
   {
    "duration": 6,
    "start_time": "2021-11-05T22:19:04.009Z"
   },
   {
    "duration": 7,
    "start_time": "2021-11-05T22:19:04.433Z"
   },
   {
    "duration": 12,
    "start_time": "2021-11-05T22:19:04.659Z"
   },
   {
    "duration": 10,
    "start_time": "2021-11-05T22:19:05.564Z"
   },
   {
    "duration": 10,
    "start_time": "2021-11-05T22:19:05.833Z"
   },
   {
    "duration": 10,
    "start_time": "2021-11-05T22:19:06.265Z"
   },
   {
    "duration": 18,
    "start_time": "2021-11-05T22:19:06.850Z"
   },
   {
    "duration": 6,
    "start_time": "2021-11-05T22:19:07.753Z"
   },
   {
    "duration": 21,
    "start_time": "2021-11-05T22:19:08.513Z"
   },
   {
    "duration": 6,
    "start_time": "2021-11-05T22:19:08.961Z"
   },
   {
    "duration": 13,
    "start_time": "2021-11-05T22:19:09.553Z"
   },
   {
    "duration": 266,
    "start_time": "2021-11-05T22:19:11.361Z"
   },
   {
    "duration": 21,
    "start_time": "2021-11-05T22:19:13.033Z"
   },
   {
    "duration": 8,
    "start_time": "2021-11-05T22:19:16.377Z"
   },
   {
    "duration": 20,
    "start_time": "2021-11-05T22:19:16.761Z"
   },
   {
    "duration": 304,
    "start_time": "2021-11-05T22:19:21.809Z"
   },
   {
    "duration": 7,
    "start_time": "2021-11-05T22:19:23.233Z"
   },
   {
    "duration": 5,
    "start_time": "2021-11-05T22:19:27.353Z"
   },
   {
    "duration": 234,
    "start_time": "2021-11-05T22:19:35.874Z"
   },
   {
    "duration": 464,
    "start_time": "2021-11-05T22:19:47.121Z"
   },
   {
    "duration": 373,
    "start_time": "2021-11-05T22:20:01.377Z"
   },
   {
    "duration": 366,
    "start_time": "2021-11-05T22:20:09.201Z"
   },
   {
    "duration": 396,
    "start_time": "2021-11-05T22:20:10.569Z"
   },
   {
    "duration": 356,
    "start_time": "2021-11-05T22:20:27.217Z"
   },
   {
    "duration": 389,
    "start_time": "2021-11-05T22:20:41.137Z"
   },
   {
    "duration": 394,
    "start_time": "2021-11-05T22:22:32.240Z"
   },
   {
    "duration": 339,
    "start_time": "2021-11-05T22:22:47.096Z"
   },
   {
    "duration": 15,
    "start_time": "2021-11-05T22:26:52.396Z"
   },
   {
    "duration": 79,
    "start_time": "2021-11-05T22:27:34.109Z"
   },
   {
    "duration": 15,
    "start_time": "2021-11-05T22:27:53.603Z"
   },
   {
    "duration": 16,
    "start_time": "2021-11-05T22:28:21.323Z"
   },
   {
    "duration": 55,
    "start_time": "2021-11-05T22:28:24.116Z"
   },
   {
    "duration": 2394,
    "start_time": "2021-11-05T22:28:24.173Z"
   },
   {
    "duration": 3,
    "start_time": "2021-11-05T22:28:26.570Z"
   },
   {
    "duration": 31,
    "start_time": "2021-11-05T22:28:26.576Z"
   },
   {
    "duration": 11,
    "start_time": "2021-11-05T22:28:26.610Z"
   },
   {
    "duration": 13,
    "start_time": "2021-11-05T22:28:26.623Z"
   },
   {
    "duration": 25,
    "start_time": "2021-11-05T22:28:26.638Z"
   },
   {
    "duration": 6,
    "start_time": "2021-11-05T22:28:26.666Z"
   },
   {
    "duration": 24,
    "start_time": "2021-11-05T22:28:26.674Z"
   },
   {
    "duration": 10,
    "start_time": "2021-11-05T22:28:26.699Z"
   },
   {
    "duration": 13,
    "start_time": "2021-11-05T22:28:26.711Z"
   },
   {
    "duration": 13,
    "start_time": "2021-11-05T22:28:26.726Z"
   },
   {
    "duration": 33,
    "start_time": "2021-11-05T22:28:26.741Z"
   },
   {
    "duration": 9,
    "start_time": "2021-11-05T22:28:26.775Z"
   },
   {
    "duration": 10,
    "start_time": "2021-11-05T22:28:26.786Z"
   },
   {
    "duration": 22,
    "start_time": "2021-11-05T22:28:26.797Z"
   },
   {
    "duration": 4,
    "start_time": "2021-11-05T22:28:26.821Z"
   },
   {
    "duration": 53,
    "start_time": "2021-11-05T22:28:26.827Z"
   },
   {
    "duration": 6,
    "start_time": "2021-11-05T22:28:26.881Z"
   },
   {
    "duration": 15,
    "start_time": "2021-11-05T22:28:26.889Z"
   },
   {
    "duration": 291,
    "start_time": "2021-11-05T22:28:26.905Z"
   },
   {
    "duration": 20,
    "start_time": "2021-11-05T22:28:27.197Z"
   },
   {
    "duration": 6,
    "start_time": "2021-11-05T22:28:27.220Z"
   },
   {
    "duration": 44,
    "start_time": "2021-11-05T22:28:27.228Z"
   },
   {
    "duration": 315,
    "start_time": "2021-11-05T22:28:27.274Z"
   },
   {
    "duration": 6,
    "start_time": "2021-11-05T22:28:27.590Z"
   },
   {
    "duration": 244,
    "start_time": "2021-11-05T22:28:27.598Z"
   },
   {
    "duration": 445,
    "start_time": "2021-11-05T22:28:27.844Z"
   },
   {
    "duration": 364,
    "start_time": "2021-11-05T22:28:28.291Z"
   },
   {
    "duration": 20,
    "start_time": "2021-11-05T22:28:28.657Z"
   },
   {
    "duration": 374,
    "start_time": "2021-11-05T22:28:28.679Z"
   },
   {
    "duration": 385,
    "start_time": "2021-11-05T22:28:29.055Z"
   },
   {
    "duration": 15,
    "start_time": "2021-11-05T22:28:29.442Z"
   },
   {
    "duration": 14,
    "start_time": "2021-11-05T22:28:29.464Z"
   },
   {
    "duration": 21,
    "start_time": "2021-11-05T22:28:29.480Z"
   },
   {
    "duration": 15,
    "start_time": "2021-11-05T22:28:29.502Z"
   },
   {
    "duration": 46,
    "start_time": "2021-11-05T22:28:29.518Z"
   },
   {
    "duration": 16,
    "start_time": "2021-11-05T22:28:29.566Z"
   },
   {
    "duration": 14,
    "start_time": "2021-11-05T22:28:29.583Z"
   },
   {
    "duration": 12,
    "start_time": "2021-11-05T22:28:29.598Z"
   },
   {
    "duration": 16,
    "start_time": "2021-11-05T22:30:20.850Z"
   },
   {
    "duration": 15,
    "start_time": "2021-11-05T22:30:36.161Z"
   },
   {
    "duration": 15,
    "start_time": "2021-11-05T22:31:22.001Z"
   },
   {
    "duration": 12,
    "start_time": "2021-11-05T22:32:14.745Z"
   },
   {
    "duration": 12,
    "start_time": "2021-11-05T22:32:51.575Z"
   },
   {
    "duration": 11,
    "start_time": "2021-11-05T22:33:05.489Z"
   },
   {
    "duration": 11,
    "start_time": "2021-11-05T22:53:52.049Z"
   },
   {
    "duration": 16,
    "start_time": "2021-11-05T22:54:48.559Z"
   },
   {
    "duration": 16,
    "start_time": "2021-11-05T23:10:39.389Z"
   },
   {
    "duration": 390,
    "start_time": "2021-11-05T23:18:50.551Z"
   },
   {
    "duration": 367,
    "start_time": "2021-11-05T23:18:57.203Z"
   },
   {
    "duration": 15,
    "start_time": "2021-11-05T23:19:05.692Z"
   },
   {
    "duration": 379,
    "start_time": "2021-11-05T23:22:23.451Z"
   },
   {
    "duration": 555,
    "start_time": "2021-11-05T23:22:25.273Z"
   },
   {
    "duration": 16,
    "start_time": "2021-11-05T23:22:29.113Z"
   },
   {
    "duration": 367,
    "start_time": "2021-11-05T23:33:33.627Z"
   },
   {
    "duration": 369,
    "start_time": "2021-11-05T23:33:37.872Z"
   },
   {
    "duration": 15,
    "start_time": "2021-11-05T23:33:55.377Z"
   },
   {
    "duration": 370,
    "start_time": "2021-11-05T23:38:17.362Z"
   },
   {
    "duration": 338,
    "start_time": "2021-11-05T23:38:21.301Z"
   },
   {
    "duration": 17,
    "start_time": "2021-11-05T23:38:24.741Z"
   },
   {
    "duration": 355,
    "start_time": "2021-11-05T23:45:37.081Z"
   },
   {
    "duration": 383,
    "start_time": "2021-11-05T23:45:38.152Z"
   },
   {
    "duration": 17,
    "start_time": "2021-11-05T23:45:38.999Z"
   },
   {
    "duration": 273,
    "start_time": "2021-11-05T23:49:18.959Z"
   },
   {
    "duration": 443,
    "start_time": "2021-11-05T23:49:58.453Z"
   },
   {
    "duration": 31,
    "start_time": "2021-11-05T23:50:44.188Z"
   },
   {
    "duration": 13,
    "start_time": "2021-11-06T00:03:39.988Z"
   },
   {
    "duration": 12,
    "start_time": "2021-11-06T00:03:49.642Z"
   },
   {
    "duration": 57,
    "start_time": "2021-11-06T00:05:03.404Z"
   },
   {
    "duration": 2406,
    "start_time": "2021-11-06T00:05:03.463Z"
   },
   {
    "duration": 3,
    "start_time": "2021-11-06T00:05:05.871Z"
   },
   {
    "duration": 37,
    "start_time": "2021-11-06T00:05:05.875Z"
   },
   {
    "duration": 10,
    "start_time": "2021-11-06T00:05:05.913Z"
   },
   {
    "duration": 8,
    "start_time": "2021-11-06T00:05:05.925Z"
   },
   {
    "duration": 3,
    "start_time": "2021-11-06T00:05:05.934Z"
   },
   {
    "duration": 27,
    "start_time": "2021-11-06T00:05:05.940Z"
   },
   {
    "duration": 24,
    "start_time": "2021-11-06T00:05:05.969Z"
   },
   {
    "duration": 6,
    "start_time": "2021-11-06T00:05:05.995Z"
   },
   {
    "duration": 11,
    "start_time": "2021-11-06T00:05:06.003Z"
   },
   {
    "duration": 13,
    "start_time": "2021-11-06T00:05:06.016Z"
   },
   {
    "duration": 33,
    "start_time": "2021-11-06T00:05:06.031Z"
   },
   {
    "duration": 10,
    "start_time": "2021-11-06T00:05:06.067Z"
   },
   {
    "duration": 11,
    "start_time": "2021-11-06T00:05:06.079Z"
   },
   {
    "duration": 18,
    "start_time": "2021-11-06T00:05:06.092Z"
   },
   {
    "duration": 6,
    "start_time": "2021-11-06T00:05:06.112Z"
   },
   {
    "duration": 54,
    "start_time": "2021-11-06T00:05:06.120Z"
   },
   {
    "duration": 7,
    "start_time": "2021-11-06T00:05:06.176Z"
   },
   {
    "duration": 17,
    "start_time": "2021-11-06T00:05:06.185Z"
   },
   {
    "duration": 293,
    "start_time": "2021-11-06T00:05:06.204Z"
   },
   {
    "duration": 19,
    "start_time": "2021-11-06T00:05:06.498Z"
   },
   {
    "duration": 7,
    "start_time": "2021-11-06T00:05:06.520Z"
   },
   {
    "duration": 42,
    "start_time": "2021-11-06T00:05:06.529Z"
   },
   {
    "duration": 311,
    "start_time": "2021-11-06T00:05:06.572Z"
   },
   {
    "duration": 6,
    "start_time": "2021-11-06T00:05:06.885Z"
   },
   {
    "duration": 246,
    "start_time": "2021-11-06T00:05:06.893Z"
   },
   {
    "duration": 444,
    "start_time": "2021-11-06T00:05:07.140Z"
   },
   {
    "duration": 359,
    "start_time": "2021-11-06T00:05:07.585Z"
   },
   {
    "duration": 20,
    "start_time": "2021-11-06T00:05:07.946Z"
   },
   {
    "duration": 375,
    "start_time": "2021-11-06T00:05:07.967Z"
   },
   {
    "duration": 421,
    "start_time": "2021-11-06T00:05:08.344Z"
   },
   {
    "duration": 15,
    "start_time": "2021-11-06T00:05:08.766Z"
   },
   {
    "duration": 371,
    "start_time": "2021-11-06T00:05:08.783Z"
   },
   {
    "duration": 389,
    "start_time": "2021-11-06T00:05:09.156Z"
   },
   {
    "duration": 20,
    "start_time": "2021-11-06T00:05:09.547Z"
   },
   {
    "duration": 392,
    "start_time": "2021-11-06T00:05:09.569Z"
   },
   {
    "duration": 388,
    "start_time": "2021-11-06T00:05:09.963Z"
   },
   {
    "duration": 20,
    "start_time": "2021-11-06T00:05:10.352Z"
   },
   {
    "duration": 376,
    "start_time": "2021-11-06T00:05:10.374Z"
   },
   {
    "duration": 386,
    "start_time": "2021-11-06T00:05:10.752Z"
   },
   {
    "duration": 24,
    "start_time": "2021-11-06T00:05:11.139Z"
   },
   {
    "duration": 382,
    "start_time": "2021-11-06T00:05:11.165Z"
   },
   {
    "duration": 410,
    "start_time": "2021-11-06T00:05:11.549Z"
   },
   {
    "duration": 15,
    "start_time": "2021-11-06T00:05:11.961Z"
   },
   {
    "duration": 32,
    "start_time": "2021-11-06T00:05:11.978Z"
   },
   {
    "duration": 19,
    "start_time": "2021-11-06T00:05:12.012Z"
   },
   {
    "duration": 36,
    "start_time": "2021-11-06T00:05:12.033Z"
   },
   {
    "duration": 17,
    "start_time": "2021-11-06T00:05:12.071Z"
   },
   {
    "duration": 16,
    "start_time": "2021-11-06T00:05:12.090Z"
   },
   {
    "duration": 12,
    "start_time": "2021-11-06T00:05:12.108Z"
   },
   {
    "duration": 49,
    "start_time": "2021-11-06T00:05:12.121Z"
   },
   {
    "duration": 273,
    "start_time": "2021-11-06T00:18:17.220Z"
   },
   {
    "duration": 267,
    "start_time": "2021-11-06T00:18:34.744Z"
   },
   {
    "duration": 289,
    "start_time": "2021-11-06T00:20:11.238Z"
   },
   {
    "duration": 269,
    "start_time": "2021-11-06T00:20:20.039Z"
   },
   {
    "duration": 266,
    "start_time": "2021-11-06T00:22:43.692Z"
   },
   {
    "duration": 329,
    "start_time": "2021-11-06T00:28:49.762Z"
   },
   {
    "duration": 242,
    "start_time": "2021-11-06T00:30:53.942Z"
   },
   {
    "duration": 236,
    "start_time": "2021-11-06T00:31:34.742Z"
   },
   {
    "duration": 374,
    "start_time": "2021-11-06T00:33:18.468Z"
   },
   {
    "duration": 369,
    "start_time": "2021-11-06T00:35:28.628Z"
   },
   {
    "duration": 374,
    "start_time": "2021-11-06T00:35:29.874Z"
   },
   {
    "duration": 16,
    "start_time": "2021-11-06T00:35:35.002Z"
   },
   {
    "duration": 642,
    "start_time": "2021-11-06T00:35:36.498Z"
   },
   {
    "duration": 57,
    "start_time": "2021-11-06T00:36:25.372Z"
   },
   {
    "duration": 2387,
    "start_time": "2021-11-06T00:36:25.430Z"
   },
   {
    "duration": 3,
    "start_time": "2021-11-06T00:36:27.819Z"
   },
   {
    "duration": 33,
    "start_time": "2021-11-06T00:36:27.824Z"
   },
   {
    "duration": 10,
    "start_time": "2021-11-06T00:36:27.858Z"
   },
   {
    "duration": 11,
    "start_time": "2021-11-06T00:36:27.870Z"
   },
   {
    "duration": 3,
    "start_time": "2021-11-06T00:36:27.883Z"
   },
   {
    "duration": 8,
    "start_time": "2021-11-06T00:36:27.889Z"
   },
   {
    "duration": 18,
    "start_time": "2021-11-06T00:36:27.899Z"
   },
   {
    "duration": 6,
    "start_time": "2021-11-06T00:36:27.919Z"
   },
   {
    "duration": 7,
    "start_time": "2021-11-06T00:36:27.927Z"
   },
   {
    "duration": 31,
    "start_time": "2021-11-06T00:36:27.936Z"
   },
   {
    "duration": 11,
    "start_time": "2021-11-06T00:36:27.969Z"
   },
   {
    "duration": 9,
    "start_time": "2021-11-06T00:36:27.982Z"
   },
   {
    "duration": 11,
    "start_time": "2021-11-06T00:36:27.992Z"
   },
   {
    "duration": 21,
    "start_time": "2021-11-06T00:36:28.004Z"
   },
   {
    "duration": 5,
    "start_time": "2021-11-06T00:36:28.026Z"
   },
   {
    "duration": 50,
    "start_time": "2021-11-06T00:36:28.032Z"
   },
   {
    "duration": 7,
    "start_time": "2021-11-06T00:36:28.083Z"
   },
   {
    "duration": 24,
    "start_time": "2021-11-06T00:36:28.092Z"
   },
   {
    "duration": 304,
    "start_time": "2021-11-06T00:36:28.118Z"
   },
   {
    "duration": 20,
    "start_time": "2021-11-06T00:36:28.423Z"
   },
   {
    "duration": 8,
    "start_time": "2021-11-06T00:36:28.463Z"
   },
   {
    "duration": 19,
    "start_time": "2021-11-06T00:36:28.474Z"
   },
   {
    "duration": 319,
    "start_time": "2021-11-06T00:36:28.495Z"
   },
   {
    "duration": 6,
    "start_time": "2021-11-06T00:36:28.815Z"
   },
   {
    "duration": 258,
    "start_time": "2021-11-06T00:36:28.823Z"
   },
   {
    "duration": 411,
    "start_time": "2021-11-06T00:36:29.083Z"
   },
   {
    "duration": 379,
    "start_time": "2021-11-06T00:36:29.496Z"
   },
   {
    "duration": 15,
    "start_time": "2021-11-06T00:36:29.877Z"
   },
   {
    "duration": 381,
    "start_time": "2021-11-06T00:36:29.894Z"
   },
   {
    "duration": 417,
    "start_time": "2021-11-06T00:36:30.277Z"
   },
   {
    "duration": 16,
    "start_time": "2021-11-06T00:36:30.696Z"
   },
   {
    "duration": 399,
    "start_time": "2021-11-06T00:36:30.714Z"
   },
   {
    "duration": 369,
    "start_time": "2021-11-06T00:36:31.115Z"
   },
   {
    "duration": 16,
    "start_time": "2021-11-06T00:36:31.485Z"
   },
   {
    "duration": 383,
    "start_time": "2021-11-06T00:36:31.503Z"
   },
   {
    "duration": 373,
    "start_time": "2021-11-06T00:36:31.888Z"
   },
   {
    "duration": 16,
    "start_time": "2021-11-06T00:36:32.263Z"
   },
   {
    "duration": 385,
    "start_time": "2021-11-06T00:36:32.281Z"
   },
   {
    "duration": 410,
    "start_time": "2021-11-06T00:36:32.668Z"
   },
   {
    "duration": 18,
    "start_time": "2021-11-06T00:36:33.080Z"
   },
   {
    "duration": 417,
    "start_time": "2021-11-06T00:36:33.099Z"
   },
   {
    "duration": 402,
    "start_time": "2021-11-06T00:36:33.518Z"
   },
   {
    "duration": 15,
    "start_time": "2021-11-06T00:36:33.922Z"
   },
   {
    "duration": 43,
    "start_time": "2021-11-06T00:36:33.939Z"
   },
   {
    "duration": 20,
    "start_time": "2021-11-06T00:36:33.984Z"
   },
   {
    "duration": 15,
    "start_time": "2021-11-06T00:36:34.006Z"
   },
   {
    "duration": 41,
    "start_time": "2021-11-06T00:36:34.022Z"
   },
   {
    "duration": 17,
    "start_time": "2021-11-06T00:36:34.065Z"
   },
   {
    "duration": 12,
    "start_time": "2021-11-06T00:36:34.084Z"
   },
   {
    "duration": 12,
    "start_time": "2021-11-06T00:36:34.097Z"
   },
   {
    "duration": 90,
    "start_time": "2021-11-06T00:42:44.160Z"
   },
   {
    "duration": 624,
    "start_time": "2021-11-06T08:52:03.988Z"
   },
   {
    "duration": 3686,
    "start_time": "2021-11-06T08:52:04.613Z"
   },
   {
    "duration": 2,
    "start_time": "2021-11-06T08:52:08.301Z"
   },
   {
    "duration": 31,
    "start_time": "2021-11-06T08:52:08.305Z"
   },
   {
    "duration": 8,
    "start_time": "2021-11-06T08:52:08.338Z"
   },
   {
    "duration": 10,
    "start_time": "2021-11-06T08:52:08.347Z"
   },
   {
    "duration": 3,
    "start_time": "2021-11-06T08:52:08.359Z"
   },
   {
    "duration": 31,
    "start_time": "2021-11-06T08:52:08.364Z"
   },
   {
    "duration": 34,
    "start_time": "2021-11-06T08:52:08.397Z"
   },
   {
    "duration": 4,
    "start_time": "2021-11-06T08:52:08.432Z"
   },
   {
    "duration": 6,
    "start_time": "2021-11-06T08:52:08.438Z"
   },
   {
    "duration": 15,
    "start_time": "2021-11-06T08:52:08.446Z"
   },
   {
    "duration": 30,
    "start_time": "2021-11-06T08:52:08.462Z"
   },
   {
    "duration": 9,
    "start_time": "2021-11-06T08:52:08.494Z"
   },
   {
    "duration": 9,
    "start_time": "2021-11-06T08:52:08.505Z"
   },
   {
    "duration": 18,
    "start_time": "2021-11-06T08:52:08.516Z"
   },
   {
    "duration": 6,
    "start_time": "2021-11-06T08:52:08.535Z"
   },
   {
    "duration": 54,
    "start_time": "2021-11-06T08:52:08.543Z"
   },
   {
    "duration": 5,
    "start_time": "2021-11-06T08:52:08.599Z"
   },
   {
    "duration": 28,
    "start_time": "2021-11-06T08:52:08.606Z"
   },
   {
    "duration": 294,
    "start_time": "2021-11-06T08:52:08.636Z"
   },
   {
    "duration": 20,
    "start_time": "2021-11-06T08:52:08.932Z"
   },
   {
    "duration": 5,
    "start_time": "2021-11-06T08:52:08.956Z"
   },
   {
    "duration": 35,
    "start_time": "2021-11-06T08:52:08.964Z"
   },
   {
    "duration": 325,
    "start_time": "2021-11-06T08:52:09.002Z"
   },
   {
    "duration": 7,
    "start_time": "2021-11-06T08:52:09.329Z"
   },
   {
    "duration": 259,
    "start_time": "2021-11-06T08:52:09.337Z"
   },
   {
    "duration": 430,
    "start_time": "2021-11-06T08:52:09.597Z"
   },
   {
    "duration": 371,
    "start_time": "2021-11-06T08:52:10.028Z"
   },
   {
    "duration": 15,
    "start_time": "2021-11-06T08:52:10.401Z"
   },
   {
    "duration": 375,
    "start_time": "2021-11-06T08:52:10.418Z"
   },
   {
    "duration": 399,
    "start_time": "2021-11-06T08:52:10.795Z"
   },
   {
    "duration": 15,
    "start_time": "2021-11-06T08:52:11.195Z"
   },
   {
    "duration": 452,
    "start_time": "2021-11-06T08:52:11.212Z"
   },
   {
    "duration": 389,
    "start_time": "2021-11-06T08:52:11.666Z"
   },
   {
    "duration": 15,
    "start_time": "2021-11-06T08:52:12.057Z"
   },
   {
    "duration": 405,
    "start_time": "2021-11-06T08:52:12.073Z"
   },
   {
    "duration": 417,
    "start_time": "2021-11-06T08:52:12.480Z"
   },
   {
    "duration": 15,
    "start_time": "2021-11-06T08:52:12.899Z"
   },
   {
    "duration": 373,
    "start_time": "2021-11-06T08:52:12.915Z"
   },
   {
    "duration": 397,
    "start_time": "2021-11-06T08:52:13.289Z"
   },
   {
    "duration": 14,
    "start_time": "2021-11-06T08:52:13.691Z"
   },
   {
    "duration": 385,
    "start_time": "2021-11-06T08:52:13.706Z"
   },
   {
    "duration": 414,
    "start_time": "2021-11-06T08:52:14.093Z"
   },
   {
    "duration": 15,
    "start_time": "2021-11-06T08:52:14.509Z"
   },
   {
    "duration": 30,
    "start_time": "2021-11-06T08:52:14.525Z"
   },
   {
    "duration": 38,
    "start_time": "2021-11-06T08:52:14.556Z"
   },
   {
    "duration": 15,
    "start_time": "2021-11-06T08:52:14.596Z"
   },
   {
    "duration": 16,
    "start_time": "2021-11-06T08:52:14.612Z"
   },
   {
    "duration": 20,
    "start_time": "2021-11-06T08:52:14.630Z"
   },
   {
    "duration": 10,
    "start_time": "2021-11-06T08:52:14.652Z"
   },
   {
    "duration": 32,
    "start_time": "2021-11-06T08:52:14.664Z"
   },
   {
    "duration": 578,
    "start_time": "2021-11-06T09:07:03.721Z"
   },
   {
    "duration": 2776,
    "start_time": "2021-11-06T09:07:04.301Z"
   },
   {
    "duration": 3,
    "start_time": "2021-11-06T09:07:07.079Z"
   },
   {
    "duration": 35,
    "start_time": "2021-11-06T09:07:07.084Z"
   },
   {
    "duration": 11,
    "start_time": "2021-11-06T09:07:07.121Z"
   },
   {
    "duration": 8,
    "start_time": "2021-11-06T09:07:07.134Z"
   },
   {
    "duration": 3,
    "start_time": "2021-11-06T09:07:07.144Z"
   },
   {
    "duration": 6,
    "start_time": "2021-11-06T09:07:07.149Z"
   },
   {
    "duration": 49,
    "start_time": "2021-11-06T09:07:07.158Z"
   },
   {
    "duration": 6,
    "start_time": "2021-11-06T09:07:07.209Z"
   },
   {
    "duration": 6,
    "start_time": "2021-11-06T09:07:07.217Z"
   },
   {
    "duration": 12,
    "start_time": "2021-11-06T09:07:07.225Z"
   },
   {
    "duration": 9,
    "start_time": "2021-11-06T09:07:07.239Z"
   },
   {
    "duration": 44,
    "start_time": "2021-11-06T09:07:07.250Z"
   },
   {
    "duration": 9,
    "start_time": "2021-11-06T09:07:07.296Z"
   },
   {
    "duration": 16,
    "start_time": "2021-11-06T09:07:07.307Z"
   },
   {
    "duration": 5,
    "start_time": "2021-11-06T09:07:07.324Z"
   },
   {
    "duration": 19,
    "start_time": "2021-11-06T09:07:07.330Z"
   },
   {
    "duration": 5,
    "start_time": "2021-11-06T09:07:07.350Z"
   },
   {
    "duration": 41,
    "start_time": "2021-11-06T09:07:07.356Z"
   },
   {
    "duration": 285,
    "start_time": "2021-11-06T09:07:07.398Z"
   },
   {
    "duration": 23,
    "start_time": "2021-11-06T09:07:07.684Z"
   },
   {
    "duration": 5,
    "start_time": "2021-11-06T09:07:07.708Z"
   },
   {
    "duration": 16,
    "start_time": "2021-11-06T09:07:07.715Z"
   },
   {
    "duration": 322,
    "start_time": "2021-11-06T09:07:07.732Z"
   },
   {
    "duration": 5,
    "start_time": "2021-11-06T09:07:08.055Z"
   },
   {
    "duration": 260,
    "start_time": "2021-11-06T09:07:08.063Z"
   },
   {
    "duration": 400,
    "start_time": "2021-11-06T09:07:08.325Z"
   },
   {
    "duration": 361,
    "start_time": "2021-11-06T09:07:08.727Z"
   },
   {
    "duration": 14,
    "start_time": "2021-11-06T09:07:09.090Z"
   },
   {
    "duration": 383,
    "start_time": "2021-11-06T09:07:09.105Z"
   },
   {
    "duration": 415,
    "start_time": "2021-11-06T09:07:09.491Z"
   },
   {
    "duration": 15,
    "start_time": "2021-11-06T09:07:09.907Z"
   },
   {
    "duration": 437,
    "start_time": "2021-11-06T09:07:09.924Z"
   },
   {
    "duration": 386,
    "start_time": "2021-11-06T09:07:10.362Z"
   },
   {
    "duration": 14,
    "start_time": "2021-11-06T09:07:10.750Z"
   },
   {
    "duration": 402,
    "start_time": "2021-11-06T09:07:10.766Z"
   },
   {
    "duration": 398,
    "start_time": "2021-11-06T09:07:11.170Z"
   },
   {
    "duration": 22,
    "start_time": "2021-11-06T09:07:11.570Z"
   },
   {
    "duration": 380,
    "start_time": "2021-11-06T09:07:11.594Z"
   },
   {
    "duration": 400,
    "start_time": "2021-11-06T09:07:11.976Z"
   },
   {
    "duration": 21,
    "start_time": "2021-11-06T09:07:12.378Z"
   },
   {
    "duration": 423,
    "start_time": "2021-11-06T09:07:12.400Z"
   },
   {
    "duration": 399,
    "start_time": "2021-11-06T09:07:12.825Z"
   },
   {
    "duration": 15,
    "start_time": "2021-11-06T09:07:13.226Z"
   },
   {
    "duration": 30,
    "start_time": "2021-11-06T09:07:13.242Z"
   },
   {
    "duration": 37,
    "start_time": "2021-11-06T09:07:13.273Z"
   },
   {
    "duration": 15,
    "start_time": "2021-11-06T09:07:13.312Z"
   },
   {
    "duration": 15,
    "start_time": "2021-11-06T09:07:13.328Z"
   },
   {
    "duration": 48,
    "start_time": "2021-11-06T09:07:13.345Z"
   },
   {
    "duration": 12,
    "start_time": "2021-11-06T09:07:13.395Z"
   },
   {
    "duration": 11,
    "start_time": "2021-11-06T09:07:13.408Z"
   },
   {
    "duration": 572,
    "start_time": "2021-11-06T09:22:47.633Z"
   },
   {
    "duration": 2770,
    "start_time": "2021-11-06T09:22:48.207Z"
   },
   {
    "duration": 2,
    "start_time": "2021-11-06T09:22:50.979Z"
   },
   {
    "duration": 38,
    "start_time": "2021-11-06T09:22:50.983Z"
   },
   {
    "duration": 9,
    "start_time": "2021-11-06T09:22:51.023Z"
   },
   {
    "duration": 8,
    "start_time": "2021-11-06T09:22:51.033Z"
   },
   {
    "duration": 3,
    "start_time": "2021-11-06T09:22:51.042Z"
   },
   {
    "duration": 5,
    "start_time": "2021-11-06T09:22:51.047Z"
   },
   {
    "duration": 38,
    "start_time": "2021-11-06T09:22:51.054Z"
   },
   {
    "duration": 4,
    "start_time": "2021-11-06T09:22:51.093Z"
   },
   {
    "duration": 6,
    "start_time": "2021-11-06T09:22:51.099Z"
   },
   {
    "duration": 12,
    "start_time": "2021-11-06T09:22:51.106Z"
   },
   {
    "duration": 7,
    "start_time": "2021-11-06T09:22:51.120Z"
   },
   {
    "duration": 7,
    "start_time": "2021-11-06T09:22:51.128Z"
   },
   {
    "duration": 7,
    "start_time": "2021-11-06T09:22:51.137Z"
   },
   {
    "duration": 48,
    "start_time": "2021-11-06T09:22:51.146Z"
   },
   {
    "duration": 5,
    "start_time": "2021-11-06T09:22:51.195Z"
   },
   {
    "duration": 20,
    "start_time": "2021-11-06T09:22:51.202Z"
   },
   {
    "duration": 5,
    "start_time": "2021-11-06T09:22:51.223Z"
   },
   {
    "duration": 13,
    "start_time": "2021-11-06T09:22:51.229Z"
   },
   {
    "duration": 321,
    "start_time": "2021-11-06T09:22:51.244Z"
   },
   {
    "duration": 30,
    "start_time": "2021-11-06T09:22:51.567Z"
   },
   {
    "duration": 5,
    "start_time": "2021-11-06T09:22:51.600Z"
   },
   {
    "duration": 17,
    "start_time": "2021-11-06T09:22:51.607Z"
   },
   {
    "duration": 322,
    "start_time": "2021-11-06T09:22:51.625Z"
   },
   {
    "duration": 5,
    "start_time": "2021-11-06T09:22:51.949Z"
   },
   {
    "duration": 254,
    "start_time": "2021-11-06T09:22:51.956Z"
   },
   {
    "duration": 415,
    "start_time": "2021-11-06T09:22:52.212Z"
   },
   {
    "duration": 359,
    "start_time": "2021-11-06T09:22:52.628Z"
   },
   {
    "duration": 14,
    "start_time": "2021-11-06T09:22:52.988Z"
   },
   {
    "duration": 389,
    "start_time": "2021-11-06T09:22:53.004Z"
   },
   {
    "duration": 402,
    "start_time": "2021-11-06T09:22:53.395Z"
   },
   {
    "duration": 14,
    "start_time": "2021-11-06T09:22:53.799Z"
   },
   {
    "duration": 438,
    "start_time": "2021-11-06T09:22:53.815Z"
   },
   {
    "duration": 364,
    "start_time": "2021-11-06T09:22:54.254Z"
   },
   {
    "duration": 15,
    "start_time": "2021-11-06T09:22:54.620Z"
   },
   {
    "duration": 364,
    "start_time": "2021-11-06T09:22:54.637Z"
   },
   {
    "duration": 376,
    "start_time": "2021-11-06T09:22:55.003Z"
   },
   {
    "duration": 16,
    "start_time": "2021-11-06T09:22:55.381Z"
   },
   {
    "duration": 394,
    "start_time": "2021-11-06T09:22:55.399Z"
   },
   {
    "duration": 393,
    "start_time": "2021-11-06T09:22:55.796Z"
   },
   {
    "duration": 16,
    "start_time": "2021-11-06T09:22:56.192Z"
   },
   {
    "duration": 392,
    "start_time": "2021-11-06T09:22:56.210Z"
   },
   {
    "duration": 393,
    "start_time": "2021-11-06T09:22:56.604Z"
   },
   {
    "duration": 15,
    "start_time": "2021-11-06T09:22:56.999Z"
   },
   {
    "duration": 29,
    "start_time": "2021-11-06T09:22:57.016Z"
   },
   {
    "duration": 19,
    "start_time": "2021-11-06T09:22:57.047Z"
   },
   {
    "duration": 37,
    "start_time": "2021-11-06T09:22:57.067Z"
   },
   {
    "duration": 15,
    "start_time": "2021-11-06T09:22:57.106Z"
   },
   {
    "duration": 15,
    "start_time": "2021-11-06T09:22:57.123Z"
   },
   {
    "duration": 10,
    "start_time": "2021-11-06T09:22:57.139Z"
   },
   {
    "duration": 41,
    "start_time": "2021-11-06T09:22:57.150Z"
   },
   {
    "duration": 3,
    "start_time": "2021-11-06T09:23:10.219Z"
   },
   {
    "duration": 388,
    "start_time": "2021-11-06T09:23:12.105Z"
   },
   {
    "duration": 396,
    "start_time": "2021-11-06T09:23:17.055Z"
   },
   {
    "duration": 3,
    "start_time": "2021-11-06T09:23:21.093Z"
   },
   {
    "duration": 366,
    "start_time": "2021-11-06T09:23:21.923Z"
   }
  ],
  "kernelspec": {
   "display_name": "Python 3 (ipykernel)",
   "language": "python",
   "name": "python3"
  },
  "language_info": {
   "codemirror_mode": {
    "name": "ipython",
    "version": 3
   },
   "file_extension": ".py",
   "mimetype": "text/x-python",
   "name": "python",
   "nbconvert_exporter": "python",
   "pygments_lexer": "ipython3",
   "version": "3.9.7"
  },
  "toc": {
   "base_numbering": 1,
   "nav_menu": {},
   "number_sections": true,
   "sideBar": true,
   "skip_h1_title": true,
   "title_cell": "Table of Contents",
   "title_sidebar": "Contents",
   "toc_cell": false,
   "toc_position": {},
   "toc_section_display": true,
   "toc_window_display": false
  }
 },
 "nbformat": 4,
 "nbformat_minor": 2
}
